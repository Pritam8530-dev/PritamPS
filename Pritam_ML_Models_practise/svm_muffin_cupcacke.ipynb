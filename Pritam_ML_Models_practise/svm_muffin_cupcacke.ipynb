{
 "cells": [
  {
   "cell_type": "markdown",
   "id": "e5ef4dd5",
   "metadata": {},
   "source": [
    "# Problem Statement : To predict muffins and cupcackes by svm"
   ]
  },
  {
   "cell_type": "markdown",
   "id": "2b171c1a",
   "metadata": {},
   "source": [
    "## 1. Import the libraries"
   ]
  },
  {
   "cell_type": "code",
   "execution_count": 278,
   "id": "b5aef062",
   "metadata": {},
   "outputs": [],
   "source": [
    "# Data Science librarry\n",
    "import numpy as np\n",
    "import pandas as pd\n",
    "import matplotlib.pyplot as plt\n",
    "import seaborn as sns ; sns.set(font_scale = 1.2)\n",
    "# To store plot\n",
    "%matplotlib inline\n",
    "\n",
    "from sklearn.model_selection import train_test_split\n",
    "from sklearn.preprocessing import LabelEncoder\n",
    "# machine learning repository\n",
    "from sklearn import svm\n",
    "# from repo import support vector classifier\n",
    "from sklearn.svm import SVC"
   ]
  },
  {
   "cell_type": "markdown",
   "id": "7504e52c",
   "metadata": {},
   "source": [
    "## 2. Data Collection / Import data set"
   ]
  },
  {
   "cell_type": "code",
   "execution_count": 279,
   "id": "21bd634d",
   "metadata": {},
   "outputs": [],
   "source": [
    "df = pd.read_csv('https://raw.githubusercontent.com/adashofdata/muffin-cupcake/master/recipes_muffins_cupcakes.csv')"
   ]
  },
  {
   "cell_type": "code",
   "execution_count": 280,
   "id": "21d025c1",
   "metadata": {},
   "outputs": [
    {
     "data": {
      "text/html": [
       "<div>\n",
       "<style scoped>\n",
       "    .dataframe tbody tr th:only-of-type {\n",
       "        vertical-align: middle;\n",
       "    }\n",
       "\n",
       "    .dataframe tbody tr th {\n",
       "        vertical-align: top;\n",
       "    }\n",
       "\n",
       "    .dataframe thead th {\n",
       "        text-align: right;\n",
       "    }\n",
       "</style>\n",
       "<table border=\"1\" class=\"dataframe\">\n",
       "  <thead>\n",
       "    <tr style=\"text-align: right;\">\n",
       "      <th></th>\n",
       "      <th>Type</th>\n",
       "      <th>Flour</th>\n",
       "      <th>Milk</th>\n",
       "      <th>Sugar</th>\n",
       "      <th>Butter</th>\n",
       "      <th>Egg</th>\n",
       "      <th>Baking Powder</th>\n",
       "      <th>Vanilla</th>\n",
       "      <th>Salt</th>\n",
       "    </tr>\n",
       "  </thead>\n",
       "  <tbody>\n",
       "    <tr>\n",
       "      <th>0</th>\n",
       "      <td>Muffin</td>\n",
       "      <td>55</td>\n",
       "      <td>28</td>\n",
       "      <td>3</td>\n",
       "      <td>7</td>\n",
       "      <td>5</td>\n",
       "      <td>2</td>\n",
       "      <td>0</td>\n",
       "      <td>0</td>\n",
       "    </tr>\n",
       "    <tr>\n",
       "      <th>1</th>\n",
       "      <td>Muffin</td>\n",
       "      <td>47</td>\n",
       "      <td>24</td>\n",
       "      <td>12</td>\n",
       "      <td>6</td>\n",
       "      <td>9</td>\n",
       "      <td>1</td>\n",
       "      <td>0</td>\n",
       "      <td>0</td>\n",
       "    </tr>\n",
       "    <tr>\n",
       "      <th>2</th>\n",
       "      <td>Muffin</td>\n",
       "      <td>47</td>\n",
       "      <td>23</td>\n",
       "      <td>18</td>\n",
       "      <td>6</td>\n",
       "      <td>4</td>\n",
       "      <td>1</td>\n",
       "      <td>0</td>\n",
       "      <td>0</td>\n",
       "    </tr>\n",
       "    <tr>\n",
       "      <th>3</th>\n",
       "      <td>Muffin</td>\n",
       "      <td>45</td>\n",
       "      <td>11</td>\n",
       "      <td>17</td>\n",
       "      <td>17</td>\n",
       "      <td>8</td>\n",
       "      <td>1</td>\n",
       "      <td>0</td>\n",
       "      <td>0</td>\n",
       "    </tr>\n",
       "    <tr>\n",
       "      <th>4</th>\n",
       "      <td>Muffin</td>\n",
       "      <td>50</td>\n",
       "      <td>25</td>\n",
       "      <td>12</td>\n",
       "      <td>6</td>\n",
       "      <td>5</td>\n",
       "      <td>2</td>\n",
       "      <td>1</td>\n",
       "      <td>0</td>\n",
       "    </tr>\n",
       "    <tr>\n",
       "      <th>5</th>\n",
       "      <td>Muffin</td>\n",
       "      <td>55</td>\n",
       "      <td>27</td>\n",
       "      <td>3</td>\n",
       "      <td>7</td>\n",
       "      <td>5</td>\n",
       "      <td>2</td>\n",
       "      <td>1</td>\n",
       "      <td>0</td>\n",
       "    </tr>\n",
       "    <tr>\n",
       "      <th>6</th>\n",
       "      <td>Muffin</td>\n",
       "      <td>54</td>\n",
       "      <td>27</td>\n",
       "      <td>7</td>\n",
       "      <td>5</td>\n",
       "      <td>5</td>\n",
       "      <td>2</td>\n",
       "      <td>0</td>\n",
       "      <td>0</td>\n",
       "    </tr>\n",
       "    <tr>\n",
       "      <th>7</th>\n",
       "      <td>Muffin</td>\n",
       "      <td>47</td>\n",
       "      <td>26</td>\n",
       "      <td>10</td>\n",
       "      <td>10</td>\n",
       "      <td>4</td>\n",
       "      <td>1</td>\n",
       "      <td>0</td>\n",
       "      <td>0</td>\n",
       "    </tr>\n",
       "    <tr>\n",
       "      <th>8</th>\n",
       "      <td>Muffin</td>\n",
       "      <td>50</td>\n",
       "      <td>17</td>\n",
       "      <td>17</td>\n",
       "      <td>8</td>\n",
       "      <td>6</td>\n",
       "      <td>1</td>\n",
       "      <td>0</td>\n",
       "      <td>0</td>\n",
       "    </tr>\n",
       "    <tr>\n",
       "      <th>9</th>\n",
       "      <td>Muffin</td>\n",
       "      <td>50</td>\n",
       "      <td>17</td>\n",
       "      <td>17</td>\n",
       "      <td>11</td>\n",
       "      <td>4</td>\n",
       "      <td>1</td>\n",
       "      <td>0</td>\n",
       "      <td>0</td>\n",
       "    </tr>\n",
       "    <tr>\n",
       "      <th>10</th>\n",
       "      <td>Cupcake</td>\n",
       "      <td>39</td>\n",
       "      <td>0</td>\n",
       "      <td>26</td>\n",
       "      <td>19</td>\n",
       "      <td>14</td>\n",
       "      <td>1</td>\n",
       "      <td>1</td>\n",
       "      <td>0</td>\n",
       "    </tr>\n",
       "    <tr>\n",
       "      <th>11</th>\n",
       "      <td>Cupcake</td>\n",
       "      <td>42</td>\n",
       "      <td>21</td>\n",
       "      <td>16</td>\n",
       "      <td>10</td>\n",
       "      <td>8</td>\n",
       "      <td>3</td>\n",
       "      <td>0</td>\n",
       "      <td>0</td>\n",
       "    </tr>\n",
       "    <tr>\n",
       "      <th>12</th>\n",
       "      <td>Cupcake</td>\n",
       "      <td>34</td>\n",
       "      <td>17</td>\n",
       "      <td>20</td>\n",
       "      <td>20</td>\n",
       "      <td>5</td>\n",
       "      <td>2</td>\n",
       "      <td>1</td>\n",
       "      <td>0</td>\n",
       "    </tr>\n",
       "    <tr>\n",
       "      <th>13</th>\n",
       "      <td>Cupcake</td>\n",
       "      <td>39</td>\n",
       "      <td>13</td>\n",
       "      <td>17</td>\n",
       "      <td>19</td>\n",
       "      <td>10</td>\n",
       "      <td>1</td>\n",
       "      <td>1</td>\n",
       "      <td>0</td>\n",
       "    </tr>\n",
       "    <tr>\n",
       "      <th>14</th>\n",
       "      <td>Cupcake</td>\n",
       "      <td>38</td>\n",
       "      <td>15</td>\n",
       "      <td>23</td>\n",
       "      <td>15</td>\n",
       "      <td>8</td>\n",
       "      <td>0</td>\n",
       "      <td>1</td>\n",
       "      <td>0</td>\n",
       "    </tr>\n",
       "    <tr>\n",
       "      <th>15</th>\n",
       "      <td>Cupcake</td>\n",
       "      <td>42</td>\n",
       "      <td>18</td>\n",
       "      <td>25</td>\n",
       "      <td>9</td>\n",
       "      <td>5</td>\n",
       "      <td>1</td>\n",
       "      <td>0</td>\n",
       "      <td>0</td>\n",
       "    </tr>\n",
       "    <tr>\n",
       "      <th>16</th>\n",
       "      <td>Cupcake</td>\n",
       "      <td>36</td>\n",
       "      <td>14</td>\n",
       "      <td>21</td>\n",
       "      <td>14</td>\n",
       "      <td>11</td>\n",
       "      <td>2</td>\n",
       "      <td>1</td>\n",
       "      <td>0</td>\n",
       "    </tr>\n",
       "    <tr>\n",
       "      <th>17</th>\n",
       "      <td>Cupcake</td>\n",
       "      <td>38</td>\n",
       "      <td>15</td>\n",
       "      <td>31</td>\n",
       "      <td>8</td>\n",
       "      <td>6</td>\n",
       "      <td>1</td>\n",
       "      <td>1</td>\n",
       "      <td>0</td>\n",
       "    </tr>\n",
       "    <tr>\n",
       "      <th>18</th>\n",
       "      <td>Cupcake</td>\n",
       "      <td>36</td>\n",
       "      <td>16</td>\n",
       "      <td>24</td>\n",
       "      <td>12</td>\n",
       "      <td>9</td>\n",
       "      <td>1</td>\n",
       "      <td>1</td>\n",
       "      <td>0</td>\n",
       "    </tr>\n",
       "    <tr>\n",
       "      <th>19</th>\n",
       "      <td>Cupcake</td>\n",
       "      <td>34</td>\n",
       "      <td>17</td>\n",
       "      <td>23</td>\n",
       "      <td>11</td>\n",
       "      <td>13</td>\n",
       "      <td>0</td>\n",
       "      <td>1</td>\n",
       "      <td>0</td>\n",
       "    </tr>\n",
       "  </tbody>\n",
       "</table>\n",
       "</div>"
      ],
      "text/plain": [
       "       Type  Flour  Milk  Sugar  Butter  Egg  Baking Powder  Vanilla  Salt\n",
       "0    Muffin     55    28      3       7    5              2        0     0\n",
       "1    Muffin     47    24     12       6    9              1        0     0\n",
       "2    Muffin     47    23     18       6    4              1        0     0\n",
       "3    Muffin     45    11     17      17    8              1        0     0\n",
       "4    Muffin     50    25     12       6    5              2        1     0\n",
       "5    Muffin     55    27      3       7    5              2        1     0\n",
       "6    Muffin     54    27      7       5    5              2        0     0\n",
       "7    Muffin     47    26     10      10    4              1        0     0\n",
       "8    Muffin     50    17     17       8    6              1        0     0\n",
       "9    Muffin     50    17     17      11    4              1        0     0\n",
       "10  Cupcake     39     0     26      19   14              1        1     0\n",
       "11  Cupcake     42    21     16      10    8              3        0     0\n",
       "12  Cupcake     34    17     20      20    5              2        1     0\n",
       "13  Cupcake     39    13     17      19   10              1        1     0\n",
       "14  Cupcake     38    15     23      15    8              0        1     0\n",
       "15  Cupcake     42    18     25       9    5              1        0     0\n",
       "16  Cupcake     36    14     21      14   11              2        1     0\n",
       "17  Cupcake     38    15     31       8    6              1        1     0\n",
       "18  Cupcake     36    16     24      12    9              1        1     0\n",
       "19  Cupcake     34    17     23      11   13              0        1     0"
      ]
     },
     "execution_count": 280,
     "metadata": {},
     "output_type": "execute_result"
    }
   ],
   "source": [
    "df"
   ]
  },
  {
   "cell_type": "markdown",
   "id": "97488f98",
   "metadata": {},
   "source": [
    "## 3.EDA\n"
   ]
  },
  {
   "cell_type": "code",
   "execution_count": null,
   "id": "71a085c1",
   "metadata": {},
   "outputs": [],
   "source": [
    "df.head(5)"
   ]
  },
  {
   "cell_type": "code",
   "execution_count": null,
   "id": "144bcb90",
   "metadata": {},
   "outputs": [],
   "source": [
    "df.tail(5)"
   ]
  },
  {
   "cell_type": "code",
   "execution_count": null,
   "id": "879256bc",
   "metadata": {},
   "outputs": [],
   "source": [
    "df.shape"
   ]
  },
  {
   "cell_type": "code",
   "execution_count": null,
   "id": "9fbab919",
   "metadata": {},
   "outputs": [],
   "source": [
    "df.size"
   ]
  },
  {
   "cell_type": "code",
   "execution_count": null,
   "id": "75481b86",
   "metadata": {},
   "outputs": [],
   "source": [
    "df.columns"
   ]
  },
  {
   "cell_type": "code",
   "execution_count": 205,
   "id": "bb5aa007",
   "metadata": {},
   "outputs": [
    {
     "name": "stdout",
     "output_type": "stream",
     "text": [
      "<class 'pandas.core.frame.DataFrame'>\n",
      "RangeIndex: 20 entries, 0 to 19\n",
      "Data columns (total 9 columns):\n",
      " #   Column         Non-Null Count  Dtype\n",
      "---  ------         --------------  -----\n",
      " 0   Type           20 non-null     int32\n",
      " 1   Flour          20 non-null     int64\n",
      " 2   Milk           20 non-null     int64\n",
      " 3   Sugar          20 non-null     int64\n",
      " 4   Butter         20 non-null     int64\n",
      " 5   Egg            20 non-null     int64\n",
      " 6   Baking Powder  20 non-null     int64\n",
      " 7   Vanilla        20 non-null     int64\n",
      " 8   Salt           20 non-null     int64\n",
      "dtypes: int32(1), int64(8)\n",
      "memory usage: 1.5 KB\n"
     ]
    }
   ],
   "source": [
    "df.info()"
   ]
  },
  {
   "cell_type": "code",
   "execution_count": 206,
   "id": "6a55b6e7",
   "metadata": {},
   "outputs": [
    {
     "data": {
      "text/plain": [
       "Type             0\n",
       "Flour            0\n",
       "Milk             0\n",
       "Sugar            0\n",
       "Butter           0\n",
       "Egg              0\n",
       "Baking Powder    0\n",
       "Vanilla          0\n",
       "Salt             0\n",
       "dtype: int64"
      ]
     },
     "execution_count": 206,
     "metadata": {},
     "output_type": "execute_result"
    }
   ],
   "source": [
    "df.isna().sum()"
   ]
  },
  {
   "cell_type": "code",
   "execution_count": 207,
   "id": "c464ac81",
   "metadata": {},
   "outputs": [
    {
     "data": {
      "text/html": [
       "<div>\n",
       "<style scoped>\n",
       "    .dataframe tbody tr th:only-of-type {\n",
       "        vertical-align: middle;\n",
       "    }\n",
       "\n",
       "    .dataframe tbody tr th {\n",
       "        vertical-align: top;\n",
       "    }\n",
       "\n",
       "    .dataframe thead th {\n",
       "        text-align: right;\n",
       "    }\n",
       "</style>\n",
       "<table border=\"1\" class=\"dataframe\">\n",
       "  <thead>\n",
       "    <tr style=\"text-align: right;\">\n",
       "      <th></th>\n",
       "      <th>Type</th>\n",
       "      <th>Flour</th>\n",
       "      <th>Milk</th>\n",
       "      <th>Sugar</th>\n",
       "      <th>Butter</th>\n",
       "      <th>Egg</th>\n",
       "      <th>Baking Powder</th>\n",
       "      <th>Vanilla</th>\n",
       "      <th>Salt</th>\n",
       "    </tr>\n",
       "  </thead>\n",
       "  <tbody>\n",
       "    <tr>\n",
       "      <th>count</th>\n",
       "      <td>20.000000</td>\n",
       "      <td>20.000000</td>\n",
       "      <td>20.000000</td>\n",
       "      <td>20.000000</td>\n",
       "      <td>20.000000</td>\n",
       "      <td>20.000000</td>\n",
       "      <td>20.000000</td>\n",
       "      <td>20.000000</td>\n",
       "      <td>20.0</td>\n",
       "    </tr>\n",
       "    <tr>\n",
       "      <th>mean</th>\n",
       "      <td>0.500000</td>\n",
       "      <td>43.900000</td>\n",
       "      <td>18.550000</td>\n",
       "      <td>17.100000</td>\n",
       "      <td>11.000000</td>\n",
       "      <td>7.200000</td>\n",
       "      <td>1.300000</td>\n",
       "      <td>0.500000</td>\n",
       "      <td>0.0</td>\n",
       "    </tr>\n",
       "    <tr>\n",
       "      <th>std</th>\n",
       "      <td>0.512989</td>\n",
       "      <td>7.018022</td>\n",
       "      <td>6.801509</td>\n",
       "      <td>7.538672</td>\n",
       "      <td>4.801316</td>\n",
       "      <td>3.019237</td>\n",
       "      <td>0.732695</td>\n",
       "      <td>0.512989</td>\n",
       "      <td>0.0</td>\n",
       "    </tr>\n",
       "    <tr>\n",
       "      <th>min</th>\n",
       "      <td>0.000000</td>\n",
       "      <td>34.000000</td>\n",
       "      <td>0.000000</td>\n",
       "      <td>3.000000</td>\n",
       "      <td>5.000000</td>\n",
       "      <td>4.000000</td>\n",
       "      <td>0.000000</td>\n",
       "      <td>0.000000</td>\n",
       "      <td>0.0</td>\n",
       "    </tr>\n",
       "    <tr>\n",
       "      <th>25%</th>\n",
       "      <td>0.000000</td>\n",
       "      <td>38.000000</td>\n",
       "      <td>15.000000</td>\n",
       "      <td>12.000000</td>\n",
       "      <td>7.000000</td>\n",
       "      <td>5.000000</td>\n",
       "      <td>1.000000</td>\n",
       "      <td>0.000000</td>\n",
       "      <td>0.0</td>\n",
       "    </tr>\n",
       "    <tr>\n",
       "      <th>50%</th>\n",
       "      <td>0.500000</td>\n",
       "      <td>43.500000</td>\n",
       "      <td>17.000000</td>\n",
       "      <td>17.000000</td>\n",
       "      <td>10.000000</td>\n",
       "      <td>6.000000</td>\n",
       "      <td>1.000000</td>\n",
       "      <td>0.500000</td>\n",
       "      <td>0.0</td>\n",
       "    </tr>\n",
       "    <tr>\n",
       "      <th>75%</th>\n",
       "      <td>1.000000</td>\n",
       "      <td>50.000000</td>\n",
       "      <td>24.250000</td>\n",
       "      <td>23.000000</td>\n",
       "      <td>14.250000</td>\n",
       "      <td>9.000000</td>\n",
       "      <td>2.000000</td>\n",
       "      <td>1.000000</td>\n",
       "      <td>0.0</td>\n",
       "    </tr>\n",
       "    <tr>\n",
       "      <th>max</th>\n",
       "      <td>1.000000</td>\n",
       "      <td>55.000000</td>\n",
       "      <td>28.000000</td>\n",
       "      <td>31.000000</td>\n",
       "      <td>20.000000</td>\n",
       "      <td>14.000000</td>\n",
       "      <td>3.000000</td>\n",
       "      <td>1.000000</td>\n",
       "      <td>0.0</td>\n",
       "    </tr>\n",
       "  </tbody>\n",
       "</table>\n",
       "</div>"
      ],
      "text/plain": [
       "            Type      Flour       Milk      Sugar     Butter        Egg  \\\n",
       "count  20.000000  20.000000  20.000000  20.000000  20.000000  20.000000   \n",
       "mean    0.500000  43.900000  18.550000  17.100000  11.000000   7.200000   \n",
       "std     0.512989   7.018022   6.801509   7.538672   4.801316   3.019237   \n",
       "min     0.000000  34.000000   0.000000   3.000000   5.000000   4.000000   \n",
       "25%     0.000000  38.000000  15.000000  12.000000   7.000000   5.000000   \n",
       "50%     0.500000  43.500000  17.000000  17.000000  10.000000   6.000000   \n",
       "75%     1.000000  50.000000  24.250000  23.000000  14.250000   9.000000   \n",
       "max     1.000000  55.000000  28.000000  31.000000  20.000000  14.000000   \n",
       "\n",
       "       Baking Powder    Vanilla  Salt  \n",
       "count      20.000000  20.000000  20.0  \n",
       "mean        1.300000   0.500000   0.0  \n",
       "std         0.732695   0.512989   0.0  \n",
       "min         0.000000   0.000000   0.0  \n",
       "25%         1.000000   0.000000   0.0  \n",
       "50%         1.000000   0.500000   0.0  \n",
       "75%         2.000000   1.000000   0.0  \n",
       "max         3.000000   1.000000   0.0  "
      ]
     },
     "execution_count": 207,
     "metadata": {},
     "output_type": "execute_result"
    }
   ],
   "source": [
    "df.describe()"
   ]
  },
  {
   "cell_type": "code",
   "execution_count": 208,
   "id": "4a067a87",
   "metadata": {},
   "outputs": [
    {
     "data": {
      "text/html": [
       "<div>\n",
       "<style scoped>\n",
       "    .dataframe tbody tr th:only-of-type {\n",
       "        vertical-align: middle;\n",
       "    }\n",
       "\n",
       "    .dataframe tbody tr th {\n",
       "        vertical-align: top;\n",
       "    }\n",
       "\n",
       "    .dataframe thead th {\n",
       "        text-align: right;\n",
       "    }\n",
       "</style>\n",
       "<table border=\"1\" class=\"dataframe\">\n",
       "  <thead>\n",
       "    <tr style=\"text-align: right;\">\n",
       "      <th></th>\n",
       "      <th>Type</th>\n",
       "      <th>Flour</th>\n",
       "      <th>Milk</th>\n",
       "      <th>Sugar</th>\n",
       "      <th>Butter</th>\n",
       "      <th>Egg</th>\n",
       "      <th>Baking Powder</th>\n",
       "      <th>Vanilla</th>\n",
       "      <th>Salt</th>\n",
       "    </tr>\n",
       "  </thead>\n",
       "  <tbody>\n",
       "    <tr>\n",
       "      <th>Type</th>\n",
       "      <td>1.000000</td>\n",
       "      <td>0.891771</td>\n",
       "      <td>0.595840</td>\n",
       "      <td>-0.748525</td>\n",
       "      <td>-0.576955</td>\n",
       "      <td>-0.577684</td>\n",
       "      <td>0.140028</td>\n",
       "      <td>-0.600000</td>\n",
       "      <td>NaN</td>\n",
       "    </tr>\n",
       "    <tr>\n",
       "      <th>Flour</th>\n",
       "      <td>0.891771</td>\n",
       "      <td>1.000000</td>\n",
       "      <td>0.653965</td>\n",
       "      <td>-0.823497</td>\n",
       "      <td>-0.663835</td>\n",
       "      <td>-0.612530</td>\n",
       "      <td>0.333677</td>\n",
       "      <td>-0.584768</td>\n",
       "      <td>NaN</td>\n",
       "    </tr>\n",
       "    <tr>\n",
       "      <th>Milk</th>\n",
       "      <td>0.595840</td>\n",
       "      <td>0.653965</td>\n",
       "      <td>1.000000</td>\n",
       "      <td>-0.756611</td>\n",
       "      <td>-0.773610</td>\n",
       "      <td>-0.677137</td>\n",
       "      <td>0.387600</td>\n",
       "      <td>-0.399741</td>\n",
       "      <td>NaN</td>\n",
       "    </tr>\n",
       "    <tr>\n",
       "      <th>Sugar</th>\n",
       "      <td>-0.748525</td>\n",
       "      <td>-0.823497</td>\n",
       "      <td>-0.756611</td>\n",
       "      <td>1.000000</td>\n",
       "      <td>0.449314</td>\n",
       "      <td>0.443047</td>\n",
       "      <td>-0.482146</td>\n",
       "      <td>0.394677</td>\n",
       "      <td>NaN</td>\n",
       "    </tr>\n",
       "    <tr>\n",
       "      <th>Butter</th>\n",
       "      <td>-0.576955</td>\n",
       "      <td>-0.663835</td>\n",
       "      <td>-0.773610</td>\n",
       "      <td>0.449314</td>\n",
       "      <td>1.000000</td>\n",
       "      <td>0.511927</td>\n",
       "      <td>-0.194494</td>\n",
       "      <td>0.448743</td>\n",
       "      <td>NaN</td>\n",
       "    </tr>\n",
       "    <tr>\n",
       "      <th>Egg</th>\n",
       "      <td>-0.577684</td>\n",
       "      <td>-0.612530</td>\n",
       "      <td>-0.677137</td>\n",
       "      <td>0.443047</td>\n",
       "      <td>0.511927</td>\n",
       "      <td>1.000000</td>\n",
       "      <td>-0.290259</td>\n",
       "      <td>0.475739</td>\n",
       "      <td>NaN</td>\n",
       "    </tr>\n",
       "    <tr>\n",
       "      <th>Baking Powder</th>\n",
       "      <td>0.140028</td>\n",
       "      <td>0.333677</td>\n",
       "      <td>0.387600</td>\n",
       "      <td>-0.482146</td>\n",
       "      <td>-0.194494</td>\n",
       "      <td>-0.290259</td>\n",
       "      <td>1.000000</td>\n",
       "      <td>-0.140028</td>\n",
       "      <td>NaN</td>\n",
       "    </tr>\n",
       "    <tr>\n",
       "      <th>Vanilla</th>\n",
       "      <td>-0.600000</td>\n",
       "      <td>-0.584768</td>\n",
       "      <td>-0.399741</td>\n",
       "      <td>0.394677</td>\n",
       "      <td>0.448743</td>\n",
       "      <td>0.475739</td>\n",
       "      <td>-0.140028</td>\n",
       "      <td>1.000000</td>\n",
       "      <td>NaN</td>\n",
       "    </tr>\n",
       "    <tr>\n",
       "      <th>Salt</th>\n",
       "      <td>NaN</td>\n",
       "      <td>NaN</td>\n",
       "      <td>NaN</td>\n",
       "      <td>NaN</td>\n",
       "      <td>NaN</td>\n",
       "      <td>NaN</td>\n",
       "      <td>NaN</td>\n",
       "      <td>NaN</td>\n",
       "      <td>NaN</td>\n",
       "    </tr>\n",
       "  </tbody>\n",
       "</table>\n",
       "</div>"
      ],
      "text/plain": [
       "                   Type     Flour      Milk     Sugar    Butter       Egg  \\\n",
       "Type           1.000000  0.891771  0.595840 -0.748525 -0.576955 -0.577684   \n",
       "Flour          0.891771  1.000000  0.653965 -0.823497 -0.663835 -0.612530   \n",
       "Milk           0.595840  0.653965  1.000000 -0.756611 -0.773610 -0.677137   \n",
       "Sugar         -0.748525 -0.823497 -0.756611  1.000000  0.449314  0.443047   \n",
       "Butter        -0.576955 -0.663835 -0.773610  0.449314  1.000000  0.511927   \n",
       "Egg           -0.577684 -0.612530 -0.677137  0.443047  0.511927  1.000000   \n",
       "Baking Powder  0.140028  0.333677  0.387600 -0.482146 -0.194494 -0.290259   \n",
       "Vanilla       -0.600000 -0.584768 -0.399741  0.394677  0.448743  0.475739   \n",
       "Salt                NaN       NaN       NaN       NaN       NaN       NaN   \n",
       "\n",
       "               Baking Powder   Vanilla  Salt  \n",
       "Type                0.140028 -0.600000   NaN  \n",
       "Flour               0.333677 -0.584768   NaN  \n",
       "Milk                0.387600 -0.399741   NaN  \n",
       "Sugar              -0.482146  0.394677   NaN  \n",
       "Butter             -0.194494  0.448743   NaN  \n",
       "Egg                -0.290259  0.475739   NaN  \n",
       "Baking Powder       1.000000 -0.140028   NaN  \n",
       "Vanilla            -0.140028  1.000000   NaN  \n",
       "Salt                     NaN       NaN   NaN  "
      ]
     },
     "execution_count": 208,
     "metadata": {},
     "output_type": "execute_result"
    }
   ],
   "source": [
    "df.corr()"
   ]
  },
  {
   "cell_type": "code",
   "execution_count": 209,
   "id": "b9701b1a",
   "metadata": {},
   "outputs": [
    {
     "data": {
      "text/plain": [
       "0"
      ]
     },
     "execution_count": 209,
     "metadata": {},
     "output_type": "execute_result"
    }
   ],
   "source": [
    "df.duplicated().sum()"
   ]
  },
  {
   "cell_type": "code",
   "execution_count": 210,
   "id": "e7a6137c",
   "metadata": {},
   "outputs": [
    {
     "data": {
      "text/plain": [
       "Type             0.000000\n",
       "Flour            0.160854\n",
       "Milk            -0.781098\n",
       "Sugar           -0.348605\n",
       "Butter           0.675233\n",
       "Egg              0.921981\n",
       "Baking Powder    0.338976\n",
       "Vanilla          0.000000\n",
       "Salt             0.000000\n",
       "dtype: float64"
      ]
     },
     "execution_count": 210,
     "metadata": {},
     "output_type": "execute_result"
    }
   ],
   "source": [
    "df.skew()"
   ]
  },
  {
   "cell_type": "code",
   "execution_count": 211,
   "id": "6226aaf8",
   "metadata": {},
   "outputs": [
    {
     "data": {
      "text/plain": [
       "Type             int32\n",
       "Flour            int64\n",
       "Milk             int64\n",
       "Sugar            int64\n",
       "Butter           int64\n",
       "Egg              int64\n",
       "Baking Powder    int64\n",
       "Vanilla          int64\n",
       "Salt             int64\n",
       "dtype: object"
      ]
     },
     "execution_count": 211,
     "metadata": {},
     "output_type": "execute_result"
    }
   ],
   "source": [
    "df.dtypes"
   ]
  },
  {
   "cell_type": "markdown",
   "id": "b1c0f72b",
   "metadata": {},
   "source": [
    "## Data Visualisation"
   ]
  },
  {
   "cell_type": "code",
   "execution_count": 212,
   "id": "9f377a1b",
   "metadata": {},
   "outputs": [
    {
     "data": {
      "text/plain": [
       "1    10\n",
       "0    10\n",
       "Name: Type, dtype: int64"
      ]
     },
     "execution_count": 212,
     "metadata": {},
     "output_type": "execute_result"
    }
   ],
   "source": [
    "df['Type'].value_counts()"
   ]
  },
  {
   "cell_type": "code",
   "execution_count": 213,
   "id": "1d7c5cfc",
   "metadata": {},
   "outputs": [],
   "source": [
    "label = df['Type'].value_counts().index"
   ]
  },
  {
   "cell_type": "code",
   "execution_count": 214,
   "id": "ca49319d",
   "metadata": {},
   "outputs": [
    {
     "data": {
      "text/plain": [
       "Int64Index([1, 0], dtype='int64')"
      ]
     },
     "execution_count": 214,
     "metadata": {},
     "output_type": "execute_result"
    }
   ],
   "source": [
    "label"
   ]
  },
  {
   "cell_type": "code",
   "execution_count": 215,
   "id": "39381263",
   "metadata": {},
   "outputs": [
    {
     "data": {
      "text/plain": [
       "1    10\n",
       "0    10\n",
       "Name: Type, dtype: int64"
      ]
     },
     "execution_count": 215,
     "metadata": {},
     "output_type": "execute_result"
    }
   ],
   "source": [
    "df['Type'].value_counts()"
   ]
  },
  {
   "cell_type": "code",
   "execution_count": 216,
   "id": "43055cbd",
   "metadata": {},
   "outputs": [
    {
     "name": "stderr",
     "output_type": "stream",
     "text": [
      "C:\\Users\\Pritam\\anaconda3\\lib\\site-packages\\seaborn\\_decorators.py:36: FutureWarning: Pass the following variable as a keyword arg: x. From version 0.12, the only valid positional argument will be `data`, and passing other arguments without an explicit keyword will result in an error or misinterpretation.\n",
      "  warnings.warn(\n"
     ]
    },
    {
     "data": {
      "text/plain": [
       "<AxesSubplot:xlabel='Type', ylabel='count'>"
      ]
     },
     "execution_count": 216,
     "metadata": {},
     "output_type": "execute_result"
    },
    {
     "data": {
      "image/png": "[encoded data removed]",
      "text/plain": [
       "<Figure size 432x288 with 1 Axes>"
      ]
     },
     "metadata": {
      "needs_background": "light"
     },
     "output_type": "display_data"
    }
   ],
   "source": [
    "sns.countplot(df['Type'])"
   ]
  },
  {
   "cell_type": "code",
   "execution_count": null,
   "id": "b898b674",
   "metadata": {},
   "outputs": [],
   "source": []
  },
  {
   "cell_type": "code",
   "execution_count": 217,
   "id": "333878d8",
   "metadata": {},
   "outputs": [],
   "source": [
    "value = df['Type'].value_counts().values"
   ]
  },
  {
   "cell_type": "code",
   "execution_count": 218,
   "id": "b2246d33",
   "metadata": {},
   "outputs": [
    {
     "data": {
      "text/plain": [
       "array([10, 10], dtype=int64)"
      ]
     },
     "execution_count": 218,
     "metadata": {},
     "output_type": "execute_result"
    }
   ],
   "source": [
    "value"
   ]
  },
  {
   "cell_type": "code",
   "execution_count": 219,
   "id": "8f36dbc2",
   "metadata": {},
   "outputs": [
    {
     "data": {
      "text/plain": [
       "([<matplotlib.patches.Wedge at 0x23eb65dd370>,\n",
       "  <matplotlib.patches.Wedge at 0x23eb65ddd60>],\n",
       " [Text(7.960204194457797e-17, 1.3, '1'),\n",
       "  Text(-2.0206672185931328e-16, -1.1, '0')],\n",
       " [Text(4.898587196589413e-17, 0.8, '50%'),\n",
       "  Text(-1.1021821192326178e-16, -0.6, '50%')])"
      ]
     },
     "execution_count": 219,
     "metadata": {},
     "output_type": "execute_result"
    },
    {
     "data": {
      "image/png": "[encoded data removed]",
      "text/plain": [
       "<Figure size 432x288 with 1 Axes>"
      ]
     },
     "metadata": {},
     "output_type": "display_data"
    }
   ],
   "source": [
    "\n",
    "plt.pie(value ,\n",
    "    explode=(0.2, 0),\n",
    "    labels=label,\n",
    "    colors=['magenta','pink'],\n",
    "    autopct='%1.0f%%',\n",
    "    pctdistance=0.6,\n",
    "    shadow=True,\n",
    "    labeldistance=1.1,\n",
    "    startangle=0,\n",
    "    radius=1,\n",
    "    counterclock=True,\n",
    "    wedgeprops=None,\n",
    "    textprops=None,\n",
    "    center=(0, 0),\n",
    "    frame=False,\n",
    "    rotatelabels=False,\n",
    "    normalize=None,\n",
    "    data=None)"
   ]
  },
  {
   "cell_type": "markdown",
   "id": "3cdb286b",
   "metadata": {},
   "source": [
    "## Feature Selection plot"
   ]
  },
  {
   "cell_type": "code",
   "execution_count": 220,
   "id": "a226825a",
   "metadata": {},
   "outputs": [],
   "source": [
    "from sklearn.ensemble import ExtraTreesClassifier"
   ]
  },
  {
   "cell_type": "code",
   "execution_count": 221,
   "id": "9fb7f4d2",
   "metadata": {},
   "outputs": [],
   "source": [
    "model_f = ExtraTreesClassifier()"
   ]
  },
  {
   "cell_type": "code",
   "execution_count": 222,
   "id": "a7ff75b9",
   "metadata": {},
   "outputs": [],
   "source": [
    "label = LabelEncoder()"
   ]
  },
  {
   "cell_type": "code",
   "execution_count": 223,
   "id": "0b3abcd8",
   "metadata": {},
   "outputs": [],
   "source": [
    "df['Type'] = label.fit_transform(df['Type'])"
   ]
  },
  {
   "cell_type": "code",
   "execution_count": 224,
   "id": "ecec54ee",
   "metadata": {},
   "outputs": [
    {
     "data": {
      "text/html": [
       "<div>\n",
       "<style scoped>\n",
       "    .dataframe tbody tr th:only-of-type {\n",
       "        vertical-align: middle;\n",
       "    }\n",
       "\n",
       "    .dataframe tbody tr th {\n",
       "        vertical-align: top;\n",
       "    }\n",
       "\n",
       "    .dataframe thead th {\n",
       "        text-align: right;\n",
       "    }\n",
       "</style>\n",
       "<table border=\"1\" class=\"dataframe\">\n",
       "  <thead>\n",
       "    <tr style=\"text-align: right;\">\n",
       "      <th></th>\n",
       "      <th>Type</th>\n",
       "      <th>Flour</th>\n",
       "      <th>Milk</th>\n",
       "      <th>Sugar</th>\n",
       "      <th>Butter</th>\n",
       "      <th>Egg</th>\n",
       "      <th>Baking Powder</th>\n",
       "      <th>Vanilla</th>\n",
       "      <th>Salt</th>\n",
       "    </tr>\n",
       "  </thead>\n",
       "  <tbody>\n",
       "    <tr>\n",
       "      <th>0</th>\n",
       "      <td>1</td>\n",
       "      <td>55</td>\n",
       "      <td>28</td>\n",
       "      <td>3</td>\n",
       "      <td>7</td>\n",
       "      <td>5</td>\n",
       "      <td>2</td>\n",
       "      <td>0</td>\n",
       "      <td>0</td>\n",
       "    </tr>\n",
       "    <tr>\n",
       "      <th>1</th>\n",
       "      <td>1</td>\n",
       "      <td>47</td>\n",
       "      <td>24</td>\n",
       "      <td>12</td>\n",
       "      <td>6</td>\n",
       "      <td>9</td>\n",
       "      <td>1</td>\n",
       "      <td>0</td>\n",
       "      <td>0</td>\n",
       "    </tr>\n",
       "    <tr>\n",
       "      <th>2</th>\n",
       "      <td>1</td>\n",
       "      <td>47</td>\n",
       "      <td>23</td>\n",
       "      <td>18</td>\n",
       "      <td>6</td>\n",
       "      <td>4</td>\n",
       "      <td>1</td>\n",
       "      <td>0</td>\n",
       "      <td>0</td>\n",
       "    </tr>\n",
       "    <tr>\n",
       "      <th>3</th>\n",
       "      <td>1</td>\n",
       "      <td>45</td>\n",
       "      <td>11</td>\n",
       "      <td>17</td>\n",
       "      <td>17</td>\n",
       "      <td>8</td>\n",
       "      <td>1</td>\n",
       "      <td>0</td>\n",
       "      <td>0</td>\n",
       "    </tr>\n",
       "    <tr>\n",
       "      <th>4</th>\n",
       "      <td>1</td>\n",
       "      <td>50</td>\n",
       "      <td>25</td>\n",
       "      <td>12</td>\n",
       "      <td>6</td>\n",
       "      <td>5</td>\n",
       "      <td>2</td>\n",
       "      <td>1</td>\n",
       "      <td>0</td>\n",
       "    </tr>\n",
       "    <tr>\n",
       "      <th>5</th>\n",
       "      <td>1</td>\n",
       "      <td>55</td>\n",
       "      <td>27</td>\n",
       "      <td>3</td>\n",
       "      <td>7</td>\n",
       "      <td>5</td>\n",
       "      <td>2</td>\n",
       "      <td>1</td>\n",
       "      <td>0</td>\n",
       "    </tr>\n",
       "    <tr>\n",
       "      <th>6</th>\n",
       "      <td>1</td>\n",
       "      <td>54</td>\n",
       "      <td>27</td>\n",
       "      <td>7</td>\n",
       "      <td>5</td>\n",
       "      <td>5</td>\n",
       "      <td>2</td>\n",
       "      <td>0</td>\n",
       "      <td>0</td>\n",
       "    </tr>\n",
       "    <tr>\n",
       "      <th>7</th>\n",
       "      <td>1</td>\n",
       "      <td>47</td>\n",
       "      <td>26</td>\n",
       "      <td>10</td>\n",
       "      <td>10</td>\n",
       "      <td>4</td>\n",
       "      <td>1</td>\n",
       "      <td>0</td>\n",
       "      <td>0</td>\n",
       "    </tr>\n",
       "    <tr>\n",
       "      <th>8</th>\n",
       "      <td>1</td>\n",
       "      <td>50</td>\n",
       "      <td>17</td>\n",
       "      <td>17</td>\n",
       "      <td>8</td>\n",
       "      <td>6</td>\n",
       "      <td>1</td>\n",
       "      <td>0</td>\n",
       "      <td>0</td>\n",
       "    </tr>\n",
       "    <tr>\n",
       "      <th>9</th>\n",
       "      <td>1</td>\n",
       "      <td>50</td>\n",
       "      <td>17</td>\n",
       "      <td>17</td>\n",
       "      <td>11</td>\n",
       "      <td>4</td>\n",
       "      <td>1</td>\n",
       "      <td>0</td>\n",
       "      <td>0</td>\n",
       "    </tr>\n",
       "    <tr>\n",
       "      <th>10</th>\n",
       "      <td>0</td>\n",
       "      <td>39</td>\n",
       "      <td>0</td>\n",
       "      <td>26</td>\n",
       "      <td>19</td>\n",
       "      <td>14</td>\n",
       "      <td>1</td>\n",
       "      <td>1</td>\n",
       "      <td>0</td>\n",
       "    </tr>\n",
       "    <tr>\n",
       "      <th>11</th>\n",
       "      <td>0</td>\n",
       "      <td>42</td>\n",
       "      <td>21</td>\n",
       "      <td>16</td>\n",
       "      <td>10</td>\n",
       "      <td>8</td>\n",
       "      <td>3</td>\n",
       "      <td>0</td>\n",
       "      <td>0</td>\n",
       "    </tr>\n",
       "    <tr>\n",
       "      <th>12</th>\n",
       "      <td>0</td>\n",
       "      <td>34</td>\n",
       "      <td>17</td>\n",
       "      <td>20</td>\n",
       "      <td>20</td>\n",
       "      <td>5</td>\n",
       "      <td>2</td>\n",
       "      <td>1</td>\n",
       "      <td>0</td>\n",
       "    </tr>\n",
       "    <tr>\n",
       "      <th>13</th>\n",
       "      <td>0</td>\n",
       "      <td>39</td>\n",
       "      <td>13</td>\n",
       "      <td>17</td>\n",
       "      <td>19</td>\n",
       "      <td>10</td>\n",
       "      <td>1</td>\n",
       "      <td>1</td>\n",
       "      <td>0</td>\n",
       "    </tr>\n",
       "    <tr>\n",
       "      <th>14</th>\n",
       "      <td>0</td>\n",
       "      <td>38</td>\n",
       "      <td>15</td>\n",
       "      <td>23</td>\n",
       "      <td>15</td>\n",
       "      <td>8</td>\n",
       "      <td>0</td>\n",
       "      <td>1</td>\n",
       "      <td>0</td>\n",
       "    </tr>\n",
       "    <tr>\n",
       "      <th>15</th>\n",
       "      <td>0</td>\n",
       "      <td>42</td>\n",
       "      <td>18</td>\n",
       "      <td>25</td>\n",
       "      <td>9</td>\n",
       "      <td>5</td>\n",
       "      <td>1</td>\n",
       "      <td>0</td>\n",
       "      <td>0</td>\n",
       "    </tr>\n",
       "    <tr>\n",
       "      <th>16</th>\n",
       "      <td>0</td>\n",
       "      <td>36</td>\n",
       "      <td>14</td>\n",
       "      <td>21</td>\n",
       "      <td>14</td>\n",
       "      <td>11</td>\n",
       "      <td>2</td>\n",
       "      <td>1</td>\n",
       "      <td>0</td>\n",
       "    </tr>\n",
       "    <tr>\n",
       "      <th>17</th>\n",
       "      <td>0</td>\n",
       "      <td>38</td>\n",
       "      <td>15</td>\n",
       "      <td>31</td>\n",
       "      <td>8</td>\n",
       "      <td>6</td>\n",
       "      <td>1</td>\n",
       "      <td>1</td>\n",
       "      <td>0</td>\n",
       "    </tr>\n",
       "    <tr>\n",
       "      <th>18</th>\n",
       "      <td>0</td>\n",
       "      <td>36</td>\n",
       "      <td>16</td>\n",
       "      <td>24</td>\n",
       "      <td>12</td>\n",
       "      <td>9</td>\n",
       "      <td>1</td>\n",
       "      <td>1</td>\n",
       "      <td>0</td>\n",
       "    </tr>\n",
       "    <tr>\n",
       "      <th>19</th>\n",
       "      <td>0</td>\n",
       "      <td>34</td>\n",
       "      <td>17</td>\n",
       "      <td>23</td>\n",
       "      <td>11</td>\n",
       "      <td>13</td>\n",
       "      <td>0</td>\n",
       "      <td>1</td>\n",
       "      <td>0</td>\n",
       "    </tr>\n",
       "  </tbody>\n",
       "</table>\n",
       "</div>"
      ],
      "text/plain": [
       "    Type  Flour  Milk  Sugar  Butter  Egg  Baking Powder  Vanilla  Salt\n",
       "0      1     55    28      3       7    5              2        0     0\n",
       "1      1     47    24     12       6    9              1        0     0\n",
       "2      1     47    23     18       6    4              1        0     0\n",
       "3      1     45    11     17      17    8              1        0     0\n",
       "4      1     50    25     12       6    5              2        1     0\n",
       "5      1     55    27      3       7    5              2        1     0\n",
       "6      1     54    27      7       5    5              2        0     0\n",
       "7      1     47    26     10      10    4              1        0     0\n",
       "8      1     50    17     17       8    6              1        0     0\n",
       "9      1     50    17     17      11    4              1        0     0\n",
       "10     0     39     0     26      19   14              1        1     0\n",
       "11     0     42    21     16      10    8              3        0     0\n",
       "12     0     34    17     20      20    5              2        1     0\n",
       "13     0     39    13     17      19   10              1        1     0\n",
       "14     0     38    15     23      15    8              0        1     0\n",
       "15     0     42    18     25       9    5              1        0     0\n",
       "16     0     36    14     21      14   11              2        1     0\n",
       "17     0     38    15     31       8    6              1        1     0\n",
       "18     0     36    16     24      12    9              1        1     0\n",
       "19     0     34    17     23      11   13              0        1     0"
      ]
     },
     "execution_count": 224,
     "metadata": {},
     "output_type": "execute_result"
    }
   ],
   "source": [
    "df"
   ]
  },
  {
   "cell_type": "code",
   "execution_count": null,
   "id": "ebeac51c",
   "metadata": {},
   "outputs": [],
   "source": []
  },
  {
   "cell_type": "code",
   "execution_count": null,
   "id": "5190c649",
   "metadata": {},
   "outputs": [],
   "source": []
  },
  {
   "cell_type": "code",
   "execution_count": null,
   "id": "b7653aff",
   "metadata": {},
   "outputs": [],
   "source": []
  },
  {
   "cell_type": "code",
   "execution_count": 225,
   "id": "b5bf6a10",
   "metadata": {},
   "outputs": [],
   "source": [
    "x = df.drop(labels =['Type'] ,axis = 1)"
   ]
  },
  {
   "cell_type": "code",
   "execution_count": 226,
   "id": "1aac5a6c",
   "metadata": {},
   "outputs": [
    {
     "data": {
      "text/html": [
       "<div>\n",
       "<style scoped>\n",
       "    .dataframe tbody tr th:only-of-type {\n",
       "        vertical-align: middle;\n",
       "    }\n",
       "\n",
       "    .dataframe tbody tr th {\n",
       "        vertical-align: top;\n",
       "    }\n",
       "\n",
       "    .dataframe thead th {\n",
       "        text-align: right;\n",
       "    }\n",
       "</style>\n",
       "<table border=\"1\" class=\"dataframe\">\n",
       "  <thead>\n",
       "    <tr style=\"text-align: right;\">\n",
       "      <th></th>\n",
       "      <th>Flour</th>\n",
       "      <th>Milk</th>\n",
       "      <th>Sugar</th>\n",
       "      <th>Butter</th>\n",
       "      <th>Egg</th>\n",
       "      <th>Baking Powder</th>\n",
       "      <th>Vanilla</th>\n",
       "      <th>Salt</th>\n",
       "    </tr>\n",
       "  </thead>\n",
       "  <tbody>\n",
       "    <tr>\n",
       "      <th>0</th>\n",
       "      <td>55</td>\n",
       "      <td>28</td>\n",
       "      <td>3</td>\n",
       "      <td>7</td>\n",
       "      <td>5</td>\n",
       "      <td>2</td>\n",
       "      <td>0</td>\n",
       "      <td>0</td>\n",
       "    </tr>\n",
       "    <tr>\n",
       "      <th>1</th>\n",
       "      <td>47</td>\n",
       "      <td>24</td>\n",
       "      <td>12</td>\n",
       "      <td>6</td>\n",
       "      <td>9</td>\n",
       "      <td>1</td>\n",
       "      <td>0</td>\n",
       "      <td>0</td>\n",
       "    </tr>\n",
       "  </tbody>\n",
       "</table>\n",
       "</div>"
      ],
      "text/plain": [
       "   Flour  Milk  Sugar  Butter  Egg  Baking Powder  Vanilla  Salt\n",
       "0     55    28      3       7    5              2        0     0\n",
       "1     47    24     12       6    9              1        0     0"
      ]
     },
     "execution_count": 226,
     "metadata": {},
     "output_type": "execute_result"
    }
   ],
   "source": [
    "x.head(2)"
   ]
  },
  {
   "cell_type": "code",
   "execution_count": 227,
   "id": "b8611de7",
   "metadata": {},
   "outputs": [],
   "source": [
    "y = df.iloc[: , 0]"
   ]
  },
  {
   "cell_type": "code",
   "execution_count": 228,
   "id": "3b5e877d",
   "metadata": {},
   "outputs": [
    {
     "data": {
      "text/plain": [
       "0    1\n",
       "1    1\n",
       "Name: Type, dtype: int64"
      ]
     },
     "execution_count": 228,
     "metadata": {},
     "output_type": "execute_result"
    }
   ],
   "source": [
    "y.head(2)"
   ]
  },
  {
   "cell_type": "code",
   "execution_count": 229,
   "id": "7c1da518",
   "metadata": {},
   "outputs": [
    {
     "data": {
      "text/html": [
       "<div>\n",
       "<style scoped>\n",
       "    .dataframe tbody tr th:only-of-type {\n",
       "        vertical-align: middle;\n",
       "    }\n",
       "\n",
       "    .dataframe tbody tr th {\n",
       "        vertical-align: top;\n",
       "    }\n",
       "\n",
       "    .dataframe thead th {\n",
       "        text-align: right;\n",
       "    }\n",
       "</style>\n",
       "<table border=\"1\" class=\"dataframe\">\n",
       "  <thead>\n",
       "    <tr style=\"text-align: right;\">\n",
       "      <th></th>\n",
       "      <th>Type</th>\n",
       "      <th>Flour</th>\n",
       "      <th>Milk</th>\n",
       "      <th>Sugar</th>\n",
       "      <th>Butter</th>\n",
       "      <th>Egg</th>\n",
       "      <th>Baking Powder</th>\n",
       "      <th>Vanilla</th>\n",
       "      <th>Salt</th>\n",
       "    </tr>\n",
       "  </thead>\n",
       "  <tbody>\n",
       "    <tr>\n",
       "      <th>0</th>\n",
       "      <td>1</td>\n",
       "      <td>55</td>\n",
       "      <td>28</td>\n",
       "      <td>3</td>\n",
       "      <td>7</td>\n",
       "      <td>5</td>\n",
       "      <td>2</td>\n",
       "      <td>0</td>\n",
       "      <td>0</td>\n",
       "    </tr>\n",
       "    <tr>\n",
       "      <th>1</th>\n",
       "      <td>1</td>\n",
       "      <td>47</td>\n",
       "      <td>24</td>\n",
       "      <td>12</td>\n",
       "      <td>6</td>\n",
       "      <td>9</td>\n",
       "      <td>1</td>\n",
       "      <td>0</td>\n",
       "      <td>0</td>\n",
       "    </tr>\n",
       "  </tbody>\n",
       "</table>\n",
       "</div>"
      ],
      "text/plain": [
       "   Type  Flour  Milk  Sugar  Butter  Egg  Baking Powder  Vanilla  Salt\n",
       "0     1     55    28      3       7    5              2        0     0\n",
       "1     1     47    24     12       6    9              1        0     0"
      ]
     },
     "execution_count": 229,
     "metadata": {},
     "output_type": "execute_result"
    }
   ],
   "source": [
    "df.head(2)"
   ]
  },
  {
   "cell_type": "code",
   "execution_count": null,
   "id": "fea43f03",
   "metadata": {},
   "outputs": [],
   "source": []
  },
  {
   "cell_type": "code",
   "execution_count": null,
   "id": "2b430932",
   "metadata": {},
   "outputs": [],
   "source": []
  },
  {
   "cell_type": "code",
   "execution_count": null,
   "id": "1c030987",
   "metadata": {},
   "outputs": [],
   "source": []
  },
  {
   "cell_type": "code",
   "execution_count": null,
   "id": "3875a0c2",
   "metadata": {},
   "outputs": [],
   "source": []
  },
  {
   "cell_type": "code",
   "execution_count": 230,
   "id": "1e1d0150",
   "metadata": {},
   "outputs": [],
   "source": [
    "#x_train, x_test , y_train, y_test = train_test_split(x, y, test_size = 0.2 , random_state = 42)\n",
    "x_train ,x_test , y_train ,y_test = train_test_split(x,y,test_size = 0.2 , random_state = 42)"
   ]
  },
  {
   "cell_type": "code",
   "execution_count": 231,
   "id": "ee205b37",
   "metadata": {},
   "outputs": [
    {
     "data": {
      "text/html": [
       "<div>\n",
       "<style scoped>\n",
       "    .dataframe tbody tr th:only-of-type {\n",
       "        vertical-align: middle;\n",
       "    }\n",
       "\n",
       "    .dataframe tbody tr th {\n",
       "        vertical-align: top;\n",
       "    }\n",
       "\n",
       "    .dataframe thead th {\n",
       "        text-align: right;\n",
       "    }\n",
       "</style>\n",
       "<table border=\"1\" class=\"dataframe\">\n",
       "  <thead>\n",
       "    <tr style=\"text-align: right;\">\n",
       "      <th></th>\n",
       "      <th>Flour</th>\n",
       "      <th>Milk</th>\n",
       "      <th>Sugar</th>\n",
       "      <th>Butter</th>\n",
       "      <th>Egg</th>\n",
       "      <th>Baking Powder</th>\n",
       "      <th>Vanilla</th>\n",
       "      <th>Salt</th>\n",
       "    </tr>\n",
       "  </thead>\n",
       "  <tbody>\n",
       "    <tr>\n",
       "      <th>8</th>\n",
       "      <td>50</td>\n",
       "      <td>17</td>\n",
       "      <td>17</td>\n",
       "      <td>8</td>\n",
       "      <td>6</td>\n",
       "      <td>1</td>\n",
       "      <td>0</td>\n",
       "      <td>0</td>\n",
       "    </tr>\n",
       "    <tr>\n",
       "      <th>5</th>\n",
       "      <td>55</td>\n",
       "      <td>27</td>\n",
       "      <td>3</td>\n",
       "      <td>7</td>\n",
       "      <td>5</td>\n",
       "      <td>2</td>\n",
       "      <td>1</td>\n",
       "      <td>0</td>\n",
       "    </tr>\n",
       "  </tbody>\n",
       "</table>\n",
       "</div>"
      ],
      "text/plain": [
       "   Flour  Milk  Sugar  Butter  Egg  Baking Powder  Vanilla  Salt\n",
       "8     50    17     17       8    6              1        0     0\n",
       "5     55    27      3       7    5              2        1     0"
      ]
     },
     "execution_count": 231,
     "metadata": {},
     "output_type": "execute_result"
    }
   ],
   "source": [
    "x_train.head(2)"
   ]
  },
  {
   "cell_type": "code",
   "execution_count": 232,
   "id": "dd88b0b6",
   "metadata": {},
   "outputs": [
    {
     "data": {
      "text/html": [
       "<div>\n",
       "<style scoped>\n",
       "    .dataframe tbody tr th:only-of-type {\n",
       "        vertical-align: middle;\n",
       "    }\n",
       "\n",
       "    .dataframe tbody tr th {\n",
       "        vertical-align: top;\n",
       "    }\n",
       "\n",
       "    .dataframe thead th {\n",
       "        text-align: right;\n",
       "    }\n",
       "</style>\n",
       "<table border=\"1\" class=\"dataframe\">\n",
       "  <thead>\n",
       "    <tr style=\"text-align: right;\">\n",
       "      <th></th>\n",
       "      <th>Flour</th>\n",
       "      <th>Milk</th>\n",
       "      <th>Sugar</th>\n",
       "      <th>Butter</th>\n",
       "      <th>Egg</th>\n",
       "      <th>Baking Powder</th>\n",
       "      <th>Vanilla</th>\n",
       "      <th>Salt</th>\n",
       "    </tr>\n",
       "  </thead>\n",
       "  <tbody>\n",
       "    <tr>\n",
       "      <th>0</th>\n",
       "      <td>55</td>\n",
       "      <td>28</td>\n",
       "      <td>3</td>\n",
       "      <td>7</td>\n",
       "      <td>5</td>\n",
       "      <td>2</td>\n",
       "      <td>0</td>\n",
       "      <td>0</td>\n",
       "    </tr>\n",
       "    <tr>\n",
       "      <th>17</th>\n",
       "      <td>38</td>\n",
       "      <td>15</td>\n",
       "      <td>31</td>\n",
       "      <td>8</td>\n",
       "      <td>6</td>\n",
       "      <td>1</td>\n",
       "      <td>1</td>\n",
       "      <td>0</td>\n",
       "    </tr>\n",
       "  </tbody>\n",
       "</table>\n",
       "</div>"
      ],
      "text/plain": [
       "    Flour  Milk  Sugar  Butter  Egg  Baking Powder  Vanilla  Salt\n",
       "0      55    28      3       7    5              2        0     0\n",
       "17     38    15     31       8    6              1        1     0"
      ]
     },
     "execution_count": 232,
     "metadata": {},
     "output_type": "execute_result"
    }
   ],
   "source": [
    "x_test.head(2)"
   ]
  },
  {
   "cell_type": "code",
   "execution_count": 233,
   "id": "5eecb09b",
   "metadata": {},
   "outputs": [
    {
     "data": {
      "text/plain": [
       "8    1\n",
       "5    1\n",
       "Name: Type, dtype: int64"
      ]
     },
     "execution_count": 233,
     "metadata": {},
     "output_type": "execute_result"
    }
   ],
   "source": [
    "y_train.head(2)"
   ]
  },
  {
   "cell_type": "code",
   "execution_count": 234,
   "id": "1db9682d",
   "metadata": {},
   "outputs": [
    {
     "data": {
      "text/plain": [
       "0     1\n",
       "17    0\n",
       "Name: Type, dtype: int64"
      ]
     },
     "execution_count": 234,
     "metadata": {},
     "output_type": "execute_result"
    }
   ],
   "source": [
    "y_test.head(2)"
   ]
  },
  {
   "cell_type": "code",
   "execution_count": 235,
   "id": "9971ec3f",
   "metadata": {},
   "outputs": [],
   "source": [
    "model_f = ExtraTreesClassifier()"
   ]
  },
  {
   "cell_type": "code",
   "execution_count": 236,
   "id": "db89eac0",
   "metadata": {},
   "outputs": [
    {
     "data": {
      "text/plain": [
       "ExtraTreesClassifier()"
      ]
     },
     "execution_count": 236,
     "metadata": {},
     "output_type": "execute_result"
    }
   ],
   "source": [
    "model_f.fit(x_train, y_train)"
   ]
  },
  {
   "cell_type": "code",
   "execution_count": 237,
   "id": "8f3ec1f9",
   "metadata": {},
   "outputs": [
    {
     "data": {
      "text/plain": [
       "array([0.30347303, 0.08591459, 0.14093025, 0.10573966, 0.11343976,\n",
       "       0.07483349, 0.17566922, 0.        ])"
      ]
     },
     "execution_count": 237,
     "metadata": {},
     "output_type": "execute_result"
    }
   ],
   "source": [
    "model_f.feature_importances_"
   ]
  },
  {
   "cell_type": "code",
   "execution_count": 238,
   "id": "e7039dee",
   "metadata": {},
   "outputs": [],
   "source": [
    "score = pd.DataFrame(model_f.feature_importances_ , columns = ['score'])"
   ]
  },
  {
   "cell_type": "code",
   "execution_count": 239,
   "id": "9e3556e6",
   "metadata": {},
   "outputs": [
    {
     "data": {
      "text/html": [
       "<div>\n",
       "<style scoped>\n",
       "    .dataframe tbody tr th:only-of-type {\n",
       "        vertical-align: middle;\n",
       "    }\n",
       "\n",
       "    .dataframe tbody tr th {\n",
       "        vertical-align: top;\n",
       "    }\n",
       "\n",
       "    .dataframe thead th {\n",
       "        text-align: right;\n",
       "    }\n",
       "</style>\n",
       "<table border=\"1\" class=\"dataframe\">\n",
       "  <thead>\n",
       "    <tr style=\"text-align: right;\">\n",
       "      <th></th>\n",
       "      <th>score</th>\n",
       "    </tr>\n",
       "  </thead>\n",
       "  <tbody>\n",
       "    <tr>\n",
       "      <th>0</th>\n",
       "      <td>0.303473</td>\n",
       "    </tr>\n",
       "    <tr>\n",
       "      <th>1</th>\n",
       "      <td>0.085915</td>\n",
       "    </tr>\n",
       "    <tr>\n",
       "      <th>2</th>\n",
       "      <td>0.140930</td>\n",
       "    </tr>\n",
       "    <tr>\n",
       "      <th>3</th>\n",
       "      <td>0.105740</td>\n",
       "    </tr>\n",
       "    <tr>\n",
       "      <th>4</th>\n",
       "      <td>0.113440</td>\n",
       "    </tr>\n",
       "    <tr>\n",
       "      <th>5</th>\n",
       "      <td>0.074833</td>\n",
       "    </tr>\n",
       "    <tr>\n",
       "      <th>6</th>\n",
       "      <td>0.175669</td>\n",
       "    </tr>\n",
       "    <tr>\n",
       "      <th>7</th>\n",
       "      <td>0.000000</td>\n",
       "    </tr>\n",
       "  </tbody>\n",
       "</table>\n",
       "</div>"
      ],
      "text/plain": [
       "      score\n",
       "0  0.303473\n",
       "1  0.085915\n",
       "2  0.140930\n",
       "3  0.105740\n",
       "4  0.113440\n",
       "5  0.074833\n",
       "6  0.175669\n",
       "7  0.000000"
      ]
     },
     "execution_count": 239,
     "metadata": {},
     "output_type": "execute_result"
    }
   ],
   "source": [
    "score"
   ]
  },
  {
   "cell_type": "code",
   "execution_count": 240,
   "id": "7027937d",
   "metadata": {},
   "outputs": [],
   "source": [
    "Features = pd.DataFrame(x.columns , columns = ['Features'])"
   ]
  },
  {
   "cell_type": "code",
   "execution_count": 241,
   "id": "fdc479bc",
   "metadata": {},
   "outputs": [
    {
     "data": {
      "text/html": [
       "<div>\n",
       "<style scoped>\n",
       "    .dataframe tbody tr th:only-of-type {\n",
       "        vertical-align: middle;\n",
       "    }\n",
       "\n",
       "    .dataframe tbody tr th {\n",
       "        vertical-align: top;\n",
       "    }\n",
       "\n",
       "    .dataframe thead th {\n",
       "        text-align: right;\n",
       "    }\n",
       "</style>\n",
       "<table border=\"1\" class=\"dataframe\">\n",
       "  <thead>\n",
       "    <tr style=\"text-align: right;\">\n",
       "      <th></th>\n",
       "      <th>Features</th>\n",
       "    </tr>\n",
       "  </thead>\n",
       "  <tbody>\n",
       "    <tr>\n",
       "      <th>0</th>\n",
       "      <td>Flour</td>\n",
       "    </tr>\n",
       "    <tr>\n",
       "      <th>1</th>\n",
       "      <td>Milk</td>\n",
       "    </tr>\n",
       "    <tr>\n",
       "      <th>2</th>\n",
       "      <td>Sugar</td>\n",
       "    </tr>\n",
       "    <tr>\n",
       "      <th>3</th>\n",
       "      <td>Butter</td>\n",
       "    </tr>\n",
       "    <tr>\n",
       "      <th>4</th>\n",
       "      <td>Egg</td>\n",
       "    </tr>\n",
       "    <tr>\n",
       "      <th>5</th>\n",
       "      <td>Baking Powder</td>\n",
       "    </tr>\n",
       "    <tr>\n",
       "      <th>6</th>\n",
       "      <td>Vanilla</td>\n",
       "    </tr>\n",
       "    <tr>\n",
       "      <th>7</th>\n",
       "      <td>Salt</td>\n",
       "    </tr>\n",
       "  </tbody>\n",
       "</table>\n",
       "</div>"
      ],
      "text/plain": [
       "        Features\n",
       "0          Flour\n",
       "1           Milk\n",
       "2          Sugar\n",
       "3         Butter\n",
       "4            Egg\n",
       "5  Baking Powder\n",
       "6        Vanilla\n",
       "7           Salt"
      ]
     },
     "execution_count": 241,
     "metadata": {},
     "output_type": "execute_result"
    }
   ],
   "source": [
    "Features"
   ]
  },
  {
   "cell_type": "code",
   "execution_count": 242,
   "id": "399a1886",
   "metadata": {},
   "outputs": [],
   "source": [
    "feature_importance_score = pd.concat([Features , score] , axis  = 1)"
   ]
  },
  {
   "cell_type": "code",
   "execution_count": 243,
   "id": "5e13b706",
   "metadata": {},
   "outputs": [
    {
     "data": {
      "text/html": [
       "<div>\n",
       "<style scoped>\n",
       "    .dataframe tbody tr th:only-of-type {\n",
       "        vertical-align: middle;\n",
       "    }\n",
       "\n",
       "    .dataframe tbody tr th {\n",
       "        vertical-align: top;\n",
       "    }\n",
       "\n",
       "    .dataframe thead th {\n",
       "        text-align: right;\n",
       "    }\n",
       "</style>\n",
       "<table border=\"1\" class=\"dataframe\">\n",
       "  <thead>\n",
       "    <tr style=\"text-align: right;\">\n",
       "      <th></th>\n",
       "      <th>Features</th>\n",
       "      <th>score</th>\n",
       "    </tr>\n",
       "  </thead>\n",
       "  <tbody>\n",
       "    <tr>\n",
       "      <th>0</th>\n",
       "      <td>Flour</td>\n",
       "      <td>0.303473</td>\n",
       "    </tr>\n",
       "    <tr>\n",
       "      <th>1</th>\n",
       "      <td>Milk</td>\n",
       "      <td>0.085915</td>\n",
       "    </tr>\n",
       "    <tr>\n",
       "      <th>2</th>\n",
       "      <td>Sugar</td>\n",
       "      <td>0.140930</td>\n",
       "    </tr>\n",
       "    <tr>\n",
       "      <th>3</th>\n",
       "      <td>Butter</td>\n",
       "      <td>0.105740</td>\n",
       "    </tr>\n",
       "    <tr>\n",
       "      <th>4</th>\n",
       "      <td>Egg</td>\n",
       "      <td>0.113440</td>\n",
       "    </tr>\n",
       "    <tr>\n",
       "      <th>5</th>\n",
       "      <td>Baking Powder</td>\n",
       "      <td>0.074833</td>\n",
       "    </tr>\n",
       "    <tr>\n",
       "      <th>6</th>\n",
       "      <td>Vanilla</td>\n",
       "      <td>0.175669</td>\n",
       "    </tr>\n",
       "    <tr>\n",
       "      <th>7</th>\n",
       "      <td>Salt</td>\n",
       "      <td>0.000000</td>\n",
       "    </tr>\n",
       "  </tbody>\n",
       "</table>\n",
       "</div>"
      ],
      "text/plain": [
       "        Features     score\n",
       "0          Flour  0.303473\n",
       "1           Milk  0.085915\n",
       "2          Sugar  0.140930\n",
       "3         Butter  0.105740\n",
       "4            Egg  0.113440\n",
       "5  Baking Powder  0.074833\n",
       "6        Vanilla  0.175669\n",
       "7           Salt  0.000000"
      ]
     },
     "execution_count": 243,
     "metadata": {},
     "output_type": "execute_result"
    }
   ],
   "source": [
    "feature_importance_score"
   ]
  },
  {
   "cell_type": "code",
   "execution_count": 244,
   "id": "f6bf4777",
   "metadata": {},
   "outputs": [],
   "source": [
    "feature_importance_score_nlarge= feature_importance_score.nlargest(10 , 'score')"
   ]
  },
  {
   "cell_type": "code",
   "execution_count": 245,
   "id": "48d93c65",
   "metadata": {},
   "outputs": [
    {
     "data": {
      "text/html": [
       "<div>\n",
       "<style scoped>\n",
       "    .dataframe tbody tr th:only-of-type {\n",
       "        vertical-align: middle;\n",
       "    }\n",
       "\n",
       "    .dataframe tbody tr th {\n",
       "        vertical-align: top;\n",
       "    }\n",
       "\n",
       "    .dataframe thead th {\n",
       "        text-align: right;\n",
       "    }\n",
       "</style>\n",
       "<table border=\"1\" class=\"dataframe\">\n",
       "  <thead>\n",
       "    <tr style=\"text-align: right;\">\n",
       "      <th></th>\n",
       "      <th>Features</th>\n",
       "      <th>score</th>\n",
       "    </tr>\n",
       "  </thead>\n",
       "  <tbody>\n",
       "    <tr>\n",
       "      <th>0</th>\n",
       "      <td>Flour</td>\n",
       "      <td>0.303473</td>\n",
       "    </tr>\n",
       "    <tr>\n",
       "      <th>6</th>\n",
       "      <td>Vanilla</td>\n",
       "      <td>0.175669</td>\n",
       "    </tr>\n",
       "    <tr>\n",
       "      <th>2</th>\n",
       "      <td>Sugar</td>\n",
       "      <td>0.140930</td>\n",
       "    </tr>\n",
       "    <tr>\n",
       "      <th>4</th>\n",
       "      <td>Egg</td>\n",
       "      <td>0.113440</td>\n",
       "    </tr>\n",
       "    <tr>\n",
       "      <th>3</th>\n",
       "      <td>Butter</td>\n",
       "      <td>0.105740</td>\n",
       "    </tr>\n",
       "    <tr>\n",
       "      <th>1</th>\n",
       "      <td>Milk</td>\n",
       "      <td>0.085915</td>\n",
       "    </tr>\n",
       "    <tr>\n",
       "      <th>5</th>\n",
       "      <td>Baking Powder</td>\n",
       "      <td>0.074833</td>\n",
       "    </tr>\n",
       "    <tr>\n",
       "      <th>7</th>\n",
       "      <td>Salt</td>\n",
       "      <td>0.000000</td>\n",
       "    </tr>\n",
       "  </tbody>\n",
       "</table>\n",
       "</div>"
      ],
      "text/plain": [
       "        Features     score\n",
       "0          Flour  0.303473\n",
       "6        Vanilla  0.175669\n",
       "2          Sugar  0.140930\n",
       "4            Egg  0.113440\n",
       "3         Butter  0.105740\n",
       "1           Milk  0.085915\n",
       "5  Baking Powder  0.074833\n",
       "7           Salt  0.000000"
      ]
     },
     "execution_count": 245,
     "metadata": {},
     "output_type": "execute_result"
    }
   ],
   "source": [
    "feature_importance_score_nlarge"
   ]
  },
  {
   "cell_type": "code",
   "execution_count": 246,
   "id": "2ebf0560",
   "metadata": {},
   "outputs": [
    {
     "data": {
      "text/plain": [
       "Text(0.5, 1.0, 'Feature Importance Plot by ExtraTressClassifier')"
      ]
     },
     "execution_count": 246,
     "metadata": {},
     "output_type": "execute_result"
    },
    {
     "data": {
      "image/png": "[encoded data removed]",
      "text/plain": [
       "<Figure size 720x360 with 1 Axes>"
      ]
     },
     "metadata": {
      "needs_background": "light"
     },
     "output_type": "display_data"
    }
   ],
   "source": [
    "plt.figure(figsize = (10,5))\n",
    "plt.bar(feature_importance_score_nlarge['Features'] , feature_importance_score_nlarge['score'])\n",
    "plt.xlabel('Features')\n",
    "plt.ylabel('Score')\n",
    "plt.title('Feature Importance Plot by ExtraTressClassifier')"
   ]
  },
  {
   "cell_type": "code",
   "execution_count": null,
   "id": "17bf1e78",
   "metadata": {},
   "outputs": [],
   "source": []
  },
  {
   "cell_type": "code",
   "execution_count": 247,
   "id": "7f68cd50",
   "metadata": {},
   "outputs": [],
   "source": [
    "from sklearn.feature_selection import mutual_info_classif"
   ]
  },
  {
   "cell_type": "code",
   "execution_count": 248,
   "id": "f340a951",
   "metadata": {},
   "outputs": [],
   "source": [
    "model_f_m = mutual_info_classif(x , y)"
   ]
  },
  {
   "cell_type": "code",
   "execution_count": 249,
   "id": "9504ce1d",
   "metadata": {},
   "outputs": [
    {
     "data": {
      "text/plain": [
       "array([0.68543807, 0.2907898 , 0.45037855, 0.17162674, 0.11597378,\n",
       "       0.        , 0.2439626 , 0.06361267])"
      ]
     },
     "execution_count": 249,
     "metadata": {},
     "output_type": "execute_result"
    }
   ],
   "source": [
    "model_f_m"
   ]
  },
  {
   "cell_type": "code",
   "execution_count": 250,
   "id": "a62aaa42",
   "metadata": {},
   "outputs": [],
   "source": [
    "score_m = pd.DataFrame(model_f_m , columns = ['score'])"
   ]
  },
  {
   "cell_type": "code",
   "execution_count": 251,
   "id": "9fcbaa1f",
   "metadata": {},
   "outputs": [
    {
     "data": {
      "text/html": [
       "<div>\n",
       "<style scoped>\n",
       "    .dataframe tbody tr th:only-of-type {\n",
       "        vertical-align: middle;\n",
       "    }\n",
       "\n",
       "    .dataframe tbody tr th {\n",
       "        vertical-align: top;\n",
       "    }\n",
       "\n",
       "    .dataframe thead th {\n",
       "        text-align: right;\n",
       "    }\n",
       "</style>\n",
       "<table border=\"1\" class=\"dataframe\">\n",
       "  <thead>\n",
       "    <tr style=\"text-align: right;\">\n",
       "      <th></th>\n",
       "      <th>score</th>\n",
       "    </tr>\n",
       "  </thead>\n",
       "  <tbody>\n",
       "    <tr>\n",
       "      <th>0</th>\n",
       "      <td>0.685438</td>\n",
       "    </tr>\n",
       "    <tr>\n",
       "      <th>1</th>\n",
       "      <td>0.290790</td>\n",
       "    </tr>\n",
       "    <tr>\n",
       "      <th>2</th>\n",
       "      <td>0.450379</td>\n",
       "    </tr>\n",
       "    <tr>\n",
       "      <th>3</th>\n",
       "      <td>0.171627</td>\n",
       "    </tr>\n",
       "    <tr>\n",
       "      <th>4</th>\n",
       "      <td>0.115974</td>\n",
       "    </tr>\n",
       "    <tr>\n",
       "      <th>5</th>\n",
       "      <td>0.000000</td>\n",
       "    </tr>\n",
       "    <tr>\n",
       "      <th>6</th>\n",
       "      <td>0.243963</td>\n",
       "    </tr>\n",
       "    <tr>\n",
       "      <th>7</th>\n",
       "      <td>0.063613</td>\n",
       "    </tr>\n",
       "  </tbody>\n",
       "</table>\n",
       "</div>"
      ],
      "text/plain": [
       "      score\n",
       "0  0.685438\n",
       "1  0.290790\n",
       "2  0.450379\n",
       "3  0.171627\n",
       "4  0.115974\n",
       "5  0.000000\n",
       "6  0.243963\n",
       "7  0.063613"
      ]
     },
     "execution_count": 251,
     "metadata": {},
     "output_type": "execute_result"
    }
   ],
   "source": [
    "score_m"
   ]
  },
  {
   "cell_type": "code",
   "execution_count": 252,
   "id": "89cfd447",
   "metadata": {},
   "outputs": [],
   "source": [
    "Features_m = pd.DataFrame(x.columns , columns = ['Features'])"
   ]
  },
  {
   "cell_type": "code",
   "execution_count": 253,
   "id": "4a3cdcd4",
   "metadata": {},
   "outputs": [
    {
     "data": {
      "text/html": [
       "<div>\n",
       "<style scoped>\n",
       "    .dataframe tbody tr th:only-of-type {\n",
       "        vertical-align: middle;\n",
       "    }\n",
       "\n",
       "    .dataframe tbody tr th {\n",
       "        vertical-align: top;\n",
       "    }\n",
       "\n",
       "    .dataframe thead th {\n",
       "        text-align: right;\n",
       "    }\n",
       "</style>\n",
       "<table border=\"1\" class=\"dataframe\">\n",
       "  <thead>\n",
       "    <tr style=\"text-align: right;\">\n",
       "      <th></th>\n",
       "      <th>Features</th>\n",
       "    </tr>\n",
       "  </thead>\n",
       "  <tbody>\n",
       "    <tr>\n",
       "      <th>0</th>\n",
       "      <td>Flour</td>\n",
       "    </tr>\n",
       "    <tr>\n",
       "      <th>1</th>\n",
       "      <td>Milk</td>\n",
       "    </tr>\n",
       "    <tr>\n",
       "      <th>2</th>\n",
       "      <td>Sugar</td>\n",
       "    </tr>\n",
       "    <tr>\n",
       "      <th>3</th>\n",
       "      <td>Butter</td>\n",
       "    </tr>\n",
       "    <tr>\n",
       "      <th>4</th>\n",
       "      <td>Egg</td>\n",
       "    </tr>\n",
       "    <tr>\n",
       "      <th>5</th>\n",
       "      <td>Baking Powder</td>\n",
       "    </tr>\n",
       "    <tr>\n",
       "      <th>6</th>\n",
       "      <td>Vanilla</td>\n",
       "    </tr>\n",
       "    <tr>\n",
       "      <th>7</th>\n",
       "      <td>Salt</td>\n",
       "    </tr>\n",
       "  </tbody>\n",
       "</table>\n",
       "</div>"
      ],
      "text/plain": [
       "        Features\n",
       "0          Flour\n",
       "1           Milk\n",
       "2          Sugar\n",
       "3         Butter\n",
       "4            Egg\n",
       "5  Baking Powder\n",
       "6        Vanilla\n",
       "7           Salt"
      ]
     },
     "execution_count": 253,
     "metadata": {},
     "output_type": "execute_result"
    }
   ],
   "source": [
    "Features_m"
   ]
  },
  {
   "cell_type": "code",
   "execution_count": 254,
   "id": "6beb7cf2",
   "metadata": {},
   "outputs": [],
   "source": [
    "feature_importance_score_m = pd.concat([Features_m , score_m] , axis = 1)"
   ]
  },
  {
   "cell_type": "code",
   "execution_count": 255,
   "id": "04100af3",
   "metadata": {},
   "outputs": [
    {
     "data": {
      "text/html": [
       "<div>\n",
       "<style scoped>\n",
       "    .dataframe tbody tr th:only-of-type {\n",
       "        vertical-align: middle;\n",
       "    }\n",
       "\n",
       "    .dataframe tbody tr th {\n",
       "        vertical-align: top;\n",
       "    }\n",
       "\n",
       "    .dataframe thead th {\n",
       "        text-align: right;\n",
       "    }\n",
       "</style>\n",
       "<table border=\"1\" class=\"dataframe\">\n",
       "  <thead>\n",
       "    <tr style=\"text-align: right;\">\n",
       "      <th></th>\n",
       "      <th>Features</th>\n",
       "      <th>score</th>\n",
       "    </tr>\n",
       "  </thead>\n",
       "  <tbody>\n",
       "    <tr>\n",
       "      <th>0</th>\n",
       "      <td>Flour</td>\n",
       "      <td>0.685438</td>\n",
       "    </tr>\n",
       "    <tr>\n",
       "      <th>1</th>\n",
       "      <td>Milk</td>\n",
       "      <td>0.290790</td>\n",
       "    </tr>\n",
       "    <tr>\n",
       "      <th>2</th>\n",
       "      <td>Sugar</td>\n",
       "      <td>0.450379</td>\n",
       "    </tr>\n",
       "    <tr>\n",
       "      <th>3</th>\n",
       "      <td>Butter</td>\n",
       "      <td>0.171627</td>\n",
       "    </tr>\n",
       "    <tr>\n",
       "      <th>4</th>\n",
       "      <td>Egg</td>\n",
       "      <td>0.115974</td>\n",
       "    </tr>\n",
       "    <tr>\n",
       "      <th>5</th>\n",
       "      <td>Baking Powder</td>\n",
       "      <td>0.000000</td>\n",
       "    </tr>\n",
       "    <tr>\n",
       "      <th>6</th>\n",
       "      <td>Vanilla</td>\n",
       "      <td>0.243963</td>\n",
       "    </tr>\n",
       "    <tr>\n",
       "      <th>7</th>\n",
       "      <td>Salt</td>\n",
       "      <td>0.063613</td>\n",
       "    </tr>\n",
       "  </tbody>\n",
       "</table>\n",
       "</div>"
      ],
      "text/plain": [
       "        Features     score\n",
       "0          Flour  0.685438\n",
       "1           Milk  0.290790\n",
       "2          Sugar  0.450379\n",
       "3         Butter  0.171627\n",
       "4            Egg  0.115974\n",
       "5  Baking Powder  0.000000\n",
       "6        Vanilla  0.243963\n",
       "7           Salt  0.063613"
      ]
     },
     "execution_count": 255,
     "metadata": {},
     "output_type": "execute_result"
    }
   ],
   "source": [
    "feature_importance_score_m"
   ]
  },
  {
   "cell_type": "code",
   "execution_count": 256,
   "id": "f8765f88",
   "metadata": {},
   "outputs": [],
   "source": [
    "feature_importance_score_m_nlarge = feature_importance_score_m.nlargest(8,'score')"
   ]
  },
  {
   "cell_type": "code",
   "execution_count": 257,
   "id": "bf8046ed",
   "metadata": {},
   "outputs": [
    {
     "data": {
      "text/html": [
       "<div>\n",
       "<style scoped>\n",
       "    .dataframe tbody tr th:only-of-type {\n",
       "        vertical-align: middle;\n",
       "    }\n",
       "\n",
       "    .dataframe tbody tr th {\n",
       "        vertical-align: top;\n",
       "    }\n",
       "\n",
       "    .dataframe thead th {\n",
       "        text-align: right;\n",
       "    }\n",
       "</style>\n",
       "<table border=\"1\" class=\"dataframe\">\n",
       "  <thead>\n",
       "    <tr style=\"text-align: right;\">\n",
       "      <th></th>\n",
       "      <th>Features</th>\n",
       "      <th>score</th>\n",
       "    </tr>\n",
       "  </thead>\n",
       "  <tbody>\n",
       "    <tr>\n",
       "      <th>0</th>\n",
       "      <td>Flour</td>\n",
       "      <td>0.685438</td>\n",
       "    </tr>\n",
       "    <tr>\n",
       "      <th>2</th>\n",
       "      <td>Sugar</td>\n",
       "      <td>0.450379</td>\n",
       "    </tr>\n",
       "    <tr>\n",
       "      <th>1</th>\n",
       "      <td>Milk</td>\n",
       "      <td>0.290790</td>\n",
       "    </tr>\n",
       "    <tr>\n",
       "      <th>6</th>\n",
       "      <td>Vanilla</td>\n",
       "      <td>0.243963</td>\n",
       "    </tr>\n",
       "    <tr>\n",
       "      <th>3</th>\n",
       "      <td>Butter</td>\n",
       "      <td>0.171627</td>\n",
       "    </tr>\n",
       "    <tr>\n",
       "      <th>4</th>\n",
       "      <td>Egg</td>\n",
       "      <td>0.115974</td>\n",
       "    </tr>\n",
       "    <tr>\n",
       "      <th>7</th>\n",
       "      <td>Salt</td>\n",
       "      <td>0.063613</td>\n",
       "    </tr>\n",
       "    <tr>\n",
       "      <th>5</th>\n",
       "      <td>Baking Powder</td>\n",
       "      <td>0.000000</td>\n",
       "    </tr>\n",
       "  </tbody>\n",
       "</table>\n",
       "</div>"
      ],
      "text/plain": [
       "        Features     score\n",
       "0          Flour  0.685438\n",
       "2          Sugar  0.450379\n",
       "1           Milk  0.290790\n",
       "6        Vanilla  0.243963\n",
       "3         Butter  0.171627\n",
       "4            Egg  0.115974\n",
       "7           Salt  0.063613\n",
       "5  Baking Powder  0.000000"
      ]
     },
     "execution_count": 257,
     "metadata": {},
     "output_type": "execute_result"
    }
   ],
   "source": [
    "feature_importance_score_m_nlarge"
   ]
  },
  {
   "cell_type": "code",
   "execution_count": 258,
   "id": "f49757da",
   "metadata": {},
   "outputs": [
    {
     "data": {
      "text/plain": [
       "Text(0.5, 1.0, 'Feature Importance Plot by Mutual_innfo_classif')"
      ]
     },
     "execution_count": 258,
     "metadata": {},
     "output_type": "execute_result"
    },
    {
     "data": {
      "image/png": "[encoded data removed]",
      "text/plain": [
       "<Figure size 720x360 with 1 Axes>"
      ]
     },
     "metadata": {
      "needs_background": "light"
     },
     "output_type": "display_data"
    }
   ],
   "source": [
    "plt.figure(figsize = (10, 5))\n",
    "plt.bar(feature_importance_score_m_nlarge['Features'] , feature_importance_score_m_nlarge['score'])\n",
    "plt.xlabel('Features')\n",
    "plt.ylabel('Score')\n",
    "plt.title('Feature Importance Plot by Mutual_innfo_classif')"
   ]
  },
  {
   "cell_type": "code",
   "execution_count": 259,
   "id": "86247158",
   "metadata": {},
   "outputs": [],
   "source": [
    "from sklearn.feature_selection import f_classif\n",
    "from sklearn.feature_selection  import SelectKBest"
   ]
  },
  {
   "cell_type": "code",
   "execution_count": 260,
   "id": "40a9bd7f",
   "metadata": {},
   "outputs": [],
   "source": [
    "model_c = SelectKBest(score_func = f_classif , k = 'all')"
   ]
  },
  {
   "cell_type": "code",
   "execution_count": 261,
   "id": "d35405d1",
   "metadata": {},
   "outputs": [
    {
     "data": {
      "text/plain": [
       "SelectKBest(k='all')"
      ]
     },
     "execution_count": 261,
     "metadata": {},
     "output_type": "execute_result"
    }
   ],
   "source": [
    "model_c"
   ]
  },
  {
   "cell_type": "code",
   "execution_count": 262,
   "id": "2424785d",
   "metadata": {},
   "outputs": [
    {
     "name": "stderr",
     "output_type": "stream",
     "text": [
      "C:\\Users\\Pritam\\anaconda3\\lib\\site-packages\\sklearn\\feature_selection\\_univariate_selection.py:114: UserWarning: Features [7] are constant.\n",
      "  warnings.warn(\"Features %s are constant.\" % constant_features_idx,\n",
      "C:\\Users\\Pritam\\anaconda3\\lib\\site-packages\\sklearn\\feature_selection\\_univariate_selection.py:116: RuntimeWarning: invalid value encountered in true_divide\n",
      "  f = msb / msw\n"
     ]
    },
    {
     "data": {
      "text/plain": [
       "SelectKBest(k='all')"
      ]
     },
     "execution_count": 262,
     "metadata": {},
     "output_type": "execute_result"
    }
   ],
   "source": [
    "model_c.fit(x, y)"
   ]
  },
  {
   "cell_type": "code",
   "execution_count": 263,
   "id": "ebcab349",
   "metadata": {},
   "outputs": [
    {
     "data": {
      "text/plain": [
       "array([69.91440501,  9.90809667, 22.93597304,  8.98151951,  9.01559792,\n",
       "        0.36      , 10.125     ,         nan])"
      ]
     },
     "execution_count": 263,
     "metadata": {},
     "output_type": "execute_result"
    }
   ],
   "source": [
    "model_c.scores_"
   ]
  },
  {
   "cell_type": "code",
   "execution_count": 264,
   "id": "d446f35e",
   "metadata": {},
   "outputs": [],
   "source": [
    "score_c = pd.DataFrame(model_c.scores_ , columns = ['score'])"
   ]
  },
  {
   "cell_type": "code",
   "execution_count": 265,
   "id": "bc0e751a",
   "metadata": {},
   "outputs": [
    {
     "data": {
      "text/html": [
       "<div>\n",
       "<style scoped>\n",
       "    .dataframe tbody tr th:only-of-type {\n",
       "        vertical-align: middle;\n",
       "    }\n",
       "\n",
       "    .dataframe tbody tr th {\n",
       "        vertical-align: top;\n",
       "    }\n",
       "\n",
       "    .dataframe thead th {\n",
       "        text-align: right;\n",
       "    }\n",
       "</style>\n",
       "<table border=\"1\" class=\"dataframe\">\n",
       "  <thead>\n",
       "    <tr style=\"text-align: right;\">\n",
       "      <th></th>\n",
       "      <th>score</th>\n",
       "    </tr>\n",
       "  </thead>\n",
       "  <tbody>\n",
       "    <tr>\n",
       "      <th>0</th>\n",
       "      <td>69.914405</td>\n",
       "    </tr>\n",
       "    <tr>\n",
       "      <th>1</th>\n",
       "      <td>9.908097</td>\n",
       "    </tr>\n",
       "    <tr>\n",
       "      <th>2</th>\n",
       "      <td>22.935973</td>\n",
       "    </tr>\n",
       "    <tr>\n",
       "      <th>3</th>\n",
       "      <td>8.981520</td>\n",
       "    </tr>\n",
       "    <tr>\n",
       "      <th>4</th>\n",
       "      <td>9.015598</td>\n",
       "    </tr>\n",
       "    <tr>\n",
       "      <th>5</th>\n",
       "      <td>0.360000</td>\n",
       "    </tr>\n",
       "    <tr>\n",
       "      <th>6</th>\n",
       "      <td>10.125000</td>\n",
       "    </tr>\n",
       "    <tr>\n",
       "      <th>7</th>\n",
       "      <td>NaN</td>\n",
       "    </tr>\n",
       "  </tbody>\n",
       "</table>\n",
       "</div>"
      ],
      "text/plain": [
       "       score\n",
       "0  69.914405\n",
       "1   9.908097\n",
       "2  22.935973\n",
       "3   8.981520\n",
       "4   9.015598\n",
       "5   0.360000\n",
       "6  10.125000\n",
       "7        NaN"
      ]
     },
     "execution_count": 265,
     "metadata": {},
     "output_type": "execute_result"
    }
   ],
   "source": [
    "score_c"
   ]
  },
  {
   "cell_type": "code",
   "execution_count": 266,
   "id": "f2985b7d",
   "metadata": {},
   "outputs": [],
   "source": [
    "Features_c = pd.DataFrame(x.columns , columns =[ 'Feature'])"
   ]
  },
  {
   "cell_type": "code",
   "execution_count": 267,
   "id": "a0d1486c",
   "metadata": {},
   "outputs": [
    {
     "data": {
      "text/html": [
       "<div>\n",
       "<style scoped>\n",
       "    .dataframe tbody tr th:only-of-type {\n",
       "        vertical-align: middle;\n",
       "    }\n",
       "\n",
       "    .dataframe tbody tr th {\n",
       "        vertical-align: top;\n",
       "    }\n",
       "\n",
       "    .dataframe thead th {\n",
       "        text-align: right;\n",
       "    }\n",
       "</style>\n",
       "<table border=\"1\" class=\"dataframe\">\n",
       "  <thead>\n",
       "    <tr style=\"text-align: right;\">\n",
       "      <th></th>\n",
       "      <th>Feature</th>\n",
       "    </tr>\n",
       "  </thead>\n",
       "  <tbody>\n",
       "    <tr>\n",
       "      <th>0</th>\n",
       "      <td>Flour</td>\n",
       "    </tr>\n",
       "    <tr>\n",
       "      <th>1</th>\n",
       "      <td>Milk</td>\n",
       "    </tr>\n",
       "    <tr>\n",
       "      <th>2</th>\n",
       "      <td>Sugar</td>\n",
       "    </tr>\n",
       "    <tr>\n",
       "      <th>3</th>\n",
       "      <td>Butter</td>\n",
       "    </tr>\n",
       "    <tr>\n",
       "      <th>4</th>\n",
       "      <td>Egg</td>\n",
       "    </tr>\n",
       "    <tr>\n",
       "      <th>5</th>\n",
       "      <td>Baking Powder</td>\n",
       "    </tr>\n",
       "    <tr>\n",
       "      <th>6</th>\n",
       "      <td>Vanilla</td>\n",
       "    </tr>\n",
       "    <tr>\n",
       "      <th>7</th>\n",
       "      <td>Salt</td>\n",
       "    </tr>\n",
       "  </tbody>\n",
       "</table>\n",
       "</div>"
      ],
      "text/plain": [
       "         Feature\n",
       "0          Flour\n",
       "1           Milk\n",
       "2          Sugar\n",
       "3         Butter\n",
       "4            Egg\n",
       "5  Baking Powder\n",
       "6        Vanilla\n",
       "7           Salt"
      ]
     },
     "execution_count": 267,
     "metadata": {},
     "output_type": "execute_result"
    }
   ],
   "source": [
    "Features_c"
   ]
  },
  {
   "cell_type": "code",
   "execution_count": 268,
   "id": "20915937",
   "metadata": {},
   "outputs": [],
   "source": [
    "Feature_importance_score_c = pd.concat([Features_c , score_c] , axis= 1)"
   ]
  },
  {
   "cell_type": "code",
   "execution_count": 269,
   "id": "b1d8b5a5",
   "metadata": {},
   "outputs": [
    {
     "data": {
      "text/html": [
       "<div>\n",
       "<style scoped>\n",
       "    .dataframe tbody tr th:only-of-type {\n",
       "        vertical-align: middle;\n",
       "    }\n",
       "\n",
       "    .dataframe tbody tr th {\n",
       "        vertical-align: top;\n",
       "    }\n",
       "\n",
       "    .dataframe thead th {\n",
       "        text-align: right;\n",
       "    }\n",
       "</style>\n",
       "<table border=\"1\" class=\"dataframe\">\n",
       "  <thead>\n",
       "    <tr style=\"text-align: right;\">\n",
       "      <th></th>\n",
       "      <th>Feature</th>\n",
       "      <th>score</th>\n",
       "    </tr>\n",
       "  </thead>\n",
       "  <tbody>\n",
       "    <tr>\n",
       "      <th>0</th>\n",
       "      <td>Flour</td>\n",
       "      <td>69.914405</td>\n",
       "    </tr>\n",
       "    <tr>\n",
       "      <th>1</th>\n",
       "      <td>Milk</td>\n",
       "      <td>9.908097</td>\n",
       "    </tr>\n",
       "    <tr>\n",
       "      <th>2</th>\n",
       "      <td>Sugar</td>\n",
       "      <td>22.935973</td>\n",
       "    </tr>\n",
       "    <tr>\n",
       "      <th>3</th>\n",
       "      <td>Butter</td>\n",
       "      <td>8.981520</td>\n",
       "    </tr>\n",
       "    <tr>\n",
       "      <th>4</th>\n",
       "      <td>Egg</td>\n",
       "      <td>9.015598</td>\n",
       "    </tr>\n",
       "    <tr>\n",
       "      <th>5</th>\n",
       "      <td>Baking Powder</td>\n",
       "      <td>0.360000</td>\n",
       "    </tr>\n",
       "    <tr>\n",
       "      <th>6</th>\n",
       "      <td>Vanilla</td>\n",
       "      <td>10.125000</td>\n",
       "    </tr>\n",
       "    <tr>\n",
       "      <th>7</th>\n",
       "      <td>Salt</td>\n",
       "      <td>NaN</td>\n",
       "    </tr>\n",
       "  </tbody>\n",
       "</table>\n",
       "</div>"
      ],
      "text/plain": [
       "         Feature      score\n",
       "0          Flour  69.914405\n",
       "1           Milk   9.908097\n",
       "2          Sugar  22.935973\n",
       "3         Butter   8.981520\n",
       "4            Egg   9.015598\n",
       "5  Baking Powder   0.360000\n",
       "6        Vanilla  10.125000\n",
       "7           Salt        NaN"
      ]
     },
     "execution_count": 269,
     "metadata": {},
     "output_type": "execute_result"
    }
   ],
   "source": [
    "Feature_importance_score_c"
   ]
  },
  {
   "cell_type": "code",
   "execution_count": 270,
   "id": "eb313b25",
   "metadata": {},
   "outputs": [],
   "source": [
    "Feature_importance_score_c_nlarge = Feature_importance_score_c.nlargest(8,'score')"
   ]
  },
  {
   "cell_type": "code",
   "execution_count": 271,
   "id": "45339264",
   "metadata": {},
   "outputs": [
    {
     "data": {
      "text/html": [
       "<div>\n",
       "<style scoped>\n",
       "    .dataframe tbody tr th:only-of-type {\n",
       "        vertical-align: middle;\n",
       "    }\n",
       "\n",
       "    .dataframe tbody tr th {\n",
       "        vertical-align: top;\n",
       "    }\n",
       "\n",
       "    .dataframe thead th {\n",
       "        text-align: right;\n",
       "    }\n",
       "</style>\n",
       "<table border=\"1\" class=\"dataframe\">\n",
       "  <thead>\n",
       "    <tr style=\"text-align: right;\">\n",
       "      <th></th>\n",
       "      <th>Feature</th>\n",
       "      <th>score</th>\n",
       "    </tr>\n",
       "  </thead>\n",
       "  <tbody>\n",
       "    <tr>\n",
       "      <th>0</th>\n",
       "      <td>Flour</td>\n",
       "      <td>69.914405</td>\n",
       "    </tr>\n",
       "    <tr>\n",
       "      <th>2</th>\n",
       "      <td>Sugar</td>\n",
       "      <td>22.935973</td>\n",
       "    </tr>\n",
       "    <tr>\n",
       "      <th>6</th>\n",
       "      <td>Vanilla</td>\n",
       "      <td>10.125000</td>\n",
       "    </tr>\n",
       "    <tr>\n",
       "      <th>1</th>\n",
       "      <td>Milk</td>\n",
       "      <td>9.908097</td>\n",
       "    </tr>\n",
       "    <tr>\n",
       "      <th>4</th>\n",
       "      <td>Egg</td>\n",
       "      <td>9.015598</td>\n",
       "    </tr>\n",
       "    <tr>\n",
       "      <th>3</th>\n",
       "      <td>Butter</td>\n",
       "      <td>8.981520</td>\n",
       "    </tr>\n",
       "    <tr>\n",
       "      <th>5</th>\n",
       "      <td>Baking Powder</td>\n",
       "      <td>0.360000</td>\n",
       "    </tr>\n",
       "  </tbody>\n",
       "</table>\n",
       "</div>"
      ],
      "text/plain": [
       "         Feature      score\n",
       "0          Flour  69.914405\n",
       "2          Sugar  22.935973\n",
       "6        Vanilla  10.125000\n",
       "1           Milk   9.908097\n",
       "4            Egg   9.015598\n",
       "3         Butter   8.981520\n",
       "5  Baking Powder   0.360000"
      ]
     },
     "execution_count": 271,
     "metadata": {},
     "output_type": "execute_result"
    }
   ],
   "source": [
    "Feature_importance_score_c_nlarge"
   ]
  },
  {
   "cell_type": "code",
   "execution_count": 272,
   "id": "4063c42d",
   "metadata": {},
   "outputs": [
    {
     "data": {
      "text/plain": [
       "Text(0.5, 1.0, 'Feature importance plot by f_classif')"
      ]
     },
     "execution_count": 272,
     "metadata": {},
     "output_type": "execute_result"
    },
    {
     "data": {
      "image/png": "[encoded data removed]",
      "text/plain": [
       "<Figure size 720x360 with 1 Axes>"
      ]
     },
     "metadata": {
      "needs_background": "light"
     },
     "output_type": "display_data"
    }
   ],
   "source": [
    "plt.figure(figsize = (10,5))\n",
    "plt.bar(Feature_importance_score_c_nlarge['Feature'] ,Feature_importance_score_c_nlarge['score'])\n",
    "plt.xlabel('Faetures')\n",
    "plt.ylabel('score')\n",
    "plt.title('Feature importance plot by f_classif')"
   ]
  },
  {
   "cell_type": "code",
   "execution_count": 362,
   "id": "8538f471",
   "metadata": {},
   "outputs": [],
   "source": [
    "label = LabelEncoder()\n",
    "df['Type'] = label.fit_transform(df['Type'])"
   ]
  },
  {
   "cell_type": "code",
   "execution_count": 363,
   "id": "85f69bde",
   "metadata": {},
   "outputs": [
    {
     "data": {
      "text/html": [
       "<div>\n",
       "<style scoped>\n",
       "    .dataframe tbody tr th:only-of-type {\n",
       "        vertical-align: middle;\n",
       "    }\n",
       "\n",
       "    .dataframe tbody tr th {\n",
       "        vertical-align: top;\n",
       "    }\n",
       "\n",
       "    .dataframe thead th {\n",
       "        text-align: right;\n",
       "    }\n",
       "</style>\n",
       "<table border=\"1\" class=\"dataframe\">\n",
       "  <thead>\n",
       "    <tr style=\"text-align: right;\">\n",
       "      <th></th>\n",
       "      <th>Type</th>\n",
       "      <th>Flour</th>\n",
       "      <th>Milk</th>\n",
       "      <th>Sugar</th>\n",
       "      <th>Butter</th>\n",
       "      <th>Egg</th>\n",
       "      <th>Baking Powder</th>\n",
       "      <th>Vanilla</th>\n",
       "      <th>Salt</th>\n",
       "    </tr>\n",
       "  </thead>\n",
       "  <tbody>\n",
       "    <tr>\n",
       "      <th>0</th>\n",
       "      <td>1</td>\n",
       "      <td>55</td>\n",
       "      <td>28</td>\n",
       "      <td>3</td>\n",
       "      <td>7</td>\n",
       "      <td>5</td>\n",
       "      <td>2</td>\n",
       "      <td>0</td>\n",
       "      <td>0</td>\n",
       "    </tr>\n",
       "    <tr>\n",
       "      <th>1</th>\n",
       "      <td>1</td>\n",
       "      <td>47</td>\n",
       "      <td>24</td>\n",
       "      <td>12</td>\n",
       "      <td>6</td>\n",
       "      <td>9</td>\n",
       "      <td>1</td>\n",
       "      <td>0</td>\n",
       "      <td>0</td>\n",
       "    </tr>\n",
       "  </tbody>\n",
       "</table>\n",
       "</div>"
      ],
      "text/plain": [
       "   Type  Flour  Milk  Sugar  Butter  Egg  Baking Powder  Vanilla  Salt\n",
       "0     1     55    28      3       7    5              2        0     0\n",
       "1     1     47    24     12       6    9              1        0     0"
      ]
     },
     "execution_count": 363,
     "metadata": {},
     "output_type": "execute_result"
    }
   ],
   "source": [
    "df.head(2)"
   ]
  },
  {
   "cell_type": "code",
   "execution_count": 364,
   "id": "76cab6b0",
   "metadata": {},
   "outputs": [],
   "source": [
    "x = df.loc[:, ['Flour' ,'Sugar']]\n",
    "y = df.loc[: , 'Type']"
   ]
  },
  {
   "cell_type": "code",
   "execution_count": 365,
   "id": "533c5527",
   "metadata": {},
   "outputs": [
    {
     "data": {
      "text/html": [
       "<div>\n",
       "<style scoped>\n",
       "    .dataframe tbody tr th:only-of-type {\n",
       "        vertical-align: middle;\n",
       "    }\n",
       "\n",
       "    .dataframe tbody tr th {\n",
       "        vertical-align: top;\n",
       "    }\n",
       "\n",
       "    .dataframe thead th {\n",
       "        text-align: right;\n",
       "    }\n",
       "</style>\n",
       "<table border=\"1\" class=\"dataframe\">\n",
       "  <thead>\n",
       "    <tr style=\"text-align: right;\">\n",
       "      <th></th>\n",
       "      <th>Flour</th>\n",
       "      <th>Sugar</th>\n",
       "    </tr>\n",
       "  </thead>\n",
       "  <tbody>\n",
       "    <tr>\n",
       "      <th>0</th>\n",
       "      <td>55</td>\n",
       "      <td>3</td>\n",
       "    </tr>\n",
       "    <tr>\n",
       "      <th>1</th>\n",
       "      <td>47</td>\n",
       "      <td>12</td>\n",
       "    </tr>\n",
       "  </tbody>\n",
       "</table>\n",
       "</div>"
      ],
      "text/plain": [
       "   Flour  Sugar\n",
       "0     55      3\n",
       "1     47     12"
      ]
     },
     "execution_count": 365,
     "metadata": {},
     "output_type": "execute_result"
    }
   ],
   "source": [
    "x.head(2)"
   ]
  },
  {
   "cell_type": "code",
   "execution_count": 366,
   "id": "a64bbbd9",
   "metadata": {},
   "outputs": [
    {
     "data": {
      "text/plain": [
       "0    1\n",
       "1    1\n",
       "Name: Type, dtype: int32"
      ]
     },
     "execution_count": 366,
     "metadata": {},
     "output_type": "execute_result"
    }
   ],
   "source": [
    "y.head(2)"
   ]
  },
  {
   "cell_type": "code",
   "execution_count": 367,
   "id": "58160365",
   "metadata": {},
   "outputs": [],
   "source": [
    "x_train , x_test , y_train , y_test = train_test_split(x , y , test_size = 0.2 , random_state = 42)"
   ]
  },
  {
   "cell_type": "markdown",
   "id": "75b59536",
   "metadata": {},
   "source": [
    "## Prepare the data"
   ]
  },
  {
   "cell_type": "code",
   "execution_count": 368,
   "id": "1f9d6e82",
   "metadata": {},
   "outputs": [
    {
     "name": "stderr",
     "output_type": "stream",
     "text": [
      "C:\\Users\\Pritam\\anaconda3\\lib\\site-packages\\seaborn\\_decorators.py:36: FutureWarning: Pass the following variables as keyword args: x, y. From version 0.12, the only valid positional argument will be `data`, and passing other arguments without an explicit keyword will result in an error or misinterpretation.\n",
      "  warnings.warn(\n"
     ]
    },
    {
     "data": {
      "text/plain": [
       "<seaborn.axisgrid.FacetGrid at 0x23eb79bcc40>"
      ]
     },
     "execution_count": 368,
     "metadata": {},
     "output_type": "execute_result"
    },
    {
     "data": {
      "image/png": "[encoded data removed]",
      "text/plain": [
       "<Figure size 414.895x360 with 1 Axes>"
      ]
     },
     "metadata": {
      "needs_background": "light"
     },
     "output_type": "display_data"
    }
   ],
   "source": [
    "# hue - in a hue which column want to color encode\n",
    "sns.lmplot('Flour' ,'Sugar' , data = df , hue = 'Type'  , palette = 'Set1')"
   ]
  },
  {
   "cell_type": "code",
   "execution_count": 369,
   "id": "8f6f7655",
   "metadata": {},
   "outputs": [
    {
     "data": {
      "text/plain": [
       "<matplotlib.collections.PathCollection at 0x23eb612e5e0>"
      ]
     },
     "execution_count": 369,
     "metadata": {},
     "output_type": "execute_result"
    },
    {
     "data": {
      "image/png": "[encoded data removed]",
      "text/plain": [
       "<Figure size 432x288 with 1 Axes>"
      ]
     },
     "metadata": {
      "needs_background": "light"
     },
     "output_type": "display_data"
    }
   ],
   "source": [
    "plt.scatter(df['Flour'] , df['Sugar'])"
   ]
  },
  {
   "cell_type": "markdown",
   "id": "65fc202a",
   "metadata": {},
   "source": [
    "## Data is in linear but -ve linear"
   ]
  },
  {
   "cell_type": "markdown",
   "id": "8e6faab0",
   "metadata": {},
   "source": [
    "## model building"
   ]
  },
  {
   "cell_type": "code",
   "execution_count": 370,
   "id": "7bc95e3b",
   "metadata": {},
   "outputs": [],
   "source": [
    "from sklearn.svm import SVC"
   ]
  },
  {
   "cell_type": "code",
   "execution_count": 371,
   "id": "480026d6",
   "metadata": {},
   "outputs": [],
   "source": [
    "model = SVC(kernel = 'linear')"
   ]
  },
  {
   "cell_type": "markdown",
   "id": "59824e38",
   "metadata": {},
   "source": [
    "## Fit the model"
   ]
  },
  {
   "cell_type": "code",
   "execution_count": 398,
   "id": "382f7561",
   "metadata": {},
   "outputs": [
    {
     "data": {
      "text/plain": [
       "SVC(kernel='linear')"
      ]
     },
     "execution_count": 398,
     "metadata": {},
     "output_type": "execute_result"
    }
   ],
   "source": [
    "model.fit(x_train, y_train)"
   ]
  },
  {
   "cell_type": "code",
   "execution_count": 399,
   "id": "781ac590",
   "metadata": {},
   "outputs": [
    {
     "data": {
      "text/plain": [
       "1.0"
      ]
     },
     "execution_count": 399,
     "metadata": {},
     "output_type": "execute_result"
    }
   ],
   "source": [
    "model.score(x_train, y_train)"
   ]
  },
  {
   "cell_type": "code",
   "execution_count": 400,
   "id": "2491b0f7",
   "metadata": {},
   "outputs": [],
   "source": [
    "from sklearn import svm"
   ]
  },
  {
   "cell_type": "code",
   "execution_count": 401,
   "id": "0bd68d3b",
   "metadata": {},
   "outputs": [
    {
     "data": {
      "text/plain": [
       "SVC()"
      ]
     },
     "execution_count": 401,
     "metadata": {},
     "output_type": "execute_result"
    }
   ],
   "source": [
    "model_1 = svm.SVC()\n",
    "model_1.fit(x_train , y_train)"
   ]
  },
  {
   "cell_type": "code",
   "execution_count": 402,
   "id": "4cb7b7f2",
   "metadata": {},
   "outputs": [
    {
     "data": {
      "text/plain": [
       "0.9375"
      ]
     },
     "execution_count": 402,
     "metadata": {},
     "output_type": "execute_result"
    }
   ],
   "source": [
    "model_1.score(x_train , y_train)"
   ]
  },
  {
   "cell_type": "code",
   "execution_count": 403,
   "id": "143753ad",
   "metadata": {},
   "outputs": [
    {
     "data": {
      "text/plain": [
       "SVC(kernel='poly')"
      ]
     },
     "execution_count": 403,
     "metadata": {},
     "output_type": "execute_result"
    }
   ],
   "source": [
    "model_2 = svm.SVC(kernel = 'poly')\n",
    "model_2.fit(x_train, y_train)"
   ]
  },
  {
   "cell_type": "code",
   "execution_count": 404,
   "id": "2190de40",
   "metadata": {},
   "outputs": [
    {
     "data": {
      "text/plain": [
       "1.0"
      ]
     },
     "execution_count": 404,
     "metadata": {},
     "output_type": "execute_result"
    }
   ],
   "source": [
    "model_2.score(x_train , y_train)"
   ]
  },
  {
   "cell_type": "markdown",
   "id": "b10bf459",
   "metadata": {},
   "source": [
    "## Data Visualization"
   ]
  },
  {
   "cell_type": "code",
   "execution_count": 405,
   "id": "de630003",
   "metadata": {},
   "outputs": [
    {
     "data": {
      "text/plain": [
       "array([[0.60868236, 0.17390925]])"
      ]
     },
     "execution_count": 405,
     "metadata": {},
     "output_type": "execute_result"
    }
   ],
   "source": [
    "model.coef_"
   ]
  },
  {
   "cell_type": "code",
   "execution_count": 406,
   "id": "27ee9719",
   "metadata": {},
   "outputs": [
    {
     "data": {
      "text/plain": [
       "array([-29.34717784])"
      ]
     },
     "execution_count": 406,
     "metadata": {},
     "output_type": "execute_result"
    }
   ],
   "source": [
    "model.intercept_"
   ]
  },
  {
   "cell_type": "code",
   "execution_count": 407,
   "id": "c98f05d4",
   "metadata": {},
   "outputs": [],
   "source": [
    "y_pred = model.predict(x_test)"
   ]
  },
  {
   "cell_type": "code",
   "execution_count": 408,
   "id": "30bed65f",
   "metadata": {},
   "outputs": [
    {
     "data": {
      "text/plain": [
       "array([1, 0, 1, 1])"
      ]
     },
     "execution_count": 408,
     "metadata": {},
     "output_type": "execute_result"
    }
   ],
   "source": [
    "y_pred"
   ]
  },
  {
   "cell_type": "code",
   "execution_count": 409,
   "id": "e4326ae5",
   "metadata": {},
   "outputs": [
    {
     "data": {
      "text/plain": [
       "array([0])"
      ]
     },
     "execution_count": 409,
     "metadata": {},
     "output_type": "execute_result"
    }
   ],
   "source": [
    "#model.predict([[20 , 40]])\n",
    "model.predict([[42,20]])   # cupcacke"
   ]
  },
  {
   "cell_type": "code",
   "execution_count": 411,
   "id": "f7d11b22",
   "metadata": {},
   "outputs": [
    {
     "data": {
      "text/plain": [
       "array([[42., 16.],\n",
       "       [45., 17.],\n",
       "       [47., 10.]])"
      ]
     },
     "execution_count": 411,
     "metadata": {},
     "output_type": "execute_result"
    }
   ],
   "source": [
    "model.support_vectors_"
   ]
  },
  {
   "cell_type": "code",
   "execution_count": 413,
   "id": "adc0a34d",
   "metadata": {},
   "outputs": [
    {
     "data": {
      "text/plain": [
       "array([30.        , 30.6122449 , 31.2244898 , 31.83673469, 32.44897959,\n",
       "       33.06122449, 33.67346939, 34.28571429, 34.89795918, 35.51020408,\n",
       "       36.12244898, 36.73469388, 37.34693878, 37.95918367, 38.57142857,\n",
       "       39.18367347, 39.79591837, 40.40816327, 41.02040816, 41.63265306,\n",
       "       42.24489796, 42.85714286, 43.46938776, 44.08163265, 44.69387755,\n",
       "       45.30612245, 45.91836735, 46.53061224, 47.14285714, 47.75510204,\n",
       "       48.36734694, 48.97959184, 49.59183673, 50.20408163, 50.81632653,\n",
       "       51.42857143, 52.04081633, 52.65306122, 53.26530612, 53.87755102,\n",
       "       54.48979592, 55.10204082, 55.71428571, 56.32653061, 56.93877551,\n",
       "       57.55102041, 58.16326531, 58.7755102 , 59.3877551 , 60.        ])"
      ]
     },
     "execution_count": 413,
     "metadata": {},
     "output_type": "execute_result"
    }
   ],
   "source": [
    "np.linspace(30,60)"
   ]
  },
  {
   "cell_type": "code",
   "execution_count": 414,
   "id": "86bc1aff",
   "metadata": {},
   "outputs": [],
   "source": [
    "# Get the separating hyperplane\n",
    "w = model.coef_[0]\n",
    "a = -w[0] / w[1]\n",
    "xx = np.linspace(30, 60)\n",
    "yy = a * xx - (model.intercept_[0]) / w[1]\n",
    "\n",
    "# Plot the parallels to the separating hyperplane that pass through the support vectors\n",
    "b = model.support_vectors_[0]\n",
    "yy_down = a * xx + (b[1] - a * b[0])\n",
    "b = model.support_vectors_[-1]\n",
    "yy_up = a * xx + (b[1] - a * b[0])"
   ]
  },
  {
   "cell_type": "code",
   "execution_count": 432,
   "id": "952654a9",
   "metadata": {},
   "outputs": [
    {
     "name": "stderr",
     "output_type": "stream",
     "text": [
      "C:\\Users\\Pritam\\anaconda3\\lib\\site-packages\\seaborn\\_decorators.py:36: FutureWarning: Pass the following variables as keyword args: x, y. From version 0.12, the only valid positional argument will be `data`, and passing other arguments without an explicit keyword will result in an error or misinterpretation.\n",
      "  warnings.warn(\n"
     ]
    },
    {
     "data": {
      "text/plain": [
       "[<matplotlib.lines.Line2D at 0x23eb908faf0>]"
      ]
     },
     "execution_count": 432,
     "metadata": {},
     "output_type": "execute_result"
    },
    {
     "data": {
      "image/png": "[encoded data removed]",
      "text/plain": [
       "<Figure size 414.895x360 with 1 Axes>"
      ]
     },
     "metadata": {
      "needs_background": "light"
     },
     "output_type": "display_data"
    }
   ],
   "source": [
    "# Plot the hyperplane\n",
    "sns.lmplot('Flour' , 'Sugar', data=df, hue='Type', palette='Set1', fit_reg=False, scatter_kws={\"s\": 70})\n",
    "plt.plot(xx, yy , linewidth = 2 , color = 'black')"
   ]
  },
  {
   "cell_type": "code",
   "execution_count": 439,
   "id": "831d1cee",
   "metadata": {},
   "outputs": [
    {
     "name": "stderr",
     "output_type": "stream",
     "text": [
      "C:\\Users\\Pritam\\anaconda3\\lib\\site-packages\\seaborn\\_decorators.py:36: FutureWarning: Pass the following variables as keyword args: x, y. From version 0.12, the only valid positional argument will be `data`, and passing other arguments without an explicit keyword will result in an error or misinterpretation.\n",
      "  warnings.warn(\n"
     ]
    },
    {
     "data": {
      "image/png": "[encoded data removed]",
      "text/plain": [
       "<Figure size 414.895x360 with 1 Axes>"
      ]
     },
     "metadata": {
      "needs_background": "light"
     },
     "output_type": "display_data"
    }
   ],
   "source": [
    "sns.lmplot('Flour' , 'Sugar', data=df, hue='Type', palette='Set1', fit_reg=False, scatter_kws={\"s\": 70}) # two classes\n",
    "plt.plot(xx ,yy , linewidth = 2, color = 'black') # hyperplane\n",
    "plt.plot(xx, yy_down, 'k--' ) #marginLine1 # down marginal plane\n",
    "plt.plot(xx, yy_up  , 'k--') #margineLine2\n",
    "plt.scatter(model.support_vectors_[:, 0], model.support_vectors_[:, 1],\n",
    "            s=80, facecolors='black');"
   ]
  },
  {
   "cell_type": "markdown",
   "id": "5ad14b4c",
   "metadata": {},
   "source": [
    "# To predict new case"
   ]
  },
  {
   "cell_type": "code",
   "execution_count": 444,
   "id": "a1b829aa",
   "metadata": {},
   "outputs": [
    {
     "name": "stdout",
     "output_type": "stream",
     "text": [
      " You're looking for Cupcake\n"
     ]
    }
   ],
   "source": [
    "def muffin_cupcake(Floar , Sugar):\n",
    "    if model.predict([[Floar , Sugar]]) == 0:\n",
    "        print(\" You're looking for Cupcake\")\n",
    "    else:\n",
    "        print(\"You're looking for muffin\")\n",
    "        \n",
    "muffin_cupcake(20 , 30)"
   ]
  },
  {
   "cell_type": "code",
   "execution_count": 461,
   "id": "bf637725",
   "metadata": {},
   "outputs": [
    {
     "name": "stderr",
     "output_type": "stream",
     "text": [
      "C:\\Users\\Pritam\\anaconda3\\lib\\site-packages\\seaborn\\_decorators.py:36: FutureWarning: Pass the following variables as keyword args: x, y. From version 0.12, the only valid positional argument will be `data`, and passing other arguments without an explicit keyword will result in an error or misinterpretation.\n",
      "  warnings.warn(\n"
     ]
    },
    {
     "data": {
      "text/plain": [
       "[<matplotlib.lines.Line2D at 0x23ebb873e20>]"
      ]
     },
     "execution_count": 461,
     "metadata": {},
     "output_type": "execute_result"
    },
    {
     "data": {
      "image/png": "[encoded data removed]",
      "text/plain": [
       "<Figure size 414.895x360 with 1 Axes>"
      ]
     },
     "metadata": {
      "needs_background": "light"
     },
     "output_type": "display_data"
    }
   ],
   "source": [
    "sns.lmplot('Flour' , 'Sugar' , data = df ,  hue = 'Type' , palette = 'Set1' , fit_reg = False  ,scatter_kws = {'s': 70}) # data scatter\n",
    "plt.plot(xx , yy , linewidth = 2 , color = 'black') # hyperplane\n",
    "plt.plot( 20 ,30 , 'ko' , markersize = '25' , )"
   ]
  },
  {
   "cell_type": "code",
   "execution_count": null,
   "id": "3de5623e",
   "metadata": {},
   "outputs": [],
   "source": []
  }
 ],
 "metadata": {
  "kernelspec": {
   "display_name": "Python 3 (ipykernel)",
   "language": "python",
   "name": "python3"
  },
  "language_info": {
   "codemirror_mode": {
    "name": "ipython",
    "version": 3
   },
   "file_extension": ".py",
   "mimetype": "text/x-python",
   "name": "python",
   "nbconvert_exporter": "python",
   "pygments_lexer": "ipython3",
   "version": "3.9.7"
  }
 },
 "nbformat": 4,
 "nbformat_minor": 5
}
