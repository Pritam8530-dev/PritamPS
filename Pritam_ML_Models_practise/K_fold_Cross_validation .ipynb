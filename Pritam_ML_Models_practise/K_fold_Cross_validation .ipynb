{
 "cells": [
  {
   "cell_type": "markdown",
   "metadata": {},
   "source": [
    "# KFold Cross validation and StratifiedKFold validation"
   ]
  },
  {
   "cell_type": "code",
   "execution_count": 1,
   "metadata": {},
   "outputs": [],
   "source": [
    "import numpy as np\n",
    "# load digit dataset\n",
    "from sklearn.datasets import load_digits\n",
    "# load 3 algos\n",
    "from sklearn.linear_model import LogisticRegression\n",
    "from sklearn.svm import SVC\n",
    "from sklearn.ensemble import RandomForestClassifier"
   ]
  },
  {
   "cell_type": "code",
   "execution_count": 2,
   "metadata": {},
   "outputs": [
    {
     "data": {
      "text/plain": [
       "sklearn.utils.Bunch"
      ]
     },
     "execution_count": 2,
     "metadata": {},
     "output_type": "execute_result"
    }
   ],
   "source": [
    "digit = load_digits()\n",
    "type(digit)"
   ]
  },
  {
   "cell_type": "code",
   "execution_count": 3,
   "metadata": {
    "scrolled": true
   },
   "outputs": [
    {
     "name": "stdout",
     "output_type": "stream",
     "text": [
      "['DESCR', 'data', 'feature_names', 'frame', 'images', 'target', 'target_names']\n"
     ]
    }
   ],
   "source": [
    "print(dir(digit))"
   ]
  },
  {
   "cell_type": "markdown",
   "metadata": {},
   "source": [
    "# Lets explore the data"
   ]
  },
  {
   "cell_type": "code",
   "execution_count": 4,
   "metadata": {},
   "outputs": [
    {
     "data": {
      "text/plain": [
       "dict_keys(['data', 'target', 'frame', 'feature_names', 'target_names', 'images', 'DESCR'])"
      ]
     },
     "execution_count": 4,
     "metadata": {},
     "output_type": "execute_result"
    }
   ],
   "source": [
    "digit.keys()"
   ]
  },
  {
   "cell_type": "code",
   "execution_count": 5,
   "metadata": {},
   "outputs": [
    {
     "data": {
      "text/plain": [
       "array([0, 1, 2, 3, 4, 5, 6, 7, 8, 9])"
      ]
     },
     "execution_count": 5,
     "metadata": {},
     "output_type": "execute_result"
    }
   ],
   "source": [
    "# lets check target\n",
    "np.unique(digit.target)"
   ]
  },
  {
   "cell_type": "code",
   "execution_count": 6,
   "metadata": {},
   "outputs": [
    {
     "data": {
      "text/plain": [
       "array([[ 0.,  0.,  0., 12., 13.,  5.,  0.,  0.],\n",
       "       [ 0.,  0.,  0., 11., 16.,  9.,  0.,  0.],\n",
       "       [ 0.,  0.,  3., 15., 16.,  6.,  0.,  0.],\n",
       "       [ 0.,  7., 15., 16., 16.,  2.,  0.,  0.],\n",
       "       [ 0.,  0.,  1., 16., 16.,  3.,  0.,  0.],\n",
       "       [ 0.,  0.,  1., 16., 16.,  6.,  0.,  0.],\n",
       "       [ 0.,  0.,  1., 16., 16.,  6.,  0.,  0.],\n",
       "       [ 0.,  0.,  0., 11., 16., 10.,  0.,  0.]])"
      ]
     },
     "execution_count": 6,
     "metadata": {},
     "output_type": "execute_result"
    }
   ],
   "source": [
    "#lets check image data\n",
    "digit.images[1]"
   ]
  },
  {
   "cell_type": "code",
   "execution_count": 7,
   "metadata": {},
   "outputs": [
    {
     "data": {
      "text/plain": [
       "1"
      ]
     },
     "execution_count": 7,
     "metadata": {},
     "output_type": "execute_result"
    }
   ],
   "source": [
    "digit.target[1]"
   ]
  },
  {
   "cell_type": "code",
   "execution_count": 8,
   "metadata": {},
   "outputs": [
    {
     "data": {
      "image/png": "[encoded data removed]",
      "text/plain": [
       "<Figure size 432x288 with 1 Axes>"
      ]
     },
     "metadata": {
      "needs_background": "light"
     },
     "output_type": "display_data"
    },
    {
     "data": {
      "image/png": "[encoded data removed]",
      "text/plain": [
       "<Figure size 432x288 with 1 Axes>"
      ]
     },
     "metadata": {
      "needs_background": "light"
     },
     "output_type": "display_data"
    },
    {
     "data": {
      "image/png": "[encoded data removed]",
      "text/plain": [
       "<Figure size 432x288 with 1 Axes>"
      ]
     },
     "metadata": {
      "needs_background": "light"
     },
     "output_type": "display_data"
    },
    {
     "data": {
      "image/png": "[encoded data removed]",
      "text/plain": [
       "<Figure size 432x288 with 1 Axes>"
      ]
     },
     "metadata": {
      "needs_background": "light"
     },
     "output_type": "display_data"
    }
   ],
   "source": [
    "import matplotlib.pyplot as plt\n",
    "plt.gray()\n",
    "for i in range(4):\n",
    "    plt.imshow(digit.images[i])\n",
    "    plt.show()"
   ]
  },
  {
   "cell_type": "code",
   "execution_count": 9,
   "metadata": {},
   "outputs": [
    {
     "name": "stdout",
     "output_type": "stream",
     "text": [
      ".. _digits_dataset:\n",
      "\n",
      "Optical recognition of handwritten digits dataset\n",
      "--------------------------------------------------\n",
      "\n",
      "**Data Set Characteristics:**\n",
      "\n",
      "    :Number of Instances: 1797\n",
      "    :Number of Attributes: 64\n",
      "    :Attribute Information: 8x8 image of integer pixels in the range 0..16.\n",
      "    :Missing Attribute Values: None\n",
      "    :Creator: E. Alpaydin (alpaydin '@' boun.edu.tr)\n",
      "    :Date: July; 1998\n",
      "\n",
      "This is a copy of the test set of the UCI ML hand-written digits datasets\n",
      "https://archive.ics.uci.edu/ml/datasets/Optical+Recognition+of+Handwritten+Digits\n",
      "\n",
      "The data set contains images of hand-written digits: 10 classes where\n",
      "each class refers to a digit.\n",
      "\n",
      "Preprocessing programs made available by NIST were used to extract\n",
      "normalized bitmaps of handwritten digits from a preprinted form. From a\n",
      "total of 43 people, 30 contributed to the training set and different 13\n",
      "to the test set. 32x32 bitmaps are divided into nonoverlapping blocks of\n",
      "4x4 and the number of on pixels are counted in each block. This generates\n",
      "an input matrix of 8x8 where each element is an integer in the range\n",
      "0..16. This reduces dimensionality and gives invariance to small\n",
      "distortions.\n",
      "\n",
      "For info on NIST preprocessing routines, see M. D. Garris, J. L. Blue, G.\n",
      "T. Candela, D. L. Dimmick, J. Geist, P. J. Grother, S. A. Janet, and C.\n",
      "L. Wilson, NIST Form-Based Handprint Recognition System, NISTIR 5469,\n",
      "1994.\n",
      "\n",
      ".. topic:: References\n",
      "\n",
      "  - C. Kaynak (1995) Methods of Combining Multiple Classifiers and Their\n",
      "    Applications to Handwritten Digit Recognition, MSc Thesis, Institute of\n",
      "    Graduate Studies in Science and Engineering, Bogazici University.\n",
      "  - E. Alpaydin, C. Kaynak (1998) Cascading Classifiers, Kybernetika.\n",
      "  - Ken Tang and Ponnuthurai N. Suganthan and Xi Yao and A. Kai Qin.\n",
      "    Linear dimensionalityreduction using relevance weighted LDA. School of\n",
      "    Electrical and Electronic Engineering Nanyang Technological University.\n",
      "    2005.\n",
      "  - Claudio Gentile. A New Approximate Maximal Margin Classification\n",
      "    Algorithm. NIPS. 2000.\n",
      "\n"
     ]
    }
   ],
   "source": [
    "print(digit.DESCR)"
   ]
  },
  {
   "cell_type": "code",
   "execution_count": 10,
   "metadata": {},
   "outputs": [
    {
     "name": "stdout",
     "output_type": "stream",
     "text": [
      "[ 0.  0.  5. 13.  9.  1.  0.  0.  0.  0. 13. 15. 10. 15.  5.  0.  0.  3.\n",
      " 15.  2.  0. 11.  8.  0.  0.  4. 12.  0.  0.  8.  8.  0.  0.  5.  8.  0.\n",
      "  0.  9.  8.  0.  0.  4. 11.  0.  1. 12.  7.  0.  0.  2. 14.  5. 10. 12.\n",
      "  0.  0.  0.  0.  6. 13. 10.  0.  0.  0.]\n"
     ]
    }
   ],
   "source": [
    "print(digit.data[0])\n",
    "# this ur X"
   ]
  },
  {
   "cell_type": "code",
   "execution_count": 11,
   "metadata": {},
   "outputs": [
    {
     "name": "stdout",
     "output_type": "stream",
     "text": [
      "0\n"
     ]
    }
   ],
   "source": [
    "print(digit.target[0])\n",
    "# this ur y"
   ]
  },
  {
   "cell_type": "markdown",
   "metadata": {},
   "source": [
    "# train_test_split"
   ]
  },
  {
   "cell_type": "code",
   "execution_count": 12,
   "metadata": {},
   "outputs": [],
   "source": [
    "from sklearn.model_selection import train_test_split"
   ]
  },
  {
   "cell_type": "code",
   "execution_count": 13,
   "metadata": {},
   "outputs": [],
   "source": [
    "X_train,X_test,y_train,y_test=train_test_split(digit.data,digit.target,test_size=0.3)"
   ]
  },
  {
   "cell_type": "markdown",
   "metadata": {},
   "source": [
    "### Logistic Regression"
   ]
  },
  {
   "cell_type": "code",
   "execution_count": 14,
   "metadata": {},
   "outputs": [
    {
     "data": {
      "text/plain": [
       "99.60222752585521"
      ]
     },
     "execution_count": 14,
     "metadata": {},
     "output_type": "execute_result"
    }
   ],
   "source": [
    "lr = LogisticRegression(solver='liblinear')\n",
    "lr.fit(X_train,y_train)\n",
    "lr.score(X_train,y_train)*100"
   ]
  },
  {
   "cell_type": "code",
   "execution_count": 15,
   "metadata": {},
   "outputs": [
    {
     "data": {
      "text/plain": [
       "94.81481481481482"
      ]
     },
     "execution_count": 15,
     "metadata": {},
     "output_type": "execute_result"
    }
   ],
   "source": [
    "lr.score(X_test,y_test)*100"
   ]
  },
  {
   "cell_type": "markdown",
   "metadata": {},
   "source": [
    "## Support vector Machine"
   ]
  },
  {
   "cell_type": "code",
   "execution_count": 16,
   "metadata": {},
   "outputs": [
    {
     "data": {
      "text/plain": [
       "99.76133651551312"
      ]
     },
     "execution_count": 16,
     "metadata": {},
     "output_type": "execute_result"
    }
   ],
   "source": [
    "svm=SVC()\n",
    "svm.fit(X_train,y_train)\n",
    "svm.score(X_train,y_train)*100"
   ]
  },
  {
   "cell_type": "markdown",
   "metadata": {},
   "source": [
    "## RandomForest Classifier"
   ]
  },
  {
   "cell_type": "code",
   "execution_count": 17,
   "metadata": {},
   "outputs": [
    {
     "data": {
      "text/plain": [
       "100.0"
      ]
     },
     "execution_count": 17,
     "metadata": {},
     "output_type": "execute_result"
    }
   ],
   "source": [
    "rf=RandomForestClassifier()\n",
    "rf.fit(X_train,y_train)\n",
    "rf.score(X_train,y_train)*100"
   ]
  },
  {
   "cell_type": "markdown",
   "metadata": {},
   "source": [
    "# K fold"
   ]
  },
  {
   "cell_type": "code",
   "execution_count": 18,
   "metadata": {},
   "outputs": [],
   "source": [
    "#Provides train/test indices to split data in train/test sets.\n",
    "from sklearn.model_selection import KFold"
   ]
  },
  {
   "cell_type": "code",
   "execution_count": 19,
   "metadata": {},
   "outputs": [],
   "source": [
    "#default 5 folds we have\n",
    "kf = KFold(n_splits=2)"
   ]
  },
  {
   "cell_type": "code",
   "execution_count": 20,
   "metadata": {},
   "outputs": [
    {
     "data": {
      "text/plain": [
       "KFold(n_splits=2, random_state=None, shuffle=False)"
      ]
     },
     "execution_count": 20,
     "metadata": {},
     "output_type": "execute_result"
    }
   ],
   "source": [
    "kf"
   ]
  },
  {
   "cell_type": "code",
   "execution_count": 21,
   "metadata": {
    "scrolled": true
   },
   "outputs": [
    {
     "data": {
      "text/plain": [
       "10"
      ]
     },
     "execution_count": 21,
     "metadata": {},
     "output_type": "execute_result"
    }
   ],
   "source": [
    "len([8,12,22,36,4,85,68,97,8,9])"
   ]
  },
  {
   "cell_type": "code",
   "execution_count": 22,
   "metadata": {},
   "outputs": [
    {
     "data": {
      "text/plain": [
       "[(array([5, 6, 7, 8, 9]), array([0, 1, 2, 3, 4])),\n",
       " (array([0, 1, 2, 3, 4]), array([5, 6, 7, 8, 9]))]"
      ]
     },
     "execution_count": 22,
     "metadata": {},
     "output_type": "execute_result"
    }
   ],
   "source": [
    "list(kf.split([8,12,22,36,4,85,68,97,8,9]))"
   ]
  },
  {
   "cell_type": "code",
   "execution_count": 23,
   "metadata": {
    "scrolled": true
   },
   "outputs": [
    {
     "name": "stdout",
     "output_type": "stream",
     "text": [
      "(array([5, 6, 7, 8, 9]), array([0, 1, 2, 3, 4]))\n",
      "(array([0, 1, 2, 3, 4]), array([5, 6, 7, 8, 9]))\n"
     ]
    }
   ],
   "source": [
    "for indices in kf.split([8,12,22,36,4,85,68,97,8,9]):\n",
    "    print(indices)"
   ]
  },
  {
   "cell_type": "code",
   "execution_count": 24,
   "metadata": {
    "scrolled": true
   },
   "outputs": [
    {
     "name": "stdout",
     "output_type": "stream",
     "text": [
      "Train index: [5 6 7 8 9] Test index: [0 1 2 3 4]\n",
      "Train index: [0 1 2 3 4] Test index: [5 6 7 8 9]\n"
     ]
    }
   ],
   "source": [
    "for train_index,test_index in kf.split([8,12,22,36,4,85,68,97,8,9]):\n",
    "    print('Train index:',train_index,'Test index:',test_index)"
   ]
  },
  {
   "cell_type": "code",
   "execution_count": 25,
   "metadata": {},
   "outputs": [
    {
     "data": {
      "text/plain": [
       "KFold(n_splits=5, random_state=None, shuffle=False)"
      ]
     },
     "execution_count": 25,
     "metadata": {},
     "output_type": "execute_result"
    }
   ],
   "source": [
    "kf2 = KFold()\n",
    "# default 5 folds\n",
    "kf2"
   ]
  },
  {
   "cell_type": "code",
   "execution_count": 26,
   "metadata": {},
   "outputs": [
    {
     "name": "stdout",
     "output_type": "stream",
     "text": [
      "(array([2, 3, 4, 5, 6, 7, 8, 9]), array([0, 1]))\n",
      "(array([0, 1, 4, 5, 6, 7, 8, 9]), array([2, 3]))\n",
      "(array([0, 1, 2, 3, 6, 7, 8, 9]), array([4, 5]))\n",
      "(array([0, 1, 2, 3, 4, 5, 8, 9]), array([6, 7]))\n",
      "(array([0, 1, 2, 3, 4, 5, 6, 7]), array([8, 9]))\n"
     ]
    }
   ],
   "source": [
    "for indices in kf2.split([8,12,22,36,4,85,68,97,8,9]):\n",
    "    print(indices)"
   ]
  },
  {
   "cell_type": "code",
   "execution_count": 27,
   "metadata": {
    "scrolled": true
   },
   "outputs": [
    {
     "name": "stdout",
     "output_type": "stream",
     "text": [
      "[22 36  4 85 68 97  8  9] [ 8 12]\n",
      "[ 8 12  4 85 68 97  8  9] [22 36]\n",
      "[ 8 12 22 36 68 97  8  9] [ 4 85]\n",
      "[ 8 12 22 36  4 85  8  9] [68 97]\n",
      "[ 8 12 22 36  4 85 68 97] [8 9]\n"
     ]
    }
   ],
   "source": [
    "import numpy as np\n",
    "a = np.array([8,12,22,36,4,85,68,97,8,9])\n",
    "for train_index,test_index in kf2.split([8,12,22,36,4,85,68,97,8,9]):\n",
    "    print(a[train_index],a[test_index])"
   ]
  },
  {
   "cell_type": "code",
   "execution_count": 28,
   "metadata": {},
   "outputs": [
    {
     "data": {
      "text/plain": [
       "2.0"
      ]
     },
     "execution_count": 28,
     "metadata": {},
     "output_type": "execute_result"
    }
   ],
   "source": [
    "# how the data in the test is decided????\n",
    "# total_no_elements / folds\n",
    "len(a)/5"
   ]
  },
  {
   "cell_type": "markdown",
   "metadata": {},
   "source": [
    "## If we want combined result then lets Create a model function"
   ]
  },
  {
   "cell_type": "code",
   "execution_count": 29,
   "metadata": {},
   "outputs": [],
   "source": [
    "def get_model(model,X_train,X_test,y_train,y_test):\n",
    "    model.fit(X_train,y_train)#training\n",
    "    return model.score(X_test,y_test)*100"
   ]
  },
  {
   "cell_type": "code",
   "execution_count": 30,
   "metadata": {},
   "outputs": [
    {
     "data": {
      "text/plain": [
       "97.4074074074074"
      ]
     },
     "execution_count": 30,
     "metadata": {},
     "output_type": "execute_result"
    }
   ],
   "source": [
    "#calculate testing data accuracy for random forest\n",
    "get_model(rf,X_train,X_test,y_train,y_test)"
   ]
  },
  {
   "cell_type": "code",
   "execution_count": 31,
   "metadata": {},
   "outputs": [
    {
     "data": {
      "text/plain": [
       "98.70370370370371"
      ]
     },
     "execution_count": 31,
     "metadata": {},
     "output_type": "execute_result"
    }
   ],
   "source": [
    "#calculate Testing accuracy for SVM\n",
    "get_model(svm,X_train,X_test,y_train,y_test)"
   ]
  },
  {
   "cell_type": "code",
   "execution_count": 32,
   "metadata": {
    "scrolled": true
   },
   "outputs": [
    {
     "name": "stdout",
     "output_type": "stream",
     "text": [
      "Testing data accuracy for Logistic reg: 94.81481481481482\n",
      "Testing data accuracy for SVM: 98.70370370370371\n",
      "Testing data accuracy for Random Forest: 97.22222222222221\n"
     ]
    }
   ],
   "source": [
    "print('Testing data accuracy for Logistic reg:',get_model(lr,X_train,X_test,y_train,y_test))\n",
    "print('Testing data accuracy for SVM:',get_model(svm,X_train,X_test,y_train,y_test))\n",
    "print('Testing data accuracy for Random Forest:',get_model(rf,X_train,X_test,y_train,y_test))"
   ]
  },
  {
   "cell_type": "code",
   "execution_count": 33,
   "metadata": {},
   "outputs": [
    {
     "name": "stdout",
     "output_type": "stream",
     "text": [
      "LogisticRegression(solver='liblinear') 94.81481481481482\n",
      "SVC() 98.70370370370371\n",
      "RandomForestClassifier() 97.4074074074074\n"
     ]
    }
   ],
   "source": [
    "mdl = [lr,svm,rf]\n",
    "for i in mdl:\n",
    "    print(i,get_model(i,X_train,X_test,y_train,y_test))"
   ]
  },
  {
   "cell_type": "markdown",
   "metadata": {},
   "source": [
    "### Now apply the same method using StratifiedKFold"
   ]
  },
  {
   "cell_type": "code",
   "execution_count": 34,
   "metadata": {},
   "outputs": [],
   "source": [
    "from sklearn.model_selection import StratifiedKFold"
   ]
  },
  {
   "cell_type": "code",
   "execution_count": 41,
   "metadata": {},
   "outputs": [
    {
     "data": {
      "text/plain": [
       "<generator object _BaseKFold.split at 0x00000245F9081430>"
      ]
     },
     "execution_count": 41,
     "metadata": {},
     "output_type": "execute_result"
    }
   ],
   "source": [
    "kf.split(X)"
   ]
  },
  {
   "cell_type": "code",
   "execution_count": 42,
   "metadata": {
    "scrolled": true
   },
   "outputs": [
    {
     "data": {
      "text/plain": [
       "StratifiedKFold(n_splits=5, random_state=None, shuffle=False)"
      ]
     },
     "execution_count": 42,
     "metadata": {},
     "output_type": "execute_result"
    }
   ],
   "source": [
    "StratifiedKFold()"
   ]
  },
  {
   "cell_type": "code",
   "execution_count": 43,
   "metadata": {},
   "outputs": [],
   "source": [
    "X = np.array([[1, 2], [3, 4], [1, 2], [3, 4]])\n",
    "y = np.array([0, 0, 1, 1])"
   ]
  },
  {
   "cell_type": "code",
   "execution_count": 44,
   "metadata": {},
   "outputs": [],
   "source": [
    "skf = StratifiedKFold(n_splits=2)"
   ]
  },
  {
   "cell_type": "code",
   "execution_count": 45,
   "metadata": {},
   "outputs": [
    {
     "data": {
      "text/plain": [
       "<generator object _BaseKFold.split at 0x00000245F9081970>"
      ]
     },
     "execution_count": 45,
     "metadata": {},
     "output_type": "execute_result"
    }
   ],
   "source": [
    "skf.split(X ,y)"
   ]
  },
  {
   "cell_type": "code",
   "execution_count": 46,
   "metadata": {
    "scrolled": false
   },
   "outputs": [
    {
     "data": {
      "text/plain": [
       "[(array([1, 3]), array([0, 2])), (array([0, 2]), array([1, 3]))]"
      ]
     },
     "execution_count": 46,
     "metadata": {},
     "output_type": "execute_result"
    }
   ],
   "source": [
    "#Generate indices to split data into training and test set.\n",
    "list(skf.split(X,y))"
   ]
  },
  {
   "cell_type": "code",
   "execution_count": 47,
   "metadata": {},
   "outputs": [
    {
     "data": {
      "text/plain": [
       "[(array([2, 3]), array([0, 1])), (array([0, 1]), array([2, 3]))]"
      ]
     },
     "execution_count": 47,
     "metadata": {},
     "output_type": "execute_result"
    }
   ],
   "source": [
    "#lets apply kfold\n",
    "list(kf.split(X))"
   ]
  },
  {
   "cell_type": "code",
   "execution_count": 48,
   "metadata": {},
   "outputs": [
    {
     "data": {
      "text/plain": [
       "[(array([2, 6, 7, 8, 9]), array([0, 1, 3, 4, 5])),\n",
       " (array([0, 1, 3, 4, 5]), array([2, 6, 7, 8, 9]))]"
      ]
     },
     "execution_count": 48,
     "metadata": {},
     "output_type": "execute_result"
    }
   ],
   "source": [
    "list(skf.split([8,12,22,36,4,85,68,97,8,9],[0,0,0,1,1,1,1,1,1,1]))"
   ]
  },
  {
   "cell_type": "code",
   "execution_count": 49,
   "metadata": {
    "scrolled": true
   },
   "outputs": [
    {
     "name": "stdout",
     "output_type": "stream",
     "text": [
      "train_index: [1 3] test index: [0 2]\n",
      "train_index: [0 2] test index: [1 3]\n"
     ]
    }
   ],
   "source": [
    "for train_index,test_index in skf.split(X,y): #stratified\n",
    "    print('train_index:',train_index,'test index:',test_index)\n",
    "X_train, X_test = X[train_index], X[test_index]"
   ]
  },
  {
   "cell_type": "code",
   "execution_count": 50,
   "metadata": {
    "scrolled": false
   },
   "outputs": [
    {
     "name": "stdout",
     "output_type": "stream",
     "text": [
      "train_index: [2 3] test index: [0 1]\n",
      "train_index: [0 1] test index: [2 3]\n"
     ]
    }
   ],
   "source": [
    "for train_index,test_index in kf.split(X,y): #kfold\n",
    "    print('train_index:',train_index,'test index:',test_index)\n",
    "X_train, X_test = X[train_index], X[test_index]"
   ]
  },
  {
   "cell_type": "markdown",
   "metadata": {},
   "source": [
    "## Use all above things in to one block"
   ]
  },
  {
   "cell_type": "code",
   "execution_count": 51,
   "metadata": {},
   "outputs": [
    {
     "data": {
      "text/plain": [
       "KFold(n_splits=2, random_state=None, shuffle=False)"
      ]
     },
     "execution_count": 51,
     "metadata": {},
     "output_type": "execute_result"
    }
   ],
   "source": [
    "kf"
   ]
  },
  {
   "cell_type": "code",
   "execution_count": 52,
   "metadata": {},
   "outputs": [
    {
     "name": "stdout",
     "output_type": "stream",
     "text": [
      "[ 899  900  901  902  903  904  905  906  907  908  909  910  911  912\n",
      "  913  914  915  916  917  918  919  920  921  922  923  924  925  926\n",
      "  927  928  929  930  931  932  933  934  935  936  937  938  939  940\n",
      "  941  942  943  944  945  946  947  948  949  950  951  952  953  954\n",
      "  955  956  957  958  959  960  961  962  963  964  965  966  967  968\n",
      "  969  970  971  972  973  974  975  976  977  978  979  980  981  982\n",
      "  983  984  985  986  987  988  989  990  991  992  993  994  995  996\n",
      "  997  998  999 1000 1001 1002 1003 1004 1005 1006 1007 1008 1009 1010\n",
      " 1011 1012 1013 1014 1015 1016 1017 1018 1019 1020 1021 1022 1023 1024\n",
      " 1025 1026 1027 1028 1029 1030 1031 1032 1033 1034 1035 1036 1037 1038\n",
      " 1039 1040 1041 1042 1043 1044 1045 1046 1047 1048 1049 1050 1051 1052\n",
      " 1053 1054 1055 1056 1057 1058 1059 1060 1061 1062 1063 1064 1065 1066\n",
      " 1067 1068 1069 1070 1071 1072 1073 1074 1075 1076 1077 1078 1079 1080\n",
      " 1081 1082 1083 1084 1085 1086 1087 1088 1089 1090 1091 1092 1093 1094\n",
      " 1095 1096 1097 1098 1099 1100 1101 1102 1103 1104 1105 1106 1107 1108\n",
      " 1109 1110 1111 1112 1113 1114 1115 1116 1117 1118 1119 1120 1121 1122\n",
      " 1123 1124 1125 1126 1127 1128 1129 1130 1131 1132 1133 1134 1135 1136\n",
      " 1137 1138 1139 1140 1141 1142 1143 1144 1145 1146 1147 1148 1149 1150\n",
      " 1151 1152 1153 1154 1155 1156 1157 1158 1159 1160 1161 1162 1163 1164\n",
      " 1165 1166 1167 1168 1169 1170 1171 1172 1173 1174 1175 1176 1177 1178\n",
      " 1179 1180 1181 1182 1183 1184 1185 1186 1187 1188 1189 1190 1191 1192\n",
      " 1193 1194 1195 1196 1197 1198 1199 1200 1201 1202 1203 1204 1205 1206\n",
      " 1207 1208 1209 1210 1211 1212 1213 1214 1215 1216 1217 1218 1219 1220\n",
      " 1221 1222 1223 1224 1225 1226 1227 1228 1229 1230 1231 1232 1233 1234\n",
      " 1235 1236 1237 1238 1239 1240 1241 1242 1243 1244 1245 1246 1247 1248\n",
      " 1249 1250 1251 1252 1253 1254 1255 1256 1257 1258 1259 1260 1261 1262\n",
      " 1263 1264 1265 1266 1267 1268 1269 1270 1271 1272 1273 1274 1275 1276\n",
      " 1277 1278 1279 1280 1281 1282 1283 1284 1285 1286 1287 1288 1289 1290\n",
      " 1291 1292 1293 1294 1295 1296 1297 1298 1299 1300 1301 1302 1303 1304\n",
      " 1305 1306 1307 1308 1309 1310 1311 1312 1313 1314 1315 1316 1317 1318\n",
      " 1319 1320 1321 1322 1323 1324 1325 1326 1327 1328 1329 1330 1331 1332\n",
      " 1333 1334 1335 1336 1337 1338 1339 1340 1341 1342 1343 1344 1345 1346\n",
      " 1347 1348 1349 1350 1351 1352 1353 1354 1355 1356 1357 1358 1359 1360\n",
      " 1361 1362 1363 1364 1365 1366 1367 1368 1369 1370 1371 1372 1373 1374\n",
      " 1375 1376 1377 1378 1379 1380 1381 1382 1383 1384 1385 1386 1387 1388\n",
      " 1389 1390 1391 1392 1393 1394 1395 1396 1397 1398 1399 1400 1401 1402\n",
      " 1403 1404 1405 1406 1407 1408 1409 1410 1411 1412 1413 1414 1415 1416\n",
      " 1417 1418 1419 1420 1421 1422 1423 1424 1425 1426 1427 1428 1429 1430\n",
      " 1431 1432 1433 1434 1435 1436 1437 1438 1439 1440 1441 1442 1443 1444\n",
      " 1445 1446 1447 1448 1449 1450 1451 1452 1453 1454 1455 1456 1457 1458\n",
      " 1459 1460 1461 1462 1463 1464 1465 1466 1467 1468 1469 1470 1471 1472\n",
      " 1473 1474 1475 1476 1477 1478 1479 1480 1481 1482 1483 1484 1485 1486\n",
      " 1487 1488 1489 1490 1491 1492 1493 1494 1495 1496 1497 1498 1499 1500\n",
      " 1501 1502 1503 1504 1505 1506 1507 1508 1509 1510 1511 1512 1513 1514\n",
      " 1515 1516 1517 1518 1519 1520 1521 1522 1523 1524 1525 1526 1527 1528\n",
      " 1529 1530 1531 1532 1533 1534 1535 1536 1537 1538 1539 1540 1541 1542\n",
      " 1543 1544 1545 1546 1547 1548 1549 1550 1551 1552 1553 1554 1555 1556\n",
      " 1557 1558 1559 1560 1561 1562 1563 1564 1565 1566 1567 1568 1569 1570\n",
      " 1571 1572 1573 1574 1575 1576 1577 1578 1579 1580 1581 1582 1583 1584\n",
      " 1585 1586 1587 1588 1589 1590 1591 1592 1593 1594 1595 1596 1597 1598\n",
      " 1599 1600 1601 1602 1603 1604 1605 1606 1607 1608 1609 1610 1611 1612\n",
      " 1613 1614 1615 1616 1617 1618 1619 1620 1621 1622 1623 1624 1625 1626\n",
      " 1627 1628 1629 1630 1631 1632 1633 1634 1635 1636 1637 1638 1639 1640\n",
      " 1641 1642 1643 1644 1645 1646 1647 1648 1649 1650 1651 1652 1653 1654\n",
      " 1655 1656 1657 1658 1659 1660 1661 1662 1663 1664 1665 1666 1667 1668\n",
      " 1669 1670 1671 1672 1673 1674 1675 1676 1677 1678 1679 1680 1681 1682\n",
      " 1683 1684 1685 1686 1687 1688 1689 1690 1691 1692 1693 1694 1695 1696\n",
      " 1697 1698 1699 1700 1701 1702 1703 1704 1705 1706 1707 1708 1709 1710\n",
      " 1711 1712 1713 1714 1715 1716 1717 1718 1719 1720 1721 1722 1723 1724\n",
      " 1725 1726 1727 1728 1729 1730 1731 1732 1733 1734 1735 1736 1737 1738\n",
      " 1739 1740 1741 1742 1743 1744 1745 1746 1747 1748 1749 1750 1751 1752\n",
      " 1753 1754 1755 1756 1757 1758 1759 1760 1761 1762 1763 1764 1765 1766\n",
      " 1767 1768 1769 1770 1771 1772 1773 1774 1775 1776 1777 1778 1779 1780\n",
      " 1781 1782 1783 1784 1785 1786 1787 1788 1789 1790 1791 1792 1793 1794\n",
      " 1795 1796] [  0   1   2   3   4   5   6   7   8   9  10  11  12  13  14  15  16  17\n",
      "  18  19  20  21  22  23  24  25  26  27  28  29  30  31  32  33  34  35\n",
      "  36  37  38  39  40  41  42  43  44  45  46  47  48  49  50  51  52  53\n",
      "  54  55  56  57  58  59  60  61  62  63  64  65  66  67  68  69  70  71\n",
      "  72  73  74  75  76  77  78  79  80  81  82  83  84  85  86  87  88  89\n",
      "  90  91  92  93  94  95  96  97  98  99 100 101 102 103 104 105 106 107\n",
      " 108 109 110 111 112 113 114 115 116 117 118 119 120 121 122 123 124 125\n",
      " 126 127 128 129 130 131 132 133 134 135 136 137 138 139 140 141 142 143\n",
      " 144 145 146 147 148 149 150 151 152 153 154 155 156 157 158 159 160 161\n",
      " 162 163 164 165 166 167 168 169 170 171 172 173 174 175 176 177 178 179\n",
      " 180 181 182 183 184 185 186 187 188 189 190 191 192 193 194 195 196 197\n",
      " 198 199 200 201 202 203 204 205 206 207 208 209 210 211 212 213 214 215\n",
      " 216 217 218 219 220 221 222 223 224 225 226 227 228 229 230 231 232 233\n",
      " 234 235 236 237 238 239 240 241 242 243 244 245 246 247 248 249 250 251\n",
      " 252 253 254 255 256 257 258 259 260 261 262 263 264 265 266 267 268 269\n",
      " 270 271 272 273 274 275 276 277 278 279 280 281 282 283 284 285 286 287\n",
      " 288 289 290 291 292 293 294 295 296 297 298 299 300 301 302 303 304 305\n",
      " 306 307 308 309 310 311 312 313 314 315 316 317 318 319 320 321 322 323\n",
      " 324 325 326 327 328 329 330 331 332 333 334 335 336 337 338 339 340 341\n",
      " 342 343 344 345 346 347 348 349 350 351 352 353 354 355 356 357 358 359\n",
      " 360 361 362 363 364 365 366 367 368 369 370 371 372 373 374 375 376 377\n",
      " 378 379 380 381 382 383 384 385 386 387 388 389 390 391 392 393 394 395\n",
      " 396 397 398 399 400 401 402 403 404 405 406 407 408 409 410 411 412 413\n",
      " 414 415 416 417 418 419 420 421 422 423 424 425 426 427 428 429 430 431\n",
      " 432 433 434 435 436 437 438 439 440 441 442 443 444 445 446 447 448 449\n",
      " 450 451 452 453 454 455 456 457 458 459 460 461 462 463 464 465 466 467\n",
      " 468 469 470 471 472 473 474 475 476 477 478 479 480 481 482 483 484 485\n",
      " 486 487 488 489 490 491 492 493 494 495 496 497 498 499 500 501 502 503\n",
      " 504 505 506 507 508 509 510 511 512 513 514 515 516 517 518 519 520 521\n",
      " 522 523 524 525 526 527 528 529 530 531 532 533 534 535 536 537 538 539\n",
      " 540 541 542 543 544 545 546 547 548 549 550 551 552 553 554 555 556 557\n",
      " 558 559 560 561 562 563 564 565 566 567 568 569 570 571 572 573 574 575\n",
      " 576 577 578 579 580 581 582 583 584 585 586 587 588 589 590 591 592 593\n",
      " 594 595 596 597 598 599 600 601 602 603 604 605 606 607 608 609 610 611\n",
      " 612 613 614 615 616 617 618 619 620 621 622 623 624 625 626 627 628 629\n",
      " 630 631 632 633 634 635 636 637 638 639 640 641 642 643 644 645 646 647\n",
      " 648 649 650 651 652 653 654 655 656 657 658 659 660 661 662 663 664 665\n",
      " 666 667 668 669 670 671 672 673 674 675 676 677 678 679 680 681 682 683\n",
      " 684 685 686 687 688 689 690 691 692 693 694 695 696 697 698 699 700 701\n",
      " 702 703 704 705 706 707 708 709 710 711 712 713 714 715 716 717 718 719\n",
      " 720 721 722 723 724 725 726 727 728 729 730 731 732 733 734 735 736 737\n",
      " 738 739 740 741 742 743 744 745 746 747 748 749 750 751 752 753 754 755\n",
      " 756 757 758 759 760 761 762 763 764 765 766 767 768 769 770 771 772 773\n",
      " 774 775 776 777 778 779 780 781 782 783 784 785 786 787 788 789 790 791\n",
      " 792 793 794 795 796 797 798 799 800 801 802 803 804 805 806 807 808 809\n",
      " 810 811 812 813 814 815 816 817 818 819 820 821 822 823 824 825 826 827\n",
      " 828 829 830 831 832 833 834 835 836 837 838 839 840 841 842 843 844 845\n",
      " 846 847 848 849 850 851 852 853 854 855 856 857 858 859 860 861 862 863\n",
      " 864 865 866 867 868 869 870 871 872 873 874 875 876 877 878 879 880 881\n",
      " 882 883 884 885 886 887 888 889 890 891 892 893 894 895 896 897 898]\n",
      "[  0   1   2   3   4   5   6   7   8   9  10  11  12  13  14  15  16  17\n",
      "  18  19  20  21  22  23  24  25  26  27  28  29  30  31  32  33  34  35\n",
      "  36  37  38  39  40  41  42  43  44  45  46  47  48  49  50  51  52  53\n",
      "  54  55  56  57  58  59  60  61  62  63  64  65  66  67  68  69  70  71\n",
      "  72  73  74  75  76  77  78  79  80  81  82  83  84  85  86  87  88  89\n",
      "  90  91  92  93  94  95  96  97  98  99 100 101 102 103 104 105 106 107\n",
      " 108 109 110 111 112 113 114 115 116 117 118 119 120 121 122 123 124 125\n",
      " 126 127 128 129 130 131 132 133 134 135 136 137 138 139 140 141 142 143\n",
      " 144 145 146 147 148 149 150 151 152 153 154 155 156 157 158 159 160 161\n",
      " 162 163 164 165 166 167 168 169 170 171 172 173 174 175 176 177 178 179\n",
      " 180 181 182 183 184 185 186 187 188 189 190 191 192 193 194 195 196 197\n",
      " 198 199 200 201 202 203 204 205 206 207 208 209 210 211 212 213 214 215\n",
      " 216 217 218 219 220 221 222 223 224 225 226 227 228 229 230 231 232 233\n",
      " 234 235 236 237 238 239 240 241 242 243 244 245 246 247 248 249 250 251\n",
      " 252 253 254 255 256 257 258 259 260 261 262 263 264 265 266 267 268 269\n",
      " 270 271 272 273 274 275 276 277 278 279 280 281 282 283 284 285 286 287\n",
      " 288 289 290 291 292 293 294 295 296 297 298 299 300 301 302 303 304 305\n",
      " 306 307 308 309 310 311 312 313 314 315 316 317 318 319 320 321 322 323\n",
      " 324 325 326 327 328 329 330 331 332 333 334 335 336 337 338 339 340 341\n",
      " 342 343 344 345 346 347 348 349 350 351 352 353 354 355 356 357 358 359\n",
      " 360 361 362 363 364 365 366 367 368 369 370 371 372 373 374 375 376 377\n",
      " 378 379 380 381 382 383 384 385 386 387 388 389 390 391 392 393 394 395\n",
      " 396 397 398 399 400 401 402 403 404 405 406 407 408 409 410 411 412 413\n",
      " 414 415 416 417 418 419 420 421 422 423 424 425 426 427 428 429 430 431\n",
      " 432 433 434 435 436 437 438 439 440 441 442 443 444 445 446 447 448 449\n",
      " 450 451 452 453 454 455 456 457 458 459 460 461 462 463 464 465 466 467\n",
      " 468 469 470 471 472 473 474 475 476 477 478 479 480 481 482 483 484 485\n",
      " 486 487 488 489 490 491 492 493 494 495 496 497 498 499 500 501 502 503\n",
      " 504 505 506 507 508 509 510 511 512 513 514 515 516 517 518 519 520 521\n",
      " 522 523 524 525 526 527 528 529 530 531 532 533 534 535 536 537 538 539\n",
      " 540 541 542 543 544 545 546 547 548 549 550 551 552 553 554 555 556 557\n",
      " 558 559 560 561 562 563 564 565 566 567 568 569 570 571 572 573 574 575\n",
      " 576 577 578 579 580 581 582 583 584 585 586 587 588 589 590 591 592 593\n",
      " 594 595 596 597 598 599 600 601 602 603 604 605 606 607 608 609 610 611\n",
      " 612 613 614 615 616 617 618 619 620 621 622 623 624 625 626 627 628 629\n",
      " 630 631 632 633 634 635 636 637 638 639 640 641 642 643 644 645 646 647\n",
      " 648 649 650 651 652 653 654 655 656 657 658 659 660 661 662 663 664 665\n",
      " 666 667 668 669 670 671 672 673 674 675 676 677 678 679 680 681 682 683\n",
      " 684 685 686 687 688 689 690 691 692 693 694 695 696 697 698 699 700 701\n",
      " 702 703 704 705 706 707 708 709 710 711 712 713 714 715 716 717 718 719\n",
      " 720 721 722 723 724 725 726 727 728 729 730 731 732 733 734 735 736 737\n",
      " 738 739 740 741 742 743 744 745 746 747 748 749 750 751 752 753 754 755\n",
      " 756 757 758 759 760 761 762 763 764 765 766 767 768 769 770 771 772 773\n",
      " 774 775 776 777 778 779 780 781 782 783 784 785 786 787 788 789 790 791\n",
      " 792 793 794 795 796 797 798 799 800 801 802 803 804 805 806 807 808 809\n",
      " 810 811 812 813 814 815 816 817 818 819 820 821 822 823 824 825 826 827\n",
      " 828 829 830 831 832 833 834 835 836 837 838 839 840 841 842 843 844 845\n",
      " 846 847 848 849 850 851 852 853 854 855 856 857 858 859 860 861 862 863\n",
      " 864 865 866 867 868 869 870 871 872 873 874 875 876 877 878 879 880 881\n",
      " 882 883 884 885 886 887 888 889 890 891 892 893 894 895 896 897 898] [ 899  900  901  902  903  904  905  906  907  908  909  910  911  912\n",
      "  913  914  915  916  917  918  919  920  921  922  923  924  925  926\n",
      "  927  928  929  930  931  932  933  934  935  936  937  938  939  940\n",
      "  941  942  943  944  945  946  947  948  949  950  951  952  953  954\n",
      "  955  956  957  958  959  960  961  962  963  964  965  966  967  968\n",
      "  969  970  971  972  973  974  975  976  977  978  979  980  981  982\n",
      "  983  984  985  986  987  988  989  990  991  992  993  994  995  996\n",
      "  997  998  999 1000 1001 1002 1003 1004 1005 1006 1007 1008 1009 1010\n",
      " 1011 1012 1013 1014 1015 1016 1017 1018 1019 1020 1021 1022 1023 1024\n",
      " 1025 1026 1027 1028 1029 1030 1031 1032 1033 1034 1035 1036 1037 1038\n",
      " 1039 1040 1041 1042 1043 1044 1045 1046 1047 1048 1049 1050 1051 1052\n",
      " 1053 1054 1055 1056 1057 1058 1059 1060 1061 1062 1063 1064 1065 1066\n",
      " 1067 1068 1069 1070 1071 1072 1073 1074 1075 1076 1077 1078 1079 1080\n",
      " 1081 1082 1083 1084 1085 1086 1087 1088 1089 1090 1091 1092 1093 1094\n",
      " 1095 1096 1097 1098 1099 1100 1101 1102 1103 1104 1105 1106 1107 1108\n",
      " 1109 1110 1111 1112 1113 1114 1115 1116 1117 1118 1119 1120 1121 1122\n",
      " 1123 1124 1125 1126 1127 1128 1129 1130 1131 1132 1133 1134 1135 1136\n",
      " 1137 1138 1139 1140 1141 1142 1143 1144 1145 1146 1147 1148 1149 1150\n",
      " 1151 1152 1153 1154 1155 1156 1157 1158 1159 1160 1161 1162 1163 1164\n",
      " 1165 1166 1167 1168 1169 1170 1171 1172 1173 1174 1175 1176 1177 1178\n",
      " 1179 1180 1181 1182 1183 1184 1185 1186 1187 1188 1189 1190 1191 1192\n",
      " 1193 1194 1195 1196 1197 1198 1199 1200 1201 1202 1203 1204 1205 1206\n",
      " 1207 1208 1209 1210 1211 1212 1213 1214 1215 1216 1217 1218 1219 1220\n",
      " 1221 1222 1223 1224 1225 1226 1227 1228 1229 1230 1231 1232 1233 1234\n",
      " 1235 1236 1237 1238 1239 1240 1241 1242 1243 1244 1245 1246 1247 1248\n",
      " 1249 1250 1251 1252 1253 1254 1255 1256 1257 1258 1259 1260 1261 1262\n",
      " 1263 1264 1265 1266 1267 1268 1269 1270 1271 1272 1273 1274 1275 1276\n",
      " 1277 1278 1279 1280 1281 1282 1283 1284 1285 1286 1287 1288 1289 1290\n",
      " 1291 1292 1293 1294 1295 1296 1297 1298 1299 1300 1301 1302 1303 1304\n",
      " 1305 1306 1307 1308 1309 1310 1311 1312 1313 1314 1315 1316 1317 1318\n",
      " 1319 1320 1321 1322 1323 1324 1325 1326 1327 1328 1329 1330 1331 1332\n",
      " 1333 1334 1335 1336 1337 1338 1339 1340 1341 1342 1343 1344 1345 1346\n",
      " 1347 1348 1349 1350 1351 1352 1353 1354 1355 1356 1357 1358 1359 1360\n",
      " 1361 1362 1363 1364 1365 1366 1367 1368 1369 1370 1371 1372 1373 1374\n",
      " 1375 1376 1377 1378 1379 1380 1381 1382 1383 1384 1385 1386 1387 1388\n",
      " 1389 1390 1391 1392 1393 1394 1395 1396 1397 1398 1399 1400 1401 1402\n",
      " 1403 1404 1405 1406 1407 1408 1409 1410 1411 1412 1413 1414 1415 1416\n",
      " 1417 1418 1419 1420 1421 1422 1423 1424 1425 1426 1427 1428 1429 1430\n",
      " 1431 1432 1433 1434 1435 1436 1437 1438 1439 1440 1441 1442 1443 1444\n",
      " 1445 1446 1447 1448 1449 1450 1451 1452 1453 1454 1455 1456 1457 1458\n",
      " 1459 1460 1461 1462 1463 1464 1465 1466 1467 1468 1469 1470 1471 1472\n",
      " 1473 1474 1475 1476 1477 1478 1479 1480 1481 1482 1483 1484 1485 1486\n",
      " 1487 1488 1489 1490 1491 1492 1493 1494 1495 1496 1497 1498 1499 1500\n",
      " 1501 1502 1503 1504 1505 1506 1507 1508 1509 1510 1511 1512 1513 1514\n",
      " 1515 1516 1517 1518 1519 1520 1521 1522 1523 1524 1525 1526 1527 1528\n",
      " 1529 1530 1531 1532 1533 1534 1535 1536 1537 1538 1539 1540 1541 1542\n",
      " 1543 1544 1545 1546 1547 1548 1549 1550 1551 1552 1553 1554 1555 1556\n",
      " 1557 1558 1559 1560 1561 1562 1563 1564 1565 1566 1567 1568 1569 1570\n",
      " 1571 1572 1573 1574 1575 1576 1577 1578 1579 1580 1581 1582 1583 1584\n",
      " 1585 1586 1587 1588 1589 1590 1591 1592 1593 1594 1595 1596 1597 1598\n",
      " 1599 1600 1601 1602 1603 1604 1605 1606 1607 1608 1609 1610 1611 1612\n",
      " 1613 1614 1615 1616 1617 1618 1619 1620 1621 1622 1623 1624 1625 1626\n",
      " 1627 1628 1629 1630 1631 1632 1633 1634 1635 1636 1637 1638 1639 1640\n",
      " 1641 1642 1643 1644 1645 1646 1647 1648 1649 1650 1651 1652 1653 1654\n",
      " 1655 1656 1657 1658 1659 1660 1661 1662 1663 1664 1665 1666 1667 1668\n",
      " 1669 1670 1671 1672 1673 1674 1675 1676 1677 1678 1679 1680 1681 1682\n",
      " 1683 1684 1685 1686 1687 1688 1689 1690 1691 1692 1693 1694 1695 1696\n",
      " 1697 1698 1699 1700 1701 1702 1703 1704 1705 1706 1707 1708 1709 1710\n",
      " 1711 1712 1713 1714 1715 1716 1717 1718 1719 1720 1721 1722 1723 1724\n",
      " 1725 1726 1727 1728 1729 1730 1731 1732 1733 1734 1735 1736 1737 1738\n",
      " 1739 1740 1741 1742 1743 1744 1745 1746 1747 1748 1749 1750 1751 1752\n",
      " 1753 1754 1755 1756 1757 1758 1759 1760 1761 1762 1763 1764 1765 1766\n",
      " 1767 1768 1769 1770 1771 1772 1773 1774 1775 1776 1777 1778 1779 1780\n",
      " 1781 1782 1783 1784 1785 1786 1787 1788 1789 1790 1791 1792 1793 1794\n",
      " 1795 1796]\n"
     ]
    }
   ],
   "source": [
    "for train_index,test_index in kf.split(digit.data):\n",
    "    print(train_index,test_index)"
   ]
  },
  {
   "cell_type": "code",
   "execution_count": 53,
   "metadata": {},
   "outputs": [
    {
     "data": {
      "text/plain": [
       "KFold(n_splits=2, random_state=None, shuffle=False)"
      ]
     },
     "execution_count": 53,
     "metadata": {},
     "output_type": "execute_result"
    }
   ],
   "source": [
    "kf"
   ]
  },
  {
   "cell_type": "code",
   "execution_count": 54,
   "metadata": {},
   "outputs": [],
   "source": [
    "scoreof_Logistic=[]\n",
    "scoreof_SVM=[]\n",
    "scoreof_rf=[]\n",
    "\n",
    "for train_index,test_index in kf.split(digit.data):#its KFold\n",
    "    X_train,X_test,y_train,y_test= digit.data[train_index],digit.data[test_index],digit.target[train_index],digit.target[test_index]\n",
    "    \n",
    "    scoreof_Logistic.append(get_model(LogisticRegression(solver='liblinear',multi_class='ovr'),X_train,X_test,y_train,y_test))\n",
    "    scoreof_SVM.append(get_model(SVC(kernel='linear'),X_train,X_test,y_train,y_test))\n",
    "    scoreof_rf.append(get_model(RandomForestClassifier(n_estimators=100),X_train,X_test,y_train,y_test))"
   ]
  },
  {
   "cell_type": "code",
   "execution_count": 55,
   "metadata": {},
   "outputs": [
    {
     "data": {
      "text/plain": [
       "[88.54282536151278, 91.64810690423162]"
      ]
     },
     "execution_count": 55,
     "metadata": {},
     "output_type": "execute_result"
    }
   ],
   "source": [
    "scoreof_Logistic"
   ]
  },
  {
   "cell_type": "code",
   "execution_count": 56,
   "metadata": {},
   "outputs": [
    {
     "data": {
      "text/plain": [
       "90.0954661328722"
      ]
     },
     "execution_count": 56,
     "metadata": {},
     "output_type": "execute_result"
    }
   ],
   "source": [
    "#average accuracy of Logisric regression\n",
    "sum(scoreof_Logistic)/2"
   ]
  },
  {
   "cell_type": "code",
   "execution_count": 57,
   "metadata": {},
   "outputs": [
    {
     "data": {
      "text/plain": [
       "90.0954661328722"
      ]
     },
     "execution_count": 57,
     "metadata": {},
     "output_type": "execute_result"
    }
   ],
   "source": [
    "import numpy as np\n",
    "np.mean(scoreof_Logistic)"
   ]
  },
  {
   "cell_type": "code",
   "execution_count": 58,
   "metadata": {},
   "outputs": [
    {
     "data": {
      "text/plain": [
       "[92.99221357063404, 94.43207126948775]"
      ]
     },
     "execution_count": 58,
     "metadata": {},
     "output_type": "execute_result"
    }
   ],
   "source": [
    "scoreof_SVM"
   ]
  },
  {
   "cell_type": "code",
   "execution_count": 59,
   "metadata": {
    "scrolled": true
   },
   "outputs": [
    {
     "data": {
      "text/plain": [
       "[92.1023359288098, 92.87305122494432]"
      ]
     },
     "execution_count": 59,
     "metadata": {},
     "output_type": "execute_result"
    }
   ],
   "source": [
    "scoreof_rf"
   ]
  },
  {
   "cell_type": "markdown",
   "metadata": {},
   "source": [
    "## Apply stratified kfold"
   ]
  },
  {
   "cell_type": "code",
   "execution_count": 60,
   "metadata": {},
   "outputs": [
    {
     "data": {
      "text/plain": [
       "StratifiedKFold(n_splits=2, random_state=None, shuffle=False)"
      ]
     },
     "execution_count": 60,
     "metadata": {},
     "output_type": "execute_result"
    }
   ],
   "source": [
    "skf"
   ]
  },
  {
   "cell_type": "code",
   "execution_count": 61,
   "metadata": {},
   "outputs": [],
   "source": [
    "scoreof_Logistic=[]\n",
    "scoreof_SVM=[]\n",
    "scoreof_rf=[]\n",
    "\n",
    "for train_index,test_index in skf.split(digit.data,digit.target):#its StratifiedKFold\n",
    "    X_train,X_test,y_train,y_test= digit.data[train_index],digit.data[test_index],digit.target[train_index],digit.target[test_index]\n",
    "    \n",
    "    scoreof_Logistic.append(get_model(LogisticRegression(solver='liblinear',multi_class='ovr'),X_train,X_test,y_train,y_test))\n",
    "    scoreof_SVM.append(get_model(SVC(kernel='linear'),X_train,X_test,y_train,y_test))\n",
    "    scoreof_rf.append(get_model(RandomForestClassifier(n_estimators=100),X_train,X_test,y_train,y_test))"
   ]
  },
  {
   "cell_type": "code",
   "execution_count": 62,
   "metadata": {},
   "outputs": [
    {
     "data": {
      "text/plain": [
       "[88.76529477196885, 91.87082405345211]"
      ]
     },
     "execution_count": 62,
     "metadata": {},
     "output_type": "execute_result"
    }
   ],
   "source": [
    "scoreof_Logistic"
   ]
  },
  {
   "cell_type": "code",
   "execution_count": 63,
   "metadata": {},
   "outputs": [
    {
     "data": {
      "text/plain": [
       "[92.54727474972191, 92.53897550111358]"
      ]
     },
     "execution_count": 63,
     "metadata": {},
     "output_type": "execute_result"
    }
   ],
   "source": [
    "scoreof_rf"
   ]
  },
  {
   "cell_type": "code",
   "execution_count": 64,
   "metadata": {},
   "outputs": [
    {
     "data": {
      "text/plain": [
       "[93.32591768631812, 94.76614699331849]"
      ]
     },
     "execution_count": 64,
     "metadata": {},
     "output_type": "execute_result"
    }
   ],
   "source": [
    "scoreof_SVM"
   ]
  },
  {
   "cell_type": "markdown",
   "metadata": {},
   "source": [
    "## Magic of ML starts from here :"
   ]
  },
  {
   "cell_type": "code",
   "execution_count": 65,
   "metadata": {},
   "outputs": [],
   "source": [
    "from sklearn.model_selection import cross_val_score"
   ]
  },
  {
   "cell_type": "code",
   "execution_count": 66,
   "metadata": {},
   "outputs": [
    {
     "data": {
      "text/plain": [
       "array([92.22222222, 88.33333333, 95.26462396, 95.82172702, 89.41504178])"
      ]
     },
     "execution_count": 66,
     "metadata": {},
     "output_type": "execute_result"
    }
   ],
   "source": [
    "#it splits data into 5 folds by default\n",
    "cross_val_score(lr,digit.data,digit.target)*100"
   ]
  },
  {
   "cell_type": "code",
   "execution_count": 67,
   "metadata": {},
   "outputs": [
    {
     "data": {
      "text/plain": [
       "array([93.77777778, 91.09131403, 95.76837416, 90.42316258])"
      ]
     },
     "execution_count": 67,
     "metadata": {},
     "output_type": "execute_result"
    }
   ],
   "source": [
    "cross_val_score(lr,digit.data,digit.target,cv=4)*100"
   ]
  },
  {
   "cell_type": "code",
   "execution_count": 68,
   "metadata": {},
   "outputs": [
    {
     "data": {
      "text/plain": [
       "array([96.49415693, 97.9966611 , 96.49415693])"
      ]
     },
     "execution_count": 68,
     "metadata": {},
     "output_type": "execute_result"
    }
   ],
   "source": [
    "cross_val_score(svm,digit.data,digit.target,cv=3)*100"
   ]
  },
  {
   "cell_type": "code",
   "execution_count": 69,
   "metadata": {},
   "outputs": [
    {
     "data": {
      "text/plain": [
       "array([93.33333333, 90.55555556, 95.82172702, 97.21448468, 92.2005571 ])"
      ]
     },
     "execution_count": 69,
     "metadata": {},
     "output_type": "execute_result"
    }
   ],
   "source": [
    "cross_val_score(rf,digit.data,digit.target)*100"
   ]
  },
  {
   "cell_type": "code",
   "execution_count": 70,
   "metadata": {},
   "outputs": [
    {
     "data": {
      "text/plain": [
       "93.88068709377902"
      ]
     },
     "execution_count": 70,
     "metadata": {},
     "output_type": "execute_result"
    }
   ],
   "source": [
    "(cross_val_score(rf,digit.data,digit.target,cv=5)*100).mean()"
   ]
  },
  {
   "cell_type": "code",
   "execution_count": 71,
   "metadata": {},
   "outputs": [
    {
     "data": {
      "text/plain": [
       "(1797, 64)"
      ]
     },
     "execution_count": 71,
     "metadata": {},
     "output_type": "execute_result"
    }
   ],
   "source": [
    "digit.data.shape"
   ]
  }
 ],
 "metadata": {
  "kernelspec": {
   "display_name": "Python 3 (ipykernel)",
   "language": "python",
   "name": "python3"
  },
  "language_info": {
   "codemirror_mode": {
    "name": "ipython",
    "version": 3
   },
   "file_extension": ".py",
   "mimetype": "text/x-python",
   "name": "python",
   "nbconvert_exporter": "python",
   "pygments_lexer": "ipython3",
   "version": "3.9.7"
  }
 },
 "nbformat": 4,
 "nbformat_minor": 2
}
