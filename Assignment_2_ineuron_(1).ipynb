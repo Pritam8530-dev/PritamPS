{
 "cells": [
  {
   "cell_type": "markdown",
   "id": "751253b0",
   "metadata": {},
   "source": [
    "# 1.What are the two values of the Boolean data type? How do you write   them?"
   ]
  },
  {
   "cell_type": "markdown",
   "id": "137e3dc2",
   "metadata": {},
   "source": [
    " Ans :\n",
    "     Boolian data types has two values :\n",
    "     \n",
    "            1.True\n",
    "            \n",
    "            2.False\n",
    "            \n",
    "            True is 1.\n",
    "            \n",
    "            False is 0.\n",
    "            \n",
    "            eg : True is 1.\n",
    "              \n",
    "                 Ans : True\n",
    "                 \n",
    "                 False is 0.\n",
    "                 \n",
    "                 Ans : True\n",
    "            "
   ]
  },
  {
   "cell_type": "markdown",
   "id": "e1d6bb25",
   "metadata": {},
   "source": [
    "# 2. What are the three different types of Boolean operators?"
   ]
  },
  {
   "cell_type": "markdown",
   "id": "8998c91d",
   "metadata": {},
   "source": [
    "Ans :\n",
    "\n",
    "1. and :  \n",
    "\n",
    "          This is also logical operator and according to condition its results displays in boolian value. so it is \n",
    "\n",
    "          called boolian operator.\n",
    "          \n",
    "          Lets see ,\n",
    "          \n",
    "          eg :\n",
    "          \n",
    "              a = 11 \n",
    "              \n",
    "              b = 21\n",
    "              \n",
    "               a > 10 and b > 20 :\n",
    "              \n",
    "                        Its return True\n",
    "                        \n",
    "                        Ans : True\n",
    "                        \n",
    "              Here,\n",
    "              \n",
    "                   if a is greater than 10 and b is greater than 20, \n",
    "                   \n",
    "                   means its satisfy both condition . \n",
    "                   \n",
    "                   so and is used in the case of when both side condition is True.\n",
    "                   \n",
    "                   \n",
    "                   \n",
    "2. or :      \n",
    "              \n",
    "             This is called or logical operator . if we have need  any one condition is satisfy at that time we \n",
    "             \n",
    "             have to use or .\n",
    "             \n",
    "             Lets see,\n",
    "             \n",
    "             eg :\n",
    "             \n",
    "                 a = 10 \n",
    "                 \n",
    "                 b = 20\n",
    "                 \n",
    "                   a > 5 or b < 25 :\n",
    "                   \n",
    "                           It returns True\n",
    "                           \n",
    "                           Ans : True\n",
    "                 \n",
    "                 \n",
    "                                    \n",
    "                                   \n",
    "         \n",
    "3. not :      \n",
    "             \n",
    "             This is a logical operator . It is used for negation only. means it True into False and False into \n",
    "\n",
    "             True.\n",
    "\n",
    "             Lets see ,\n",
    "             \n",
    "                       eg:\n",
    "                       \n",
    "                          not 1 \n",
    "                          \n",
    "                          Ans : False\n",
    "                          \n",
    "                          \n",
    "        \n",
    "                      \n",
    "                              \n",
    "                   \n",
    "                   "
   ]
  },
  {
   "cell_type": "markdown",
   "id": "5647baff",
   "metadata": {},
   "source": [
    "# 3. Make a list of each Boolean operator's truth tables (i.e. every possible combination of Boolean values for the operator and what it evaluate )."
   ]
  },
  {
   "cell_type": "markdown",
   "id": "12d47c47",
   "metadata": {},
   "source": [
    "Ans :\n",
    "\n",
    "    1. And : True and True is True\n",
    "             True and False is False\n",
    "             False and True is False\n",
    "             False and False is False\n",
    "             \n",
    "    2. OR :  True or True is True\n",
    "             True or False is True\n",
    "             False or False is False\n",
    "             False or True is True.\n",
    "             \n",
    "    3. not : not True is False\n",
    "             not False is True\n",
    "    \n",
    "    "
   ]
  },
  {
   "cell_type": "markdown",
   "id": "c7f16672",
   "metadata": {},
   "source": [
    "# 4. What are the values of the following expressions?\n",
    "\n",
    "# (5 &gt; 4) and (3 == 5)\n",
    "# not (5 &gt; 4)\n",
    "# (5 &gt; 4) or (3 == 5)\n",
    "# not ((5 &gt; 4) or (3 == 5))\n",
    "# (True and True) and (True == False)\n",
    "# (not False) or (not True)"
   ]
  },
  {
   "cell_type": "markdown",
   "id": "ed58c2c6",
   "metadata": {},
   "source": [
    " Ans :\n",
    "      \n",
    "      1.(5>4) and (3==5): 5>4 is True and 3==5 is False.so True or False is False.\n",
    "      \n",
    "      2.not(5>4):not True is False.so this is False.\n",
    "      \n",
    "      3.(5 > 4) or (3 == 5): 5>4 is True .or is boolian operator.3==5 is False. so True or False is True.\n",
    "      \n",
    "      4.not((5>4) or (3==5)): 5>4 is True but here is not is negation not(True) means False. or is used then 3==5                                 \n",
    "                              is False. so False or False is False.\n",
    "      \n",
    "      5.(True and True) and (True==False) : True and True is True and True == False is Flase. so answer is False.\n",
    "      \n",
    "      6.(not False) or (not True) : not False is True and not True is False. so, True or False is True."
   ]
  },
  {
   "cell_type": "markdown",
   "id": "60406b5f",
   "metadata": {},
   "source": [
    "# 5. What are the six comparison operators?"
   ]
  },
  {
   "cell_type": "markdown",
   "id": "7ad44426",
   "metadata": {},
   "source": [
    "Ans :\n",
    "\n",
    "    Comparison operators are :\n",
    "    \n",
    "                              1.== :\n",
    "                                     This is the Equal to operator . Equal to operator is nothing but it just state \n",
    "                                     \n",
    "                                     condition equal to some specific value. \n",
    "                                     \n",
    "                               \n",
    "                              2.> : This is greater than operator . It is used for validating the condition is \n",
    "                              \n",
    "                                    satisfy or not .\n",
    "                                    \n",
    "                                    or  to check value greater than of our condition or not.\n",
    "                                    \n",
    "                                    \n",
    "                              3.>= : This is greator than or equal to operator . It is used for to check or \n",
    "                              \n",
    "                                     validate for our value or iteration value is grater than or equal to that  \n",
    "                                     \n",
    "                                     value.\n",
    "                              \n",
    "                              4.< : This is less than operator . It is used for to check or \n",
    "                              \n",
    "                                     validate for our value or iteration value is less than to that value .\n",
    "                                     \n",
    "                              5.<= : This is less than or equal to operator . It is used for to check or \n",
    "                              \n",
    "                                     validate for our value or iteration value is less than or equal to that value.\n",
    "                                     \n",
    "                              6.!= : This is the  Not Equal to operator . Not Equal to operator is nothing but it \n",
    "                              \n",
    "                                     just state condition  not equal to some specific value. \n",
    "                              \n",
    "                              \n",
    "                              \n",
    "                            "
   ]
  },
  {
   "cell_type": "markdown",
   "id": "859222d8",
   "metadata": {},
   "source": [
    "# 6. How do you tell the difference between the equal to and assignment operators?Describe a condition and when you would use one."
   ]
  },
  {
   "cell_type": "markdown",
   "id": "8d46010b",
   "metadata": {},
   "source": [
    "# Ans :\n",
    "     \n",
    "     1.Equal to operator :\n",
    "                       \n",
    "                       Equal to operator is nothing but it just state condition equal to some specific value. \n",
    "                       \n",
    "                       Means try to say in other words ,\n",
    "                       \n",
    "                       It is used for validation purpose mainly.\n",
    "                       \n",
    "                       validate the condition output is equal to or not to\n",
    "                       \n",
    "                       condition's output .\n",
    "                       \n",
    "                       it just check  condition's other side is similar or equal to with condiition output\n",
    "                       \n",
    "                       eg :\n",
    "                       \n",
    "                       for i in range(0,100):\n",
    "                           if i % 2==0:\n",
    "                                print(\"This is a Even number \",i)\n",
    "                                \n",
    "                                \n",
    "      2.assignment operator :\n",
    "      \n",
    "                             Assignment operator is nothing but its just hold the value in variable .\n",
    "                             \n",
    "                             it is used for to assign the value.\n",
    "                             \n",
    "                             it is used for hold memory.\n",
    "                             \n",
    "                             eg :\n",
    "                             \n",
    "                                 count = 0\n",
    "                                 \n",
    "                                 for i in range(0,7):\n",
    "                                 \n",
    "                                           print(i)\n",
    "                                           \n",
    "                                           i=i+1\n",
    "                                  \n",
    "                                 Here, count is the one variable .inside the variable we are store the 0 value.\n",
    "                                 \n",
    "                                 we are using variable for to just store data or memory or value or assignment \n",
    "                                 \n",
    "                                 purpose.\n",
    "      "
   ]
  },
  {
   "cell_type": "markdown",
   "id": "07c0c1ab",
   "metadata": {},
   "source": [
    "# 7. Identify the three blocks in this code:\n",
    "# spam = 0\n",
    "# if spam == 10:\n",
    "# print(&#39;eggs&#39;)\n",
    "# if spam &gt; 5:\n",
    "# print(&#39;bacon&#39;)\n",
    "# else:\n",
    "# print(&#39;ham&#39;)\n",
    "# print(&#39;spam&#39;)\n",
    "# print(&#39;spam&#39;)"
   ]
  },
  {
   "cell_type": "code",
   "execution_count": 1,
   "id": "7cffc08d",
   "metadata": {},
   "outputs": [
    {
     "name": "stdout",
     "output_type": "stream",
     "text": [
      "ham\n",
      "spam\n",
      "spam\n"
     ]
    }
   ],
   "source": [
    "spam = 0\n",
    "if spam == 10:\n",
    "    print('eggs')\n",
    "if spam > 5:\n",
    "    print('bacon')\n",
    "else:\n",
    "    print('ham')\n",
    "    print('spam')\n",
    "    print('spam')\n"
   ]
  },
  {
   "cell_type": "markdown",
   "id": "73bc2486",
   "metadata": {},
   "source": [
    "Ans : There are three blocks of code ,\n",
    "\n",
    "\n",
    "      1.if where condition is spam == 10\n",
    "\n",
    "      2.second block of code is if contains condition is spam > 5.\n",
    "      \n",
    "      3.Third block of code is else "
   ]
  },
  {
   "cell_type": "markdown",
   "id": "a8e5033b",
   "metadata": {},
   "source": [
    "# 8. Write code that prints Hello if 1 is stored in spam, prints Howdy if 2 is stored in spam, and prints Greetings! if anything else is stored in spam."
   ]
  },
  {
   "cell_type": "code",
   "execution_count": 6,
   "id": "fbb88965",
   "metadata": {},
   "outputs": [
    {
     "name": "stdout",
     "output_type": "stream",
     "text": [
      "Enter the input:Hi\n",
      "Greetings!\n"
     ]
    }
   ],
   "source": [
    "\n",
    "spam = input('Enter the input:')\n",
    "\n",
    "if spam == 'Hello':\n",
    "    print('1')\n",
    "    \n",
    "elif spam == 'Howdy':\n",
    "    print('2')\n",
    "    \n",
    "else :\n",
    "    print('Greetings!')"
   ]
  },
  {
   "cell_type": "markdown",
   "id": "cd74d015",
   "metadata": {},
   "source": [
    "# 9.If your programme is stuck in an endless loop, what keys you’ll press?"
   ]
  },
  {
   "cell_type": "markdown",
   "id": "e18768c4",
   "metadata": {},
   "source": [
    "Ans :\n",
    "\n",
    "     control C : keyboard interupt"
   ]
  },
  {
   "cell_type": "markdown",
   "id": "1387a1f9",
   "metadata": {},
   "source": [
    "# 10. How can you tell the difference between break and continue?"
   ]
  },
  {
   "cell_type": "markdown",
   "id": "687f44fb",
   "metadata": {},
   "source": [
    "# Ans :\n",
    "\n",
    "     1.break :\n",
    "              \n",
    "              breaak is keyword. which stops the current iteration and breaks the loop and gets control out of the               \n",
    "              loop. means , its does not execute after that .\n",
    "              \n",
    "              eg :\n",
    "                  for i in range(7):\n",
    "                       if i == 5:\n",
    "                            break\n",
    "                       print(i)\n",
    "                    \n",
    "               Ans : 1,2,3,4\n",
    "                           \n",
    "    2. continue :\n",
    "                 \n",
    "                 continue is the keyword. which gives immediately control to the loop and it iterates into loop infinitely.  means its skip the current iteration and control goes to next iteration.\n",
    "               eg : \n",
    "                   for i in range(1,8):\n",
    "                        if i==4:\n",
    "                             continue\n",
    "        \n",
    "                        print(i)\n",
    "                        \n",
    "                   Ans : 1,2,3,5,6,7"
   ]
  },
  {
   "cell_type": "markdown",
   "id": "914164f7",
   "metadata": {},
   "source": [
    "# 11. In a for loop, what is the difference between range(10), range(0, 10), and range(0, 10, 1)?"
   ]
  },
  {
   "cell_type": "markdown",
   "id": "319d1827",
   "metadata": {},
   "source": [
    "Ans:\n",
    "\n",
    "    Here in for loop ,\n",
    "    \n",
    "                     1.range(10):\n",
    "                     \n",
    "                                  range is nothing but its generates data. so here range(10).range has three\n",
    "                                  \n",
    "                                  arguments  start,stop, step . here it give only step. so its start by default\n",
    "                                  \n",
    "                                  from 0th index. step is by default 1.\n",
    "                                  \n",
    "                                  so its stepping by 1.\n",
    "                                 \n",
    "                     2.range(0,10):\n",
    "                     \n",
    "                                   Here is defined start and stop arguments. so its start from 0 and ends at 9. so\n",
    "                                   \n",
    "                                   stop is exclude . so there is no any diffrence between first and second.\n",
    "                                   \n",
    "                     3.range(0,10,1):\n",
    "                     \n",
    "                                     Here is defined start, stop, step arguments. so its start from 0 and ends at 9\n",
    "                                     \n",
    "                                     and step size is 1. so there is no any diffrence between first,second,third\n",
    "                                     \n",
    "                      \n",
    "                     #Just we of implimentation is diffrent.\n",
    "                                   \n",
    "                     \n",
    "                  "
   ]
  },
  {
   "cell_type": "markdown",
   "id": "cc89b6ca",
   "metadata": {},
   "source": [
    "# 12. Write a short program that prints the numbers 1 to 10 using a for loop. Then write an equivalent program that prints the numbers 1 to 10 using a while loop."
   ]
  },
  {
   "cell_type": "code",
   "execution_count": 1,
   "id": "991702da",
   "metadata": {},
   "outputs": [
    {
     "name": "stdout",
     "output_type": "stream",
     "text": [
      "1\n",
      "2\n",
      "3\n",
      "4\n",
      "5\n",
      "6\n",
      "7\n",
      "8\n",
      "9\n",
      "10\n"
     ]
    }
   ],
   "source": [
    "for i in range(1,11):\n",
    "    print(i)"
   ]
  },
  {
   "cell_type": "code",
   "execution_count": 1,
   "id": "c1ee05ce",
   "metadata": {},
   "outputs": [
    {
     "name": "stdout",
     "output_type": "stream",
     "text": [
      "1\n",
      "2\n",
      "3\n",
      "4\n",
      "5\n",
      "6\n",
      "7\n",
      "8\n",
      "9\n",
      "10\n"
     ]
    }
   ],
   "source": [
    "#l=[1,2,3,4,5,6,7,8,9,10]\n",
    "i=1\n",
    "while i<11:\n",
    "    print(i)\n",
    "    i=i+1"
   ]
  },
  {
   "cell_type": "markdown",
   "id": "11e5b91b",
   "metadata": {},
   "source": [
    "# 13. If you had a function named bacon() inside a module named spam, how would you call it after importing spam?"
   ]
  },
  {
   "cell_type": "code",
   "execution_count": null,
   "id": "3224a64b",
   "metadata": {},
   "outputs": [],
   "source": [
    "\n",
    "def bacon():\n",
    "    import spam\n",
    "spam.bacon()"
   ]
  },
  {
   "cell_type": "markdown",
   "id": "112769fe",
   "metadata": {},
   "source": [
    "Ans:\n",
    "    \n",
    "    spam.bacon() is way of calling."
   ]
  }
 ],
 "metadata": {
  "kernelspec": {
   "display_name": "Python 3 (ipykernel)",
   "language": "python",
   "name": "python3"
  },
  "language_info": {
   "codemirror_mode": {
    "name": "ipython",
    "version": 3
   },
   "file_extension": ".py",
   "mimetype": "text/x-python",
   "name": "python",
   "nbconvert_exporter": "python",
   "pygments_lexer": "ipython3",
   "version": "3.9.7"
  }
 },
 "nbformat": 4,
 "nbformat_minor": 5
}
