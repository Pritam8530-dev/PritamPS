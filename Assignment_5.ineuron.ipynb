{
 "cells": [
  {
   "cell_type": "markdown",
   "id": "a529e54c",
   "metadata": {},
   "source": [
    "### 1. What does an empty dictionary's code look like?"
   ]
  },
  {
   "cell_type": "markdown",
   "id": "67eabf87",
   "metadata": {},
   "source": [
    "#### Ans :"
   ]
  },
  {
   "cell_type": "code",
   "execution_count": 42,
   "id": "a373ef5b",
   "metadata": {},
   "outputs": [],
   "source": [
    "d = {}"
   ]
  },
  {
   "cell_type": "code",
   "execution_count": 43,
   "id": "1c15d56d",
   "metadata": {},
   "outputs": [
    {
     "data": {
      "text/plain": [
       "dict"
      ]
     },
     "execution_count": 43,
     "metadata": {},
     "output_type": "execute_result"
    }
   ],
   "source": [
    "type(d)"
   ]
  },
  {
   "cell_type": "markdown",
   "id": "d3a0fce8",
   "metadata": {},
   "source": [
    "### 2. What is the value of a dictionary value with the key 'foo' and the value 42?"
   ]
  },
  {
   "cell_type": "markdown",
   "id": "ff7aa532",
   "metadata": {},
   "source": [
    "#### Ans :"
   ]
  },
  {
   "cell_type": "code",
   "execution_count": 44,
   "id": "c4369d42",
   "metadata": {},
   "outputs": [],
   "source": [
    "d = {}"
   ]
  },
  {
   "cell_type": "code",
   "execution_count": 45,
   "id": "59a4fb52",
   "metadata": {},
   "outputs": [],
   "source": [
    "d['foo'] = 42"
   ]
  },
  {
   "cell_type": "code",
   "execution_count": 46,
   "id": "f7318c2f",
   "metadata": {},
   "outputs": [
    {
     "data": {
      "text/plain": [
       "{'foo': 42}"
      ]
     },
     "execution_count": 46,
     "metadata": {},
     "output_type": "execute_result"
    }
   ],
   "source": [
    "d"
   ]
  },
  {
   "cell_type": "code",
   "execution_count": 47,
   "id": "4edb3e93",
   "metadata": {},
   "outputs": [
    {
     "data": {
      "text/plain": [
       "dict_keys(['foo'])"
      ]
     },
     "execution_count": 47,
     "metadata": {},
     "output_type": "execute_result"
    }
   ],
   "source": [
    "d.keys()"
   ]
  },
  {
   "cell_type": "code",
   "execution_count": 48,
   "id": "ae089868",
   "metadata": {},
   "outputs": [
    {
     "data": {
      "text/plain": [
       "dict_values([42])"
      ]
     },
     "execution_count": 48,
     "metadata": {},
     "output_type": "execute_result"
    }
   ],
   "source": [
    "d.values()"
   ]
  },
  {
   "cell_type": "markdown",
   "id": "c31c5a04",
   "metadata": {},
   "source": [
    "#### The value is 42"
   ]
  },
  {
   "cell_type": "markdown",
   "id": "43784b0a",
   "metadata": {},
   "source": [
    "### 3. What is the most significant distinction between a dictionary and a list?"
   ]
  },
  {
   "cell_type": "markdown",
   "id": "2838e256",
   "metadata": {},
   "source": [
    "#### Ans :"
   ]
  },
  {
   "cell_type": "markdown",
   "id": "65b3044d",
   "metadata": {},
   "source": [
    "#### significant distinction between dictionary and list is :\n",
    "    \n",
    "#### List is insertion order preserved so indexing is allowed because of background data structure is array.\n",
    "\n",
    "#### Dictionary does not insertion order preserved so indexing is not allowed because of its backround data structure is  hashtable."
   ]
  },
  {
   "cell_type": "markdown",
   "id": "c9aa4b9d",
   "metadata": {},
   "source": [
    "             List                                                            \n",
    "             \n",
    "             \n",
    "             \n",
    "1. It is sequensial data type .                                       \n",
    "\n",
    "2. It is allowed heterogenous element.                                 \n",
    "\n",
    "3. It is allowed duplicates.                                           \n",
    "\n",
    "4. It is insertion order preserved.                                    \n",
    "\n",
    "5. Allowed indexing.                                                   \n",
    "\n",
    "6. Background data structure is array.                                 \n",
    "\n",
    "7. It is enclosed into squared bracket or index braces[].              \n",
    "\n",
    "8. It is dynamic in nature i.e mutable .                               "
   ]
  },
  {
   "cell_type": "markdown",
   "id": "c5a76d43",
   "metadata": {},
   "source": [
    "Dictionary\n",
    "             \n",
    "             \n",
    "             \n",
    "1.It is mapping data type.\n",
    "\n",
    "2.It is stored into key and value format.\n",
    "\n",
    "3.It allowed value became duplicate.\n",
    "\n",
    "4.It does not insertion order preserved.\n",
    "\n",
    "5.It does not allowed indexing.\n",
    "\n",
    "6.Background data structure is Hashtable.\n",
    "\n",
    "7.It is enclosed into curly braces {}.                               \n",
    "\n",
    "8.It also dynamic in nature i.e mutable.\n"
   ]
  },
  {
   "cell_type": "markdown",
   "id": "14ce3923",
   "metadata": {},
   "source": [
    "### 4. What happens if you try to access spam['foo'] if spam is {'bar': 100}?"
   ]
  },
  {
   "cell_type": "code",
   "execution_count": 49,
   "id": "a11a1ab8",
   "metadata": {},
   "outputs": [],
   "source": [
    "spam = {}"
   ]
  },
  {
   "cell_type": "code",
   "execution_count": 50,
   "id": "197ceec5",
   "metadata": {},
   "outputs": [],
   "source": [
    "spam['bar'] = 100"
   ]
  },
  {
   "cell_type": "code",
   "execution_count": 51,
   "id": "eb00dc70",
   "metadata": {},
   "outputs": [
    {
     "data": {
      "text/plain": [
       "{'bar': 100}"
      ]
     },
     "execution_count": 51,
     "metadata": {},
     "output_type": "execute_result"
    }
   ],
   "source": [
    "spam"
   ]
  },
  {
   "cell_type": "code",
   "execution_count": 52,
   "id": "e4aa4e1d",
   "metadata": {},
   "outputs": [
    {
     "ename": "KeyError",
     "evalue": "'foo'",
     "output_type": "error",
     "traceback": [
      "\u001b[1;31m---------------------------------------------------------------------------\u001b[0m",
      "\u001b[1;31mKeyError\u001b[0m                                  Traceback (most recent call last)",
      "\u001b[1;32m~\\AppData\\Local\\Temp/ipykernel_10044/3999281786.py\u001b[0m in \u001b[0;36m<module>\u001b[1;34m\u001b[0m\n\u001b[1;32m----> 1\u001b[1;33m \u001b[0mspam\u001b[0m\u001b[1;33m[\u001b[0m\u001b[1;34m'foo'\u001b[0m\u001b[1;33m]\u001b[0m\u001b[1;33m\u001b[0m\u001b[1;33m\u001b[0m\u001b[0m\n\u001b[0m",
      "\u001b[1;31mKeyError\u001b[0m: 'foo'"
     ]
    }
   ],
   "source": [
    "spam['foo']"
   ]
  },
  {
   "cell_type": "markdown",
   "id": "26ab0961",
   "metadata": {},
   "source": [
    " #### Ans : It get keyError ."
   ]
  },
  {
   "cell_type": "markdown",
   "id": "3aa3e0a8",
   "metadata": {},
   "source": [
    "### 5. If a dictionary is stored in spam, what is the difference between the expressions 'cat' in spam and 'cat' in spam.keys()?"
   ]
  },
  {
   "cell_type": "code",
   "execution_count": 53,
   "id": "20b1aacc",
   "metadata": {},
   "outputs": [
    {
     "data": {
      "text/plain": [
       "{'foo': 42}"
      ]
     },
     "execution_count": 53,
     "metadata": {},
     "output_type": "execute_result"
    }
   ],
   "source": [
    "d"
   ]
  },
  {
   "cell_type": "code",
   "execution_count": 54,
   "id": "7dcae11a",
   "metadata": {},
   "outputs": [],
   "source": [
    "spam = d"
   ]
  },
  {
   "cell_type": "code",
   "execution_count": 55,
   "id": "b556c74a",
   "metadata": {},
   "outputs": [
    {
     "data": {
      "text/plain": [
       "{'foo': 42}"
      ]
     },
     "execution_count": 55,
     "metadata": {},
     "output_type": "execute_result"
    }
   ],
   "source": [
    "spam"
   ]
  },
  {
   "cell_type": "code",
   "execution_count": 56,
   "id": "1b37aa1d",
   "metadata": {},
   "outputs": [
    {
     "ename": "KeyError",
     "evalue": "'cat'",
     "output_type": "error",
     "traceback": [
      "\u001b[1;31m---------------------------------------------------------------------------\u001b[0m",
      "\u001b[1;31mKeyError\u001b[0m                                  Traceback (most recent call last)",
      "\u001b[1;32m~\\AppData\\Local\\Temp/ipykernel_10044/9828941.py\u001b[0m in \u001b[0;36m<module>\u001b[1;34m\u001b[0m\n\u001b[1;32m----> 1\u001b[1;33m \u001b[0mspam\u001b[0m\u001b[1;33m[\u001b[0m\u001b[1;34m'cat'\u001b[0m\u001b[1;33m]\u001b[0m\u001b[1;33m\u001b[0m\u001b[1;33m\u001b[0m\u001b[0m\n\u001b[0m",
      "\u001b[1;31mKeyError\u001b[0m: 'cat'"
     ]
    }
   ],
   "source": [
    "spam['cat']"
   ]
  },
  {
   "cell_type": "markdown",
   "id": "ef053575",
   "metadata": {},
   "source": [
    "####  Here spam['cat'] checks cat is a key in spam(dictionary)."
   ]
  },
  {
   "cell_type": "code",
   "execution_count": 57,
   "id": "9929b4e4",
   "metadata": {},
   "outputs": [
    {
     "data": {
      "text/plain": [
       "dict_items([('foo', 42)])"
      ]
     },
     "execution_count": 57,
     "metadata": {},
     "output_type": "execute_result"
    }
   ],
   "source": [
    "spam.items()"
   ]
  },
  {
   "cell_type": "code",
   "execution_count": 58,
   "id": "234db69e",
   "metadata": {},
   "outputs": [
    {
     "name": "stdout",
     "output_type": "stream",
     "text": [
      "42\n"
     ]
    }
   ],
   "source": [
    "for cat in spam.values():\n",
    "    print(cat)"
   ]
  },
  {
   "cell_type": "markdown",
   "id": "158eee27",
   "metadata": {},
   "source": [
    "#### Here if expression(cat) in spam.values  .it checks values of key in spam(dictionary)."
   ]
  },
  {
   "cell_type": "markdown",
   "id": "3ab7ef82",
   "metadata": {},
   "source": [
    "### 6. If a dictionary is stored in spam, what is the difference between the expressions 'cat' in spam and 'cat' in spam.values()?"
   ]
  },
  {
   "cell_type": "markdown",
   "id": "23ad2c49",
   "metadata": {},
   "source": [
    "#### Ans : Here no any diffrence ."
   ]
  },
  {
   "cell_type": "markdown",
   "id": "9a895b89",
   "metadata": {},
   "source": [
    "#### In second scenario of 'cat' . it passing cat as iterating variable it check values of dictionary and it return the values of dictionary contain."
   ]
  },
  {
   "cell_type": "code",
   "execution_count": 59,
   "id": "e13f5be7",
   "metadata": {},
   "outputs": [
    {
     "name": "stdout",
     "output_type": "stream",
     "text": [
      "42\n"
     ]
    }
   ],
   "source": [
    "for cat in spam.values():\n",
    "    print(cat)"
   ]
  },
  {
   "cell_type": "markdown",
   "id": "0c6d1469",
   "metadata": {},
   "source": [
    "#### In first scenario of spam where expressions 'cat' in spam . Here cat variable which pass as key for checking there is cat is available in dictionary if available then pass its value."
   ]
  },
  {
   "cell_type": "code",
   "execution_count": 60,
   "id": "e7e931c1",
   "metadata": {},
   "outputs": [
    {
     "ename": "KeyError",
     "evalue": "'cat'",
     "output_type": "error",
     "traceback": [
      "\u001b[1;31m---------------------------------------------------------------------------\u001b[0m",
      "\u001b[1;31mKeyError\u001b[0m                                  Traceback (most recent call last)",
      "\u001b[1;32m~\\AppData\\Local\\Temp/ipykernel_10044/9828941.py\u001b[0m in \u001b[0;36m<module>\u001b[1;34m\u001b[0m\n\u001b[1;32m----> 1\u001b[1;33m \u001b[0mspam\u001b[0m\u001b[1;33m[\u001b[0m\u001b[1;34m'cat'\u001b[0m\u001b[1;33m]\u001b[0m\u001b[1;33m\u001b[0m\u001b[1;33m\u001b[0m\u001b[0m\n\u001b[0m",
      "\u001b[1;31mKeyError\u001b[0m: 'cat'"
     ]
    }
   ],
   "source": [
    "spam['cat']"
   ]
  },
  {
   "cell_type": "markdown",
   "id": "cf11bea4",
   "metadata": {},
   "source": [
    "#### Here dictionary contain no any cat variable so it return keyError."
   ]
  },
  {
   "cell_type": "markdown",
   "id": "e96cddf3",
   "metadata": {},
   "source": [
    "### 7. What is a shortcut for the following code?\n",
    "### if 'color' not in spam:\n",
    "### spam['color'] = 'black'"
   ]
  },
  {
   "cell_type": "code",
   "execution_count": 61,
   "id": "2e668f01",
   "metadata": {},
   "outputs": [],
   "source": [
    "spam ={'foo' : 42}"
   ]
  },
  {
   "cell_type": "code",
   "execution_count": 62,
   "id": "e243f26a",
   "metadata": {},
   "outputs": [
    {
     "data": {
      "text/plain": [
       "{'foo': 42}"
      ]
     },
     "execution_count": 62,
     "metadata": {},
     "output_type": "execute_result"
    }
   ],
   "source": [
    "spam"
   ]
  },
  {
   "cell_type": "markdown",
   "id": "28521aba",
   "metadata": {},
   "source": [
    "#### Here short code for checking by using  in operator "
   ]
  },
  {
   "cell_type": "code",
   "execution_count": 63,
   "id": "117b0b30",
   "metadata": {},
   "outputs": [
    {
     "data": {
      "text/plain": [
       "False"
      ]
     },
     "execution_count": 63,
     "metadata": {},
     "output_type": "execute_result"
    }
   ],
   "source": [
    "color in spam"
   ]
  },
  {
   "cell_type": "markdown",
   "id": "09d88e27",
   "metadata": {},
   "source": [
    "#### Here we can use  in operator for checking color key is in spam(dictionary) . if color is exist then it gives boolian output like True . if color is does not exist in dictionary it return into boolian like False."
   ]
  },
  {
   "cell_type": "markdown",
   "id": "266f6964",
   "metadata": {},
   "source": [
    "#### Here short code for checking by using not in operator."
   ]
  },
  {
   "cell_type": "code",
   "execution_count": 64,
   "id": "a29bb02e",
   "metadata": {},
   "outputs": [
    {
     "data": {
      "text/plain": [
       "True"
      ]
     },
     "execution_count": 64,
     "metadata": {},
     "output_type": "execute_result"
    }
   ],
   "source": [
    "color not in spam"
   ]
  },
  {
   "cell_type": "markdown",
   "id": "f6589413",
   "metadata": {},
   "source": [
    "#### Here we can use not in operator for checking color key is in spam(dictionary) . if color is exist then it gives boolian output like False . if color is does not exist in dictionary it return into boolian like True."
   ]
  },
  {
   "cell_type": "markdown",
   "id": "96102bb0",
   "metadata": {},
   "source": [
    "### 8. How do you \"pretty print\" dictionary values using which module and function?"
   ]
  },
  {
   "cell_type": "markdown",
   "id": "ae90ce9d",
   "metadata": {},
   "source": [
    "##### Ans : pprint is module in python provide python data type is more readable."
   ]
  },
  {
   "cell_type": "code",
   "execution_count": 65,
   "id": "41362cc4",
   "metadata": {},
   "outputs": [
    {
     "name": "stdout",
     "output_type": "stream",
     "text": [
      "{'foo': 42}\n"
     ]
    }
   ],
   "source": [
    "import pprint\n",
    "pprint.pprint(spam)"
   ]
  }
 ],
 "metadata": {
  "kernelspec": {
   "display_name": "Python 3 (ipykernel)",
   "language": "python",
   "name": "python3"
  },
  "language_info": {
   "codemirror_mode": {
    "name": "ipython",
    "version": 3
   },
   "file_extension": ".py",
   "mimetype": "text/x-python",
   "name": "python",
   "nbconvert_exporter": "python",
   "pygments_lexer": "ipython3",
   "version": "3.9.7"
  }
 },
 "nbformat": 4,
 "nbformat_minor": 5
}
