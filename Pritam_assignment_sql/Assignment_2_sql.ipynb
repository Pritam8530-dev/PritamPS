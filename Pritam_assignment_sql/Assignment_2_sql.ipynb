{
 "cells": [
  {
   "cell_type": "markdown",
   "id": "894f978b",
   "metadata": {},
   "source": [
    "### Q-1. Write an SQL query to print the first three characters of  FIRST_NAME from Worker table."
   ]
  },
  {
   "cell_type": "markdown",
   "id": "fa1fad54",
   "metadata": {},
   "source": [
    "select substr('FIRST_NAME' , 1 , 3) from worker ;"
   ]
  },
  {
   "cell_type": "markdown",
   "id": "a96a878f",
   "metadata": {},
   "source": [
    "### Q-2. Write an SQL query to find the position of the alphabet (‘a’) in the first name column ‘Amitabh’ from Worker table."
   ]
  },
  {
   "cell_type": "markdown",
   "id": "64195668",
   "metadata": {},
   "source": [
    "select INSTR('FIRST_NAME' , binary 'a') from worker where FIRST_NAME = 'Amitabh'"
   ]
  },
  {
   "cell_type": "markdown",
   "id": "a0c36481",
   "metadata": {},
   "source": [
    "### Q-3. Write an SQL query to print the name of employees having the highest salary in each department."
   ]
  },
  {
   "cell_type": "markdown",
   "id": "0f5635a2",
   "metadata": {},
   "source": [
    "select emp_name from worker group by department having ( select max(esal) from department)"
   ]
  }
 ],
 "metadata": {
  "kernelspec": {
   "display_name": "Python 3 (ipykernel)",
   "language": "python",
   "name": "python3"
  },
  "language_info": {
   "codemirror_mode": {
    "name": "ipython",
    "version": 3
   },
   "file_extension": ".py",
   "mimetype": "text/x-python",
   "name": "python",
   "nbconvert_exporter": "python",
   "pygments_lexer": "ipython3",
   "version": "3.9.7"
  }
 },
 "nbformat": 4,
 "nbformat_minor": 5
}
