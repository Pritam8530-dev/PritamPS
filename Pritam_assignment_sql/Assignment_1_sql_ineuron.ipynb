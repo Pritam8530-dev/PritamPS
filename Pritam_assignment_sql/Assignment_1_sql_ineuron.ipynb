{
 "cells": [
  {
   "cell_type": "markdown",
   "id": "e03efdd4",
   "metadata": {},
   "source": [
    "### Q-1. Write an SQL query to fetch “FIRST_NAME” from Worker table using the alias\n",
    "###  name as  < WORKER_NAME >"
   ]
  },
  {
   "cell_type": "markdown",
   "id": "48efa99b",
   "metadata": {},
   "source": [
    "Ans :\n",
    "\n",
    "select FIRST_NAME as WORKER NAME from worker ;"
   ]
  },
  {
   "cell_type": "markdown",
   "id": "5e8b5231",
   "metadata": {},
   "source": [
    "### Q-2. Write an SQL query to fetch unique values of DEPARTMENT from Worker table."
   ]
  },
  {
   "cell_type": "markdown",
   "id": "2250956a",
   "metadata": {},
   "source": [
    "Ans :\n",
    "    \n",
    "    select distinct DEPARTMENT from worker;"
   ]
  },
  {
   "cell_type": "markdown",
   "id": "2ad02ada",
   "metadata": {},
   "source": [
    "#### OR"
   ]
  },
  {
   "cell_type": "markdown",
   "id": "7d141a4c",
   "metadata": {},
   "source": [
    "Ans :\n",
    "\n",
    "select department from worker group by department ;"
   ]
  },
  {
   "cell_type": "markdown",
   "id": "cef4b335",
   "metadata": {},
   "source": [
    "### Q-3. Write an SQL query to show the last 5 record from a table."
   ]
  },
  {
   "cell_type": "markdown",
   "id": "448db5fe",
   "metadata": {},
   "source": [
    "Ans :\n",
    "\n",
    "select * from worker where worker_id <= 5 union select * from (select * from worker order by worker_id desc) as w1 where worker_id <=5 ;"
   ]
  },
  {
   "cell_type": "markdown",
   "id": "3e97f4aa",
   "metadata": {},
   "source": [
    "###  OR"
   ]
  },
  {
   "cell_type": "markdown",
   "id": "c5feb441",
   "metadata": {},
   "source": [
    "Ans :\n",
    "\n",
    "select * from worker order by worker_id desc limit 5 ;"
   ]
  },
  {
   "cell_type": "code",
   "execution_count": null,
   "id": "5cbac019",
   "metadata": {},
   "outputs": [],
   "source": []
  }
 ],
 "metadata": {
  "kernelspec": {
   "display_name": "Python 3 (ipykernel)",
   "language": "python",
   "name": "python3"
  },
  "language_info": {
   "codemirror_mode": {
    "name": "ipython",
    "version": 3
   },
   "file_extension": ".py",
   "mimetype": "text/x-python",
   "name": "python",
   "nbconvert_exporter": "python",
   "pygments_lexer": "ipython3",
   "version": "3.9.7"
  }
 },
 "nbformat": 4,
 "nbformat_minor": 5
}
