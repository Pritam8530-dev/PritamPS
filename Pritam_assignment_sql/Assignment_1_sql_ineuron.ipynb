{
 "cells": [
  {
   "cell_type": "markdown",
   "id": "4da5305f",
   "metadata": {},
   "source": [
    "### Q-1. Write an SQL query to fetch “FIRST_NAME” from Worker table using the alias\n",
    "###  name as  < WORKER_NAME >"
   ]
  },
  {
   "cell_type": "markdown",
   "id": "41495d02",
   "metadata": {},
   "source": [
    "Ans :\n",
    "\n",
    "select FIRST_NAME as WORKER NAME from worker ;"
   ]
  },
  {
   "cell_type": "markdown",
   "id": "f9a86646",
   "metadata": {},
   "source": [
    "### Q-2. Write an SQL query to fetch unique values of DEPARTMENT from Worker table."
   ]
  },
  {
   "cell_type": "markdown",
   "id": "844c4ef1",
   "metadata": {},
   "source": [
    "Ans :\n",
    "    \n",
    "    select distinct DEPARTMENT from worker ;"
   ]
  },
  {
   "cell_type": "markdown",
   "id": "e9c70e0b",
   "metadata": {},
   "source": [
    "#### OR"
   ]
  },
  {
   "cell_type": "markdown",
   "id": "90316cd3",
   "metadata": {},
   "source": [
    "Ans :\n",
    "\n",
    "select department from worker group by department ;"
   ]
  },
  {
   "cell_type": "markdown",
   "id": "d4a53498",
   "metadata": {},
   "source": [
    "### Q-3. Write an SQL query to show the last 5 record from a table."
   ]
  },
  {
   "cell_type": "markdown",
   "id": "bf1262b1",
   "metadata": {},
   "source": [
    "Ans :\n",
    "\n",
    "select * from worker where worker_id <= 5 union select * from (select * from worker order by worker_id desc) as w1 where worker_id <=5 ;"
   ]
  },
  {
   "cell_type": "markdown",
   "id": "ba3e143e",
   "metadata": {},
   "source": [
    "###  OR"
   ]
  },
  {
   "cell_type": "markdown",
   "id": "79af125b",
   "metadata": {},
   "source": [
    "Ans :\n",
    "\n",
    "select * from worker order by worker_id desc limit 5 ;"
   ]
  },
  {
   "cell_type": "code",
   "execution_count": null,
   "id": "37731e24",
   "metadata": {},
   "outputs": [],
   "source": []
  }
 ],
 "metadata": {
  "kernelspec": {
   "display_name": "Python 3 (ipykernel)",
   "language": "python",
   "name": "python3"
  },
  "language_info": {
   "codemirror_mode": {
    "name": "ipython",
    "version": 3
   },
   "file_extension": ".py",
   "mimetype": "text/x-python",
   "name": "python",
   "nbconvert_exporter": "python",
   "pygments_lexer": "ipython3",
   "version": "3.9.7"
  }
 },
 "nbformat": 4,
 "nbformat_minor": 5
}
