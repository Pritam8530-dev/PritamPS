{
 "cells": [
  {
   "cell_type": "markdown",
   "id": "bf3c3613",
   "metadata": {},
   "source": [
    "# 1. What exactly is []?"
   ]
  },
  {
   "cell_type": "raw",
   "id": "bfda6ffc",
   "metadata": {},
   "source": [
    "This is indexing bracket or slicing bracket or square bracket.when l=[] that time this is empty list."
   ]
  },
  {
   "cell_type": "markdown",
   "id": "d25b93d4",
   "metadata": {},
   "source": [
    "# 2. In a list of values stored in a variable called spam, how would you assign the value &#39;hello&#39; as the\n",
    "# third value? (Assume [2, 4, 6, 8, 10] are in spam.)"
   ]
  },
  {
   "cell_type": "code",
   "execution_count": 36,
   "id": "3d137228",
   "metadata": {},
   "outputs": [],
   "source": [
    "spam =[2,4,6,8,10]\n",
    "#spam[2]='hello'\n",
    "spam.insert(2,'hello')"
   ]
  },
  {
   "cell_type": "code",
   "execution_count": 37,
   "id": "61226a7a",
   "metadata": {},
   "outputs": [
    {
     "data": {
      "text/plain": [
       "[2, 4, 'hello', 6, 8, 10]"
      ]
     },
     "execution_count": 37,
     "metadata": {},
     "output_type": "execute_result"
    }
   ],
   "source": [
    "spam"
   ]
  },
  {
   "cell_type": "code",
   "execution_count": 38,
   "id": "8a956a3c",
   "metadata": {},
   "outputs": [
    {
     "data": {
      "text/plain": [
       "[2, 4, 'hello', 6, 8, 10]"
      ]
     },
     "execution_count": 38,
     "metadata": {},
     "output_type": "execute_result"
    }
   ],
   "source": [
    "spam"
   ]
  },
  {
   "cell_type": "markdown",
   "id": "e2b348d0",
   "metadata": {},
   "source": [
    "# Lets pretend the spam includes the list ['a','b','c','d'] for the next three queries.\n",
    "# 3. What is the value of spam[int(int('3' * 2) / 11)]?\n",
    "# 4. What is the value of spam[-1]?\n",
    "# 5. What is the value of spam[:2]?"
   ]
  },
  {
   "cell_type": "markdown",
   "id": "c77c8cf4",
   "metadata": {},
   "source": [
    "## Ans of 3rd is here :\n"
   ]
  },
  {
   "cell_type": "code",
   "execution_count": 40,
   "id": "ca4fff07",
   "metadata": {},
   "outputs": [
    {
     "data": {
      "text/plain": [
       "[2, 4, 'hello', 6, 8, 10]"
      ]
     },
     "execution_count": 40,
     "metadata": {},
     "output_type": "execute_result"
    }
   ],
   "source": [
    "spam"
   ]
  },
  {
   "cell_type": "code",
   "execution_count": 43,
   "id": "165334aa",
   "metadata": {},
   "outputs": [],
   "source": [
    "spam.extend(['a','b','c','d'])"
   ]
  },
  {
   "cell_type": "code",
   "execution_count": 44,
   "id": "f4502c48",
   "metadata": {},
   "outputs": [
    {
     "data": {
      "text/plain": [
       "[2, 4, 'hello', 6, 8, 10, 'a', 'b', 'c', 'd']"
      ]
     },
     "execution_count": 44,
     "metadata": {},
     "output_type": "execute_result"
    }
   ],
   "source": [
    "spam"
   ]
  },
  {
   "cell_type": "code",
   "execution_count": 48,
   "id": "d50fac00",
   "metadata": {},
   "outputs": [
    {
     "data": {
      "text/plain": [
       "6"
      ]
     },
     "execution_count": 48,
     "metadata": {},
     "output_type": "execute_result"
    }
   ],
   "source": [
    "spam[int(int('3'*2)/11)]\n",
    "# It return 3 rd index postion element is 6. here 3 is string and 2 is integer so opereator is * if one argument is string and another is int so its working as repetation operator.so it return value 33 and divided by 11 so it return 3. then expelecetely int define so string into int.so spam[3] is return 3 rd index position element."
   ]
  },
  {
   "cell_type": "markdown",
   "id": "064b6037",
   "metadata": {},
   "source": [
    "# Ans of 4th is here :"
   ]
  },
  {
   "cell_type": "code",
   "execution_count": 50,
   "id": "88b61aec",
   "metadata": {},
   "outputs": [
    {
     "data": {
      "text/plain": [
       "'d'"
      ]
     },
     "execution_count": 50,
     "metadata": {},
     "output_type": "execute_result"
    }
   ],
   "source": [
    "spam[-1]\n",
    "# Here its reverse indexing/negative indexing/backword indexing"
   ]
  },
  {
   "cell_type": "markdown",
   "id": "7bbf0f8d",
   "metadata": {},
   "source": [
    "# Ans of 5 th here :"
   ]
  },
  {
   "cell_type": "code",
   "execution_count": 52,
   "id": "3cc03c9e",
   "metadata": {},
   "outputs": [
    {
     "data": {
      "text/plain": [
       "[2, 4]"
      ]
     },
     "execution_count": 52,
     "metadata": {},
     "output_type": "execute_result"
    }
   ],
   "source": [
    "spam[:2]\n",
    "# Here its slicing [start:stop:step].its start from by default 0 and stop at 2 but its (n-1) so (2-1) i.e its continue upto 1. and by default step is +1."
   ]
  },
  {
   "cell_type": "markdown",
   "id": "49ba3cf1",
   "metadata": {},
   "source": [
    "# Lets pretend bacon has the list [3.14, 'cat', 11, 'cat', True] for the next three questions.\n",
    "# 6. What is the value of bacon.index('cat')?\n",
    "# 7. How does bacon.append(99) change the look of the list value in bacon?\n",
    "# 8. How does bacon.remove('cat') change the look of the list in bacon?"
   ]
  },
  {
   "cell_type": "code",
   "execution_count": 53,
   "id": "119e0658",
   "metadata": {},
   "outputs": [],
   "source": [
    "bacon = [3.14,'cat',11,'cat','True']"
   ]
  },
  {
   "cell_type": "markdown",
   "id": "07f02e41",
   "metadata": {},
   "source": [
    "## Ans of 6 th here :"
   ]
  },
  {
   "cell_type": "code",
   "execution_count": 56,
   "id": "03b26d67",
   "metadata": {},
   "outputs": [
    {
     "data": {
      "text/plain": [
       "1"
      ]
     },
     "execution_count": 56,
     "metadata": {},
     "output_type": "execute_result"
    }
   ],
   "source": [
    "bacon.index('cat')\n",
    "# Here its return 'cat' index position but here 'cat' is occures for 2 times . but it return always most first occurance 'cat'"
   ]
  },
  {
   "cell_type": "markdown",
   "id": "739e5285",
   "metadata": {},
   "source": [
    "## Ans of 7 th here :"
   ]
  },
  {
   "cell_type": "code",
   "execution_count": 57,
   "id": "b145a8af",
   "metadata": {},
   "outputs": [],
   "source": [
    "bacon.append(99)"
   ]
  },
  {
   "cell_type": "code",
   "execution_count": 59,
   "id": "bef2093f",
   "metadata": {},
   "outputs": [
    {
     "data": {
      "text/plain": [
       "[3.14, 'cat', 11, 'cat', 'True', 99]"
      ]
     },
     "execution_count": 59,
     "metadata": {},
     "output_type": "execute_result"
    }
   ],
   "source": [
    "bacon \n",
    "# here append 99 . so append means it add element in list at last position "
   ]
  },
  {
   "cell_type": "markdown",
   "id": "1fbca3f5",
   "metadata": {},
   "source": [
    "## Ans of 8 th here:"
   ]
  },
  {
   "cell_type": "code",
   "execution_count": 60,
   "id": "be383f1a",
   "metadata": {},
   "outputs": [],
   "source": [
    "bacon.remove('cat')"
   ]
  },
  {
   "cell_type": "code",
   "execution_count": 62,
   "id": "c1e4668a",
   "metadata": {},
   "outputs": [
    {
     "data": {
      "text/plain": [
       "[3.14, 11, 'cat', 'True', 99]"
      ]
     },
     "execution_count": 62,
     "metadata": {},
     "output_type": "execute_result"
    }
   ],
   "source": [
    "bacon\n",
    "# remove is remove the specific element at specific postion . if that elements repeats/duplicate in list so it remove most left/most first  occurence element."
   ]
  },
  {
   "cell_type": "markdown",
   "id": "06503a0a",
   "metadata": {},
   "source": [
    "# 9. What are the list concatenation and list replication operators?"
   ]
  },
  {
   "cell_type": "raw",
   "id": "5dd7631c",
   "metadata": {},
   "source": [
    "list concatenation is nothing but concatenate the two list means from two list its generate new list\n"
   ]
  },
  {
   "cell_type": "raw",
   "id": "5776b077",
   "metadata": {},
   "source": [
    "+ : This is called concatenation operator. when both argument has same data type."
   ]
  },
  {
   "cell_type": "code",
   "execution_count": 64,
   "id": "b26e8f45",
   "metadata": {},
   "outputs": [
    {
     "data": {
      "text/plain": [
       "[1, 2, 3, 4, 5, 6, 7, 8, 9]"
      ]
     },
     "execution_count": 64,
     "metadata": {},
     "output_type": "execute_result"
    }
   ],
   "source": [
    "[1,2,3,4,5]+[6,7,8,9]"
   ]
  },
  {
   "cell_type": "raw",
   "id": "6dc072e9",
   "metadata": {},
   "source": [
    "* : This is repetation operator.when one argument is list(string) and another is integer"
   ]
  },
  {
   "cell_type": "code",
   "execution_count": 65,
   "id": "c2094b9d",
   "metadata": {},
   "outputs": [
    {
     "data": {
      "text/plain": [
       "[1, 2, 3, 4, 5, 1, 2, 3, 4, 5]"
      ]
     },
     "execution_count": 65,
     "metadata": {},
     "output_type": "execute_result"
    }
   ],
   "source": [
    "[1,2,3,4,5]*2"
   ]
  },
  {
   "cell_type": "markdown",
   "id": "597fe99a",
   "metadata": {},
   "source": [
    "# 10. What is difference between the list methods append() and insert()?"
   ]
  },
  {
   "cell_type": "raw",
   "id": "45dd8d90",
   "metadata": {},
   "source": [
    "1.Append :\n",
    "         Apeend is the function of list. which is append/add a single element at the end/last in list.\n",
    "         \n",
    "         \n",
    "2.Insert :\n",
    "          Insert is the function of list . which is insert/add element at specific (index) position in list.\n",
    "          "
   ]
  },
  {
   "cell_type": "raw",
   "id": "94348b20",
   "metadata": {},
   "source": [
    "#example of append :\n",
    "    \n",
    "l=[1,2,3,4,5]\n",
    "l.append(6)\n",
    "        \n",
    "         "
   ]
  },
  {
   "cell_type": "code",
   "execution_count": 75,
   "id": "fd0bec23",
   "metadata": {},
   "outputs": [
    {
     "data": {
      "text/plain": [
       "[1, 2, 3, 4, 5, 6]"
      ]
     },
     "execution_count": 75,
     "metadata": {},
     "output_type": "execute_result"
    }
   ],
   "source": [
    "l"
   ]
  },
  {
   "cell_type": "raw",
   "id": "7e5c9e27",
   "metadata": {},
   "source": [
    "2.Insert :\n",
    "          Insert is the function of list . which is insert/add element at specific (index) position in list.\n",
    "          "
   ]
  },
  {
   "cell_type": "code",
   "execution_count": 76,
   "id": "2e0f91cf",
   "metadata": {},
   "outputs": [],
   "source": [
    "# example of insert\n",
    "l.insert(5,'list is dynamic in nature')"
   ]
  },
  {
   "cell_type": "code",
   "execution_count": 77,
   "id": "ffc64990",
   "metadata": {},
   "outputs": [
    {
     "data": {
      "text/plain": [
       "[1, 2, 3, 4, 5, 'list is dynamic in nature', 6]"
      ]
     },
     "execution_count": 77,
     "metadata": {},
     "output_type": "execute_result"
    }
   ],
   "source": [
    "l"
   ]
  },
  {
   "cell_type": "markdown",
   "id": "db9a8cdf",
   "metadata": {},
   "source": [
    "# 11. What are the two methods for removing items from a list?"
   ]
  },
  {
   "cell_type": "raw",
   "id": "cbcbadd7",
   "metadata": {},
   "source": [
    "List is the sequencial data type in python. which is dynamic in nature and it is group of collection of heterogenous values . which is order preserved and it also allowed duplicates and growable in nature that enclosed in single entity. This is list."
   ]
  },
  {
   "cell_type": "raw",
   "id": "b0e9bacf",
   "metadata": {},
   "source": [
    "It has two methods for removing items :"
   ]
  },
  {
   "cell_type": "raw",
   "id": "3092c3e8",
   "metadata": {},
   "source": [
    "1. remove :\n",
    "           Remove is the function in list . which is used for to remove a specific element in list.you can pass element in remove function for remove item. remove is not return element.(deleted)"
   ]
  },
  {
   "cell_type": "code",
   "execution_count": 129,
   "id": "2ecaa04b",
   "metadata": {},
   "outputs": [],
   "source": [
    "l1=[11,22,33,44,55,66]"
   ]
  },
  {
   "cell_type": "code",
   "execution_count": 130,
   "id": "225cd475",
   "metadata": {},
   "outputs": [],
   "source": [
    "l1.remove(33)"
   ]
  },
  {
   "cell_type": "code",
   "execution_count": 131,
   "id": "aad4e9ab",
   "metadata": {},
   "outputs": [
    {
     "data": {
      "text/plain": [
       "[11, 22, 44, 55, 66]"
      ]
     },
     "execution_count": 131,
     "metadata": {},
     "output_type": "execute_result"
    }
   ],
   "source": [
    "l1"
   ]
  },
  {
   "cell_type": "raw",
   "id": "897b3cad",
   "metadata": {},
   "source": [
    "2. pop:\n",
    "       pop is the function in list . which is remove/ delete always last element of list. There is no need to pass element in pop because it always delete last element.pop is always return deleted element."
   ]
  },
  {
   "cell_type": "code",
   "execution_count": 132,
   "id": "766f7742",
   "metadata": {},
   "outputs": [
    {
     "data": {
      "text/plain": [
       "66"
      ]
     },
     "execution_count": 132,
     "metadata": {},
     "output_type": "execute_result"
    }
   ],
   "source": [
    "l1.pop()"
   ]
  },
  {
   "cell_type": "code",
   "execution_count": 133,
   "id": "a6e56773",
   "metadata": {},
   "outputs": [
    {
     "data": {
      "text/plain": [
       "[11, 22, 44, 55]"
      ]
     },
     "execution_count": 133,
     "metadata": {},
     "output_type": "execute_result"
    }
   ],
   "source": [
    "l1"
   ]
  },
  {
   "cell_type": "markdown",
   "id": "7076af3c",
   "metadata": {},
   "source": [
    "# 12. Describe how list values and string values are identical."
   ]
  },
  {
   "cell_type": "raw",
   "id": "b3f41bc3",
   "metadata": {},
   "source": [
    "List and string both are datatype in python . both have one similarity is both are sequencial data type.\n",
    "Diffrence is :\n",
    "1. List is dynamic in nature i.e mutable in nature and string is static in nature i.e immutable in nature.\n",
    "2.List is the collection of heterogenous element i.e list contains diffrent data types and string  contains only characters so it has same data type. i.e string only"
   ]
  },
  {
   "cell_type": "markdown",
   "id": "184652b8",
   "metadata": {},
   "source": [
    "# 13. What is the difference between tuples and lists?"
   ]
  },
  {
   "cell_type": "raw",
   "id": "3231304a",
   "metadata": {},
   "source": [
    "List :\n",
    "      List is the sequensial data type in python . List is the collection of heterogenous element which is order preserved due to that indexing allowed and which is also duplicates allow and dynamic nature(mutable). which is enclosed in single entity . This is called list.\n",
    "      List having some aspects like:\n",
    "      \n",
    "      1.List contains heterogenous data \n",
    "      2.List allowed duplicates.\n",
    "      3.List is order preserved so indexing is allowed.\n",
    "      4.List is growable in nature i.e dynamic in nature . i.e mutable .\n",
    "      5.Which is enclosed in square bracket or index bracket i.e [].\n",
    "      \n",
    "      \n",
    "      \n",
    "      \n",
    "tuple :\n",
    "       Tuple is sequensial data type in python . which is collection of heterogenous element and insertion order preserved so indexing allowed and duplicates are also allowed and static in nature(immutable). which is enclosed into single entity. that is called tuple.\n",
    "       Tuple having some aspects :\n",
    "       \n",
    "       1.Tuple contains heterogenous element.\n",
    "       2.Duplicates alllowed\n",
    "       3.Insertion order preserved i.e indexing allowed\n",
    "       4.Not growable in nature i.e static i.e immutable\n",
    "       5.Which is enclosed in tuple bracket ().\n",
    "       \n",
    "      \n",
    "      \n",
    "      \n",
    "      \n",
    "      \n",
    "Diffrence is the:\n",
    "\n",
    "1. List is mutable so we can add or remove.\n",
    "2. Tuple is immutable so we can not add or remove.\n",
    "\n",
    "and one most important diffrence is :\n",
    "\n",
    "Tuple is faster than List because list is growable and tuple is  static."
   ]
  },
  {
   "cell_type": "markdown",
   "id": "ce8d02ec",
   "metadata": {},
   "source": [
    "# 14. How do you type a tuple value that only contains the integer 42?"
   ]
  },
  {
   "cell_type": "code",
   "execution_count": 157,
   "id": "8a2f5a82",
   "metadata": {},
   "outputs": [],
   "source": [
    "t=(42,)\n",
    "# if only one value in tuple if that value has any type value (int, float,complex,bool,string) but that data type is tuple only"
   ]
  },
  {
   "cell_type": "code",
   "execution_count": 154,
   "id": "badc0815",
   "metadata": {},
   "outputs": [
    {
     "data": {
      "text/plain": [
       "tuple"
      ]
     },
     "execution_count": 154,
     "metadata": {},
     "output_type": "execute_result"
    }
   ],
   "source": [
    "type(t)"
   ]
  },
  {
   "cell_type": "markdown",
   "id": "de01c6c6",
   "metadata": {},
   "source": [
    "# 15. How do you get a list values tuple form? How do you get a tuple values list form?"
   ]
  },
  {
   "cell_type": "code",
   "execution_count": 158,
   "id": "56ddd1dd",
   "metadata": {},
   "outputs": [],
   "source": [
    "t=(1,2,3,4)"
   ]
  },
  {
   "cell_type": "code",
   "execution_count": 159,
   "id": "10aa649e",
   "metadata": {},
   "outputs": [],
   "source": [
    "l=list(t)"
   ]
  },
  {
   "cell_type": "code",
   "execution_count": 160,
   "id": "a133c946",
   "metadata": {},
   "outputs": [
    {
     "data": {
      "text/plain": [
       "[1, 2, 3, 4]"
      ]
     },
     "execution_count": 160,
     "metadata": {},
     "output_type": "execute_result"
    }
   ],
   "source": [
    "l"
   ]
  },
  {
   "cell_type": "code",
   "execution_count": 161,
   "id": "bea37ef5",
   "metadata": {},
   "outputs": [],
   "source": [
    "t1=tuple(l)"
   ]
  },
  {
   "cell_type": "code",
   "execution_count": 162,
   "id": "4c02a229",
   "metadata": {},
   "outputs": [
    {
     "data": {
      "text/plain": [
       "(1, 2, 3, 4)"
      ]
     },
     "execution_count": 162,
     "metadata": {},
     "output_type": "execute_result"
    }
   ],
   "source": [
    "t1"
   ]
  },
  {
   "cell_type": "markdown",
   "id": "570d882e",
   "metadata": {},
   "source": [
    "# 16. Variables that &quot;contain&quot; list values are not necessarily lists themselves. Instead, what do they contain?"
   ]
  },
  {
   "cell_type": "raw",
   "id": "5d2d3a4f",
   "metadata": {},
   "source": [
    "List is the collection of heterogenous element. so any type of variable contain inside the list."
   ]
  },
  {
   "cell_type": "code",
   "execution_count": 163,
   "id": "477e59a9",
   "metadata": {},
   "outputs": [],
   "source": [
    "l=[1,2.1,3+4j,True,'Data Scientist']"
   ]
  },
  {
   "cell_type": "markdown",
   "id": "7d4ac834",
   "metadata": {},
   "source": [
    "# 17. How do you distinguish between copy.copy() and copy.deepcopy()?"
   ]
  },
  {
   "cell_type": "raw",
   "id": "e4fabb12",
   "metadata": {},
   "source": [
    "copy.copy():\n",
    "\n",
    "           It create reference to original object. if we can change into copied object that can changes reflect into original object .\n",
    "           \n",
    "           \n",
    "copy.deepcopy():\n",
    "                It create new object.when we have to change in new copied object but it does not reflect that changes into original object."
   ]
  }
 ],
 "metadata": {
  "kernelspec": {
   "display_name": "Python 3 (ipykernel)",
   "language": "python",
   "name": "python3"
  },
  "language_info": {
   "codemirror_mode": {
    "name": "ipython",
    "version": 3
   },
   "file_extension": ".py",
   "mimetype": "text/x-python",
   "name": "python",
   "nbconvert_exporter": "python",
   "pygments_lexer": "ipython3",
   "version": "3.9.7"
  }
 },
 "nbformat": 4,
 "nbformat_minor": 5
}
