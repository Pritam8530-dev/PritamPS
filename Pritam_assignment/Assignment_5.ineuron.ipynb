{
 "cells": [
  {
   "cell_type": "markdown",
   "id": "972181c2",
   "metadata": {},
   "source": [
    "### 1. What does an empty dictionary's code look like?"
   ]
  },
  {
   "cell_type": "markdown",
   "id": "dd5874ed",
   "metadata": {},
   "source": [
    "#### Ans :"
   ]
  },
  {
   "cell_type": "code",
   "execution_count": 3,
   "id": "d426c0ca",
   "metadata": {},
   "outputs": [],
   "source": [
    "d = {}"
   ]
  },
  {
   "cell_type": "code",
   "execution_count": 4,
   "id": "9f2a558b",
   "metadata": {},
   "outputs": [
    {
     "data": {
      "text/plain": [
       "dict"
      ]
     },
     "execution_count": 4,
     "metadata": {},
     "output_type": "execute_result"
    }
   ],
   "source": [
    "type(d)"
   ]
  },
  {
   "cell_type": "markdown",
   "id": "a136cd25",
   "metadata": {},
   "source": [
    "### 2. What is the value of a dictionary value with the key 'foo' and the value 42?"
   ]
  },
  {
   "cell_type": "markdown",
   "id": "dfda2746",
   "metadata": {},
   "source": [
    "#### Ans :"
   ]
  },
  {
   "cell_type": "code",
   "execution_count": 5,
   "id": "7407e8d9",
   "metadata": {},
   "outputs": [],
   "source": [
    "d = {}"
   ]
  },
  {
   "cell_type": "raw",
   "id": "cfcc73e7",
   "metadata": {},
   "source": [
    "d['foo'] = 42"
   ]
  },
  {
   "cell_type": "code",
   "execution_count": 7,
   "id": "31701cbb",
   "metadata": {},
   "outputs": [
    {
     "data": {
      "text/plain": [
       "{'foo': 42}"
      ]
     },
     "execution_count": 7,
     "metadata": {},
     "output_type": "execute_result"
    }
   ],
   "source": [
    "d"
   ]
  },
  {
   "cell_type": "code",
   "execution_count": 11,
   "id": "3f7fadf7",
   "metadata": {},
   "outputs": [
    {
     "data": {
      "text/plain": [
       "dict_keys(['foo'])"
      ]
     },
     "execution_count": 11,
     "metadata": {},
     "output_type": "execute_result"
    }
   ],
   "source": [
    "d.keys()"
   ]
  },
  {
   "cell_type": "code",
   "execution_count": 15,
   "id": "92f88c42",
   "metadata": {},
   "outputs": [
    {
     "data": {
      "text/plain": [
       "dict_values([42])"
      ]
     },
     "execution_count": 15,
     "metadata": {},
     "output_type": "execute_result"
    }
   ],
   "source": [
    "d.values()"
   ]
  },
  {
   "cell_type": "raw",
   "id": "6631dcdc",
   "metadata": {},
   "source": [
    "The value is 42"
   ]
  },
  {
   "cell_type": "markdown",
   "id": "5d4199d9",
   "metadata": {},
   "source": [
    "### 3. What is the most significant distinction between a dictionary and a list?"
   ]
  },
  {
   "cell_type": "markdown",
   "id": "bb91054c",
   "metadata": {},
   "source": [
    "#### Ans :"
   ]
  },
  {
   "cell_type": "raw",
   "id": "02e532b4",
   "metadata": {},
   "source": [
    "significant distinction between dictionary and list is :\n",
    "    \n",
    "List is insertion order preserved so indexing is allowed because of background data structure is array.\n",
    "\n",
    "Dictionary does not insertion order preserved so indexing is not allowed because of its backround data structure is hashtable."
   ]
  },
  {
   "cell_type": "raw",
   "id": "74ee2fac",
   "metadata": {},
   "source": [
    "             List                                                              Dictionary\n",
    "             \n",
    "             \n",
    "             \n",
    "1. It is sequensial data type .                                        It is mapping data type.\n",
    "\n",
    "2. It is allowed heterogenous element.                                 It is stored into key and value format.\n",
    "\n",
    "3. It is allowed duplicates.                                           It allowed value became duplicate.\n",
    "\n",
    "4. It is insertion order preserved.                                    It does not insertion order preserved.\n",
    "\n",
    "5. Allowed indexing.                                                   It does not allowed indexing.\n",
    "\n",
    "6. Background data structure is array.                                 Background data structure is Hashtable.\n",
    "\n",
    "7. It is enclosed into squared bracket or index braces[].              It is enclosed into curly braces {}.\n",
    "\n",
    "8. It is dynamic in nature i.e mutable .                               It also dynamic in nature i.e mutable.\n"
   ]
  },
  {
   "cell_type": "markdown",
   "id": "640ed1b8",
   "metadata": {},
   "source": [
    "### 4. What happens if you try to access spam['foo'] if spam is {'bar': 100}?"
   ]
  },
  {
   "cell_type": "code",
   "execution_count": 16,
   "id": "984eb7c5",
   "metadata": {},
   "outputs": [],
   "source": [
    "spam = {}"
   ]
  },
  {
   "cell_type": "code",
   "execution_count": 17,
   "id": "c85a7b5f",
   "metadata": {},
   "outputs": [],
   "source": [
    "spam['bar'] = 100"
   ]
  },
  {
   "cell_type": "code",
   "execution_count": 18,
   "id": "b18a802d",
   "metadata": {},
   "outputs": [
    {
     "data": {
      "text/plain": [
       "{'bar': 100}"
      ]
     },
     "execution_count": 18,
     "metadata": {},
     "output_type": "execute_result"
    }
   ],
   "source": [
    "spam"
   ]
  },
  {
   "cell_type": "code",
   "execution_count": 19,
   "id": "5ff7e55c",
   "metadata": {},
   "outputs": [
    {
     "ename": "KeyError",
     "evalue": "'foo'",
     "output_type": "error",
     "traceback": [
      "\u001b[1;31m---------------------------------------------------------------------------\u001b[0m",
      "\u001b[1;31mKeyError\u001b[0m                                  Traceback (most recent call last)",
      "\u001b[1;32m~\\AppData\\Local\\Temp/ipykernel_10044/3999281786.py\u001b[0m in \u001b[0;36m<module>\u001b[1;34m\u001b[0m\n\u001b[1;32m----> 1\u001b[1;33m \u001b[0mspam\u001b[0m\u001b[1;33m[\u001b[0m\u001b[1;34m'foo'\u001b[0m\u001b[1;33m]\u001b[0m\u001b[1;33m\u001b[0m\u001b[1;33m\u001b[0m\u001b[0m\n\u001b[0m",
      "\u001b[1;31mKeyError\u001b[0m: 'foo'"
     ]
    }
   ],
   "source": [
    "spam['foo']"
   ]
  },
  {
   "cell_type": "raw",
   "id": "e79bb136",
   "metadata": {},
   "source": [
    " Ans : It get keyError ."
   ]
  },
  {
   "cell_type": "markdown",
   "id": "a4fc4574",
   "metadata": {},
   "source": [
    "### 5. If a dictionary is stored in spam, what is the difference between the expressions 'cat' in spam and 'cat' in spam.keys()?"
   ]
  },
  {
   "cell_type": "code",
   "execution_count": 21,
   "id": "fc0b3b37",
   "metadata": {},
   "outputs": [
    {
     "data": {
      "text/plain": [
       "{'foo': 42}"
      ]
     },
     "execution_count": 21,
     "metadata": {},
     "output_type": "execute_result"
    }
   ],
   "source": [
    "d"
   ]
  },
  {
   "cell_type": "code",
   "execution_count": 22,
   "id": "4c19c1a7",
   "metadata": {},
   "outputs": [],
   "source": [
    "spam = d"
   ]
  },
  {
   "cell_type": "code",
   "execution_count": 23,
   "id": "f67a7015",
   "metadata": {},
   "outputs": [
    {
     "data": {
      "text/plain": [
       "{'foo': 42}"
      ]
     },
     "execution_count": 23,
     "metadata": {},
     "output_type": "execute_result"
    }
   ],
   "source": [
    "spam"
   ]
  },
  {
   "cell_type": "code",
   "execution_count": 24,
   "id": "e4cd15d6",
   "metadata": {},
   "outputs": [
    {
     "ename": "KeyError",
     "evalue": "'cat'",
     "output_type": "error",
     "traceback": [
      "\u001b[1;31m---------------------------------------------------------------------------\u001b[0m",
      "\u001b[1;31mKeyError\u001b[0m                                  Traceback (most recent call last)",
      "\u001b[1;32m~\\AppData\\Local\\Temp/ipykernel_10044/9828941.py\u001b[0m in \u001b[0;36m<module>\u001b[1;34m\u001b[0m\n\u001b[1;32m----> 1\u001b[1;33m \u001b[0mspam\u001b[0m\u001b[1;33m[\u001b[0m\u001b[1;34m'cat'\u001b[0m\u001b[1;33m]\u001b[0m\u001b[1;33m\u001b[0m\u001b[1;33m\u001b[0m\u001b[0m\n\u001b[0m",
      "\u001b[1;31mKeyError\u001b[0m: 'cat'"
     ]
    }
   ],
   "source": [
    "spam['cat']"
   ]
  },
  {
   "cell_type": "raw",
   "id": "5be9d623",
   "metadata": {},
   "source": [
    " Here spam['cat'] checks cat is a key in spam(dictionary)."
   ]
  },
  {
   "cell_type": "code",
   "execution_count": 29,
   "id": "7f3aad0b",
   "metadata": {},
   "outputs": [
    {
     "data": {
      "text/plain": [
       "dict_items([('foo', 42)])"
      ]
     },
     "execution_count": 29,
     "metadata": {},
     "output_type": "execute_result"
    }
   ],
   "source": [
    "spam.items()"
   ]
  },
  {
   "cell_type": "code",
   "execution_count": 30,
   "id": "01e60f20",
   "metadata": {},
   "outputs": [
    {
     "name": "stdout",
     "output_type": "stream",
     "text": [
      "42\n"
     ]
    }
   ],
   "source": [
    "for cat in spam.values():\n",
    "    print(cat)"
   ]
  },
  {
   "cell_type": "raw",
   "id": "7cd42d60",
   "metadata": {},
   "source": [
    "Here if expression(cat) in spam.values  .it checks values of key in spam(dictionary)."
   ]
  },
  {
   "cell_type": "markdown",
   "id": "2bafbc20",
   "metadata": {},
   "source": [
    "### 6. If a dictionary is stored in spam, what is the difference between the expressions 'cat' in spam and 'cat' in spam.values()?"
   ]
  },
  {
   "cell_type": "raw",
   "id": "a7683eb8",
   "metadata": {},
   "source": [
    "Ans : Here no any diffrence ."
   ]
  },
  {
   "cell_type": "raw",
   "id": "d293ed0a",
   "metadata": {},
   "source": [
    "In second scenario of 'cat' . it passing cat as iterating variable it check values of dictionary and it return the values of dictionary contain."
   ]
  },
  {
   "cell_type": "code",
   "execution_count": 31,
   "id": "d3e42cd4",
   "metadata": {},
   "outputs": [
    {
     "name": "stdout",
     "output_type": "stream",
     "text": [
      "42\n"
     ]
    }
   ],
   "source": [
    "for cat in spam.values():\n",
    "    print(cat)"
   ]
  },
  {
   "cell_type": "raw",
   "id": "f9c65ec3",
   "metadata": {},
   "source": [
    "In first scenario of spam where expressions 'cat' in spam . Here cat variable which pass as key for checking there is cat is available in dictionary if available then pass its value."
   ]
  },
  {
   "cell_type": "code",
   "execution_count": 32,
   "id": "2a63518a",
   "metadata": {},
   "outputs": [
    {
     "ename": "KeyError",
     "evalue": "'cat'",
     "output_type": "error",
     "traceback": [
      "\u001b[1;31m---------------------------------------------------------------------------\u001b[0m",
      "\u001b[1;31mKeyError\u001b[0m                                  Traceback (most recent call last)",
      "\u001b[1;32m~\\AppData\\Local\\Temp/ipykernel_10044/9828941.py\u001b[0m in \u001b[0;36m<module>\u001b[1;34m\u001b[0m\n\u001b[1;32m----> 1\u001b[1;33m \u001b[0mspam\u001b[0m\u001b[1;33m[\u001b[0m\u001b[1;34m'cat'\u001b[0m\u001b[1;33m]\u001b[0m\u001b[1;33m\u001b[0m\u001b[1;33m\u001b[0m\u001b[0m\n\u001b[0m",
      "\u001b[1;31mKeyError\u001b[0m: 'cat'"
     ]
    }
   ],
   "source": [
    "spam['cat']"
   ]
  },
  {
   "cell_type": "raw",
   "id": "6c4f4b61",
   "metadata": {},
   "source": [
    "Here dictionary contain no any cat variable so it return keyError."
   ]
  },
  {
   "cell_type": "markdown",
   "id": "01c152bf",
   "metadata": {},
   "source": [
    "### 7. What is a shortcut for the following code?\n",
    "### if 'color' not in spam:\n",
    "### spam['color'] = 'black'"
   ]
  },
  {
   "cell_type": "code",
   "execution_count": 34,
   "id": "c585ba12",
   "metadata": {},
   "outputs": [],
   "source": [
    "spam ={'foo' : 42}"
   ]
  },
  {
   "cell_type": "code",
   "execution_count": 35,
   "id": "0e8d1b06",
   "metadata": {},
   "outputs": [
    {
     "data": {
      "text/plain": [
       "{'foo': 42}"
      ]
     },
     "execution_count": 35,
     "metadata": {},
     "output_type": "execute_result"
    }
   ],
   "source": [
    "spam"
   ]
  },
  {
   "cell_type": "markdown",
   "id": "b240074e",
   "metadata": {},
   "source": [
    "#### Here short code for checking by using  in operator "
   ]
  },
  {
   "cell_type": "code",
   "execution_count": 38,
   "id": "3aeedfd1",
   "metadata": {},
   "outputs": [
    {
     "data": {
      "text/plain": [
       "False"
      ]
     },
     "execution_count": 38,
     "metadata": {},
     "output_type": "execute_result"
    }
   ],
   "source": [
    "color in spam"
   ]
  },
  {
   "cell_type": "raw",
   "id": "8ad6669a",
   "metadata": {},
   "source": [
    "Here we can use  in operator for checking color key is in spam(dictionary) . if color is exist then it gives boolian output like True . if color is does not exist in dictionary it return into boolian like False."
   ]
  },
  {
   "cell_type": "markdown",
   "id": "a1efa3bc",
   "metadata": {},
   "source": [
    "#### Here short code for checking by using not in operator."
   ]
  },
  {
   "cell_type": "code",
   "execution_count": 36,
   "id": "11d9e2ca",
   "metadata": {},
   "outputs": [
    {
     "data": {
      "text/plain": [
       "True"
      ]
     },
     "execution_count": 36,
     "metadata": {},
     "output_type": "execute_result"
    }
   ],
   "source": [
    "color not in spam"
   ]
  },
  {
   "cell_type": "raw",
   "id": "201626eb",
   "metadata": {},
   "source": [
    "Here we can use not in operator for checking color key is in spam(dictionary) . if color is exist then it gives boolian output like False . if color is does not exist in dictionary it return into boolian like True."
   ]
  },
  {
   "cell_type": "markdown",
   "id": "bfb8f19d",
   "metadata": {},
   "source": [
    "### 8. How do you \"pretty print\" dictionary values using which module and function?"
   ]
  },
  {
   "cell_type": "code",
   "execution_count": 41,
   "id": "d208d4b3",
   "metadata": {},
   "outputs": [
    {
     "name": "stdout",
     "output_type": "stream",
     "text": [
      "{'foo': 42}\n"
     ]
    }
   ],
   "source": [
    "import pprint\n",
    "pprint.pprint(spam)"
   ]
  }
 ],
 "metadata": {
  "kernelspec": {
   "display_name": "Python 3 (ipykernel)",
   "language": "python",
   "name": "python3"
  },
  "language_info": {
   "codemirror_mode": {
    "name": "ipython",
    "version": 3
   },
   "file_extension": ".py",
   "mimetype": "text/x-python",
   "name": "python",
   "nbconvert_exporter": "python",
   "pygments_lexer": "ipython3",
   "version": "3.9.7"
  }
 },
 "nbformat": 4,
 "nbformat_minor": 5
}
