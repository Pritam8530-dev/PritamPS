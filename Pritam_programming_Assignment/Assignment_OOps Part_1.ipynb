{
 "cells": [
  {
   "cell_type": "markdown",
   "id": "ac43c657",
   "metadata": {},
   "source": [
    "Q1. Explain Class and Object with respect to Object-Oriented Programming. Give a suitable example."
   ]
  },
  {
   "cell_type": "markdown",
   "id": "36e9b13d",
   "metadata": {},
   "source": [
    "Ans:"
   ]
  },
  {
   "cell_type": "markdown",
   "id": "5a7d7089",
   "metadata": {},
   "source": [
    "Class :\n",
    "    \n",
    "    Class is the blueprint of properties and its behaviour.\n",
    "    \n",
    "    class contains methods.\n",
    "    \n",
    "    class is defined by using class keyword.\n",
    "    \n",
    "    class has constructor .\n",
    "    \n",
    "    constructor is special method in python .\n",
    "    \n",
    "    Its is defind by  __init__().\n",
    "    \n",
    "    constructor has by default parameter is self and it can take any number of arguments.\n",
    "    \n",
    "    constructor is used for assign the value to object properties.\n",
    "    \n",
    "    when object created then constructor called automatically.\n",
    "    \n",
    "    class is having methods like instance method.\n",
    "    \n",
    "    That method contains by default parameter is self.\n",
    "    \n",
    "    self is pointing to current object.\n",
    "    \n",
    "    with help of self we can access class variable."
   ]
  },
  {
   "cell_type": "markdown",
   "id": "cb345b21",
   "metadata": {},
   "source": [
    "Q2. Name the four pillars of OOPs."
   ]
  },
  {
   "cell_type": "markdown",
   "id": "90c9f4f8",
   "metadata": {},
   "source": [
    "Ans:"
   ]
  },
  {
   "cell_type": "markdown",
   "id": "f8f02145",
   "metadata": {},
   "source": [
    "1. Abstraction\n",
    "\n",
    "2.Encapsulation : Data hinding process where data and code binding together.\n",
    "\n",
    "3.Inheritance : Here child class inherit the properties of parent class .It is used for code reusability.\n",
    "\n",
    "4.Polymorphism : poly means many . morph means form . one has many form\n",
    "    \n",
    "                Here it contains overloading and ovrriding concepts \n",
    "        \n",
    "               like operator overloading , method overload , method override.\n",
    "            \n",
    "               operator overload :\n",
    "                    \n",
    "                    1. + : This is arithmetic operator when both operans is like int and float. Then it perform arithmetic\n",
    "                        \n",
    "                           operation like addition .\n",
    "                            \n",
    "                            \n",
    "                            eg :  2.3 + 4.5 = 6.8\n",
    "                                \n",
    "                                  2.3 + 6 =  8.3\n",
    "                                    \n",
    "                                    \n",
    "                        whem both oprands should be string then it performs concatenation operation.\n",
    "                        \n",
    "                        eg : 'Data ' + 'Scientist' = 'Data Scientist'\n",
    "                            \n",
    "                            \n",
    "                            \n",
    "                    2. * : This is Astrisk operator . It is perform multiplication operation when both operands \n",
    "                        \n",
    "                           are float or int . \n",
    "                            \n",
    "                            eg : 2 * 2.4 = 4.8\n",
    "                                \n",
    "                                \n",
    "                            eg : 2 * 2 = 4\n",
    "                                \n",
    "                                \n",
    "                                \n",
    "                           when any one operand is string and another is int . Then it is work as repetation operator.\n",
    "                        \n",
    "                           eg : 'Data Scientist' * 2 = 'Data Scientist Data Scientist '\n",
    "                                    \n",
    "                                    \n",
    "                    "
   ]
  },
  {
   "cell_type": "markdown",
   "id": "a12ae3f4",
   "metadata": {},
   "source": [
    "Q3. Explain why the __init__() function is used. Give a suitable example."
   ]
  },
  {
   "cell_type": "markdown",
   "id": "bc2fb27d",
   "metadata": {},
   "source": [
    "Ans:"
   ]
  },
  {
   "cell_type": "markdown",
   "id": "122c3d16",
   "metadata": {},
   "source": [
    "constructor is a special method in python.\n",
    "\n",
    "The constructor name is __init__().\n",
    "\n",
    "The constructor is automatically executed at the time of creation of object.\n",
    "\n",
    "Main purpose of constructor is initialise and declare instance variables.\n",
    "\n",
    "Constructor executed once for a object.\n",
    "\n",
    "Constructor have at least parameter is self.\n",
    "\n",
    "Constructor is optional . if we are not providing constructor then python provide default constructor."
   ]
  },
  {
   "cell_type": "markdown",
   "id": "c4cdfa8b",
   "metadata": {},
   "source": [
    "Q4. Why self is used in OOPs?"
   ]
  },
  {
   "cell_type": "markdown",
   "id": "09f8937b",
   "metadata": {},
   "source": [
    "Ans:"
   ]
  },
  {
   "cell_type": "markdown",
   "id": "e77035ce",
   "metadata": {},
   "source": [
    "self is the default paramater.\n",
    "\n",
    "It is used for to access instance variable and instance method in the class.\n",
    "\n",
    "self is pointing to current object.\n",
    "\n",
    "self is the first parameter in the constructor.\n",
    "\n",
    "eg : def __init__(self):\n",
    "\n",
    "self is the first parameter in the instance variable.\n",
    "\n",
    "eg :def student_details(self):"
   ]
  },
  {
   "cell_type": "markdown",
   "id": "c9ee51ca",
   "metadata": {},
   "source": [
    "Q5. What is inheritance? Give an example for each type of inheritance."
   ]
  },
  {
   "cell_type": "markdown",
   "id": "02e9f1bf",
   "metadata": {},
   "source": [
    "Ans:"
   ]
  },
  {
   "cell_type": "markdown",
   "id": "d11b910c",
   "metadata": {},
   "source": [
    "Inheriatnce :\n",
    "    \n",
    "    Inheritance is one class inherits all the properties and methods from another class.\n",
    "    \n",
    "    parent class :\n",
    "        \n",
    "        It inherit into child class. This class is also called as base class.\n",
    "        \n",
    "    \n",
    "    child class :\n",
    "        \n",
    "        it inherited from parent class . This class is also called as derived class.\n",
    "        \n",
    "        \n",
    "        \n",
    "Types :\n",
    "    \n",
    "    1.single inheritance :\n",
    "        \n",
    "        In this type one parent and one child class\n",
    "        \n",
    "    2.mutiple inheriatnce :\n",
    "        \n",
    "        In this type child is derived by more than one parents.\n",
    "        \n",
    "        \n",
    "    3.multilevel inheritance :\n",
    "        \n",
    "        In this type properties of parent class and child class are inherited from new class."
   ]
  }
 ],
 "metadata": {
  "kernelspec": {
   "display_name": "Python 3 (ipykernel)",
   "language": "python",
   "name": "python3"
  },
  "language_info": {
   "codemirror_mode": {
    "name": "ipython",
    "version": 3
   },
   "file_extension": ".py",
   "mimetype": "text/x-python",
   "name": "python",
   "nbconvert_exporter": "python",
   "pygments_lexer": "ipython3",
   "version": "3.9.7"
  }
 },
 "nbformat": 4,
 "nbformat_minor": 5
}
