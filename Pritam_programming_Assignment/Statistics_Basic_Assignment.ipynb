{
 "cells": [
  {
   "cell_type": "markdown",
   "id": "18f7b41d",
   "metadata": {},
   "source": [
    "#### Q1. What is Statistics?"
   ]
  },
  {
   "cell_type": "markdown",
   "id": "abff7a0e",
   "metadata": {},
   "source": [
    "Ans:"
   ]
  },
  {
   "cell_type": "markdown",
   "id": "f4d1331b",
   "metadata": {},
   "source": [
    "Statistics is the science of collecting , organising and analyazing data.\n",
    "\n",
    "Data : Data is facts or pieces of information.\n",
    "    \n",
    "Statistics has two types:\n",
    "    \n",
    "    \n",
    "    1.Descriptive Statistics\n",
    "    \n",
    "    2.Infrential Statistics\n",
    "    \n",
    "    \n",
    "    \n",
    "1.Descriptive Statistics:\n",
    "    \n",
    "    \n",
    "    Descriptive Statistics is consist of organising and summerizing data.\n",
    "    \n",
    "    eg : measure central tendency (mean , mode , median)\n",
    "        \n",
    "         measure of dispersion (variance ,  std)\n",
    "    \n",
    "    \n",
    "2.Infrential Statistics:\n",
    "    \n",
    "    Infrential Statistics is consist of data is measured to form conclusion.\n",
    "    \n",
    "    eg : Z test , t test , chi square test"
   ]
  },
  {
   "cell_type": "markdown",
   "id": "335d37d0",
   "metadata": {},
   "source": [
    "#### Q2. Define the different types of statistics and give an example of when each type might be used."
   ]
  },
  {
   "cell_type": "markdown",
   "id": "dbab1c4b",
   "metadata": {},
   "source": [
    "Ans:"
   ]
  },
  {
   "cell_type": "markdown",
   "id": "c3eef810",
   "metadata": {},
   "source": [
    "Statistics has two types:\n",
    "\n",
    "    1.Descriptive Statistics\n",
    "\n",
    "    2.Infrential Statistics\n",
    "    \n",
    "    \n",
    "\n",
    "1.Descriptive Statistics:\n",
    "\n",
    "    Descriptive Statistics is consist of organising and summerizing data.\n",
    "\n",
    "    eg : measure central tendency (mean , mode , median)\n",
    "        \n",
    "         eg : average height of students in classroom.\n",
    "\n",
    "    eg : measure of dispersion (variance ,  std)\n",
    "            \n",
    "            \n",
    "\n",
    "\n",
    "2.Infrential Statistics:\n",
    "\n",
    "    Infrential Statistics is consist of data is measured to form conclusion.\n",
    "\n",
    "    eg : Z test , t test , chi square test\n",
    "        \n",
    "        \n",
    "    eg : Exit poll of Election"
   ]
  },
  {
   "cell_type": "markdown",
   "id": "4f86b478",
   "metadata": {},
   "source": [
    "#### Q3. What are the different types of data and how do they differ from each other? Provide an example of each type of data."
   ]
  },
  {
   "cell_type": "markdown",
   "id": "32153069",
   "metadata": {},
   "source": [
    "Ans:"
   ]
  },
  {
   "cell_type": "markdown",
   "id": "788f1076",
   "metadata": {},
   "source": [
    "Data :\n",
    "    \n",
    "    \n",
    "    Data is facts or pieces of information.\n",
    "    \n",
    "    \n",
    "Data has two types :\n",
    "    \n",
    "    \n",
    "    1.Quantitative Data\n",
    "    \n",
    "    2.Qualitative Data / categorical Data\n",
    "    \n",
    "    \n",
    "1.Quantitative Data :\n",
    "    \n",
    "    Quantitative Data is numerical data . where we perform operations like addition ,substraction ,multiplication ,division.\n",
    "    \n",
    "    Quantitative Data has two types :\n",
    "        \n",
    "        1.Discrete Data :\n",
    "            \n",
    "            Discrete data contains whole number.\n",
    "            \n",
    "            eg : Number of bank accounts , Number of children.\n",
    "                \n",
    "                \n",
    "        2.Continous Data :\n",
    "            \n",
    "            Continous data contains any value.\n",
    "            \n",
    "            eg : Height , Weight , Tempreature , speed.\n",
    "                \n",
    "                \n",
    "                \n",
    "                \n",
    "2.Qualitative Data / Categorical Data :\n",
    "    \n",
    "                  Qualitative Data is categorical data.\n",
    "        \n",
    "        \n",
    "        \n",
    "        \n",
    "       Qualitative data has two types.\n",
    "    \n",
    "    \n",
    "    \n",
    "      1.Nominal Data : \n",
    "            \n",
    "            Nominal data is categorical data . \n",
    "            \n",
    "            But this data does not assign rank.\n",
    "            \n",
    "            oder does not matter.\n",
    "            \n",
    "            \n",
    "            eg : Gender (M,F)\n",
    "                \n",
    "                 Iris data (setosa , versicolor , verginica)\n",
    "                    \n",
    "                    \n",
    "    \n",
    "    \n",
    "      2.Ordinal Data :\n",
    "            \n",
    "            \n",
    "            Ordinal data is categorical data.\n",
    "            \n",
    "            It has assign rank .\n",
    "            \n",
    "            Oder is matter.\n",
    "            \n",
    "            Diffrence can not be measured.\n",
    "            \n",
    "            \n",
    "            eg : customer feedback (Best , Good , Bad)"
   ]
  },
  {
   "cell_type": "markdown",
   "id": "50caa86e",
   "metadata": {},
   "source": [
    "#### Q4. Categorise the following datasets with respect to quantitative and qualitative data types:\n",
    "#### (i) Grading in exam: A+, A, B+, B, C+, C, D, E\n",
    "#### (ii) Colour of mangoes: yellow, green, orange, red\n",
    "#### (iii) Height data of a class: [178.9, 179, 179.5, 176, 177.2, 178.3, 175.8,...]\n",
    "#### (iv) Number of mangoes exported by a farm: [500, 600, 478, 672, ...]"
   ]
  },
  {
   "cell_type": "markdown",
   "id": "c8b5fbab",
   "metadata": {},
   "source": [
    "Ans:"
   ]
  },
  {
   "cell_type": "markdown",
   "id": "1dc4a02e",
   "metadata": {},
   "source": [
    "(i) Grading in exam: A+, A, B+, B, C+, C, D, E  : Qualitative data (ordinal data)\n",
    "        \n",
    "(ii) Colour of mangoes: yellow, green, orange, red : Qualitative data (Nominal data)\n",
    "        \n",
    "(iii) Height data of a class: [178.9, 179, 179.5, 176, 177.2, 178.3, 175.8,...] : Quantitative data (continous data)\n",
    "        \n",
    "(iv) Number of mangoes exported by a farm: [500, 600, 478, 672, ...] : Quantitative data (Discrete data)"
   ]
  },
  {
   "cell_type": "markdown",
   "id": "fff9f170",
   "metadata": {},
   "source": [
    "#### Q5. Explain the concept of levels of measurement and give an example of a variable for each level."
   ]
  },
  {
   "cell_type": "markdown",
   "id": "a0c117d6",
   "metadata": {},
   "source": [
    "Ans:"
   ]
  },
  {
   "cell_type": "markdown",
   "id": "ca3a5af9",
   "metadata": {},
   "source": [
    "Levels of measurement :\n",
    "    \n",
    "    1.Nominal Scale Data :\n",
    "        \n",
    "        1.It does not assign rank.\n",
    "        \n",
    "        2.Oder not matter.\n",
    "        \n",
    "        eg : i.Gender (M,F)\n",
    "            \n",
    "             ii.Iris data (setosa , versicolor , verginica)\n",
    "                \n",
    "                \n",
    "    2.Ordinal Scale Data:\n",
    "        \n",
    "        1.It assign rank.\n",
    "        \n",
    "        2.Oder matter.\n",
    "        \n",
    "        3.Diffrence can not be measure.\n",
    "        \n",
    "        eg : customer feedback (Best , Good , Bad)\n",
    "            \n",
    "            \n",
    "    3.Interval Scale Data :\n",
    "        \n",
    "        1.It assign rank\n",
    "        \n",
    "        2.oder matter.\n",
    "        \n",
    "        3.Diffrence can be measure.\n",
    "        \n",
    "        4.ratio can not be measure.\n",
    "        \n",
    "        eg :  Tempreature in celcius\n",
    "            \n",
    "            \n",
    "              [30,40,50,60 ,12,23]\n",
    "                \n",
    "                Ascending order : 12 ,23, 30,40,50 , 60\n",
    "                    \n",
    "                    \n",
    "                Diffrence : 40 -30 = 10\n",
    "                    \n",
    "                            50 - 30  = 20\n",
    "                        \n",
    "                ratio :  60 : 30 = 2:1    \n",
    "                            \n",
    "                            But here its meaningless ratio . we are not able to clearly say 60(degree) celcius is 2(twice)\n",
    "                            \n",
    "                            than 30(degree cecius).Its meaningless or there is not any output from it.\n",
    "                            \n",
    "                    \n",
    "    4.Ratio Scale Data :\n",
    "        \n",
    "        \n",
    "        1.Assign rank\n",
    "        \n",
    "        2.Oder matter\n",
    "        \n",
    "        3.Diffrence can be measured\n",
    "        \n",
    "        4.ratio can be measured\n",
    "        \n",
    "        eg : students marks in classroom\n",
    "            \n",
    "             30,60,50,40,80\n",
    "                \n",
    "                \n",
    "                Ascending order : 30,40,50,60,80\n",
    "                    \n",
    "                Diffrence : 60 - 30 = 30 , 80 - 40 = 40\n",
    "                    \n",
    "                ratio : 60 : 30 = 2 :1\n",
    "                            \n",
    "                            \n",
    "                            60 marks student take 2(twice) marks than 30 stidents. There is meaningful ratio.\n",
    "                            \n",
    "                            \n",
    "                            \n",
    "        eg : IQ level of students."
   ]
  },
  {
   "cell_type": "markdown",
   "id": "373a3d1f",
   "metadata": {},
   "source": [
    "#### Q6. Why is it important to understand the level of measurement when analyzing data? Provide an example to illustrate your answer."
   ]
  },
  {
   "cell_type": "markdown",
   "id": "d1637273",
   "metadata": {},
   "source": [
    "Ans:"
   ]
  },
  {
   "cell_type": "markdown",
   "id": "636d4e4f",
   "metadata": {},
   "source": [
    "It is important to understand the level of measurement of variables in research, \n",
    "\n",
    "because the level of measurement determines the type of statistical analysis that can be conducted, and, \n",
    "\n",
    "therefore, the type of conclusions that can be drawn from the research.\n",
    "\n",
    "Learning about the four levels of measurement allows statisticians and analysts \n",
    "\n",
    "to more efficiently plan for research and present their findings.\n",
    "\n",
    "And as a Data Scientist we need to understand nature and behaviour data is most important andcrucial parameter.\n",
    "\n",
    "\n",
    "eg :\n",
    "\n",
    "4.Ratio Scale Data :\n",
    "\n",
    "\n",
    "    1.Assign rank\n",
    "\n",
    "    2.Oder matter\n",
    "\n",
    "    3.Diffrence can be measured\n",
    "\n",
    "    4.ratio can be measured\n",
    "\n",
    "    eg : students marks in classroom\n",
    "\n",
    "         30,60,50,40,80\n",
    "\n",
    "\n",
    "            Ascending order : 30,40,50,60,80\n",
    "\n",
    "            Diffrence : 60 - 30 = 30 , 80 - 40 = 40\n",
    "\n",
    "            ratio : 60 : 30 = 2 :1\n",
    "\n",
    "\n",
    "                        60 marks student take 2(twice) marks than 30 stidents. There is meaningful ratio.\n",
    "\n",
    "\n",
    "\n",
    "    eg : IQ level of students.\n"
   ]
  },
  {
   "cell_type": "markdown",
   "id": "8c9b72f2",
   "metadata": {},
   "source": [
    "#### Q7. How nominal data type is different from ordinal data type."
   ]
  },
  {
   "cell_type": "markdown",
   "id": "53044be9",
   "metadata": {},
   "source": [
    "Ans:"
   ]
  },
  {
   "cell_type": "markdown",
   "id": "10b4bf7f",
   "metadata": {},
   "source": [
    "Both are types of Qualitative data.\n",
    "\n",
    "Measure diffrence is rank and oder.\n",
    "\n",
    "nominal has not any renk assign and oder is not there.\n",
    "\n",
    "ordinal is having rank and order is important.\n",
    "\n",
    "\n",
    "1.Nominal Scale Data :\n",
    "\n",
    "    1.It does not assign rank.\n",
    "\n",
    "    2.Oder not matter.\n",
    "\n",
    "    eg : i.Gender (M,F)\n",
    "\n",
    "         ii.Iris data (setosa , versicolor , verginica)\n",
    "\n",
    "\n",
    "2.Ordinal Scale Data:\n",
    "\n",
    "    1.It assign rank.\n",
    "\n",
    "    2.Oder matter.\n",
    "\n",
    "    3.Diffrence can not be measure.\n",
    "\n",
    "    eg : customer feedback (Best , Good , Bad)"
   ]
  },
  {
   "cell_type": "markdown",
   "id": "f4a7096e",
   "metadata": {},
   "source": [
    "Q8. Which type of plot can be used to display data in terms of range?"
   ]
  },
  {
   "cell_type": "markdown",
   "id": "4b45182b",
   "metadata": {},
   "source": [
    "Ans:"
   ]
  },
  {
   "cell_type": "markdown",
   "id": "1be91d03",
   "metadata": {},
   "source": [
    "A histogram is a graphical representation of data points organized into user-specified ranges."
   ]
  },
  {
   "cell_type": "markdown",
   "id": "275fcf26",
   "metadata": {},
   "source": [
    "#### Q9. Describe the difference between descriptive and inferential statistics. Give an example of each type of statistics and explain how they are used."
   ]
  },
  {
   "cell_type": "markdown",
   "id": "b77d114c",
   "metadata": {},
   "source": [
    "Ans:"
   ]
  },
  {
   "cell_type": "markdown",
   "id": "8f4f7822",
   "metadata": {},
   "source": [
    "Statistics has two types:\n",
    "\n",
    "    1.Descriptive Statistics\n",
    "\n",
    "    2.Infrential Statistics\n",
    "    \n",
    "    \n",
    "\n",
    "1.Descriptive Statistics:\n",
    "\n",
    "    Descriptive Statistics is consist of organising and summerizing data.\n",
    "\n",
    "    eg : measure central tendency (mean , mode , median)\n",
    "        \n",
    "         eg : average height of students in classroom.\n",
    "\n",
    "    eg : measure of dispersion (variance ,  std)\n",
    "\n",
    "\n",
    "         \n",
    "\n",
    "2.Infrential Statistics:\n",
    "\n",
    "    Infrential Statistics is consist of data is measured to form conclusion.\n",
    "\n",
    "    eg : Z test , t test , chi square test\n",
    "\n",
    "\n",
    "    eg : Exit poll of Election"
   ]
  },
  {
   "cell_type": "markdown",
   "id": "c06f9cd1",
   "metadata": {},
   "source": [
    "#### Q10. What are some common measures of central tendency and variability used in statistics? Explain how each measure can be used to describe a dataset."
   ]
  },
  {
   "cell_type": "markdown",
   "id": "acf3e1f7",
   "metadata": {},
   "source": [
    "Ans:"
   ]
  },
  {
   "cell_type": "markdown",
   "id": "0827f0cd",
   "metadata": {},
   "source": [
    "measure of central tendency :\n",
    "    \n",
    "    1.Mean : Mean is the central tendency . where we calculate average of that data.\n",
    "        \n",
    "        eg : when we fill null values with central tendency that time we use mean .Its not mandetory.Its depends on data.\n",
    "        \n",
    "    2.median : median is the central tendency . It is the median value of perticular data.\n",
    "        \n",
    "        eg :when we fill null values with central tendency that time we use median where outliers are present .\n",
    "        \n",
    "        Its not mandetory.Its depends on data.\n",
    "        \n",
    "    3.mode : Mode is central tendency . Its max frequent element in perticular distribution.\n",
    "        \n",
    "        eg :when we fill null values with central tendency that time we use mode in categorical column only .\n",
    "        \n",
    "        Its not mandetory.Its depends on data."
   ]
  },
  {
   "cell_type": "code",
   "execution_count": 19,
   "id": "3af2f8c2",
   "metadata": {},
   "outputs": [],
   "source": [
    "import numpy as np\n",
    "import pandas as pd\n",
    "import seaborn as sns\n",
    "import statistics as stat"
   ]
  },
  {
   "cell_type": "code",
   "execution_count": 4,
   "id": "b7b373d7",
   "metadata": {},
   "outputs": [],
   "source": [
    "df = sns.load_dataset('iris')"
   ]
  },
  {
   "cell_type": "code",
   "execution_count": 5,
   "id": "b025767e",
   "metadata": {},
   "outputs": [
    {
     "data": {
      "text/html": [
       "<div>\n",
       "<style scoped>\n",
       "    .dataframe tbody tr th:only-of-type {\n",
       "        vertical-align: middle;\n",
       "    }\n",
       "\n",
       "    .dataframe tbody tr th {\n",
       "        vertical-align: top;\n",
       "    }\n",
       "\n",
       "    .dataframe thead th {\n",
       "        text-align: right;\n",
       "    }\n",
       "</style>\n",
       "<table border=\"1\" class=\"dataframe\">\n",
       "  <thead>\n",
       "    <tr style=\"text-align: right;\">\n",
       "      <th></th>\n",
       "      <th>sepal_length</th>\n",
       "      <th>sepal_width</th>\n",
       "      <th>petal_length</th>\n",
       "      <th>petal_width</th>\n",
       "      <th>species</th>\n",
       "    </tr>\n",
       "  </thead>\n",
       "  <tbody>\n",
       "    <tr>\n",
       "      <th>0</th>\n",
       "      <td>5.1</td>\n",
       "      <td>3.5</td>\n",
       "      <td>1.4</td>\n",
       "      <td>0.2</td>\n",
       "      <td>setosa</td>\n",
       "    </tr>\n",
       "    <tr>\n",
       "      <th>1</th>\n",
       "      <td>4.9</td>\n",
       "      <td>3.0</td>\n",
       "      <td>1.4</td>\n",
       "      <td>0.2</td>\n",
       "      <td>setosa</td>\n",
       "    </tr>\n",
       "    <tr>\n",
       "      <th>2</th>\n",
       "      <td>4.7</td>\n",
       "      <td>3.2</td>\n",
       "      <td>1.3</td>\n",
       "      <td>0.2</td>\n",
       "      <td>setosa</td>\n",
       "    </tr>\n",
       "    <tr>\n",
       "      <th>3</th>\n",
       "      <td>4.6</td>\n",
       "      <td>3.1</td>\n",
       "      <td>1.5</td>\n",
       "      <td>0.2</td>\n",
       "      <td>setosa</td>\n",
       "    </tr>\n",
       "    <tr>\n",
       "      <th>4</th>\n",
       "      <td>5.0</td>\n",
       "      <td>3.6</td>\n",
       "      <td>1.4</td>\n",
       "      <td>0.2</td>\n",
       "      <td>setosa</td>\n",
       "    </tr>\n",
       "    <tr>\n",
       "      <th>...</th>\n",
       "      <td>...</td>\n",
       "      <td>...</td>\n",
       "      <td>...</td>\n",
       "      <td>...</td>\n",
       "      <td>...</td>\n",
       "    </tr>\n",
       "    <tr>\n",
       "      <th>145</th>\n",
       "      <td>6.7</td>\n",
       "      <td>3.0</td>\n",
       "      <td>5.2</td>\n",
       "      <td>2.3</td>\n",
       "      <td>virginica</td>\n",
       "    </tr>\n",
       "    <tr>\n",
       "      <th>146</th>\n",
       "      <td>6.3</td>\n",
       "      <td>2.5</td>\n",
       "      <td>5.0</td>\n",
       "      <td>1.9</td>\n",
       "      <td>virginica</td>\n",
       "    </tr>\n",
       "    <tr>\n",
       "      <th>147</th>\n",
       "      <td>6.5</td>\n",
       "      <td>3.0</td>\n",
       "      <td>5.2</td>\n",
       "      <td>2.0</td>\n",
       "      <td>virginica</td>\n",
       "    </tr>\n",
       "    <tr>\n",
       "      <th>148</th>\n",
       "      <td>6.2</td>\n",
       "      <td>3.4</td>\n",
       "      <td>5.4</td>\n",
       "      <td>2.3</td>\n",
       "      <td>virginica</td>\n",
       "    </tr>\n",
       "    <tr>\n",
       "      <th>149</th>\n",
       "      <td>5.9</td>\n",
       "      <td>3.0</td>\n",
       "      <td>5.1</td>\n",
       "      <td>1.8</td>\n",
       "      <td>virginica</td>\n",
       "    </tr>\n",
       "  </tbody>\n",
       "</table>\n",
       "<p>150 rows × 5 columns</p>\n",
       "</div>"
      ],
      "text/plain": [
       "     sepal_length  sepal_width  petal_length  petal_width    species\n",
       "0             5.1          3.5           1.4          0.2     setosa\n",
       "1             4.9          3.0           1.4          0.2     setosa\n",
       "2             4.7          3.2           1.3          0.2     setosa\n",
       "3             4.6          3.1           1.5          0.2     setosa\n",
       "4             5.0          3.6           1.4          0.2     setosa\n",
       "..            ...          ...           ...          ...        ...\n",
       "145           6.7          3.0           5.2          2.3  virginica\n",
       "146           6.3          2.5           5.0          1.9  virginica\n",
       "147           6.5          3.0           5.2          2.0  virginica\n",
       "148           6.2          3.4           5.4          2.3  virginica\n",
       "149           5.9          3.0           5.1          1.8  virginica\n",
       "\n",
       "[150 rows x 5 columns]"
      ]
     },
     "execution_count": 5,
     "metadata": {},
     "output_type": "execute_result"
    }
   ],
   "source": [
    "df"
   ]
  },
  {
   "cell_type": "markdown",
   "id": "3e099af0",
   "metadata": {},
   "source": [
    "#### Mean"
   ]
  },
  {
   "cell_type": "code",
   "execution_count": 6,
   "id": "9439a84a",
   "metadata": {},
   "outputs": [
    {
     "data": {
      "text/plain": [
       "5.843333333333335"
      ]
     },
     "execution_count": 6,
     "metadata": {},
     "output_type": "execute_result"
    }
   ],
   "source": [
    "np.mean(df['sepal_length'])"
   ]
  },
  {
   "cell_type": "code",
   "execution_count": 7,
   "id": "799670b0",
   "metadata": {},
   "outputs": [
    {
     "data": {
      "text/plain": [
       "3.7580000000000027"
      ]
     },
     "execution_count": 7,
     "metadata": {},
     "output_type": "execute_result"
    }
   ],
   "source": [
    "np.mean(df['petal_length'])"
   ]
  },
  {
   "cell_type": "code",
   "execution_count": 8,
   "id": "cd9457ff",
   "metadata": {},
   "outputs": [
    {
     "data": {
      "text/plain": [
       "3.057333333333334"
      ]
     },
     "execution_count": 8,
     "metadata": {},
     "output_type": "execute_result"
    }
   ],
   "source": [
    "np.mean(df['sepal_width'])"
   ]
  },
  {
   "cell_type": "code",
   "execution_count": 9,
   "id": "8c8007c6",
   "metadata": {},
   "outputs": [
    {
     "data": {
      "text/plain": [
       "1.199333333333334"
      ]
     },
     "execution_count": 9,
     "metadata": {},
     "output_type": "execute_result"
    }
   ],
   "source": [
    "np.mean(df['petal_width'])"
   ]
  },
  {
   "cell_type": "code",
   "execution_count": 10,
   "id": "3714f47a",
   "metadata": {},
   "outputs": [
    {
     "name": "stderr",
     "output_type": "stream",
     "text": [
      "C:\\Users\\Pritam\\anaconda3\\lib\\site-packages\\numpy\\core\\fromnumeric.py:3417: FutureWarning: Dropping of nuisance columns in DataFrame reductions (with 'numeric_only=None') is deprecated; in a future version this will raise TypeError.  Select only valid columns before calling the reduction.\n",
      "  return mean(axis=axis, dtype=dtype, out=out, **kwargs)\n"
     ]
    },
    {
     "data": {
      "text/plain": [
       "sepal_length    5.843333\n",
       "sepal_width     3.057333\n",
       "petal_length    3.758000\n",
       "petal_width     1.199333\n",
       "dtype: float64"
      ]
     },
     "execution_count": 10,
     "metadata": {},
     "output_type": "execute_result"
    }
   ],
   "source": [
    "np.mean(df)"
   ]
  },
  {
   "cell_type": "markdown",
   "id": "ee20e292",
   "metadata": {},
   "source": [
    "#### Median "
   ]
  },
  {
   "cell_type": "code",
   "execution_count": 12,
   "id": "e89ab170",
   "metadata": {},
   "outputs": [
    {
     "data": {
      "text/plain": [
       "5.8"
      ]
     },
     "execution_count": 12,
     "metadata": {},
     "output_type": "execute_result"
    }
   ],
   "source": [
    "np.median(df['sepal_length'])"
   ]
  },
  {
   "cell_type": "code",
   "execution_count": 13,
   "id": "e0eeb333",
   "metadata": {},
   "outputs": [
    {
     "data": {
      "text/plain": [
       "3.0"
      ]
     },
     "execution_count": 13,
     "metadata": {},
     "output_type": "execute_result"
    }
   ],
   "source": [
    "np.median(df['sepal_width'])"
   ]
  },
  {
   "cell_type": "code",
   "execution_count": 14,
   "id": "a3a355c1",
   "metadata": {},
   "outputs": [
    {
     "data": {
      "text/plain": [
       "4.35"
      ]
     },
     "execution_count": 14,
     "metadata": {},
     "output_type": "execute_result"
    }
   ],
   "source": [
    "np.median(df['petal_length'])"
   ]
  },
  {
   "cell_type": "code",
   "execution_count": 15,
   "id": "ea280543",
   "metadata": {},
   "outputs": [
    {
     "data": {
      "text/plain": [
       "1.3"
      ]
     },
     "execution_count": 15,
     "metadata": {},
     "output_type": "execute_result"
    }
   ],
   "source": [
    "np.median(df['petal_width'])"
   ]
  },
  {
   "cell_type": "markdown",
   "id": "4c62040e",
   "metadata": {},
   "source": [
    "#### Mode"
   ]
  },
  {
   "cell_type": "code",
   "execution_count": 21,
   "id": "10331d75",
   "metadata": {},
   "outputs": [
    {
     "data": {
      "text/plain": [
       "'setosa'"
      ]
     },
     "execution_count": 21,
     "metadata": {},
     "output_type": "execute_result"
    }
   ],
   "source": [
    "stat.mode(df['species'])"
   ]
  }
 ],
 "metadata": {
  "kernelspec": {
   "display_name": "Python 3 (ipykernel)",
   "language": "python",
   "name": "python3"
  },
  "language_info": {
   "codemirror_mode": {
    "name": "ipython",
    "version": 3
   },
   "file_extension": ".py",
   "mimetype": "text/x-python",
   "name": "python",
   "nbconvert_exporter": "python",
   "pygments_lexer": "ipython3",
   "version": "3.9.7"
  }
 },
 "nbformat": 4,
 "nbformat_minor": 5
}
