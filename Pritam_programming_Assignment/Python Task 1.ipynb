{
 "cells": [
  {
   "cell_type": "markdown",
   "id": "f203f952",
   "metadata": {},
   "source": [
    "Q1. Create a function which will take a list as an argument and return the product of all the numbers\n",
    "after creating a flat list.\n",
    "Use the below-given list as an argument for your function.\n",
    "list1 = [1,2,3,4, [44,55,66, True], False, (34,56,78,89,34), {1,2,3,3,2,1}, {1:34, \"key2\": [55, 67, 78, 89], 4: (45,\n",
    "22, 61, 34)}, [56, 'data science'], 'Machine Learning']\n",
    "\n",
    "Note: you must extract numeric keys and values of the dictionary also."
   ]
  },
  {
   "cell_type": "markdown",
   "id": "ca3fc352",
   "metadata": {},
   "source": [
    "Ans:"
   ]
  },
  {
   "cell_type": "code",
   "execution_count": 73,
   "id": "b930fc61",
   "metadata": {},
   "outputs": [
    {
     "name": "stdout",
     "output_type": "stream",
     "text": [
      "Here we get pure list : [1, 2, 3, 4, 44, 55, 66, 34, 56, 78, 89, 34, 1, 2, 3, 1, 34, 55, 67, 78, 89, 4, 45, 22, 61, 34, 56]\n",
      "product of whole list is : 4134711838987085478833841242112000\n"
     ]
    }
   ],
   "source": [
    "from functools import reduce\n",
    "\n",
    "def product_list(list1):\n",
    "    \n",
    "    l =[]\n",
    "    \n",
    "    for i in list1:\n",
    "        \n",
    "        if type(i) == int:\n",
    "            \n",
    "           l.append(i)\n",
    "        \n",
    "        if type(i) == list or type(i) == tuple or type(i) == set:\n",
    "            \n",
    "            for j in i :\n",
    "                    \n",
    "                    if type(j) == int:\n",
    "                        \n",
    "                        l.append(j)\n",
    "                        \n",
    "        if type(i) == dict:\n",
    "            \n",
    "            for k , v in i.items():\n",
    "                \n",
    "                if type(k) == int:\n",
    "                    \n",
    "                    l.append(k)\n",
    "                    \n",
    "                if type(v) == int:\n",
    "                    \n",
    "                    l.append(v)\n",
    "                    \n",
    "                if type(v) == list or type(v) == tuple:\n",
    "                    \n",
    "                    for numbers in v:\n",
    "                        \n",
    "                        if type(numbers) == int:\n",
    "                            \n",
    "                            l.append(numbers)\n",
    "                            \n",
    "    print('Here we get pure list :',l)\n",
    "    \n",
    "    c = reduce(lambda x , y : x * y , l)\n",
    "    \n",
    "    print('product of whole list is :' , c)\n",
    "    \n",
    "list1 = [1,2,3,4, [44,55,66, True], False, (34,56,78,89,34), {1,2,3,3,2,1}, {1:34, \"key2\": [55, 67, 78, 89], 4: (45,\n",
    "22, 61, 34)}, [56, 'data science'], 'Machine Learning']       \n",
    "product_list(list1)"
   ]
  },
  {
   "cell_type": "markdown",
   "id": "3a8a624e",
   "metadata": {},
   "source": [
    "Q2. Write a python program for encrypting a message sent to you by your friend. The logic of encryption\n",
    "should be such that, for a the output should be z. For b, the output should be y. For c, the output should\n",
    "be x respectively. Also, the whitespace should be replaced with a dollar sign. Keep the punctuation\n",
    "marks unchanged.\n",
    "Input Sentence: I want to become a Data Scientist.\n",
    "Encrypt the above input sentence using the program you just created."
   ]
  },
  {
   "cell_type": "markdown",
   "id": "fb7016fe",
   "metadata": {},
   "source": [
    "Ans :"
   ]
  },
  {
   "cell_type": "code",
   "execution_count": 26,
   "id": "6985c2fe",
   "metadata": {},
   "outputs": [
    {
     "name": "stdout",
     "output_type": "stream",
     "text": [
      "i$wznt$to$yexome$z$dztz$sxientist.\n"
     ]
    }
   ],
   "source": [
    "def encryption(s):\n",
    "    \n",
    "    for i in s:\n",
    "        \n",
    "        if i == 'a':\n",
    "            \n",
    "            s = s.replace('a','z')\n",
    "            \n",
    "        elif i =='b':\n",
    "            \n",
    "            s = s.replace('b','y')\n",
    "            \n",
    "        elif i == 'c':\n",
    "            \n",
    "            s = s.replace('c','x')\n",
    "            \n",
    "            \n",
    "    s = s.replace(' ','$')\n",
    "    \n",
    "    \n",
    "    print(s)\n",
    "s = 'I want to become a Data Scientist.'\n",
    "\n",
    "s = s.lower()\n",
    "\n",
    "encryption(s)"
   ]
  },
  {
   "cell_type": "markdown",
   "id": "444a4432",
   "metadata": {},
   "source": [
    "or"
   ]
  },
  {
   "cell_type": "code",
   "execution_count": 27,
   "id": "14bf6c8d",
   "metadata": {},
   "outputs": [
    {
     "name": "stdout",
     "output_type": "stream",
     "text": [
      "i$wznt$to$yexome$z$dztz$sxientist.\n"
     ]
    }
   ],
   "source": [
    "def encryption_1(s1):\n",
    "    \n",
    "    s1 = s1.replace('a','z')\n",
    "    s1 = s1.replace('b','y')\n",
    "    s1 = s1.replace('c','x')\n",
    "    s1 = s1.replace(' ','$')\n",
    "    \n",
    "    print(s1)\n",
    "    \n",
    "\n",
    "s1 = 'I want to become a Data Scientist.'\n",
    "s1 = s1.lower()\n",
    "encryption_1(s1)"
   ]
  }
 ],
 "metadata": {
  "kernelspec": {
   "display_name": "Python 3 (ipykernel)",
   "language": "python",
   "name": "python3"
  },
  "language_info": {
   "codemirror_mode": {
    "name": "ipython",
    "version": 3
   },
   "file_extension": ".py",
   "mimetype": "text/x-python",
   "name": "python",
   "nbconvert_exporter": "python",
   "pygments_lexer": "ipython3",
   "version": "3.9.7"
  }
 },
 "nbformat": 4,
 "nbformat_minor": 5
}
