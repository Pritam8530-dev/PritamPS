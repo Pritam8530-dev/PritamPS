{
 "cells": [
  {
   "cell_type": "markdown",
   "id": "3474699e",
   "metadata": {},
   "source": [
    "#### Consider the below code to answer further questions:\n",
    "        \n",
    "#### import numpy as np\n",
    "#### list_ = [ ‘1’ , ’2’ , ‘3’ , ‘4’ , ‘5’ ]\n",
    "#### array_list = np.array(object = list_)\n",
    "#### Q1. Is there any difference in the data type of variables list_ and array_list? If there is then write a codeto print the data types of both the variables."
   ]
  },
  {
   "cell_type": "markdown",
   "id": "f9ef377b",
   "metadata": {},
   "source": [
    "Ans:"
   ]
  },
  {
   "cell_type": "code",
   "execution_count": 1,
   "id": "8673a62f",
   "metadata": {},
   "outputs": [],
   "source": [
    "import numpy as np"
   ]
  },
  {
   "cell_type": "code",
   "execution_count": 2,
   "id": "a1c8e35b",
   "metadata": {},
   "outputs": [],
   "source": [
    "list_ = ['1','2','3','4','5']"
   ]
  },
  {
   "cell_type": "code",
   "execution_count": 3,
   "id": "0e18fff4",
   "metadata": {},
   "outputs": [],
   "source": [
    "array_list = np.array(list_)"
   ]
  },
  {
   "cell_type": "code",
   "execution_count": 4,
   "id": "45623c0e",
   "metadata": {},
   "outputs": [
    {
     "data": {
      "text/plain": [
       "array(['1', '2', '3', '4', '5'], dtype='<U1')"
      ]
     },
     "execution_count": 4,
     "metadata": {},
     "output_type": "execute_result"
    }
   ],
   "source": [
    "array_list"
   ]
  },
  {
   "cell_type": "code",
   "execution_count": 6,
   "id": "148bc682",
   "metadata": {},
   "outputs": [
    {
     "data": {
      "text/plain": [
       "list"
      ]
     },
     "execution_count": 6,
     "metadata": {},
     "output_type": "execute_result"
    }
   ],
   "source": [
    "type(list_)"
   ]
  },
  {
   "cell_type": "code",
   "execution_count": 8,
   "id": "5e8f793d",
   "metadata": {},
   "outputs": [
    {
     "data": {
      "text/plain": [
       "numpy.ndarray"
      ]
     },
     "execution_count": 8,
     "metadata": {},
     "output_type": "execute_result"
    }
   ],
   "source": [
    "type(array_list)"
   ]
  },
  {
   "cell_type": "code",
   "execution_count": 10,
   "id": "0baac96a",
   "metadata": {},
   "outputs": [
    {
     "data": {
      "text/plain": [
       "dtype('<U1')"
      ]
     },
     "execution_count": 10,
     "metadata": {},
     "output_type": "execute_result"
    }
   ],
   "source": [
    "array_list.dtype"
   ]
  },
  {
   "cell_type": "markdown",
   "id": "59facd20",
   "metadata": {},
   "source": [
    "list and array_list both contain data is string. but list has not option or function. to show data of each variable. so it shows type list.\n",
    "\n",
    "but numpy as has option to show data type of each variable by array.dtype."
   ]
  },
  {
   "cell_type": "markdown",
   "id": "6eab9f28",
   "metadata": {},
   "source": [
    "Yes , there any difference in the data type of variables list_ and array_list."
   ]
  },
  {
   "cell_type": "markdown",
   "id": "86974e31",
   "metadata": {},
   "source": [
    "#### Q2. Write a code to print the data type of each and every element of both the variables list_ and array_list."
   ]
  },
  {
   "cell_type": "markdown",
   "id": "66175611",
   "metadata": {},
   "source": [
    "Ans:"
   ]
  },
  {
   "cell_type": "code",
   "execution_count": 23,
   "id": "df69e6ec",
   "metadata": {},
   "outputs": [
    {
     "name": "stdout",
     "output_type": "stream",
     "text": [
      "1 <class 'str'>\n",
      "2 <class 'str'>\n",
      "3 <class 'str'>\n",
      "4 <class 'str'>\n",
      "5 <class 'str'>\n"
     ]
    }
   ],
   "source": [
    "for i in list_:\n",
    "    print(i , type(i))"
   ]
  },
  {
   "cell_type": "code",
   "execution_count": 28,
   "id": "6acdf611",
   "metadata": {},
   "outputs": [
    {
     "name": "stdout",
     "output_type": "stream",
     "text": [
      "1 <U1\n",
      "2 <U1\n",
      "3 <U1\n",
      "4 <U1\n",
      "5 <U1\n"
     ]
    }
   ],
   "source": [
    "for j in array_list:\n",
    "    print(j , i.dtype)"
   ]
  },
  {
   "cell_type": "markdown",
   "id": "5d75cab3",
   "metadata": {},
   "source": [
    "### or"
   ]
  },
  {
   "cell_type": "code",
   "execution_count": 27,
   "id": "6638f32d",
   "metadata": {},
   "outputs": [
    {
     "data": {
      "text/plain": [
       "dtype('<U1')"
      ]
     },
     "execution_count": 27,
     "metadata": {},
     "output_type": "execute_result"
    }
   ],
   "source": [
    "array_list.dtype"
   ]
  },
  {
   "cell_type": "markdown",
   "id": "8a59a35d",
   "metadata": {},
   "source": [
    "#### Q3. Considering the following changes in the variable, array_list:\n",
    "#### array_list = np.array(object = list_, dtype = int)\n",
    "#### Will there be any difference in the data type of the elements present in both the variables, list_ and array_list?\n",
    "#### If so then print the data types of each and every element present in both the variables, list_and array_list."
   ]
  },
  {
   "cell_type": "markdown",
   "id": "8e256de2",
   "metadata": {},
   "source": [
    "Ans:"
   ]
  },
  {
   "cell_type": "code",
   "execution_count": 32,
   "id": "21d74f8e",
   "metadata": {},
   "outputs": [
    {
     "data": {
      "text/plain": [
       "['1', '2', '3', '4', '5']"
      ]
     },
     "execution_count": 32,
     "metadata": {},
     "output_type": "execute_result"
    }
   ],
   "source": [
    "list_"
   ]
  },
  {
   "cell_type": "code",
   "execution_count": 33,
   "id": "2315fec6",
   "metadata": {},
   "outputs": [
    {
     "data": {
      "text/plain": [
       "list"
      ]
     },
     "execution_count": 33,
     "metadata": {},
     "output_type": "execute_result"
    }
   ],
   "source": [
    "type(list_)"
   ]
  },
  {
   "cell_type": "code",
   "execution_count": 29,
   "id": "8785ae2d",
   "metadata": {},
   "outputs": [],
   "source": [
    "array_list = np.array(object = list_, dtype = int)"
   ]
  },
  {
   "cell_type": "code",
   "execution_count": 30,
   "id": "10b08aee",
   "metadata": {},
   "outputs": [
    {
     "data": {
      "text/plain": [
       "array([1, 2, 3, 4, 5])"
      ]
     },
     "execution_count": 30,
     "metadata": {},
     "output_type": "execute_result"
    }
   ],
   "source": [
    "array_list"
   ]
  },
  {
   "cell_type": "code",
   "execution_count": 31,
   "id": "d4a064f9",
   "metadata": {},
   "outputs": [
    {
     "data": {
      "text/plain": [
       "dtype('int32')"
      ]
     },
     "execution_count": 31,
     "metadata": {},
     "output_type": "execute_result"
    }
   ],
   "source": [
    "array_list.dtype"
   ]
  },
  {
   "cell_type": "code",
   "execution_count": 34,
   "id": "08778979",
   "metadata": {},
   "outputs": [
    {
     "name": "stdout",
     "output_type": "stream",
     "text": [
      "1 <class 'str'>\n",
      "2 <class 'str'>\n",
      "3 <class 'str'>\n",
      "4 <class 'str'>\n",
      "5 <class 'str'>\n"
     ]
    }
   ],
   "source": [
    "for i in list_:\n",
    "    \n",
    "    print(i , type(i))"
   ]
  },
  {
   "cell_type": "markdown",
   "id": "ff535ec0",
   "metadata": {},
   "source": [
    "Yes , there is difference in the data type of the elements present in both the variables, list_ and array_list.\n",
    "\n",
    "list_ has string data and array_list has data of integer.(int32 byte)."
   ]
  },
  {
   "cell_type": "markdown",
   "id": "f971e9a1",
   "metadata": {},
   "source": [
    "#### Consider the below code to answer further questions:\n",
    "#### import numpy as np\n",
    "#### num_list = [ [ 1 , 2 , 3 ] , [ 4 , 5 , 6 ] ]\n",
    "#### num_array = np.array(object = num_list)\n",
    "#### Q4. Write a code to find the following characteristics of variable, num_array:\n",
    "#### (i) shape\n",
    "#### (ii) size"
   ]
  },
  {
   "cell_type": "markdown",
   "id": "518ea505",
   "metadata": {},
   "source": [
    "Ans:"
   ]
  },
  {
   "cell_type": "code",
   "execution_count": 39,
   "id": "f02274e3",
   "metadata": {},
   "outputs": [],
   "source": [
    "num_list = [[1,2,3],[4,5,6]]"
   ]
  },
  {
   "cell_type": "code",
   "execution_count": 40,
   "id": "249cf006",
   "metadata": {},
   "outputs": [],
   "source": [
    "num_array = np.array(num_list)"
   ]
  },
  {
   "cell_type": "code",
   "execution_count": 41,
   "id": "8cff27b0",
   "metadata": {},
   "outputs": [
    {
     "data": {
      "text/plain": [
       "array([[1, 2, 3],\n",
       "       [4, 5, 6]])"
      ]
     },
     "execution_count": 41,
     "metadata": {},
     "output_type": "execute_result"
    }
   ],
   "source": [
    "num_array"
   ]
  },
  {
   "cell_type": "markdown",
   "id": "b4aaacdb",
   "metadata": {},
   "source": [
    "#### shape : shape is used for to check count of rows and columns"
   ]
  },
  {
   "cell_type": "code",
   "execution_count": 43,
   "id": "a8fc477b",
   "metadata": {},
   "outputs": [
    {
     "data": {
      "text/plain": [
       "(2, 3)"
      ]
     },
     "execution_count": 43,
     "metadata": {},
     "output_type": "execute_result"
    }
   ],
   "source": [
    "num_array.shape"
   ]
  },
  {
   "cell_type": "markdown",
   "id": "ee0aea42",
   "metadata": {},
   "source": [
    "#### size : size is used for to show count of numbers present in array."
   ]
  },
  {
   "cell_type": "code",
   "execution_count": 44,
   "id": "df6a2bfc",
   "metadata": {},
   "outputs": [
    {
     "data": {
      "text/plain": [
       "6"
      ]
     },
     "execution_count": 44,
     "metadata": {},
     "output_type": "execute_result"
    }
   ],
   "source": [
    "num_array.size"
   ]
  },
  {
   "cell_type": "markdown",
   "id": "eb393489",
   "metadata": {},
   "source": [
    "#### Q5. Write a code to create numpy array of 3*3 matrix containing zeros only, using a numpy array creation function.\n",
    "#### [Hint: The size of the array will be 9 and the shape will be (3,3).]"
   ]
  },
  {
   "cell_type": "markdown",
   "id": "f24afae5",
   "metadata": {},
   "source": [
    "Ans:"
   ]
  },
  {
   "cell_type": "code",
   "execution_count": 51,
   "id": "cd294cf8",
   "metadata": {},
   "outputs": [],
   "source": [
    "arr = np.array([[0,0,0],[0,0,0],[0,0,0]] , dtype = 'float')"
   ]
  },
  {
   "cell_type": "code",
   "execution_count": 52,
   "id": "afca529e",
   "metadata": {},
   "outputs": [
    {
     "data": {
      "text/plain": [
       "array([[0., 0., 0.],\n",
       "       [0., 0., 0.],\n",
       "       [0., 0., 0.]])"
      ]
     },
     "execution_count": 52,
     "metadata": {},
     "output_type": "execute_result"
    }
   ],
   "source": [
    "arr"
   ]
  },
  {
   "cell_type": "markdown",
   "id": "ba1d6e71",
   "metadata": {},
   "source": [
    "#### Q6. Create an identity matrix of shape (5,5) using numpy functions?\n",
    "#### [Hint: An identity matrix is a matrix containing 1 diagonally and other elements will be 0.]"
   ]
  },
  {
   "cell_type": "markdown",
   "id": "5649ad48",
   "metadata": {},
   "source": [
    "Ans:"
   ]
  },
  {
   "cell_type": "markdown",
   "id": "cf98cb88",
   "metadata": {},
   "source": [
    "#### This is the array"
   ]
  },
  {
   "cell_type": "code",
   "execution_count": 55,
   "id": "44ba66de",
   "metadata": {},
   "outputs": [
    {
     "data": {
      "text/plain": [
       "array([[1, 0, 0, 0, 0],\n",
       "       [0, 1, 0, 0, 0],\n",
       "       [0, 0, 1, 0, 0],\n",
       "       [0, 0, 0, 1, 0],\n",
       "       [0, 0, 0, 0, 1]])"
      ]
     },
     "execution_count": 55,
     "metadata": {},
     "output_type": "execute_result"
    }
   ],
   "source": [
    "arr = np.eye(5,5 , dtype = 'int')"
   ]
  },
  {
   "cell_type": "code",
   "execution_count": 63,
   "id": "b1761dd1",
   "metadata": {},
   "outputs": [
    {
     "data": {
      "text/plain": [
       "numpy.ndarray"
      ]
     },
     "execution_count": 63,
     "metadata": {},
     "output_type": "execute_result"
    }
   ],
   "source": [
    "type(arr)"
   ]
  },
  {
   "cell_type": "code",
   "execution_count": 60,
   "id": "d4c759f6",
   "metadata": {},
   "outputs": [
    {
     "data": {
      "text/plain": [
       "array([[1., 0., 0., 0., 0.],\n",
       "       [0., 1., 0., 0., 0.],\n",
       "       [0., 0., 1., 0., 0.],\n",
       "       [0., 0., 0., 1., 0.],\n",
       "       [0., 0., 0., 0., 1.]])"
      ]
     },
     "execution_count": 60,
     "metadata": {},
     "output_type": "execute_result"
    }
   ],
   "source": [
    "np.identity(5 , dtype = 'float')"
   ]
  },
  {
   "cell_type": "code",
   "execution_count": 64,
   "id": "e57d8fa3",
   "metadata": {},
   "outputs": [
    {
     "data": {
      "text/plain": [
       "numpy.ndarray"
      ]
     },
     "execution_count": 64,
     "metadata": {},
     "output_type": "execute_result"
    }
   ],
   "source": [
    "type(np.identity(5 , dtype = 'float'))"
   ]
  },
  {
   "cell_type": "markdown",
   "id": "e578345f",
   "metadata": {},
   "source": [
    "#### This is the matrix"
   ]
  },
  {
   "cell_type": "code",
   "execution_count": 56,
   "id": "a78d1967",
   "metadata": {},
   "outputs": [],
   "source": [
    "import numpy.matlib as nm"
   ]
  },
  {
   "cell_type": "code",
   "execution_count": 57,
   "id": "70d411e4",
   "metadata": {},
   "outputs": [
    {
     "data": {
      "text/plain": [
       "matrix([[1., 0., 0., 0., 0.],\n",
       "        [0., 1., 0., 0., 0.],\n",
       "        [0., 0., 1., 0., 0.],\n",
       "        [0., 0., 0., 1., 0.],\n",
       "        [0., 0., 0., 0., 1.]])"
      ]
     },
     "execution_count": 57,
     "metadata": {},
     "output_type": "execute_result"
    }
   ],
   "source": [
    "nm.eye(5,5)"
   ]
  },
  {
   "cell_type": "code",
   "execution_count": 62,
   "id": "bae61c81",
   "metadata": {},
   "outputs": [
    {
     "data": {
      "text/plain": [
       "numpy.matrix"
      ]
     },
     "execution_count": 62,
     "metadata": {},
     "output_type": "execute_result"
    }
   ],
   "source": [
    "type(nm.eye(5,5))"
   ]
  }
 ],
 "metadata": {
  "kernelspec": {
   "display_name": "Python 3 (ipykernel)",
   "language": "python",
   "name": "python3"
  },
  "language_info": {
   "codemirror_mode": {
    "name": "ipython",
    "version": 3
   },
   "file_extension": ".py",
   "mimetype": "text/x-python",
   "name": "python",
   "nbconvert_exporter": "python",
   "pygments_lexer": "ipython3",
   "version": "3.9.7"
  }
 },
 "nbformat": 4,
 "nbformat_minor": 5
}
