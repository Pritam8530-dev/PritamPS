{
 "cells": [
  {
   "cell_type": "markdown",
   "id": "9a5d71b8",
   "metadata": {},
   "source": [
    "Q1. You are writing code for a company. The requirement of the company is that you create a python\n",
    "function that will check whether the password entered by the user is correct or not. The function should\n",
    "take the password as input and return the string “Valid Password” if the entered password follows the\n",
    "below-given password guidelines else it should return “Invalid Password”.\n",
    "Note: 1. The Password should contain at least two uppercase letters and at least two lowercase letters.\n",
    "2. The Password should contain at least a number and three special characters.\n",
    "3. The length of the password should be 10 characters long."
   ]
  },
  {
   "cell_type": "code",
   "execution_count": 5,
   "id": "1b1786a2",
   "metadata": {},
   "outputs": [
    {
     "name": "stdout",
     "output_type": "stream",
     "text": [
      "please enter password:PWskills@#$123\n"
     ]
    },
    {
     "data": {
      "text/plain": [
       "'Valid Password'"
      ]
     },
     "execution_count": 5,
     "metadata": {},
     "output_type": "execute_result"
    }
   ],
   "source": [
    "def check_password(password):\n",
    "    \n",
    "    if password == 'PWskills@#$123':\n",
    "        \n",
    "        return 'Valid Password'\n",
    "    \n",
    "    else:\n",
    "        \n",
    "        return 'Invalid Password'\n",
    "\n",
    "password = input('please enter password:',)    \n",
    "check_password(password)"
   ]
  },
  {
   "cell_type": "markdown",
   "id": "6c0ebdeb",
   "metadata": {},
   "source": [
    "Q2. Solve the below-given questions using at least one of the following:\n",
    "1. Lambda functioJ\n",
    "2. Filter functioJ\n",
    "3. Zap functioJ\n",
    "4. List ComprehensioI\n",
    "B Check if the string starts with a particular letterY\n",
    "B Check if the string is numericY\n",
    "B Sort a list of tuples having fruit names and their quantity. [(\"mango\",99),(\"orange\",80), (\"grapes\", 1000)-\n",
    "B Find the squares of numbers from 1 to 10Y\n",
    "B Find the cube root of numbers from 1 to 10Y\n",
    "B Check if a given number is evenY\n",
    "B Filter odd numbers from the given list.\n",
    "[1,2,3,4,5,6,7,8,9,10-\n",
    "B Sort a list of integers into positive and negative integers lists.\n",
    "[1,2,3,4,5,6,-1,-2,-3,-4,-5,0]"
   ]
  },
  {
   "cell_type": "markdown",
   "id": "b112fd7d",
   "metadata": {},
   "source": [
    "1. Check if the string starts with a particular letter"
   ]
  },
  {
   "cell_type": "markdown",
   "id": "69c0757a",
   "metadata": {},
   "source": [
    "Ans:"
   ]
  },
  {
   "cell_type": "code",
   "execution_count": 116,
   "id": "3617ba8c",
   "metadata": {},
   "outputs": [
    {
     "name": "stdout",
     "output_type": "stream",
     "text": [
      "True\n"
     ]
    }
   ],
   "source": [
    "s = 'Pwskills Data Science'\n",
    "\n",
    "#char ='P'\n",
    "\n",
    "x = (lambda s : s.startswith ('P',0,8))\n",
    "\n",
    "print(x(s))"
   ]
  },
  {
   "cell_type": "markdown",
   "id": "133f2641",
   "metadata": {},
   "source": [
    "2. Check if the string is numeric"
   ]
  },
  {
   "cell_type": "markdown",
   "id": "632943ba",
   "metadata": {},
   "source": [
    "Ans:"
   ]
  },
  {
   "cell_type": "code",
   "execution_count": 143,
   "id": "6e4fc9b2",
   "metadata": {},
   "outputs": [],
   "source": [
    "s1 ='1234'\n",
    "\n",
    "a = (lambda s1 : s1.isdigit())"
   ]
  },
  {
   "cell_type": "code",
   "execution_count": 144,
   "id": "88c89d2a",
   "metadata": {},
   "outputs": [
    {
     "data": {
      "text/plain": [
       "True"
      ]
     },
     "execution_count": 144,
     "metadata": {},
     "output_type": "execute_result"
    }
   ],
   "source": [
    "a(s1)"
   ]
  },
  {
   "cell_type": "code",
   "execution_count": 145,
   "id": "d45f2959",
   "metadata": {},
   "outputs": [],
   "source": [
    "s2 ='1235'\n",
    "\n",
    "b = (lambda s2 : s2.isnumeric())"
   ]
  },
  {
   "cell_type": "code",
   "execution_count": 146,
   "id": "0c0300b1",
   "metadata": {},
   "outputs": [
    {
     "data": {
      "text/plain": [
       "True"
      ]
     },
     "execution_count": 146,
     "metadata": {},
     "output_type": "execute_result"
    }
   ],
   "source": [
    "b(s2)"
   ]
  },
  {
   "cell_type": "markdown",
   "id": "426ffbba",
   "metadata": {},
   "source": [
    "3.Sort a list of tuples having fruit names and their quantity. [(\"mango\",99),(\"orange\",80), (\"grapes\", 1000)"
   ]
  },
  {
   "cell_type": "code",
   "execution_count": 2,
   "id": "665a1cd2",
   "metadata": {},
   "outputs": [],
   "source": [
    "l =  [(\"mango\",99),(\"orange\",80), (\"grapes\", 1000)]"
   ]
  },
  {
   "cell_type": "code",
   "execution_count": 4,
   "id": "2eccd259",
   "metadata": {},
   "outputs": [],
   "source": [
    "a = sorted(l , reverse = True)"
   ]
  },
  {
   "cell_type": "code",
   "execution_count": 5,
   "id": "eeb1234f",
   "metadata": {},
   "outputs": [
    {
     "name": "stdout",
     "output_type": "stream",
     "text": [
      "[('orange', 80), ('mango', 99), ('grapes', 1000)]\n"
     ]
    }
   ],
   "source": [
    "print(a)"
   ]
  },
  {
   "cell_type": "markdown",
   "id": "f9112ffc",
   "metadata": {},
   "source": [
    "4.Find the squares of numbers from 1 to 10"
   ]
  },
  {
   "cell_type": "code",
   "execution_count": 16,
   "id": "9e443740",
   "metadata": {},
   "outputs": [],
   "source": [
    "z = range(1,11)"
   ]
  },
  {
   "cell_type": "code",
   "execution_count": 17,
   "id": "0419a753",
   "metadata": {},
   "outputs": [],
   "source": [
    "square_list = list(map(lambda q : q * q , z))"
   ]
  },
  {
   "cell_type": "code",
   "execution_count": 18,
   "id": "a5f12bb5",
   "metadata": {},
   "outputs": [
    {
     "name": "stdout",
     "output_type": "stream",
     "text": [
      "[1, 4, 9, 16, 25, 36, 49, 64, 81, 100]\n"
     ]
    }
   ],
   "source": [
    "print(square_list)"
   ]
  },
  {
   "cell_type": "markdown",
   "id": "4a6eff2d",
   "metadata": {},
   "source": [
    "5.Find the cube root of numbers from 1 to 10"
   ]
  },
  {
   "cell_type": "code",
   "execution_count": 20,
   "id": "4213776e",
   "metadata": {},
   "outputs": [],
   "source": [
    "cube_list = list(map(lambda q :q ** 3 , z))"
   ]
  },
  {
   "cell_type": "code",
   "execution_count": 21,
   "id": "914399e0",
   "metadata": {},
   "outputs": [
    {
     "data": {
      "text/plain": [
       "[1, 8, 27, 64, 125, 216, 343, 512, 729, 1000]"
      ]
     },
     "execution_count": 21,
     "metadata": {},
     "output_type": "execute_result"
    }
   ],
   "source": [
    "cube_list"
   ]
  },
  {
   "cell_type": "markdown",
   "id": "8587e569",
   "metadata": {},
   "source": [
    "6.Check if a given number is even"
   ]
  },
  {
   "cell_type": "code",
   "execution_count": 40,
   "id": "538a83d4",
   "metadata": {},
   "outputs": [],
   "source": [
    "j = (lambda x : x%2==0)"
   ]
  },
  {
   "cell_type": "code",
   "execution_count": 41,
   "id": "0ea17e9c",
   "metadata": {},
   "outputs": [
    {
     "name": "stdout",
     "output_type": "stream",
     "text": [
      "Enter the number:2\n"
     ]
    }
   ],
   "source": [
    "x = int(input('Enter the number:',))"
   ]
  },
  {
   "cell_type": "code",
   "execution_count": 42,
   "id": "04a01508",
   "metadata": {},
   "outputs": [
    {
     "name": "stdout",
     "output_type": "stream",
     "text": [
      "True\n"
     ]
    }
   ],
   "source": [
    "print(j(x))"
   ]
  },
  {
   "cell_type": "markdown",
   "id": "bb9d0665",
   "metadata": {},
   "source": [
    "7.Filter odd numbers from the given list.\n",
    "[1,2,3,4,5,6,7,8,9,10]"
   ]
  },
  {
   "cell_type": "code",
   "execution_count": 43,
   "id": "70875b0e",
   "metadata": {},
   "outputs": [],
   "source": [
    "l = [1,2,3,4,5,6,7,8,9,10]"
   ]
  },
  {
   "cell_type": "code",
   "execution_count": 47,
   "id": "096b2303",
   "metadata": {},
   "outputs": [],
   "source": [
    "odd_numbers =list(filter(lambda x : x%2 != 0 , l))"
   ]
  },
  {
   "cell_type": "code",
   "execution_count": 48,
   "id": "cc042b92",
   "metadata": {},
   "outputs": [
    {
     "name": "stdout",
     "output_type": "stream",
     "text": [
      "[1, 3, 5, 7, 9]\n"
     ]
    }
   ],
   "source": [
    "print(odd_numbers)"
   ]
  },
  {
   "cell_type": "markdown",
   "id": "25c5144e",
   "metadata": {},
   "source": [
    "8.Sort a list of integers into positive and negative integers lists.\n",
    "[1,2,3,4,5,6,-1,-2,-3,-4,-5,0]"
   ]
  },
  {
   "cell_type": "code",
   "execution_count": 49,
   "id": "64eafccf",
   "metadata": {},
   "outputs": [],
   "source": [
    "l = [1,2,3,4,5,6,-1,-2,-3,-4,-5,0]"
   ]
  },
  {
   "cell_type": "code",
   "execution_count": 59,
   "id": "7481eeff",
   "metadata": {},
   "outputs": [],
   "source": [
    "positive_list = list(filter(lambda x : x>0  , l))"
   ]
  },
  {
   "cell_type": "code",
   "execution_count": 60,
   "id": "09364072",
   "metadata": {},
   "outputs": [
    {
     "data": {
      "text/plain": [
       "[1, 2, 3, 4, 5, 6]"
      ]
     },
     "execution_count": 60,
     "metadata": {},
     "output_type": "execute_result"
    }
   ],
   "source": [
    "positive_list"
   ]
  },
  {
   "cell_type": "code",
   "execution_count": 63,
   "id": "0aefef70",
   "metadata": {},
   "outputs": [],
   "source": [
    "negative_list = list(filter(lambda x : x < 0 , l))"
   ]
  },
  {
   "cell_type": "code",
   "execution_count": 64,
   "id": "c195daa4",
   "metadata": {},
   "outputs": [
    {
     "data": {
      "text/plain": [
       "[-1, -2, -3, -4, -5]"
      ]
     },
     "execution_count": 64,
     "metadata": {},
     "output_type": "execute_result"
    }
   ],
   "source": [
    "negative_list"
   ]
  }
 ],
 "metadata": {
  "kernelspec": {
   "display_name": "Python 3 (ipykernel)",
   "language": "python",
   "name": "python3"
  },
  "language_info": {
   "codemirror_mode": {
    "name": "ipython",
    "version": 3
   },
   "file_extension": ".py",
   "mimetype": "text/x-python",
   "name": "python",
   "nbconvert_exporter": "python",
   "pygments_lexer": "ipython3",
   "version": "3.9.7"
  }
 },
 "nbformat": 4,
 "nbformat_minor": 5
}
