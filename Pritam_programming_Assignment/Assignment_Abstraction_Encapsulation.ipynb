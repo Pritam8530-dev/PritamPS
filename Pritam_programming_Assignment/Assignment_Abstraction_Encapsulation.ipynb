{
 "cells": [
  {
   "cell_type": "markdown",
   "id": "6f60b816",
   "metadata": {},
   "source": [
    "Q1. What is Abstraction in OOps? Explain with an example."
   ]
  },
  {
   "cell_type": "markdown",
   "id": "49a30a76",
   "metadata": {},
   "source": [
    "Ans:"
   ]
  },
  {
   "cell_type": "markdown",
   "id": "2cd6a521",
   "metadata": {},
   "source": [
    "Abstraction :\n",
    "    \n",
    "    \n",
    "    1.Abstraction is one of pillar of oops in python.\n",
    "    \n",
    "    2.Abstraction is hiding internal functionality of function from the user.\n",
    "    \n",
    "    3.Abstraction is hide details and hide complex code.\n",
    "    \n",
    "    4.Abstraction contains abstraction class.\n",
    "    \n",
    "    5.abstraction class contains one or more abstract method.\n",
    "    \n",
    "    6.abstraction method is the just decleration of method and its implementation of this method is into its child class.\n",
    "    \n",
    "    7.Before the abstract method abstractmethoddecorator need to declare.\n",
    "    \n",
    "    8.abstraction is achieved by using abstraction classes and interfaces.\n",
    "    \n",
    "    7.abstraction is hide irrelevant data and complexity of code.\n",
    "    \n",
    "    8.from abc module import ABC class (abstraction base classes)"
   ]
  },
  {
   "cell_type": "code",
   "execution_count": 4,
   "id": "942e05cc",
   "metadata": {},
   "outputs": [],
   "source": [
    "from abc import ABC,abstractmethod"
   ]
  },
  {
   "cell_type": "code",
   "execution_count": 5,
   "id": "50bd2ef7",
   "metadata": {},
   "outputs": [],
   "source": [
    "class car(ABC):\n",
    "    \n",
    "    @abstractmethod\n",
    "    \n",
    "    def mileage(self):\n",
    "        \n",
    "        pass\n",
    "    \n",
    "    "
   ]
  },
  {
   "cell_type": "code",
   "execution_count": 6,
   "id": "b9964c33",
   "metadata": {},
   "outputs": [],
   "source": [
    "class innova(car):\n",
    "    \n",
    "    def mileage(self):\n",
    "        \n",
    "        return 'Mileage is 120 kmph'\n",
    "    "
   ]
  },
  {
   "cell_type": "code",
   "execution_count": 7,
   "id": "31f78771",
   "metadata": {},
   "outputs": [],
   "source": [
    "class duster(car):\n",
    "    \n",
    "    def mileage(self):\n",
    "        \n",
    "        return 'mileage is 130 kmph'"
   ]
  },
  {
   "cell_type": "code",
   "execution_count": 8,
   "id": "1be4637a",
   "metadata": {},
   "outputs": [],
   "source": [
    "class fortuner(car):\n",
    "    \n",
    "    def mileage(self):\n",
    "        \n",
    "        return 'mileage is 135 kmph'"
   ]
  },
  {
   "cell_type": "code",
   "execution_count": 9,
   "id": "97981aba",
   "metadata": {},
   "outputs": [],
   "source": [
    "class ford(car):\n",
    "    \n",
    "    def mileage(self):\n",
    "        \n",
    "        return 'mileage is 150 kmph'"
   ]
  },
  {
   "cell_type": "code",
   "execution_count": 11,
   "id": "3462021d",
   "metadata": {},
   "outputs": [
    {
     "data": {
      "text/plain": [
       "'mileage is 150 kmph'"
      ]
     },
     "execution_count": 11,
     "metadata": {},
     "output_type": "execute_result"
    }
   ],
   "source": [
    "f = ford()\n",
    "f.mileage()"
   ]
  },
  {
   "cell_type": "code",
   "execution_count": 12,
   "id": "5551851b",
   "metadata": {},
   "outputs": [
    {
     "data": {
      "text/plain": [
       "'mileage is 135 kmph'"
      ]
     },
     "execution_count": 12,
     "metadata": {},
     "output_type": "execute_result"
    }
   ],
   "source": [
    "fr = fortuner()\n",
    "fr.mileage()"
   ]
  },
  {
   "cell_type": "code",
   "execution_count": 14,
   "id": "0423ead3",
   "metadata": {},
   "outputs": [
    {
     "data": {
      "text/plain": [
       "'mileage is 130 kmph'"
      ]
     },
     "execution_count": 14,
     "metadata": {},
     "output_type": "execute_result"
    }
   ],
   "source": [
    "d = duster()\n",
    "d.mileage()"
   ]
  },
  {
   "cell_type": "code",
   "execution_count": 15,
   "id": "6ba1b05f",
   "metadata": {},
   "outputs": [
    {
     "data": {
      "text/plain": [
       "'Mileage is 120 kmph'"
      ]
     },
     "execution_count": 15,
     "metadata": {},
     "output_type": "execute_result"
    }
   ],
   "source": [
    "i = innova()\n",
    "i.mileage()"
   ]
  },
  {
   "cell_type": "markdown",
   "id": "1bb054c0",
   "metadata": {},
   "source": [
    "Q2. Differentiate between Abstraction and Encapsulation. Explain with an example."
   ]
  },
  {
   "cell_type": "markdown",
   "id": "1787daf5",
   "metadata": {},
   "source": [
    "Abstraction :\n",
    "    \n",
    "    Abtstraction is used for hiding details and complex code from user.\n",
    "    \n",
    "    Abstraction is hiding the functionality of function from user i.e it just hiding implementaion.\n",
    "    \n",
    "    Abstraction is achieved by abstraction class and interface."
   ]
  },
  {
   "cell_type": "code",
   "execution_count": 20,
   "id": "6a9f5cb0",
   "metadata": {},
   "outputs": [],
   "source": [
    "from abc import ABC , abstractmethod\n",
    "\n",
    "class car(ABC):\n",
    "    \n",
    "    @abstractmethod\n",
    "    def price(self):\n",
    "        \n",
    "        pass"
   ]
  },
  {
   "cell_type": "code",
   "execution_count": 21,
   "id": "ff2fab87",
   "metadata": {},
   "outputs": [],
   "source": [
    "class innova(car):\n",
    "    \n",
    "    def price(self):\n",
    "        \n",
    "        return 'price is 16 lakhs'"
   ]
  },
  {
   "cell_type": "code",
   "execution_count": 22,
   "id": "1f4d46e7",
   "metadata": {},
   "outputs": [],
   "source": [
    "class duster(car):\n",
    "    \n",
    "    def price(self):\n",
    "        \n",
    "        return 'price is 25 lakhs'"
   ]
  },
  {
   "cell_type": "code",
   "execution_count": 23,
   "id": "4319d381",
   "metadata": {},
   "outputs": [],
   "source": [
    "class fortuner(car):\n",
    "    \n",
    "    def price(self):\n",
    "        \n",
    "        \n",
    "        return 'price is 45 lakhs'"
   ]
  },
  {
   "cell_type": "code",
   "execution_count": 24,
   "id": "dce03246",
   "metadata": {},
   "outputs": [],
   "source": [
    "class ford(car):\n",
    "    \n",
    "    def price(self):\n",
    "        \n",
    "        return 'price is 55 lakhs'"
   ]
  },
  {
   "cell_type": "code",
   "execution_count": 25,
   "id": "fa1222bc",
   "metadata": {},
   "outputs": [
    {
     "data": {
      "text/plain": [
       "'price is 55 lakhs'"
      ]
     },
     "execution_count": 25,
     "metadata": {},
     "output_type": "execute_result"
    }
   ],
   "source": [
    "f = ford()\n",
    "f.price()"
   ]
  },
  {
   "cell_type": "code",
   "execution_count": 26,
   "id": "57139ece",
   "metadata": {},
   "outputs": [
    {
     "data": {
      "text/plain": [
       "'price is 45 lakhs'"
      ]
     },
     "execution_count": 26,
     "metadata": {},
     "output_type": "execute_result"
    }
   ],
   "source": [
    "fr = fortuner()\n",
    "fr.price()"
   ]
  },
  {
   "cell_type": "code",
   "execution_count": 27,
   "id": "05829752",
   "metadata": {},
   "outputs": [
    {
     "data": {
      "text/plain": [
       "'price is 25 lakhs'"
      ]
     },
     "execution_count": 27,
     "metadata": {},
     "output_type": "execute_result"
    }
   ],
   "source": [
    "d = duster()\n",
    "d.price()"
   ]
  },
  {
   "cell_type": "code",
   "execution_count": 28,
   "id": "fbee097b",
   "metadata": {},
   "outputs": [
    {
     "data": {
      "text/plain": [
       "'price is 16 lakhs'"
      ]
     },
     "execution_count": 28,
     "metadata": {},
     "output_type": "execute_result"
    }
   ],
   "source": [
    "i = innova()\n",
    "i.price()"
   ]
  },
  {
   "cell_type": "markdown",
   "id": "626ff871",
   "metadata": {},
   "source": [
    "Encapsulation:\n",
    "    \n",
    "    Encapsulation is used for hiding data and control visibility of code.\n",
    "    \n",
    "    It is used for data security and it can not be access from outside the class.\n",
    "    \n",
    "    Its might be private and protected.\n",
    "    \n",
    "    Encapsulation is binding data and code together.\n",
    "    "
   ]
  },
  {
   "cell_type": "code",
   "execution_count": 41,
   "id": "43821729",
   "metadata": {},
   "outputs": [],
   "source": [
    "class bank:\n",
    "    \n",
    "    def __init__(self , IFSC_code , Account_number , password , balance):\n",
    "        \n",
    "        self.IFSC_code = IFSC_code\n",
    "        \n",
    "        self.__Account_number = Account_number\n",
    "        \n",
    "        self.__password = password\n",
    "        \n",
    "        self.__balance = balance\n",
    "        \n",
    "        \n",
    "        \n",
    "    def bank_details(self):\n",
    "        \n",
    "        print('Bank IFSC code is :' ,self.IFSC_code)\n",
    "        \n",
    "    def user_details(self):\n",
    "        \n",
    "        print('User account number is :',self.__Account_number)\n",
    "        \n",
    "        print('User passowrd is :',self.__password)\n",
    "        \n",
    "    def check_balance(self):\n",
    "        \n",
    "        return self.__balance"
   ]
  },
  {
   "cell_type": "code",
   "execution_count": 42,
   "id": "e7371345",
   "metadata": {},
   "outputs": [],
   "source": [
    "b = bank(1111,1212,'!@#$',12345)"
   ]
  },
  {
   "cell_type": "code",
   "execution_count": 43,
   "id": "a33c76ec",
   "metadata": {},
   "outputs": [
    {
     "name": "stdout",
     "output_type": "stream",
     "text": [
      "User account number is : 1212\n",
      "User passowrd is : !@#$\n"
     ]
    }
   ],
   "source": [
    "b.user_details()"
   ]
  },
  {
   "cell_type": "code",
   "execution_count": 44,
   "id": "08de2896",
   "metadata": {},
   "outputs": [
    {
     "data": {
      "text/plain": [
       "12345"
      ]
     },
     "execution_count": 44,
     "metadata": {},
     "output_type": "execute_result"
    }
   ],
   "source": [
    "b.check_balance()"
   ]
  },
  {
   "cell_type": "code",
   "execution_count": 45,
   "id": "e1aa632f",
   "metadata": {},
   "outputs": [
    {
     "name": "stdout",
     "output_type": "stream",
     "text": [
      "Bank IFSC code is : 1111\n"
     ]
    }
   ],
   "source": [
    "b.bank_details()"
   ]
  },
  {
   "cell_type": "markdown",
   "id": "c6f9f726",
   "metadata": {},
   "source": [
    "## Encapsulation object."
   ]
  },
  {
   "cell_type": "markdown",
   "id": "10dede7a",
   "metadata": {},
   "source": [
    "It shows IFSC code because it is public."
   ]
  },
  {
   "cell_type": "code",
   "execution_count": 47,
   "id": "e6cdf62d",
   "metadata": {},
   "outputs": [
    {
     "data": {
      "text/plain": [
       "1111"
      ]
     },
     "execution_count": 47,
     "metadata": {},
     "output_type": "execute_result"
    }
   ],
   "source": [
    "b.IFSC_code"
   ]
  },
  {
   "cell_type": "markdown",
   "id": "4efcb628",
   "metadata": {},
   "source": [
    "It shows bank class has not account number object. In program there is account number object but This object is make it private so it is not access or visibility from outside the class.It is data hiding.so we can access private by class name starts with single underscore."
   ]
  },
  {
   "cell_type": "code",
   "execution_count": 55,
   "id": "a7a59a79",
   "metadata": {},
   "outputs": [
    {
     "ename": "AttributeError",
     "evalue": "'bank' object has no attribute '__Account_number'",
     "output_type": "error",
     "traceback": [
      "\u001b[1;31m---------------------------------------------------------------------------\u001b[0m",
      "\u001b[1;31mAttributeError\u001b[0m                            Traceback (most recent call last)",
      "\u001b[1;32m~\\AppData\\Local\\Temp/ipykernel_11144/2730423490.py\u001b[0m in \u001b[0;36m<module>\u001b[1;34m\u001b[0m\n\u001b[1;32m----> 1\u001b[1;33m \u001b[0mb\u001b[0m\u001b[1;33m.\u001b[0m\u001b[0m__Account_number\u001b[0m\u001b[1;33m\u001b[0m\u001b[1;33m\u001b[0m\u001b[0m\n\u001b[0m",
      "\u001b[1;31mAttributeError\u001b[0m: 'bank' object has no attribute '__Account_number'"
     ]
    }
   ],
   "source": [
    "b.__Account_number"
   ]
  },
  {
   "cell_type": "markdown",
   "id": "3f9c882f",
   "metadata": {},
   "source": [
    "It is not show publicaly or out of class because at the time decleration we made it as private so we can not acces it directly from outside the class. we can access by using class"
   ]
  },
  {
   "cell_type": "code",
   "execution_count": 51,
   "id": "9c58b9b8",
   "metadata": {},
   "outputs": [
    {
     "data": {
      "text/plain": [
       "1212"
      ]
     },
     "execution_count": 51,
     "metadata": {},
     "output_type": "execute_result"
    }
   ],
   "source": [
    "b._bank__Account_number"
   ]
  },
  {
   "cell_type": "code",
   "execution_count": 52,
   "id": "e1d09c9d",
   "metadata": {},
   "outputs": [
    {
     "data": {
      "text/plain": [
       "'!@#$'"
      ]
     },
     "execution_count": 52,
     "metadata": {},
     "output_type": "execute_result"
    }
   ],
   "source": [
    "b._bank__password"
   ]
  },
  {
   "cell_type": "code",
   "execution_count": 54,
   "id": "62a965f4",
   "metadata": {},
   "outputs": [
    {
     "data": {
      "text/plain": [
       "12345"
      ]
     },
     "execution_count": 54,
     "metadata": {},
     "output_type": "execute_result"
    }
   ],
   "source": [
    "b._bank__balance"
   ]
  },
  {
   "cell_type": "markdown",
   "id": "bb362d8d",
   "metadata": {},
   "source": [
    "Q3. What is abc module in python? Why is it used?"
   ]
  },
  {
   "cell_type": "markdown",
   "id": "4d6614b0",
   "metadata": {},
   "source": [
    "Ans :\n",
    "    abc is the library in python. where we import ABC class(Abstract base class).\n",
    "    \n",
    "    It provides infrastructure for defining ABC class.\n",
    "    \n",
    "    ABC class contains one or more abstractmethod.\n",
    "    \n",
    "    Before declearation of abstractmethod we need to defined abstractmethod decorator.\n",
    "    \n",
    "    Abstractmethod is declare in parent class and its implementation is in its child class.\n",
    "    \n",
    "    Abstract base classes provide define interfaces."
   ]
  },
  {
   "cell_type": "code",
   "execution_count": 57,
   "id": "43049e7f",
   "metadata": {},
   "outputs": [],
   "source": [
    "from abc import ABC , abstractmethod   # Import statments for ABC class\n",
    "\n",
    "class Teacher(ABC):\n",
    "    \n",
    "    @abstractmethod        # decorator\n",
    "    \n",
    "    def subject(self):    # abstractmethod declearation\n",
    "        \n",
    "        pass          "
   ]
  },
  {
   "cell_type": "code",
   "execution_count": 58,
   "id": "998a388b",
   "metadata": {},
   "outputs": [],
   "source": [
    "class Student(Teacher):     #child class where parent class is inherited.\n",
    "    \n",
    "    def subject(self):\n",
    "        \n",
    "        return 'all subjects'        # implementation of abstract method in its child class"
   ]
  },
  {
   "cell_type": "code",
   "execution_count": 59,
   "id": "9e782f29",
   "metadata": {},
   "outputs": [],
   "source": [
    "s = Student()"
   ]
  },
  {
   "cell_type": "code",
   "execution_count": 60,
   "id": "2f602252",
   "metadata": {},
   "outputs": [
    {
     "data": {
      "text/plain": [
       "'all subjects'"
      ]
     },
     "execution_count": 60,
     "metadata": {},
     "output_type": "execute_result"
    }
   ],
   "source": [
    "s.subject()"
   ]
  },
  {
   "cell_type": "markdown",
   "id": "3e9f3c79",
   "metadata": {},
   "source": [
    "Q4. How can we achieve data abstraction?"
   ]
  },
  {
   "cell_type": "markdown",
   "id": "e763c1c3",
   "metadata": {},
   "source": [
    "Ans:\n",
    "    \n",
    "    Data Abstraction is achieved by creating abstract class and then inherit them.\n",
    "    \n",
    "    Abstraction is the hide the deails or hide the internal functionality from user.\n",
    "    \n",
    "    eg : we use TV remote to operate TV. if we want increase volume then we simply press + button for to increase volume.\n",
    "        \n",
    "        we dont know behind the scene or internally how it is working . How TV capturing signals from TV \n",
    "        \n",
    "        and how it is volume increaes.\n",
    "        \n",
    "        just like that abstraction is .It hide the internal functionality and implementation.\n",
    "    \n",
    "    Hide complex code or hide the implementation.\n",
    "    \n",
    "    Here it can be achiecved by using abstract class.\n",
    "    \n",
    "    It is import from ABC module.\n",
    "    \n",
    "    It is provide infrastructure for define ABC class."
   ]
  },
  {
   "cell_type": "code",
   "execution_count": 61,
   "id": "3104dbfd",
   "metadata": {},
   "outputs": [],
   "source": [
    "from abc import ABC , abstractmethod\n",
    "\n",
    "class car(ABC):\n",
    "    \n",
    "    @abstractmethod\n",
    "    def price(self):\n",
    "        \n",
    "        pass"
   ]
  },
  {
   "cell_type": "code",
   "execution_count": 62,
   "id": "41170330",
   "metadata": {},
   "outputs": [],
   "source": [
    "class innova(car):\n",
    "    \n",
    "    def price(self):\n",
    "        \n",
    "        return 'price is 16 lakhs'"
   ]
  },
  {
   "cell_type": "code",
   "execution_count": 63,
   "id": "2c4f3442",
   "metadata": {},
   "outputs": [],
   "source": [
    "class duster(car):\n",
    "    \n",
    "    def price(self):\n",
    "        \n",
    "        return 'price is 25 lakhs'"
   ]
  },
  {
   "cell_type": "code",
   "execution_count": 64,
   "id": "64bee0f0",
   "metadata": {},
   "outputs": [],
   "source": [
    "class fortuner(car):\n",
    "    \n",
    "    def price(self):\n",
    "        \n",
    "        \n",
    "        return 'price is 45 lakhs'"
   ]
  },
  {
   "cell_type": "code",
   "execution_count": 65,
   "id": "33023dc8",
   "metadata": {},
   "outputs": [],
   "source": [
    "class ford(car):\n",
    "    \n",
    "    def price(self):\n",
    "        \n",
    "        return 'price is 55 lakhs'"
   ]
  },
  {
   "cell_type": "code",
   "execution_count": 66,
   "id": "704d8964",
   "metadata": {},
   "outputs": [
    {
     "data": {
      "text/plain": [
       "'price is 55 lakhs'"
      ]
     },
     "execution_count": 66,
     "metadata": {},
     "output_type": "execute_result"
    }
   ],
   "source": [
    "f = ford()\n",
    "f.price()"
   ]
  },
  {
   "cell_type": "code",
   "execution_count": 67,
   "id": "5c0a17a1",
   "metadata": {},
   "outputs": [
    {
     "data": {
      "text/plain": [
       "'price is 45 lakhs'"
      ]
     },
     "execution_count": 67,
     "metadata": {},
     "output_type": "execute_result"
    }
   ],
   "source": [
    "fr = fortuner()\n",
    "fr.price()"
   ]
  },
  {
   "cell_type": "code",
   "execution_count": 69,
   "id": "fcaea8b9",
   "metadata": {},
   "outputs": [
    {
     "data": {
      "text/plain": [
       "'price is 25 lakhs'"
      ]
     },
     "execution_count": 69,
     "metadata": {},
     "output_type": "execute_result"
    }
   ],
   "source": [
    "d = duster()\n",
    "d.price()"
   ]
  },
  {
   "cell_type": "code",
   "execution_count": 70,
   "id": "ce0c8ef1",
   "metadata": {},
   "outputs": [
    {
     "data": {
      "text/plain": [
       "'price is 16 lakhs'"
      ]
     },
     "execution_count": 70,
     "metadata": {},
     "output_type": "execute_result"
    }
   ],
   "source": [
    "i = innova()\n",
    "i.price()"
   ]
  },
  {
   "cell_type": "markdown",
   "id": "4644ff5e",
   "metadata": {},
   "source": [
    "Q5. Can we create an instance of an abstract class? Explain your answer."
   ]
  },
  {
   "cell_type": "markdown",
   "id": "79e51c64",
   "metadata": {},
   "source": [
    "Ans :\n",
    "    \n",
    "    Abstract class is can not instantiate. but they can be subclass.\n",
    "    \n",
    "    where abstract class having subclass.\n",
    "    \n",
    "    subclass having implementations of abstract methods.\n",
    "    \n",
    "    If it is not subclass muste be declared astract."
   ]
  }
 ],
 "metadata": {
  "kernelspec": {
   "display_name": "Python 3 (ipykernel)",
   "language": "python",
   "name": "python3"
  },
  "language_info": {
   "codemirror_mode": {
    "name": "ipython",
    "version": 3
   },
   "file_extension": ".py",
   "mimetype": "text/x-python",
   "name": "python",
   "nbconvert_exporter": "python",
   "pygments_lexer": "ipython3",
   "version": "3.9.7"
  }
 },
 "nbformat": 4,
 "nbformat_minor": 5
}
