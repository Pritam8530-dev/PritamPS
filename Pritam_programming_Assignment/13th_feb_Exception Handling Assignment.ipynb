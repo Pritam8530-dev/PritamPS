{
 "cells": [
  {
   "cell_type": "markdown",
   "id": "e3e07edf",
   "metadata": {},
   "source": [
    "Q1. Explain why we have to use the Exception class while creating a Custom Exception."
   ]
  },
  {
   "cell_type": "markdown",
   "id": "1e18e0f3",
   "metadata": {},
   "source": [
    "Ans:"
   ]
  },
  {
   "cell_type": "markdown",
   "id": "42180729",
   "metadata": {},
   "source": [
    "Python provide built in exception class that contains many subclass.\n",
    "\n",
    "when your code something get wrong then it output an error.\n",
    "\n",
    "That error is used for to handle exceptions using try except block.\n",
    "\n",
    "There are many errors are not in built in exception class.\n",
    "\n",
    "so we need to create Exception class for handeling that errors."
   ]
  },
  {
   "cell_type": "markdown",
   "id": "bdf05277",
   "metadata": {},
   "source": [
    "Q2. Write a python program to print Python Exception Hierarchy."
   ]
  },
  {
   "cell_type": "markdown",
   "id": "19818832",
   "metadata": {},
   "source": [
    "Ans:"
   ]
  },
  {
   "cell_type": "code",
   "execution_count": 19,
   "id": "bf10c5d7",
   "metadata": {},
   "outputs": [
    {
     "name": "stdout",
     "output_type": "stream",
     "text": [
      "This is the hierarachy: \n",
      " BaseException\n",
      "***** Exception\n",
      "********** TypeError\n",
      "*************** MultipartConversionError\n",
      "*************** FloatOperation\n",
      "********** StopAsyncIteration\n",
      "********** StopIteration\n",
      "********** ImportError\n",
      "*************** ModuleNotFoundError\n",
      "*************** ZipImportError\n",
      "********** OSError\n",
      "*************** ConnectionError\n",
      "******************** BrokenPipeError\n",
      "******************** ConnectionAbortedError\n",
      "******************** ConnectionRefusedError\n",
      "******************** ConnectionResetError\n",
      "************************* RemoteDisconnected\n",
      "*************** BlockingIOError\n",
      "*************** ChildProcessError\n",
      "*************** FileExistsError\n",
      "*************** FileNotFoundError\n",
      "*************** IsADirectoryError\n",
      "*************** NotADirectoryError\n",
      "*************** InterruptedError\n",
      "******************** InterruptedSystemCall\n",
      "*************** PermissionError\n",
      "*************** ProcessLookupError\n",
      "*************** TimeoutError\n",
      "*************** UnsupportedOperation\n",
      "*************** herror\n",
      "*************** gaierror\n",
      "*************** timeout\n",
      "*************** Error\n",
      "******************** SameFileError\n",
      "*************** SpecialFileError\n",
      "*************** ExecError\n",
      "*************** ReadError\n",
      "*************** SSLError\n",
      "******************** SSLCertVerificationError\n",
      "******************** SSLZeroReturnError\n",
      "******************** SSLWantReadError\n",
      "******************** SSLWantWriteError\n",
      "******************** SSLSyscallError\n",
      "******************** SSLEOFError\n",
      "*************** URLError\n",
      "******************** HTTPError\n",
      "******************** ContentTooShortError\n",
      "*************** BadGzipFile\n",
      "********** EOFError\n",
      "*************** IncompleteReadError\n",
      "********** RuntimeError\n",
      "*************** RecursionError\n",
      "*************** NotImplementedError\n",
      "******************** ZMQVersionError\n",
      "******************** StdinNotImplementedError\n",
      "*************** _DeadlockError\n",
      "*************** BrokenBarrierError\n",
      "*************** BrokenExecutor\n",
      "*************** SendfileNotAvailableError\n",
      "*************** ExtractionError\n",
      "*************** VariableError\n",
      "********** NameError\n",
      "*************** UnboundLocalError\n",
      "********** AttributeError\n",
      "*************** FrozenInstanceError\n",
      "********** SyntaxError\n",
      "*************** IndentationError\n",
      "******************** TabError\n",
      "********** LookupError\n",
      "*************** IndexError\n",
      "*************** KeyError\n",
      "******************** NoSuchKernel\n",
      "******************** UnknownBackend\n",
      "*************** CodecRegistryError\n",
      "********** ValueError\n",
      "*************** UnicodeError\n",
      "******************** UnicodeEncodeError\n",
      "******************** UnicodeDecodeError\n",
      "******************** UnicodeTranslateError\n",
      "*************** UnsupportedOperation\n",
      "*************** JSONDecodeError\n",
      "*************** SSLCertVerificationError\n",
      "*************** Error\n",
      "*************** ClassNotFound\n",
      "*************** ClipboardEmpty\n",
      "*************** MessageDefect\n",
      "******************** NoBoundaryInMultipartDefect\n",
      "******************** StartBoundaryNotFoundDefect\n",
      "******************** CloseBoundaryNotFoundDefect\n",
      "******************** FirstHeaderLineIsContinuationDefect\n",
      "******************** MisplacedEnvelopeHeaderDefect\n",
      "******************** MissingHeaderBodySeparatorDefect\n",
      "******************** MultipartInvariantViolationDefect\n",
      "******************** InvalidMultipartContentTransferEncodingDefect\n",
      "******************** UndecodableBytesDefect\n",
      "******************** InvalidBase64PaddingDefect\n",
      "******************** InvalidBase64CharactersDefect\n",
      "******************** InvalidBase64LengthDefect\n",
      "******************** HeaderDefect\n",
      "************************* InvalidHeaderDefect\n",
      "************************* HeaderMissingRequiredValue\n",
      "************************* NonPrintableDefect\n",
      "************************* ObsoleteHeaderDefect\n",
      "************************* NonASCIILocalPartDefect\n",
      "*************** IllegalMonthError\n",
      "*************** IllegalWeekdayError\n",
      "*************** MacroToEdit\n",
      "*************** ParserError\n",
      "*************** InvalidFileException\n",
      "*************** InvalidVersion\n",
      "*************** InvalidSpecifier\n",
      "*************** InvalidMarker\n",
      "*************** UndefinedComparison\n",
      "*************** UndefinedEnvironmentName\n",
      "*************** InvalidRequirement\n",
      "******************** RequirementParseError\n",
      "********** AssertionError\n",
      "********** ArithmeticError\n",
      "*************** FloatingPointError\n",
      "*************** OverflowError\n",
      "*************** ZeroDivisionError\n",
      "******************** DivisionByZero\n",
      "******************** DivisionUndefined\n",
      "*************** DecimalException\n",
      "******************** Clamped\n",
      "******************** Rounded\n",
      "************************* Underflow\n",
      "************************* Overflow\n",
      "******************** Inexact\n",
      "************************* Underflow\n",
      "************************* Overflow\n",
      "******************** Subnormal\n",
      "************************* Underflow\n",
      "******************** DivisionByZero\n",
      "******************** FloatOperation\n",
      "******************** InvalidOperation\n",
      "************************* ConversionSyntax\n",
      "************************* DivisionImpossible\n",
      "************************* DivisionUndefined\n",
      "************************* InvalidContext\n",
      "********** SystemError\n",
      "*************** CodecRegistryError\n",
      "********** ReferenceError\n",
      "********** MemoryError\n",
      "********** BufferError\n",
      "********** Warning\n",
      "*************** UserWarning\n",
      "******************** GetPassWarning\n",
      "******************** FormatterWarning\n",
      "*************** DeprecationWarning\n",
      "******************** ProvisionalWarning\n",
      "*************** PendingDeprecationWarning\n",
      "*************** SyntaxWarning\n",
      "*************** RuntimeWarning\n",
      "******************** ProactorSelectorThreadWarning\n",
      "******************** UnknownTimezoneWarning\n",
      "******************** PEP440Warning\n",
      "*************** FutureWarning\n",
      "******************** ProvisionalCompleterWarning\n",
      "*************** ImportWarning\n",
      "*************** UnicodeWarning\n",
      "*************** BytesWarning\n",
      "*************** ResourceWarning\n",
      "*************** DeprecatedTzFormatWarning\n",
      "*************** PkgResourcesDeprecationWarning\n",
      "********** Error\n",
      "********** _OptionError\n",
      "********** error\n",
      "********** Verbose\n",
      "********** _Error\n",
      "********** SubprocessError\n",
      "*************** CalledProcessError\n",
      "*************** TimeoutExpired\n",
      "********** _GiveupOnSendfile\n",
      "********** error\n",
      "********** LZMAError\n",
      "********** RegistryError\n",
      "********** _GiveupOnFastCopy\n",
      "********** ZMQBaseError\n",
      "*************** ZMQError\n",
      "******************** ContextTerminated\n",
      "******************** Again\n",
      "******************** InterruptedSystemCall\n",
      "*************** ZMQBindError\n",
      "*************** NotDone\n",
      "********** Error\n",
      "********** error\n",
      "********** PickleError\n",
      "*************** PicklingError\n",
      "*************** UnpicklingError\n",
      "********** _Stop\n",
      "********** TokenError\n",
      "********** StopTokenizing\n",
      "********** ClassFoundException\n",
      "********** EndOfBlock\n",
      "********** TraitError\n",
      "********** ArgumentError\n",
      "********** ArgumentTypeError\n",
      "********** ConfigError\n",
      "*************** ConfigLoaderError\n",
      "******************** ArgumentError\n",
      "*************** ConfigFileNotFound\n",
      "********** ConfigurableError\n",
      "*************** MultipleInstanceError\n",
      "********** ApplicationError\n",
      "********** NoIPAddresses\n",
      "********** Error\n",
      "*************** CancelledError\n",
      "*************** TimeoutError\n",
      "*************** InvalidStateError\n",
      "********** Incomplete\n",
      "********** TimeoutError\n",
      "********** InvalidStateError\n",
      "********** LimitOverrunError\n",
      "********** QueueEmpty\n",
      "********** QueueFull\n",
      "********** InvalidPortNumber\n",
      "********** Empty\n",
      "********** Full\n",
      "********** DuplicateKernelError\n",
      "********** TimeoutError\n",
      "********** COMError\n",
      "********** ArgumentError\n",
      "********** ReturnValueIgnoredError\n",
      "********** KeyReuseError\n",
      "********** UnknownKeyError\n",
      "********** LeakedCallbackError\n",
      "********** BadYieldError\n",
      "********** ReturnValueIgnoredError\n",
      "********** Return\n",
      "********** ErrorDuringImport\n",
      "********** BdbQuit\n",
      "********** Restart\n",
      "********** FindCmdError\n",
      "********** HomeDirError\n",
      "********** ProfileDirError\n",
      "********** IPythonCoreError\n",
      "*************** TryNext\n",
      "*************** UsageError\n",
      "*************** StdinNotImplementedError\n",
      "********** InputRejected\n",
      "********** GetoptError\n",
      "********** OptionError\n",
      "********** ErrorToken\n",
      "********** PrefilterError\n",
      "********** AliasError\n",
      "*************** InvalidAliasError\n",
      "********** Error\n",
      "*************** InterfaceError\n",
      "*************** DatabaseError\n",
      "******************** InternalError\n",
      "******************** OperationalError\n",
      "******************** ProgrammingError\n",
      "******************** IntegrityError\n",
      "******************** DataError\n",
      "******************** NotSupportedError\n",
      "********** Warning\n",
      "********** SpaceInInput\n",
      "********** DOMException\n",
      "*************** IndexSizeErr\n",
      "*************** DomstringSizeErr\n",
      "*************** HierarchyRequestErr\n",
      "*************** WrongDocumentErr\n",
      "*************** InvalidCharacterErr\n",
      "*************** NoDataAllowedErr\n",
      "*************** NoModificationAllowedErr\n",
      "*************** NotFoundErr\n",
      "*************** NotSupportedErr\n",
      "*************** InuseAttributeErr\n",
      "*************** InvalidStateErr\n",
      "*************** SyntaxErr\n",
      "*************** InvalidModificationErr\n",
      "*************** NamespaceErr\n",
      "*************** InvalidAccessErr\n",
      "*************** ValidationErr\n",
      "********** ValidationError\n",
      "********** EditReadOnlyBuffer\n",
      "********** _Retry\n",
      "********** InvalidLayoutError\n",
      "********** HeightIsUnknownError\n",
      "********** ParserSyntaxError\n",
      "********** InternalParseError\n",
      "********** _PositionUpdatingFinished\n",
      "********** SimpleGetItemNotFound\n",
      "********** UncaughtAttributeError\n",
      "********** ParamIssue\n",
      "********** _JediError\n",
      "*************** InternalError\n",
      "*************** WrongVersion\n",
      "*************** RefactoringError\n",
      "********** OnErrorLeaf\n",
      "********** InvalidPythonEnvironment\n",
      "********** MessageError\n",
      "*************** MessageParseError\n",
      "******************** HeaderParseError\n",
      "******************** BoundaryError\n",
      "*************** MultipartConversionError\n",
      "*************** CharsetError\n",
      "********** Error\n",
      "********** HTTPException\n",
      "*************** NotConnected\n",
      "*************** InvalidURL\n",
      "*************** UnknownProtocol\n",
      "*************** UnknownTransferEncoding\n",
      "*************** UnimplementedFileMode\n",
      "*************** IncompleteRead\n",
      "*************** ImproperConnectionState\n",
      "******************** CannotSendRequest\n",
      "******************** CannotSendHeader\n",
      "******************** ResponseNotReady\n",
      "*************** BadStatusLine\n",
      "******************** RemoteDisconnected\n",
      "*************** LineTooLong\n",
      "********** InteractivelyDefined\n",
      "********** KillEmbedded\n",
      "********** QueueEmpty\n",
      "********** QueueFull\n",
      "********** ExpatError\n",
      "********** Error\n",
      "*************** ProtocolError\n",
      "*************** ResponseError\n",
      "*************** Fault\n",
      "********** BadZipFile\n",
      "********** LargeZipFile\n",
      "********** error\n",
      "********** com_error\n",
      "********** internal_error\n",
      "********** ParseBaseException\n",
      "*************** ParseException\n",
      "*************** ParseFatalException\n",
      "******************** ParseSyntaxException\n",
      "********** RecursiveGrammarException\n",
      "********** ResolutionError\n",
      "*************** VersionConflict\n",
      "******************** ContextualVersionConflict\n",
      "*************** DistributionNotFound\n",
      "*************** UnknownExtra\n",
      "********** UnableToResolveVariableException\n",
      "********** InvalidTypeInArgsException\n",
      "***** GeneratorExit\n",
      "***** SystemExit\n",
      "***** KeyboardInterrupt\n",
      "***** CancelledError\n",
      "***** DebuggerInitializationError\n"
     ]
    }
   ],
   "source": [
    "\n",
    "import inspect\n",
    "\n",
    "\n",
    "def Except(c, k = 0):\n",
    "    \n",
    "    print ('*' * k, c.__name__)\n",
    "    \n",
    "    for i in c.__subclasses__():\n",
    "        \n",
    "        Except(i, k + 5)\n",
    "\n",
    "print(\"This is the hierarachy: \")\n",
    "\n",
    "\n",
    "inspect.getclasstree(inspect.getmro(BaseException))\n",
    "\n",
    "\n",
    "Except(BaseException)"
   ]
  },
  {
   "cell_type": "markdown",
   "id": "c3636255",
   "metadata": {},
   "source": [
    "Q3. What errors are defined in the ArithmeticError class? Explain any two with an example."
   ]
  },
  {
   "cell_type": "markdown",
   "id": "9a83cc8e",
   "metadata": {},
   "source": [
    "Ans:"
   ]
  },
  {
   "cell_type": "markdown",
   "id": "df7ae3e0",
   "metadata": {},
   "source": [
    "Arithmetic Error is the error come during Arithmetic operation."
   ]
  },
  {
   "cell_type": "markdown",
   "id": "b1041751",
   "metadata": {},
   "source": [
    "ArithmeticError class contains error\n",
    "\n",
    "1.Zerodivision Error\n",
    "\n",
    "2.Floatingpoint Error"
   ]
  },
  {
   "cell_type": "markdown",
   "id": "14c509ec",
   "metadata": {},
   "source": [
    "1.ZeroDivisionError"
   ]
  },
  {
   "cell_type": "code",
   "execution_count": 5,
   "id": "302d3df9",
   "metadata": {},
   "outputs": [
    {
     "name": "stdout",
     "output_type": "stream",
     "text": [
      "division by zero\n"
     ]
    }
   ],
   "source": [
    "#import logging\n",
    "\n",
    "#logging.basicConfig(filename = 'test12.txt',level = logging.INFO)\n",
    "\n",
    "\n",
    "\n",
    "def test(a):\n",
    "    \n",
    "    \n",
    "    try :\n",
    "        \n",
    "        \n",
    "        c = a/0\n",
    "        \n",
    "        \n",
    "    except ZeroDivisionError as e :\n",
    "        \n",
    "        \n",
    "        #logging.INFO('I am checking with Zero Division Error',e)\n",
    "        \n",
    "        print(e)\n",
    "    \n",
    "    \n",
    "test(10)"
   ]
  },
  {
   "cell_type": "markdown",
   "id": "72c51698",
   "metadata": {},
   "source": [
    "2.OverflowError"
   ]
  },
  {
   "cell_type": "code",
   "execution_count": 15,
   "id": "a76e3e44",
   "metadata": {},
   "outputs": [
    {
     "name": "stdout",
     "output_type": "stream",
     "text": [
      "(34, 'Result too large') <class 'OverflowError'>\n"
     ]
    }
   ],
   "source": [
    "k = 5.0\n",
    "\n",
    "try:\n",
    "    for j in range(1, 1000):\n",
    "        k = k ** j\n",
    "except ArithmeticError as e:\n",
    "   \n",
    "    print(e,e.__class__)"
   ]
  },
  {
   "cell_type": "markdown",
   "id": "9dbecb3c",
   "metadata": {},
   "source": [
    "Q4. Why LookupError class is used? Explain with an example KeyError and IndexError."
   ]
  },
  {
   "cell_type": "markdown",
   "id": "88306dc4",
   "metadata": {},
   "source": [
    "Ans :"
   ]
  },
  {
   "cell_type": "markdown",
   "id": "571e9140",
   "metadata": {},
   "source": [
    "LookupError class is base class errors raise exception when something not found like key and index.\n",
    "\n",
    "keyError Exception get when a key not found for dictionary.\n",
    "\n",
    "IndexError Exception is not found when an index is not found."
   ]
  },
  {
   "cell_type": "markdown",
   "id": "e9d7d6ed",
   "metadata": {},
   "source": [
    "This exception is raised when an index or key is not found for sequnce or dictionary."
   ]
  },
  {
   "cell_type": "markdown",
   "id": "886c9f70",
   "metadata": {},
   "source": [
    "keyerror"
   ]
  },
  {
   "cell_type": "code",
   "execution_count": 51,
   "id": "23f357c0",
   "metadata": {},
   "outputs": [
    {
     "name": "stdout",
     "output_type": "stream",
     "text": [
      "Enter a key here :student\n",
      "student is pritam\n"
     ]
    }
   ],
   "source": [
    "d = {'student':'pritam','age':26,'stream':'Data scientist'}\n",
    "\n",
    "key = input('Enter a key here :')\n",
    "\n",
    "try :\n",
    "    \n",
    "    print(key,'is',d[key])\n",
    "    \n",
    "except  LookupError as e:\n",
    "    \n",
    "    print(e , e.__class__)"
   ]
  },
  {
   "cell_type": "code",
   "execution_count": 53,
   "id": "ffff5094",
   "metadata": {},
   "outputs": [
    {
     "name": "stdout",
     "output_type": "stream",
     "text": [
      "Enter a key here :aksh\n",
      "'aksh' <class 'KeyError'>\n"
     ]
    }
   ],
   "source": [
    "d = {'student':'pritam','age':26,'stream':'Data scientist'}\n",
    "\n",
    "key = input('Enter a key here :')\n",
    "\n",
    "try :\n",
    "    \n",
    "    print(key,'is',d[key])\n",
    "    \n",
    "except  LookupError as e:\n",
    "    \n",
    "    print(e , e.__class__)"
   ]
  },
  {
   "cell_type": "markdown",
   "id": "47550f14",
   "metadata": {},
   "source": [
    "IndexError"
   ]
  },
  {
   "cell_type": "code",
   "execution_count": 31,
   "id": "418b7897",
   "metadata": {},
   "outputs": [
    {
     "name": "stdout",
     "output_type": "stream",
     "text": [
      "I am checking with Index Error string index out of range\n"
     ]
    }
   ],
   "source": [
    "import logging\n",
    "\n",
    "logging.basicConfig(filename = 'test13.txt', level = logging.debug)\n",
    "def test1(s):\n",
    "    \n",
    "    try :\n",
    "        \n",
    "        i = s[10]\n",
    "    \n",
    "    except IndexError as e :\n",
    "        \n",
    "        print('I am checking with Index Error' , e)\n",
    "        \n",
    "        logging.debug('I am checking with Index Error' , e)\n",
    "        \n",
    "test1('pritam')"
   ]
  },
  {
   "cell_type": "markdown",
   "id": "f444f561",
   "metadata": {},
   "source": [
    "Q5. Explain ImportError. What is ModuleNotFoundError?"
   ]
  },
  {
   "cell_type": "markdown",
   "id": "2d814639",
   "metadata": {},
   "source": [
    "Ans:\n",
    "    \n",
    "    ImportError is nothing but error comes while import something(like module).\n",
    "    \n",
    "    In python there are many module are already written and save into directory . \n",
    "    \n",
    "    so according to requirment we import it.\n",
    "    \n",
    "    so ModuleNotFoundError means this module is not available in python .\n",
    "    \n",
    "    so shows ModuleNotFoundError."
   ]
  },
  {
   "cell_type": "markdown",
   "id": "3d1f9852",
   "metadata": {},
   "source": [
    "eg:"
   ]
  },
  {
   "cell_type": "code",
   "execution_count": 54,
   "id": "899c818f",
   "metadata": {},
   "outputs": [
    {
     "ename": "ModuleNotFoundError",
     "evalue": "No module named 'pritam'",
     "output_type": "error",
     "traceback": [
      "\u001b[1;31m---------------------------------------------------------------------------\u001b[0m",
      "\u001b[1;31mModuleNotFoundError\u001b[0m                       Traceback (most recent call last)",
      "\u001b[1;32m~\\AppData\\Local\\Temp/ipykernel_940/3979312137.py\u001b[0m in \u001b[0;36m<module>\u001b[1;34m\u001b[0m\n\u001b[1;32m----> 1\u001b[1;33m \u001b[1;32mimport\u001b[0m \u001b[0mpritam\u001b[0m\u001b[1;33m\u001b[0m\u001b[1;33m\u001b[0m\u001b[0m\n\u001b[0m",
      "\u001b[1;31mModuleNotFoundError\u001b[0m: No module named 'pritam'"
     ]
    }
   ],
   "source": [
    "import pritam"
   ]
  },
  {
   "cell_type": "markdown",
   "id": "85465d02",
   "metadata": {},
   "source": [
    "Q6. List down some best practices for exception handling in python."
   ]
  },
  {
   "cell_type": "markdown",
   "id": "3349f675",
   "metadata": {},
   "source": [
    "Ans:\n",
    "    \n",
    "    1.use always a specific exception.\n",
    "    \n",
    "    2.print always a proper message.\n",
    "    \n",
    "    3.always try to log your error.\n",
    "    \n",
    "    4.alwyas avoid to write a multiple exception handling.\n",
    "    \n",
    "    5.Document all the error \n",
    "    \n",
    "    6.cleanup all the resources"
   ]
  },
  {
   "cell_type": "code",
   "execution_count": null,
   "id": "bffa87d1",
   "metadata": {},
   "outputs": [],
   "source": []
  }
 ],
 "metadata": {
  "kernelspec": {
   "display_name": "Python 3 (ipykernel)",
   "language": "python",
   "name": "python3"
  },
  "language_info": {
   "codemirror_mode": {
    "name": "ipython",
    "version": 3
   },
   "file_extension": ".py",
   "mimetype": "text/x-python",
   "name": "python",
   "nbconvert_exporter": "python",
   "pygments_lexer": "ipython3",
   "version": "3.9.7"
  }
 },
 "nbformat": 4,
 "nbformat_minor": 5
}
