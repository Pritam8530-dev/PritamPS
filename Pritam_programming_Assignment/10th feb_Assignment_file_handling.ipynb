{
 "cells": [
  {
   "cell_type": "markdown",
   "id": "d2a82f2b",
   "metadata": {},
   "source": [
    "Q1. Which function is used to open a file? What are the different modes of opening a file? Explain each mode\n",
    "of file opening."
   ]
  },
  {
   "cell_type": "markdown",
   "id": "b2042669",
   "metadata": {},
   "source": [
    "Ans:"
   ]
  },
  {
   "cell_type": "markdown",
   "id": "4ff4851c",
   "metadata": {},
   "source": [
    "open is the function is used to open in file.\n",
    "\n",
    "There are diffrent modes of opening file \n",
    "\n",
    "like :\n",
    "    \n",
    "    1. 'r' : open for read file.if file is not exist it throws error file is not exist.\n",
    "        \n",
    "    2. 'w' : open for write file.if file is not exist it will create it and it truncate the data if file is existed.\n",
    "        \n",
    "    3. 'a' : append data in already existing file. It does not truncate if already exist data. It just append data after end of that already data and if file is not exist it will create it.\n",
    "        \n",
    "    4. 'r+' : read and write data.\n",
    "        \n",
    "    5.'w+' : write and read data.\n",
    "        \n",
    "    6.'rb' : read data in binary file.\n",
    "        \n",
    "    7.'a+' : append and read data."
   ]
  },
  {
   "cell_type": "markdown",
   "id": "2cc97789",
   "metadata": {},
   "source": [
    "Q2. Why close() function is used? Why is it important to close a file?"
   ]
  },
  {
   "cell_type": "markdown",
   "id": "93aefcdd",
   "metadata": {},
   "source": [
    "Ans:"
   ]
  },
  {
   "cell_type": "markdown",
   "id": "7b22cc38",
   "metadata": {},
   "source": [
    "close():\n",
    "    \n",
    "    close function is used for to close file.\n",
    "    \n",
    "    Because if perform opearation like read and write with help of python. It is not showing the changes which we done in file. after the closing file the changes get reflecates."
   ]
  },
  {
   "cell_type": "markdown",
   "id": "eb80a854",
   "metadata": {},
   "source": [
    "Q3. Write a python program to create a text file. Write ‘I want to become a Data Scientist’ in that file. Then\n",
    "close the file. Open this file and read the content of the file."
   ]
  },
  {
   "cell_type": "markdown",
   "id": "c1d925e4",
   "metadata": {},
   "source": [
    "Ans :"
   ]
  },
  {
   "cell_type": "code",
   "execution_count": 1,
   "id": "ee8a8e96",
   "metadata": {},
   "outputs": [],
   "source": [
    "f = open('data.txt','w')\n",
    "f.write('I want to become a Data Scientist')\n",
    "f.close()"
   ]
  },
  {
   "cell_type": "code",
   "execution_count": 2,
   "id": "c6661bac",
   "metadata": {},
   "outputs": [
    {
     "data": {
      "text/plain": [
       "'I want to become a Data Scientist'"
      ]
     },
     "execution_count": 2,
     "metadata": {},
     "output_type": "execute_result"
    }
   ],
   "source": [
    "f = open('data.txt','r')\n",
    "f.read()"
   ]
  },
  {
   "cell_type": "markdown",
   "id": "cf15a1a4",
   "metadata": {},
   "source": [
    "Q4. Explain the following with python code: read(), readline() and readlines()."
   ]
  },
  {
   "cell_type": "markdown",
   "id": "2f4208d6",
   "metadata": {},
   "source": [
    "Ans :"
   ]
  },
  {
   "cell_type": "markdown",
   "id": "5c1b8fc3",
   "metadata": {},
   "source": [
    "1.read():\n",
    "    \n",
    "    read() function is used for to read a file.\n",
    "    \n",
    "2.readline():\n",
    "    \n",
    "    readline() function is used for read line from file.You can also give bytes for to read line by size parameter.\n",
    "    \n",
    "    \n",
    "3.readlines():\n",
    "    \n",
    "    readlines() function is used for read. It returns as list and each line as list item. where hint is parameter . which limit no .of lines returned.\n",
    "    \n",
    "    "
   ]
  },
  {
   "cell_type": "markdown",
   "id": "c8441789",
   "metadata": {},
   "source": [
    "Q5. Explain why with statement is used with open(). What is the advantage of using with statement and\n",
    "open() together?"
   ]
  },
  {
   "cell_type": "markdown",
   "id": "3013ffda",
   "metadata": {},
   "source": [
    "Ans:"
   ]
  },
  {
   "cell_type": "markdown",
   "id": "68806781",
   "metadata": {},
   "source": [
    "with statment is used for to open file in read , write mode.\n",
    "\n",
    "Advantage :\n",
    "    \n",
    "    By using with statment, file get close automatically as soon as leave the block. There is no need to explicitely close the file by file.close()."
   ]
  },
  {
   "cell_type": "markdown",
   "id": "15471db1",
   "metadata": {},
   "source": [
    "Q6. Explain the write() and writelines() functions. Give a suitable example."
   ]
  },
  {
   "cell_type": "markdown",
   "id": "72677eef",
   "metadata": {},
   "source": [
    "Ans :"
   ]
  },
  {
   "cell_type": "markdown",
   "id": "edf44a1b",
   "metadata": {},
   "source": [
    "write():\n",
    "    \n",
    "    write function is used for to write data in file."
   ]
  },
  {
   "cell_type": "code",
   "execution_count": 4,
   "id": "3f54b814",
   "metadata": {},
   "outputs": [],
   "source": [
    "with open('data_1.txt','w') as f:\n",
    "    \n",
    "    f.write('I want to become successful Data Scientist')"
   ]
  },
  {
   "cell_type": "markdown",
   "id": "5e4c5a0a",
   "metadata": {},
   "source": [
    "writelines():\n",
    "    \n",
    "    writeslines() is used for to write items of list to file."
   ]
  },
  {
   "cell_type": "code",
   "execution_count": 23,
   "id": "eeba84f1",
   "metadata": {},
   "outputs": [],
   "source": [
    "f = open('data_2.txt','w')\n",
    "\n",
    "f.writelines([\"\\nI am very Best Data Scientist !\" ,\"\\nYes you are !\"])\n",
    "\n",
    "f.close()"
   ]
  },
  {
   "cell_type": "code",
   "execution_count": 24,
   "id": "3e15550b",
   "metadata": {},
   "outputs": [
    {
     "name": "stdout",
     "output_type": "stream",
     "text": [
      "\n",
      "I am very Best Data Scientist !\n",
      "Yes you are !\n"
     ]
    }
   ],
   "source": [
    "f = open('data_2.txt','r')\n",
    "print(f.read())"
   ]
  }
 ],
 "metadata": {
  "kernelspec": {
   "display_name": "Python 3 (ipykernel)",
   "language": "python",
   "name": "python3"
  },
  "language_info": {
   "codemirror_mode": {
    "name": "ipython",
    "version": 3
   },
   "file_extension": ".py",
   "mimetype": "text/x-python",
   "name": "python",
   "nbconvert_exporter": "python",
   "pygments_lexer": "ipython3",
   "version": "3.9.7"
  }
 },
 "nbformat": 4,
 "nbformat_minor": 5
}
