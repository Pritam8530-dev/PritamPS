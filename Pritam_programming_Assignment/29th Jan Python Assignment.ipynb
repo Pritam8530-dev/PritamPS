{
 "cells": [
  {
   "cell_type": "markdown",
   "id": "e18b730a",
   "metadata": {},
   "source": [
    "1.who developed python programmin language ?"
   ]
  },
  {
   "cell_type": "markdown",
   "id": "6227613b",
   "metadata": {},
   "source": [
    "Ans : Guido van Rossum"
   ]
  },
  {
   "cell_type": "markdown",
   "id": "d9efba4a",
   "metadata": {},
   "source": [
    "2.Which type of programming does python support ?"
   ]
  },
  {
   "cell_type": "markdown",
   "id": "f09a3653",
   "metadata": {},
   "source": [
    "Ans : object oriented programming and structured programming "
   ]
  },
  {
   "cell_type": "markdown",
   "id": "e03dba19",
   "metadata": {},
   "source": [
    "3.Is python case sensitive while dealing with identifiers ?"
   ]
  },
  {
   "cell_type": "markdown",
   "id": "c31bd5aa",
   "metadata": {},
   "source": [
    "Ans : Yes , Python is case sensitive .while dealing with identifiers make it into uppercase and lowercase. like when it having same name of identifiers."
   ]
  },
  {
   "cell_type": "markdown",
   "id": "4ea35032",
   "metadata": {},
   "source": [
    "4.What is correct extention of python file ?"
   ]
  },
  {
   "cell_type": "markdown",
   "id": "6a55c2d0",
   "metadata": {},
   "source": [
    "Ans : .py is the correct extention of python file."
   ]
  },
  {
   "cell_type": "markdown",
   "id": "545f202d",
   "metadata": {},
   "source": [
    "5.Is python code is compiled or interpreted ?"
   ]
  },
  {
   "cell_type": "markdown",
   "id": "3e0ec71d",
   "metadata": {},
   "source": [
    "Ans : Python is Interpreted language . there is no need to explicitely compiled the code in python . it execute line by line .it convert byte code into machine understandable format."
   ]
  },
  {
   "cell_type": "markdown",
   "id": "ca70e4e1",
   "metadata": {},
   "source": [
    "6.Name a few blocks of code used to define in python language ?"
   ]
  },
  {
   "cell_type": "markdown",
   "id": "09952af5",
   "metadata": {},
   "source": [
    "Ans : Indentation is used in python language to define block of code."
   ]
  },
  {
   "cell_type": "markdown",
   "id": "3fe09f78",
   "metadata": {},
   "source": [
    "7.State a character used to give single-line comments in python language ?"
   ]
  },
  {
   "cell_type": "markdown",
   "id": "b7e32654",
   "metadata": {},
   "source": [
    "Ans : # (Hash) is the character used to give single-line comments in python language."
   ]
  },
  {
   "cell_type": "markdown",
   "id": "1e616825",
   "metadata": {},
   "source": [
    "8.Mention functions which can be help us to find the version of python that we are currently working on ?"
   ]
  },
  {
   "cell_type": "markdown",
   "id": "4306ddcf",
   "metadata": {},
   "source": [
    "Ans : sys.version "
   ]
  },
  {
   "cell_type": "markdown",
   "id": "332a7238",
   "metadata": {},
   "source": [
    "9.python supports the creation of anonymous functions at runtime , using a constructor called ?"
   ]
  },
  {
   "cell_type": "markdown",
   "id": "8846b986",
   "metadata": {},
   "source": [
    "Ans : Lambda."
   ]
  },
  {
   "cell_type": "markdown",
   "id": "b8e5a07d",
   "metadata": {},
   "source": [
    "10.pip stands for python ?"
   ]
  },
  {
   "cell_type": "markdown",
   "id": "6e9d737f",
   "metadata": {},
   "source": [
    "Ans : preferred installer program."
   ]
  },
  {
   "cell_type": "markdown",
   "id": "b7233cd3",
   "metadata": {},
   "source": [
    "11.Mention Built in functions in python ?"
   ]
  },
  {
   "cell_type": "markdown",
   "id": "821c8bfc",
   "metadata": {},
   "source": [
    "Ans : print() , type() , id() , len()"
   ]
  },
  {
   "cell_type": "markdown",
   "id": "a7c07cf3",
   "metadata": {},
   "source": [
    "12.What is the  maximum possible length of an identifier in python ?"
   ]
  },
  {
   "cell_type": "markdown",
   "id": "f17c8deb",
   "metadata": {},
   "source": [
    "Ans : 79 characters."
   ]
  },
  {
   "cell_type": "markdown",
   "id": "bfdb9af7",
   "metadata": {},
   "source": [
    "13.What are benifites using python ?"
   ]
  },
  {
   "cell_type": "markdown",
   "id": "71a117b4",
   "metadata": {},
   "source": [
    "Ans :\n",
    "\n",
    "1. Python is faster langauage as compared to other.\n",
    "2. Python is high level programming language.\n",
    "3. No need to focus on memory managment while low level designing.\n",
    "4. No need to explicite compile the code.\n",
    "5. Python is dynamically type language means there is no need to initialise data type before decleration of variable. it      while executing the code so it become faster.\n",
    "6. Python is easy by syntax.\n",
    "7. Python is interpreted language.\n",
    "8. Python is oops oriented and structured programming language."
   ]
  },
  {
   "cell_type": "markdown",
   "id": "aefc07fc",
   "metadata": {},
   "source": [
    "14.How memory managed in python ?"
   ]
  },
  {
   "cell_type": "markdown",
   "id": "9cc98315",
   "metadata": {},
   "source": [
    "Ans : In python there is no need to concentration on memory management while doing low level design by developer / programmer. because in python there is grabage collector is the destory useless memory or destroy object who doesnot having referenced variable."
   ]
  },
  {
   "cell_type": "markdown",
   "id": "033d41bf",
   "metadata": {},
   "source": [
    "15.How to install python on windows and set path variable ?"
   ]
  },
  {
   "cell_type": "markdown",
   "id": "4f78604c",
   "metadata": {},
   "source": [
    "Ans : In command prompt (cmd) , python --version is the command is can be install python ."
   ]
  },
  {
   "cell_type": "markdown",
   "id": "f071d764",
   "metadata": {},
   "source": [
    "16.Is indentation required in python ?"
   ]
  },
  {
   "cell_type": "markdown",
   "id": "322440f1",
   "metadata": {},
   "source": [
    "Ans : Yes , In python indentation required . Its by default four spaces . in other language like c , c ++ , java  there is braces {} is used for block of code but in python indenation is used for block of code . "
   ]
  }
 ],
 "metadata": {
  "kernelspec": {
   "display_name": "Python 3 (ipykernel)",
   "language": "python",
   "name": "python3"
  },
  "language_info": {
   "codemirror_mode": {
    "name": "ipython",
    "version": 3
   },
   "file_extension": ".py",
   "mimetype": "text/x-python",
   "name": "python",
   "nbconvert_exporter": "python",
   "pygments_lexer": "ipython3",
   "version": "3.9.7"
  }
 },
 "nbformat": 4,
 "nbformat_minor": 5
}
