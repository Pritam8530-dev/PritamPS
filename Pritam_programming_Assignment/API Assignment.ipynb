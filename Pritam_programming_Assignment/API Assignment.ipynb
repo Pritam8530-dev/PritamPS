{
 "cells": [
  {
   "cell_type": "markdown",
   "id": "33a92f51",
   "metadata": {},
   "source": [
    "Q1. What is an API? Give an example, where an API is used in real life."
   ]
  },
  {
   "cell_type": "markdown",
   "id": "37fc91e9",
   "metadata": {},
   "source": [
    "API : \n",
    "    \n",
    "    API is the Application program Interface. \n",
    "    \n",
    "    It is used for to communicate between two diffrent system.\n",
    "    \n",
    "    Its primary purpose is to access and retrive data from remote server.\n",
    "    \n",
    "    Basically API protocols are \n",
    "    \n",
    "    \n",
    "    1.Rest API :\n",
    "        \n",
    "        REST is representational state transfer.\n",
    "        \n",
    "        Its basically http.\n",
    "        \n",
    "        It is stateless .\n",
    "        \n",
    "        It is software architecture style for creating web services.\n",
    "        \n",
    "        It is light weight and easy to use.\n",
    "        \n",
    "        Its provide standaredized way for applications to communicate with each other.\n",
    "        \n",
    "        \n",
    "        \n",
    "        \n",
    "    2.SOAP :\n",
    "        \n",
    "        SOAP is simple object access protocall.\n",
    "        \n",
    "        its XML.\n",
    "        \n",
    "        it is protocall for sending and recieving applications.\n",
    "        \n",
    "        It provides a standardized way for applications to communicate with each other.\n",
    "        \n",
    "        Its not light weight.\n",
    "        \n",
    "        \n",
    "        \n",
    "        \n",
    "\n",
    "Its usage into real life like :\n",
    "    \n",
    "    \n",
    "    1.when you are login into any website like facebook. there is also use API.\n",
    "    \n",
    "    2.while transactional apps like Gpay . There API is use. It sommunicate two diffrent system .\n",
    "        "
   ]
  },
  {
   "cell_type": "markdown",
   "id": "0157985a",
   "metadata": {},
   "source": [
    "Q2. Give advantages and disadvantages of using API."
   ]
  },
  {
   "cell_type": "markdown",
   "id": "f0a8bb3d",
   "metadata": {},
   "source": [
    "Ans:"
   ]
  },
  {
   "cell_type": "markdown",
   "id": "d363cc43",
   "metadata": {},
   "source": [
    "Advantages :"
   ]
  },
  {
   "cell_type": "markdown",
   "id": "bf529876",
   "metadata": {},
   "source": [
    "1.an integration : \n",
    "    \n",
    "    An example of an integration is to push notifications from your product (such as CRM, Helpdesk) to a messaging tool such as Slack. \n",
    "    \n",
    "    In this way, if your customer uses Slack they can receive notifications without having to login directly to your system or check emails.\n",
    "    \n",
    "    \n",
    "    new functionality : \n",
    "        \n",
    "        In the early days of Twitter, some of the most popular Twitter clients were produced by third parties using the Twitter API. \n",
    "        \n",
    "        Twitter and its users benefited from the new functionality that was undertaken by other companies."
   ]
  },
  {
   "cell_type": "markdown",
   "id": "b6539148",
   "metadata": {},
   "source": [
    "Disadvantage :"
   ]
  },
  {
   "cell_type": "markdown",
   "id": "e6f8e7ca",
   "metadata": {},
   "source": [
    "Cost : Providing an API is expensive in terms of development time, ongoing maintenance, providing API documentation on your website and providing support to users of your API.\n",
    "    \n",
    "    \n",
    "Security exposure : Adding an API adds another attack surface to your website."
   ]
  },
  {
   "cell_type": "markdown",
   "id": "045e29b1",
   "metadata": {},
   "source": [
    "Q3. What is a Web API? Differentiate between API and Web API."
   ]
  },
  {
   "cell_type": "markdown",
   "id": "65fdaaa8",
   "metadata": {},
   "source": [
    "Ans:"
   ]
  },
  {
   "cell_type": "markdown",
   "id": "747f8c37",
   "metadata": {},
   "source": [
    "Web API :\n",
    "    \n",
    "    Web API is Application Programming Interface . \n",
    "    \n",
    "    It is a software application that allows to interact two diffrent applications without any user interface.\n",
    "    \n",
    "    It contains set of rule or specifications .It is used when interact with any web application."
   ]
  },
  {
   "cell_type": "markdown",
   "id": "fd4ca497",
   "metadata": {},
   "source": [
    "Web API :\n",
    "    \n",
    "    1.Web API supports protocol for HTTP/s protocol and URL requests/responses headers that enable services to reach various clients through the web.\n",
    "    \n",
    "    2.A Web API provides flexibility to any style of communication.\n",
    "    \n",
    "    3.As Web APIs are lightweight architecture.\n",
    "    "
   ]
  },
  {
   "cell_type": "markdown",
   "id": "06e732e3",
   "metadata": {},
   "source": [
    "API :\n",
    "    \n",
    "    1.all communication in the REST API is supported only through HTTP protocol.\n",
    "    \n",
    "    2.A REST API can take advantage of using REST, SOAP, and XML-RPC for communication.\n",
    "    \n",
    "    3.REST APIs send and receive data over systems making it a complex architecture."
   ]
  },
  {
   "cell_type": "markdown",
   "id": "2683f0eb",
   "metadata": {},
   "source": [
    "Q4. Explain REST and SOAP Architecture. Mention shortcomings of SOAP."
   ]
  },
  {
   "cell_type": "markdown",
   "id": "380c6daa",
   "metadata": {},
   "source": [
    "Ans :"
   ]
  },
  {
   "cell_type": "markdown",
   "id": "3d6c5b9b",
   "metadata": {},
   "source": [
    "REST :\n",
    "    \n",
    "    1.REST is an architectural style.\n",
    "    \n",
    "    2.REST stands for Representational State Transfer.\n",
    "    \n",
    "    3.REST can use SOAP web services because it is a concept and can use any protocol like HTTP, SOAP.\n",
    "    \n",
    "    4.REST uses URL to expose business logic.\n",
    "    \n",
    "    5.REST does not define too much standards like SOAP.\n",
    "    \n",
    "    6.REST requires less bandwidth and resource than SOAP."
   ]
  },
  {
   "cell_type": "markdown",
   "id": "e5a76fd2",
   "metadata": {},
   "source": [
    "SOAP :"
   ]
  },
  {
   "cell_type": "markdown",
   "id": "23efd5a5",
   "metadata": {},
   "source": [
    "1.SOAP is a protocol.\n",
    "\n",
    "2.SOAP stands for Simple Object Access Protocol.\n",
    "\n",
    "3.SOAP can't use REST because it is a protocol.\n",
    "\n",
    "4.SOAP uses services interfaces to expose the business logic.\n",
    "\n",
    "5.SOAP defines standards to be strictly followed. \n",
    "\n",
    "6.SOAP requires more bandwidth and resource than REST."
   ]
  },
  {
   "cell_type": "markdown",
   "id": "64f8010e",
   "metadata": {},
   "source": [
    "Q5. Differentiate between REST and SOAP."
   ]
  },
  {
   "cell_type": "markdown",
   "id": "0348ce54",
   "metadata": {},
   "source": [
    "Ans :"
   ]
  },
  {
   "cell_type": "raw",
   "id": "ef65321a",
   "metadata": {},
   "source": [
    "       SOAP                                                                      REST\n",
    "\n",
    "1) SOAP is a protocol.                                             REST is an architectural style.\n",
    "\n",
    "2) SOAP stands for Simple Object Access Protocol.                  REST stands for REpresentational State Transfer.\n",
    "\n",
    "3) SOAP can't use REST because it is a protocol.                   REST can use SOAP web services because it is a concept and can use any protocol like HTTP, SOAP.\n",
    "\n",
    "4) SOAP uses services interfaces to expose the business logic.     REST uses URI to expose business logic.\n",
    "\n",
    "5) JAX-WS is the java API for SOAP web services.                   JAX-RS is the java API for RESTful web services.\n",
    "\n",
    "6) SOAP defines standards to be strictly followed.                 REST does not define too much standards like SOAP.\n",
    "\n",
    "7) SOAP requires more bandwidth and resource than REST.            REST requires less bandwidth and resource than SOAP.\n",
    "\n",
    "8) SOAP defines its own security.                                  RESTful web services inherits security measures from the underlying transport.\n",
    "\n",
    "9) SOAP permits XML data format only.                              REST permits different data format such as Plain text, HTML, XML, JSON etc.\n",
    "\n",
    "10) SOAP is less preferred than REST.                              REST more preferred than SOAP."
   ]
  }
 ],
 "metadata": {
  "kernelspec": {
   "display_name": "Python 3 (ipykernel)",
   "language": "python",
   "name": "python3"
  },
  "language_info": {
   "codemirror_mode": {
    "name": "ipython",
    "version": 3
   },
   "file_extension": ".py",
   "mimetype": "text/x-python",
   "name": "python",
   "nbconvert_exporter": "python",
   "pygments_lexer": "ipython3",
   "version": "3.9.7"
  }
 },
 "nbformat": 4,
 "nbformat_minor": 5
}
