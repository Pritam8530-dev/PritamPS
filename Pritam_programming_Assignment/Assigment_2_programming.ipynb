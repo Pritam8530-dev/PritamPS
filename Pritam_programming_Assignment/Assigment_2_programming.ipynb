{
 "cells": [
  {
   "cell_type": "markdown",
   "id": "e3cf3d41",
   "metadata": {},
   "source": [
    "### 1. Write a Python program to convert kilometers to miles?  "
   ]
  },
  {
   "cell_type": "code",
   "execution_count": 1,
   "id": "3f1bd2bc",
   "metadata": {},
   "outputs": [
    {
     "name": "stdout",
     "output_type": "stream",
     "text": [
      "The value of kilometer is : 10\n",
      "conversion factor for kilometer to mile is : 0.6214\n",
      "The conversion of 10 kilometer to mile is : 6.2139999999999995\n"
     ]
    }
   ],
   "source": [
    "def conversion_k_m(kilometer):\n",
    "    \n",
    "    print('The value of kilometer is :' , kilometer)\n",
    "    \n",
    "    conversion_factor = 0.6214\n",
    "    \n",
    "    print('conversion factor for kilometer to mile is :' , conversion_factor)\n",
    "    \n",
    "    mile = kilometer * conversion_factor\n",
    "    \n",
    "    print('The conversion of' ,kilometer ,'kilometer to mile is :' , mile)\n",
    "    \n",
    "    \n",
    "\n",
    "conversion_k_m(10)"
   ]
  },
  {
   "cell_type": "markdown",
   "id": "b516ea83",
   "metadata": {},
   "source": [
    "### 2. Write a Python program to convert Celsius to Fahrenheit?"
   ]
  },
  {
   "cell_type": "code",
   "execution_count": 2,
   "id": "d06828e7",
   "metadata": {},
   "outputs": [
    {
     "name": "stdout",
     "output_type": "stream",
     "text": [
      "The tempreature in celcius is : 40\n",
      "tempreature from celcius to farenhite is  : 104.0\n"
     ]
    }
   ],
   "source": [
    "def conversion(temp_celcius):\n",
    "    \n",
    "    print('The tempreature in celcius is :' , temp_celcius)\n",
    "    \n",
    "    tempreature_celcius_farenhite =  (temp_celcius * 1.8 )+ 32\n",
    "    \n",
    "    print('tempreature from celcius to farenhite is  :' , tempreature_celcius_farenhite)\n",
    "    \n",
    "    \n",
    "conversion(40)"
   ]
  },
  {
   "cell_type": "markdown",
   "id": "30c4784a",
   "metadata": {},
   "source": [
    "### 3. Write a Python program to display calendar?"
   ]
  },
  {
   "cell_type": "code",
   "execution_count": 3,
   "id": "9b3f95b3",
   "metadata": {},
   "outputs": [
    {
     "name": "stdout",
     "output_type": "stream",
     "text": [
      "Enter the year is  :2022\n",
      "Enter the month is :05\n",
      "      May 2022\n",
      "Mo Tu We Th Fr Sa Su\n",
      "                   1\n",
      " 2  3  4  5  6  7  8\n",
      " 9 10 11 12 13 14 15\n",
      "16 17 18 19 20 21 22\n",
      "23 24 25 26 27 28 29\n",
      "30 31\n",
      "\n"
     ]
    }
   ],
   "source": [
    "import calendar\n",
    "\n",
    "\n",
    "year = int(input('Enter the year is  :' ,))\n",
    "month = int(input('Enter the month is :' ,))\n",
    "\n",
    "\n",
    "print(calendar.month(year , month))"
   ]
  },
  {
   "cell_type": "markdown",
   "id": "a4d9b19d",
   "metadata": {},
   "source": [
    "### 4. Write a Python program to solve quadratic equation?"
   ]
  },
  {
   "cell_type": "code",
   "execution_count": 4,
   "id": "20c97c5e",
   "metadata": {},
   "outputs": [
    {
     "name": "stdout",
     "output_type": "stream",
     "text": [
      "Enter the value of a is :1\n",
      "Enter the value of b is :2\n",
      "Enter the value of c is :3\n",
      "-8\n",
      "first solution  is : (-1-1.4142135623730951j)\n",
      "second solution is : (-1+1.4142135623730951j)\n"
     ]
    }
   ],
   "source": [
    "## Quadratic equation is ax **2 +bx +cx =0 where a, b, c are real numbers and a!= 0\n",
    "\n",
    "import numpy as np\n",
    "import cmath\n",
    "\n",
    "\n",
    "a = int(input('Enter the value of a is :' ,))\n",
    "\n",
    "b = int(input('Enter the value of b is :' ,))\n",
    "\n",
    "c = int(input('Enter the value of c is :' ,))\n",
    "\n",
    "\n",
    "## descriminanat\n",
    "\n",
    "d = ((b**2)-(4*a*c)) \n",
    "\n",
    "print(d)\n",
    "\n",
    "sol_1 = (-b - cmath.sqrt(d))/(2*a)\n",
    "\n",
    "print('first solution  is :' , sol_1)\n",
    "\n",
    "sol_2 = (-b + cmath.sqrt(d)) / (2 * a)\n",
    "print('second solution is :' , sol_2)"
   ]
  },
  {
   "cell_type": "markdown",
   "id": "dc3a9dc6",
   "metadata": {},
   "source": [
    "### 5. Write a Python program to swap two variables without temp variable?"
   ]
  },
  {
   "cell_type": "code",
   "execution_count": 8,
   "id": "fecdf5e6",
   "metadata": {},
   "outputs": [
    {
     "name": "stdout",
     "output_type": "stream",
     "text": [
      "Enter the value of x is :10\n",
      "Enter the value of y is :20\n",
      "value of x after swapping  is : 20\n",
      "value of y after swapping  is : 10\n"
     ]
    }
   ],
   "source": [
    "\n",
    "x = int(input('Enter the value of x is :' ,))\n",
    "y = int(input('Enter the value of y is :' , ))\n",
    "    \n",
    "x , y = y , x\n",
    "    \n",
    "print('value of x after swapping  is :' , x)\n",
    "print('value of y after swapping  is :' , y)"
   ]
  }
 ],
 "metadata": {
  "kernelspec": {
   "display_name": "Python 3 (ipykernel)",
   "language": "python",
   "name": "python3"
  },
  "language_info": {
   "codemirror_mode": {
    "name": "ipython",
    "version": 3
   },
   "file_extension": ".py",
   "mimetype": "text/x-python",
   "name": "python",
   "nbconvert_exporter": "python",
   "pygments_lexer": "ipython3",
   "version": "3.9.7"
  }
 },
 "nbformat": 4,
 "nbformat_minor": 5
}
