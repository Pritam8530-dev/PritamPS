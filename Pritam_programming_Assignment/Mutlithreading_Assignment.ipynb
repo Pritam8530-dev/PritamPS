{
 "cells": [
  {
   "cell_type": "markdown",
   "id": "2d32455b",
   "metadata": {},
   "source": [
    "Q.1). whhat is multithreading in python? why is it used? Name the module used to handle threads in python"
   ]
  },
  {
   "cell_type": "markdown",
   "id": "50c2f3a1",
   "metadata": {},
   "source": [
    "Ans :\n",
    "    \n",
    "    A process of running  a single process in multiple threads.\n",
    "    \n",
    "    It is use for to improve performance of program by using multiple cpu or cpu cores.\n",
    "    \n",
    "    Module used to handle threads in python is threading"
   ]
  },
  {
   "cell_type": "markdown",
   "id": "440bebd0",
   "metadata": {},
   "source": [
    "eg:"
   ]
  },
  {
   "cell_type": "code",
   "execution_count": 1,
   "id": "8614ea9c",
   "metadata": {},
   "outputs": [],
   "source": [
    "import threading"
   ]
  },
  {
   "cell_type": "markdown",
   "id": "58fb5314",
   "metadata": {},
   "source": [
    "Q.2). why threading module used? rite the use of the following functions\n",
    "\n",
    " activeCount()\n",
    "    \n",
    " currentThread()\n",
    "\n",
    " enumerate()"
   ]
  },
  {
   "cell_type": "markdown",
   "id": "ae6bbdd8",
   "metadata": {},
   "source": [
    "Ans:"
   ]
  },
  {
   "cell_type": "markdown",
   "id": "89e3d533",
   "metadata": {},
   "source": [
    "threading module is used for to improve performance of program by using multiple cpu and cpu cores."
   ]
  },
  {
   "cell_type": "markdown",
   "id": "d1d9d5df",
   "metadata": {},
   "source": [
    "1. activecount(): Returns number of thread objects that are active.\n",
    "\n",
    "2. Currentthread() : Returns the number of thread objects in callers thread control.\n",
    "\n",
    "3. enumerate() : Returns list of all thread objects that are currently active."
   ]
  },
  {
   "cell_type": "markdown",
   "id": "28ec1269",
   "metadata": {},
   "source": [
    "3. Explain the following functions:\n",
    "    \n",
    " 1.run()\n",
    " 2.start()\n",
    " 3.join()\n",
    " 4.isAlive()"
   ]
  },
  {
   "cell_type": "markdown",
   "id": "6c51ae19",
   "metadata": {},
   "source": [
    "run() : Entrypoint of thread.\n",
    "    \n",
    "start(): Start thread by calling run method.\n",
    "    \n",
    "join(): waits for threads to terminate.\n",
    "    \n",
    "isAlive(): method for check threads is still exceuting."
   ]
  },
  {
   "cell_type": "markdown",
   "id": "0e5ee5bf",
   "metadata": {},
   "source": [
    "Q.4). write a python program to create two threads. Thread one must print the list of squares and thread\n",
    "two must print the list of cubes"
   ]
  },
  {
   "cell_type": "markdown",
   "id": "c52aff4d",
   "metadata": {},
   "source": [
    "Ans:"
   ]
  },
  {
   "cell_type": "code",
   "execution_count": 14,
   "id": "a5542ffe",
   "metadata": {},
   "outputs": [
    {
     "name": "stdout",
     "output_type": "stream",
     "text": [
      "1\n",
      "4\n",
      "9\n",
      "16\n",
      "25\n",
      "36\n",
      "49\n",
      "64\n",
      "81\n",
      "100\n"
     ]
    }
   ],
   "source": [
    "def square():\n",
    "    \n",
    "    for j in range(1 , 11):\n",
    "        \n",
    "        print(j * j)\n",
    "    \n",
    "square()"
   ]
  },
  {
   "cell_type": "code",
   "execution_count": 15,
   "id": "d947ce3d",
   "metadata": {},
   "outputs": [],
   "source": [
    "import threading"
   ]
  },
  {
   "cell_type": "code",
   "execution_count": 16,
   "id": "e108c7de",
   "metadata": {},
   "outputs": [],
   "source": [
    "thread = [threading.Thread(target = square , args = (i,)) for i in range(4)]"
   ]
  },
  {
   "cell_type": "code",
   "execution_count": 17,
   "id": "c271b46c",
   "metadata": {},
   "outputs": [
    {
     "data": {
      "text/plain": [
       "[<Thread(Thread-12, initial)>,\n",
       " <Thread(Thread-13, initial)>,\n",
       " <Thread(Thread-14, initial)>,\n",
       " <Thread(Thread-15, initial)>]"
      ]
     },
     "execution_count": 17,
     "metadata": {},
     "output_type": "execute_result"
    }
   ],
   "source": [
    "thread"
   ]
  },
  {
   "cell_type": "code",
   "execution_count": 18,
   "id": "69c9c674",
   "metadata": {},
   "outputs": [
    {
     "name": "stdout",
     "output_type": "stream",
     "text": [
      "1\n",
      "4\n",
      "9\n",
      "16\n",
      "25\n",
      "36\n",
      "49\n",
      "64\n",
      "81\n",
      "100\n",
      "1\n",
      "4\n",
      "9\n",
      "16\n",
      "25\n",
      "36\n",
      "49\n",
      "641\n",
      "4\n",
      "9\n",
      "\n",
      "16\n",
      "25\n",
      "36\n",
      "49\n",
      "64\n",
      "181\n",
      "4\n",
      "9\n",
      "16\n",
      "25\n",
      "36\n",
      "49\n",
      "64\n",
      "81\n",
      "100\n",
      "\n",
      "81\n",
      "100100\n",
      "\n"
     ]
    }
   ],
   "source": [
    "for t in thread:\n",
    "    \n",
    "    t.start()\n",
    "    \n",
    "    "
   ]
  },
  {
   "cell_type": "code",
   "execution_count": 13,
   "id": "293b0201",
   "metadata": {},
   "outputs": [
    {
     "name": "stdout",
     "output_type": "stream",
     "text": [
      "1\n",
      "8\n",
      "27\n",
      "64\n",
      "125\n",
      "216\n",
      "343\n",
      "512\n",
      "729\n",
      "1000\n"
     ]
    }
   ],
   "source": [
    "def Cube(number):\n",
    "    \n",
    "    for j in range(1 , 11):\n",
    "        \n",
    "        print(j * j * j)\n",
    "        \n",
    "Cube(10)"
   ]
  },
  {
   "cell_type": "code",
   "execution_count": 14,
   "id": "32a5cfd8",
   "metadata": {},
   "outputs": [],
   "source": [
    "import threading\n",
    "thread_1 = [threading.Thread(target = Cube , args = (i,)) for i in range(4)]"
   ]
  },
  {
   "cell_type": "code",
   "execution_count": 15,
   "id": "2b36ae75",
   "metadata": {},
   "outputs": [
    {
     "data": {
      "text/plain": [
       "[<Thread(Thread-20, initial)>,\n",
       " <Thread(Thread-21, initial)>,\n",
       " <Thread(Thread-22, initial)>,\n",
       " <Thread(Thread-23, initial)>]"
      ]
     },
     "execution_count": 15,
     "metadata": {},
     "output_type": "execute_result"
    }
   ],
   "source": [
    "thread_1"
   ]
  },
  {
   "cell_type": "code",
   "execution_count": 16,
   "id": "d40e3fe0",
   "metadata": {},
   "outputs": [
    {
     "name": "stdout",
     "output_type": "stream",
     "text": [
      "1\n",
      "8\n",
      "27\n",
      "64\n",
      "125\n",
      "216\n",
      "343\n",
      "512\n",
      "729\n",
      "10001\n",
      "\n",
      "8\n",
      "1\n",
      "8\n",
      "2727\n",
      "64\n",
      "\n",
      "64\n",
      "125\n",
      "216\n",
      "343\n",
      "512\n",
      "125\n",
      "2161\n",
      "8\n",
      "27\n",
      "64\n",
      "125\n",
      "216\n",
      "343\n",
      "512\n",
      "729\n",
      "1000\n",
      "\n",
      "343\n",
      "512\n",
      "729\n",
      "1000729\n",
      "1000\n",
      "\n"
     ]
    }
   ],
   "source": [
    "for t in thread_1:\n",
    "    \n",
    "    t.start()"
   ]
  },
  {
   "cell_type": "markdown",
   "id": "a1837022",
   "metadata": {},
   "source": [
    "Q.5). State advantages and disadvantages of multithreading"
   ]
  },
  {
   "cell_type": "markdown",
   "id": "5a7f0162",
   "metadata": {},
   "source": [
    "Ans:"
   ]
  },
  {
   "cell_type": "markdown",
   "id": "4c6af141",
   "metadata": {},
   "source": [
    "Advantages:"
   ]
  },
  {
   "cell_type": "markdown",
   "id": "abdd4411",
   "metadata": {},
   "source": [
    "1.Python multithreading enables efficient utilization of the resources as the threads share the data space and memory.\n",
    "\n",
    "\n",
    "2.Multithreading in Python allows the concurrent and parallel occurrence of various tasks.\n",
    "\n",
    "\n",
    "3.It causes a reduction in time consumption or response time, thereby increasing the performance"
   ]
  },
  {
   "cell_type": "markdown",
   "id": "c82d4d95",
   "metadata": {},
   "source": [
    "Disadvantages:"
   ]
  },
  {
   "cell_type": "markdown",
   "id": "36743cc3",
   "metadata": {},
   "source": [
    "1.With more threads, the code becomes difficult to debug and maintain.\n",
    "\n",
    "2.Thread creation puts a load on the system in terms of memory and CPU resources.\n",
    "\n",
    "3.We need to do exception handling inside the worker method as any unhandled exceptions can result in the program crashing."
   ]
  },
  {
   "cell_type": "markdown",
   "id": "a0350b7f",
   "metadata": {},
   "source": [
    "Q.6). Explain deadlocks and race conditions."
   ]
  },
  {
   "cell_type": "markdown",
   "id": "b2c62e37",
   "metadata": {},
   "source": [
    "Ans:"
   ]
  },
  {
   "cell_type": "markdown",
   "id": "6b56d29e",
   "metadata": {},
   "source": [
    "Race condition :\n",
    "\n",
    "\n",
    "When two processes are competing each other causing data corruption."
   ]
  },
  {
   "cell_type": "markdown",
   "id": "b2bc7477",
   "metadata": {},
   "source": [
    "Lets consider two persons want to deposit doller 1 online in same bank account. initially amount in bank is doller 17.\n",
    "\n",
    "Both person see doller 17 initially and both want to deposite doller 1 respectively.\n",
    "\n",
    "Final amount expected is doller 19.\n",
    "\n",
    "But due to race condition , final amount is doller 18 instead of doller 19.\n",
    "\n",
    "This is called dirty read."
   ]
  },
  {
   "cell_type": "markdown",
   "id": "a38cdbf8",
   "metadata": {},
   "source": [
    "Dead Lock:"
   ]
  },
  {
   "cell_type": "markdown",
   "id": "0c32cf13",
   "metadata": {},
   "source": [
    "When two processes are waiting for each other directly or indirectly."
   ]
  },
  {
   "cell_type": "markdown",
   "id": "d9484547",
   "metadata": {},
   "source": [
    "This usually occurs when two processes are waiting for shared resources acquired by others. \n",
    "\n",
    "For example, If thread T1 acquired resource R1 and it also needs resource R2 for it to accomplish its task.\n",
    "\n",
    "But the resource R2 is acquired by thread T2 which is waiting for resource R1(which is acquired by T1).. \n",
    "\n",
    "Neither of them will be able to accomplish its task, as they keep waiting for the other resources they need."
   ]
  },
  {
   "cell_type": "code",
   "execution_count": null,
   "id": "ca39a022",
   "metadata": {},
   "outputs": [],
   "source": []
  }
 ],
 "metadata": {
  "kernelspec": {
   "display_name": "Python 3 (ipykernel)",
   "language": "python",
   "name": "python3"
  },
  "language_info": {
   "codemirror_mode": {
    "name": "ipython",
    "version": 3
   },
   "file_extension": ".py",
   "mimetype": "text/x-python",
   "name": "python",
   "nbconvert_exporter": "python",
   "pygments_lexer": "ipython3",
   "version": "3.9.7"
  }
 },
 "nbformat": 4,
 "nbformat_minor": 5
}
