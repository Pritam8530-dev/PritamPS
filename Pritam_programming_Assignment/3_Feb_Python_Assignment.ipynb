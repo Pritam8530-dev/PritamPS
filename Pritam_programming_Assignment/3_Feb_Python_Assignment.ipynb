{
 "cells": [
  {
   "cell_type": "markdown",
   "id": "f8a5a46c",
   "metadata": {},
   "source": [
    "Q1. Which keyword is used to create a function? Create a function to return a list of odd numbers in the\n",
    "range of 1 to 25."
   ]
  },
  {
   "cell_type": "markdown",
   "id": "c81f3d20",
   "metadata": {},
   "source": [
    "Ans :"
   ]
  },
  {
   "cell_type": "markdown",
   "id": "8c4bf39e",
   "metadata": {},
   "source": [
    "def is the keword used for creat function."
   ]
  },
  {
   "cell_type": "code",
   "execution_count": 1,
   "id": "d5f04ad9",
   "metadata": {},
   "outputs": [
    {
     "data": {
      "text/plain": [
       "[1, 3, 5, 7, 9, 11, 13, 15, 17, 19, 21, 23, 25]"
      ]
     },
     "execution_count": 1,
     "metadata": {},
     "output_type": "execute_result"
    }
   ],
   "source": [
    "def odd_numbers_list():\n",
    "    \n",
    "    l =[]\n",
    "    \n",
    "    for i in range(1 , 26):\n",
    "        \n",
    "        if i % 2!= 0:\n",
    "            \n",
    "            l.append(i)\n",
    "            \n",
    "    \n",
    "    return l\n",
    "\n",
    "odd_numbers_list()"
   ]
  },
  {
   "cell_type": "markdown",
   "id": "f69a8e90",
   "metadata": {},
   "source": [
    "Q2. Why *args and **kwargs is used in some functions? Create a function each for *args and **kwargs\n",
    "to demonstrate their use."
   ]
  },
  {
   "cell_type": "markdown",
   "id": "b5ca59ff",
   "metadata": {},
   "source": [
    "Ans :\n",
    "\n",
    "*args : *args is used for to take multiple or n number arguments in function . There is no any limitation of taking arguments in function when we use * args.\n",
    "    \n",
    "** kwargs : **kwargs is used for to take multiple or n number arguments in the form of key and value pair in function.There is no any limitation of taking arguments(key and value pair) in function when we use ** kwargs"
   ]
  },
  {
   "cell_type": "code",
   "execution_count": 2,
   "id": "313a5fae",
   "metadata": {},
   "outputs": [
    {
     "data": {
      "text/plain": [
       "(1, 2, 3, 4, 5, 6, 7, 8, 9, 10)"
      ]
     },
     "execution_count": 2,
     "metadata": {},
     "output_type": "execute_result"
    }
   ],
   "source": [
    "def test(*args):\n",
    "    \n",
    "    return args\n",
    "\n",
    "test(1,2,3,4,5,6,7,8,9,10)"
   ]
  },
  {
   "cell_type": "code",
   "execution_count": 6,
   "id": "ce260999",
   "metadata": {},
   "outputs": [
    {
     "data": {
      "text/plain": [
       "{'A': 'Excellent',\n",
       " 'B': 'Best',\n",
       " 'C': 'Good',\n",
       " 'D': 'Satisfactory',\n",
       " 'E': 'Disatisfactory'}"
      ]
     },
     "execution_count": 6,
     "metadata": {},
     "output_type": "execute_result"
    }
   ],
   "source": [
    "def test1(**kwargs):\n",
    "    \n",
    "    return kwargs\n",
    "\n",
    "test1(A ='Excellent',B ='Best',C ='Good',D ='Satisfactory',E ='Disatisfactory')"
   ]
  },
  {
   "cell_type": "markdown",
   "id": "55f21910",
   "metadata": {},
   "source": [
    "Q3. What is an iterator in python? Name the method used to initialise the iterator object and the method used for iteration. Use these methods to print the first five elements of the given list [2, 4, 6, 8, 10, 12, 14, 16, 18, 20]."
   ]
  },
  {
   "cell_type": "markdown",
   "id": "b82e0f4d",
   "metadata": {},
   "source": [
    "Ans :\n",
    "    \n",
    "    Iterator is It allows efficient access of elements of sequence one at a time.\n",
    "    \n",
    "    Iterator is to iterate over iterable objects in python like list , tuple , set , dictionary\n",
    "    \n",
    "    There are two methods used to initialise iterator object.\n",
    "    \n",
    "    1.iter():\n",
    "        \n",
    "        Iter is the method which is used for initialise iterator and returns iterator object.\n",
    "        \n",
    "    2.next():\n",
    "        \n",
    "        next is the method is return next value for the iterable.\n",
    "        "
   ]
  },
  {
   "cell_type": "markdown",
   "id": "22140010",
   "metadata": {},
   "source": [
    "Iter():"
   ]
  },
  {
   "cell_type": "code",
   "execution_count": 12,
   "id": "2f43da18",
   "metadata": {},
   "outputs": [
    {
     "name": "stdout",
     "output_type": "stream",
     "text": [
      "2\n",
      "4\n",
      "6\n",
      "8\n",
      "10\n"
     ]
    }
   ],
   "source": [
    "def test4(l):\n",
    "    \n",
    "    for i in range(len(l)):\n",
    "        \n",
    "        print(l[i])\n",
    "        \n",
    "        if i == 4:\n",
    "            \n",
    "            break\n",
    "            \n",
    "l =[2, 4, 6, 8, 10, 12, 14, 16, 18, 20]\n",
    "\n",
    "test4(l)"
   ]
  },
  {
   "cell_type": "markdown",
   "id": "4e5625f9",
   "metadata": {},
   "source": [
    "next():"
   ]
  },
  {
   "cell_type": "code",
   "execution_count": 33,
   "id": "4d9137be",
   "metadata": {},
   "outputs": [
    {
     "data": {
      "text/plain": [
       "3"
      ]
     },
     "execution_count": 33,
     "metadata": {},
     "output_type": "execute_result"
    }
   ],
   "source": [
    "def generator():\n",
    "    \n",
    "    yield 1\n",
    "    yield 2\n",
    "    yield 3\n",
    "    \n",
    "x = generator()\n",
    "\n",
    "next(x)\n",
    "next(x)\n",
    "next(x)"
   ]
  },
  {
   "cell_type": "markdown",
   "id": "36dda16a",
   "metadata": {},
   "source": [
    "Q4. What is a generator function in python? Why yield keyword is used? Give an example of a generator\n",
    "function."
   ]
  },
  {
   "cell_type": "markdown",
   "id": "6a746043",
   "metadata": {},
   "source": [
    "Ans:"
   ]
  },
  {
   "cell_type": "markdown",
   "id": "86791798",
   "metadata": {},
   "source": [
    "Generator is the normal function in python. It is defined with def keyword. \n",
    "\n",
    "Generator is the generate sequence of values.\n",
    "\n",
    "It has keyword called 'Yield'.\n",
    "\n",
    "Yield is the keyword who returns the value as like return keyword\n",
    "\n",
    "next() is also method to iterate the values. "
   ]
  },
  {
   "cell_type": "code",
   "execution_count": 43,
   "id": "38978609",
   "metadata": {},
   "outputs": [
    {
     "data": {
      "text/plain": [
       "'MLops'"
      ]
     },
     "execution_count": 43,
     "metadata": {},
     "output_type": "execute_result"
    }
   ],
   "source": [
    "def Generator_1():\n",
    "    \n",
    "    yield 'Pyhon'\n",
    "    \n",
    "    yield 'Data Science'\n",
    "    \n",
    "    yield 'Machine Learning'\n",
    "    \n",
    "    yield 'Deep Learning'\n",
    "    \n",
    "    yield 'NLP'\n",
    "    \n",
    "    yield 'Computer Vision'\n",
    "    \n",
    "    yield 'MLops'\n",
    "    \n",
    "    \n",
    "x = Generator_1()\n",
    "\n",
    "next(x)\n",
    "next(x)\n",
    "next(x)\n",
    "next(x)\n",
    "next(x)\n",
    "next(x)\n",
    "next(x)"
   ]
  },
  {
   "cell_type": "markdown",
   "id": "72e98ffe",
   "metadata": {},
   "source": [
    "Q5. Create a generator function for prime numbers less than 1000. Use the next() method to print the\n",
    "first 20 prime numbers."
   ]
  },
  {
   "cell_type": "markdown",
   "id": "415c8190",
   "metadata": {},
   "source": [
    "Ans :"
   ]
  },
  {
   "cell_type": "code",
   "execution_count": 57,
   "id": "213d48ad",
   "metadata": {},
   "outputs": [
    {
     "data": {
      "text/plain": [
       "[2, 3, 5, 7, 11, 13, 17, 19, 23, 29, 31, 37, 41, 43, 47, 53, 59, 61, 67, 71]"
      ]
     },
     "execution_count": 57,
     "metadata": {},
     "output_type": "execute_result"
    }
   ],
   "source": [
    "def generator_prime():\n",
    "    \n",
    "    n = 1001\n",
    "    \n",
    "    for i in range(2, n):\n",
    "        \n",
    "        for j in range(2 ,i):\n",
    "            \n",
    "            if i % j == 0 :\n",
    "                \n",
    "                break\n",
    "                \n",
    "        else:\n",
    "            \n",
    "            yield i\n",
    "            \n",
    "    \n",
    "y = generator_prime()\n",
    "\n",
    "[next(y) for i in range(1 , 21)]"
   ]
  },
  {
   "cell_type": "markdown",
   "id": "c0bcac45",
   "metadata": {},
   "source": [
    "Q6. Write a python program to print the first 10 Fibonacci numbers using a while loop."
   ]
  },
  {
   "cell_type": "markdown",
   "id": "fa0ca3a6",
   "metadata": {},
   "source": [
    "Ans :"
   ]
  },
  {
   "cell_type": "code",
   "execution_count": 63,
   "id": "4ab0577f",
   "metadata": {},
   "outputs": [
    {
     "name": "stdout",
     "output_type": "stream",
     "text": [
      "0\n",
      "1\n",
      "1\n",
      "2\n",
      "3\n",
      "5\n",
      "8\n",
      "13\n",
      "21\n",
      "34\n",
      "55\n",
      "89\n"
     ]
    }
   ],
   "source": [
    "def fibonacci():\n",
    "    \n",
    "    a , b = 0 , 1\n",
    "    \n",
    "    i = 0\n",
    "    \n",
    "    while i < 12 :\n",
    "        \n",
    "        print(a)\n",
    "        \n",
    "        c = a + b \n",
    "        \n",
    "        a = b\n",
    "        b = c\n",
    "        \n",
    "        i = i + 1\n",
    "        \n",
    "fibonacci()"
   ]
  },
  {
   "cell_type": "markdown",
   "id": "870e029e",
   "metadata": {},
   "source": [
    "Q7. Write a List Comprehension to iterate through the given string: ‘pwskills’.\n",
    "Expected output: ['p', 'w', 's', 'k', 'i', 'l', 'l', 's']"
   ]
  },
  {
   "cell_type": "markdown",
   "id": "9eb75721",
   "metadata": {},
   "source": [
    "Ans :"
   ]
  },
  {
   "cell_type": "code",
   "execution_count": 70,
   "id": "f93a64a4",
   "metadata": {},
   "outputs": [
    {
     "data": {
      "text/plain": [
       "['p', 'w', 's', 'k', 'i', 'l', 'l', 's']"
      ]
     },
     "execution_count": 70,
     "metadata": {},
     "output_type": "execute_result"
    }
   ],
   "source": [
    "s = 'pwskills'\n",
    "\n",
    "[i for i in s]"
   ]
  },
  {
   "cell_type": "markdown",
   "id": "128bfbd4",
   "metadata": {},
   "source": [
    "OR"
   ]
  },
  {
   "cell_type": "code",
   "execution_count": 73,
   "id": "2f283015",
   "metadata": {},
   "outputs": [
    {
     "data": {
      "text/plain": [
       "['p', 'w', 's', 'k', 'i', 'l', 'l', 's']"
      ]
     },
     "execution_count": 73,
     "metadata": {},
     "output_type": "execute_result"
    }
   ],
   "source": [
    "[i for i in 'pwskills']"
   ]
  },
  {
   "cell_type": "markdown",
   "id": "f3fb6d75",
   "metadata": {},
   "source": [
    "Q8. Write a python program to check whether a given number is Palindrome or not using a while loop."
   ]
  },
  {
   "cell_type": "code",
   "execution_count": 102,
   "id": "bacfb131",
   "metadata": {},
   "outputs": [
    {
     "name": "stdout",
     "output_type": "stream",
     "text": [
      "121\n",
      "Yes palindrome\n"
     ]
    }
   ],
   "source": [
    "def palindrome_number(n):\n",
    "    \n",
    "    temp = n\n",
    "    \n",
    "    rev = 0\n",
    "    \n",
    "    while n > 0 :\n",
    "        \n",
    "        digit = n % 10 \n",
    "        \n",
    "        rev = rev * 10 + digit \n",
    "        \n",
    "        n = n // 10\n",
    "        \n",
    "        \n",
    "    if temp == rev :\n",
    "        \n",
    "        print('Yes palindrome')\n",
    "        \n",
    "    else:\n",
    "        print('Not palindrome')\n",
    "n = int(input())\n",
    "palindrome_number(n)"
   ]
  },
  {
   "cell_type": "markdown",
   "id": "8d86b302",
   "metadata": {},
   "source": [
    "Q9. Write a code to print odd numbers from 1 to 100 using list comprehension."
   ]
  },
  {
   "cell_type": "markdown",
   "id": "cde929fe",
   "metadata": {},
   "source": [
    "Ans :"
   ]
  },
  {
   "cell_type": "code",
   "execution_count": 106,
   "id": "8de5147d",
   "metadata": {},
   "outputs": [],
   "source": [
    "l = [i for i in range(1 , 101)]"
   ]
  },
  {
   "cell_type": "code",
   "execution_count": 109,
   "id": "7bf47c68",
   "metadata": {},
   "outputs": [
    {
     "data": {
      "text/plain": [
       "[1,\n",
       " 2,\n",
       " 3,\n",
       " 4,\n",
       " 5,\n",
       " 6,\n",
       " 7,\n",
       " 8,\n",
       " 9,\n",
       " 10,\n",
       " 11,\n",
       " 12,\n",
       " 13,\n",
       " 14,\n",
       " 15,\n",
       " 16,\n",
       " 17,\n",
       " 18,\n",
       " 19,\n",
       " 20,\n",
       " 21,\n",
       " 22,\n",
       " 23,\n",
       " 24,\n",
       " 25,\n",
       " 26,\n",
       " 27,\n",
       " 28,\n",
       " 29,\n",
       " 30,\n",
       " 31,\n",
       " 32,\n",
       " 33,\n",
       " 34,\n",
       " 35,\n",
       " 36,\n",
       " 37,\n",
       " 38,\n",
       " 39,\n",
       " 40,\n",
       " 41,\n",
       " 42,\n",
       " 43,\n",
       " 44,\n",
       " 45,\n",
       " 46,\n",
       " 47,\n",
       " 48,\n",
       " 49,\n",
       " 50,\n",
       " 51,\n",
       " 52,\n",
       " 53,\n",
       " 54,\n",
       " 55,\n",
       " 56,\n",
       " 57,\n",
       " 58,\n",
       " 59,\n",
       " 60,\n",
       " 61,\n",
       " 62,\n",
       " 63,\n",
       " 64,\n",
       " 65,\n",
       " 66,\n",
       " 67,\n",
       " 68,\n",
       " 69,\n",
       " 70,\n",
       " 71,\n",
       " 72,\n",
       " 73,\n",
       " 74,\n",
       " 75,\n",
       " 76,\n",
       " 77,\n",
       " 78,\n",
       " 79,\n",
       " 80,\n",
       " 81,\n",
       " 82,\n",
       " 83,\n",
       " 84,\n",
       " 85,\n",
       " 86,\n",
       " 87,\n",
       " 88,\n",
       " 89,\n",
       " 90,\n",
       " 91,\n",
       " 92,\n",
       " 93,\n",
       " 94,\n",
       " 95,\n",
       " 96,\n",
       " 97,\n",
       " 98,\n",
       " 99,\n",
       " 100]"
      ]
     },
     "execution_count": 109,
     "metadata": {},
     "output_type": "execute_result"
    }
   ],
   "source": [
    "l"
   ]
  },
  {
   "cell_type": "code",
   "execution_count": 108,
   "id": "ee6de5ad",
   "metadata": {},
   "outputs": [
    {
     "data": {
      "text/plain": [
       "[1,\n",
       " 3,\n",
       " 5,\n",
       " 7,\n",
       " 9,\n",
       " 11,\n",
       " 13,\n",
       " 15,\n",
       " 17,\n",
       " 19,\n",
       " 21,\n",
       " 23,\n",
       " 25,\n",
       " 27,\n",
       " 29,\n",
       " 31,\n",
       " 33,\n",
       " 35,\n",
       " 37,\n",
       " 39,\n",
       " 41,\n",
       " 43,\n",
       " 45,\n",
       " 47,\n",
       " 49,\n",
       " 51,\n",
       " 53,\n",
       " 55,\n",
       " 57,\n",
       " 59,\n",
       " 61,\n",
       " 63,\n",
       " 65,\n",
       " 67,\n",
       " 69,\n",
       " 71,\n",
       " 73,\n",
       " 75,\n",
       " 77,\n",
       " 79,\n",
       " 81,\n",
       " 83,\n",
       " 85,\n",
       " 87,\n",
       " 89,\n",
       " 91,\n",
       " 93,\n",
       " 95,\n",
       " 97,\n",
       " 99]"
      ]
     },
     "execution_count": 108,
     "metadata": {},
     "output_type": "execute_result"
    }
   ],
   "source": [
    "[j for j in l if j % 2 != 0]"
   ]
  },
  {
   "cell_type": "code",
   "execution_count": null,
   "id": "de97911a",
   "metadata": {},
   "outputs": [],
   "source": []
  }
 ],
 "metadata": {
  "kernelspec": {
   "display_name": "Python 3 (ipykernel)",
   "language": "python",
   "name": "python3"
  },
  "language_info": {
   "codemirror_mode": {
    "name": "ipython",
    "version": 3
   },
   "file_extension": ".py",
   "mimetype": "text/x-python",
   "name": "python",
   "nbconvert_exporter": "python",
   "pygments_lexer": "ipython3",
   "version": "3.9.7"
  }
 },
 "nbformat": 4,
 "nbformat_minor": 5
}
