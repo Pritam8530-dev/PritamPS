{
 "cells": [
  {
   "cell_type": "markdown",
   "id": "f2f51e45",
   "metadata": {},
   "source": [
    "#### Q1: What is Estimation Statistics? Explain point estimate and interval estimate ?"
   ]
  },
  {
   "cell_type": "markdown",
   "id": "dc8efa99",
   "metadata": {},
   "source": [
    "Ans:"
   ]
  },
  {
   "cell_type": "markdown",
   "id": "690fe61c",
   "metadata": {},
   "source": [
    "Estimate is the observed numerical value is used to to estimate unknown population parameter.\n",
    "\n",
    "\n",
    "Type of Estimation :\n",
    "    \n",
    "    1.single Estimate :\n",
    "        \n",
    "        A single numerical value is used to estimate unknown population parameter.\n",
    "        \n",
    "        eg : You have population data . You collected samples from it and make sample data . sample mean is the point\n",
    "            \n",
    "             estimate to population mean.\n",
    "        \n",
    "        \n",
    "    2.Iterval estimate :\n",
    "        \n",
    "        Range of values is used to estimate unknown population parameter.\n",
    "        \n",
    "        Interval estimate is also known as confidence Interval."
   ]
  },
  {
   "cell_type": "markdown",
   "id": "e8fb1d98",
   "metadata": {},
   "source": [
    "#### Q2. Write a Python function to estimate the population mean using a sample mean and standard deviation."
   ]
  },
  {
   "cell_type": "markdown",
   "id": "efdd8667",
   "metadata": {},
   "source": [
    "Ans:"
   ]
  },
  {
   "cell_type": "code",
   "execution_count": 113,
   "id": "9e9ab69b",
   "metadata": {},
   "outputs": [],
   "source": [
    "import numpy as np\n",
    "import seaborn as sns\n",
    "import statistics as stat"
   ]
  },
  {
   "cell_type": "code",
   "execution_count": 114,
   "id": "7c1e83b0",
   "metadata": {},
   "outputs": [],
   "source": [
    "df = sns.load_dataset('titanic')"
   ]
  },
  {
   "cell_type": "code",
   "execution_count": 115,
   "id": "f8e22253",
   "metadata": {},
   "outputs": [],
   "source": [
    "df=df[['age' , 'sex']]"
   ]
  },
  {
   "cell_type": "code",
   "execution_count": 116,
   "id": "424c476c",
   "metadata": {},
   "outputs": [
    {
     "data": {
      "text/html": [
       "<div>\n",
       "<style scoped>\n",
       "    .dataframe tbody tr th:only-of-type {\n",
       "        vertical-align: middle;\n",
       "    }\n",
       "\n",
       "    .dataframe tbody tr th {\n",
       "        vertical-align: top;\n",
       "    }\n",
       "\n",
       "    .dataframe thead th {\n",
       "        text-align: right;\n",
       "    }\n",
       "</style>\n",
       "<table border=\"1\" class=\"dataframe\">\n",
       "  <thead>\n",
       "    <tr style=\"text-align: right;\">\n",
       "      <th></th>\n",
       "      <th>age</th>\n",
       "      <th>sex</th>\n",
       "    </tr>\n",
       "  </thead>\n",
       "  <tbody>\n",
       "    <tr>\n",
       "      <th>0</th>\n",
       "      <td>22.0</td>\n",
       "      <td>male</td>\n",
       "    </tr>\n",
       "    <tr>\n",
       "      <th>1</th>\n",
       "      <td>38.0</td>\n",
       "      <td>female</td>\n",
       "    </tr>\n",
       "    <tr>\n",
       "      <th>2</th>\n",
       "      <td>26.0</td>\n",
       "      <td>female</td>\n",
       "    </tr>\n",
       "    <tr>\n",
       "      <th>3</th>\n",
       "      <td>35.0</td>\n",
       "      <td>female</td>\n",
       "    </tr>\n",
       "    <tr>\n",
       "      <th>4</th>\n",
       "      <td>35.0</td>\n",
       "      <td>male</td>\n",
       "    </tr>\n",
       "    <tr>\n",
       "      <th>...</th>\n",
       "      <td>...</td>\n",
       "      <td>...</td>\n",
       "    </tr>\n",
       "    <tr>\n",
       "      <th>886</th>\n",
       "      <td>27.0</td>\n",
       "      <td>male</td>\n",
       "    </tr>\n",
       "    <tr>\n",
       "      <th>887</th>\n",
       "      <td>19.0</td>\n",
       "      <td>female</td>\n",
       "    </tr>\n",
       "    <tr>\n",
       "      <th>888</th>\n",
       "      <td>NaN</td>\n",
       "      <td>female</td>\n",
       "    </tr>\n",
       "    <tr>\n",
       "      <th>889</th>\n",
       "      <td>26.0</td>\n",
       "      <td>male</td>\n",
       "    </tr>\n",
       "    <tr>\n",
       "      <th>890</th>\n",
       "      <td>32.0</td>\n",
       "      <td>male</td>\n",
       "    </tr>\n",
       "  </tbody>\n",
       "</table>\n",
       "<p>891 rows × 2 columns</p>\n",
       "</div>"
      ],
      "text/plain": [
       "      age     sex\n",
       "0    22.0    male\n",
       "1    38.0  female\n",
       "2    26.0  female\n",
       "3    35.0  female\n",
       "4    35.0    male\n",
       "..    ...     ...\n",
       "886  27.0    male\n",
       "887  19.0  female\n",
       "888   NaN  female\n",
       "889  26.0    male\n",
       "890  32.0    male\n",
       "\n",
       "[891 rows x 2 columns]"
      ]
     },
     "execution_count": 116,
     "metadata": {},
     "output_type": "execute_result"
    }
   ],
   "source": [
    "df"
   ]
  },
  {
   "cell_type": "code",
   "execution_count": 117,
   "id": "246a0005",
   "metadata": {},
   "outputs": [
    {
     "data": {
      "text/plain": [
       "<AxesSubplot:>"
      ]
     },
     "execution_count": 117,
     "metadata": {},
     "output_type": "execute_result"
    },
    {
     "data": {
      "image/png": "[encoded data removed]",
      "text/plain": [
       "<Figure size 432x288 with 1 Axes>"
      ]
     },
     "metadata": {
      "needs_background": "light"
     },
     "output_type": "display_data"
    }
   ],
   "source": [
    "df.boxplot()"
   ]
  },
  {
   "cell_type": "code",
   "execution_count": 118,
   "id": "d5951d89",
   "metadata": {},
   "outputs": [
    {
     "data": {
      "text/plain": [
       "<AxesSubplot:xlabel='age'>"
      ]
     },
     "execution_count": 118,
     "metadata": {},
     "output_type": "execute_result"
    },
    {
     "data": {
      "image/png": "[encoded data removed]",
      "text/plain": [
       "<Figure size 432x288 with 1 Axes>"
      ]
     },
     "metadata": {
      "needs_background": "light"
     },
     "output_type": "display_data"
    }
   ],
   "source": [
    "import warnings\n",
    "warnings.filterwarnings('ignore')\n",
    "sns.boxplot(df['age'])"
   ]
  },
  {
   "cell_type": "code",
   "execution_count": 119,
   "id": "2bea54da",
   "metadata": {},
   "outputs": [
    {
     "data": {
      "text/plain": [
       "177"
      ]
     },
     "execution_count": 119,
     "metadata": {},
     "output_type": "execute_result"
    }
   ],
   "source": [
    "df['age'].isnull().sum()"
   ]
  },
  {
   "cell_type": "code",
   "execution_count": 120,
   "id": "51348db8",
   "metadata": {},
   "outputs": [],
   "source": [
    "df['age'] = df['age'].fillna(np.mean(df['age']))"
   ]
  },
  {
   "cell_type": "code",
   "execution_count": 121,
   "id": "c2e12444",
   "metadata": {},
   "outputs": [
    {
     "data": {
      "text/html": [
       "<div>\n",
       "<style scoped>\n",
       "    .dataframe tbody tr th:only-of-type {\n",
       "        vertical-align: middle;\n",
       "    }\n",
       "\n",
       "    .dataframe tbody tr th {\n",
       "        vertical-align: top;\n",
       "    }\n",
       "\n",
       "    .dataframe thead th {\n",
       "        text-align: right;\n",
       "    }\n",
       "</style>\n",
       "<table border=\"1\" class=\"dataframe\">\n",
       "  <thead>\n",
       "    <tr style=\"text-align: right;\">\n",
       "      <th></th>\n",
       "      <th>age</th>\n",
       "      <th>sex</th>\n",
       "    </tr>\n",
       "  </thead>\n",
       "  <tbody>\n",
       "    <tr>\n",
       "      <th>0</th>\n",
       "      <td>22.000000</td>\n",
       "      <td>male</td>\n",
       "    </tr>\n",
       "    <tr>\n",
       "      <th>1</th>\n",
       "      <td>38.000000</td>\n",
       "      <td>female</td>\n",
       "    </tr>\n",
       "    <tr>\n",
       "      <th>2</th>\n",
       "      <td>26.000000</td>\n",
       "      <td>female</td>\n",
       "    </tr>\n",
       "    <tr>\n",
       "      <th>3</th>\n",
       "      <td>35.000000</td>\n",
       "      <td>female</td>\n",
       "    </tr>\n",
       "    <tr>\n",
       "      <th>4</th>\n",
       "      <td>35.000000</td>\n",
       "      <td>male</td>\n",
       "    </tr>\n",
       "    <tr>\n",
       "      <th>...</th>\n",
       "      <td>...</td>\n",
       "      <td>...</td>\n",
       "    </tr>\n",
       "    <tr>\n",
       "      <th>886</th>\n",
       "      <td>27.000000</td>\n",
       "      <td>male</td>\n",
       "    </tr>\n",
       "    <tr>\n",
       "      <th>887</th>\n",
       "      <td>19.000000</td>\n",
       "      <td>female</td>\n",
       "    </tr>\n",
       "    <tr>\n",
       "      <th>888</th>\n",
       "      <td>29.699118</td>\n",
       "      <td>female</td>\n",
       "    </tr>\n",
       "    <tr>\n",
       "      <th>889</th>\n",
       "      <td>26.000000</td>\n",
       "      <td>male</td>\n",
       "    </tr>\n",
       "    <tr>\n",
       "      <th>890</th>\n",
       "      <td>32.000000</td>\n",
       "      <td>male</td>\n",
       "    </tr>\n",
       "  </tbody>\n",
       "</table>\n",
       "<p>891 rows × 2 columns</p>\n",
       "</div>"
      ],
      "text/plain": [
       "           age     sex\n",
       "0    22.000000    male\n",
       "1    38.000000  female\n",
       "2    26.000000  female\n",
       "3    35.000000  female\n",
       "4    35.000000    male\n",
       "..         ...     ...\n",
       "886  27.000000    male\n",
       "887  19.000000  female\n",
       "888  29.699118  female\n",
       "889  26.000000    male\n",
       "890  32.000000    male\n",
       "\n",
       "[891 rows x 2 columns]"
      ]
     },
     "execution_count": 121,
     "metadata": {},
     "output_type": "execute_result"
    }
   ],
   "source": [
    "df"
   ]
  },
  {
   "cell_type": "code",
   "execution_count": 122,
   "id": "c5bdace2",
   "metadata": {},
   "outputs": [
    {
     "data": {
      "text/plain": [
       "0"
      ]
     },
     "execution_count": 122,
     "metadata": {},
     "output_type": "execute_result"
    }
   ],
   "source": [
    "df['age'].isnull().sum()"
   ]
  },
  {
   "cell_type": "markdown",
   "id": "770454c1",
   "metadata": {},
   "source": [
    "#### The statistics.pstdev() method calculates the standard deviation from an entire population."
   ]
  },
  {
   "cell_type": "code",
   "execution_count": 123,
   "id": "cb4ad385",
   "metadata": {},
   "outputs": [],
   "source": [
    "def sample_mean_std():\n",
    "    \n",
    "    print('smaple mean is :' ,np.mean(df['age']))\n",
    "    \n",
    "    print('sample std is :' , np.std(df['age']))\n",
    "    \n",
    "    print('population mean is :' , stat.mean(df['age']))\n",
    "    \n",
    "    print('population std is :' , stat.pstdev(df['age']))"
   ]
  },
  {
   "cell_type": "code",
   "execution_count": 124,
   "id": "2d005c3a",
   "metadata": {},
   "outputs": [
    {
     "name": "stdout",
     "output_type": "stream",
     "text": [
      "smaple mean is : 29.699117647058763\n",
      "sample std is : 12.994716872789033\n",
      "population mean is : 29.699117647058824\n",
      "population std is : 12.994716872789033\n"
     ]
    }
   ],
   "source": [
    "sample_mean_std()"
   ]
  },
  {
   "cell_type": "markdown",
   "id": "c06d89b9",
   "metadata": {},
   "source": [
    "#### Q3: What is Hypothesis testing? Why is it used? State the importance of Hypothesis testing."
   ]
  },
  {
   "cell_type": "markdown",
   "id": "aaa6e780",
   "metadata": {},
   "source": [
    "Ans:"
   ]
  },
  {
   "cell_type": "markdown",
   "id": "3fdc8ac1",
   "metadata": {},
   "source": [
    "The purpose of statistical inference is to draw conclusions about a population on the \n",
    "\n",
    "basis of data obtained from a sample of that population. \n",
    "\n",
    "Hypothesis testing is the process used to evaluate the strength of evidence from the \n",
    "\n",
    "sample and provides a framework for making determinations related to the population"
   ]
  },
  {
   "cell_type": "markdown",
   "id": "dc6ccd09",
   "metadata": {},
   "source": [
    "Hypothesis testing is type of infrential statistics. so it come on specific consclusion .\n",
    "\n",
    "Hypothesis testing has two type :\n",
    "    \n",
    "    1.Null Hypothesis (H0)\n",
    "    \n",
    "    2.Alternate Hypothesis(H1)\n",
    "    \n",
    "    \n",
    "steps of Hypothesis testing:\n",
    "    \n",
    "    1.Null Hypothesis(H0):\n",
    "        \n",
    "        Assumption :\n",
    "            \n",
    "            You are begining with\n",
    "            \n",
    "            \n",
    "    2.Alternate Hypothesis(H1):\n",
    "        \n",
    "        Assumption :\n",
    "            \n",
    "            Opposite / Inverse of null hypothesis.\n",
    "            \n",
    "            \n",
    "            \n",
    "            \n",
    "    3.Experiments:\n",
    "        \n",
    "        like Z test , p value\n",
    "        \n",
    "        \n",
    "    conclusion:\n",
    "        \n",
    "        whethere we reject null hypothesis or accept null hypothesis."
   ]
  },
  {
   "cell_type": "markdown",
   "id": "2e4b06dd",
   "metadata": {},
   "source": [
    "eg:\n",
    "    person in crime case\n",
    "    \n",
    "    steps of Hypothesis testing:\n",
    "    \n",
    "    1.Null Hypothesis(H0):\n",
    "        \n",
    "        Assumption :\n",
    "            \n",
    "            person is innocent\n",
    "            \n",
    "            \n",
    "    2.Alternate Hypothesis(H1):\n",
    "        \n",
    "        Assumption :\n",
    "            \n",
    "            person is culprit\n",
    "            \n",
    "            \n",
    "            \n",
    "            \n",
    "    3.Experiments:\n",
    "        \n",
    "        Evaluate evidences like DNA Test , Figureprints.\n",
    "        \n",
    "        \n",
    "    conclusion:\n",
    "        \n",
    "        whethere we reject null hypothesis or accept null hypothesis."
   ]
  },
  {
   "cell_type": "markdown",
   "id": "5915d5fb",
   "metadata": {},
   "source": [
    "#### Q4. Create a hypothesis that states whether the average weight of male college students is greater than the average weight of female college students."
   ]
  },
  {
   "cell_type": "markdown",
   "id": "e29d0c13",
   "metadata": {},
   "source": [
    "Ans:"
   ]
  },
  {
   "cell_type": "markdown",
   "id": "343efeb0",
   "metadata": {},
   "source": [
    "1.Null Hypothesis(H0):\n",
    "    \n",
    "    Assumption :\n",
    "        \n",
    "        Average weight of male students is greater than the average weight of female college students.\n",
    "        \n",
    "        \n",
    "2.Alternate Hypothesis(H1):\n",
    "    \n",
    "    Assumption :\n",
    "        \n",
    "        Average weight of male students is not greater than the average weight of female college students.\n",
    "        \n",
    "        \n",
    "3.Experiment:\n",
    "    \n",
    "    mean height of boys = 168cm\n",
    "    std = 3.9\n",
    "    n = 36\n",
    "    sample mean height of girls = 169.5 cm\n",
    "    \n",
    "    C.I = 1 - alpha\n",
    "    \n",
    "        = 1 - 0.05\n",
    "        \n",
    "    C.I = 0.05\n",
    "    \n",
    "    \n",
    "    \n",
    "Decision Boundry :\n",
    "    \n",
    "    Its one tail test , because its say greater than ,\n",
    "    \n",
    "    Z test = 2.31  (from formula)\n",
    "    \n",
    "    2.31 value in z table is 0.98956\n",
    "    \n",
    "    1 - 0.98956\n",
    "    \n",
    "    = 0.01044\n",
    "    \n",
    "    p value = 0.01044\n",
    "    \n",
    "    so , p value < 0.05 , Then Reject the null hypothesis.\n",
    "    \n",
    "    \n",
    "conclusion : \n",
    "    \n",
    "    Average weight of male students is not greater than the average weight of female college students."
   ]
  },
  {
   "cell_type": "markdown",
   "id": "8c084494",
   "metadata": {},
   "source": [
    "#### Q6: What is a null and alternative hypothesis? Give some example?"
   ]
  },
  {
   "cell_type": "markdown",
   "id": "97f25280",
   "metadata": {},
   "source": [
    "Ans:"
   ]
  },
  {
   "cell_type": "markdown",
   "id": "b46953dc",
   "metadata": {},
   "source": [
    "1.Null Hypothesis(H0):\n",
    "\n",
    "Assumption :\n",
    "\n",
    "    Average weight of male students is greater than the average weight of female college students.\n",
    "\n",
    "2.Alternate Hypothesis(H1):\n",
    "\n",
    "Assumption :\n",
    "\n",
    "    Average weight of male students is not greater than the average weight of female college students.\n",
    "\n",
    "3.Experiment:\n",
    "\n",
    "mean height of boys = 168cm\n",
    "std = 3.9\n",
    "n = 36\n",
    "sample mean height of girls = 169.5 cm\n",
    "\n",
    "C.I = 1 - alpha\n",
    "\n",
    "    = 1 - 0.05\n",
    "\n",
    "C.I = 0.05\n",
    "\n",
    "Decision Boundry :\n",
    "\n",
    "Its one tail test , because its say greater than ,\n",
    "\n",
    "Z test = 2.31  (from formula)\n",
    "\n",
    "2.31 value in z table is 0.98956\n",
    "\n",
    "1 - 0.98956\n",
    "\n",
    "= 0.01044\n",
    "\n",
    "p value = 0.01044\n",
    "\n",
    "so , p value < 0.05 , Then Reject the null hypothesis.\n",
    "\n",
    "conclusion :\n",
    "\n",
    "Average weight of male students is not greater than the average weight of female college students."
   ]
  },
  {
   "cell_type": "markdown",
   "id": "09ab7970",
   "metadata": {},
   "source": [
    "#### Q7: Write down the steps involved in hypothesis testing."
   ]
  },
  {
   "cell_type": "markdown",
   "id": "b2aa2e98",
   "metadata": {},
   "source": [
    "Ans:"
   ]
  },
  {
   "cell_type": "markdown",
   "id": "e9390c09",
   "metadata": {},
   "source": [
    "Hypothesis testing is type of infrential statistics. so it come on specific consclusion .\n",
    "\n",
    "Hypothesis testing has two type :\n",
    "\n",
    "1.Null Hypothesis (H0)\n",
    "\n",
    "2.Alternate Hypothesis(H1)\n",
    "\n",
    "steps of Hypothesis testing:\n",
    "\n",
    "1.Null Hypothesis(H0):\n",
    "\n",
    "    Assumption :\n",
    "\n",
    "        You are begining with\n",
    "\n",
    "\n",
    "2.Alternate Hypothesis(H1):\n",
    "\n",
    "    Assumption :\n",
    "\n",
    "        Opposite / Inverse of null hypothesis.\n",
    "\n",
    "\n",
    "\n",
    "\n",
    "3.Experiments:\n",
    "\n",
    "    like Z test , p value\n",
    "\n",
    "\n",
    "conclusion:\n",
    "\n",
    "    whethere we reject null hypothesis or accept null hypothesis.\n",
    "\n",
    "eg: person in crime case\n",
    "\n",
    "steps of Hypothesis testing:\n",
    "\n",
    "1.Null Hypothesis(H0):\n",
    "\n",
    "    Assumption :\n",
    "\n",
    "        person is innocent\n",
    "\n",
    "\n",
    "2.Alternate Hypothesis(H1):\n",
    "\n",
    "    Assumption :\n",
    "\n",
    "        person is culprit\n",
    "\n",
    "\n",
    "\n",
    "\n",
    "3.Experiments:\n",
    "\n",
    "    Evaluate evidences like DNA Test , Figureprints.\n",
    "\n",
    "\n",
    "4.conclusion:\n",
    "\n",
    "    whethere we reject null hypothesis or accept null hypothesis."
   ]
  },
  {
   "cell_type": "markdown",
   "id": "194441da",
   "metadata": {},
   "source": [
    "#### Q8. Define p-value and explain its significance in hypothesis testing."
   ]
  },
  {
   "cell_type": "markdown",
   "id": "eef311f3",
   "metadata": {},
   "source": [
    "Ans:"
   ]
  },
  {
   "cell_type": "markdown",
   "id": "b6abca57",
   "metadata": {},
   "source": [
    "P value :\n",
    "    \n",
    "    P value is the number , it calculate from statistical test . \n",
    "    \n",
    "    P value is used  in hypothesis testing to decide whether reject the null hypothesis.\n",
    "    \n",
    "    eg:\n",
    "        \n",
    "        coin is fair or not (100 tossess)\n",
    "        \n",
    "        \n",
    "        \n",
    "    Null hypothesis :\n",
    "        \n",
    "        Assumption :  Coin is fair\n",
    "            \n",
    "            \n",
    "    Alternate hypothesis :  \n",
    "        \n",
    "        Assumption : Coin is unfair / not fair.\n",
    "            \n",
    "            \n",
    "            \n",
    "    Experiments:\n",
    "        \n",
    "        \n",
    "        Lets consider confidence interval is between 30 to 70.\n",
    "        \n",
    "        mean = 50\n",
    "        \n",
    "        std = 10\n",
    "        \n",
    "        on x axis no. of heads\n",
    "        \n",
    "        \n",
    "        C.I = 1 - alpha\n",
    "        \n",
    "        alpha = 0.05\n",
    "        \n",
    "           = 1 - 0.05\n",
    "            \n",
    "        C.I = 0.95\n",
    "        \n",
    "        \n",
    "        Now , \n",
    "        \n",
    "         if no.of tosses < 30 then coin is unfair.\n",
    "            \n",
    "         if no.of tosses > 70 then coin is unfair.\n",
    "        \n",
    "         if   30 > no. of tosses < 70 then coin is fair.\n",
    "            \n",
    "            \n",
    "         coin fair area under curve is (C.I) = 95 %\n",
    "        \n",
    "         coin unfair area under curve is 5 % (rejection region)\n",
    "            \n",
    "            \n",
    "        if consider our p value is 0.01\n",
    "        \n",
    "        if p value < signifance value (alpha) then reject null hypothesis.\n",
    "        \n",
    "        else Fail to reject null hypothesis.\n",
    "        \n",
    "        so our P value is 0.01\n",
    "        \n",
    "         0.01 < 0.05 : True then reject null hypothesis."
   ]
  },
  {
   "cell_type": "markdown",
   "id": "e973030e",
   "metadata": {},
   "source": [
    "#### Q9. Generate a Student's t-distribution plot using Python's matplotlib library, with the degrees of freedom parameter set to 10."
   ]
  },
  {
   "cell_type": "markdown",
   "id": "66d105a4",
   "metadata": {},
   "source": [
    "Ans:"
   ]
  },
  {
   "cell_type": "code",
   "execution_count": 143,
   "id": "93322849",
   "metadata": {},
   "outputs": [],
   "source": [
    "import numpy as np\n",
    "from scipy.stats import t\n",
    "import matplotlib.pyplot as plt"
   ]
  },
  {
   "cell_type": "code",
   "execution_count": 144,
   "id": "fa2ef2a6",
   "metadata": {},
   "outputs": [],
   "source": [
    "x = np.linspace(-4 , 4 , 200)"
   ]
  },
  {
   "cell_type": "code",
   "execution_count": 145,
   "id": "5b60e7e2",
   "metadata": {},
   "outputs": [
    {
     "data": {
      "text/plain": [
       "array([-4.        , -3.95979899, -3.91959799, -3.87939698, -3.83919598,\n",
       "       -3.79899497, -3.75879397, -3.71859296, -3.67839196, -3.63819095,\n",
       "       -3.59798995, -3.55778894, -3.51758794, -3.47738693, -3.43718593,\n",
       "       -3.39698492, -3.35678392, -3.31658291, -3.27638191, -3.2361809 ,\n",
       "       -3.1959799 , -3.15577889, -3.11557789, -3.07537688, -3.03517588,\n",
       "       -2.99497487, -2.95477387, -2.91457286, -2.87437186, -2.83417085,\n",
       "       -2.79396985, -2.75376884, -2.71356784, -2.67336683, -2.63316583,\n",
       "       -2.59296482, -2.55276382, -2.51256281, -2.47236181, -2.4321608 ,\n",
       "       -2.3919598 , -2.35175879, -2.31155779, -2.27135678, -2.23115578,\n",
       "       -2.19095477, -2.15075377, -2.11055276, -2.07035176, -2.03015075,\n",
       "       -1.98994975, -1.94974874, -1.90954774, -1.86934673, -1.82914573,\n",
       "       -1.78894472, -1.74874372, -1.70854271, -1.66834171, -1.6281407 ,\n",
       "       -1.5879397 , -1.54773869, -1.50753769, -1.46733668, -1.42713568,\n",
       "       -1.38693467, -1.34673367, -1.30653266, -1.26633166, -1.22613065,\n",
       "       -1.18592965, -1.14572864, -1.10552764, -1.06532663, -1.02512563,\n",
       "       -0.98492462, -0.94472362, -0.90452261, -0.86432161, -0.8241206 ,\n",
       "       -0.7839196 , -0.74371859, -0.70351759, -0.66331658, -0.62311558,\n",
       "       -0.58291457, -0.54271357, -0.50251256, -0.46231156, -0.42211055,\n",
       "       -0.38190955, -0.34170854, -0.30150754, -0.26130653, -0.22110553,\n",
       "       -0.18090452, -0.14070352, -0.10050251, -0.06030151, -0.0201005 ,\n",
       "        0.0201005 ,  0.06030151,  0.10050251,  0.14070352,  0.18090452,\n",
       "        0.22110553,  0.26130653,  0.30150754,  0.34170854,  0.38190955,\n",
       "        0.42211055,  0.46231156,  0.50251256,  0.54271357,  0.58291457,\n",
       "        0.62311558,  0.66331658,  0.70351759,  0.74371859,  0.7839196 ,\n",
       "        0.8241206 ,  0.86432161,  0.90452261,  0.94472362,  0.98492462,\n",
       "        1.02512563,  1.06532663,  1.10552764,  1.14572864,  1.18592965,\n",
       "        1.22613065,  1.26633166,  1.30653266,  1.34673367,  1.38693467,\n",
       "        1.42713568,  1.46733668,  1.50753769,  1.54773869,  1.5879397 ,\n",
       "        1.6281407 ,  1.66834171,  1.70854271,  1.74874372,  1.78894472,\n",
       "        1.82914573,  1.86934673,  1.90954774,  1.94974874,  1.98994975,\n",
       "        2.03015075,  2.07035176,  2.11055276,  2.15075377,  2.19095477,\n",
       "        2.23115578,  2.27135678,  2.31155779,  2.35175879,  2.3919598 ,\n",
       "        2.4321608 ,  2.47236181,  2.51256281,  2.55276382,  2.59296482,\n",
       "        2.63316583,  2.67336683,  2.71356784,  2.75376884,  2.79396985,\n",
       "        2.83417085,  2.87437186,  2.91457286,  2.95477387,  2.99497487,\n",
       "        3.03517588,  3.07537688,  3.11557789,  3.15577889,  3.1959799 ,\n",
       "        3.2361809 ,  3.27638191,  3.31658291,  3.35678392,  3.39698492,\n",
       "        3.43718593,  3.47738693,  3.51758794,  3.55778894,  3.59798995,\n",
       "        3.63819095,  3.67839196,  3.71859296,  3.75879397,  3.79899497,\n",
       "        3.83919598,  3.87939698,  3.91959799,  3.95979899,  4.        ])"
      ]
     },
     "execution_count": 145,
     "metadata": {},
     "output_type": "execute_result"
    }
   ],
   "source": [
    "x"
   ]
  },
  {
   "cell_type": "code",
   "execution_count": 146,
   "id": "cae04f8b",
   "metadata": {},
   "outputs": [],
   "source": [
    "y = t.pdf(x  , df = 10)"
   ]
  },
  {
   "cell_type": "code",
   "execution_count": 147,
   "id": "254ed2c8",
   "metadata": {},
   "outputs": [
    {
     "data": {
      "text/plain": [
       "array([0.00203103, 0.00217419, 0.00232779, 0.00249261, 0.00266949,\n",
       "       0.00285931, 0.00306303, 0.00328167, 0.00351635, 0.00376824,\n",
       "       0.0040386 , 0.00432879, 0.00464026, 0.00497455, 0.00533334,\n",
       "       0.00571839, 0.00613161, 0.006575  , 0.00705075, 0.00756115,\n",
       "       0.00810866, 0.0086959 , 0.00932565, 0.01000086, 0.0107247 ,\n",
       "       0.01150048, 0.01233176, 0.01322227, 0.01417598, 0.01519706,\n",
       "       0.01628995, 0.01745928, 0.01870994, 0.02004708, 0.02147607,\n",
       "       0.02300255, 0.02463239, 0.02637173, 0.02822693, 0.0302046 ,\n",
       "       0.03231157, 0.03455487, 0.03694175, 0.03947961, 0.04217602,\n",
       "       0.04503866, 0.04807531, 0.05129379, 0.0547019 , 0.05830744,\n",
       "       0.06211806, 0.06614127, 0.07038431, 0.07485413, 0.07955727,\n",
       "       0.08449976, 0.08968706, 0.09512393, 0.10081432, 0.10676126,\n",
       "       0.11296674, 0.1194316 , 0.12615539, 0.13313622, 0.1403707 ,\n",
       "       0.14785375, 0.15557852, 0.16353626, 0.17171622, 0.18010556,\n",
       "       0.18868927, 0.19745009, 0.2063685 , 0.21542264, 0.22458838,\n",
       "       0.23383929, 0.24314669, 0.2524798 , 0.26180576, 0.27108986,\n",
       "       0.28029566, 0.28938523, 0.2983194 , 0.30705798, 0.31556014,\n",
       "       0.32378467, 0.33169036, 0.33923637, 0.34638261, 0.35309008,\n",
       "       0.35932136, 0.36504089, 0.37021543, 0.37481439, 0.37881018,\n",
       "       0.3821785 , 0.38489866, 0.3869538 , 0.38833111, 0.38902193,\n",
       "       0.38902193, 0.38833111, 0.3869538 , 0.38489866, 0.3821785 ,\n",
       "       0.37881018, 0.37481439, 0.37021543, 0.36504089, 0.35932136,\n",
       "       0.35309008, 0.34638261, 0.33923637, 0.33169036, 0.32378467,\n",
       "       0.31556014, 0.30705798, 0.2983194 , 0.28938523, 0.28029566,\n",
       "       0.27108986, 0.26180576, 0.2524798 , 0.24314669, 0.23383929,\n",
       "       0.22458838, 0.21542264, 0.2063685 , 0.19745009, 0.18868927,\n",
       "       0.18010556, 0.17171622, 0.16353626, 0.15557852, 0.14785375,\n",
       "       0.1403707 , 0.13313622, 0.12615539, 0.1194316 , 0.11296674,\n",
       "       0.10676126, 0.10081432, 0.09512393, 0.08968706, 0.08449976,\n",
       "       0.07955727, 0.07485413, 0.07038431, 0.06614127, 0.06211806,\n",
       "       0.05830744, 0.0547019 , 0.05129379, 0.04807531, 0.04503866,\n",
       "       0.04217602, 0.03947961, 0.03694175, 0.03455487, 0.03231157,\n",
       "       0.0302046 , 0.02822693, 0.02637173, 0.02463239, 0.02300255,\n",
       "       0.02147607, 0.02004708, 0.01870994, 0.01745928, 0.01628995,\n",
       "       0.01519706, 0.01417598, 0.01322227, 0.01233176, 0.01150048,\n",
       "       0.0107247 , 0.01000086, 0.00932565, 0.0086959 , 0.00810866,\n",
       "       0.00756115, 0.00705075, 0.006575  , 0.00613161, 0.00571839,\n",
       "       0.00533334, 0.00497455, 0.00464026, 0.00432879, 0.0040386 ,\n",
       "       0.00376824, 0.00351635, 0.00328167, 0.00306303, 0.00285931,\n",
       "       0.00266949, 0.00249261, 0.00232779, 0.00217419, 0.00203103])"
      ]
     },
     "execution_count": 147,
     "metadata": {},
     "output_type": "execute_result"
    }
   ],
   "source": [
    "y"
   ]
  },
  {
   "cell_type": "code",
   "execution_count": 148,
   "id": "99c24ed3",
   "metadata": {},
   "outputs": [
    {
     "data": {
      "text/plain": [
       "[<matplotlib.lines.Line2D at 0x1b5382d2340>]"
      ]
     },
     "execution_count": 148,
     "metadata": {},
     "output_type": "execute_result"
    },
    {
     "data": {
      "image/png": "[encoded data removed]",
      "text/plain": [
       "<Figure size 432x288 with 1 Axes>"
      ]
     },
     "metadata": {
      "needs_background": "light"
     },
     "output_type": "display_data"
    }
   ],
   "source": [
    "plt.plot(x , y)"
   ]
  },
  {
   "cell_type": "code",
   "execution_count": 149,
   "id": "ed1428de",
   "metadata": {},
   "outputs": [
    {
     "data": {
      "text/plain": [
       "<Figure size 432x288 with 0 Axes>"
      ]
     },
     "metadata": {},
     "output_type": "display_data"
    }
   ],
   "source": [
    "plt.savefig('student t distribution graph.png')"
   ]
  },
  {
   "cell_type": "code",
   "execution_count": 150,
   "id": "fe65d926",
   "metadata": {},
   "outputs": [],
   "source": [
    "plt.close()"
   ]
  },
  {
   "cell_type": "markdown",
   "id": "c4258d15",
   "metadata": {},
   "source": [
    "#### Q10. Write a Python program to calculate the two-sample t-test for independent samples, given two random samples of equal size and a null hypothesis that the population means are equal."
   ]
  },
  {
   "cell_type": "markdown",
   "id": "2c5b2718",
   "metadata": {},
   "source": [
    "Null Hypothesis (H0):\n",
    "    \n",
    "    Assumption : \n",
    "        \n",
    "        null hypothesis that the population means are equal of both dataset.\n",
    "        \n",
    "        H0 => µ1 = µ2 (population mean of dataset1 is equal to dataset2)\n",
    "\n",
    "Alternate Hypothesis (H1):\n",
    "    \n",
    "    Assumption :\n",
    "        \n",
    "        null hypothesis that the population means are not equal of both dataset.\n",
    "        \n",
    "        H1 => µ1 ≠µ2 (population mean of dataset1 is different from dataset2)\n",
    "\n",
    "        \n",
    "Here we conducting two sample test by using scipy library.\n",
    "\n",
    "Scipy is the scientific python library."
   ]
  },
  {
   "cell_type": "code",
   "execution_count": 157,
   "id": "63ff873c",
   "metadata": {},
   "outputs": [],
   "source": [
    "import numpy as np\n",
    "import scipy.stats as stats"
   ]
  },
  {
   "cell_type": "code",
   "execution_count": 158,
   "id": "695eacff",
   "metadata": {},
   "outputs": [],
   "source": [
    "x = np.array([14, 15, 15, 16, 13, 8, 14,\n",
    "                        17, 16, 14, 19, 20, 21, 15,\n",
    "                        15, 16, 16, 13, 14, 12])"
   ]
  },
  {
   "cell_type": "code",
   "execution_count": 159,
   "id": "d52ce00c",
   "metadata": {},
   "outputs": [],
   "source": [
    "y = np.array([15, 17, 14, 17, 14, 8, 12,\n",
    "                        19, 19, 14, 17, 22, 24, 16,\n",
    "                        13, 16, 13, 18, 15, 13])"
   ]
  },
  {
   "cell_type": "code",
   "execution_count": 160,
   "id": "b6e2297c",
   "metadata": {},
   "outputs": [
    {
     "name": "stdout",
     "output_type": "stream",
     "text": [
      "7.727500000000001 12.260000000000002\n"
     ]
    }
   ],
   "source": [
    "print(np.var(x) , np.var(y))"
   ]
  },
  {
   "cell_type": "markdown",
   "id": "0586124e",
   "metadata": {},
   "source": [
    "variance of large data to small data is less than 4 : 1 then equal_variance is True"
   ]
  },
  {
   "cell_type": "code",
   "execution_count": 163,
   "id": "a649de48",
   "metadata": {},
   "outputs": [
    {
     "data": {
      "text/plain": [
       "Ttest_indResult(statistic=-0.6337397070250238, pvalue=0.5300471010405257)"
      ]
     },
     "execution_count": 163,
     "metadata": {},
     "output_type": "execute_result"
    }
   ],
   "source": [
    "stats.ttest_ind(a = x , b = y , equal_var = True)"
   ]
  },
  {
   "cell_type": "code",
   "execution_count": 164,
   "id": "78cb6c5b",
   "metadata": {},
   "outputs": [],
   "source": [
    "p_value = 0.5300471010405257"
   ]
  },
  {
   "cell_type": "code",
   "execution_count": 165,
   "id": "12b7ac87",
   "metadata": {},
   "outputs": [],
   "source": [
    "alpha = 0.05"
   ]
  },
  {
   "cell_type": "code",
   "execution_count": 167,
   "id": "f42a2f6e",
   "metadata": {},
   "outputs": [
    {
     "name": "stdout",
     "output_type": "stream",
     "text": [
      "Failed to reject null hypothesis i.e accept the null hypothesis\n"
     ]
    }
   ],
   "source": [
    "if p_value < alpha:\n",
    "    \n",
    "    print('Reject null hypothesis')\n",
    "    \n",
    "else:\n",
    "    \n",
    "    print('Failed to reject null hypothesis i.e accept the null hypothesis')"
   ]
  },
  {
   "cell_type": "markdown",
   "id": "357e60ac",
   "metadata": {},
   "source": [
    "conclusion :\n",
    "    \n",
    "    The mean height of students between the two data groups is equal."
   ]
  },
  {
   "cell_type": "markdown",
   "id": "97c2e5d3",
   "metadata": {},
   "source": [
    "#### Q11: What is Student’s t distribution? When to use the t-Distribution"
   ]
  },
  {
   "cell_type": "markdown",
   "id": "603a8e77",
   "metadata": {},
   "source": [
    "Ans:"
   ]
  },
  {
   "cell_type": "markdown",
   "id": "ae8f0f08",
   "metadata": {},
   "source": [
    "The t-distribution is used when data are approximately normally distributed, \n",
    "\n",
    "which means the data follow a bell shape but the population variance is unknown.\n",
    "\n",
    "The variance in a t-distribution is estimated based on the degrees of freedom of the data set .\n",
    "\n",
    "The t-distribution, also known as Student’s t-distribution, \n",
    "\n",
    "is a way of describing data that follow a bell curve when plotted on a graph,\n",
    "\n",
    "with the greatest number of observations close to the mean and fewer observations in the tails.\n",
    "\n",
    "\n",
    "\n",
    "\n",
    "It is used for :\n",
    "    \n",
    "\n",
    "1.Find the critical values for a confidence interval when the data is approximately normally distributed.\n",
    "\n",
    "\n",
    "2.Find the corresponding p-value from a statistical test that uses the t-distribution"
   ]
  },
  {
   "cell_type": "code",
   "execution_count": 169,
   "id": "83069b9c",
   "metadata": {},
   "outputs": [],
   "source": [
    "import numpy as np\n",
    "from scipy.stats import t\n",
    "import matplotlib.pyplot as plt"
   ]
  },
  {
   "cell_type": "code",
   "execution_count": 170,
   "id": "6c608d9d",
   "metadata": {},
   "outputs": [],
   "source": [
    "x = np.linspace(-4 , 4 , 200)\n",
    "y = t.pdf(x  , df = 10)"
   ]
  },
  {
   "cell_type": "code",
   "execution_count": 171,
   "id": "3733dfc6",
   "metadata": {},
   "outputs": [
    {
     "data": {
      "text/plain": [
       "[<matplotlib.lines.Line2D at 0x1b538355b20>]"
      ]
     },
     "execution_count": 171,
     "metadata": {},
     "output_type": "execute_result"
    },
    {
     "data": {
      "image/png": "[encoded data removed]",
      "text/plain": [
       "<Figure size 432x288 with 1 Axes>"
      ]
     },
     "metadata": {
      "needs_background": "light"
     },
     "output_type": "display_data"
    }
   ],
   "source": [
    "plt.plot(x , y)"
   ]
  },
  {
   "cell_type": "markdown",
   "id": "acdc5184",
   "metadata": {},
   "source": [
    "#### Q12: What is t-statistic? State the formula for t-statistic"
   ]
  },
  {
   "cell_type": "markdown",
   "id": "01e0ee2c",
   "metadata": {},
   "source": [
    "Ans:"
   ]
  },
  {
   "cell_type": "markdown",
   "id": "22636a1c",
   "metadata": {},
   "source": [
    "A test statistic measures the accuracy of the predicted data distribution relating \n",
    "\n",
    "to the null hypothesis you use when analyzing data samples."
   ]
  },
  {
   "cell_type": "markdown",
   "id": "0c7aee00",
   "metadata": {},
   "source": [
    "formula :\n",
    "\n",
    "t = (X‾ - μ) / (s / √n)\n",
    "\n",
    "X‾ : samle mean\n",
    "    \n",
    "μ : population mean\n",
    "    \n",
    "s : sample standerd deviation\n",
    "    \n",
    "√n : sample size "
   ]
  },
  {
   "cell_type": "markdown",
   "id": "4b8c9dd7",
   "metadata": {},
   "source": [
    "#### Q13. A coffee shop owner wants to estimate the average daily revenue for their shop. They take a random sample of 50 days and find the sample mean revenue to be 500 (doller) with a standard deviation of 50 (doller).Estimate the population mean revenue with a 95% confidence interval."
   ]
  },
  {
   "cell_type": "markdown",
   "id": "16d01ed7",
   "metadata": {},
   "source": [
    "Ans:"
   ]
  },
  {
   "cell_type": "code",
   "execution_count": 215,
   "id": "cc1363c4",
   "metadata": {},
   "outputs": [],
   "source": [
    "n = 50\n",
    "\n",
    "sample_mean = 500\n",
    "\n",
    "sample_mean_std = 50\n",
    "\n",
    "Confidence_Interval = 0.95\n",
    "\n",
    "significance_value = 1- Confidence_Interval"
   ]
  },
  {
   "cell_type": "code",
   "execution_count": 216,
   "id": "6b5a2eda",
   "metadata": {},
   "outputs": [
    {
     "data": {
      "text/plain": [
       "0.050000000000000044"
      ]
     },
     "execution_count": 216,
     "metadata": {},
     "output_type": "execute_result"
    }
   ],
   "source": [
    "significance_value"
   ]
  },
  {
   "cell_type": "code",
   "execution_count": 219,
   "id": "3a2f9bc4",
   "metadata": {},
   "outputs": [],
   "source": [
    "z_score = 1 - (0.025)"
   ]
  },
  {
   "cell_type": "code",
   "execution_count": 220,
   "id": "226d46f0",
   "metadata": {},
   "outputs": [
    {
     "data": {
      "text/plain": [
       "0.975"
      ]
     },
     "execution_count": 220,
     "metadata": {},
     "output_type": "execute_result"
    }
   ],
   "source": [
    "z_score"
   ]
  },
  {
   "cell_type": "markdown",
   "id": "5b3cfdbd",
   "metadata": {},
   "source": [
    "#### see in z table"
   ]
  },
  {
   "cell_type": "code",
   "execution_count": null,
   "id": "d65c798d",
   "metadata": {},
   "outputs": [],
   "source": [
    "z_score = 1.96"
   ]
  },
  {
   "cell_type": "markdown",
   "id": "b78f7544",
   "metadata": {},
   "source": [
    "we use t test Here , because n > 30 and population std is unknown."
   ]
  },
  {
   "cell_type": "code",
   "execution_count": 224,
   "id": "91e9e9b7",
   "metadata": {},
   "outputs": [
    {
     "data": {
      "text/plain": [
       "513.8592929112564"
      ]
     },
     "execution_count": 224,
     "metadata": {},
     "output_type": "execute_result"
    }
   ],
   "source": [
    "(500) +1.96 * (50 / np.sqrt(50))"
   ]
  },
  {
   "cell_type": "code",
   "execution_count": 225,
   "id": "6ac907b3",
   "metadata": {},
   "outputs": [
    {
     "data": {
      "text/plain": [
       "486.1407070887437"
      ]
     },
     "execution_count": 225,
     "metadata": {},
     "output_type": "execute_result"
    }
   ],
   "source": [
    "(500) - 1.96 * (50 / np.sqrt(50))"
   ]
  },
  {
   "cell_type": "markdown",
   "id": "cf90ea5e",
   "metadata": {},
   "source": [
    "#### A coffee shop owner estimate the average daily revenue for their shop for 50 days is between 513.8592929112564 to 486.1407070887437"
   ]
  },
  {
   "cell_type": "markdown",
   "id": "e4f2580b",
   "metadata": {},
   "source": [
    "### It use when population mean is unknown\n",
    "\n",
    "## CI = X̄ ± Z*(σ/√n)\n",
    "\n",
    "Where:\n",
    "\n",
    "X̄ is the sample mean\n",
    "Z is the critical value from the standard normal distribution corresponding to the desired level of confidence\n",
    "σ is the population standard deviation\n",
    "n is the sample size\n",
    "I hope this clarifies which formula I used."
   ]
  },
  {
   "cell_type": "markdown",
   "id": "3656d1d8",
   "metadata": {},
   "source": [
    "#### Q14. A researcher hypothesizes that a new drug will decrease blood pressure by 10 mmHg. They conduct a clinical trial with 100 patients and find that the sample mean decrease in blood pressure is 8 mmHg with a standard deviation of 3 mmHg. Test the hypothesis with a significance level of 0.05."
   ]
  },
  {
   "cell_type": "markdown",
   "id": "84e4ee51",
   "metadata": {},
   "source": [
    "Ans:"
   ]
  },
  {
   "cell_type": "code",
   "execution_count": 173,
   "id": "99416aa5",
   "metadata": {},
   "outputs": [],
   "source": [
    "pop_mean = 10\n",
    "\n",
    "n = 100\n",
    "\n",
    "sample_mean = 8\n",
    "\n",
    "sample_std = 3\n",
    "\n",
    "significance_value = 0.05"
   ]
  },
  {
   "cell_type": "markdown",
   "id": "0768b0fd",
   "metadata": {},
   "source": [
    "\n",
    "1.Null Hypothesis:\n",
    "    \n",
    "    new drug will decrease blood pressure by 10 mmHg\n",
    "    \n",
    "    \n",
    "2.Alternate Hypothesis:\n",
    "    \n",
    "    sample mean decrease in blood pressure is 8 mmHg ( 1 Tail test because its less than)"
   ]
  },
  {
   "cell_type": "code",
   "execution_count": 199,
   "id": "3af875c0",
   "metadata": {},
   "outputs": [],
   "source": [
    "import math\n",
    "from scipy.stats import  t"
   ]
  },
  {
   "cell_type": "code",
   "execution_count": 200,
   "id": "95211506",
   "metadata": {},
   "outputs": [],
   "source": [
    "t_stats = (sample_mean - pop_mean) / (sample_std / np.sqrt(n))"
   ]
  },
  {
   "cell_type": "code",
   "execution_count": 201,
   "id": "caa4f68d",
   "metadata": {},
   "outputs": [
    {
     "data": {
      "text/plain": [
       "-6.666666666666667"
      ]
     },
     "execution_count": 201,
     "metadata": {},
     "output_type": "execute_result"
    }
   ],
   "source": [
    "t_stats"
   ]
  },
  {
   "cell_type": "code",
   "execution_count": 202,
   "id": "615b6b52",
   "metadata": {},
   "outputs": [],
   "source": [
    "df = n -1"
   ]
  },
  {
   "cell_type": "code",
   "execution_count": 203,
   "id": "cdd525cb",
   "metadata": {},
   "outputs": [
    {
     "data": {
      "text/plain": [
       "99"
      ]
     },
     "execution_count": 203,
     "metadata": {},
     "output_type": "execute_result"
    }
   ],
   "source": [
    "df"
   ]
  },
  {
   "cell_type": "code",
   "execution_count": 197,
   "id": "ad4fcd89",
   "metadata": {},
   "outputs": [],
   "source": [
    "from scipy.stats import t"
   ]
  },
  {
   "cell_type": "code",
   "execution_count": 209,
   "id": "c10bfa02",
   "metadata": {},
   "outputs": [],
   "source": [
    "p_value = t.sf(abs(t_stats) , df)"
   ]
  },
  {
   "cell_type": "code",
   "execution_count": 210,
   "id": "f930c98f",
   "metadata": {},
   "outputs": [
    {
     "data": {
      "text/plain": [
       "7.506144504985108e-10"
      ]
     },
     "execution_count": 210,
     "metadata": {},
     "output_type": "execute_result"
    }
   ],
   "source": [
    "p_value "
   ]
  },
  {
   "cell_type": "code",
   "execution_count": 211,
   "id": "0b022a83",
   "metadata": {},
   "outputs": [
    {
     "name": "stdout",
     "output_type": "stream",
     "text": [
      "Reject null hypothesis\n"
     ]
    }
   ],
   "source": [
    "if p_value < significance_value:\n",
    "    \n",
    "    print('Reject null hypothesis')\n",
    "    \n",
    "else:\n",
    "    \n",
    "    print('Fail to reject null hypothesis')"
   ]
  },
  {
   "cell_type": "markdown",
   "id": "b60380e0",
   "metadata": {},
   "source": [
    "Conclusion:\n",
    "    \n",
    "    we can not conclude the new drug will decrease blood pressure by 10mmHg"
   ]
  },
  {
   "cell_type": "markdown",
   "id": "e4f03b6c",
   "metadata": {},
   "source": [
    "#### Q15. An electronics company produces a certain type of product with a mean weight of 5 pounds and a standard deviation of 0.5 pounds. A random sample of 25 products is taken, and the sample mean weight is found to be 4.8 pounds. Test the hypothesis that the true mean weight of the products is less than 5 pounds with a significance level of 0.01."
   ]
  },
  {
   "cell_type": "markdown",
   "id": "c370eda5",
   "metadata": {},
   "source": [
    "Ans:"
   ]
  },
  {
   "cell_type": "code",
   "execution_count": 244,
   "id": "fd5ca99b",
   "metadata": {},
   "outputs": [],
   "source": [
    "pop_mean = 5\n",
    "sample_std = 0.5\n",
    "n = 25\n",
    "sample_mean = 4.8\n",
    "significance_level = 0.01"
   ]
  },
  {
   "cell_type": "markdown",
   "id": "e2691ef7",
   "metadata": {},
   "source": [
    "1.Null hypothesis(H0):\n",
    "    \n",
    "    a mean weight of 5 pounds\n",
    "    \n",
    "2.Alternate hypothesis(H1):\n",
    "    \n",
    "    true mean weight of the products is less than 5 pounds (we use here one tail test)"
   ]
  },
  {
   "cell_type": "markdown",
   "id": "090dff73",
   "metadata": {},
   "source": [
    "#### Here we use t test because n< 30 and we have sample std is 0.5"
   ]
  },
  {
   "cell_type": "code",
   "execution_count": 245,
   "id": "9f6c56c9",
   "metadata": {},
   "outputs": [],
   "source": [
    "t_stat = (sample_mean - pop_mean) / (sample_std /np.sqrt(n))"
   ]
  },
  {
   "cell_type": "code",
   "execution_count": 246,
   "id": "9f3c57db",
   "metadata": {},
   "outputs": [
    {
     "data": {
      "text/plain": [
       "-2.0000000000000018"
      ]
     },
     "execution_count": 246,
     "metadata": {},
     "output_type": "execute_result"
    }
   ],
   "source": [
    "t_stat"
   ]
  },
  {
   "cell_type": "code",
   "execution_count": 247,
   "id": "836e353a",
   "metadata": {},
   "outputs": [],
   "source": [
    "df = n - 1"
   ]
  },
  {
   "cell_type": "code",
   "execution_count": 248,
   "id": "f50586c6",
   "metadata": {},
   "outputs": [
    {
     "data": {
      "text/plain": [
       "24"
      ]
     },
     "execution_count": 248,
     "metadata": {},
     "output_type": "execute_result"
    }
   ],
   "source": [
    "df"
   ]
  },
  {
   "cell_type": "code",
   "execution_count": 249,
   "id": "e36b8aa2",
   "metadata": {},
   "outputs": [],
   "source": [
    "from scipy.stats import t"
   ]
  },
  {
   "cell_type": "code",
   "execution_count": 250,
   "id": "92ac0e2b",
   "metadata": {},
   "outputs": [],
   "source": [
    "p_value = t.sf(abs(t_stat), df)"
   ]
  },
  {
   "cell_type": "code",
   "execution_count": 251,
   "id": "438d3000",
   "metadata": {},
   "outputs": [
    {
     "data": {
      "text/plain": [
       "0.02846992496829572"
      ]
     },
     "execution_count": 251,
     "metadata": {},
     "output_type": "execute_result"
    }
   ],
   "source": [
    "p_value "
   ]
  },
  {
   "cell_type": "code",
   "execution_count": 252,
   "id": "3db4f1ef",
   "metadata": {},
   "outputs": [
    {
     "name": "stdout",
     "output_type": "stream",
     "text": [
      "Failed to reject null hypothesis\n"
     ]
    }
   ],
   "source": [
    "if p_value < significance_level:\n",
    "    \n",
    "    print('Reject the null hypothesis')\n",
    "    \n",
    "else:\n",
    "    \n",
    "    print('Failed to reject null hypothesis')"
   ]
  },
  {
   "cell_type": "markdown",
   "id": "986cf256",
   "metadata": {},
   "source": [
    "#### conclusion : true mean weight of the products is less than 5 pounds."
   ]
  },
  {
   "cell_type": "markdown",
   "id": "0088e462",
   "metadata": {},
   "source": [
    "#### Q17. A marketing company wants to estimate the average number of ads watched by viewers during a TV program. They take a random sample of 50 viewers and find that the sample mean is 4 with a standard deviation of 1.5. Estimate the population mean with a 99% confidence interval."
   ]
  },
  {
   "cell_type": "markdown",
   "id": "da52abfc",
   "metadata": {},
   "source": [
    "Ans:"
   ]
  },
  {
   "cell_type": "code",
   "execution_count": 282,
   "id": "83ddc41c",
   "metadata": {},
   "outputs": [],
   "source": [
    "n = 50\n",
    "sample_mean = 4\n",
    "sample_std = 1.5\n",
    "CI = 0.99\n",
    "significance_value = 1 - CI\n",
    "z = 2.3"
   ]
  },
  {
   "cell_type": "code",
   "execution_count": 283,
   "id": "3657c774",
   "metadata": {},
   "outputs": [
    {
     "data": {
      "text/plain": [
       "0.010000000000000009"
      ]
     },
     "execution_count": 283,
     "metadata": {},
     "output_type": "execute_result"
    }
   ],
   "source": [
    "significance_value "
   ]
  },
  {
   "cell_type": "code",
   "execution_count": 284,
   "id": "58ebb449",
   "metadata": {},
   "outputs": [
    {
     "data": {
      "text/plain": [
       "4.487903679018718"
      ]
     },
     "execution_count": 284,
     "metadata": {},
     "output_type": "execute_result"
    }
   ],
   "source": [
    "(sample_mean) + z *(sample_std / np.sqrt(n))"
   ]
  },
  {
   "cell_type": "code",
   "execution_count": 285,
   "id": "669ca43b",
   "metadata": {},
   "outputs": [
    {
     "data": {
      "text/plain": [
       "3.512096320981282"
      ]
     },
     "execution_count": 285,
     "metadata": {},
     "output_type": "execute_result"
    }
   ],
   "source": [
    "(sample_mean) - z *(sample_std / np.sqrt(n))"
   ]
  },
  {
   "cell_type": "markdown",
   "id": "03784465",
   "metadata": {},
   "source": [
    "population mean is between 3.512096320981282 to 4.487903679018718"
   ]
  }
 ],
 "metadata": {
  "kernelspec": {
   "display_name": "Python 3 (ipykernel)",
   "language": "python",
   "name": "python3"
  },
  "language_info": {
   "codemirror_mode": {
    "name": "ipython",
    "version": 3
   },
   "file_extension": ".py",
   "mimetype": "text/x-python",
   "name": "python",
   "nbconvert_exporter": "python",
   "pygments_lexer": "ipython3",
   "version": "3.9.7"
  }
 },
 "nbformat": 4,
 "nbformat_minor": 5
}
