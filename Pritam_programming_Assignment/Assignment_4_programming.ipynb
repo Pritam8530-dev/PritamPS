{
 "cells": [
  {
   "cell_type": "markdown",
   "id": "a2fc2339",
   "metadata": {},
   "source": [
    "### 1. Write a Python Program to Find the Factorial of a Number?"
   ]
  },
  {
   "cell_type": "code",
   "execution_count": 1,
   "id": "6e20d460",
   "metadata": {},
   "outputs": [
    {
     "data": {
      "text/plain": [
       "120"
      ]
     },
     "execution_count": 1,
     "metadata": {},
     "output_type": "execute_result"
    }
   ],
   "source": [
    "def factorial(number):\n",
    "    \n",
    "    if number == 1:\n",
    "        return number\n",
    "    \n",
    "    else:\n",
    "        return number * factorial (number - 1)\n",
    "    \n",
    "factorial(5)"
   ]
  },
  {
   "cell_type": "markdown",
   "id": "c18f5d08",
   "metadata": {},
   "source": [
    "### 2. Write a Python Program to Display the multiplication Table?"
   ]
  },
  {
   "cell_type": "code",
   "execution_count": 78,
   "id": "e871a5a0",
   "metadata": {},
   "outputs": [
    {
     "name": "stdout",
     "output_type": "stream",
     "text": [
      "multiplication table of  2  is :\n",
      "2  *  1  =  2\n",
      "2  *  2  =  4\n",
      "2  *  3  =  6\n",
      "2  *  4  =  8\n",
      "2  *  5  =  10\n",
      "2  *  6  =  12\n",
      "2  *  7  =  14\n",
      "2  *  8  =  16\n",
      "2  *  9  =  18\n",
      "2  *  10  =  20\n"
     ]
    }
   ],
   "source": [
    "def multiplication_table(number):\n",
    "    \n",
    "    print('multiplication table of ', number ,' is :')\n",
    "    \n",
    "    for i in range(1, 11):\n",
    "        \n",
    "        print(number , ' * ' , i , ' = ', number * i)\n",
    "        \n",
    "multiplication_table(2)"
   ]
  },
  {
   "cell_type": "markdown",
   "id": "67672ed1",
   "metadata": {},
   "source": [
    "### 3. Write a Python Program to Print the Fibonacci sequence?"
   ]
  },
  {
   "cell_type": "code",
   "execution_count": 11,
   "id": "d480636b",
   "metadata": {},
   "outputs": [
    {
     "data": {
      "text/plain": [
       "34"
      ]
     },
     "execution_count": 11,
     "metadata": {},
     "output_type": "execute_result"
    }
   ],
   "source": [
    "def fibonacci(number):\n",
    "    \n",
    "    if number < 0 :\n",
    "        \n",
    "        print('Invalid Input')\n",
    "        \n",
    "    elif number == 0:\n",
    "        \n",
    "        return 0\n",
    "    \n",
    "    elif number == 0 :\n",
    "        \n",
    "        return 0\n",
    "    \n",
    "    elif number == 1 or number == 2:\n",
    "        \n",
    "        return  1\n",
    "    \n",
    "    else :\n",
    "        return fibonacci (number - 1) + fibonacci (number - 2)\n",
    "    \n",
    "fibonacci (9)"
   ]
  },
  {
   "cell_type": "markdown",
   "id": "8ad582ac",
   "metadata": {},
   "source": [
    "### 4. Write a Python Program to Check Armstrong Number?"
   ]
  },
  {
   "cell_type": "code",
   "execution_count": 12,
   "id": "3006bd33",
   "metadata": {},
   "outputs": [
    {
     "name": "stdout",
     "output_type": "stream",
     "text": [
      "407  is an armstrong number\n"
     ]
    }
   ],
   "source": [
    "def armstrong (number):\n",
    "    \n",
    "    temp = number\n",
    "    \n",
    "    sum = 0\n",
    "    \n",
    "    while temp > 0 :\n",
    "        \n",
    "        digit = temp % 10\n",
    "        \n",
    "        sum = sum + digit ** 3\n",
    "        \n",
    "        temp = temp // 10\n",
    "        \n",
    "    if sum == number :\n",
    "        \n",
    "        print(number , ' is an armstrong number')\n",
    "        \n",
    "    else:\n",
    "        print(number , ' is not an armstrong number')\n",
    "        \n",
    "    \n",
    "armstrong(407)\n",
    "        "
   ]
  },
  {
   "cell_type": "markdown",
   "id": "0f35d2db",
   "metadata": {},
   "source": [
    "### 5. Write a Python Program to Find Armstrong Number in an Interval?"
   ]
  },
  {
   "cell_type": "code",
   "execution_count": 20,
   "id": "bd4b30c9",
   "metadata": {},
   "outputs": [
    {
     "name": "stdout",
     "output_type": "stream",
     "text": [
      "First number is : 1\n",
      "Last  number is : 600\n",
      "1 is an armstrong number\n",
      "153 is an armstrong number\n",
      "370 is an armstrong number\n",
      "371 is an armstrong number\n",
      "407 is an armstrong number\n"
     ]
    }
   ],
   "source": [
    "def armstrong_number(lower , upper) :\n",
    "    \n",
    "    print('First number is :' , lower)\n",
    "    print('Last  number is :' , upper)\n",
    "    \n",
    "    \n",
    "    \n",
    "    \n",
    "    for number in range(lower,upper + 1 ):\n",
    "        \n",
    "        #print(number)\n",
    "        \n",
    "        sum = 0\n",
    "        \n",
    "        temp = number\n",
    "        \n",
    "        while temp > 0 :\n",
    "            \n",
    "            digit = temp % 10\n",
    "            \n",
    "            sum = sum + digit ** 3\n",
    "            \n",
    "            temp = temp // 10\n",
    "            \n",
    "            \n",
    "        if sum == number :\n",
    "            \n",
    "            print(number , 'is an armstrong number')\n",
    "            \n",
    "            \n",
    "        #else:\n",
    "            \n",
    "            #break;\n",
    "            \n",
    "            \n",
    "armstrong_number(1,600)"
   ]
  },
  {
   "cell_type": "markdown",
   "id": "f58c067f",
   "metadata": {},
   "source": [
    "### 6. Write a Python Program to Find the Sum of Natural Numbers?"
   ]
  },
  {
   "cell_type": "code",
   "execution_count": 71,
   "id": "1baf4d5b",
   "metadata": {},
   "outputs": [
    {
     "name": "stdout",
     "output_type": "stream",
     "text": [
      "sum of natural number till  100  is : 5050\n"
     ]
    }
   ],
   "source": [
    "def natural(number):\n",
    "    \n",
    "    temp = number\n",
    "    \n",
    "    sum = 0\n",
    "    \n",
    "    while temp > 0 :\n",
    "        \n",
    "        sum = sum + temp\n",
    "        \n",
    "        temp = temp - 1\n",
    "    \n",
    "    print('sum of natural number till ' , number ,' is :' , sum )\n",
    "        \n",
    "natural (100)\n",
    "        "
   ]
  },
  {
   "cell_type": "markdown",
   "id": "6a705c92",
   "metadata": {},
   "source": [
    "### OR"
   ]
  },
  {
   "cell_type": "code",
   "execution_count": 77,
   "id": "411be4ad",
   "metadata": {},
   "outputs": [
    {
     "name": "stdout",
     "output_type": "stream",
     "text": [
      "The addition of first natural 10 numbers are :55\n"
     ]
    }
   ],
   "source": [
    "def natural_numbers(list):\n",
    "    \n",
    "    print('The addition of first natural 10 numbers are :'  , end = '' )\n",
    "    print(functools.reduce(lambda x , y : x + y , list))\n",
    "    \n",
    "natural_numbers([1,2,3,4,5,6,7,8,9,10])"
   ]
  }
 ],
 "metadata": {
  "kernelspec": {
   "display_name": "Python 3 (ipykernel)",
   "language": "python",
   "name": "python3"
  },
  "language_info": {
   "codemirror_mode": {
    "name": "ipython",
    "version": 3
   },
   "file_extension": ".py",
   "mimetype": "text/x-python",
   "name": "python",
   "nbconvert_exporter": "python",
   "pygments_lexer": "ipython3",
   "version": "3.9.7"
  }
 },
 "nbformat": 4,
 "nbformat_minor": 5
}
