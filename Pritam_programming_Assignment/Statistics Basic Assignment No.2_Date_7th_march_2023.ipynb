{
 "cells": [
  {
   "cell_type": "markdown",
   "id": "b1353bdd",
   "metadata": {},
   "source": [
    "#### Q1. What are the three measures of central tendency?"
   ]
  },
  {
   "cell_type": "markdown",
   "id": "762ca5f3",
   "metadata": {},
   "source": [
    "Ans:"
   ]
  },
  {
   "cell_type": "markdown",
   "id": "3671651d",
   "metadata": {},
   "source": [
    "1.Mean : Mean is the central tendency . \n",
    "    \n",
    "        It is the average value of distribution of data.\n",
    "        \n",
    "        It calculate when data is into continous format.\n",
    "        \n",
    "        \n",
    "    \n",
    "2.Median : Median is the central tendency .\n",
    "    \n",
    "           It is the median value of distribution of data.\n",
    "    \n",
    "           It calculate when outliers are present in the distribution of data.\n",
    "        \n",
    "           It calculate when data is into continous format.\n",
    "            \n",
    "            \n",
    "        \n",
    "3.Mode : Mode is the central tendency . \n",
    "    \n",
    "        It is the maximum / most frequent element / number of data distribution.\n",
    "    \n",
    "         It is calculate when data is into categories."
   ]
  },
  {
   "cell_type": "markdown",
   "id": "2a0b9291",
   "metadata": {},
   "source": [
    "#### Q2. What is the difference between the mean, median, and mode? How are they used to measure the central tendency of a dataset?"
   ]
  },
  {
   "cell_type": "markdown",
   "id": "8d2e2bd4",
   "metadata": {},
   "source": [
    "Ans:"
   ]
  },
  {
   "cell_type": "markdown",
   "id": "060bf2b9",
   "metadata": {},
   "source": [
    "1.Mean : Mean is the central tendency .\n",
    "\n",
    "    It is the average value of distribution of data.\n",
    "\n",
    "    It calculate when data is into continous format.\n",
    "\n",
    "2.Median : Median is the central tendency .\n",
    "\n",
    "       It is the median value of distribution of data.\n",
    "\n",
    "       It calculate when outliers are present in the distribution of data.\n",
    "    \n",
    "       because when we calculate mean when outliers are present  that time central tendency has large shift value. \n",
    "        \n",
    "      so we calculate median.\n",
    "\n",
    "       It calculate when data is into continous format.\n",
    "\n",
    "3.Mode : Mode is the central tendency .\n",
    "\n",
    "    It is the maximum / most frequent element / number of data distribution.\n",
    "\n",
    "     It is calculate when data is into categories."
   ]
  },
  {
   "cell_type": "code",
   "execution_count": 1,
   "id": "aeaf4858",
   "metadata": {},
   "outputs": [],
   "source": [
    "import numpy as np\n",
    "import pandas as pd\n",
    "import seaborn as sns"
   ]
  },
  {
   "cell_type": "code",
   "execution_count": 3,
   "id": "043f3b9f",
   "metadata": {},
   "outputs": [],
   "source": [
    "df = sns.load_dataset('iris')"
   ]
  },
  {
   "cell_type": "code",
   "execution_count": 4,
   "id": "ecb8b258",
   "metadata": {},
   "outputs": [
    {
     "data": {
      "text/html": [
       "<div>\n",
       "<style scoped>\n",
       "    .dataframe tbody tr th:only-of-type {\n",
       "        vertical-align: middle;\n",
       "    }\n",
       "\n",
       "    .dataframe tbody tr th {\n",
       "        vertical-align: top;\n",
       "    }\n",
       "\n",
       "    .dataframe thead th {\n",
       "        text-align: right;\n",
       "    }\n",
       "</style>\n",
       "<table border=\"1\" class=\"dataframe\">\n",
       "  <thead>\n",
       "    <tr style=\"text-align: right;\">\n",
       "      <th></th>\n",
       "      <th>sepal_length</th>\n",
       "      <th>sepal_width</th>\n",
       "      <th>petal_length</th>\n",
       "      <th>petal_width</th>\n",
       "      <th>species</th>\n",
       "    </tr>\n",
       "  </thead>\n",
       "  <tbody>\n",
       "    <tr>\n",
       "      <th>0</th>\n",
       "      <td>5.1</td>\n",
       "      <td>3.5</td>\n",
       "      <td>1.4</td>\n",
       "      <td>0.2</td>\n",
       "      <td>setosa</td>\n",
       "    </tr>\n",
       "    <tr>\n",
       "      <th>1</th>\n",
       "      <td>4.9</td>\n",
       "      <td>3.0</td>\n",
       "      <td>1.4</td>\n",
       "      <td>0.2</td>\n",
       "      <td>setosa</td>\n",
       "    </tr>\n",
       "    <tr>\n",
       "      <th>2</th>\n",
       "      <td>4.7</td>\n",
       "      <td>3.2</td>\n",
       "      <td>1.3</td>\n",
       "      <td>0.2</td>\n",
       "      <td>setosa</td>\n",
       "    </tr>\n",
       "    <tr>\n",
       "      <th>3</th>\n",
       "      <td>4.6</td>\n",
       "      <td>3.1</td>\n",
       "      <td>1.5</td>\n",
       "      <td>0.2</td>\n",
       "      <td>setosa</td>\n",
       "    </tr>\n",
       "    <tr>\n",
       "      <th>4</th>\n",
       "      <td>5.0</td>\n",
       "      <td>3.6</td>\n",
       "      <td>1.4</td>\n",
       "      <td>0.2</td>\n",
       "      <td>setosa</td>\n",
       "    </tr>\n",
       "    <tr>\n",
       "      <th>...</th>\n",
       "      <td>...</td>\n",
       "      <td>...</td>\n",
       "      <td>...</td>\n",
       "      <td>...</td>\n",
       "      <td>...</td>\n",
       "    </tr>\n",
       "    <tr>\n",
       "      <th>145</th>\n",
       "      <td>6.7</td>\n",
       "      <td>3.0</td>\n",
       "      <td>5.2</td>\n",
       "      <td>2.3</td>\n",
       "      <td>virginica</td>\n",
       "    </tr>\n",
       "    <tr>\n",
       "      <th>146</th>\n",
       "      <td>6.3</td>\n",
       "      <td>2.5</td>\n",
       "      <td>5.0</td>\n",
       "      <td>1.9</td>\n",
       "      <td>virginica</td>\n",
       "    </tr>\n",
       "    <tr>\n",
       "      <th>147</th>\n",
       "      <td>6.5</td>\n",
       "      <td>3.0</td>\n",
       "      <td>5.2</td>\n",
       "      <td>2.0</td>\n",
       "      <td>virginica</td>\n",
       "    </tr>\n",
       "    <tr>\n",
       "      <th>148</th>\n",
       "      <td>6.2</td>\n",
       "      <td>3.4</td>\n",
       "      <td>5.4</td>\n",
       "      <td>2.3</td>\n",
       "      <td>virginica</td>\n",
       "    </tr>\n",
       "    <tr>\n",
       "      <th>149</th>\n",
       "      <td>5.9</td>\n",
       "      <td>3.0</td>\n",
       "      <td>5.1</td>\n",
       "      <td>1.8</td>\n",
       "      <td>virginica</td>\n",
       "    </tr>\n",
       "  </tbody>\n",
       "</table>\n",
       "<p>150 rows × 5 columns</p>\n",
       "</div>"
      ],
      "text/plain": [
       "     sepal_length  sepal_width  petal_length  petal_width    species\n",
       "0             5.1          3.5           1.4          0.2     setosa\n",
       "1             4.9          3.0           1.4          0.2     setosa\n",
       "2             4.7          3.2           1.3          0.2     setosa\n",
       "3             4.6          3.1           1.5          0.2     setosa\n",
       "4             5.0          3.6           1.4          0.2     setosa\n",
       "..            ...          ...           ...          ...        ...\n",
       "145           6.7          3.0           5.2          2.3  virginica\n",
       "146           6.3          2.5           5.0          1.9  virginica\n",
       "147           6.5          3.0           5.2          2.0  virginica\n",
       "148           6.2          3.4           5.4          2.3  virginica\n",
       "149           5.9          3.0           5.1          1.8  virginica\n",
       "\n",
       "[150 rows x 5 columns]"
      ]
     },
     "execution_count": 4,
     "metadata": {},
     "output_type": "execute_result"
    }
   ],
   "source": [
    "df"
   ]
  },
  {
   "cell_type": "markdown",
   "id": "75cfe771",
   "metadata": {},
   "source": [
    "#### Mean"
   ]
  },
  {
   "cell_type": "code",
   "execution_count": 5,
   "id": "076c1322",
   "metadata": {},
   "outputs": [
    {
     "data": {
      "text/plain": [
       "5.843333333333335"
      ]
     },
     "execution_count": 5,
     "metadata": {},
     "output_type": "execute_result"
    }
   ],
   "source": [
    "np.mean(df['sepal_length'])"
   ]
  },
  {
   "cell_type": "code",
   "execution_count": 6,
   "id": "04a1de22",
   "metadata": {},
   "outputs": [
    {
     "data": {
      "text/plain": [
       "3.057333333333334"
      ]
     },
     "execution_count": 6,
     "metadata": {},
     "output_type": "execute_result"
    }
   ],
   "source": [
    "np.mean(df['sepal_width'])"
   ]
  },
  {
   "cell_type": "code",
   "execution_count": 7,
   "id": "5223566b",
   "metadata": {},
   "outputs": [
    {
     "data": {
      "text/plain": [
       "3.7580000000000027"
      ]
     },
     "execution_count": 7,
     "metadata": {},
     "output_type": "execute_result"
    }
   ],
   "source": [
    "np.mean(df['petal_length'])"
   ]
  },
  {
   "cell_type": "code",
   "execution_count": 8,
   "id": "0e2a9abd",
   "metadata": {},
   "outputs": [
    {
     "data": {
      "text/plain": [
       "1.199333333333334"
      ]
     },
     "execution_count": 8,
     "metadata": {},
     "output_type": "execute_result"
    }
   ],
   "source": [
    "np.mean(df['petal_width'])"
   ]
  },
  {
   "cell_type": "code",
   "execution_count": 15,
   "id": "741a3452",
   "metadata": {},
   "outputs": [
    {
     "data": {
      "text/plain": [
       "sepal_length    5.843333\n",
       "sepal_width     3.057333\n",
       "petal_length    3.758000\n",
       "petal_width     1.199333\n",
       "dtype: float64"
      ]
     },
     "execution_count": 15,
     "metadata": {},
     "output_type": "execute_result"
    }
   ],
   "source": [
    "import warnings\n",
    "warnings.filterwarnings('ignore')\n",
    "df.mean()"
   ]
  },
  {
   "cell_type": "markdown",
   "id": "b2f905b3",
   "metadata": {},
   "source": [
    "#### Median"
   ]
  },
  {
   "cell_type": "code",
   "execution_count": 16,
   "id": "3ce9525a",
   "metadata": {},
   "outputs": [
    {
     "data": {
      "text/plain": [
       "5.8"
      ]
     },
     "execution_count": 16,
     "metadata": {},
     "output_type": "execute_result"
    }
   ],
   "source": [
    "np.median(df['sepal_length'])"
   ]
  },
  {
   "cell_type": "code",
   "execution_count": 17,
   "id": "78d03119",
   "metadata": {},
   "outputs": [
    {
     "data": {
      "text/plain": [
       "3.0"
      ]
     },
     "execution_count": 17,
     "metadata": {},
     "output_type": "execute_result"
    }
   ],
   "source": [
    "np.median(df['sepal_width'])"
   ]
  },
  {
   "cell_type": "code",
   "execution_count": 18,
   "id": "eef1b446",
   "metadata": {},
   "outputs": [
    {
     "data": {
      "text/plain": [
       "4.35"
      ]
     },
     "execution_count": 18,
     "metadata": {},
     "output_type": "execute_result"
    }
   ],
   "source": [
    "np.median(df['petal_length'])"
   ]
  },
  {
   "cell_type": "code",
   "execution_count": 19,
   "id": "f24cec25",
   "metadata": {},
   "outputs": [
    {
     "data": {
      "text/plain": [
       "1.3"
      ]
     },
     "execution_count": 19,
     "metadata": {},
     "output_type": "execute_result"
    }
   ],
   "source": [
    "np.median(df['petal_width'])"
   ]
  },
  {
   "cell_type": "markdown",
   "id": "d38a914d",
   "metadata": {},
   "source": [
    "#### Mode"
   ]
  },
  {
   "cell_type": "code",
   "execution_count": 20,
   "id": "508e848e",
   "metadata": {},
   "outputs": [],
   "source": [
    "import statistics as stat"
   ]
  },
  {
   "cell_type": "code",
   "execution_count": 22,
   "id": "9cc7dea8",
   "metadata": {},
   "outputs": [
    {
     "data": {
      "text/plain": [
       "'setosa'"
      ]
     },
     "execution_count": 22,
     "metadata": {},
     "output_type": "execute_result"
    }
   ],
   "source": [
    "stat.mode(df['species'])"
   ]
  },
  {
   "cell_type": "markdown",
   "id": "d67174c7",
   "metadata": {},
   "source": [
    "#### Q3. Measure the three measures of central tendency for the given height data:\n",
    "\n",
    "#### [178,177,176,177,178.2,178,175,179,180,175,178.9,176.2,177,172.5,178,176.5]"
   ]
  },
  {
   "cell_type": "markdown",
   "id": "589a7e56",
   "metadata": {},
   "source": [
    "Ans:"
   ]
  },
  {
   "cell_type": "code",
   "execution_count": 23,
   "id": "4e71efbe",
   "metadata": {},
   "outputs": [],
   "source": [
    "l = [178,177,176,177,178.2,178,175,179,180,175,178.9,176.2,177,172.5,178,176.5]"
   ]
  },
  {
   "cell_type": "code",
   "execution_count": 24,
   "id": "0691412e",
   "metadata": {},
   "outputs": [
    {
     "data": {
      "text/plain": [
       "177.01875"
      ]
     },
     "execution_count": 24,
     "metadata": {},
     "output_type": "execute_result"
    }
   ],
   "source": [
    "np.mean(l)"
   ]
  },
  {
   "cell_type": "code",
   "execution_count": 26,
   "id": "7c254b35",
   "metadata": {},
   "outputs": [
    {
     "data": {
      "text/plain": [
       "177.0"
      ]
     },
     "execution_count": 26,
     "metadata": {},
     "output_type": "execute_result"
    }
   ],
   "source": [
    "np.median(l)"
   ]
  },
  {
   "cell_type": "code",
   "execution_count": 27,
   "id": "0951be32",
   "metadata": {},
   "outputs": [
    {
     "data": {
      "text/plain": [
       "178"
      ]
     },
     "execution_count": 27,
     "metadata": {},
     "output_type": "execute_result"
    }
   ],
   "source": [
    "stat.mode(l)"
   ]
  },
  {
   "cell_type": "markdown",
   "id": "05ef4f31",
   "metadata": {},
   "source": [
    "#### Q4. Find the standard deviation for the given data:\n",
    "\n",
    "#### [178,177,176,177,178.2,178,175,179,180,175,178.9,176.2,177,172.5,178,176.5]"
   ]
  },
  {
   "cell_type": "markdown",
   "id": "3e78a466",
   "metadata": {},
   "source": [
    "Ans:"
   ]
  },
  {
   "cell_type": "code",
   "execution_count": 28,
   "id": "9c396bff",
   "metadata": {},
   "outputs": [],
   "source": [
    "l = [178,177,176,177,178.2,178,175,179,180,175,178.9,176.2,177,172.5,178,176.5]"
   ]
  },
  {
   "cell_type": "code",
   "execution_count": 29,
   "id": "ac635f71",
   "metadata": {},
   "outputs": [
    {
     "data": {
      "text/plain": [
       "1.7885814036548633"
      ]
     },
     "execution_count": 29,
     "metadata": {},
     "output_type": "execute_result"
    }
   ],
   "source": [
    "np.std(l)"
   ]
  },
  {
   "cell_type": "markdown",
   "id": "acf8b520",
   "metadata": {},
   "source": [
    "#### Q5. How are measures of dispersion such as range, variance, and standard deviation used to describe the spread of a dataset? Provide an example."
   ]
  },
  {
   "cell_type": "markdown",
   "id": "ceecd32f",
   "metadata": {},
   "source": [
    "Ans:"
   ]
  },
  {
   "cell_type": "markdown",
   "id": "aa287382",
   "metadata": {},
   "source": [
    "range : The range is the easiest dispersion of data or measure of variability. \n",
    "        \n",
    "        The range can measure by subtracting the lowest value from the massive Number. \n",
    "        \n",
    "        The wide range indicates high variability, and the small range specifies low variability in the distribution.\n",
    "        \n",
    "        The range of a dataset is the difference between the largest and smallest values in that dataset\n",
    "        \n",
    "        To calculate a range, prepare all the values in ascending order, \n",
    "        \n",
    "        then subtract the lowest value from the highest value.\n",
    "\n",
    " .\n",
    "\n",
    "         Range = Highest_value  – Lowest_value\n",
    "    \n",
    "                \n",
    "                \n",
    "variance : Variance is a simple measure of dispersion. \n",
    "    \n",
    "           Variance measures how far each number in the dataset from the mean. \n",
    "        \n",
    "           To compute variance first, calculate the mean and squared deviations from a mean.\n",
    "           \n",
    "          \n",
    "\n",
    "    \n",
    "    \n",
    "std deviation :   Standard deviation is a squared root of the variance to get original values. \n",
    "    \n",
    "                  Low standard deviation indicates data points close to mean. \n",
    "        \n",
    "        \n",
    "                 std = sqrt(var)"
   ]
  },
  {
   "cell_type": "markdown",
   "id": "842b42ac",
   "metadata": {},
   "source": [
    "eg:"
   ]
  },
  {
   "cell_type": "markdown",
   "id": "3e7b0348",
   "metadata": {},
   "source": [
    "student_id            ---->                                   Marks\n",
    "\n",
    "  1                   --------->                                   37\n",
    "  \n",
    "  2                   --------->                                   33\n",
    "  \n",
    "  3                   --------->                                   19\n",
    "  \n",
    "  4                   --------->                                   25\n",
    "  \n",
    "  5                   --------->                                   28\n",
    "  \n",
    "  \n",
    "  \n",
    "  \n",
    "  \n",
    "Ascending order :\n",
    "\n",
    "           19  25 28 33 37\n",
    "           \n",
    "           \n",
    "           range = Highest_value - lowest_value \n",
    "           \n",
    "                 = 37 - 19 \n",
    "                 \n",
    "                 = 18\n",
    "                 \n",
    "            range = 18\n",
    "            \n",
    "            \n",
    " \n",
    "range of marks is 18\n",
    "\n",
    "\n",
    "\n",
    "The range can influence by outliers.\n",
    "\n",
    "\n",
    " \n",
    " \n",
    "  \n",
    "student_id   ---->                                          Marks\n",
    "\n",
    "  1           --------->                                           60\n",
    "  \n",
    "  2           --------->                                           33\n",
    "  \n",
    "  3           --------->                                           19\n",
    "  \n",
    "  4           --------->                                           25\n",
    "  \n",
    "  5           --------->                                           28\n",
    "  \n",
    "  \n",
    "  \n",
    "  \n",
    "Ascending order :\n",
    "\n",
    "           19  25 28 33 60\n",
    "           \n",
    "           \n",
    "           range = Highest_value - lowest_value \n",
    "           \n",
    "                 = 60 - 19 \n",
    "                 \n",
    "                 = 41\n",
    "                 \n",
    "            range = 41\n",
    "            \n",
    "\n",
    "range of marks is 41"
   ]
  },
  {
   "cell_type": "markdown",
   "id": "e6a7be96",
   "metadata": {},
   "source": [
    "#### Q6. What is a Venn diagram?"
   ]
  },
  {
   "cell_type": "markdown",
   "id": "9b0babc7",
   "metadata": {},
   "source": [
    "Ans:"
   ]
  },
  {
   "cell_type": "markdown",
   "id": "53e7bbc5",
   "metadata": {},
   "source": [
    " A Venn diagram is an illustration that uses circles to show the relationships among things or finite groups of things.\n",
    "    \n",
    "    Circles that overlap have a commonality while circles that do not overlap do not share those traits.\n",
    "\n",
    "    Venn diagrams help to visually represent the similarities and differences between two concepts. \n",
    "    \n",
    "    They have long been recognized for their usefulness as educational tools. \n",
    "    \n",
    "    Since the mid-20th century, Venn diagrams have been used as part of the introductory logic curriculum \n",
    "    \n",
    "    and in elementary-level educational plans around the world. "
   ]
  },
  {
   "cell_type": "markdown",
   "id": "2fb788cb",
   "metadata": {},
   "source": [
    "#### Q7. For the two given sets A = (2,3,4,5,6,7) & B = (0,2,6,8,10). Find:\n",
    "\n",
    "##### (i) A (intersection) B\n",
    "\n",
    "##### (ii) A (union) B"
   ]
  },
  {
   "cell_type": "markdown",
   "id": "d2f92a41",
   "metadata": {},
   "source": [
    "Ans:"
   ]
  },
  {
   "cell_type": "code",
   "execution_count": 30,
   "id": "b63eb6d6",
   "metadata": {},
   "outputs": [],
   "source": [
    "A = (2,3,4,5,6,7)\n",
    "B = (0,2,6,8,10)"
   ]
  },
  {
   "cell_type": "markdown",
   "id": "4f339e0e",
   "metadata": {},
   "source": [
    "A(intersection)B = (2,6)\n",
    "A U B (union) = (0,2,3,4,5,6,7,8,10)"
   ]
  },
  {
   "cell_type": "markdown",
   "id": "6f052546",
   "metadata": {},
   "source": [
    "#### Q8. What do you understand about skewness in data?"
   ]
  },
  {
   "cell_type": "markdown",
   "id": "4aa993b4",
   "metadata": {},
   "source": [
    "Ans:"
   ]
  },
  {
   "cell_type": "markdown",
   "id": "256feeda",
   "metadata": {},
   "source": [
    "Skewness is a measurement of the distortion of symmetrical distribution or asymmetry in a data set. \n",
    "\n",
    "Skewness is demonstrated on a bell curve when data points are not distributed symmetrically to the left and right sides \n",
    "\n",
    "of the median on a bell curve."
   ]
  },
  {
   "cell_type": "markdown",
   "id": "d94fc10c",
   "metadata": {},
   "source": [
    "#### Q9. If a data is right skewed then what will be the position of median with respect to mean?"
   ]
  },
  {
   "cell_type": "markdown",
   "id": "b2c73d6b",
   "metadata": {},
   "source": [
    "Ans:"
   ]
  },
  {
   "cell_type": "markdown",
   "id": "372fd825",
   "metadata": {},
   "source": [
    "skewness is the distortion of symmetrical distribution in data set.\n",
    "\n",
    "skewness is demonstrated on bell curve when data points are not distributed symmetrically \n",
    "\n",
    "to the left and right sides of the median on bell curve.\n",
    "\n",
    "\n",
    "rightly skewed :\n",
    "    \n",
    "    rightly skewed means at right side data is more i.e . at right side data is skewed.\n",
    "    \n",
    "    where in right skewed,\n",
    "    \n",
    "    \n",
    "    mean > median > mode.\n",
    "    \n",
    "    \n",
    "    where in no skewed , mean , mode , median  is perfectly at center.\n",
    "    \n",
    "    It also called positive skew.\n",
    "    \n",
    "    "
   ]
  },
  {
   "attachments": {
    "Screenshot%20%28431%29.png": {
     "image/png": "[encoded data removed]"
    }
   },
   "cell_type": "markdown",
   "id": "393f572b",
   "metadata": {},
   "source": [
    "![Screenshot%20%28431%29.png](attachment:Screenshot%20%28431%29.png)"
   ]
  },
  {
   "cell_type": "markdown",
   "id": "20a81409",
   "metadata": {},
   "source": [
    "#### Q10. Explain the difference between covariance and correlation. How are these measures used in statistical analysis?"
   ]
  },
  {
   "cell_type": "markdown",
   "id": "5d89b0fe",
   "metadata": {},
   "source": [
    "Ans:"
   ]
  },
  {
   "cell_type": "markdown",
   "id": "377dd381",
   "metadata": {},
   "source": [
    "covariance show how two variables are differ and correleation shows how to variables are related."
   ]
  },
  {
   "cell_type": "markdown",
   "id": "570a3c57",
   "metadata": {},
   "source": [
    "correleation :\n",
    "    \n",
    "    correleation is the quantifying relation between x and y axis with mathematical formula.\n",
    "    \n",
    "    In statistics, correlation is a measure that determines the degree to which two or more random variables \n",
    "    \n",
    "    move in sequence. When an equivalent movement of another variable reciprocates the movement of one variable \n",
    "    \n",
    "    in some way or another during the study of two variables, the variables are said to be correlated.\n",
    "    \n",
    "    \n",
    "    \n",
    "    \n",
    "    ρ (X,Y) = cov (X,Y) / σX.σY."
   ]
  },
  {
   "attachments": {},
   "cell_type": "markdown",
   "id": "fce5c0ce",
   "metadata": {},
   "source": [
    "covariance :\n",
    "    \n",
    "    The covariance value can range from -∞ to +∞, with a negative value indicating a negative relationship \n",
    "    \n",
    "    and a positive value indicating a positive relationship.\n",
    "    \n",
    "    positive covariance shows direct relationship and represented positive number.\n",
    "    \n",
    "    Negative covariance shows inverse relationship and represent negative number.\n",
    "    \n",
    "    variance of x is nothing but covariance of (x,x).\n",
    "    "
   ]
  },
  {
   "attachments": {
    "Screenshot%20%28433%29.png": {
     "image/png": "[encoded data removed]"
    }
   },
   "cell_type": "markdown",
   "id": "77926f92",
   "metadata": {},
   "source": [
    "![Screenshot%20%28433%29.png](attachment:Screenshot%20%28433%29.png)"
   ]
  },
  {
   "cell_type": "markdown",
   "id": "8347fbc1",
   "metadata": {},
   "source": [
    "#### Q11. What is the formula for calculating the sample mean? Provide an example calculation for a dataset."
   ]
  },
  {
   "cell_type": "markdown",
   "id": "d2ee9778",
   "metadata": {},
   "source": [
    "Ans:"
   ]
  },
  {
   "cell_type": "markdown",
   "id": "2b7b811a",
   "metadata": {},
   "source": [
    "formula of sample mean is  , \n",
    "\n",
    "    x̄ = ( Σ xi ) / n.\n",
    "    \n",
    "    \n",
    "    m  = sum of the terms / number of terms\n",
    "    \n",
    "    m = mean"
   ]
  },
  {
   "cell_type": "code",
   "execution_count": 3,
   "id": "0887e8db",
   "metadata": {},
   "outputs": [],
   "source": [
    "x = [1,2,3,4,5]"
   ]
  },
  {
   "cell_type": "code",
   "execution_count": 4,
   "id": "53616cc1",
   "metadata": {},
   "outputs": [],
   "source": [
    "m = (1 + 2 + 3 + 4 + 5) / 5"
   ]
  },
  {
   "cell_type": "code",
   "execution_count": 5,
   "id": "7c49bd59",
   "metadata": {},
   "outputs": [
    {
     "data": {
      "text/plain": [
       "3.0"
      ]
     },
     "execution_count": 5,
     "metadata": {},
     "output_type": "execute_result"
    }
   ],
   "source": [
    "m"
   ]
  },
  {
   "cell_type": "markdown",
   "id": "c192ae2b",
   "metadata": {},
   "source": [
    "#### OR"
   ]
  },
  {
   "cell_type": "code",
   "execution_count": 6,
   "id": "33e6f426",
   "metadata": {},
   "outputs": [],
   "source": [
    "import numpy as np "
   ]
  },
  {
   "cell_type": "code",
   "execution_count": 7,
   "id": "e4cb8025",
   "metadata": {},
   "outputs": [
    {
     "data": {
      "text/plain": [
       "3.0"
      ]
     },
     "execution_count": 7,
     "metadata": {},
     "output_type": "execute_result"
    }
   ],
   "source": [
    "np.mean(x)"
   ]
  },
  {
   "cell_type": "code",
   "execution_count": 8,
   "id": "20de7e54",
   "metadata": {},
   "outputs": [],
   "source": [
    "import seaborn as sns"
   ]
  },
  {
   "cell_type": "code",
   "execution_count": 10,
   "id": "e519001a",
   "metadata": {},
   "outputs": [],
   "source": [
    "df = sns.load_dataset('tips')"
   ]
  },
  {
   "cell_type": "code",
   "execution_count": 11,
   "id": "ab3200ee",
   "metadata": {},
   "outputs": [
    {
     "data": {
      "text/html": [
       "<div>\n",
       "<style scoped>\n",
       "    .dataframe tbody tr th:only-of-type {\n",
       "        vertical-align: middle;\n",
       "    }\n",
       "\n",
       "    .dataframe tbody tr th {\n",
       "        vertical-align: top;\n",
       "    }\n",
       "\n",
       "    .dataframe thead th {\n",
       "        text-align: right;\n",
       "    }\n",
       "</style>\n",
       "<table border=\"1\" class=\"dataframe\">\n",
       "  <thead>\n",
       "    <tr style=\"text-align: right;\">\n",
       "      <th></th>\n",
       "      <th>total_bill</th>\n",
       "      <th>tip</th>\n",
       "      <th>sex</th>\n",
       "      <th>smoker</th>\n",
       "      <th>day</th>\n",
       "      <th>time</th>\n",
       "      <th>size</th>\n",
       "    </tr>\n",
       "  </thead>\n",
       "  <tbody>\n",
       "    <tr>\n",
       "      <th>0</th>\n",
       "      <td>16.99</td>\n",
       "      <td>1.01</td>\n",
       "      <td>Female</td>\n",
       "      <td>No</td>\n",
       "      <td>Sun</td>\n",
       "      <td>Dinner</td>\n",
       "      <td>2</td>\n",
       "    </tr>\n",
       "    <tr>\n",
       "      <th>1</th>\n",
       "      <td>10.34</td>\n",
       "      <td>1.66</td>\n",
       "      <td>Male</td>\n",
       "      <td>No</td>\n",
       "      <td>Sun</td>\n",
       "      <td>Dinner</td>\n",
       "      <td>3</td>\n",
       "    </tr>\n",
       "    <tr>\n",
       "      <th>2</th>\n",
       "      <td>21.01</td>\n",
       "      <td>3.50</td>\n",
       "      <td>Male</td>\n",
       "      <td>No</td>\n",
       "      <td>Sun</td>\n",
       "      <td>Dinner</td>\n",
       "      <td>3</td>\n",
       "    </tr>\n",
       "    <tr>\n",
       "      <th>3</th>\n",
       "      <td>23.68</td>\n",
       "      <td>3.31</td>\n",
       "      <td>Male</td>\n",
       "      <td>No</td>\n",
       "      <td>Sun</td>\n",
       "      <td>Dinner</td>\n",
       "      <td>2</td>\n",
       "    </tr>\n",
       "    <tr>\n",
       "      <th>4</th>\n",
       "      <td>24.59</td>\n",
       "      <td>3.61</td>\n",
       "      <td>Female</td>\n",
       "      <td>No</td>\n",
       "      <td>Sun</td>\n",
       "      <td>Dinner</td>\n",
       "      <td>4</td>\n",
       "    </tr>\n",
       "    <tr>\n",
       "      <th>...</th>\n",
       "      <td>...</td>\n",
       "      <td>...</td>\n",
       "      <td>...</td>\n",
       "      <td>...</td>\n",
       "      <td>...</td>\n",
       "      <td>...</td>\n",
       "      <td>...</td>\n",
       "    </tr>\n",
       "    <tr>\n",
       "      <th>239</th>\n",
       "      <td>29.03</td>\n",
       "      <td>5.92</td>\n",
       "      <td>Male</td>\n",
       "      <td>No</td>\n",
       "      <td>Sat</td>\n",
       "      <td>Dinner</td>\n",
       "      <td>3</td>\n",
       "    </tr>\n",
       "    <tr>\n",
       "      <th>240</th>\n",
       "      <td>27.18</td>\n",
       "      <td>2.00</td>\n",
       "      <td>Female</td>\n",
       "      <td>Yes</td>\n",
       "      <td>Sat</td>\n",
       "      <td>Dinner</td>\n",
       "      <td>2</td>\n",
       "    </tr>\n",
       "    <tr>\n",
       "      <th>241</th>\n",
       "      <td>22.67</td>\n",
       "      <td>2.00</td>\n",
       "      <td>Male</td>\n",
       "      <td>Yes</td>\n",
       "      <td>Sat</td>\n",
       "      <td>Dinner</td>\n",
       "      <td>2</td>\n",
       "    </tr>\n",
       "    <tr>\n",
       "      <th>242</th>\n",
       "      <td>17.82</td>\n",
       "      <td>1.75</td>\n",
       "      <td>Male</td>\n",
       "      <td>No</td>\n",
       "      <td>Sat</td>\n",
       "      <td>Dinner</td>\n",
       "      <td>2</td>\n",
       "    </tr>\n",
       "    <tr>\n",
       "      <th>243</th>\n",
       "      <td>18.78</td>\n",
       "      <td>3.00</td>\n",
       "      <td>Female</td>\n",
       "      <td>No</td>\n",
       "      <td>Thur</td>\n",
       "      <td>Dinner</td>\n",
       "      <td>2</td>\n",
       "    </tr>\n",
       "  </tbody>\n",
       "</table>\n",
       "<p>244 rows × 7 columns</p>\n",
       "</div>"
      ],
      "text/plain": [
       "     total_bill   tip     sex smoker   day    time  size\n",
       "0         16.99  1.01  Female     No   Sun  Dinner     2\n",
       "1         10.34  1.66    Male     No   Sun  Dinner     3\n",
       "2         21.01  3.50    Male     No   Sun  Dinner     3\n",
       "3         23.68  3.31    Male     No   Sun  Dinner     2\n",
       "4         24.59  3.61  Female     No   Sun  Dinner     4\n",
       "..          ...   ...     ...    ...   ...     ...   ...\n",
       "239       29.03  5.92    Male     No   Sat  Dinner     3\n",
       "240       27.18  2.00  Female    Yes   Sat  Dinner     2\n",
       "241       22.67  2.00    Male    Yes   Sat  Dinner     2\n",
       "242       17.82  1.75    Male     No   Sat  Dinner     2\n",
       "243       18.78  3.00  Female     No  Thur  Dinner     2\n",
       "\n",
       "[244 rows x 7 columns]"
      ]
     },
     "execution_count": 11,
     "metadata": {},
     "output_type": "execute_result"
    }
   ],
   "source": [
    "df"
   ]
  },
  {
   "cell_type": "code",
   "execution_count": 13,
   "id": "dc227636",
   "metadata": {},
   "outputs": [
    {
     "data": {
      "text/plain": [
       "total_bill    19.785943\n",
       "tip            2.998279\n",
       "size           2.569672\n",
       "dtype: float64"
      ]
     },
     "execution_count": 13,
     "metadata": {},
     "output_type": "execute_result"
    }
   ],
   "source": [
    "import warnings\n",
    "warnings.filterwarnings('ignore')\n",
    "df.mean()"
   ]
  },
  {
   "cell_type": "markdown",
   "id": "30b74496",
   "metadata": {},
   "source": [
    "#####  Q12. For a normal distribution data what is the relationship between its measure of central tendency?"
   ]
  },
  {
   "cell_type": "markdown",
   "id": "5f0c3b78",
   "metadata": {},
   "source": [
    "Ans:"
   ]
  },
  {
   "cell_type": "markdown",
   "id": "79eb1bc1",
   "metadata": {},
   "source": [
    "when data is into normal distribution means symmetrical data , \n",
    "\n",
    "when your data is symmetrical that time ,\n",
    "\n",
    "mean , median  and mode are perfectly at center.\n",
    "\n",
    "mean = median = mode."
   ]
  },
  {
   "attachments": {
    "Screenshot%20%28436%29.png": {
     "image/png": "[encoded data removed]"
    }
   },
   "cell_type": "markdown",
   "id": "6629c691",
   "metadata": {},
   "source": [
    "![Screenshot%20%28436%29.png](attachment:Screenshot%20%28436%29.png)"
   ]
  },
  {
   "cell_type": "markdown",
   "id": "7bb39885",
   "metadata": {},
   "source": [
    "#### Q13. How is covariance different from correlation?"
   ]
  },
  {
   "cell_type": "markdown",
   "id": "b29c0737",
   "metadata": {},
   "source": [
    "Ans:"
   ]
  },
  {
   "cell_type": "markdown",
   "id": "b2558801",
   "metadata": {},
   "source": [
    "covariance show how two variables are differ and correleation shows how to variables are related.\n",
    "\n",
    "correleation :\n",
    "\n",
    "    correleation is the quantifying relation between x and y axis with mathematical formula.\n",
    "\n",
    "    In statistics, correlation is a measure that determines the degree to which two or more random variables \n",
    "\n",
    "    move in sequence. When an equivalent movement of another variable reciprocates the movement of one variable \n",
    "\n",
    "    in some way or another during the study of two variables, the variables are said to be correlated.\n",
    "\n",
    "\n",
    "\n",
    "\n",
    "    correleation :\n",
    "        \n",
    "        ρ (X,Y) = cov (X,Y) / σX.σY.\n",
    "        \n",
    "        \n",
    "\n",
    "covariance :\n",
    "\n",
    "    The covariance value can range from -∞ to +∞, with a negative value indicating a negative relationship \n",
    "\n",
    "    and a positive value indicating a positive relationship.\n",
    "\n",
    "    positive covariance shows direct relationship and represented positive number.\n",
    "\n",
    "    Negative covariance shows inverse relationship and represent negative number.\n",
    "\n",
    "    variance of x is nothing but covariance of (x,x)."
   ]
  },
  {
   "attachments": {
    "Screenshot%20%28433%29.png": {
     "image/png": "[encoded data removed]"
    }
   },
   "cell_type": "markdown",
   "id": "dd18cbb9",
   "metadata": {},
   "source": [
    "![Screenshot%20%28433%29.png](attachment:Screenshot%20%28433%29.png)"
   ]
  },
  {
   "cell_type": "markdown",
   "id": "35652f0e",
   "metadata": {},
   "source": [
    "#### Q14. How do outliers affect measures of central tendency and dispersion? Provide an example."
   ]
  },
  {
   "cell_type": "markdown",
   "id": "ffda858b",
   "metadata": {},
   "source": [
    "Ans:"
   ]
  },
  {
   "cell_type": "markdown",
   "id": "09f6472d",
   "metadata": {},
   "source": [
    "range : The range is the easiest dispersion of data or measure of variability.\n",
    "\n",
    "    The range can measure by subtracting the lowest value from the massive Number. \n",
    "\n",
    "    The wide range indicates high variability, and the small range specifies low variability in the distribution.\n",
    "\n",
    "    The range of a dataset is the difference between the largest and smallest values in that dataset\n",
    "\n",
    "    To calculate a range, prepare all the values in ascending order, \n",
    "\n",
    "    then subtract the lowest value from the highest value.\n",
    "\n",
    ".\n",
    "\n",
    "     Range = Highest_value  – Lowest_value\n",
    "\n",
    "variance : Variance is a simple measure of dispersion.\n",
    "\n",
    "       Variance measures how far each number in the dataset from the mean. \n",
    "\n",
    "       To compute variance first, calculate the mean and squared deviations from a mean.\n",
    "\n",
    "std deviation : Standard deviation is a squared root of the variance to get original values.\n",
    "\n",
    "              Low standard deviation indicates data points close to mean. \n",
    "\n",
    "\n",
    "             std = sqrt(var)\n",
    "\n",
    "eg:\n",
    "\n",
    "student_id ----> Marks\n",
    "\n",
    "1 ---------> 37\n",
    "\n",
    "2 ---------> 33\n",
    "\n",
    "3 ---------> 19\n",
    "\n",
    "4 ---------> 25\n",
    "\n",
    "5 ---------> 28\n",
    "\n",
    "Ascending order :\n",
    "\n",
    "       19  25 28 33 37\n",
    "\n",
    "\n",
    "       range = Highest_value - lowest_value \n",
    "\n",
    "             = 37 - 19 \n",
    "\n",
    "             = 18\n",
    "\n",
    "        range = 18\n",
    "\n",
    "range of marks is 18\n",
    "\n",
    "The range can influence by outliers.\n",
    "\n",
    "student_id ----> Marks\n",
    "\n",
    "1 ---------> 60\n",
    "\n",
    "2 ---------> 33\n",
    "\n",
    "3 ---------> 19\n",
    "\n",
    "4 ---------> 25\n",
    "\n",
    "5 ---------> 28\n",
    "\n",
    "Ascending order :\n",
    "\n",
    "       19  25 28 33 60\n",
    "\n",
    "\n",
    "       range = Highest_value - lowest_value \n",
    "\n",
    "             = 60 - 19 \n",
    "\n",
    "             = 41\n",
    "\n",
    "        range = 41\n",
    "\n",
    "range of marks is 41\n"
   ]
  }
 ],
 "metadata": {
  "kernelspec": {
   "display_name": "Python 3 (ipykernel)",
   "language": "python",
   "name": "python3"
  },
  "language_info": {
   "codemirror_mode": {
    "name": "ipython",
    "version": 3
   },
   "file_extension": ".py",
   "mimetype": "text/x-python",
   "name": "python",
   "nbconvert_exporter": "python",
   "pygments_lexer": "ipython3",
   "version": "3.9.7"
  }
 },
 "nbformat": 4,
 "nbformat_minor": 5
}
