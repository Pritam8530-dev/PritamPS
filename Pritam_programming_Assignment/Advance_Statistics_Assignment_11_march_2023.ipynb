{
 "cells": [
  {
   "cell_type": "markdown",
   "id": "8f8d10f8",
   "metadata": {},
   "source": [
    "#### Q1: What is the difference between a t-test and a z-test? Provide an example scenario where you would use each type of test"
   ]
  },
  {
   "cell_type": "markdown",
   "id": "dfc17720",
   "metadata": {},
   "source": [
    "Ans:"
   ]
  },
  {
   "cell_type": "markdown",
   "id": "ee8890ec",
   "metadata": {},
   "source": [
    "T test and Z test both is used in hypothesis testing for making conclusion.\n",
    "\n",
    "T test used in smaller sample size and z test used in large sample size.\n",
    "\n",
    "When in problem statment , we are not get population standerd deviation then we use T test.\n",
    "\n",
    "when you know population standerd deviation and sample size is more than or above or equal to 30 then use z test.\n",
    "\n",
    "when you know population standerd deviation but sample size is less than 30 then use T test.\n",
    "\n",
    "when you unknow population standerd deviation and sample size is less than 30 then use T test.\n",
    "\n",
    "z test = (sample_mean - population_mean) / (population std deviation)\n",
    "\n",
    "T test = (sample_mean - population_mean) / (sample standerd deviation / np.sqrt(sample_size)"
   ]
  },
  {
   "cell_type": "markdown",
   "id": "a0b36836",
   "metadata": {},
   "source": [
    "#### Q2: Differentiate between one-tailed and two-tailed tests."
   ]
  },
  {
   "cell_type": "markdown",
   "id": "1568359c",
   "metadata": {},
   "source": [
    "Ans:"
   ]
  },
  {
   "cell_type": "markdown",
   "id": "1eae3f46",
   "metadata": {},
   "source": [
    "One-tailed Tests\n",
    "\n",
    "A one-tailed test may be either left-tailed or right-tailed.\n",
    "\n",
    "A left-tailed test is used when the alternative hypothesis states that the true value of \n",
    "\n",
    "the parameter specified in the null hypothesis is less than the null hypothesis claims.\n",
    "\n",
    "A right-tailed test is used when the alternative hypothesis states that the true value of\n",
    "\n",
    "the parameter specified in the null hypothesis is greater than the null hypothesis claims.\n",
    "\n",
    "\n",
    "Two-tailed Tests\n",
    "\n",
    "The main difference between one-tailed and two-tailed tests is that one-tailed tests will \n",
    "\n",
    "only have one critical region whereas two-tailed tests will have two critical regions. If we require a 100(1−α)\n",
    "\n",
    "% confidence interval we have to make some adjustments when using a two-tailed test.\n",
    "\n",
    "The confidence interval must remain a constant size, so if we are performing a two-tailed test,\n",
    "\n",
    "as there are twice as many critical regions then these critical regions must be half the size. \n",
    "\n",
    "This means that when we read the tables, when performing a two-tailed test, we need to consider α2\n",
    "\n",
    "rather than α."
   ]
  },
  {
   "cell_type": "markdown",
   "id": "1fa37b4b",
   "metadata": {},
   "source": [
    "#### Q3: Explain the concept of Type 1 and Type 2 errors in hypothesis testing. Provide an example scenario for each type of error."
   ]
  },
  {
   "cell_type": "markdown",
   "id": "0f6375fd",
   "metadata": {},
   "source": [
    "Ans:"
   ]
  },
  {
   "cell_type": "markdown",
   "id": "db9e9337",
   "metadata": {},
   "source": [
    "Hypothesis testing is evaluate the evidances for to reject or accept null hypothesis.\n",
    "\n",
    "Its type of infrential statistics. It come on conclusion for making decision.\n",
    "\n",
    "when you perform hypothesis testing , \n",
    "\n",
    "reality : null hypothesis is True ( accept ) and null hypothesis is False ( reject )\n",
    "    \n",
    "Decision : null hypothesis is True ( accept ) and null hypothesis is False( accept )\n",
    "    \n",
    "    \n",
    "Type 1 Error :\n",
    "    \n",
    "    we reject null hypothesis when in reality null hypothesis is True.\n",
    "    \n",
    "    that is False positive condition.\n",
    "    \n",
    "    eg :you have data of iris setosa and iris virginica.\n",
    "        \n",
    "        when your actual value is setosa but it is predicted as virginica.\n",
    "        \n",
    "        \n",
    "        \n",
    "Type 2 Error :\n",
    "    \n",
    "    we accept null hypothesis when in reality it is False.\n",
    "    \n",
    "    that is False Negative condition.\n",
    "    \n",
    "    eg : your actual value is virginica but it is predicted as setosa."
   ]
  },
  {
   "cell_type": "markdown",
   "id": "795b450c",
   "metadata": {},
   "source": [
    "#### Q4: Explain Bayes's theorem with an example"
   ]
  },
  {
   "cell_type": "markdown",
   "id": "b3d37cc7",
   "metadata": {},
   "source": [
    "Ans:"
   ]
  },
  {
   "cell_type": "markdown",
   "id": "310d59e0",
   "metadata": {},
   "source": [
    "Bayes statistics approach of data analysis and estimation parameter based on bayes theorem.\n",
    "\n",
    "p(B/A) = p(B) * p(A/B) / p(A)\n",
    "\n",
    "\n",
    "P(B/A)  = Likelihood probability : probability of B . A is happened.\n",
    "\n",
    "p(A/B) = posterior probability : probability of A . B is happened.\n",
    "\n",
    "p(A) = priority probability\n",
    "\n",
    "p(B) = Marginal probaility\n",
    "\n",
    "\n",
    "\n",
    "Likelihood probability = Marginal probability * posterior probability / prior probability."
   ]
  },
  {
   "cell_type": "markdown",
   "id": "b96f02c3",
   "metadata": {},
   "source": [
    "#### Q5: What is a confidence interval? How to calculate the confidence interval, explain with an example."
   ]
  },
  {
   "cell_type": "markdown",
   "id": "ad98b987",
   "metadata": {},
   "source": [
    "Ans:"
   ]
  },
  {
   "cell_type": "markdown",
   "id": "8bc5e0e3",
   "metadata": {},
   "source": [
    "confidence interval is the range of values to estimate unknown population parameter.\n",
    "\n",
    "confidence interval is also called interval estimate.\n",
    "\n",
    "\n",
    "confidence interval = (sample mean) +  z * (standerd deviation / np.sqrt(sample size))"
   ]
  },
  {
   "cell_type": "markdown",
   "id": "6bae8cc3",
   "metadata": {},
   "source": [
    "eg :\n",
    "\n",
    "A retail company wants to rate the quality of a product by using results from a customer satisfaction survey. \n",
    "\n",
    "In the survey, the company asks respondents to rate the quality on a scale of one to five, \n",
    "\n",
    "with one being the poorest quality and five being the highest quality.\n",
    "\n",
    "The sample size is 25, the sample mean is 4.5 and the standard deviation is 2.5. \n",
    "\n",
    "The company calculates the confidence interval assuming a 97% confidence level."
   ]
  },
  {
   "cell_type": "code",
   "execution_count": 29,
   "id": "67cabace",
   "metadata": {},
   "outputs": [],
   "source": [
    "sample_size = 25\n",
    "\n",
    "sample_mean = 4.5\n",
    "\n",
    "standerd_deviation = 2.5\n",
    "\n",
    "z = 0.97\n",
    "\n",
    "import numpy as np\n",
    "import math"
   ]
  },
  {
   "cell_type": "code",
   "execution_count": 30,
   "id": "d9b16151",
   "metadata": {},
   "outputs": [],
   "source": [
    "confidence_interval_lower_limit = (sample_mean) - z * (standerd_deviation / np.sqrt(sample_size))"
   ]
  },
  {
   "cell_type": "code",
   "execution_count": 31,
   "id": "17886701",
   "metadata": {},
   "outputs": [
    {
     "data": {
      "text/plain": [
       "4.015"
      ]
     },
     "execution_count": 31,
     "metadata": {},
     "output_type": "execute_result"
    }
   ],
   "source": [
    "confidence_interval_lower_limit"
   ]
  },
  {
   "cell_type": "code",
   "execution_count": 32,
   "id": "3b07d8fd",
   "metadata": {},
   "outputs": [],
   "source": [
    "confidence_interval_upper_limit = (sample_mean) + z * (standerd_deviation / np.sqrt(sample_size))"
   ]
  },
  {
   "cell_type": "code",
   "execution_count": 33,
   "id": "2e5d7aad",
   "metadata": {},
   "outputs": [
    {
     "data": {
      "text/plain": [
       "4.985"
      ]
     },
     "execution_count": 33,
     "metadata": {},
     "output_type": "execute_result"
    }
   ],
   "source": [
    "confidence_interval_upper_limit"
   ]
  },
  {
   "cell_type": "markdown",
   "id": "0925306c",
   "metadata": {},
   "source": [
    "conclusion :\n",
    "\n",
    "The confidence interval ranges between 4.985 and 4.015, which means the customers in the sample rate the product quality between four and five. The company's confidence level of 97% represents the likelihood that these results are the same within the entire population of customers."
   ]
  },
  {
   "cell_type": "markdown",
   "id": "5a161f7a",
   "metadata": {},
   "source": [
    "#### Q7. Calculate the 95% confidence interval for a sample of data with a mean of 50 and a standard deviation of 5. Interpret the results."
   ]
  },
  {
   "cell_type": "markdown",
   "id": "1b57e5d9",
   "metadata": {},
   "source": [
    "Ans:"
   ]
  },
  {
   "cell_type": "code",
   "execution_count": 34,
   "id": "778926fe",
   "metadata": {},
   "outputs": [],
   "source": [
    "z = 0.95\n",
    "\n",
    "sample_mean = 50\n",
    "\n",
    "standerd_deviation = 5\n",
    "\n",
    "sample_size = 25"
   ]
  },
  {
   "cell_type": "code",
   "execution_count": 35,
   "id": "b178f283",
   "metadata": {},
   "outputs": [],
   "source": [
    "confidence_interval_lower_limit = (sample_mean) - z * (standerd_deviation/ np.sqrt(sample_size))"
   ]
  },
  {
   "cell_type": "code",
   "execution_count": 36,
   "id": "0d6f5774",
   "metadata": {},
   "outputs": [
    {
     "data": {
      "text/plain": [
       "49.05"
      ]
     },
     "execution_count": 36,
     "metadata": {},
     "output_type": "execute_result"
    }
   ],
   "source": [
    "confidence_interval_lower_limit"
   ]
  },
  {
   "cell_type": "code",
   "execution_count": 37,
   "id": "9a8e7bd4",
   "metadata": {},
   "outputs": [],
   "source": [
    "confidence_interval_upper_limit = (sample_mean) + z * (standerd_deviation / np.sqrt(sample_size))"
   ]
  },
  {
   "cell_type": "code",
   "execution_count": 38,
   "id": "7893b807",
   "metadata": {},
   "outputs": [
    {
     "data": {
      "text/plain": [
       "50.95"
      ]
     },
     "execution_count": 38,
     "metadata": {},
     "output_type": "execute_result"
    }
   ],
   "source": [
    "confidence_interval_upper_limit"
   ]
  },
  {
   "cell_type": "markdown",
   "id": "e24f90f7",
   "metadata": {},
   "source": [
    "confidence interval range between 49.05 to 50.95"
   ]
  },
  {
   "cell_type": "markdown",
   "id": "9fc829a8",
   "metadata": {},
   "source": [
    "#### Q8. What is the margin of error in a confidence interval? How does sample size affect the margin of error? Provide an example of a scenario where a larger sample size would result in a smaller margin of error."
   ]
  },
  {
   "cell_type": "markdown",
   "id": "2752939a",
   "metadata": {},
   "source": [
    "Ans:"
   ]
  },
  {
   "cell_type": "markdown",
   "id": "3e07fa2f",
   "metadata": {},
   "source": [
    "The margin of error is half the confidence interval. The larger the sample, the smaller the margin of error.\n",
    "\n",
    "As sample size increases, the margin of error decreases. \n",
    "\n",
    "As the variability in the population increases, the margin of error increases.\n",
    "\n",
    "As the confidence level increases, the margin of error increases."
   ]
  },
  {
   "cell_type": "markdown",
   "id": "58fb30a4",
   "metadata": {},
   "source": [
    "#### Q9. Calculate the z-score for a data point with a value of 75, a population mean of 70, and a population standard deviation of 5. Interpret the results"
   ]
  },
  {
   "cell_type": "markdown",
   "id": "c3daa014",
   "metadata": {},
   "source": [
    "Ans:"
   ]
  },
  {
   "cell_type": "code",
   "execution_count": 41,
   "id": "a5b1e8a0",
   "metadata": {},
   "outputs": [],
   "source": [
    "x = 75\n",
    "\n",
    "pop_mean = 70\n",
    "\n",
    "standerd_deviation = 5"
   ]
  },
  {
   "cell_type": "code",
   "execution_count": 42,
   "id": "d5188add",
   "metadata": {},
   "outputs": [],
   "source": [
    "z_score = (x - pop_mean) / standerd_deviation"
   ]
  },
  {
   "cell_type": "code",
   "execution_count": 43,
   "id": "053c9e20",
   "metadata": {},
   "outputs": [
    {
     "data": {
      "text/plain": [
       "1.0"
      ]
     },
     "execution_count": 43,
     "metadata": {},
     "output_type": "execute_result"
    }
   ],
   "source": [
    "z_score"
   ]
  },
  {
   "cell_type": "markdown",
   "id": "5b3fc7b2",
   "metadata": {},
   "source": [
    "#### Q10. In a study of the effectiveness of a new weight loss drug, a sample of 50 participants lost an average of 6 pounds with a standard deviation of 2.5 pounds. Conduct a hypothesis test to determine if the drug is significantly effective at a 95% confidence level using a t-test."
   ]
  },
  {
   "cell_type": "markdown",
   "id": "b0836aff",
   "metadata": {},
   "source": [
    "Ans:"
   ]
  },
  {
   "cell_type": "code",
   "execution_count": 54,
   "id": "5a85a805",
   "metadata": {},
   "outputs": [],
   "source": [
    "n = 50\n",
    "\n",
    "sample_mean = 6\n",
    "\n",
    "standerd_deviation = 2.5\n",
    "\n",
    "CI = 0.95\n",
    "\n",
    "pop_mean = 0\n",
    "\n",
    "significance_value = 1 - 0.95"
   ]
  },
  {
   "cell_type": "code",
   "execution_count": 55,
   "id": "cf5c5b6c",
   "metadata": {},
   "outputs": [
    {
     "data": {
      "text/plain": [
       "0.050000000000000044"
      ]
     },
     "execution_count": 55,
     "metadata": {},
     "output_type": "execute_result"
    }
   ],
   "source": [
    "significance_value"
   ]
  },
  {
   "cell_type": "markdown",
   "id": "678b7142",
   "metadata": {},
   "source": [
    "Null hypothesis(H0):\n",
    "    \n",
    "    Assumption :  The weight loss drug is not significantly effective, and the average weight loss in the \n",
    "        \n",
    "                  population is equal to or less than 0 pounds. \n",
    "            \n",
    "            \n",
    "                  The null hypothesis assumes that the population mean weight loss is equal to or less than 0 pounds.\n",
    "                \n",
    "                  In other words, the null hypothesis assumes that the weight loss drug has no effect on weight loss\n",
    "    \n",
    "Alternate Hypothesis(H1):\n",
    "    \n",
    "    Assumption : The weight loss drug is significantly effective, \n",
    "        \n",
    "                 and the average weight loss in the population is greater than 0 pounds.\n",
    "            \n",
    "            \n",
    "                The alternative hypothesis assumes that the population mean weight loss is greater than 0 pounds, \n",
    "                \n",
    "                which would mean that the weight loss drug is effective in causing weight loss. \n",
    "                \n",
    "                \n",
    "                \n",
    "This is a common assumption for null hypotheses in studies investigating the effectiveness of interventions or treatments, \n",
    "\n",
    "where the null hypothesis assumes no effect of the intervention or treatment."
   ]
  },
  {
   "cell_type": "code",
   "execution_count": 57,
   "id": "ab2eed12",
   "metadata": {},
   "outputs": [],
   "source": [
    "t_test = (sample_mean - pop_mean ) / (standerd_deviation / np.sqrt(n))"
   ]
  },
  {
   "cell_type": "code",
   "execution_count": 58,
   "id": "ccc7a3ae",
   "metadata": {},
   "outputs": [
    {
     "data": {
      "text/plain": [
       "16.970562748477143"
      ]
     },
     "execution_count": 58,
     "metadata": {},
     "output_type": "execute_result"
    }
   ],
   "source": [
    "t_test"
   ]
  },
  {
   "cell_type": "code",
   "execution_count": 60,
   "id": "91d21317",
   "metadata": {},
   "outputs": [],
   "source": [
    "df = n - 1"
   ]
  },
  {
   "cell_type": "code",
   "execution_count": 61,
   "id": "472d9dcd",
   "metadata": {},
   "outputs": [
    {
     "data": {
      "text/plain": [
       "49"
      ]
     },
     "execution_count": 61,
     "metadata": {},
     "output_type": "execute_result"
    }
   ],
   "source": [
    "df"
   ]
  },
  {
   "cell_type": "code",
   "execution_count": 62,
   "id": "599587a1",
   "metadata": {},
   "outputs": [],
   "source": [
    "from scipy.stats import t"
   ]
  },
  {
   "cell_type": "code",
   "execution_count": 72,
   "id": "eb12fee1",
   "metadata": {},
   "outputs": [],
   "source": [
    "p_value = t.sf(abs(t_test) , df) "
   ]
  },
  {
   "cell_type": "code",
   "execution_count": 73,
   "id": "d296ffee",
   "metadata": {},
   "outputs": [
    {
     "data": {
      "text/plain": [
       "1.8584420417635101e-22"
      ]
     },
     "execution_count": 73,
     "metadata": {},
     "output_type": "execute_result"
    }
   ],
   "source": [
    "p_value"
   ]
  },
  {
   "cell_type": "code",
   "execution_count": 76,
   "id": "197714dc",
   "metadata": {},
   "outputs": [
    {
     "name": "stdout",
     "output_type": "stream",
     "text": [
      "reject the null hypothesis\n"
     ]
    }
   ],
   "source": [
    "if p_value < significance_value:\n",
    "    print('reject the null hypothesis')\n",
    "    \n",
    "else:\n",
    "    print('Fail to reject the null hypothesis')"
   ]
  },
  {
   "cell_type": "markdown",
   "id": "11a5f940",
   "metadata": {},
   "source": [
    "conclusion :\n",
    "    \n",
    "    The population mean weight loss is greater than 0 pounds, \n",
    "                \n",
    "    which would mean that the weight loss drug is effective in causing weight loss. \n",
    "                "
   ]
  },
  {
   "cell_type": "markdown",
   "id": "fffe873e",
   "metadata": {},
   "source": [
    "#### Q11. In a survey of 500 people, 65% reported being satisfied with their current job. Calculate the 95% confidence interval for the true proportion of people who are satisfied with their job"
   ]
  },
  {
   "cell_type": "code",
   "execution_count": 109,
   "id": "3743ed5b",
   "metadata": {},
   "outputs": [],
   "source": [
    "n = 500\n",
    "\n",
    "p = 0.65\n",
    "\n",
    "z = 1.96 # ( z value for 95 % CI)\n",
    "\n",
    "## p: proportion of people in the sample who are satisfied with their job (p-hat)"
   ]
  },
  {
   "cell_type": "code",
   "execution_count": 110,
   "id": "3cb597f3",
   "metadata": {},
   "outputs": [
    {
     "data": {
      "text/plain": [
       "1.96"
      ]
     },
     "execution_count": 110,
     "metadata": {},
     "output_type": "execute_result"
    }
   ],
   "source": [
    "z"
   ]
  },
  {
   "cell_type": "code",
   "execution_count": 111,
   "id": "0679912b",
   "metadata": {},
   "outputs": [],
   "source": [
    "confidence_interval_higher = p + z *(np.sqrt (p *(1 - p) / n))"
   ]
  },
  {
   "cell_type": "code",
   "execution_count": 112,
   "id": "44537835",
   "metadata": {},
   "outputs": [
    {
     "data": {
      "text/plain": [
       "0.6918082288550951"
      ]
     },
     "execution_count": 112,
     "metadata": {},
     "output_type": "execute_result"
    }
   ],
   "source": [
    "confidence_interval_higher"
   ]
  },
  {
   "cell_type": "code",
   "execution_count": 113,
   "id": "6df63f2b",
   "metadata": {},
   "outputs": [],
   "source": [
    "confidence_interval_lower = p - z *(np.sqrt (p *(1 - p) / n))"
   ]
  },
  {
   "cell_type": "code",
   "execution_count": 114,
   "id": "75847acb",
   "metadata": {},
   "outputs": [
    {
     "data": {
      "text/plain": [
       "0.608191771144905"
      ]
     },
     "execution_count": 114,
     "metadata": {},
     "output_type": "execute_result"
    }
   ],
   "source": [
    "confidence_interval_lower"
   ]
  },
  {
   "cell_type": "markdown",
   "id": "ba8fa454",
   "metadata": {},
   "source": [
    "conclusion : \n",
    "    \n",
    "    Therefore, the 95% confidence interval for the true proportion of people who are satisfied with their job is \n",
    "    \n",
    "    (0.608, 0.692) or (60.8%, 69.2%). This means that we can be 95% confident that the true proportion of people who\n",
    "    \n",
    "    are satisfied with their job lies between 60.8% and 69.2%."
   ]
  },
  {
   "cell_type": "markdown",
   "id": "59c05b5b",
   "metadata": {},
   "source": [
    "#### Q13. A population has a mean of 60 and a standard deviation of 8. A sample of 50 observations has a mean of 65. Calculate the 90% confidence interval for the true population mean."
   ]
  },
  {
   "cell_type": "markdown",
   "id": "bea97aa9",
   "metadata": {},
   "source": [
    "Ans:"
   ]
  },
  {
   "cell_type": "code",
   "execution_count": 149,
   "id": "27fa7a87",
   "metadata": {},
   "outputs": [],
   "source": [
    "sample_mean = 65\n",
    "\n",
    "standerd_deviation = 8\n",
    "\n",
    "n = 50\n",
    "\n",
    "z = 1.645\n",
    "\n",
    "significance_value = 1 - 0.90"
   ]
  },
  {
   "cell_type": "code",
   "execution_count": 133,
   "id": "335315c5",
   "metadata": {},
   "outputs": [],
   "source": [
    "CI_lower_limit = (sample_mean) - z *(standerd_deviation / np.sqrt(n))"
   ]
  },
  {
   "cell_type": "code",
   "execution_count": 134,
   "id": "93a02335",
   "metadata": {},
   "outputs": [
    {
     "data": {
      "text/plain": [
       "63.13889495191701"
      ]
     },
     "execution_count": 134,
     "metadata": {},
     "output_type": "execute_result"
    }
   ],
   "source": [
    "CI_lower_limit"
   ]
  },
  {
   "cell_type": "code",
   "execution_count": 135,
   "id": "eb129efc",
   "metadata": {},
   "outputs": [],
   "source": [
    "CI_higher_limit = (sample_mean) + z *(standerd_deviation / np.sqrt(n))"
   ]
  },
  {
   "cell_type": "code",
   "execution_count": 136,
   "id": "b3470644",
   "metadata": {},
   "outputs": [
    {
     "data": {
      "text/plain": [
       "66.86110504808299"
      ]
     },
     "execution_count": 136,
     "metadata": {},
     "output_type": "execute_result"
    }
   ],
   "source": [
    "CI_higher_limit "
   ]
  },
  {
   "cell_type": "markdown",
   "id": "c52d4f52",
   "metadata": {},
   "source": [
    "conclusion :The 90% confidence interval for the true population mean is between 63.13889495191701 to 66.86110504808299"
   ]
  },
  {
   "cell_type": "markdown",
   "id": "ea445198",
   "metadata": {},
   "source": [
    "#### Q14. In a study of the effects of caffeine on reaction time, a sample of 30 participants had an average reaction time of 0.25 seconds with a standard deviation of 0.05 seconds. Conduct a hypothesis test to determine if the caffeine has a significant effect on reaction time at a 90% confidence level using a t-test."
   ]
  },
  {
   "cell_type": "markdown",
   "id": "85610de2",
   "metadata": {},
   "source": [
    "Ans:"
   ]
  },
  {
   "cell_type": "markdown",
   "id": "5c484402",
   "metadata": {},
   "source": [
    "Null hypothesis:\n",
    "    \n",
    "    Assumption : the caffeine has a not significant effect on reaction time\n",
    "        \n",
    "        \n",
    "Alternate hypothesis :\n",
    "    \n",
    "    Assumption : the caffeine has a significant effect on reaction time not equal to 0.25 seconds\n",
    "    \n",
    "    "
   ]
  },
  {
   "cell_type": "code",
   "execution_count": 137,
   "id": "63d395f9",
   "metadata": {},
   "outputs": [],
   "source": [
    "n = 30\n",
    "\n",
    "sample_mean = 0.25\n",
    "\n",
    "standerd_deviation = 0.05\n",
    "\n",
    "pop_mean = 0"
   ]
  },
  {
   "cell_type": "code",
   "execution_count": 138,
   "id": "42c26b25",
   "metadata": {},
   "outputs": [],
   "source": [
    "t_stat = (sample_mean - pop_mean) / (standerd_deviation / np.sqrt(n))"
   ]
  },
  {
   "cell_type": "code",
   "execution_count": 139,
   "id": "29f54d44",
   "metadata": {},
   "outputs": [
    {
     "data": {
      "text/plain": [
       "27.386127875258307"
      ]
     },
     "execution_count": 139,
     "metadata": {},
     "output_type": "execute_result"
    }
   ],
   "source": [
    "t_stat"
   ]
  },
  {
   "cell_type": "code",
   "execution_count": 145,
   "id": "af4adafc",
   "metadata": {},
   "outputs": [],
   "source": [
    "df = n - 1"
   ]
  },
  {
   "cell_type": "code",
   "execution_count": 147,
   "id": "daef39b6",
   "metadata": {},
   "outputs": [],
   "source": [
    "p_value = t.sf(abs(t_stat) ,df)"
   ]
  },
  {
   "cell_type": "code",
   "execution_count": 148,
   "id": "a4b36124",
   "metadata": {},
   "outputs": [
    {
     "data": {
      "text/plain": [
       "1.4162622442556677e-22"
      ]
     },
     "execution_count": 148,
     "metadata": {},
     "output_type": "execute_result"
    }
   ],
   "source": [
    "p_value"
   ]
  },
  {
   "cell_type": "code",
   "execution_count": 150,
   "id": "82304f32",
   "metadata": {},
   "outputs": [
    {
     "name": "stdout",
     "output_type": "stream",
     "text": [
      "reject the null hypothesis\n"
     ]
    }
   ],
   "source": [
    "if p_value < significance_value:\n",
    "    \n",
    "    print('reject the null hypothesis')\n",
    "    \n",
    "else:\n",
    "    \n",
    "    print('Failed to reject the null hypothesis')"
   ]
  },
  {
   "cell_type": "markdown",
   "id": "237bb255",
   "metadata": {},
   "source": [
    "conclusion:\n",
    "    \n",
    "    Based on results the caffeine has a significant effect on reaction time at 90 % confidence interval"
   ]
  }
 ],
 "metadata": {
  "kernelspec": {
   "display_name": "Python 3 (ipykernel)",
   "language": "python",
   "name": "python3"
  },
  "language_info": {
   "codemirror_mode": {
    "name": "ipython",
    "version": 3
   },
   "file_extension": ".py",
   "mimetype": "text/x-python",
   "name": "python",
   "nbconvert_exporter": "python",
   "pygments_lexer": "ipython3",
   "version": "3.9.7"
  }
 },
 "nbformat": 4,
 "nbformat_minor": 5
}
