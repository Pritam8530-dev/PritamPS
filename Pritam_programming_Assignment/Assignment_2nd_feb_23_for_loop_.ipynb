{
 "cells": [
  {
   "cell_type": "markdown",
   "id": "51b5cc44",
   "metadata": {},
   "source": [
    "Q1. Explain with an example each when to use a for loop and a while loop."
   ]
  },
  {
   "cell_type": "markdown",
   "id": "48ea4a6c",
   "metadata": {},
   "source": [
    "Ans :\n",
    "\n",
    "\n",
    "For Loop :\n",
    "\n",
    "For loop is sequencial loop. It iterating over sequence. \n",
    "\n",
    "It execute the loop till its sequence is not completed. \n",
    "\n",
    "It does not having condition based.\n",
    "\n",
    "For is the keyword which is used in for loop.\n",
    "\n",
    "There is one iterating variable and another is iterable sequence.\n",
    "\n",
    "for loop having keyword like break and continue\n",
    "\n",
    "Break : is used for to break the loop and stops the iteration and terminate the loop and control get out of the loop.\n",
    "\n",
    "continue : is used to continue means it skip the current iteration and control goes for next iteration.\n",
    "\n",
    "pass : pass is just like for oocupied space.\n",
    "\n",
    "else is executing when it complete iterate for loop if there is like break keyword it is not execute."
   ]
  },
  {
   "cell_type": "markdown",
   "id": "4292cd0d",
   "metadata": {},
   "source": [
    "example :"
   ]
  },
  {
   "cell_type": "code",
   "execution_count": 44,
   "id": "9f5e0d3b",
   "metadata": {},
   "outputs": [
    {
     "name": "stdout",
     "output_type": "stream",
     "text": [
      "1\n",
      "2\n",
      "3\n",
      "4\n",
      "5\n"
     ]
    }
   ],
   "source": [
    "def example():\n",
    "    \n",
    "    l =[1,2,3,4,5,6,7,8,9]\n",
    "    \n",
    "    for i in l:\n",
    "        \n",
    "        print(i)\n",
    "        \n",
    "        if i == 5:\n",
    "            \n",
    "            break\n",
    "            \n",
    "        \n",
    "    else:\n",
    "        \n",
    "        print('It will be not execute')\n",
    "            \n",
    "\n",
    "example()\n",
    "        "
   ]
  },
  {
   "cell_type": "code",
   "execution_count": 1,
   "id": "cf4daf17",
   "metadata": {},
   "outputs": [
    {
     "name": "stdout",
     "output_type": "stream",
     "text": [
      "1\n",
      "2\n",
      "3\n",
      "4\n",
      "6\n",
      "7\n",
      "8\n",
      "9\n",
      "It will be execute\n"
     ]
    }
   ],
   "source": [
    "def example_1():\n",
    "    \n",
    "    l =[1,2,3,4,5,6,7,8,9]\n",
    "    \n",
    "    for i in l:\n",
    "        \n",
    "        \n",
    "        \n",
    "        if i == 5:\n",
    "            \n",
    "            continue\n",
    "            \n",
    "        print(i)\n",
    "        \n",
    "    else:\n",
    "        \n",
    "        print('It will be execute')\n",
    "            \n",
    "\n",
    "example_1()\n",
    "        "
   ]
  },
  {
   "cell_type": "markdown",
   "id": "2b502d96",
   "metadata": {},
   "source": [
    "While Loop : while loop is also sequensial loop but it is condition based . it will iterate till condition satisfy / True . when condition get disatisfy / false then it stops the execution and terminate the loop and control get out of the loop.It has three important aspects is initialization (initialize value for iterating variable ) , condition (put condition based on business logic) ,increment(for terminate loop at fix point).if we are not put icrement then loop become infinite."
   ]
  },
  {
   "cell_type": "code",
   "execution_count": 20,
   "id": "24cab18d",
   "metadata": {},
   "outputs": [
    {
     "name": "stdout",
     "output_type": "stream",
     "text": [
      "1\n",
      "2\n",
      "3\n",
      "4\n",
      "5\n",
      "6\n"
     ]
    }
   ],
   "source": [
    "def example_2():\n",
    "    \n",
    "    \n",
    "    i = 1                       # initialize iterating variable\n",
    "    n = 10\n",
    "    \n",
    "    while i < n :               # condition\n",
    "        \n",
    "        print(i)\n",
    "        \n",
    "        if i == 6 :\n",
    "            \n",
    "            break\n",
    "            \n",
    "        i = i + 1              # Increment\n",
    "        \n",
    "        \n",
    "        \n",
    "\n",
    "    else:\n",
    "        print('it will be not execute')\n",
    "            \n",
    "            \n",
    "example_2()\n",
    "    \n",
    "    "
   ]
  },
  {
   "cell_type": "code",
   "execution_count": 19,
   "id": "472ca4d5",
   "metadata": {},
   "outputs": [
    {
     "name": "stdout",
     "output_type": "stream",
     "text": [
      "1\n",
      "2\n",
      "3\n",
      "4\n",
      "5\n",
      "6\n",
      "7\n",
      "8\n",
      "9\n",
      "it will be execute\n"
     ]
    }
   ],
   "source": [
    "def example_3():\n",
    "    \n",
    "    \n",
    "    i = 1                       # initialize iterating variable\n",
    "    n = 10\n",
    "    \n",
    "    while i < n :               \n",
    "        \n",
    "        print(i)                # condition\n",
    "            \n",
    "        i = i + 1              # Increment\n",
    "        \n",
    "        \n",
    "        \n",
    "\n",
    "    else:\n",
    "        print('it will be execute')\n",
    "            \n",
    "            \n",
    "example_3()\n",
    "    \n",
    "    "
   ]
  },
  {
   "cell_type": "markdown",
   "id": "e643492d",
   "metadata": {},
   "source": [
    "Q2. Write a python program to print the sum and product of the first 10 natural numbers using for\n",
    "and while loop."
   ]
  },
  {
   "cell_type": "markdown",
   "id": "7ce74ab8",
   "metadata": {},
   "source": [
    "Ans :"
   ]
  },
  {
   "cell_type": "code",
   "execution_count": 18,
   "id": "90c5089d",
   "metadata": {},
   "outputs": [
    {
     "name": "stdout",
     "output_type": "stream",
     "text": [
      "sum of first 10 natural numbers are : 55\n",
      "product of first 10 natural numbers are : 3628800\n"
     ]
    }
   ],
   "source": [
    "def sum_product_for_loop():\n",
    "    \n",
    "    sum_for = 0\n",
    "    product_for = 1\n",
    "    \n",
    "    n = 11\n",
    "    \n",
    "    for i in range(1 , n):\n",
    "        \n",
    "        sum_for = sum_for + i\n",
    "        \n",
    "        product_for = product_for * i\n",
    "        \n",
    "    print('sum of first 10 natural numbers are :',sum_for)\n",
    "    print('product of first 10 natural numbers are :' , product_for)\n",
    "        \n",
    "sum_product_for_loop()"
   ]
  },
  {
   "cell_type": "code",
   "execution_count": 17,
   "id": "0038e8d3",
   "metadata": {},
   "outputs": [
    {
     "name": "stdout",
     "output_type": "stream",
     "text": [
      "sum of first 10 natural numbers are : 55\n",
      "product of first 10 natural numbers are : 3628800\n"
     ]
    }
   ],
   "source": [
    "def sum_product_while_loop():\n",
    "    \n",
    "    i = 1\n",
    "    \n",
    "    sum_while = 0\n",
    "    \n",
    "    product_while = 1\n",
    "    \n",
    "    n = 10\n",
    "    \n",
    "    \n",
    "    while i <=n:\n",
    "        \n",
    "        sum_while = sum_while + i \n",
    "        \n",
    "        product_while = product_while * i\n",
    "        \n",
    "        i = i + 1\n",
    "        \n",
    "        \n",
    "    print('sum of first 10 natural numbers are :',sum_while)\n",
    "    print('product of first 10 natural numbers are :' , product_while)\n",
    "        \n",
    "        \n",
    "    \n",
    "sum_product_while_loop()"
   ]
  },
  {
   "cell_type": "markdown",
   "id": "c34ec4aa",
   "metadata": {},
   "source": [
    "Q.3.\n",
    "\n",
    "Create a python program to compute the electricity bill for a household.\n",
    "The per-unit charges in rupees are as follows: For the first 100 units, the user will be charged Rs. 4.5 per\n",
    "unit, for the next 100 units, the user will be charged Rs. 6 per unit, and for the next 100 units, the user will\n",
    "be charged Rs. 10 per unit, After 300 units and above the user will be charged Rs. 20 per unit.\n",
    "You are required to take the units of electricity consumed in a month from the user as input.\n",
    "Your program must pass this test case: when the unit of electricity consumed by the user in a month is\n",
    "310, the total electricity bill should be 2250."
   ]
  },
  {
   "cell_type": "markdown",
   "id": "baf63d39",
   "metadata": {},
   "source": [
    "Ans:"
   ]
  },
  {
   "cell_type": "code",
   "execution_count": 32,
   "id": "d9c2089f",
   "metadata": {},
   "outputs": [
    {
     "name": "stdout",
     "output_type": "stream",
     "text": [
      "Please Enter the units :310\n",
      "Electricity_bill is : 3250.0\n"
     ]
    }
   ],
   "source": [
    "def electricity_bill_calculator(unit):\n",
    "    \n",
    "    if unit<=100:\n",
    "        \n",
    "        unit_charge = 4.5\n",
    "        \n",
    "        electricity_bill = unit * unit_charge\n",
    "        \n",
    "        print('Electricity_bill is :' , electricity_bill)\n",
    "        \n",
    "    elif unit >100 and unit <= 200 :\n",
    "        \n",
    "        unit_charge = 6\n",
    "        \n",
    "        electricity_bill = (100 * 4.5) + ((unit -100) * unit_charge)\n",
    "        \n",
    "        print('Electricity_bill is :' , electricity_bill)\n",
    "        \n",
    "    elif unit > 200 and unit <= 300 :\n",
    "        \n",
    "        unit_charge = 10\n",
    "        \n",
    "        electricity_bill = (100 * 4.5) + (100 * 6) + ((unit - 200) * unit_charge)\n",
    "        \n",
    "        print('Electricity_bill is :' , electricity_bill)\n",
    "        \n",
    "    elif unit > 300 :\n",
    "        \n",
    "        unit_charge = 20\n",
    "        \n",
    "        electricity_bill = (100 * 4.5 ) + (100 * 6) + (100 * 20 ) + ((unit - 300) * unit_charge)\n",
    "        \n",
    "        print('Electricity_bill is :' , electricity_bill)\n",
    "        \n",
    "        \n",
    "unit = int(input('Please Enter the units :' ,))\n",
    "\n",
    "electricity_bill_calculator(unit)"
   ]
  },
  {
   "cell_type": "markdown",
   "id": "f33c5e90",
   "metadata": {},
   "source": [
    "Q4. Create a list of numbers from 1 to 100. Use for loop and while loop to calculate the cube of each\n",
    "number and if the cube of that number is divisible by 4 or 5 then append that number in a list and print\n",
    "that list."
   ]
  },
  {
   "cell_type": "markdown",
   "id": "77eaa43e",
   "metadata": {},
   "source": [
    "Ans:"
   ]
  },
  {
   "cell_type": "code",
   "execution_count": 39,
   "id": "fa57ff1f",
   "metadata": {},
   "outputs": [
    {
     "name": "stdout",
     "output_type": "stream",
     "text": [
      "[8, 64, 125, 216, 512, 1000, 1728, 2744, 3375, 4096, 5832, 8000, 10648, 13824, 15625, 17576, 21952, 27000, 32768, 39304, 42875, 46656, 54872, 64000, 74088, 85184, 91125, 97336, 110592, 125000, 140608, 157464, 166375, 175616, 195112, 216000, 238328, 262144, 274625, 287496, 314432, 343000, 373248, 405224, 421875, 438976, 474552, 512000, 551368, 592704, 614125, 636056, 681472, 729000, 778688, 830584, 857375, 884736, 941192, 1000000]\n"
     ]
    }
   ],
   "source": [
    "def cube_for_loop(list_numbers):\n",
    "    \n",
    "    list_numbers_1 =[]\n",
    "    \n",
    "    \n",
    "    for i in list_numbers:\n",
    "        \n",
    "       \n",
    "        \n",
    "        i = i ** 3\n",
    "        \n",
    "        \n",
    "        \n",
    "        if i % 4 == 0 or i % 5 == 0 :\n",
    "            \n",
    "            list_numbers_1.append(i)\n",
    "            \n",
    "        \n",
    "    print(list_numbers_1)\n",
    "            \n",
    "\n",
    "list_numbers = list(range(1,101))            \n",
    "cube_for_loop(list_numbers)   "
   ]
  },
  {
   "cell_type": "markdown",
   "id": "71c635cd",
   "metadata": {},
   "source": [
    "Q5. Write a program to filter count vowels in the below-given string.\n",
    "string = \"I want to become a data scientist\""
   ]
  },
  {
   "cell_type": "markdown",
   "id": "825c4e6d",
   "metadata": {},
   "source": [
    "Ans:"
   ]
  },
  {
   "cell_type": "code",
   "execution_count": 43,
   "id": "36d3b722",
   "metadata": {},
   "outputs": [
    {
     "name": "stdout",
     "output_type": "stream",
     "text": [
      "Here count of vowels are : 12\n"
     ]
    }
   ],
   "source": [
    "def vowels_count(vowels):\n",
    "    \n",
    "    count = 0\n",
    "    \n",
    "    for i in s:\n",
    "        \n",
    "        if i in vowels :\n",
    "            \n",
    "            count = count + 1\n",
    "            \n",
    "    print('Here count of vowels are :', count)\n",
    "    \n",
    "\n",
    "vowels = ['a','e','i','o','u','A','E','I','O','U']\n",
    "\n",
    "s = \"I want to become a data scientist\"\n",
    "\n",
    "vowels_count(vowels)"
   ]
  }
 ],
 "metadata": {
  "kernelspec": {
   "display_name": "Python 3 (ipykernel)",
   "language": "python",
   "name": "python3"
  },
  "language_info": {
   "codemirror_mode": {
    "name": "ipython",
    "version": 3
   },
   "file_extension": ".py",
   "mimetype": "text/x-python",
   "name": "python",
   "nbconvert_exporter": "python",
   "pygments_lexer": "ipython3",
   "version": "3.9.7"
  }
 },
 "nbformat": 4,
 "nbformat_minor": 5
}
