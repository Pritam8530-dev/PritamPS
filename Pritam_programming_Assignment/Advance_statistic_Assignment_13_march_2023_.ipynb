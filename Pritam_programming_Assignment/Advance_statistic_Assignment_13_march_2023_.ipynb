{
 "cells": [
  {
   "cell_type": "markdown",
   "id": "26540a99",
   "metadata": {},
   "source": [
    "#### Q1. Explain the assumptions required to use ANOVA and provide examples of violations that could impact the validity of the results."
   ]
  },
  {
   "cell_type": "markdown",
   "id": "0467981b",
   "metadata": {},
   "source": [
    "Ans:"
   ]
  },
  {
   "cell_type": "markdown",
   "id": "c9c3ee04",
   "metadata": {},
   "source": [
    "ANOVA : \n",
    "    \n",
    "    \n",
    "    ANOVA is the analyasis of variance. \n",
    "    \n",
    "    It is the statistical test which is used to compare mean of two or more group.\n",
    "\n",
    "\n",
    "ANOVA having some assumptions :\n",
    "\n",
    "\n",
    "1. Normality of sampling distribution of mean :\n",
    "    \n",
    "    \n",
    "    sampling distribution of mean is normal.\n",
    "    \n",
    "    \n",
    "2.Absence of outliers :\n",
    "    \n",
    "    In dataset  , no any outliers . if there is outliers are present . Then , need to remove it.\n",
    "    \n",
    "    \n",
    "3.Homogenaty of variance:\n",
    "    \n",
    "    factor contain diffrent levels and levels having diffrent samples. Each sample variance is same.\n",
    "    \n",
    "    \n",
    "4.sampels are independent and random."
   ]
  },
  {
   "cell_type": "markdown",
   "id": "cf91eec8",
   "metadata": {},
   "source": [
    "#### Q2. What are the three types of ANOVA, and in what situations would each be used?"
   ]
  },
  {
   "cell_type": "markdown",
   "id": "f703e3ec",
   "metadata": {},
   "source": [
    "Ans:"
   ]
  },
  {
   "cell_type": "markdown",
   "id": "573b40fd",
   "metadata": {},
   "source": [
    "ANOVA has three types:\n",
    "    \n",
    "    1.one way ANOVA :\n",
    "        \n",
    "        one factor with atleast two levels . levels are independent\n",
    "        \n",
    "        eg : \n",
    "            \n",
    "            factor : medicine\n",
    "                \n",
    "                \n",
    "        Levels    10 mg     20 mg     20 mg\n",
    "        \n",
    "        \n",
    "    2.Repeated measures ANOVA :\n",
    "        \n",
    "        one factor with atleast two levels . levels are dependent.\n",
    "        \n",
    "        \n",
    "        eg :\n",
    "            \n",
    "            \n",
    "            factor  :Running\n",
    "                \n",
    "                \n",
    "                \n",
    "            levels  Day1    Day2   Day3                      (dependent is same man is running for day3 and he increase\n",
    "                                                             \n",
    "                                                              his running by 1 km everyday as compare to yestarday.)\n",
    "            \n",
    "            \n",
    "    3.factorial ANOVA :\n",
    "        \n",
    "        \n",
    "        Two or more factors. Each factor atleast two levels . levels can be either independent and dependent.\n",
    "        \n",
    "        \n",
    "        factor : Running\n",
    "            \n",
    "            \n",
    "        Levels                              Day1             Day2                    Day3\n",
    "        \n",
    "        \n",
    "        \n",
    "        Factor : Gender \n",
    "            \n",
    "        \n",
    "        levels                            Male               Female\n",
    "        \n",
    "        \n",
    "        \n",
    "    here , factor running has three levels day1 day2 day3 and it is dependent.\n",
    "        \n",
    "    in factor gender ,levels are male and female .It is independent(because male and female having diffent capacity to run)"
   ]
  },
  {
   "cell_type": "markdown",
   "id": "b006f79b",
   "metadata": {},
   "source": [
    "#### Q3. What is the partitioning of variance in ANOVA, and why is it important to understand this concept?"
   ]
  },
  {
   "cell_type": "markdown",
   "id": "bcb3ab05",
   "metadata": {},
   "source": [
    "Ans:"
   ]
  },
  {
   "cell_type": "markdown",
   "id": "28fdedc6",
   "metadata": {},
   "source": [
    "This can be used to quantify the unique variance explained by individual predictor variables or predictor tables \n",
    "\n",
    "as well as their overlap with other variables in the model. In this way, \n",
    "\n",
    "variance partitioning enables us to better understand the effects of our predictor variables on the response variable."
   ]
  },
  {
   "cell_type": "markdown",
   "id": "3b53ef8a",
   "metadata": {},
   "source": [
    "#### Q4. How would you calculate the total sum of squares (SST), explained sum of squares (SSE), and residual sum of squares (SSR) in a one-way ANOVA using Python?"
   ]
  },
  {
   "cell_type": "markdown",
   "id": "531297b9",
   "metadata": {},
   "source": [
    "Ans:"
   ]
  },
  {
   "cell_type": "markdown",
   "id": "09de045a",
   "metadata": {},
   "source": [
    "sum of squares total(SST):\n",
    "    \n",
    "    The sum of squares total, denoted SST, is the squared differences between the observed dependent variable and its mean. \n",
    "\n",
    "    It is a measure of the total variability of the dataset.\n",
    "\n",
    "    There is another notation for the SST. It is TSS or total sum of squares.\n",
    "    \n",
    "    \n",
    "sum of squares regression(SSR):\n",
    "    \n",
    "    \n",
    "    The second term is the sum of squares due to regression, or SSR. \n",
    "    \n",
    "    It is the sum of the differences between the predicted value and the mean of the dependent variable. \n",
    "    \n",
    "    If this value of SSR is equal to the sum of squares total, \n",
    "    \n",
    "    it means our regression model captures all the observed variability and is perfect. \n",
    "    \n",
    "    Once again, we have to mention that another common notation is ESS or explained sum of squares.\n",
    "    \n",
    "    \n",
    "\n",
    "sum of squares error(SSE):\n",
    "    \n",
    "    The last term is the sum of squares error, or SSE. \n",
    "    \n",
    "    The error is the difference between the observed value and the predicted value.\n",
    "    \n",
    "    We usually want to minimize the error. \n",
    "    \n",
    "    The smaller the error, the better the estimation power of the regression. \n",
    "    \n",
    "    Finally, I should add that it is also known as RSS or residual sum of squares. "
   ]
  },
  {
   "cell_type": "markdown",
   "id": "d0b506aa",
   "metadata": {},
   "source": [
    "#### Q5. In a two-way ANOVA, how would you calculate the main effects and interaction effects using Python?"
   ]
  },
  {
   "cell_type": "markdown",
   "id": "b45f5690",
   "metadata": {},
   "source": [
    "Ans:"
   ]
  },
  {
   "cell_type": "markdown",
   "id": "3340c8a0",
   "metadata": {},
   "source": [
    "Two-way ANOVAs find interaction effects and main effects. \n",
    "\n",
    "This means that the results of an ANOVA will investigate the main effect for each variable as well as the interaction effects between them.\n",
    "\n",
    "The interaction term in a two-way ANOVA informs you whether the effect of \n",
    "\n",
    "one of your independent variables on the dependent variable is the same for all values of your other independent variable."
   ]
  },
  {
   "cell_type": "markdown",
   "id": "a60af2b0",
   "metadata": {},
   "source": [
    "#### Q6. Suppose you conducted a one-way ANOVA and obtained an F-statistic of 5.23 and a p-value of 0.02. What can you conclude about the differences between the groups, and how would you interpret these results?"
   ]
  },
  {
   "cell_type": "markdown",
   "id": "f834bb57",
   "metadata": {},
   "source": [
    "Ans:"
   ]
  },
  {
   "cell_type": "markdown",
   "id": "76495c2a",
   "metadata": {},
   "source": [
    "if you conducted a one-way ANOVA and obtained an F-statistic of 5.23 and a p-value of 0.02, \n",
    "\n",
    "it means that there is a significant difference between the means of at least two of the groups being compared.\n",
    "\n",
    "The F-statistic measures the ratio of the variance between groups to the variance within groups. \n",
    "\n",
    "A large F-statistic indicates that the variance between groups is larger than the variance within groups, \n",
    "\n",
    "which suggests that there are significant differences between the means of the groups being compared.\n",
    "\n",
    "The p-value is the probability of observing the results (or more extreme results) by chance, \n",
    "\n",
    "assuming that the null hypothesis is true. In this case, \n",
    "\n",
    "the null hypothesis is that there is no difference between the means of the groups being compared. \n",
    "\n",
    "A p-value of 0.02 means that there is only a 2% chance of observing the results (or more extreme results) by chance, \n",
    "\n",
    "assuming that the null hypothesis is true. This is below the commonly used significance level of 0.05, \n",
    "\n",
    "which indicates that we can reject the null hypothesis and conclude that there is a \n",
    "\n",
    "significant difference between the means of at least two of the groups being compared.\n",
    "\n",
    "In terms of interpretation, these results suggest that there are significant differences in the outcome variable\n",
    "\n",
    "across the groups being compared. However, \n",
    "\n",
    "the ANOVA does not provide information on which specific groups are different from each other. \n",
    "\n",
    "To determine which groups differ significantly, post-hoc tests (such as Tukeys test or Bonferroni correction) \n",
    "\n",
    "can be conducted."
   ]
  },
  {
   "cell_type": "markdown",
   "id": "a4f8b2be",
   "metadata": {},
   "source": [
    "#### Q7. In a repeated measures ANOVA, how would you handle missing data, and what are the potential consequences of using different methods to handle missing data?"
   ]
  },
  {
   "cell_type": "markdown",
   "id": "de77d74a",
   "metadata": {},
   "source": [
    "Ans:"
   ]
  },
  {
   "cell_type": "markdown",
   "id": "2ba36a4b",
   "metadata": {},
   "source": [
    "One of the most effective ways of dealing with missing data is multiple imputation (MI). \n",
    "\n",
    "Using MI, we can create multiple plausible replacements of the missing data, \n",
    "\n",
    "given what we have observed and a statistical model (the imputation model)"
   ]
  },
  {
   "cell_type": "markdown",
   "id": "b068e9c1",
   "metadata": {},
   "source": [
    "#### Q8. What are some common post-hoc tests used after ANOVA, and when would you use each one? Provide an example of a situation where a post-hoc test might be necessary."
   ]
  },
  {
   "cell_type": "markdown",
   "id": "1f3658de",
   "metadata": {},
   "source": [
    "Ans:"
   ]
  },
  {
   "cell_type": "markdown",
   "id": "f5d917a0",
   "metadata": {},
   "source": [
    "Post hoc tests are an integral part of ANOVA. When you use ANOVA to test the equality of at least three group means, \n",
    "\n",
    "statistically significant results indicate that not all of the group means are equal. \n",
    "\n",
    "However, ANOVA results do not identify which particular differences between pairs of means are significant. \n",
    "\n",
    "Use post hoc tests to explore differences between multiple group means while controlling the experiment-wise error rate.\n",
    "\n",
    "he Bonferroni is probably the most commonly used post hoc test, \n",
    "\n",
    "because it is highly flexible, very simple to compute, and can be used with any type of statistical test\n",
    "\n",
    "(e.g., correlations)—not just post hoc tests with ANOVA."
   ]
  },
  {
   "cell_type": "markdown",
   "id": "49ba10c7",
   "metadata": {},
   "source": [
    "#### Q9. A researcher wants to compare the mean weight loss of three diets: A, B, and C. They collect data from 50 participants who were randomly assigned to one of the diets. Conduct a one-way ANOVA using Python to determine if there are any significant differences between the mean weight loss of the three diets. Report the F-statistic and p-value, and interpret the results."
   ]
  },
  {
   "cell_type": "markdown",
   "id": "a47acb14",
   "metadata": {},
   "source": [
    "Ans:"
   ]
  },
  {
   "cell_type": "code",
   "execution_count": 2,
   "id": "1c7fcb46",
   "metadata": {},
   "outputs": [],
   "source": [
    "import numpy as np\n",
    "from scipy.stats import f_oneway"
   ]
  },
  {
   "cell_type": "code",
   "execution_count": 3,
   "id": "efef46e9",
   "metadata": {},
   "outputs": [],
   "source": [
    "n = 50\n",
    "\n",
    "A = np.array([[9.87, 9.03, 6.81],\n",
    "\n",
    "              [7.18, 8.35, 7.00],\n",
    "\n",
    "              [8.39, 7.58, 7.68],\n",
    "\n",
    "              [7.45, 6.33, 9.35],\n",
    "\n",
    "              [6.41, 7.10, 9.33],\n",
    "\n",
    "              [8.00, 8.24, 8.44]])\n",
    "\n",
    "B = np.array([[6.35, 7.30, 7.16],\n",
    "\n",
    "              [6.65, 6.68, 7.63],\n",
    "\n",
    "              [5.72, 7.73, 6.72],\n",
    "\n",
    "              [7.01, 9.19, 7.41],\n",
    "\n",
    "              [7.75, 7.87, 8.30],\n",
    "\n",
    "              [6.90, 7.97, 6.97]])\n",
    "\n",
    "C = np.array([[3.31, 8.77, 1.01],\n",
    "\n",
    "              [8.25, 3.24, 3.62],\n",
    "\n",
    "              [6.32, 8.81, 5.19],\n",
    "\n",
    "              [7.48, 8.83, 8.91],\n",
    "\n",
    "              [8.59, 6.01, 6.07],\n",
    "\n",
    "              [3.07, 9.72, 7.48]])"
   ]
  },
  {
   "cell_type": "code",
   "execution_count": 5,
   "id": "829b7fa4",
   "metadata": {},
   "outputs": [],
   "source": [
    "f , p = f_oneway(A,B,C)"
   ]
  },
  {
   "cell_type": "code",
   "execution_count": 6,
   "id": "e07046cd",
   "metadata": {},
   "outputs": [
    {
     "data": {
      "text/plain": [
       "array([1.75676344, 0.03701228, 3.76439349])"
      ]
     },
     "execution_count": 6,
     "metadata": {},
     "output_type": "execute_result"
    }
   ],
   "source": [
    "f"
   ]
  },
  {
   "cell_type": "code",
   "execution_count": 7,
   "id": "53c093f3",
   "metadata": {},
   "outputs": [
    {
     "data": {
      "text/plain": [
       "array([0.20630784, 0.96375203, 0.04733157])"
      ]
     },
     "execution_count": 7,
     "metadata": {},
     "output_type": "execute_result"
    }
   ],
   "source": [
    "p"
   ]
  }
 ],
 "metadata": {
  "kernelspec": {
   "display_name": "Python 3 (ipykernel)",
   "language": "python",
   "name": "python3"
  },
  "language_info": {
   "codemirror_mode": {
    "name": "ipython",
    "version": 3
   },
   "file_extension": ".py",
   "mimetype": "text/x-python",
   "name": "python",
   "nbconvert_exporter": "python",
   "pygments_lexer": "ipython3",
   "version": "3.9.7"
  }
 },
 "nbformat": 4,
 "nbformat_minor": 5
}
