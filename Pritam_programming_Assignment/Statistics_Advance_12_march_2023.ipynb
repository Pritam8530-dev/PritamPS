{
 "cells": [
  {
   "cell_type": "markdown",
   "id": "3bc4da99",
   "metadata": {},
   "source": [
    "#### Q1. Calculate the 95% confidence interval for a sample of data with a mean of 50 and a standard deviation of 5 using Python. Interpret the results"
   ]
  },
  {
   "cell_type": "markdown",
   "id": "14d865df",
   "metadata": {},
   "source": [
    "Ans:"
   ]
  },
  {
   "cell_type": "code",
   "execution_count": 10,
   "id": "dba298ed",
   "metadata": {},
   "outputs": [],
   "source": [
    "import numpy as np\n",
    "import math as m"
   ]
  },
  {
   "cell_type": "code",
   "execution_count": 11,
   "id": "d15137a8",
   "metadata": {},
   "outputs": [],
   "source": [
    "sample_mean = 50\n",
    "\n",
    "standerd_deviation = 5\n",
    "\n",
    "n = 100\n",
    "\n",
    "z = 1.96"
   ]
  },
  {
   "cell_type": "code",
   "execution_count": 12,
   "id": "b3a7f8bc",
   "metadata": {},
   "outputs": [],
   "source": [
    "confidence_interval_lower_bound = (sample_mean) - z * (standerd_deviation / np.sqrt(n))"
   ]
  },
  {
   "cell_type": "code",
   "execution_count": 13,
   "id": "262f3db6",
   "metadata": {},
   "outputs": [
    {
     "data": {
      "text/plain": [
       "49.02"
      ]
     },
     "execution_count": 13,
     "metadata": {},
     "output_type": "execute_result"
    }
   ],
   "source": [
    "confidence_interval_lower_bound"
   ]
  },
  {
   "cell_type": "code",
   "execution_count": 14,
   "id": "16fad1ae",
   "metadata": {},
   "outputs": [],
   "source": [
    "confidence_interval_upper_bound = (sample_mean) + z * (standerd_deviation / np.sqrt(n))"
   ]
  },
  {
   "cell_type": "code",
   "execution_count": 15,
   "id": "51ca0de6",
   "metadata": {},
   "outputs": [
    {
     "data": {
      "text/plain": [
       "50.98"
      ]
     },
     "execution_count": 15,
     "metadata": {},
     "output_type": "execute_result"
    }
   ],
   "source": [
    "confidence_interval_upper_bound"
   ]
  },
  {
   "cell_type": "markdown",
   "id": "a5526ebb",
   "metadata": {},
   "source": [
    "confidence interval range is from 49.02 to 50.98"
   ]
  },
  {
   "cell_type": "markdown",
   "id": "dd467335",
   "metadata": {},
   "source": [
    "#### Q2. Conduct a chi-square goodness of fit test to determine if the distribution of colors of M&Ms in a bag matches the expected distribution of 20% blue, 20% orange, 20% green, 10% yellow, 10% red, and 20% brown. Use Python to perform the test with a significance level of 0.05"
   ]
  },
  {
   "cell_type": "markdown",
   "id": "bf15a842",
   "metadata": {},
   "source": [
    "Ans:"
   ]
  },
  {
   "cell_type": "code",
   "execution_count": 27,
   "id": "dc4890f7",
   "metadata": {},
   "outputs": [],
   "source": [
    "observed_data = [10, 15, 20, 5, 5, 15]\n",
    "n  = 70\n",
    "df = len(observed_data) - 1\n",
    "expected_data = [14, 14, 14, 7, 7, 14]"
   ]
  },
  {
   "cell_type": "code",
   "execution_count": 28,
   "id": "c72e3f94",
   "metadata": {},
   "outputs": [
    {
     "data": {
      "text/plain": [
       "5"
      ]
     },
     "execution_count": 28,
     "metadata": {},
     "output_type": "execute_result"
    }
   ],
   "source": [
    "df"
   ]
  },
  {
   "cell_type": "code",
   "execution_count": 29,
   "id": "540ae6bd",
   "metadata": {},
   "outputs": [],
   "source": [
    "import scipy.stats as stat"
   ]
  },
  {
   "cell_type": "markdown",
   "id": "bc6cffcd",
   "metadata": {},
   "source": [
    "Null hypothesis(H0):\n",
    "    \n",
    "    Assumption : distribution of colors of M&Ms in a bag matches the expected distribution\n",
    "        \n",
    "        \n",
    "Alternate Hypothesis(H1):\n",
    "    \n",
    "    Assumption : distribution of colors of M&Ms in a bag not matches the expected distribution"
   ]
  },
  {
   "cell_type": "code",
   "execution_count": 31,
   "id": "d882e165",
   "metadata": {},
   "outputs": [],
   "source": [
    "t_test_stat , p_value = stat.chisquare( expected_data , observed_data )"
   ]
  },
  {
   "cell_type": "code",
   "execution_count": 32,
   "id": "f71b30cb",
   "metadata": {},
   "outputs": [
    {
     "data": {
      "text/plain": [
       "5.133333333333333"
      ]
     },
     "execution_count": 32,
     "metadata": {},
     "output_type": "execute_result"
    }
   ],
   "source": [
    "t_test_stat"
   ]
  },
  {
   "cell_type": "code",
   "execution_count": 33,
   "id": "e0d7250c",
   "metadata": {},
   "outputs": [
    {
     "data": {
      "text/plain": [
       "0.3998258290730223"
      ]
     },
     "execution_count": 33,
     "metadata": {},
     "output_type": "execute_result"
    }
   ],
   "source": [
    "p_value"
   ]
  },
  {
   "cell_type": "code",
   "execution_count": 35,
   "id": "f90d5bd3",
   "metadata": {},
   "outputs": [],
   "source": [
    "critical_value = stat.chi2.ppf(1-0.05 ,df)"
   ]
  },
  {
   "cell_type": "code",
   "execution_count": 36,
   "id": "6d20dc15",
   "metadata": {},
   "outputs": [
    {
     "data": {
      "text/plain": [
       "11.070497693516351"
      ]
     },
     "execution_count": 36,
     "metadata": {},
     "output_type": "execute_result"
    }
   ],
   "source": [
    "critical_value"
   ]
  },
  {
   "cell_type": "code",
   "execution_count": 37,
   "id": "94fcb65e",
   "metadata": {},
   "outputs": [
    {
     "name": "stdout",
     "output_type": "stream",
     "text": [
      "Fail to reject the null hypothesis\n"
     ]
    }
   ],
   "source": [
    "if p_value > critical_value :\n",
    "    \n",
    "    print('Reject the null hypothesis')\n",
    "    \n",
    "else:\n",
    "    \n",
    "    print('Fail to reject the null hypothesis')"
   ]
  },
  {
   "cell_type": "markdown",
   "id": "ccad76fa",
   "metadata": {},
   "source": [
    "conclusion :\n",
    "    \n",
    "    Distribution of colors of M&Ms in a bag not matches the expected distribution"
   ]
  },
  {
   "cell_type": "markdown",
   "id": "f1b4eec7",
   "metadata": {},
   "source": [
    "#### Q3. Use Python to calculate the chi-square statistic and p-value for a contingency table with the following data:\n",
    "#### Interpret the results of the test.\n",
    "\n",
    "#### Ans:\n"
   ]
  },
  {
   "cell_type": "code",
   "execution_count": 43,
   "id": "b8b4778b",
   "metadata": {},
   "outputs": [],
   "source": [
    "expected_data = [20,25,15]\n",
    "observed_data = [15,25,20]\n",
    "categories = 3"
   ]
  },
  {
   "cell_type": "code",
   "execution_count": 44,
   "id": "278193ed",
   "metadata": {},
   "outputs": [],
   "source": [
    "df = categories - 1 "
   ]
  },
  {
   "cell_type": "code",
   "execution_count": 45,
   "id": "641e62b6",
   "metadata": {},
   "outputs": [
    {
     "data": {
      "text/plain": [
       "2"
      ]
     },
     "execution_count": 45,
     "metadata": {},
     "output_type": "execute_result"
    }
   ],
   "source": [
    "df"
   ]
  },
  {
   "cell_type": "code",
   "execution_count": 46,
   "id": "93ddd289",
   "metadata": {},
   "outputs": [],
   "source": [
    "t_test , p_value  = stat.chisquare(observed_data , expected_data)"
   ]
  },
  {
   "cell_type": "code",
   "execution_count": 47,
   "id": "6e5b8ec9",
   "metadata": {},
   "outputs": [
    {
     "data": {
      "text/plain": [
       "2.916666666666667"
      ]
     },
     "execution_count": 47,
     "metadata": {},
     "output_type": "execute_result"
    }
   ],
   "source": [
    "t_test"
   ]
  },
  {
   "cell_type": "code",
   "execution_count": 48,
   "id": "643f93c2",
   "metadata": {},
   "outputs": [
    {
     "data": {
      "text/plain": [
       "0.23262365791729261"
      ]
     },
     "execution_count": 48,
     "metadata": {},
     "output_type": "execute_result"
    }
   ],
   "source": [
    "p_value"
   ]
  },
  {
   "cell_type": "code",
   "execution_count": 51,
   "id": "8276ead0",
   "metadata": {},
   "outputs": [],
   "source": [
    "critical_value = stat.chi2.ppf(1-0.095 , df)"
   ]
  },
  {
   "cell_type": "code",
   "execution_count": 52,
   "id": "c54441ce",
   "metadata": {},
   "outputs": [
    {
     "data": {
      "text/plain": [
       "4.707756774763194"
      ]
     },
     "execution_count": 52,
     "metadata": {},
     "output_type": "execute_result"
    }
   ],
   "source": [
    "critical_value "
   ]
  },
  {
   "cell_type": "code",
   "execution_count": 54,
   "id": "cc410db9",
   "metadata": {},
   "outputs": [
    {
     "name": "stdout",
     "output_type": "stream",
     "text": [
      "Fail to reject the null hypothesis\n"
     ]
    }
   ],
   "source": [
    "if p_value > critical_value :\n",
    "    \n",
    "    print('Reject the null hypothesis')\n",
    "    \n",
    "else:\n",
    "    \n",
    "    print('Fail to reject the null hypothesis')\n",
    "    "
   ]
  },
  {
   "cell_type": "markdown",
   "id": "a1cd5a72",
   "metadata": {},
   "source": [
    "#### Q4. A study of the prevalence of smoking in a population of 500 individuals found that 60 individuals smoked. Use Python to calculate the 95% confidence interval for the true proportion of individuals in the population who smoke"
   ]
  },
  {
   "cell_type": "markdown",
   "id": "d3f87bfa",
   "metadata": {},
   "source": [
    "Ans:"
   ]
  },
  {
   "cell_type": "code",
   "execution_count": 76,
   "id": "9a6a88ca",
   "metadata": {},
   "outputs": [],
   "source": [
    "n = 60\n",
    "p = 60 / 500\n",
    "z = 1.96"
   ]
  },
  {
   "cell_type": "code",
   "execution_count": 77,
   "id": "8da60af1",
   "metadata": {},
   "outputs": [],
   "source": [
    "CI_lower = p - z *(np.sqrt(p * (1 - p) / n))\n",
    "#CI = p ± z*(sqrt(p*(1-p)/n))"
   ]
  },
  {
   "cell_type": "code",
   "execution_count": 78,
   "id": "ea83461e",
   "metadata": {},
   "outputs": [
    {
     "data": {
      "text/plain": [
       "0.037773386303460124"
      ]
     },
     "execution_count": 78,
     "metadata": {},
     "output_type": "execute_result"
    }
   ],
   "source": [
    "CI_lower"
   ]
  },
  {
   "cell_type": "code",
   "execution_count": 79,
   "id": "59f2047f",
   "metadata": {},
   "outputs": [],
   "source": [
    "CI_upper = p + z * (np.sqrt(p *(1 - p) / n))"
   ]
  },
  {
   "cell_type": "code",
   "execution_count": 80,
   "id": "66dc8ec4",
   "metadata": {},
   "outputs": [
    {
     "data": {
      "text/plain": [
       "0.20222661369653988"
      ]
     },
     "execution_count": 80,
     "metadata": {},
     "output_type": "execute_result"
    }
   ],
   "source": [
    "CI_upper"
   ]
  },
  {
   "cell_type": "markdown",
   "id": "e358974a",
   "metadata": {},
   "source": [
    "confidence interval range is between 0.037773386303460124 to 0.20222661369653988"
   ]
  },
  {
   "cell_type": "markdown",
   "id": "bde2708d",
   "metadata": {},
   "source": [
    "#### Q5. Calculate the 90% confidence interval for a sample of data with a mean of 75 and a standard deviation of 12 using Python. Interpret the results"
   ]
  },
  {
   "cell_type": "code",
   "execution_count": 82,
   "id": "c887e286",
   "metadata": {},
   "outputs": [],
   "source": [
    "sample_mean = 75\n",
    "\n",
    "standerd_deviation = 12\n",
    "\n",
    "n = 30"
   ]
  },
  {
   "cell_type": "code",
   "execution_count": 83,
   "id": "4e6e42a9",
   "metadata": {},
   "outputs": [],
   "source": [
    "CI_lower = (sample_mean) - z * (standerd_deviation / np.sqrt(n))"
   ]
  },
  {
   "cell_type": "code",
   "execution_count": 84,
   "id": "4efb0fc3",
   "metadata": {},
   "outputs": [
    {
     "data": {
      "text/plain": [
       "70.7058551491595"
      ]
     },
     "execution_count": 84,
     "metadata": {},
     "output_type": "execute_result"
    }
   ],
   "source": [
    "CI_lower"
   ]
  },
  {
   "cell_type": "code",
   "execution_count": 85,
   "id": "b646df6b",
   "metadata": {},
   "outputs": [],
   "source": [
    "CI_upper = (sample_mean) + z * (standerd_deviation / np.sqrt(n))"
   ]
  },
  {
   "cell_type": "code",
   "execution_count": 86,
   "id": "865429d0",
   "metadata": {},
   "outputs": [
    {
     "data": {
      "text/plain": [
       "79.2941448508405"
      ]
     },
     "execution_count": 86,
     "metadata": {},
     "output_type": "execute_result"
    }
   ],
   "source": [
    "CI_upper"
   ]
  },
  {
   "cell_type": "markdown",
   "id": "6f8e7e14",
   "metadata": {},
   "source": [
    "conclusion:\n",
    "\n",
    "    confidence interval range between 70.7058551491595 to 79.2941448508405 at 90 %"
   ]
  },
  {
   "cell_type": "markdown",
   "id": "9dc12828",
   "metadata": {},
   "source": [
    "#### Q6. Use Python to plot the chi-square distribution with 10 degrees of freedom. Label the axes and shade the area corresponding to a chi-square statistic of 15."
   ]
  },
  {
   "cell_type": "markdown",
   "id": "a7aec921",
   "metadata": {},
   "source": [
    "Ans:"
   ]
  },
  {
   "cell_type": "code",
   "execution_count": 88,
   "id": "dd28ff87",
   "metadata": {},
   "outputs": [],
   "source": [
    "df = 10\n",
    "t_test_statistic = 15\n",
    "significance_value = 0.05\n",
    "CI = 1 - significance_value"
   ]
  },
  {
   "cell_type": "code",
   "execution_count": 106,
   "id": "a3807686",
   "metadata": {},
   "outputs": [],
   "source": [
    "from numpy import random\n",
    "import seaborn as sns\n",
    "import matplotlib.pyplot as plt"
   ]
  },
  {
   "cell_type": "code",
   "execution_count": 107,
   "id": "f02034fc",
   "metadata": {},
   "outputs": [],
   "source": [
    "import warnings\n",
    "warnings.filterwarnings('ignore')"
   ]
  },
  {
   "cell_type": "code",
   "execution_count": 109,
   "id": "e37ef5f6",
   "metadata": {},
   "outputs": [
    {
     "data": {
      "image/png": "[encoded data removed]",
      "text/plain": [
       "<Figure size 432x288 with 1 Axes>"
      ]
     },
     "metadata": {
      "needs_background": "light"
     },
     "output_type": "display_data"
    }
   ],
   "source": [
    "sns.distplot(random.chisquare(df = 10 , size = 1000) , hist = False)\n",
    "plt.show()"
   ]
  },
  {
   "cell_type": "markdown",
   "id": "cab87e14",
   "metadata": {},
   "source": [
    "#### Q7. A random sample of 1000 people was asked if they preferred Coke or Pepsi. Of the sample, 520 preferred Coke. Calculate a 99% confidence interval for the true proportion of people in the population who prefer Coke."
   ]
  },
  {
   "cell_type": "markdown",
   "id": "dc93eec2",
   "metadata": {},
   "source": [
    "Ans:"
   ]
  },
  {
   "cell_type": "code",
   "execution_count": 120,
   "id": "d64f3190",
   "metadata": {},
   "outputs": [],
   "source": [
    "p = 520 / 1000\n",
    "\n",
    "n = 520\n",
    "\n",
    "z = 2.576"
   ]
  },
  {
   "cell_type": "code",
   "execution_count": 121,
   "id": "86e2a7bf",
   "metadata": {},
   "outputs": [
    {
     "data": {
      "text/plain": [
       "0.52"
      ]
     },
     "execution_count": 121,
     "metadata": {},
     "output_type": "execute_result"
    }
   ],
   "source": [
    "p"
   ]
  },
  {
   "cell_type": "code",
   "execution_count": 122,
   "id": "4730b1f0",
   "metadata": {},
   "outputs": [],
   "source": [
    "CI_lower = p - z * (np.sqrt(p  * (1-p) / n))"
   ]
  },
  {
   "cell_type": "code",
   "execution_count": 123,
   "id": "7b1adf42",
   "metadata": {},
   "outputs": [
    {
     "data": {
      "text/plain": [
       "0.4635626676746677"
      ]
     },
     "execution_count": 123,
     "metadata": {},
     "output_type": "execute_result"
    }
   ],
   "source": [
    "CI_lower"
   ]
  },
  {
   "cell_type": "code",
   "execution_count": 124,
   "id": "ac94c6f4",
   "metadata": {},
   "outputs": [],
   "source": [
    "CI_upper = p + z * (np.sqrt(p  * (1-p) / n))"
   ]
  },
  {
   "cell_type": "code",
   "execution_count": 125,
   "id": "40b86305",
   "metadata": {},
   "outputs": [
    {
     "data": {
      "text/plain": [
       "0.5764373323253323"
      ]
     },
     "execution_count": 125,
     "metadata": {},
     "output_type": "execute_result"
    }
   ],
   "source": [
    "CI_upper"
   ]
  },
  {
   "cell_type": "markdown",
   "id": "3b6f725c",
   "metadata": {},
   "source": [
    "conclusion :\n",
    "    \n",
    "    confidence interval is range between 0.4635626676746677 to 0.5764373323253323"
   ]
  },
  {
   "cell_type": "markdown",
   "id": "7bf6a31e",
   "metadata": {},
   "source": [
    "#### Q9. A study was conducted to determine if there is an association between smoking status (smoker ornon-smoker) and lung cancer diagnosis (yes or no). The results are shown in the contingency table below.Conduct a chi-square test for independence to determine if there is a significant association between smoking status and lung cancer diagnosis."
   ]
  },
  {
   "cell_type": "markdown",
   "id": "38834c94",
   "metadata": {},
   "source": [
    "Ans:"
   ]
  },
  {
   "cell_type": "markdown",
   "id": "4c644a0f",
   "metadata": {},
   "source": [
    "1.Null hypothesis(H0):\n",
    "    \n",
    "    Assumption : significant association between smoking status and lung cancer diagnosis.\n",
    "        \n",
    "        \n",
    "        \n",
    "2.Null hypothesis(H1):\n",
    "    \n",
    "    Assumption : No significant association between smoking status and lung cancer diagnosis.\n",
    "    \n",
    "    \n",
    "    "
   ]
  },
  {
   "cell_type": "code",
   "execution_count": 138,
   "id": "432a7a40",
   "metadata": {},
   "outputs": [],
   "source": [
    "expected_data  = [60 , 140]\n",
    "\n",
    "observed_data = [30 , 170]\n",
    "\n",
    "significance_value = 0.05\n",
    "\n",
    "CI = 1 - significance_value"
   ]
  },
  {
   "cell_type": "code",
   "execution_count": 139,
   "id": "0c5b6612",
   "metadata": {},
   "outputs": [
    {
     "data": {
      "text/plain": [
       "0.95"
      ]
     },
     "execution_count": 139,
     "metadata": {},
     "output_type": "execute_result"
    }
   ],
   "source": [
    "CI"
   ]
  },
  {
   "cell_type": "code",
   "execution_count": 133,
   "id": "fde7fc69",
   "metadata": {},
   "outputs": [],
   "source": [
    "t_stat , p_value = stat.chisquare(expected_data , observed_data)"
   ]
  },
  {
   "cell_type": "code",
   "execution_count": 134,
   "id": "30de1767",
   "metadata": {},
   "outputs": [
    {
     "data": {
      "text/plain": [
       "35.294117647058826"
      ]
     },
     "execution_count": 134,
     "metadata": {},
     "output_type": "execute_result"
    }
   ],
   "source": [
    "t_stat"
   ]
  },
  {
   "cell_type": "code",
   "execution_count": 135,
   "id": "1a179a9f",
   "metadata": {},
   "outputs": [
    {
     "data": {
      "text/plain": [
       "2.834869930488155e-09"
      ]
     },
     "execution_count": 135,
     "metadata": {},
     "output_type": "execute_result"
    }
   ],
   "source": [
    "p_value"
   ]
  },
  {
   "cell_type": "code",
   "execution_count": 140,
   "id": "12d33813",
   "metadata": {},
   "outputs": [],
   "source": [
    "critical_value = stat.chi2.ppf(CI , df)"
   ]
  },
  {
   "cell_type": "code",
   "execution_count": 141,
   "id": "2c05e6d2",
   "metadata": {},
   "outputs": [
    {
     "data": {
      "text/plain": [
       "18.307038053275146"
      ]
     },
     "execution_count": 141,
     "metadata": {},
     "output_type": "execute_result"
    }
   ],
   "source": [
    "critical_value"
   ]
  },
  {
   "cell_type": "code",
   "execution_count": 142,
   "id": "9b35946c",
   "metadata": {},
   "outputs": [
    {
     "name": "stdout",
     "output_type": "stream",
     "text": [
      "Fail to reject the null hypothesis\n"
     ]
    }
   ],
   "source": [
    "if p_value > critical_value:\n",
    "    \n",
    "    print('Reject the null hypothesis')\n",
    "    \n",
    "else:\n",
    "    \n",
    "    print('Fail to reject the null hypothesis')"
   ]
  },
  {
   "cell_type": "markdown",
   "id": "1113990d",
   "metadata": {},
   "source": [
    "#### Q10. A study was conducted to determine if the proportion of people who prefer milk chocolate, dark chocolate, or white chocolate is different in the U.S. versus the U.K. A random sample of 500 people from the U.S. and a random sample of 500 people from the U.K. were surveyed. The results are shown in the contingency table below. Conduct a chi-square test for independence to determine if there is a significant association between chocolate preference and country of origin.\n",
    "\n",
    "#### Use a significance level of 0.01"
   ]
  },
  {
   "cell_type": "markdown",
   "id": "5a68ba70",
   "metadata": {},
   "source": [
    "Ans:"
   ]
  },
  {
   "cell_type": "markdown",
   "id": "5d32e297",
   "metadata": {},
   "source": [
    "1.Null hypothesis(H0):\n",
    "    \n",
    "    Assumption : significant association between chocolate preference and country of origin.\n",
    "        \n",
    "2.Alternate hypothesis(H1):\n",
    "    \n",
    "    Assumption : No significant association between chocolate preference and country of origin."
   ]
  },
  {
   "cell_type": "code",
   "execution_count": 158,
   "id": "31e28b0f",
   "metadata": {},
   "outputs": [
    {
     "data": {
      "text/plain": [
       "0.99"
      ]
     },
     "execution_count": 158,
     "metadata": {},
     "output_type": "execute_result"
    }
   ],
   "source": [
    "expected_data = [200,150 ,150]\n",
    "\n",
    "observed_data = [225 , 175 , 100]\n",
    "\n",
    "n = 100\n",
    "\n",
    "significance_value = 0.01\n",
    "\n",
    "CI = 1 - significance_value\n",
    "\n",
    "CI"
   ]
  },
  {
   "cell_type": "code",
   "execution_count": 159,
   "id": "88cd049b",
   "metadata": {},
   "outputs": [],
   "source": [
    "t_stat , p_value = stat.chisquare(expected_data , observed_data)"
   ]
  },
  {
   "cell_type": "code",
   "execution_count": 160,
   "id": "0318e707",
   "metadata": {},
   "outputs": [
    {
     "data": {
      "text/plain": [
       "31.349206349206348"
      ]
     },
     "execution_count": 160,
     "metadata": {},
     "output_type": "execute_result"
    }
   ],
   "source": [
    "t_stat"
   ]
  },
  {
   "cell_type": "code",
   "execution_count": 161,
   "id": "d8647626",
   "metadata": {},
   "outputs": [
    {
     "data": {
      "text/plain": [
       "1.5581394922806692e-07"
      ]
     },
     "execution_count": 161,
     "metadata": {},
     "output_type": "execute_result"
    }
   ],
   "source": [
    "p_value"
   ]
  },
  {
   "cell_type": "code",
   "execution_count": 162,
   "id": "624ce1eb",
   "metadata": {},
   "outputs": [],
   "source": [
    "critical_value = stat.chi2.ppf(CI , df)"
   ]
  },
  {
   "cell_type": "code",
   "execution_count": 163,
   "id": "48cffa2c",
   "metadata": {},
   "outputs": [
    {
     "data": {
      "text/plain": [
       "23.209251158954356"
      ]
     },
     "execution_count": 163,
     "metadata": {},
     "output_type": "execute_result"
    }
   ],
   "source": [
    "critical_value"
   ]
  },
  {
   "cell_type": "code",
   "execution_count": 164,
   "id": "023d7a77",
   "metadata": {},
   "outputs": [
    {
     "name": "stdout",
     "output_type": "stream",
     "text": [
      "Fail to reject the null hypothesis\n"
     ]
    }
   ],
   "source": [
    "if p_value > critical_value:\n",
    "    \n",
    "    print('Reject the null hypothesis')\n",
    "    \n",
    "else:\n",
    "    \n",
    "    print('Fail to reject the null hypothesis')"
   ]
  },
  {
   "cell_type": "markdown",
   "id": "e0b8ad8f",
   "metadata": {},
   "source": [
    "#### Q11. A random sample of 30 people was selected from a population with an unknown mean and standard deviation. The sample mean was found to be 72 and the sample standard deviation was found to be 10. Conduct a hypothesis test to determine if the population mean is significantly different from 70. Use a significance level of 0.05."
   ]
  },
  {
   "cell_type": "markdown",
   "id": "4a4d6c39",
   "metadata": {},
   "source": [
    "Ans:"
   ]
  },
  {
   "cell_type": "code",
   "execution_count": 3,
   "id": "314869ac",
   "metadata": {},
   "outputs": [],
   "source": [
    "n = 30\n",
    "\n",
    "sample_mean = 72\n",
    "\n",
    "sample_standerd_deviation = 10\n",
    "\n",
    "pop_mean = 70\n",
    "\n",
    "significance_level = 0.05"
   ]
  },
  {
   "cell_type": "markdown",
   "id": "05f44e6f",
   "metadata": {},
   "source": [
    "1.Null hypothesis(H0):\n",
    "    \n",
    "    Assumption : The population mean is significantly different from 70.\n",
    "        \n",
    "        \n",
    "2.Alternate hypothesis(H1):\n",
    "    \n",
    "    \n",
    "    Assumption : The population mean is not significantly different from 70\n",
    "    "
   ]
  },
  {
   "cell_type": "code",
   "execution_count": 4,
   "id": "459b815f",
   "metadata": {},
   "outputs": [],
   "source": [
    "import numpy as np\n",
    "import math"
   ]
  },
  {
   "cell_type": "code",
   "execution_count": 6,
   "id": "0c4bbf14",
   "metadata": {},
   "outputs": [],
   "source": [
    "t_test = (sample_mean - pop_mean) / (sample_standerd_deviation / np.sqrt(n))"
   ]
  },
  {
   "cell_type": "code",
   "execution_count": 7,
   "id": "7ce42a1d",
   "metadata": {},
   "outputs": [
    {
     "data": {
      "text/plain": [
       "1.0954451150103321"
      ]
     },
     "execution_count": 7,
     "metadata": {},
     "output_type": "execute_result"
    }
   ],
   "source": [
    "t_test"
   ]
  },
  {
   "cell_type": "code",
   "execution_count": 8,
   "id": "31a153cf",
   "metadata": {},
   "outputs": [],
   "source": [
    "df = n - 1"
   ]
  },
  {
   "cell_type": "code",
   "execution_count": 9,
   "id": "17081bc2",
   "metadata": {},
   "outputs": [],
   "source": [
    "from scipy.stats import t"
   ]
  },
  {
   "cell_type": "code",
   "execution_count": 11,
   "id": "e4e9bd2b",
   "metadata": {},
   "outputs": [],
   "source": [
    "p_value = t.sf(abs(t_test) , df)"
   ]
  },
  {
   "cell_type": "code",
   "execution_count": 12,
   "id": "a02930aa",
   "metadata": {},
   "outputs": [
    {
     "data": {
      "text/plain": [
       "0.14116811864303488"
      ]
     },
     "execution_count": 12,
     "metadata": {},
     "output_type": "execute_result"
    }
   ],
   "source": [
    "p_value"
   ]
  },
  {
   "cell_type": "code",
   "execution_count": 14,
   "id": "b19cc56b",
   "metadata": {},
   "outputs": [
    {
     "name": "stdout",
     "output_type": "stream",
     "text": [
      "Fail to reject the null hypothesis\n"
     ]
    }
   ],
   "source": [
    "if p_value < significance_level:\n",
    "    \n",
    "    print('Reject the null hypothesis')\n",
    "    \n",
    "else:\n",
    "    print('Fail to reject the null hypothesis')"
   ]
  },
  {
   "cell_type": "markdown",
   "id": "96ced3db",
   "metadata": {},
   "source": [
    "conclusion :\n",
    "    \n",
    "    The population mean is not significantly different from 70"
   ]
  }
 ],
 "metadata": {
  "kernelspec": {
   "display_name": "Python 3 (ipykernel)",
   "language": "python",
   "name": "python3"
  },
  "language_info": {
   "codemirror_mode": {
    "name": "ipython",
    "version": 3
   },
   "file_extension": ".py",
   "mimetype": "text/x-python",
   "name": "python",
   "nbconvert_exporter": "python",
   "pygments_lexer": "ipython3",
   "version": "3.9.7"
  }
 },
 "nbformat": 4,
 "nbformat_minor": 5
}
