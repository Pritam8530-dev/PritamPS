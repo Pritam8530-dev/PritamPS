{
 "cells": [
  {
   "cell_type": "markdown",
   "id": "1441c9e2",
   "metadata": {},
   "source": [
    "1.What is an Exception in python? Write the difference between Exceptions and syntaxt errors ?"
   ]
  },
  {
   "cell_type": "code",
   "execution_count": null,
   "id": "9f740ef5",
   "metadata": {},
   "outputs": [],
   "source": [
    "Ans:"
   ]
  },
  {
   "cell_type": "markdown",
   "id": "3bb2f9ad",
   "metadata": {},
   "source": [
    "Exceptions:\n",
    "\n",
    "    Exception was raised when internal events occur it disturb normal flow program\n",
    "    \n",
    "    Exceptions is not solution its alternate way of execution of remainig code.\n",
    "    \n",
    "    exceptions is not regarding syntax error.\n",
    "    \n",
    "    There are like Zero division error No such file or directory.\n",
    "    \n",
    "    if error/exception will come .Here not stop the excution of remaining code and programer will easily understand which type of error get."
   ]
  },
  {
   "cell_type": "markdown",
   "id": "756101b8",
   "metadata": {},
   "source": [
    "Syntaxt error:\n",
    "    \n",
    "    syntaxt error is come when program do wrong syntax.\n",
    "    \n",
    "    Exception is raised when synatax is correct but code results an error.It nit stops the execution of code.but disturb    normal flow code\n",
    "    \n",
    "    Means every programming language has fixed syntax if we wrong with it so it will through syntax error.\n",
    "    \n",
    "    like,\n",
    "    \n",
    "    for i in range(1,99)\n",
    "    \n",
    "    it will show me syntax error because I am not give colon here.\n",
    "    "
   ]
  },
  {
   "cell_type": "markdown",
   "id": "ad454098",
   "metadata": {},
   "source": [
    "Q.3:"
   ]
  },
  {
   "cell_type": "markdown",
   "id": "62540862",
   "metadata": {},
   "source": [
    "Ans:"
   ]
  },
  {
   "cell_type": "markdown",
   "id": "f6d52846",
   "metadata": {},
   "source": [
    "Exception get catch by try block and exception get handled by except block.\n",
    "\n",
    "Try contains malisious code or dirty code. Try is the block who catch the exception.\n",
    "\n",
    "except is call the exception and found alternate way to exceute rest of code."
   ]
  },
  {
   "cell_type": "code",
   "execution_count": 13,
   "id": "2870a34c",
   "metadata": {},
   "outputs": [
    {
     "name": "stdout",
     "output_type": "stream",
     "text": [
      "This is not possible division by zero\n"
     ]
    }
   ],
   "source": [
    "try:\n",
    "    a = 10\n",
    "    \n",
    "    a/0\n",
    "    \n",
    "except Exception as e:\n",
    "    \n",
    "    \n",
    "    print('This is not possible' , e)"
   ]
  },
  {
   "cell_type": "markdown",
   "id": "e0b79dd4",
   "metadata": {},
   "source": [
    "Q.4:"
   ]
  },
  {
   "cell_type": "markdown",
   "id": "b386cc3a",
   "metadata": {},
   "source": [
    "Ans:"
   ]
  },
  {
   "cell_type": "markdown",
   "id": "50aad869",
   "metadata": {},
   "source": [
    "try and else:\n",
    "    \n",
    "    \n",
    "    Try contains malisious code or dirty code. Try is the block who catch the exception.\n",
    "    \n",
    "    \n",
    "    else:\n",
    "        \n",
    "        else is optional.when try is executed successfully then else is execute . if try is not exceute successfully then else is not exceute "
   ]
  },
  {
   "cell_type": "code",
   "execution_count": 15,
   "id": "c3f8c92e",
   "metadata": {},
   "outputs": [
    {
     "name": "stdout",
     "output_type": "stream",
     "text": [
      "This is my file [Errno 2] No such file or directory: 'test4.txt'\n"
     ]
    }
   ],
   "source": [
    "try :\n",
    "    \n",
    "    f = open('test4.txt','r')\n",
    "    \n",
    "except Exception as e:\n",
    "    \n",
    "    print('This is my file',e)"
   ]
  },
  {
   "cell_type": "markdown",
   "id": "917d3688",
   "metadata": {},
   "source": [
    "finally:\n",
    "    \n",
    "    finally is mandetory.\n",
    "    \n",
    "    so , finally excutes when try is execute and not execute. but finally is always executes."
   ]
  },
  {
   "cell_type": "code",
   "execution_count": 16,
   "id": "f3973dde",
   "metadata": {},
   "outputs": [
    {
     "name": "stdout",
     "output_type": "stream",
     "text": [
      "This is my file [Errno 2] No such file or directory: 'test4.txt'\n",
      "try excute or not but expect will execute\n"
     ]
    }
   ],
   "source": [
    "try :\n",
    "    \n",
    "    f = open('test4.txt','r')\n",
    "    \n",
    "except Exception as e:\n",
    "    \n",
    "    print('This is my file',e)\n",
    "    \n",
    "finally:\n",
    "    \n",
    "    print('try excute or not but expect will execute')"
   ]
  },
  {
   "cell_type": "markdown",
   "id": "c1612c3d",
   "metadata": {},
   "source": [
    "raise :\n",
    "    raise is used when user forecefully raise the exception . In that case raise will use."
   ]
  },
  {
   "cell_type": "code",
   "execution_count": 34,
   "id": "bf2e5d78",
   "metadata": {},
   "outputs": [
    {
     "name": "stdout",
     "output_type": "stream",
     "text": [
      "Enter the age:190\n",
      "This is high 190\n"
     ]
    }
   ],
   "source": [
    "try :\n",
    "        age = int(input(('Enter the age:')))\n",
    "        \n",
    "        if age > 150:\n",
    "            \n",
    "            raise ValueError(age)\n",
    "            \n",
    "except ValueError as e:\n",
    "            \n",
    "        print('This is high' ,e)\n",
    "        \n",
    "        "
   ]
  },
  {
   "cell_type": "markdown",
   "id": "385fa49e",
   "metadata": {},
   "source": [
    "Q.5:"
   ]
  },
  {
   "cell_type": "markdown",
   "id": "a3b02bb7",
   "metadata": {},
   "source": [
    "Ans:"
   ]
  },
  {
   "cell_type": "markdown",
   "id": "a57bcdfd",
   "metadata": {},
   "source": [
    "Custom Exception:\n",
    "    \n",
    "    Custome Exception are those exceptions which is designe or raised by user according to its business logic.\n",
    "    \n",
    "    Need of custome Exception is all things are not inbuilt in programming logic.so we need to built that things like cutomise exception."
   ]
  },
  {
   "cell_type": "code",
   "execution_count": 51,
   "id": "0955ad21",
   "metadata": {},
   "outputs": [],
   "source": [
    "class test(Exception):\n",
    "    \n",
    "    def __init__(self , age):\n",
    "        \n",
    "        self.age = age   "
   ]
  },
  {
   "cell_type": "code",
   "execution_count": 57,
   "id": "5b5e3569",
   "metadata": {},
   "outputs": [],
   "source": [
    "def validateage(age):\n",
    "    \n",
    "        if age < 0 :\n",
    "            \n",
    "            raise test('age is not negative')\n",
    "            \n",
    "        elif age > 120:\n",
    "            \n",
    "            raise test('age is too high')\n",
    "            \n",
    "        else:\n",
    "            \n",
    "            raise test('age is fine')"
   ]
  },
  {
   "cell_type": "code",
   "execution_count": 58,
   "id": "64de7320",
   "metadata": {},
   "outputs": [
    {
     "name": "stdout",
     "output_type": "stream",
     "text": [
      "Please enter your age:200\n",
      "age is too high\n"
     ]
    }
   ],
   "source": [
    "try:\n",
    "    \n",
    "    age = int(input('Please enter your age:'))\n",
    "    \n",
    "    validateage(age)\n",
    "    \n",
    "except test as e:\n",
    "    \n",
    "    print(e)"
   ]
  },
  {
   "cell_type": "markdown",
   "id": "09715fc9",
   "metadata": {},
   "source": [
    "Q.6:"
   ]
  },
  {
   "cell_type": "markdown",
   "id": "23d2ea87",
   "metadata": {},
   "source": [
    "Ans:"
   ]
  },
  {
   "cell_type": "code",
   "execution_count": 59,
   "id": "c32d25a6",
   "metadata": {},
   "outputs": [],
   "source": [
    "class test(Exception):\n",
    "    \n",
    "    def __init__(self , age):\n",
    "        \n",
    "        self.age = age   \n",
    "        \n",
    "    def validateage(age):\n",
    "    \n",
    "        if age < 0 :\n",
    "            \n",
    "            raise test('age is not negative')\n",
    "            \n",
    "        elif age > 120:\n",
    "            \n",
    "            raise test('age is too high')\n",
    "            \n",
    "        else:\n",
    "            \n",
    "            raise test('age is fine')"
   ]
  },
  {
   "cell_type": "code",
   "execution_count": 60,
   "id": "dac45994",
   "metadata": {},
   "outputs": [
    {
     "name": "stdout",
     "output_type": "stream",
     "text": [
      "Please enter your age:120\n",
      "age is fine\n"
     ]
    }
   ],
   "source": [
    "try:\n",
    "    \n",
    "    age = int(input('Please enter your age:'))\n",
    "    \n",
    "    validateage(age)\n",
    "    \n",
    "except test as e:\n",
    "    \n",
    "    print(e)"
   ]
  }
 ],
 "metadata": {
  "kernelspec": {
   "display_name": "Python 3 (ipykernel)",
   "language": "python",
   "name": "python3"
  },
  "language_info": {
   "codemirror_mode": {
    "name": "ipython",
    "version": 3
   },
   "file_extension": ".py",
   "mimetype": "text/x-python",
   "name": "python",
   "nbconvert_exporter": "python",
   "pygments_lexer": "ipython3",
   "version": "3.9.7"
  }
 },
 "nbformat": 4,
 "nbformat_minor": 5
}
