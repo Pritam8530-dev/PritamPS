{
 "cells": [
  {
   "cell_type": "markdown",
   "id": "fb9c0432",
   "metadata": {},
   "source": [
    "Q1. What is a database? Differentiate between SQL and NoSQL databases."
   ]
  },
  {
   "cell_type": "markdown",
   "id": "69e260d4",
   "metadata": {},
   "source": [
    "Ans :"
   ]
  },
  {
   "cell_type": "markdown",
   "id": "b4f2cc24",
   "metadata": {},
   "source": [
    "collection of structured information in computer system is called database."
   ]
  },
  {
   "cell_type": "markdown",
   "id": "affc7f50",
   "metadata": {},
   "source": [
    "SQL : SQL is structured Query Language. To store data into structured format like Tabular form."
   ]
  },
  {
   "cell_type": "raw",
   "id": "3ad30374",
   "metadata": {},
   "source": [
    "            SQL\t                                                                            NOSQL\n",
    "\n",
    "\n",
    "RELATIONAL DATABASE MANAGEMENT SYSTEM (RDBMS)\t                     Non-relational or distributed database system.\n",
    "\n",
    "\n",
    "These databases have fixed or static or predefined schema\t         They have dynamic schema\n",
    "\n",
    "\n",
    "These databases are not suited for hierarchical data storage.\t     These databases are best suited for hierarchical data \n",
    "storage.\n",
    "\n",
    "These databases are best suited for complex queries\t                 These databases are not so good for complex queries\n",
    "\n",
    "\n",
    "Vertically Scalable                                                  Horizontally scalable\n",
    "\n",
    "\n",
    "Follows ACID property\t                                          Follows CAP(consistency,availability,partition tolerance)\n",
    "\n",
    "\n",
    "Examples: MySQL, PostgreSQL, Oracle, MS-SQL Server, etc\t          Examples: MongoDB, GraphQL, HBase, Neo4j, Cassandra, etc"
   ]
  },
  {
   "cell_type": "markdown",
   "id": "2abae070",
   "metadata": {},
   "source": [
    "Q2. What is DDL? Explain why CREATE, DROP, ALTER, and TRUNCATE are used with an example."
   ]
  },
  {
   "cell_type": "markdown",
   "id": "be5e8f91",
   "metadata": {},
   "source": [
    "Ans:"
   ]
  },
  {
   "cell_type": "markdown",
   "id": "d663da8c",
   "metadata": {},
   "source": [
    "DDL : Data Definition lanuage. It is used for desgn the database structure.\n",
    "    \n",
    "CREATE : IT is used for to create a table as well as database also\n",
    "    \n",
    "    eg: CREATE DATABASE test\n",
    "        \n",
    "        CREATE TABLE if not exist test.test_table \n",
    "        \n",
    "        \n",
    "\n",
    "DROP :  DROP is used for to drop entire structure of table.\n",
    "    \n",
    "    eg : DROP test.test_table\n",
    "        \n",
    "        \n",
    "        \n",
    "ALTER :  ALTER is used for to add , delete and modify column in existing table.\n",
    "    \n",
    "         ALTER is also used to add and drop various constraints on an existing table.\n",
    "        \n",
    "        \n",
    "    eg : ALTER TABLE test add Email varchar (30)\n",
    "        \n",
    "        \n",
    "\n",
    "TRUNCATE :  TRUNCATE is used to delete data inside table.but not table.\n",
    "    \n",
    "    \n",
    "    eg : TRUNCATE Table test"
   ]
  },
  {
   "cell_type": "markdown",
   "id": "075709dd",
   "metadata": {},
   "source": [
    "Q3. What is DML? Explain INSERT, UPDATE, and DELETE with an example."
   ]
  },
  {
   "cell_type": "markdown",
   "id": "c83823b1",
   "metadata": {},
   "source": [
    "Ans :"
   ]
  },
  {
   "cell_type": "markdown",
   "id": "e8f301d8",
   "metadata": {},
   "source": [
    "DML : Data Manipulation Language. Access and manipulate data in existing table.\n",
    "    \n",
    "    \n",
    "INSERT : INSERT is used for to insert a data in table.\n",
    "    \n",
    "    eg :  INSERT into test.test_table values(10 , 'pritam','sardepritam@123','Data Scientist')\n",
    "        \n",
    "        \n",
    "UPDATE : UPDATE is used for to update and modify existing data into table.\n",
    "    \n",
    "    eg : UPDATE test.test_table SET(rank = 1) where name = 'pritam'\n",
    "        \n",
    "        \n",
    "DELETE : DELETE is used for to delete single or multiple existing records.\n",
    "    \n",
    "    eg : DELETE test.test_table where name = 'shashank'"
   ]
  },
  {
   "cell_type": "markdown",
   "id": "d4c49191",
   "metadata": {},
   "source": [
    "Q.3). What is DQL ? Explain SELECT with an example."
   ]
  },
  {
   "cell_type": "markdown",
   "id": "fd786c9d",
   "metadata": {},
   "source": [
    "Ans:"
   ]
  },
  {
   "cell_type": "markdown",
   "id": "d6948510",
   "metadata": {},
   "source": [
    "DQL : \n",
    "\n",
    "\n",
    "      Data Query Language. It is used for to retrive data. End user retrive a data by using SELECT according to its requirment."
   ]
  },
  {
   "cell_type": "markdown",
   "id": "0f45ad5a",
   "metadata": {},
   "source": [
    "eg : we want all employee details from employee table\n",
    "\n",
    "\n",
    "     SELECT * from employee"
   ]
  },
  {
   "cell_type": "markdown",
   "id": "de5c0787",
   "metadata": {},
   "source": [
    "Q.4).Explain primary key and foreign key."
   ]
  },
  {
   "cell_type": "markdown",
   "id": "10e2106a",
   "metadata": {},
   "source": [
    "Ans :"
   ]
  },
  {
   "cell_type": "markdown",
   "id": "a50df9b1",
   "metadata": {},
   "source": [
    "primary key :\n",
    "    \n",
    "    primary key is unique and NOT NULL\n",
    "    \n",
    "    when primary apply on any column then that column does not contain duplicates.Those column contains only unique records\n",
    "    \n",
    "    and it also can not NOT NULL values . primary key is used / apply on single column only.\n",
    "    \n",
    "    \n",
    "    eg : apply primary key on employee number column in employee table . so employee number column is made unique and not null.\n",
    "        \n",
    "        CREATE TABLE EMP (emp_no int PRIMARY KEY,\n",
    "                         emp_name varchar(60),\n",
    "                         emp_phone_no int,\n",
    "                         emp_address int)"
   ]
  },
  {
   "cell_type": "markdown",
   "id": "bf006a9f",
   "metadata": {},
   "source": [
    "foreign key :\n",
    "    \n",
    "    \n",
    "    foreign key is column or group of columns in relational database table that provide link between data in two tables.\n",
    "    \n",
    "    one or more columns referenced to one or more columns to another table.\n",
    "    \n",
    "    \n",
    "    eg: employee number in employee course  is foreign key to employee number in employee relation."
   ]
  },
  {
   "cell_type": "markdown",
   "id": "00ba28ef",
   "metadata": {},
   "source": [
    "Q6. Write a python code to connect MySQL to python. Explain the cursor() and execute() method."
   ]
  },
  {
   "cell_type": "markdown",
   "id": "4d75e445",
   "metadata": {},
   "source": [
    "Ans:"
   ]
  },
  {
   "cell_type": "code",
   "execution_count": null,
   "id": "a136bbf5",
   "metadata": {},
   "outputs": [],
   "source": [
    "import mysql.connector\n",
    "\n",
    "mydb = mysql.connector.connect(\n",
    "                         host = 'localhost',\n",
    "                         user = 'abc',\n",
    "                         password ='password'\n",
    "                         )\n",
    "\n",
    "mycursor = mydb.cursor()\n",
    "mycusror.exceute('write a query')\n",
    "#mycursor.commit()\n",
    "mycursor.close()"
   ]
  },
  {
   "cell_type": "markdown",
   "id": "d5745c9b",
   "metadata": {},
   "source": [
    "cursor : It is an object that is used to make the connection for executing SQL queries.\n",
    "    \n",
    "execute : execute is used for to execute sql queries by python."
   ]
  },
  {
   "cell_type": "markdown",
   "id": "e75f2ab8",
   "metadata": {},
   "source": [
    "Q7. Give the order of execution of SQL clauses in an SQL query."
   ]
  },
  {
   "cell_type": "markdown",
   "id": "006840bf",
   "metadata": {},
   "source": [
    "1. FROM/JOIN: The FROM and/or JOIN clauses are executed first to determine the data of interest.\n",
    "    \n",
    "\n",
    "2. WHERE: The WHERE clause is executed to filter out records that do not meet the constraints.\n",
    "    \n",
    "\n",
    "3. GROUP BY: The GROUP BY clause is executed to group the data based on the values in one or more columns.\n",
    "    \n",
    "\n",
    "4. HAVING: The HAVING clause is executed to remove the created grouped records that don’t meet the constraints.\n",
    "    \n",
    "\n",
    "5. SELECT: The SELECT clause is executed to derive all desired columns and expressions.\n",
    "    \n",
    "\n",
    "6. ORDER BY: The ORDER BY clause is executed to sort the derived values in ascending or descending order.\n",
    "    \n",
    "\n",
    "7. LIMIT/OFFSET: Finally, the LIMIT and/or OFFSET clauses are executed to keep or skip a specified number of rows."
   ]
  }
 ],
 "metadata": {
  "kernelspec": {
   "display_name": "Python 3 (ipykernel)",
   "language": "python",
   "name": "python3"
  },
  "language_info": {
   "codemirror_mode": {
    "name": "ipython",
    "version": 3
   },
   "file_extension": ".py",
   "mimetype": "text/x-python",
   "name": "python",
   "nbconvert_exporter": "python",
   "pygments_lexer": "ipython3",
   "version": "3.9.7"
  }
 },
 "nbformat": 4,
 "nbformat_minor": 5
}
