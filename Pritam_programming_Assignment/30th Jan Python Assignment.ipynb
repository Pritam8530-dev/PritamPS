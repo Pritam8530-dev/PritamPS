{
 "cells": [
  {
   "cell_type": "markdown",
   "id": "d1f4c8ef",
   "metadata": {},
   "source": [
    "Ans 1:"
   ]
  },
  {
   "cell_type": "code",
   "execution_count": 14,
   "id": "91d1aeb4",
   "metadata": {},
   "outputs": [
    {
     "name": "stdout",
     "output_type": "stream",
     "text": [
      "59\n",
      "D\n"
     ]
    }
   ],
   "source": [
    "def marks_category(marks):\n",
    "    \n",
    "    if marks > 90 :\n",
    "        \n",
    "        print('A')\n",
    "    \n",
    "    elif marks > 80 and marks <= 90 :\n",
    "        \n",
    "        print('B')\n",
    "    \n",
    "    elif marks >= 60 and marks <= 80 :\n",
    "        \n",
    "        print('C')\n",
    "    \n",
    "    else:\n",
    "        \n",
    "        print('D')\n",
    "    \n",
    "marks = int(input())\n",
    "marks_category(marks)"
   ]
  },
  {
   "cell_type": "markdown",
   "id": "1bedcdc0",
   "metadata": {},
   "source": [
    "Ans 2:"
   ]
  },
  {
   "cell_type": "code",
   "execution_count": 17,
   "id": "4424caab",
   "metadata": {},
   "outputs": [
    {
     "name": "stdout",
     "output_type": "stream",
     "text": [
      "50000\n",
      "5 %\n"
     ]
    }
   ],
   "source": [
    "def bike_price_tax(cost):\n",
    "    \n",
    "    if cost > 100000 :\n",
    "        \n",
    "        print('15 %')\n",
    "        \n",
    "    elif cost > 50000 and cost <=100000:\n",
    "        \n",
    "        print('10 %')\n",
    "        \n",
    "    elif cost <= 50000:\n",
    "        \n",
    "        print('5 %')\n",
    "        \n",
    "cost = int(input())\n",
    "bike_price_tax(cost)"
   ]
  },
  {
   "cell_type": "markdown",
   "id": "6a8ba573",
   "metadata": {},
   "source": [
    "Ans 3:"
   ]
  },
  {
   "cell_type": "code",
   "execution_count": 21,
   "id": "4bcd806c",
   "metadata": {},
   "outputs": [
    {
     "name": "stdout",
     "output_type": "stream",
     "text": [
      "Jaipur\n",
      "Jal Mahal\n"
     ]
    }
   ],
   "source": [
    "def city_monuments(city):\n",
    "    \n",
    "    if city == 'Delhi':\n",
    "        \n",
    "        print('Red Fort')\n",
    "        \n",
    "    elif city == 'Agra':\n",
    "        \n",
    "        print('Taj Mahal')\n",
    "        \n",
    "    elif city == 'Jaipur':\n",
    "        \n",
    "        print('Jal Mahal')\n",
    "        \n",
    "city = input()\n",
    "city_monuments(city)"
   ]
  },
  {
   "cell_type": "markdown",
   "id": "6581d0e8",
   "metadata": {},
   "source": [
    "Ans 4:"
   ]
  },
  {
   "cell_type": "code",
   "execution_count": 28,
   "id": "65a37f70",
   "metadata": {},
   "outputs": [
    {
     "name": "stdout",
     "output_type": "stream",
     "text": [
      "This are the numbers are divisible by 3 : [3, 6, 9]\n"
     ]
    }
   ],
   "source": [
    "def check_numbers_divided_3_():\n",
    "    \n",
    "    l =[]\n",
    "    \n",
    "    for number in range(1,11):\n",
    "        \n",
    "        if number % 3 == 0:\n",
    "            \n",
    "            l.append(number)\n",
    "            \n",
    "    \n",
    "    print('This are the numbers are divisible by 3 :',l)\n",
    "            \n",
    "check_numbers_divided_3_()"
   ]
  },
  {
   "cell_type": "markdown",
   "id": "46746000",
   "metadata": {},
   "source": [
    "Ans 5 :"
   ]
  },
  {
   "cell_type": "code",
   "execution_count": null,
   "id": "20e4f706",
   "metadata": {},
   "outputs": [],
   "source": [
    "In python, while loop is sequencial loop which is used on on sequence like for loop but it is condition based. It is iterating / executing till it satisfy its condtion. when condition is get false then it stop execution and terminate loop and control get out of the loop . Actually it contains three strps like initialisation (initialise variable with value) and declearation(decleare condtion) and increament (increament value of iterating variable).  if we are not put increment so loop will be infinite.\n"
   ]
  },
  {
   "cell_type": "code",
   "execution_count": 2,
   "id": "9baf64c0",
   "metadata": {},
   "outputs": [
    {
     "name": "stdout",
     "output_type": "stream",
     "text": [
      "1\n",
      "2\n",
      "3\n",
      "4\n",
      "5\n",
      "6\n",
      "7\n",
      "8\n",
      "9\n",
      "10\n"
     ]
    }
   ],
   "source": [
    "i = 1  # initialization\n",
    "\n",
    "n = 10\n",
    "\n",
    "while i <= n :    # declearation of condition\n",
    "    \n",
    "    print(i)\n",
    "    \n",
    "    i = i + 1     # increment condition"
   ]
  },
  {
   "cell_type": "code",
   "execution_count": null,
   "id": "c35c2716",
   "metadata": {},
   "outputs": [],
   "source": [
    "Ans 6:"
   ]
  },
  {
   "cell_type": "code",
   "execution_count": 17,
   "id": "6269b1d4",
   "metadata": {},
   "outputs": [
    {
     "name": "stdout",
     "output_type": "stream",
     "text": [
      "5\n",
      "* \n",
      "* * \n",
      "* * * \n",
      "* * * * \n",
      "* * * * * \n"
     ]
    }
   ],
   "source": [
    "\n",
    "def star(n):\n",
    "    \n",
    "    i = 1\n",
    "    \n",
    "    while i <= n :\n",
    "        \n",
    "        j =  1\n",
    "        \n",
    "        while j <= i:\n",
    "            \n",
    "            print('*' , end = ' ')\n",
    "            \n",
    "            j = j + 1\n",
    "            \n",
    "            \n",
    "        print()\n",
    "    \n",
    "        i = i + 1\n",
    "    \n",
    "n = int(input())\n",
    "star(n)\n"
   ]
  },
  {
   "cell_type": "code",
   "execution_count": 27,
   "id": "a9c2ece5",
   "metadata": {},
   "outputs": [
    {
     "name": "stdout",
     "output_type": "stream",
     "text": [
      "5\n",
      "* * * * \n",
      "* * * \n",
      "* * \n",
      "* \n",
      "\n"
     ]
    }
   ],
   "source": [
    "def star(n):\n",
    "    \n",
    "    i = 1\n",
    "    \n",
    "    while i <= n :\n",
    "        \n",
    "        j =  5\n",
    "        \n",
    "        while j > i:\n",
    "            \n",
    "            print('*' , end = ' ')\n",
    "            \n",
    "            j = j - 1\n",
    "            \n",
    "            \n",
    "        print()\n",
    "    \n",
    "        i = i + 1\n",
    "    \n",
    "n = int(input())\n",
    "star(n)\n"
   ]
  },
  {
   "cell_type": "code",
   "execution_count": 34,
   "id": "26ffaacb",
   "metadata": {},
   "outputs": [
    {
     "name": "stdout",
     "output_type": "stream",
     "text": [
      "5\n",
      "* * * * * \n",
      "* * * * * \n",
      "* * * * * \n",
      "* * * * * \n",
      "* * * * * \n"
     ]
    }
   ],
   "source": [
    "def star(n):\n",
    "    \n",
    "    i = 1\n",
    "    \n",
    "    while i <= n :\n",
    "        \n",
    "        j =  1\n",
    "        \n",
    "        while j <= n:\n",
    "            \n",
    "            print('*' , end = ' ')\n",
    "            \n",
    "            j = j + 1\n",
    "            \n",
    "            \n",
    "        print()\n",
    "    \n",
    "        i = i + 1\n",
    "    \n",
    "n = int(input())\n",
    "star(n)\n"
   ]
  },
  {
   "cell_type": "markdown",
   "id": "8f35ea3c",
   "metadata": {},
   "source": [
    "Ans 7 :"
   ]
  },
  {
   "cell_type": "code",
   "execution_count": 2,
   "id": "2860fb3a",
   "metadata": {},
   "outputs": [
    {
     "name": "stdout",
     "output_type": "stream",
     "text": [
      "10\n",
      "9\n",
      "8\n",
      "7\n",
      "6\n",
      "5\n",
      "4\n",
      "3\n",
      "2\n",
      "1\n"
     ]
    }
   ],
   "source": [
    "def reverse_number(number):\n",
    "    i = 0\n",
    "    while number>i:\n",
    "        \n",
    "        print(number)\n",
    "        \n",
    "        number-=1\n",
    "        \n",
    "number = 10\n",
    "\n",
    "reverse_number(number)"
   ]
  }
 ],
 "metadata": {
  "kernelspec": {
   "display_name": "Python 3 (ipykernel)",
   "language": "python",
   "name": "python3"
  },
  "language_info": {
   "codemirror_mode": {
    "name": "ipython",
    "version": 3
   },
   "file_extension": ".py",
   "mimetype": "text/x-python",
   "name": "python",
   "nbconvert_exporter": "python",
   "pygments_lexer": "ipython3",
   "version": "3.9.7"
  }
 },
 "nbformat": 4,
 "nbformat_minor": 5
}
