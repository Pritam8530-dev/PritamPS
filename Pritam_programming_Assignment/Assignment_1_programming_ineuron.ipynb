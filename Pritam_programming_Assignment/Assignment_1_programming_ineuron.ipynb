{
 "cells": [
  {
   "cell_type": "markdown",
   "id": "9e04b10a",
   "metadata": {},
   "source": [
    "### 1. Write a Python program to print \"Hello Python\" ?"
   ]
  },
  {
   "cell_type": "code",
   "execution_count": 1,
   "id": "e32b3c4c",
   "metadata": {},
   "outputs": [
    {
     "name": "stdout",
     "output_type": "stream",
     "text": [
      "Hello Python\n"
     ]
    }
   ],
   "source": [
    "def test(a):\n",
    "\n",
    "    print(a)\n",
    "    \n",
    "test(a = 'Hello Python')\n",
    "    "
   ]
  },
  {
   "cell_type": "markdown",
   "id": "2777040c",
   "metadata": {},
   "source": [
    "### 2. Write a Python program to do arithmetical operations addition and division.?"
   ]
  },
  {
   "cell_type": "code",
   "execution_count": 2,
   "id": "6fcef08a",
   "metadata": {},
   "outputs": [
    {
     "name": "stdout",
     "output_type": "stream",
     "text": [
      "addition of  10 and 20 is : 30\n",
      "division of  10  / 20 is : 0.5\n"
     ]
    }
   ],
   "source": [
    "def arithmetic(a , b):\n",
    "    \n",
    "    addition = a + b\n",
    "    \n",
    "    division = a/b\n",
    "    \n",
    "    print('addition of ' ,a ,'and' ,b,'is :' , addition)\n",
    "    \n",
    "    print('division of ' , a,' /' , b ,'is :' , division)\n",
    "    \n",
    "    \n",
    "arithmetic(10 , 20)"
   ]
  },
  {
   "cell_type": "markdown",
   "id": "8b2d598f",
   "metadata": {},
   "source": [
    "### 3. Write a Python program to find the area of a triangle?"
   ]
  },
  {
   "cell_type": "code",
   "execution_count": 3,
   "id": "62ff38fe",
   "metadata": {},
   "outputs": [
    {
     "name": "stdout",
     "output_type": "stream",
     "text": [
      "value of first side  is : 5\n",
      "value of second side is : 6\n",
      "value of third side  is : 7\n",
      "semiperimeter is :  9.0\n",
      "Area of triangle is : 14.696938456699069\n"
     ]
    }
   ],
   "source": [
    "def area_triangle (a , b, c):\n",
    "    \n",
    "    print('value of first side  is :' , a)\n",
    "    print('value of second side is :' , b)\n",
    "    print('value of third side  is :' , c)\n",
    "    \n",
    "    s = ( a + b + c ) /2\n",
    "    \n",
    "    print('semiperimeter is : ' , s)\n",
    "    \n",
    "    area = (s*(s-a)*(s-b)*(s-c)) ** 0.5\n",
    "    \n",
    "    print('Area of triangle is :' , area)\n",
    "    \n",
    "    \n",
    "area_triangle(5 ,6 ,7)\n"
   ]
  },
  {
   "cell_type": "markdown",
   "id": "a52a6cb3",
   "metadata": {},
   "source": [
    "### 4. Write a Python program to swap two variables?"
   ]
  },
  {
   "cell_type": "code",
   "execution_count": 14,
   "id": "9be3a7e3",
   "metadata": {},
   "outputs": [
    {
     "name": "stdout",
     "output_type": "stream",
     "text": [
      "value of x is : 10\n",
      "value of y is : 20\n",
      "value of x after the swapping is : 20\n",
      "value of y  after the swapping is : 10\n"
     ]
    }
   ],
   "source": [
    "def swap(x , y):\n",
    "    print('value of x is :' , x)\n",
    "    print('value of y is :'  , y)\n",
    "    \n",
    "    temp = y\n",
    "    y = x\n",
    "    x = temp\n",
    "    \n",
    "    \n",
    "    print('value of x after the swapping is :' , x)\n",
    "    print('value of y  after the swapping is :' , y)\n",
    "    \n",
    "    \n",
    "swap(x = 10 , y = 20)"
   ]
  },
  {
   "cell_type": "markdown",
   "id": "277b0485",
   "metadata": {},
   "source": [
    "### OR"
   ]
  },
  {
   "cell_type": "code",
   "execution_count": 12,
   "id": "df017d9c",
   "metadata": {},
   "outputs": [
    {
     "name": "stdout",
     "output_type": "stream",
     "text": [
      "Enter the value of a is :12\n",
      "Enter the value of b is :34\n",
      "a is : 34\n",
      "b is : 12\n"
     ]
    }
   ],
   "source": [
    "a = int(input('Enter the value of a is :' ))\n",
    "b = int(input('Enter the value of b is :' ,))\n",
    "\n",
    "temp = a\n",
    "a = b\n",
    "b = temp\n",
    "\n",
    "print('a is :' , a)\n",
    "print('b is :' , b)\n"
   ]
  },
  {
   "cell_type": "markdown",
   "id": "522ccb21",
   "metadata": {},
   "source": [
    "### 5. Write a Python program to generate a random number?"
   ]
  },
  {
   "cell_type": "code",
   "execution_count": 29,
   "id": "12692ecd",
   "metadata": {},
   "outputs": [
    {
     "data": {
      "text/plain": [
       "array([0.60441196, 0.43669791, 0.16403391, 0.25768415, 0.3264966 ,\n",
       "       0.24132607, 0.14327145, 0.91227479, 0.90586614, 0.42639311,\n",
       "       0.33449903, 0.90743577, 0.97461864, 0.17486562, 0.22741008,\n",
       "       0.76211381, 0.3547439 , 0.1393074 , 0.24405878, 0.19121889,\n",
       "       0.29959396, 0.8911831 ])"
      ]
     },
     "execution_count": 29,
     "metadata": {},
     "output_type": "execute_result"
    }
   ],
   "source": [
    "import numpy as np\n",
    "import random\n",
    "np.random.random(22)"
   ]
  },
  {
   "cell_type": "code",
   "execution_count": 36,
   "id": "a8503535",
   "metadata": {},
   "outputs": [
    {
     "data": {
      "text/plain": [
       "array([[-0.45060814, -0.6150268 ,  0.18906689, -0.01194055,  0.42640324,\n",
       "        -0.81609765, -0.48193408,  1.0133728 ,  3.09766636,  0.41368027,\n",
       "        -0.16500179,  0.81942993,  1.20692929, -1.29737016, -0.29849524,\n",
       "         0.86690607, -1.61288588,  0.07444714, -1.29975891, -0.03080819,\n",
       "        -0.21559915,  0.09729818],\n",
       "       [ 1.49678363,  0.8281478 ,  0.64907101, -0.20383192,  0.58881287,\n",
       "         0.10147587, -1.11402549,  2.07647993,  0.14233557,  0.07349492,\n",
       "         1.39330577,  1.25447003, -0.10760306, -0.20819429, -0.2172459 ,\n",
       "         0.8218166 , -1.67855215,  1.70049411, -1.035022  , -0.44069886,\n",
       "         0.84871784, -1.13914912],\n",
       "       [ 0.09462913, -0.22685078,  2.10745588,  0.08339162,  0.01296499,\n",
       "         0.35138404,  0.63666543, -0.84806939,  0.23677482,  0.18404585,\n",
       "         0.05784951, -0.87514253, -0.22724383, -0.32606468,  0.49234449,\n",
       "        -1.46593   ,  1.62624469,  0.2271817 ,  0.05059324,  2.18981654,\n",
       "        -0.6474738 , -0.11910464],\n",
       "       [-0.40648488,  0.58960399, -0.50541165,  0.05714773,  0.0486297 ,\n",
       "        -1.41731174,  0.59082517,  1.42895245, -0.61070118,  1.79764275,\n",
       "         1.64677015, -0.29347321, -0.86240037,  1.00652745,  1.08408827,\n",
       "        -0.48673298, -0.90494873, -1.31517515, -0.51793204,  0.45406551,\n",
       "         0.91341928,  1.54862816]])"
      ]
     },
     "execution_count": 36,
     "metadata": {},
     "output_type": "execute_result"
    }
   ],
   "source": [
    "np.random.randn(4,22)"
   ]
  },
  {
   "cell_type": "code",
   "execution_count": null,
   "id": "429808ad",
   "metadata": {},
   "outputs": [],
   "source": []
  }
 ],
 "metadata": {
  "kernelspec": {
   "display_name": "Python 3 (ipykernel)",
   "language": "python",
   "name": "python3"
  },
  "language_info": {
   "codemirror_mode": {
    "name": "ipython",
    "version": 3
   },
   "file_extension": ".py",
   "mimetype": "text/x-python",
   "name": "python",
   "nbconvert_exporter": "python",
   "pygments_lexer": "ipython3",
   "version": "3.9.7"
  }
 },
 "nbformat": 4,
 "nbformat_minor": 5
}
