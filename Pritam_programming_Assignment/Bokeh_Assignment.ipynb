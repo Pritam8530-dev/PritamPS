{
 "cells": [
  {
   "cell_type": "markdown",
   "id": "32aaa272",
   "metadata": {},
   "source": [
    "#### Q1. How can you create a Bokeh plot using Python code?"
   ]
  },
  {
   "cell_type": "markdown",
   "id": "3c5363d7",
   "metadata": {},
   "source": [
    "Ans:"
   ]
  },
  {
   "cell_type": "code",
   "execution_count": 1,
   "id": "6aa843cd",
   "metadata": {},
   "outputs": [
    {
     "data": {
      "text/html": [
       "\n",
       "    <div class=\"bk-root\">\n",
       "        <a href=\"https://bokeh.org\" target=\"_blank\" class=\"bk-logo bk-logo-small bk-logo-notebook\"></a>\n",
       "        <span id=\"1002\">Loading BokehJS ...</span>\n",
       "    </div>"
      ]
     },
     "metadata": {},
     "output_type": "display_data"
    },
    {
     "data": {
      "application/javascript": [
       "\n",
       "(function(root) {\n",
       "  function now() {\n",
       "    return new Date();\n",
       "  }\n",
       "\n",
       "  const force = true;\n",
       "\n",
       "  if (typeof root._bokeh_onload_callbacks === \"undefined\" || force === true) {\n",
       "    root._bokeh_onload_callbacks = [];\n",
       "    root._bokeh_is_loading = undefined;\n",
       "  }\n",
       "\n",
       "  const JS_MIME_TYPE = 'application/javascript';\n",
       "  const HTML_MIME_TYPE = 'text/html';\n",
       "  const EXEC_MIME_TYPE = 'application/vnd.bokehjs_exec.v0+json';\n",
       "  const CLASS_NAME = 'output_bokeh rendered_html';\n",
       "\n",
       "  /**\n",
       "   * Render data to the DOM node\n",
       "   */\n",
       "  function render(props, node) {\n",
       "    const script = document.createElement(\"script\");\n",
       "    node.appendChild(script);\n",
       "  }\n",
       "\n",
       "  /**\n",
       "   * Handle when an output is cleared or removed\n",
       "   */\n",
       "  function handleClearOutput(event, handle) {\n",
       "    const cell = handle.cell;\n",
       "\n",
       "    const id = cell.output_area._bokeh_element_id;\n",
       "    const server_id = cell.output_area._bokeh_server_id;\n",
       "    // Clean up Bokeh references\n",
       "    if (id != null && id in Bokeh.index) {\n",
       "      Bokeh.index[id].model.document.clear();\n",
       "      delete Bokeh.index[id];\n",
       "    }\n",
       "\n",
       "    if (server_id !== undefined) {\n",
       "      // Clean up Bokeh references\n",
       "      const cmd_clean = \"from bokeh.io.state import curstate; print(curstate().uuid_to_server['\" + server_id + \"'].get_sessions()[0].document.roots[0]._id)\";\n",
       "      cell.notebook.kernel.execute(cmd_clean, {\n",
       "        iopub: {\n",
       "          output: function(msg) {\n",
       "            const id = msg.content.text.trim();\n",
       "            if (id in Bokeh.index) {\n",
       "              Bokeh.index[id].model.document.clear();\n",
       "              delete Bokeh.index[id];\n",
       "            }\n",
       "          }\n",
       "        }\n",
       "      });\n",
       "      // Destroy server and session\n",
       "      const cmd_destroy = \"import bokeh.io.notebook as ion; ion.destroy_server('\" + server_id + \"')\";\n",
       "      cell.notebook.kernel.execute(cmd_destroy);\n",
       "    }\n",
       "  }\n",
       "\n",
       "  /**\n",
       "   * Handle when a new output is added\n",
       "   */\n",
       "  function handleAddOutput(event, handle) {\n",
       "    const output_area = handle.output_area;\n",
       "    const output = handle.output;\n",
       "\n",
       "    // limit handleAddOutput to display_data with EXEC_MIME_TYPE content only\n",
       "    if ((output.output_type != \"display_data\") || (!Object.prototype.hasOwnProperty.call(output.data, EXEC_MIME_TYPE))) {\n",
       "      return\n",
       "    }\n",
       "\n",
       "    const toinsert = output_area.element.find(\".\" + CLASS_NAME.split(' ')[0]);\n",
       "\n",
       "    if (output.metadata[EXEC_MIME_TYPE][\"id\"] !== undefined) {\n",
       "      toinsert[toinsert.length - 1].firstChild.textContent = output.data[JS_MIME_TYPE];\n",
       "      // store reference to embed id on output_area\n",
       "      output_area._bokeh_element_id = output.metadata[EXEC_MIME_TYPE][\"id\"];\n",
       "    }\n",
       "    if (output.metadata[EXEC_MIME_TYPE][\"server_id\"] !== undefined) {\n",
       "      const bk_div = document.createElement(\"div\");\n",
       "      bk_div.innerHTML = output.data[HTML_MIME_TYPE];\n",
       "      const script_attrs = bk_div.children[0].attributes;\n",
       "      for (let i = 0; i < script_attrs.length; i++) {\n",
       "        toinsert[toinsert.length - 1].firstChild.setAttribute(script_attrs[i].name, script_attrs[i].value);\n",
       "        toinsert[toinsert.length - 1].firstChild.textContent = bk_div.children[0].textContent\n",
       "      }\n",
       "      // store reference to server id on output_area\n",
       "      output_area._bokeh_server_id = output.metadata[EXEC_MIME_TYPE][\"server_id\"];\n",
       "    }\n",
       "  }\n",
       "\n",
       "  function register_renderer(events, OutputArea) {\n",
       "\n",
       "    function append_mime(data, metadata, element) {\n",
       "      // create a DOM node to render to\n",
       "      const toinsert = this.create_output_subarea(\n",
       "        metadata,\n",
       "        CLASS_NAME,\n",
       "        EXEC_MIME_TYPE\n",
       "      );\n",
       "      this.keyboard_manager.register_events(toinsert);\n",
       "      // Render to node\n",
       "      const props = {data: data, metadata: metadata[EXEC_MIME_TYPE]};\n",
       "      render(props, toinsert[toinsert.length - 1]);\n",
       "      element.append(toinsert);\n",
       "      return toinsert\n",
       "    }\n",
       "\n",
       "    /* Handle when an output is cleared or removed */\n",
       "    events.on('clear_output.CodeCell', handleClearOutput);\n",
       "    events.on('delete.Cell', handleClearOutput);\n",
       "\n",
       "    /* Handle when a new output is added */\n",
       "    events.on('output_added.OutputArea', handleAddOutput);\n",
       "\n",
       "    /**\n",
       "     * Register the mime type and append_mime function with output_area\n",
       "     */\n",
       "    OutputArea.prototype.register_mime_type(EXEC_MIME_TYPE, append_mime, {\n",
       "      /* Is output safe? */\n",
       "      safe: true,\n",
       "      /* Index of renderer in `output_area.display_order` */\n",
       "      index: 0\n",
       "    });\n",
       "  }\n",
       "\n",
       "  // register the mime type if in Jupyter Notebook environment and previously unregistered\n",
       "  if (root.Jupyter !== undefined) {\n",
       "    const events = require('base/js/events');\n",
       "    const OutputArea = require('notebook/js/outputarea').OutputArea;\n",
       "\n",
       "    if (OutputArea.prototype.mime_types().indexOf(EXEC_MIME_TYPE) == -1) {\n",
       "      register_renderer(events, OutputArea);\n",
       "    }\n",
       "  }\n",
       "\n",
       "  \n",
       "  if (typeof (root._bokeh_timeout) === \"undefined\" || force === true) {\n",
       "    root._bokeh_timeout = Date.now() + 5000;\n",
       "    root._bokeh_failed_load = false;\n",
       "  }\n",
       "\n",
       "  const NB_LOAD_WARNING = {'data': {'text/html':\n",
       "     \"<div style='background-color: #fdd'>\\n\"+\n",
       "     \"<p>\\n\"+\n",
       "     \"BokehJS does not appear to have successfully loaded. If loading BokehJS from CDN, this \\n\"+\n",
       "     \"may be due to a slow or bad network connection. Possible fixes:\\n\"+\n",
       "     \"</p>\\n\"+\n",
       "     \"<ul>\\n\"+\n",
       "     \"<li>re-rerun `output_notebook()` to attempt to load from CDN again, or</li>\\n\"+\n",
       "     \"<li>use INLINE resources instead, as so:</li>\\n\"+\n",
       "     \"</ul>\\n\"+\n",
       "     \"<code>\\n\"+\n",
       "     \"from bokeh.resources import INLINE\\n\"+\n",
       "     \"output_notebook(resources=INLINE)\\n\"+\n",
       "     \"</code>\\n\"+\n",
       "     \"</div>\"}};\n",
       "\n",
       "  function display_loaded() {\n",
       "    const el = document.getElementById(\"1002\");\n",
       "    if (el != null) {\n",
       "      el.textContent = \"BokehJS is loading...\";\n",
       "    }\n",
       "    if (root.Bokeh !== undefined) {\n",
       "      if (el != null) {\n",
       "        el.textContent = \"BokehJS \" + root.Bokeh.version + \" successfully loaded.\";\n",
       "      }\n",
       "    } else if (Date.now() < root._bokeh_timeout) {\n",
       "      setTimeout(display_loaded, 100)\n",
       "    }\n",
       "  }\n",
       "\n",
       "\n",
       "  function run_callbacks() {\n",
       "    try {\n",
       "      root._bokeh_onload_callbacks.forEach(function(callback) {\n",
       "        if (callback != null)\n",
       "          callback();\n",
       "      });\n",
       "    } finally {\n",
       "      delete root._bokeh_onload_callbacks\n",
       "    }\n",
       "    console.debug(\"Bokeh: all callbacks have finished\");\n",
       "  }\n",
       "\n",
       "  function load_libs(css_urls, js_urls, callback) {\n",
       "    if (css_urls == null) css_urls = [];\n",
       "    if (js_urls == null) js_urls = [];\n",
       "\n",
       "    root._bokeh_onload_callbacks.push(callback);\n",
       "    if (root._bokeh_is_loading > 0) {\n",
       "      console.debug(\"Bokeh: BokehJS is being loaded, scheduling callback at\", now());\n",
       "      return null;\n",
       "    }\n",
       "    if (js_urls == null || js_urls.length === 0) {\n",
       "      run_callbacks();\n",
       "      return null;\n",
       "    }\n",
       "    console.debug(\"Bokeh: BokehJS not loaded, scheduling load and callback at\", now());\n",
       "    root._bokeh_is_loading = css_urls.length + js_urls.length;\n",
       "\n",
       "    function on_load() {\n",
       "      root._bokeh_is_loading--;\n",
       "      if (root._bokeh_is_loading === 0) {\n",
       "        console.debug(\"Bokeh: all BokehJS libraries/stylesheets loaded\");\n",
       "        run_callbacks()\n",
       "      }\n",
       "    }\n",
       "\n",
       "    function on_error(url) {\n",
       "      console.error(\"failed to load \" + url);\n",
       "    }\n",
       "\n",
       "    for (let i = 0; i < css_urls.length; i++) {\n",
       "      const url = css_urls[i];\n",
       "      const element = document.createElement(\"link\");\n",
       "      element.onload = on_load;\n",
       "      element.onerror = on_error.bind(null, url);\n",
       "      element.rel = \"stylesheet\";\n",
       "      element.type = \"text/css\";\n",
       "      element.href = url;\n",
       "      console.debug(\"Bokeh: injecting link tag for BokehJS stylesheet: \", url);\n",
       "      document.body.appendChild(element);\n",
       "    }\n",
       "\n",
       "    for (let i = 0; i < js_urls.length; i++) {\n",
       "      const url = js_urls[i];\n",
       "      const element = document.createElement('script');\n",
       "      element.onload = on_load;\n",
       "      element.onerror = on_error.bind(null, url);\n",
       "      element.async = false;\n",
       "      element.src = url;\n",
       "      console.debug(\"Bokeh: injecting script tag for BokehJS library: \", url);\n",
       "      document.head.appendChild(element);\n",
       "    }\n",
       "  };\n",
       "\n",
       "  function inject_raw_css(css) {\n",
       "    const element = document.createElement(\"style\");\n",
       "    element.appendChild(document.createTextNode(css));\n",
       "    document.body.appendChild(element);\n",
       "  }\n",
       "\n",
       "  \n",
       "  const js_urls = [\"https://cdn.bokeh.org/bokeh/release/bokeh-2.4.1.min.js\", \"https://cdn.bokeh.org/bokeh/release/bokeh-gl-2.4.1.min.js\", \"https://cdn.bokeh.org/bokeh/release/bokeh-widgets-2.4.1.min.js\", \"https://cdn.bokeh.org/bokeh/release/bokeh-tables-2.4.1.min.js\", \"https://cdn.bokeh.org/bokeh/release/bokeh-mathjax-2.4.1.min.js\"];\n",
       "  const css_urls = [];\n",
       "  \n",
       "\n",
       "  const inline_js = [\n",
       "    function(Bokeh) {\n",
       "      Bokeh.set_log_level(\"info\");\n",
       "    },\n",
       "    function(Bokeh) {\n",
       "    \n",
       "    \n",
       "    }\n",
       "  ];\n",
       "\n",
       "  function run_inline_js() {\n",
       "    \n",
       "    if (root.Bokeh !== undefined || force === true) {\n",
       "      \n",
       "    for (let i = 0; i < inline_js.length; i++) {\n",
       "      inline_js[i].call(root, root.Bokeh);\n",
       "    }\n",
       "    if (force === true) {\n",
       "        display_loaded();\n",
       "      }} else if (Date.now() < root._bokeh_timeout) {\n",
       "      setTimeout(run_inline_js, 100);\n",
       "    } else if (!root._bokeh_failed_load) {\n",
       "      console.log(\"Bokeh: BokehJS failed to load within specified timeout.\");\n",
       "      root._bokeh_failed_load = true;\n",
       "    } else if (force !== true) {\n",
       "      const cell = $(document.getElementById(\"1002\")).parents('.cell').data().cell;\n",
       "      cell.output_area.append_execute_result(NB_LOAD_WARNING)\n",
       "    }\n",
       "\n",
       "  }\n",
       "\n",
       "  if (root._bokeh_is_loading === 0) {\n",
       "    console.debug(\"Bokeh: BokehJS loaded, going straight to plotting\");\n",
       "    run_inline_js();\n",
       "  } else {\n",
       "    load_libs(css_urls, js_urls, function() {\n",
       "      console.debug(\"Bokeh: BokehJS plotting callback run at\", now());\n",
       "      run_inline_js();\n",
       "    });\n",
       "  }\n",
       "}(window));"
      ],
      "application/vnd.bokehjs_load.v0+json": "\n(function(root) {\n  function now() {\n    return new Date();\n  }\n\n  const force = true;\n\n  if (typeof root._bokeh_onload_callbacks === \"undefined\" || force === true) {\n    root._bokeh_onload_callbacks = [];\n    root._bokeh_is_loading = undefined;\n  }\n\n  \n\n  \n  if (typeof (root._bokeh_timeout) === \"undefined\" || force === true) {\n    root._bokeh_timeout = Date.now() + 5000;\n    root._bokeh_failed_load = false;\n  }\n\n  const NB_LOAD_WARNING = {'data': {'text/html':\n     \"<div style='background-color: #fdd'>\\n\"+\n     \"<p>\\n\"+\n     \"BokehJS does not appear to have successfully loaded. If loading BokehJS from CDN, this \\n\"+\n     \"may be due to a slow or bad network connection. Possible fixes:\\n\"+\n     \"</p>\\n\"+\n     \"<ul>\\n\"+\n     \"<li>re-rerun `output_notebook()` to attempt to load from CDN again, or</li>\\n\"+\n     \"<li>use INLINE resources instead, as so:</li>\\n\"+\n     \"</ul>\\n\"+\n     \"<code>\\n\"+\n     \"from bokeh.resources import INLINE\\n\"+\n     \"output_notebook(resources=INLINE)\\n\"+\n     \"</code>\\n\"+\n     \"</div>\"}};\n\n  function display_loaded() {\n    const el = document.getElementById(\"1002\");\n    if (el != null) {\n      el.textContent = \"BokehJS is loading...\";\n    }\n    if (root.Bokeh !== undefined) {\n      if (el != null) {\n        el.textContent = \"BokehJS \" + root.Bokeh.version + \" successfully loaded.\";\n      }\n    } else if (Date.now() < root._bokeh_timeout) {\n      setTimeout(display_loaded, 100)\n    }\n  }\n\n\n  function run_callbacks() {\n    try {\n      root._bokeh_onload_callbacks.forEach(function(callback) {\n        if (callback != null)\n          callback();\n      });\n    } finally {\n      delete root._bokeh_onload_callbacks\n    }\n    console.debug(\"Bokeh: all callbacks have finished\");\n  }\n\n  function load_libs(css_urls, js_urls, callback) {\n    if (css_urls == null) css_urls = [];\n    if (js_urls == null) js_urls = [];\n\n    root._bokeh_onload_callbacks.push(callback);\n    if (root._bokeh_is_loading > 0) {\n      console.debug(\"Bokeh: BokehJS is being loaded, scheduling callback at\", now());\n      return null;\n    }\n    if (js_urls == null || js_urls.length === 0) {\n      run_callbacks();\n      return null;\n    }\n    console.debug(\"Bokeh: BokehJS not loaded, scheduling load and callback at\", now());\n    root._bokeh_is_loading = css_urls.length + js_urls.length;\n\n    function on_load() {\n      root._bokeh_is_loading--;\n      if (root._bokeh_is_loading === 0) {\n        console.debug(\"Bokeh: all BokehJS libraries/stylesheets loaded\");\n        run_callbacks()\n      }\n    }\n\n    function on_error(url) {\n      console.error(\"failed to load \" + url);\n    }\n\n    for (let i = 0; i < css_urls.length; i++) {\n      const url = css_urls[i];\n      const element = document.createElement(\"link\");\n      element.onload = on_load;\n      element.onerror = on_error.bind(null, url);\n      element.rel = \"stylesheet\";\n      element.type = \"text/css\";\n      element.href = url;\n      console.debug(\"Bokeh: injecting link tag for BokehJS stylesheet: \", url);\n      document.body.appendChild(element);\n    }\n\n    for (let i = 0; i < js_urls.length; i++) {\n      const url = js_urls[i];\n      const element = document.createElement('script');\n      element.onload = on_load;\n      element.onerror = on_error.bind(null, url);\n      element.async = false;\n      element.src = url;\n      console.debug(\"Bokeh: injecting script tag for BokehJS library: \", url);\n      document.head.appendChild(element);\n    }\n  };\n\n  function inject_raw_css(css) {\n    const element = document.createElement(\"style\");\n    element.appendChild(document.createTextNode(css));\n    document.body.appendChild(element);\n  }\n\n  \n  const js_urls = [\"https://cdn.bokeh.org/bokeh/release/bokeh-2.4.1.min.js\", \"https://cdn.bokeh.org/bokeh/release/bokeh-gl-2.4.1.min.js\", \"https://cdn.bokeh.org/bokeh/release/bokeh-widgets-2.4.1.min.js\", \"https://cdn.bokeh.org/bokeh/release/bokeh-tables-2.4.1.min.js\", \"https://cdn.bokeh.org/bokeh/release/bokeh-mathjax-2.4.1.min.js\"];\n  const css_urls = [];\n  \n\n  const inline_js = [\n    function(Bokeh) {\n      Bokeh.set_log_level(\"info\");\n    },\n    function(Bokeh) {\n    \n    \n    }\n  ];\n\n  function run_inline_js() {\n    \n    if (root.Bokeh !== undefined || force === true) {\n      \n    for (let i = 0; i < inline_js.length; i++) {\n      inline_js[i].call(root, root.Bokeh);\n    }\n    if (force === true) {\n        display_loaded();\n      }} else if (Date.now() < root._bokeh_timeout) {\n      setTimeout(run_inline_js, 100);\n    } else if (!root._bokeh_failed_load) {\n      console.log(\"Bokeh: BokehJS failed to load within specified timeout.\");\n      root._bokeh_failed_load = true;\n    } else if (force !== true) {\n      const cell = $(document.getElementById(\"1002\")).parents('.cell').data().cell;\n      cell.output_area.append_execute_result(NB_LOAD_WARNING)\n    }\n\n  }\n\n  if (root._bokeh_is_loading === 0) {\n    console.debug(\"Bokeh: BokehJS loaded, going straight to plotting\");\n    run_inline_js();\n  } else {\n    load_libs(css_urls, js_urls, function() {\n      console.debug(\"Bokeh: BokehJS plotting callback run at\", now());\n      run_inline_js();\n    });\n  }\n}(window));"
     },
     "metadata": {},
     "output_type": "display_data"
    }
   ],
   "source": [
    "import bokeh.io\n",
    "import bokeh.plotting\n",
    "bokeh.io.output_notebook()"
   ]
  },
  {
   "cell_type": "code",
   "execution_count": 2,
   "id": "ba6f731c",
   "metadata": {},
   "outputs": [],
   "source": [
    "from bokeh.sampledata.iris import flowers"
   ]
  },
  {
   "cell_type": "code",
   "execution_count": 3,
   "id": "a855565a",
   "metadata": {},
   "outputs": [],
   "source": [
    "from bokeh.plotting import figure , output_file , show"
   ]
  },
  {
   "cell_type": "code",
   "execution_count": 9,
   "id": "1a9095b9",
   "metadata": {},
   "outputs": [
    {
     "data": {
      "text/html": [
       "\n",
       "\n",
       "\n",
       "\n",
       "\n",
       "\n",
       "  <div class=\"bk-root\" id=\"294feaea-d27f-447d-9a6e-3330b26c2146\" data-root-id=\"2060\"></div>\n"
      ]
     },
     "metadata": {},
     "output_type": "display_data"
    },
    {
     "data": {
      "application/javascript": [
       "(function(root) {\n",
       "  function embed_document(root) {\n",
       "    \n",
       "  const docs_json = {\"8118f321-06f8-4144-9d1e-a73e1e534e36\":{\"defs\":[],\"roots\":{\"references\":[{\"attributes\":{\"below\":[{\"id\":\"2071\"}],\"center\":[{\"id\":\"2074\"},{\"id\":\"2078\"},{\"id\":\"2109\"}],\"left\":[{\"id\":\"2075\"}],\"renderers\":[{\"id\":\"2097\"}],\"title\":{\"id\":\"2061\"},\"toolbar\":{\"id\":\"2086\"},\"x_range\":{\"id\":\"2063\"},\"x_scale\":{\"id\":\"2067\"},\"y_range\":{\"id\":\"2065\"},\"y_scale\":{\"id\":\"2069\"}},\"id\":\"2060\",\"subtype\":\"Figure\",\"type\":\"Plot\"},{\"attributes\":{\"tools\":[{\"id\":\"2079\"},{\"id\":\"2080\"},{\"id\":\"2081\"},{\"id\":\"2082\"},{\"id\":\"2083\"},{\"id\":\"2084\"}]},\"id\":\"2086\",\"type\":\"Toolbar\"},{\"attributes\":{},\"id\":\"2102\",\"type\":\"AllLabels\"},{\"attributes\":{},\"id\":\"2104\",\"type\":\"BasicTickFormatter\"},{\"attributes\":{\"bottom_units\":\"screen\",\"coordinates\":null,\"fill_alpha\":0.5,\"fill_color\":\"lightgrey\",\"group\":null,\"left_units\":\"screen\",\"level\":\"overlay\",\"line_alpha\":1.0,\"line_color\":\"black\",\"line_dash\":[4,4],\"line_width\":2,\"right_units\":\"screen\",\"syncable\":false,\"top_units\":\"screen\"},\"id\":\"2085\",\"type\":\"BoxAnnotation\"},{\"attributes\":{\"coordinates\":null,\"group\":null,\"items\":[{\"id\":\"2110\"}]},\"id\":\"2109\",\"type\":\"Legend\"},{\"attributes\":{},\"id\":\"2105\",\"type\":\"AllLabels\"},{\"attributes\":{\"axis\":{\"id\":\"2071\"},\"coordinates\":null,\"group\":null,\"ticker\":null},\"id\":\"2074\",\"type\":\"Grid\"},{\"attributes\":{},\"id\":\"2072\",\"type\":\"BasicTicker\"},{\"attributes\":{\"axis_label\":\"petal_length\",\"coordinates\":null,\"formatter\":{\"id\":\"2101\"},\"group\":null,\"major_label_policy\":{\"id\":\"2102\"},\"ticker\":{\"id\":\"2076\"}},\"id\":\"2075\",\"type\":\"LinearAxis\"},{\"attributes\":{\"fill_color\":{\"value\":\"magenta\"},\"line_color\":{\"value\":\"#1f77b4\"},\"size\":{\"value\":10},\"x\":{\"field\":\"x\"},\"y\":{\"field\":\"y\"}},\"id\":\"2094\",\"type\":\"Scatter\"},{\"attributes\":{},\"id\":\"2084\",\"type\":\"HelpTool\"},{\"attributes\":{},\"id\":\"2065\",\"type\":\"DataRange1d\"},{\"attributes\":{\"axis_label\":\"sepal_length\",\"coordinates\":null,\"formatter\":{\"id\":\"2104\"},\"group\":null,\"major_label_policy\":{\"id\":\"2105\"},\"ticker\":{\"id\":\"2072\"}},\"id\":\"2071\",\"type\":\"LinearAxis\"},{\"attributes\":{},\"id\":\"2069\",\"type\":\"LinearScale\"},{\"attributes\":{},\"id\":\"2080\",\"type\":\"WheelZoomTool\"},{\"attributes\":{},\"id\":\"2079\",\"type\":\"PanTool\"},{\"attributes\":{},\"id\":\"2106\",\"type\":\"UnionRenderers\"},{\"attributes\":{\"overlay\":{\"id\":\"2085\"}},\"id\":\"2081\",\"type\":\"BoxZoomTool\"},{\"attributes\":{},\"id\":\"2082\",\"type\":\"SaveTool\"},{\"attributes\":{\"fill_alpha\":{\"value\":0.2},\"fill_color\":{\"value\":\"magenta\"},\"hatch_alpha\":{\"value\":0.2},\"line_alpha\":{\"value\":0.2},\"line_color\":{\"value\":\"#1f77b4\"},\"size\":{\"value\":10},\"x\":{\"field\":\"x\"},\"y\":{\"field\":\"y\"}},\"id\":\"2096\",\"type\":\"Scatter\"},{\"attributes\":{},\"id\":\"2107\",\"type\":\"Selection\"},{\"attributes\":{},\"id\":\"2067\",\"type\":\"LinearScale\"},{\"attributes\":{\"fill_alpha\":{\"value\":0.1},\"fill_color\":{\"value\":\"magenta\"},\"hatch_alpha\":{\"value\":0.1},\"line_alpha\":{\"value\":0.1},\"line_color\":{\"value\":\"#1f77b4\"},\"size\":{\"value\":10},\"x\":{\"field\":\"x\"},\"y\":{\"field\":\"y\"}},\"id\":\"2095\",\"type\":\"Scatter\"},{\"attributes\":{\"source\":{\"id\":\"2093\"}},\"id\":\"2098\",\"type\":\"CDSView\"},{\"attributes\":{},\"id\":\"2083\",\"type\":\"ResetTool\"},{\"attributes\":{\"axis\":{\"id\":\"2075\"},\"coordinates\":null,\"dimension\":1,\"group\":null,\"ticker\":null},\"id\":\"2078\",\"type\":\"Grid\"},{\"attributes\":{\"label\":{\"value\":\"red\"},\"renderers\":[{\"id\":\"2097\"}]},\"id\":\"2110\",\"type\":\"LegendItem\"},{\"attributes\":{},\"id\":\"2076\",\"type\":\"BasicTicker\"},{\"attributes\":{\"coordinates\":null,\"group\":null,\"text\":\"scatterplot of sepal_length and petal_length\"},\"id\":\"2061\",\"type\":\"Title\"},{\"attributes\":{},\"id\":\"2063\",\"type\":\"DataRange1d\"},{\"attributes\":{},\"id\":\"2101\",\"type\":\"BasicTickFormatter\"},{\"attributes\":{\"data\":{\"x\":{\"__ndarray__\":\"ZmZmZmZmFECamZmZmZkTQM3MzMzMzBJAZmZmZmZmEkAAAAAAAAAUQJqZmZmZmRVAZmZmZmZmEkAAAAAAAAAUQJqZmZmZmRFAmpmZmZmZE0CamZmZmZkVQDMzMzMzMxNAMzMzMzMzE0AzMzMzMzMRQDMzMzMzMxdAzczMzMzMFkCamZmZmZkVQGZmZmZmZhRAzczMzMzMFkBmZmZmZmYUQJqZmZmZmRVAZmZmZmZmFEBmZmZmZmYSQGZmZmZmZhRAMzMzMzMzE0AAAAAAAAAUQAAAAAAAABRAzczMzMzMFEDNzMzMzMwUQM3MzMzMzBJAMzMzMzMzE0CamZmZmZkVQM3MzMzMzBRAAAAAAAAAFkCamZmZmZkTQAAAAAAAABRAAAAAAAAAFkCamZmZmZkTQJqZmZmZmRFAZmZmZmZmFEAAAAAAAAAUQAAAAAAAABJAmpmZmZmZEUAAAAAAAAAUQGZmZmZmZhRAMzMzMzMzE0BmZmZmZmYUQGZmZmZmZhJAMzMzMzMzFUAAAAAAAAAUQAAAAAAAABxAmpmZmZmZGUCamZmZmZkbQAAAAAAAABZAAAAAAAAAGkDNzMzMzMwWQDMzMzMzMxlAmpmZmZmZE0BmZmZmZmYaQM3MzMzMzBRAAAAAAAAAFECamZmZmZkXQAAAAAAAABhAZmZmZmZmGEBmZmZmZmYWQM3MzMzMzBpAZmZmZmZmFkAzMzMzMzMXQM3MzMzMzBhAZmZmZmZmFkCamZmZmZkXQGZmZmZmZhhAMzMzMzMzGUBmZmZmZmYYQJqZmZmZmRlAZmZmZmZmGkAzMzMzMzMbQM3MzMzMzBpAAAAAAAAAGEDNzMzMzMwWQAAAAAAAABZAAAAAAAAAFkAzMzMzMzMXQAAAAAAAABhAmpmZmZmZFUAAAAAAAAAYQM3MzMzMzBpAMzMzMzMzGUBmZmZmZmYWQAAAAAAAABZAAAAAAAAAFkBmZmZmZmYYQDMzMzMzMxdAAAAAAAAAFEBmZmZmZmYWQM3MzMzMzBZAzczMzMzMFkDNzMzMzMwYQGZmZmZmZhRAzczMzMzMFkAzMzMzMzMZQDMzMzMzMxdAZmZmZmZmHEAzMzMzMzMZQAAAAAAAABpAZmZmZmZmHkCamZmZmZkTQDMzMzMzMx1AzczMzMzMGkDNzMzMzMwcQAAAAAAAABpAmpmZmZmZGUAzMzMzMzMbQM3MzMzMzBZAMzMzMzMzF0CamZmZmZkZQAAAAAAAABpAzczMzMzMHkDNzMzMzMweQAAAAAAAABhAmpmZmZmZG0BmZmZmZmYWQM3MzMzMzB5AMzMzMzMzGUDNzMzMzMwaQM3MzMzMzBxAzczMzMzMGEBmZmZmZmYYQJqZmZmZmRlAzczMzMzMHECamZmZmZkdQJqZmZmZmR9AmpmZmZmZGUAzMzMzMzMZQGZmZmZmZhhAzczMzMzMHkAzMzMzMzMZQJqZmZmZmRlAAAAAAAAAGECamZmZmZkbQM3MzMzMzBpAmpmZmZmZG0AzMzMzMzMXQDMzMzMzMxtAzczMzMzMGkDNzMzMzMwaQDMzMzMzMxlAAAAAAAAAGkDNzMzMzMwYQJqZmZmZmRdA\",\"dtype\":\"float64\",\"order\":\"little\",\"shape\":[150]},\"y\":{\"__ndarray__\":\"ZmZmZmZm9j9mZmZmZmb2P83MzMzMzPQ/AAAAAAAA+D9mZmZmZmb2PzMzMzMzM/s/ZmZmZmZm9j8AAAAAAAD4P2ZmZmZmZvY/AAAAAAAA+D8AAAAAAAD4P5qZmZmZmfk/ZmZmZmZm9j+amZmZmZnxPzMzMzMzM/M/AAAAAAAA+D/NzMzMzMz0P2ZmZmZmZvY/MzMzMzMz+z8AAAAAAAD4PzMzMzMzM/s/AAAAAAAA+D8AAAAAAADwPzMzMzMzM/s/ZmZmZmZm/j+amZmZmZn5P5qZmZmZmfk/AAAAAAAA+D9mZmZmZmb2P5qZmZmZmfk/mpmZmZmZ+T8AAAAAAAD4PwAAAAAAAPg/ZmZmZmZm9j8AAAAAAAD4PzMzMzMzM/M/zczMzMzM9D9mZmZmZmb2P83MzMzMzPQ/AAAAAAAA+D/NzMzMzMz0P83MzMzMzPQ/zczMzMzM9D+amZmZmZn5P2ZmZmZmZv4/ZmZmZmZm9j+amZmZmZn5P2ZmZmZmZvY/AAAAAAAA+D9mZmZmZmb2P83MzMzMzBJAAAAAAAAAEkCamZmZmZkTQAAAAAAAABBAZmZmZmZmEkAAAAAAAAASQM3MzMzMzBJAZmZmZmZmCkBmZmZmZmYSQDMzMzMzMw9AAAAAAAAADEDNzMzMzMwQQAAAAAAAABBAzczMzMzMEkDNzMzMzMwMQJqZmZmZmRFAAAAAAAAAEkBmZmZmZmYQQAAAAAAAABJAMzMzMzMzD0AzMzMzMzMTQAAAAAAAABBAmpmZmZmZE0DNzMzMzMwSQDMzMzMzMxFAmpmZmZmZEUAzMzMzMzMTQAAAAAAAABRAAAAAAAAAEkAAAAAAAAAMQGZmZmZmZg5AmpmZmZmZDUAzMzMzMzMPQGZmZmZmZhRAAAAAAAAAEkAAAAAAAAASQM3MzMzMzBJAmpmZmZmZEUBmZmZmZmYQQAAAAAAAABBAmpmZmZmZEUBmZmZmZmYSQAAAAAAAABBAZmZmZmZmCkDNzMzMzMwQQM3MzMzMzBBAzczMzMzMEEAzMzMzMzMRQAAAAAAAAAhAZmZmZmZmEEAAAAAAAAAYQGZmZmZmZhRAmpmZmZmZF0BmZmZmZmYWQDMzMzMzMxdAZmZmZmZmGkAAAAAAAAASQDMzMzMzMxlAMzMzMzMzF0BmZmZmZmYYQGZmZmZmZhRAMzMzMzMzFUAAAAAAAAAWQAAAAAAAABRAZmZmZmZmFEAzMzMzMzMVQAAAAAAAABZAzczMzMzMGkCamZmZmZkbQAAAAAAAABRAzczMzMzMFkCamZmZmZkTQM3MzMzMzBpAmpmZmZmZE0DNzMzMzMwWQAAAAAAAABhAMzMzMzMzE0CamZmZmZkTQGZmZmZmZhZAMzMzMzMzF0BmZmZmZmYYQJqZmZmZmRlAZmZmZmZmFkBmZmZmZmYUQGZmZmZmZhZAZmZmZmZmGEBmZmZmZmYWQAAAAAAAABZAMzMzMzMzE0CamZmZmZkVQGZmZmZmZhZAZmZmZmZmFEBmZmZmZmYUQJqZmZmZmRdAzczMzMzMFkDNzMzMzMwUQAAAAAAAABRAzczMzMzMFECamZmZmZkVQGZmZmZmZhRA\",\"dtype\":\"float64\",\"order\":\"little\",\"shape\":[150]}},\"selected\":{\"id\":\"2107\"},\"selection_policy\":{\"id\":\"2106\"}},\"id\":\"2093\",\"type\":\"ColumnDataSource\"},{\"attributes\":{\"coordinates\":null,\"data_source\":{\"id\":\"2093\"},\"glyph\":{\"id\":\"2094\"},\"group\":null,\"hover_glyph\":null,\"muted_glyph\":{\"id\":\"2096\"},\"nonselection_glyph\":{\"id\":\"2095\"},\"view\":{\"id\":\"2098\"}},\"id\":\"2097\",\"type\":\"GlyphRenderer\"}],\"root_ids\":[\"2060\"]},\"title\":\"Bokeh Application\",\"version\":\"2.4.1\"}};\n",
       "  const render_items = [{\"docid\":\"8118f321-06f8-4144-9d1e-a73e1e534e36\",\"root_ids\":[\"2060\"],\"roots\":{\"2060\":\"294feaea-d27f-447d-9a6e-3330b26c2146\"}}];\n",
       "  root.Bokeh.embed.embed_items_notebook(docs_json, render_items);\n",
       "\n",
       "  }\n",
       "  if (root.Bokeh !== undefined) {\n",
       "    embed_document(root);\n",
       "  } else {\n",
       "    let attempts = 0;\n",
       "    const timer = setInterval(function(root) {\n",
       "      if (root.Bokeh !== undefined) {\n",
       "        clearInterval(timer);\n",
       "        embed_document(root);\n",
       "      } else {\n",
       "        attempts++;\n",
       "        if (attempts > 100) {\n",
       "          clearInterval(timer);\n",
       "          console.log(\"Bokeh: ERROR: Unable to run BokehJS code because BokehJS library is missing\");\n",
       "        }\n",
       "      }\n",
       "    }, 10, root)\n",
       "  }\n",
       "})(window);"
      ],
      "application/vnd.bokehjs_exec.v0+json": ""
     },
     "metadata": {
      "application/vnd.bokehjs_exec.v0+json": {
       "id": "2060"
      }
     },
     "output_type": "display_data"
    }
   ],
   "source": [
    "output_file('test.html')\n",
    "p = figure(title ='scatterplot of sepal_length and petal_length')\n",
    "p.xaxis.axis_label = 'sepal_length'\n",
    "p.yaxis.axis_label = 'petal_length'\n",
    "p.scatter(flowers['sepal_length'] , flowers['petal_length'] , fill_color = 'magenta' , legend_label = 'red' , size = 10)\n",
    "show(p)"
   ]
  },
  {
   "cell_type": "markdown",
   "id": "9384773a",
   "metadata": {},
   "source": [
    "#### Q2. What are glyphs in Bokeh, and how can you add them to a Bokeh plot? Explain with an example."
   ]
  },
  {
   "cell_type": "markdown",
   "id": "19456ca5",
   "metadata": {},
   "source": [
    "Ans:"
   ]
  },
  {
   "cell_type": "markdown",
   "id": "ac4a69d9",
   "metadata": {},
   "source": [
    "Interactive Data Visualization in Python With Bokeh\n",
    "\n",
    "A glyph is a vectorized graphical shape or marker that is used to represent your data. \n",
    "\n",
    "A Few Categories of Glyphs: Marker: Shapes like circles, diamonds, squares and triangles. \n",
    "        \n",
    "Effective for scatter and bubble charts. Line: Single, step and multi-line shapes."
   ]
  },
  {
   "cell_type": "code",
   "execution_count": 16,
   "id": "323068d7",
   "metadata": {},
   "outputs": [
    {
     "data": {
      "text/html": [
       "\n",
       "\n",
       "\n",
       "\n",
       "\n",
       "\n",
       "  <div class=\"bk-root\" id=\"03aca255-ecce-4667-945e-c38bbccc6168\" data-root-id=\"3656\"></div>\n"
      ]
     },
     "metadata": {},
     "output_type": "display_data"
    },
    {
     "data": {
      "application/javascript": [
       "(function(root) {\n",
       "  function embed_document(root) {\n",
       "    \n",
       "  const docs_json = {\"44df2d8b-ee6c-4ae9-988f-3618a0d7e6a2\":{\"defs\":[],\"roots\":{\"references\":[{\"attributes\":{\"below\":[{\"id\":\"3667\"}],\"center\":[{\"id\":\"3670\"},{\"id\":\"3674\"},{\"id\":\"3705\"}],\"height\":400,\"left\":[{\"id\":\"3671\"}],\"renderers\":[{\"id\":\"3693\"}],\"title\":{\"id\":\"3657\"},\"toolbar\":{\"id\":\"3682\"},\"width\":400,\"x_range\":{\"id\":\"3659\"},\"x_scale\":{\"id\":\"3663\"},\"y_range\":{\"id\":\"3661\"},\"y_scale\":{\"id\":\"3665\"}},\"id\":\"3656\",\"subtype\":\"Figure\",\"type\":\"Plot\"},{\"attributes\":{\"fill_alpha\":{\"value\":0.2},\"fill_color\":{\"value\":\"orange\"},\"hatch_alpha\":{\"value\":0.2},\"line_alpha\":{\"value\":0.2},\"line_color\":{\"value\":\"#1f77b4\"},\"marker\":{\"value\":\"diamond\"},\"size\":{\"value\":10},\"x\":{\"field\":\"x\"},\"y\":{\"field\":\"y\"}},\"id\":\"3692\",\"type\":\"Scatter\"},{\"attributes\":{},\"id\":\"3659\",\"type\":\"DataRange1d\"},{\"attributes\":{},\"id\":\"3663\",\"type\":\"LinearScale\"},{\"attributes\":{},\"id\":\"3702\",\"type\":\"UnionRenderers\"},{\"attributes\":{\"coordinates\":null,\"data_source\":{\"id\":\"3689\"},\"glyph\":{\"id\":\"3690\"},\"group\":null,\"hover_glyph\":null,\"muted_glyph\":{\"id\":\"3692\"},\"nonselection_glyph\":{\"id\":\"3691\"},\"view\":{\"id\":\"3694\"}},\"id\":\"3693\",\"type\":\"GlyphRenderer\"},{\"attributes\":{\"source\":{\"id\":\"3689\"}},\"id\":\"3694\",\"type\":\"CDSView\"},{\"attributes\":{},\"id\":\"3703\",\"type\":\"Selection\"},{\"attributes\":{\"coordinates\":null,\"group\":null,\"items\":[{\"id\":\"3706\"}]},\"id\":\"3705\",\"type\":\"Legend\"},{\"attributes\":{\"label\":{\"value\":\"magenta\"},\"renderers\":[{\"id\":\"3693\"}]},\"id\":\"3706\",\"type\":\"LegendItem\"},{\"attributes\":{\"fill_alpha\":{\"value\":0.1},\"fill_color\":{\"value\":\"orange\"},\"hatch_alpha\":{\"value\":0.1},\"line_alpha\":{\"value\":0.1},\"line_color\":{\"value\":\"#1f77b4\"},\"marker\":{\"value\":\"diamond\"},\"size\":{\"value\":10},\"x\":{\"field\":\"x\"},\"y\":{\"field\":\"y\"}},\"id\":\"3691\",\"type\":\"Scatter\"},{\"attributes\":{\"data\":{\"x\":[1,2,3,4,5,6,7,8,9,10],\"y\":[1,2,3,4,5,6,7,8,9,10]},\"selected\":{\"id\":\"3703\"},\"selection_policy\":{\"id\":\"3702\"}},\"id\":\"3689\",\"type\":\"ColumnDataSource\"},{\"attributes\":{\"fill_color\":{\"value\":\"orange\"},\"line_color\":{\"value\":\"#1f77b4\"},\"marker\":{\"value\":\"diamond\"},\"size\":{\"value\":10},\"x\":{\"field\":\"x\"},\"y\":{\"field\":\"y\"}},\"id\":\"3690\",\"type\":\"Scatter\"},{\"attributes\":{},\"id\":\"3668\",\"type\":\"BasicTicker\"},{\"attributes\":{},\"id\":\"3665\",\"type\":\"LinearScale\"},{\"attributes\":{\"tools\":[{\"id\":\"3675\"},{\"id\":\"3676\"},{\"id\":\"3677\"},{\"id\":\"3678\"},{\"id\":\"3679\"},{\"id\":\"3680\"}]},\"id\":\"3682\",\"type\":\"Toolbar\"},{\"attributes\":{},\"id\":\"3675\",\"type\":\"PanTool\"},{\"attributes\":{},\"id\":\"3676\",\"type\":\"WheelZoomTool\"},{\"attributes\":{},\"id\":\"3661\",\"type\":\"DataRange1d\"},{\"attributes\":{},\"id\":\"3672\",\"type\":\"BasicTicker\"},{\"attributes\":{\"overlay\":{\"id\":\"3681\"}},\"id\":\"3677\",\"type\":\"BoxZoomTool\"},{\"attributes\":{\"axis\":{\"id\":\"3667\"},\"coordinates\":null,\"group\":null,\"ticker\":null},\"id\":\"3670\",\"type\":\"Grid\"},{\"attributes\":{\"axis\":{\"id\":\"3671\"},\"coordinates\":null,\"dimension\":1,\"group\":null,\"ticker\":null},\"id\":\"3674\",\"type\":\"Grid\"},{\"attributes\":{},\"id\":\"3680\",\"type\":\"HelpTool\"},{\"attributes\":{},\"id\":\"3678\",\"type\":\"SaveTool\"},{\"attributes\":{},\"id\":\"3700\",\"type\":\"BasicTickFormatter\"},{\"attributes\":{\"coordinates\":null,\"group\":null,\"text\":\"distribution of data with diamond glyph.html \"},\"id\":\"3657\",\"type\":\"Title\"},{\"attributes\":{},\"id\":\"3679\",\"type\":\"ResetTool\"},{\"attributes\":{},\"id\":\"3697\",\"type\":\"BasicTickFormatter\"},{\"attributes\":{\"axis_label\":\"x\",\"coordinates\":null,\"formatter\":{\"id\":\"3700\"},\"group\":null,\"major_label_policy\":{\"id\":\"3701\"},\"ticker\":{\"id\":\"3668\"}},\"id\":\"3667\",\"type\":\"LinearAxis\"},{\"attributes\":{},\"id\":\"3701\",\"type\":\"AllLabels\"},{\"attributes\":{\"axis_label\":\"y\",\"coordinates\":null,\"formatter\":{\"id\":\"3697\"},\"group\":null,\"major_label_policy\":{\"id\":\"3698\"},\"ticker\":{\"id\":\"3672\"}},\"id\":\"3671\",\"type\":\"LinearAxis\"},{\"attributes\":{},\"id\":\"3698\",\"type\":\"AllLabels\"},{\"attributes\":{\"bottom_units\":\"screen\",\"coordinates\":null,\"fill_alpha\":0.5,\"fill_color\":\"lightgrey\",\"group\":null,\"left_units\":\"screen\",\"level\":\"overlay\",\"line_alpha\":1.0,\"line_color\":\"black\",\"line_dash\":[4,4],\"line_width\":2,\"right_units\":\"screen\",\"syncable\":false,\"top_units\":\"screen\"},\"id\":\"3681\",\"type\":\"BoxAnnotation\"}],\"root_ids\":[\"3656\"]},\"title\":\"Bokeh Application\",\"version\":\"2.4.1\"}};\n",
       "  const render_items = [{\"docid\":\"44df2d8b-ee6c-4ae9-988f-3618a0d7e6a2\",\"root_ids\":[\"3656\"],\"roots\":{\"3656\":\"03aca255-ecce-4667-945e-c38bbccc6168\"}}];\n",
       "  root.Bokeh.embed.embed_items_notebook(docs_json, render_items);\n",
       "\n",
       "  }\n",
       "  if (root.Bokeh !== undefined) {\n",
       "    embed_document(root);\n",
       "  } else {\n",
       "    let attempts = 0;\n",
       "    const timer = setInterval(function(root) {\n",
       "      if (root.Bokeh !== undefined) {\n",
       "        clearInterval(timer);\n",
       "        embed_document(root);\n",
       "      } else {\n",
       "        attempts++;\n",
       "        if (attempts > 100) {\n",
       "          clearInterval(timer);\n",
       "          console.log(\"Bokeh: ERROR: Unable to run BokehJS code because BokehJS library is missing\");\n",
       "        }\n",
       "      }\n",
       "    }, 10, root)\n",
       "  }\n",
       "})(window);"
      ],
      "application/vnd.bokehjs_exec.v0+json": ""
     },
     "metadata": {
      "application/vnd.bokehjs_exec.v0+json": {
       "id": "3656"
      }
     },
     "output_type": "display_data"
    }
   ],
   "source": [
    "output_file('diamond.html')\n",
    "\n",
    "k = figure(title = 'distribution of data with diamond glyph.html ', width = 400 , height = 400)\n",
    "k.xaxis.axis_label = 'x'\n",
    "k.yaxis.axis_label = 'y'\n",
    "x = [1,2,3,4,5,6,7,8,9,10]\n",
    "y = [1,2,3,4,5,6,7,8,9,10]\n",
    "k.diamond(x , y , fill_color = 'orange' , size = 10 , legend_label = 'magenta')\n",
    "show(k)"
   ]
  },
  {
   "cell_type": "code",
   "execution_count": 17,
   "id": "9846b217",
   "metadata": {},
   "outputs": [
    {
     "data": {
      "text/html": [
       "\n",
       "\n",
       "\n",
       "\n",
       "\n",
       "\n",
       "  <div class=\"bk-root\" id=\"04fbbecc-c0ed-4a19-9178-0137c4ab837e\" data-root-id=\"3998\"></div>\n"
      ]
     },
     "metadata": {},
     "output_type": "display_data"
    },
    {
     "data": {
      "application/javascript": [
       "(function(root) {\n",
       "  function embed_document(root) {\n",
       "    \n",
       "  const docs_json = {\"0cf63dc4-952d-4f1a-a121-212337a89996\":{\"defs\":[],\"roots\":{\"references\":[{\"attributes\":{\"below\":[{\"id\":\"4009\"}],\"center\":[{\"id\":\"4012\"},{\"id\":\"4016\"},{\"id\":\"4047\"}],\"height\":400,\"left\":[{\"id\":\"4013\"}],\"renderers\":[{\"id\":\"4035\"}],\"title\":{\"id\":\"3999\"},\"toolbar\":{\"id\":\"4024\"},\"width\":400,\"x_range\":{\"id\":\"4001\"},\"x_scale\":{\"id\":\"4005\"},\"y_range\":{\"id\":\"4003\"},\"y_scale\":{\"id\":\"4007\"}},\"id\":\"3998\",\"subtype\":\"Figure\",\"type\":\"Plot\"},{\"attributes\":{},\"id\":\"4045\",\"type\":\"Selection\"},{\"attributes\":{\"label\":{\"value\":\"magenta\"},\"renderers\":[{\"id\":\"4035\"}]},\"id\":\"4048\",\"type\":\"LegendItem\"},{\"attributes\":{},\"id\":\"4020\",\"type\":\"SaveTool\"},{\"attributes\":{\"coordinates\":null,\"group\":null,\"items\":[{\"id\":\"4048\"}]},\"id\":\"4047\",\"type\":\"Legend\"},{\"attributes\":{\"bottom_units\":\"screen\",\"coordinates\":null,\"fill_alpha\":0.5,\"fill_color\":\"lightgrey\",\"group\":null,\"left_units\":\"screen\",\"level\":\"overlay\",\"line_alpha\":1.0,\"line_color\":\"black\",\"line_dash\":[4,4],\"line_width\":2,\"right_units\":\"screen\",\"syncable\":false,\"top_units\":\"screen\"},\"id\":\"4023\",\"type\":\"BoxAnnotation\"},{\"attributes\":{\"axis\":{\"id\":\"4013\"},\"coordinates\":null,\"dimension\":1,\"group\":null,\"ticker\":null},\"id\":\"4016\",\"type\":\"Grid\"},{\"attributes\":{\"fill_alpha\":{\"value\":0.2},\"fill_color\":{\"value\":\"orange\"},\"hatch_alpha\":{\"value\":0.2},\"line_alpha\":{\"value\":0.2},\"line_color\":{\"value\":\"#1f77b4\"},\"marker\":{\"value\":\"square\"},\"size\":{\"value\":10},\"x\":{\"field\":\"x\"},\"y\":{\"field\":\"y\"}},\"id\":\"4034\",\"type\":\"Scatter\"},{\"attributes\":{\"coordinates\":null,\"data_source\":{\"id\":\"4031\"},\"glyph\":{\"id\":\"4032\"},\"group\":null,\"hover_glyph\":null,\"muted_glyph\":{\"id\":\"4034\"},\"nonselection_glyph\":{\"id\":\"4033\"},\"view\":{\"id\":\"4036\"}},\"id\":\"4035\",\"type\":\"GlyphRenderer\"},{\"attributes\":{\"fill_alpha\":{\"value\":0.1},\"fill_color\":{\"value\":\"orange\"},\"hatch_alpha\":{\"value\":0.1},\"line_alpha\":{\"value\":0.1},\"line_color\":{\"value\":\"#1f77b4\"},\"marker\":{\"value\":\"square\"},\"size\":{\"value\":10},\"x\":{\"field\":\"x\"},\"y\":{\"field\":\"y\"}},\"id\":\"4033\",\"type\":\"Scatter\"},{\"attributes\":{},\"id\":\"4010\",\"type\":\"BasicTicker\"},{\"attributes\":{},\"id\":\"4044\",\"type\":\"UnionRenderers\"},{\"attributes\":{},\"id\":\"4014\",\"type\":\"BasicTicker\"},{\"attributes\":{},\"id\":\"4039\",\"type\":\"BasicTickFormatter\"},{\"attributes\":{\"fill_color\":{\"value\":\"orange\"},\"line_color\":{\"value\":\"#1f77b4\"},\"marker\":{\"value\":\"square\"},\"size\":{\"value\":10},\"x\":{\"field\":\"x\"},\"y\":{\"field\":\"y\"}},\"id\":\"4032\",\"type\":\"Scatter\"},{\"attributes\":{},\"id\":\"4040\",\"type\":\"AllLabels\"},{\"attributes\":{},\"id\":\"4017\",\"type\":\"PanTool\"},{\"attributes\":{},\"id\":\"4001\",\"type\":\"DataRange1d\"},{\"attributes\":{\"data\":{\"x\":[1,2,3,4,5,6,7,8,9,10],\"y\":[1,2,3,4,5,6,7,8,9,10]},\"selected\":{\"id\":\"4045\"},\"selection_policy\":{\"id\":\"4044\"}},\"id\":\"4031\",\"type\":\"ColumnDataSource\"},{\"attributes\":{},\"id\":\"4042\",\"type\":\"BasicTickFormatter\"},{\"attributes\":{},\"id\":\"4003\",\"type\":\"DataRange1d\"},{\"attributes\":{\"source\":{\"id\":\"4031\"}},\"id\":\"4036\",\"type\":\"CDSView\"},{\"attributes\":{},\"id\":\"4007\",\"type\":\"LinearScale\"},{\"attributes\":{},\"id\":\"4022\",\"type\":\"HelpTool\"},{\"attributes\":{},\"id\":\"4018\",\"type\":\"WheelZoomTool\"},{\"attributes\":{\"axis_label\":\"x\",\"coordinates\":null,\"formatter\":{\"id\":\"4042\"},\"group\":null,\"major_label_policy\":{\"id\":\"4043\"},\"ticker\":{\"id\":\"4010\"}},\"id\":\"4009\",\"type\":\"LinearAxis\"},{\"attributes\":{},\"id\":\"4043\",\"type\":\"AllLabels\"},{\"attributes\":{\"coordinates\":null,\"group\":null,\"text\":\"distribution of data with diamond glyph.html \"},\"id\":\"3999\",\"type\":\"Title\"},{\"attributes\":{},\"id\":\"4005\",\"type\":\"LinearScale\"},{\"attributes\":{\"overlay\":{\"id\":\"4023\"}},\"id\":\"4019\",\"type\":\"BoxZoomTool\"},{\"attributes\":{\"axis_label\":\"y\",\"coordinates\":null,\"formatter\":{\"id\":\"4039\"},\"group\":null,\"major_label_policy\":{\"id\":\"4040\"},\"ticker\":{\"id\":\"4014\"}},\"id\":\"4013\",\"type\":\"LinearAxis\"},{\"attributes\":{\"tools\":[{\"id\":\"4017\"},{\"id\":\"4018\"},{\"id\":\"4019\"},{\"id\":\"4020\"},{\"id\":\"4021\"},{\"id\":\"4022\"}]},\"id\":\"4024\",\"type\":\"Toolbar\"},{\"attributes\":{},\"id\":\"4021\",\"type\":\"ResetTool\"},{\"attributes\":{\"axis\":{\"id\":\"4009\"},\"coordinates\":null,\"group\":null,\"ticker\":null},\"id\":\"4012\",\"type\":\"Grid\"}],\"root_ids\":[\"3998\"]},\"title\":\"Bokeh Application\",\"version\":\"2.4.1\"}};\n",
       "  const render_items = [{\"docid\":\"0cf63dc4-952d-4f1a-a121-212337a89996\",\"root_ids\":[\"3998\"],\"roots\":{\"3998\":\"04fbbecc-c0ed-4a19-9178-0137c4ab837e\"}}];\n",
       "  root.Bokeh.embed.embed_items_notebook(docs_json, render_items);\n",
       "\n",
       "  }\n",
       "  if (root.Bokeh !== undefined) {\n",
       "    embed_document(root);\n",
       "  } else {\n",
       "    let attempts = 0;\n",
       "    const timer = setInterval(function(root) {\n",
       "      if (root.Bokeh !== undefined) {\n",
       "        clearInterval(timer);\n",
       "        embed_document(root);\n",
       "      } else {\n",
       "        attempts++;\n",
       "        if (attempts > 100) {\n",
       "          clearInterval(timer);\n",
       "          console.log(\"Bokeh: ERROR: Unable to run BokehJS code because BokehJS library is missing\");\n",
       "        }\n",
       "      }\n",
       "    }, 10, root)\n",
       "  }\n",
       "})(window);"
      ],
      "application/vnd.bokehjs_exec.v0+json": ""
     },
     "metadata": {
      "application/vnd.bokehjs_exec.v0+json": {
       "id": "3998"
      }
     },
     "output_type": "display_data"
    }
   ],
   "source": [
    "output_file('diamond.html')\n",
    "\n",
    "k = figure(title = 'distribution of data with diamond glyph.html ', width = 400 , height = 400)\n",
    "k.xaxis.axis_label = 'x'\n",
    "k.yaxis.axis_label = 'y'\n",
    "x = [1,2,3,4,5,6,7,8,9,10]\n",
    "y = [1,2,3,4,5,6,7,8,9,10]\n",
    "k.square(x , y , fill_color = 'orange' , size = 10 , legend_label = 'magenta')\n",
    "show(k)"
   ]
  },
  {
   "cell_type": "code",
   "execution_count": 25,
   "id": "49fc18e4",
   "metadata": {},
   "outputs": [
    {
     "data": {
      "text/html": [
       "\n",
       "\n",
       "\n",
       "\n",
       "\n",
       "\n",
       "  <div class=\"bk-root\" id=\"a2ce50e9-4ebc-4f3e-b8c4-e07708baa85f\" data-root-id=\"6306\"></div>\n"
      ]
     },
     "metadata": {},
     "output_type": "display_data"
    },
    {
     "data": {
      "application/javascript": [
       "(function(root) {\n",
       "  function embed_document(root) {\n",
       "    \n",
       "  const docs_json = {\"c7885266-38b3-4307-9b99-875379e2e2d7\":{\"defs\":[],\"roots\":{\"references\":[{\"attributes\":{\"below\":[{\"id\":\"6317\"}],\"center\":[{\"id\":\"6320\"},{\"id\":\"6324\"},{\"id\":\"6355\"}],\"height\":400,\"left\":[{\"id\":\"6321\"}],\"renderers\":[{\"id\":\"6343\"}],\"title\":{\"id\":\"6307\"},\"toolbar\":{\"id\":\"6332\"},\"width\":400,\"x_range\":{\"id\":\"6309\"},\"x_scale\":{\"id\":\"6313\"},\"y_range\":{\"id\":\"6311\"},\"y_scale\":{\"id\":\"6315\"}},\"id\":\"6306\",\"subtype\":\"Figure\",\"type\":\"Plot\"},{\"attributes\":{\"axis_label\":\"x\",\"coordinates\":null,\"formatter\":{\"id\":\"6350\"},\"group\":null,\"major_label_policy\":{\"id\":\"6351\"},\"ticker\":{\"id\":\"6318\"}},\"id\":\"6317\",\"type\":\"LinearAxis\"},{\"attributes\":{},\"id\":\"6326\",\"type\":\"WheelZoomTool\"},{\"attributes\":{},\"id\":\"6353\",\"type\":\"Selection\"},{\"attributes\":{},\"id\":\"6330\",\"type\":\"HelpTool\"},{\"attributes\":{\"coordinates\":null,\"data_source\":{\"id\":\"6339\"},\"glyph\":{\"id\":\"6340\"},\"group\":null,\"hover_glyph\":null,\"muted_glyph\":{\"id\":\"6342\"},\"nonselection_glyph\":{\"id\":\"6341\"},\"view\":{\"id\":\"6344\"}},\"id\":\"6343\",\"type\":\"GlyphRenderer\"},{\"attributes\":{},\"id\":\"6325\",\"type\":\"PanTool\"},{\"attributes\":{\"overlay\":{\"id\":\"6331\"}},\"id\":\"6327\",\"type\":\"BoxZoomTool\"},{\"attributes\":{},\"id\":\"6315\",\"type\":\"LinearScale\"},{\"attributes\":{},\"id\":\"6328\",\"type\":\"SaveTool\"},{\"attributes\":{},\"id\":\"6329\",\"type\":\"ResetTool\"},{\"attributes\":{},\"id\":\"6322\",\"type\":\"BasicTicker\"},{\"attributes\":{\"axis\":{\"id\":\"6317\"},\"coordinates\":null,\"group\":null,\"ticker\":null},\"id\":\"6320\",\"type\":\"Grid\"},{\"attributes\":{\"bottom_units\":\"screen\",\"coordinates\":null,\"fill_alpha\":0.5,\"fill_color\":\"lightgrey\",\"group\":null,\"left_units\":\"screen\",\"level\":\"overlay\",\"line_alpha\":1.0,\"line_color\":\"black\",\"line_dash\":[4,4],\"line_width\":2,\"right_units\":\"screen\",\"syncable\":false,\"top_units\":\"screen\"},\"id\":\"6331\",\"type\":\"BoxAnnotation\"},{\"attributes\":{},\"id\":\"6347\",\"type\":\"BasicTickFormatter\"},{\"attributes\":{\"fill_alpha\":{\"value\":0.2},\"fill_color\":{\"value\":\"orange\"},\"hatch_alpha\":{\"value\":0.2},\"line_alpha\":{\"value\":0.2},\"line_color\":{\"value\":\"#1f77b4\"},\"size\":{\"value\":10},\"x\":{\"field\":\"x\"},\"y\":{\"field\":\"y\"}},\"id\":\"6342\",\"type\":\"Circle\"},{\"attributes\":{\"data\":{\"x\":[1,2,3,4,5,6,7,8,9,10],\"y\":[1,2,3,4,5,6,7,8,9,10]},\"selected\":{\"id\":\"6353\"},\"selection_policy\":{\"id\":\"6352\"}},\"id\":\"6339\",\"type\":\"ColumnDataSource\"},{\"attributes\":{},\"id\":\"6348\",\"type\":\"AllLabels\"},{\"attributes\":{},\"id\":\"6350\",\"type\":\"BasicTickFormatter\"},{\"attributes\":{\"axis_label\":\"y\",\"coordinates\":null,\"formatter\":{\"id\":\"6347\"},\"group\":null,\"major_label_policy\":{\"id\":\"6348\"},\"ticker\":{\"id\":\"6322\"}},\"id\":\"6321\",\"type\":\"LinearAxis\"},{\"attributes\":{},\"id\":\"6318\",\"type\":\"BasicTicker\"},{\"attributes\":{},\"id\":\"6313\",\"type\":\"LinearScale\"},{\"attributes\":{\"tools\":[{\"id\":\"6325\"},{\"id\":\"6326\"},{\"id\":\"6327\"},{\"id\":\"6328\"},{\"id\":\"6329\"},{\"id\":\"6330\"}]},\"id\":\"6332\",\"type\":\"Toolbar\"},{\"attributes\":{},\"id\":\"6311\",\"type\":\"DataRange1d\"},{\"attributes\":{\"fill_color\":{\"value\":\"orange\"},\"line_color\":{\"value\":\"#1f77b4\"},\"size\":{\"value\":10},\"x\":{\"field\":\"x\"},\"y\":{\"field\":\"y\"}},\"id\":\"6340\",\"type\":\"Circle\"},{\"attributes\":{\"axis\":{\"id\":\"6321\"},\"coordinates\":null,\"dimension\":1,\"group\":null,\"ticker\":null},\"id\":\"6324\",\"type\":\"Grid\"},{\"attributes\":{\"coordinates\":null,\"group\":null,\"items\":[{\"id\":\"6356\"}]},\"id\":\"6355\",\"type\":\"Legend\"},{\"attributes\":{\"fill_alpha\":{\"value\":0.1},\"fill_color\":{\"value\":\"orange\"},\"hatch_alpha\":{\"value\":0.1},\"line_alpha\":{\"value\":0.1},\"line_color\":{\"value\":\"#1f77b4\"},\"size\":{\"value\":10},\"x\":{\"field\":\"x\"},\"y\":{\"field\":\"y\"}},\"id\":\"6341\",\"type\":\"Circle\"},{\"attributes\":{\"source\":{\"id\":\"6339\"}},\"id\":\"6344\",\"type\":\"CDSView\"},{\"attributes\":{},\"id\":\"6352\",\"type\":\"UnionRenderers\"},{\"attributes\":{\"coordinates\":null,\"group\":null,\"text\":\"distribution of data with diamond glyph.html \"},\"id\":\"6307\",\"type\":\"Title\"},{\"attributes\":{},\"id\":\"6351\",\"type\":\"AllLabels\"},{\"attributes\":{},\"id\":\"6309\",\"type\":\"DataRange1d\"},{\"attributes\":{\"label\":{\"value\":\"magenta\"},\"renderers\":[{\"id\":\"6343\"}]},\"id\":\"6356\",\"type\":\"LegendItem\"}],\"root_ids\":[\"6306\"]},\"title\":\"Bokeh Application\",\"version\":\"2.4.1\"}};\n",
       "  const render_items = [{\"docid\":\"c7885266-38b3-4307-9b99-875379e2e2d7\",\"root_ids\":[\"6306\"],\"roots\":{\"6306\":\"a2ce50e9-4ebc-4f3e-b8c4-e07708baa85f\"}}];\n",
       "  root.Bokeh.embed.embed_items_notebook(docs_json, render_items);\n",
       "\n",
       "  }\n",
       "  if (root.Bokeh !== undefined) {\n",
       "    embed_document(root);\n",
       "  } else {\n",
       "    let attempts = 0;\n",
       "    const timer = setInterval(function(root) {\n",
       "      if (root.Bokeh !== undefined) {\n",
       "        clearInterval(timer);\n",
       "        embed_document(root);\n",
       "      } else {\n",
       "        attempts++;\n",
       "        if (attempts > 100) {\n",
       "          clearInterval(timer);\n",
       "          console.log(\"Bokeh: ERROR: Unable to run BokehJS code because BokehJS library is missing\");\n",
       "        }\n",
       "      }\n",
       "    }, 10, root)\n",
       "  }\n",
       "})(window);"
      ],
      "application/vnd.bokehjs_exec.v0+json": ""
     },
     "metadata": {
      "application/vnd.bokehjs_exec.v0+json": {
       "id": "6306"
      }
     },
     "output_type": "display_data"
    }
   ],
   "source": [
    "output_file('diamond.html')\n",
    "\n",
    "k = figure(title = 'distribution of data with diamond glyph.html ', width = 400 , height = 400)\n",
    "k.xaxis.axis_label = 'x'\n",
    "k.yaxis.axis_label = 'y'\n",
    "x = [1,2,3,4,5,6,7,8,9,10]\n",
    "y = [1,2,3,4,5,6,7,8,9,10]\n",
    "k.circle(x , y , fill_color = 'orange' , size = 10 , legend_label = 'magenta')\n",
    "show(k)"
   ]
  },
  {
   "cell_type": "code",
   "execution_count": 22,
   "id": "8fceaf80",
   "metadata": {},
   "outputs": [
    {
     "data": {
      "text/html": [
       "\n",
       "\n",
       "\n",
       "\n",
       "\n",
       "\n",
       "  <div class=\"bk-root\" id=\"6d271fc2-5569-47bd-86ef-b92f41ca25a5\" data-root-id=\"5130\"></div>\n"
      ]
     },
     "metadata": {},
     "output_type": "display_data"
    },
    {
     "data": {
      "application/javascript": [
       "(function(root) {\n",
       "  function embed_document(root) {\n",
       "    \n",
       "  const docs_json = {\"dfd86fff-9d7d-4b8d-8dbe-7e5296c72741\":{\"defs\":[],\"roots\":{\"references\":[{\"attributes\":{\"below\":[{\"id\":\"5141\"}],\"center\":[{\"id\":\"5144\"},{\"id\":\"5148\"},{\"id\":\"5179\"}],\"height\":400,\"left\":[{\"id\":\"5145\"}],\"renderers\":[{\"id\":\"5167\"}],\"title\":{\"id\":\"5131\"},\"toolbar\":{\"id\":\"5156\"},\"width\":400,\"x_range\":{\"id\":\"5133\"},\"x_scale\":{\"id\":\"5137\"},\"y_range\":{\"id\":\"5135\"},\"y_scale\":{\"id\":\"5139\"}},\"id\":\"5130\",\"subtype\":\"Figure\",\"type\":\"Plot\"},{\"attributes\":{},\"id\":\"5153\",\"type\":\"ResetTool\"},{\"attributes\":{\"coordinates\":null,\"group\":null,\"items\":[{\"id\":\"5180\"}]},\"id\":\"5179\",\"type\":\"Legend\"},{\"attributes\":{\"axis_label\":\"y\",\"coordinates\":null,\"formatter\":{\"id\":\"5171\"},\"group\":null,\"major_label_policy\":{\"id\":\"5172\"},\"ticker\":{\"id\":\"5146\"}},\"id\":\"5145\",\"type\":\"LinearAxis\"},{\"attributes\":{\"bottom_units\":\"screen\",\"coordinates\":null,\"fill_alpha\":0.5,\"fill_color\":\"lightgrey\",\"group\":null,\"left_units\":\"screen\",\"level\":\"overlay\",\"line_alpha\":1.0,\"line_color\":\"black\",\"line_dash\":[4,4],\"line_width\":2,\"right_units\":\"screen\",\"syncable\":false,\"top_units\":\"screen\"},\"id\":\"5155\",\"type\":\"BoxAnnotation\"},{\"attributes\":{\"coordinates\":null,\"data_source\":{\"id\":\"5163\"},\"glyph\":{\"id\":\"5164\"},\"group\":null,\"hover_glyph\":null,\"muted_glyph\":{\"id\":\"5166\"},\"nonselection_glyph\":{\"id\":\"5165\"},\"view\":{\"id\":\"5168\"}},\"id\":\"5167\",\"type\":\"GlyphRenderer\"},{\"attributes\":{},\"id\":\"5175\",\"type\":\"AllLabels\"},{\"attributes\":{},\"id\":\"5152\",\"type\":\"SaveTool\"},{\"attributes\":{},\"id\":\"5174\",\"type\":\"BasicTickFormatter\"},{\"attributes\":{\"line_alpha\":0.1,\"line_color\":\"magenta\",\"x\":{\"field\":\"x\"},\"y\":{\"field\":\"y\"}},\"id\":\"5165\",\"type\":\"Line\"},{\"attributes\":{},\"id\":\"5135\",\"type\":\"DataRange1d\"},{\"attributes\":{\"axis\":{\"id\":\"5145\"},\"coordinates\":null,\"dimension\":1,\"group\":null,\"ticker\":null},\"id\":\"5148\",\"type\":\"Grid\"},{\"attributes\":{\"tools\":[{\"id\":\"5149\"},{\"id\":\"5150\"},{\"id\":\"5151\"},{\"id\":\"5152\"},{\"id\":\"5153\"},{\"id\":\"5154\"}]},\"id\":\"5156\",\"type\":\"Toolbar\"},{\"attributes\":{},\"id\":\"5172\",\"type\":\"AllLabels\"},{\"attributes\":{},\"id\":\"5171\",\"type\":\"BasicTickFormatter\"},{\"attributes\":{},\"id\":\"5176\",\"type\":\"UnionRenderers\"},{\"attributes\":{\"axis_label\":\"x\",\"coordinates\":null,\"formatter\":{\"id\":\"5174\"},\"group\":null,\"major_label_policy\":{\"id\":\"5175\"},\"ticker\":{\"id\":\"5142\"}},\"id\":\"5141\",\"type\":\"LinearAxis\"},{\"attributes\":{\"source\":{\"id\":\"5163\"}},\"id\":\"5168\",\"type\":\"CDSView\"},{\"attributes\":{\"coordinates\":null,\"group\":null,\"text\":\"distribution of data with diamond glyph.html \"},\"id\":\"5131\",\"type\":\"Title\"},{\"attributes\":{},\"id\":\"5137\",\"type\":\"LinearScale\"},{\"attributes\":{},\"id\":\"5177\",\"type\":\"Selection\"},{\"attributes\":{},\"id\":\"5133\",\"type\":\"DataRange1d\"},{\"attributes\":{},\"id\":\"5146\",\"type\":\"BasicTicker\"},{\"attributes\":{\"label\":{\"value\":\"pink\"},\"renderers\":[{\"id\":\"5167\"}]},\"id\":\"5180\",\"type\":\"LegendItem\"},{\"attributes\":{},\"id\":\"5154\",\"type\":\"HelpTool\"},{\"attributes\":{\"line_alpha\":0.2,\"line_color\":\"magenta\",\"x\":{\"field\":\"x\"},\"y\":{\"field\":\"y\"}},\"id\":\"5166\",\"type\":\"Line\"},{\"attributes\":{},\"id\":\"5150\",\"type\":\"WheelZoomTool\"},{\"attributes\":{\"line_color\":\"magenta\",\"x\":{\"field\":\"x\"},\"y\":{\"field\":\"y\"}},\"id\":\"5164\",\"type\":\"Line\"},{\"attributes\":{\"overlay\":{\"id\":\"5155\"}},\"id\":\"5151\",\"type\":\"BoxZoomTool\"},{\"attributes\":{},\"id\":\"5149\",\"type\":\"PanTool\"},{\"attributes\":{\"axis\":{\"id\":\"5141\"},\"coordinates\":null,\"group\":null,\"ticker\":null},\"id\":\"5144\",\"type\":\"Grid\"},{\"attributes\":{\"data\":{\"x\":[1,2,3,4,5,6,7,8,9,10],\"y\":[1,2,3,4,5,6,7,8,9,10]},\"selected\":{\"id\":\"5177\"},\"selection_policy\":{\"id\":\"5176\"}},\"id\":\"5163\",\"type\":\"ColumnDataSource\"},{\"attributes\":{},\"id\":\"5142\",\"type\":\"BasicTicker\"},{\"attributes\":{},\"id\":\"5139\",\"type\":\"LinearScale\"}],\"root_ids\":[\"5130\"]},\"title\":\"Bokeh Application\",\"version\":\"2.4.1\"}};\n",
       "  const render_items = [{\"docid\":\"dfd86fff-9d7d-4b8d-8dbe-7e5296c72741\",\"root_ids\":[\"5130\"],\"roots\":{\"5130\":\"6d271fc2-5569-47bd-86ef-b92f41ca25a5\"}}];\n",
       "  root.Bokeh.embed.embed_items_notebook(docs_json, render_items);\n",
       "\n",
       "  }\n",
       "  if (root.Bokeh !== undefined) {\n",
       "    embed_document(root);\n",
       "  } else {\n",
       "    let attempts = 0;\n",
       "    const timer = setInterval(function(root) {\n",
       "      if (root.Bokeh !== undefined) {\n",
       "        clearInterval(timer);\n",
       "        embed_document(root);\n",
       "      } else {\n",
       "        attempts++;\n",
       "        if (attempts > 100) {\n",
       "          clearInterval(timer);\n",
       "          console.log(\"Bokeh: ERROR: Unable to run BokehJS code because BokehJS library is missing\");\n",
       "        }\n",
       "      }\n",
       "    }, 10, root)\n",
       "  }\n",
       "})(window);"
      ],
      "application/vnd.bokehjs_exec.v0+json": ""
     },
     "metadata": {
      "application/vnd.bokehjs_exec.v0+json": {
       "id": "5130"
      }
     },
     "output_type": "display_data"
    }
   ],
   "source": [
    "output_file('diamond.html')\n",
    "\n",
    "k = figure(title = 'distribution of data with diamond glyph.html ', width = 400 , height = 400)\n",
    "k.xaxis.axis_label = 'x'\n",
    "k.yaxis.axis_label = 'y'\n",
    "x = [1,2,3,4,5,6,7,8,9,10]\n",
    "y = [1,2,3,4,5,6,7,8,9,10]\n",
    "k.line(x , y ,line_color = 'magenta' , legend_label = 'pink' )\n",
    "show(k)"
   ]
  },
  {
   "cell_type": "markdown",
   "id": "4b102e2e",
   "metadata": {},
   "source": [
    "#### Q3. How can you customize the appearance of a Bokeh plot, including the axes, title, and legend?"
   ]
  },
  {
   "cell_type": "markdown",
   "id": "ba848f1d",
   "metadata": {},
   "source": [
    "Ans:"
   ]
  },
  {
   "cell_type": "code",
   "execution_count": 28,
   "id": "7bbdf21b",
   "metadata": {},
   "outputs": [],
   "source": [
    "from bokeh.io import curdoc"
   ]
  },
  {
   "cell_type": "code",
   "execution_count": 34,
   "id": "50848281",
   "metadata": {},
   "outputs": [
    {
     "data": {
      "text/html": [
       "\n",
       "\n",
       "\n",
       "\n",
       "\n",
       "\n",
       "  <div class=\"bk-root\" id=\"1cab44f4-d25b-436f-a258-47b835adbb71\" data-root-id=\"8499\"></div>\n"
      ]
     },
     "metadata": {},
     "output_type": "display_data"
    },
    {
     "data": {
      "application/javascript": [
       "(function(root) {\n",
       "  function embed_document(root) {\n",
       "    \n",
       "  const docs_json = {\"66a9db68-cf70-47a9-8bb4-5c0939fc69f6\":{\"defs\":[],\"roots\":{\"references\":[{\"attributes\":{\"background_fill_color\":\"#20262B\",\"below\":[{\"id\":\"8510\"}],\"border_fill_color\":\"#15191C\",\"center\":[{\"id\":\"8513\"},{\"id\":\"8517\"},{\"id\":\"8548\"}],\"height\":700,\"left\":[{\"id\":\"8514\"}],\"outline_line_alpha\":0.25,\"outline_line_color\":\"#E0E0E0\",\"renderers\":[{\"id\":\"8536\"}],\"title\":{\"id\":\"8500\"},\"toolbar\":{\"id\":\"8525\"},\"width\":700,\"x_range\":{\"id\":\"8502\"},\"x_scale\":{\"id\":\"8506\"},\"y_range\":{\"id\":\"8504\"},\"y_scale\":{\"id\":\"8508\"}},\"id\":\"8499\",\"subtype\":\"Figure\",\"type\":\"Plot\"},{\"attributes\":{},\"id\":\"8506\",\"type\":\"LinearScale\"},{\"attributes\":{\"coordinates\":null,\"data_source\":{\"id\":\"8532\"},\"glyph\":{\"id\":\"8533\"},\"group\":null,\"hover_glyph\":null,\"muted_glyph\":{\"id\":\"8535\"},\"nonselection_glyph\":{\"id\":\"8534\"},\"view\":{\"id\":\"8537\"}},\"id\":\"8536\",\"type\":\"GlyphRenderer\"},{\"attributes\":{},\"id\":\"8511\",\"type\":\"BasicTicker\"},{\"attributes\":{\"fill_color\":{\"value\":\"magenta\"},\"line_color\":{\"value\":\"#1f77b4\"},\"size\":{\"value\":10},\"x\":{\"field\":\"x\"},\"y\":{\"field\":\"y\"}},\"id\":\"8533\",\"type\":\"Circle\"},{\"attributes\":{\"fill_alpha\":{\"value\":0.2},\"fill_color\":{\"value\":\"magenta\"},\"hatch_alpha\":{\"value\":0.2},\"line_alpha\":{\"value\":0.2},\"line_color\":{\"value\":\"#1f77b4\"},\"size\":{\"value\":10},\"x\":{\"field\":\"x\"},\"y\":{\"field\":\"y\"}},\"id\":\"8535\",\"type\":\"Circle\"},{\"attributes\":{},\"id\":\"8502\",\"type\":\"DataRange1d\"},{\"attributes\":{\"background_fill_alpha\":0.25,\"background_fill_color\":\"#20262B\",\"border_line_alpha\":0,\"coordinates\":null,\"glyph_width\":15,\"group\":null,\"items\":[{\"id\":\"8549\"}],\"label_standoff\":8,\"label_text_color\":\"#E0E0E0\",\"label_text_font\":\"Helvetica\",\"label_text_font_size\":\"1.025em\",\"spacing\":8},\"id\":\"8548\",\"type\":\"Legend\"},{\"attributes\":{\"tools\":[{\"id\":\"8518\"},{\"id\":\"8519\"},{\"id\":\"8520\"},{\"id\":\"8521\"},{\"id\":\"8522\"},{\"id\":\"8523\"}]},\"id\":\"8525\",\"type\":\"Toolbar\"},{\"attributes\":{\"label\":{\"value\":\"orange\"},\"renderers\":[{\"id\":\"8536\"}]},\"id\":\"8549\",\"type\":\"LegendItem\"},{\"attributes\":{\"axis_label\":\"y\",\"axis_label_standoff\":10,\"axis_label_text_color\":\"#E0E0E0\",\"axis_label_text_font\":\"Helvetica\",\"axis_label_text_font_size\":\"1.25em\",\"axis_label_text_font_style\":\"normal\",\"axis_line_alpha\":0,\"axis_line_color\":\"#E0E0E0\",\"coordinates\":null,\"formatter\":{\"id\":\"8540\"},\"group\":null,\"major_label_policy\":{\"id\":\"8541\"},\"major_label_text_color\":\"#E0E0E0\",\"major_label_text_font\":\"Helvetica\",\"major_label_text_font_size\":\"1.025em\",\"major_tick_line_alpha\":0,\"major_tick_line_color\":\"#E0E0E0\",\"minor_tick_line_alpha\":0,\"minor_tick_line_color\":\"#E0E0E0\",\"ticker\":{\"id\":\"8515\"}},\"id\":\"8514\",\"type\":\"LinearAxis\"},{\"attributes\":{},\"id\":\"8518\",\"type\":\"PanTool\"},{\"attributes\":{\"data\":{\"x\":[10,9,8,7,6,5,4,3,2,1],\"y\":[1,2,3,4,5,6,7,8,9,10]},\"selected\":{\"id\":\"8546\"},\"selection_policy\":{\"id\":\"8545\"}},\"id\":\"8532\",\"type\":\"ColumnDataSource\"},{\"attributes\":{\"coordinates\":null,\"group\":null,\"text\":\"distribution of data with customise.html \",\"text_color\":\"#E0E0E0\",\"text_font\":\"Helvetica\",\"text_font_size\":\"1.15em\"},\"id\":\"8500\",\"type\":\"Title\"},{\"attributes\":{},\"id\":\"8545\",\"type\":\"UnionRenderers\"},{\"attributes\":{\"axis\":{\"id\":\"8510\"},\"coordinates\":null,\"grid_line_alpha\":0.25,\"grid_line_color\":\"#E0E0E0\",\"group\":null,\"ticker\":null},\"id\":\"8513\",\"type\":\"Grid\"},{\"attributes\":{},\"id\":\"8519\",\"type\":\"WheelZoomTool\"},{\"attributes\":{},\"id\":\"8504\",\"type\":\"DataRange1d\"},{\"attributes\":{\"source\":{\"id\":\"8532\"}},\"id\":\"8537\",\"type\":\"CDSView\"},{\"attributes\":{},\"id\":\"8515\",\"type\":\"BasicTicker\"},{\"attributes\":{},\"id\":\"8521\",\"type\":\"SaveTool\"},{\"attributes\":{},\"id\":\"8544\",\"type\":\"AllLabels\"},{\"attributes\":{\"axis_label\":\"x\",\"axis_label_standoff\":10,\"axis_label_text_color\":\"#E0E0E0\",\"axis_label_text_font\":\"Helvetica\",\"axis_label_text_font_size\":\"1.25em\",\"axis_label_text_font_style\":\"normal\",\"axis_line_alpha\":0,\"axis_line_color\":\"#E0E0E0\",\"coordinates\":null,\"formatter\":{\"id\":\"8543\"},\"group\":null,\"major_label_policy\":{\"id\":\"8544\"},\"major_label_text_color\":\"#E0E0E0\",\"major_label_text_font\":\"Helvetica\",\"major_label_text_font_size\":\"1.025em\",\"major_tick_line_alpha\":0,\"major_tick_line_color\":\"#E0E0E0\",\"minor_tick_line_alpha\":0,\"minor_tick_line_color\":\"#E0E0E0\",\"ticker\":{\"id\":\"8511\"}},\"id\":\"8510\",\"type\":\"LinearAxis\"},{\"attributes\":{},\"id\":\"8546\",\"type\":\"Selection\"},{\"attributes\":{\"axis\":{\"id\":\"8514\"},\"coordinates\":null,\"dimension\":1,\"grid_line_alpha\":0.25,\"grid_line_color\":\"#E0E0E0\",\"group\":null,\"ticker\":null},\"id\":\"8517\",\"type\":\"Grid\"},{\"attributes\":{},\"id\":\"8541\",\"type\":\"AllLabels\"},{\"attributes\":{},\"id\":\"8522\",\"type\":\"ResetTool\"},{\"attributes\":{\"overlay\":{\"id\":\"8524\"}},\"id\":\"8520\",\"type\":\"BoxZoomTool\"},{\"attributes\":{},\"id\":\"8523\",\"type\":\"HelpTool\"},{\"attributes\":{},\"id\":\"8543\",\"type\":\"BasicTickFormatter\"},{\"attributes\":{\"fill_alpha\":{\"value\":0.1},\"fill_color\":{\"value\":\"magenta\"},\"hatch_alpha\":{\"value\":0.1},\"line_alpha\":{\"value\":0.1},\"line_color\":{\"value\":\"#1f77b4\"},\"size\":{\"value\":10},\"x\":{\"field\":\"x\"},\"y\":{\"field\":\"y\"}},\"id\":\"8534\",\"type\":\"Circle\"},{\"attributes\":{\"bottom_units\":\"screen\",\"coordinates\":null,\"fill_alpha\":0.5,\"fill_color\":\"lightgrey\",\"group\":null,\"left_units\":\"screen\",\"level\":\"overlay\",\"line_alpha\":1.0,\"line_color\":\"black\",\"line_dash\":[4,4],\"line_width\":2,\"right_units\":\"screen\",\"syncable\":false,\"top_units\":\"screen\"},\"id\":\"8524\",\"type\":\"BoxAnnotation\"},{\"attributes\":{},\"id\":\"8540\",\"type\":\"BasicTickFormatter\"},{\"attributes\":{},\"id\":\"8508\",\"type\":\"LinearScale\"}],\"root_ids\":[\"8499\"]},\"title\":\"Bokeh Application\",\"version\":\"2.4.1\"}};\n",
       "  const render_items = [{\"docid\":\"66a9db68-cf70-47a9-8bb4-5c0939fc69f6\",\"root_ids\":[\"8499\"],\"roots\":{\"8499\":\"1cab44f4-d25b-436f-a258-47b835adbb71\"}}];\n",
       "  root.Bokeh.embed.embed_items_notebook(docs_json, render_items);\n",
       "\n",
       "  }\n",
       "  if (root.Bokeh !== undefined) {\n",
       "    embed_document(root);\n",
       "  } else {\n",
       "    let attempts = 0;\n",
       "    const timer = setInterval(function(root) {\n",
       "      if (root.Bokeh !== undefined) {\n",
       "        clearInterval(timer);\n",
       "        embed_document(root);\n",
       "      } else {\n",
       "        attempts++;\n",
       "        if (attempts > 100) {\n",
       "          clearInterval(timer);\n",
       "          console.log(\"Bokeh: ERROR: Unable to run BokehJS code because BokehJS library is missing\");\n",
       "        }\n",
       "      }\n",
       "    }, 10, root)\n",
       "  }\n",
       "})(window);"
      ],
      "application/vnd.bokehjs_exec.v0+json": ""
     },
     "metadata": {
      "application/vnd.bokehjs_exec.v0+json": {
       "id": "8499"
      }
     },
     "output_type": "display_data"
    }
   ],
   "source": [
    "output_file = 'customise.html'\n",
    "\n",
    "k = figure(title = 'distribution of data with customise.html ', width = 700 , height = 700)\n",
    "k.xaxis.axis_label = 'x'\n",
    "k.yaxis.axis_label = 'y'\n",
    "\n",
    "curdoc().theme = 'dark_minimal'\n",
    "x = [10,9,8,7,6,5,4,3,2,1]\n",
    "y = [1,2,3,4,5,6,7,8,9,10]\n",
    "k.circle(x , y , fill_color = 'magenta' , size = 10 , legend_label = 'orange')\n",
    "show(k)"
   ]
  },
  {
   "cell_type": "code",
   "execution_count": 40,
   "id": "2ab882fa",
   "metadata": {},
   "outputs": [
    {
     "data": {
      "text/html": [
       "\n",
       "\n",
       "\n",
       "\n",
       "\n",
       "\n",
       "  <div class=\"bk-root\" id=\"5d98da44-4a2c-46e3-96b2-0185eb767b7b\" data-root-id=\"9996\"></div>\n"
      ]
     },
     "metadata": {},
     "output_type": "display_data"
    },
    {
     "data": {
      "application/javascript": [
       "(function(root) {\n",
       "  function embed_document(root) {\n",
       "    \n",
       "  const docs_json = {\"eece70d7-4c29-41fa-b3f4-5284449082bf\":{\"defs\":[],\"roots\":{\"references\":[{\"attributes\":{\"background_fill_color\":\"#20262B\",\"below\":[{\"id\":\"10007\"}],\"border_fill_color\":\"#15191C\",\"center\":[{\"id\":\"10010\"},{\"id\":\"10014\"},{\"id\":\"10045\"}],\"height\":700,\"left\":[{\"id\":\"10011\"}],\"outline_line_alpha\":0.25,\"outline_line_color\":\"#E0E0E0\",\"renderers\":[{\"id\":\"10033\"}],\"title\":{\"id\":\"9997\"},\"toolbar\":{\"id\":\"10022\"},\"width\":700,\"x_range\":{\"id\":\"9999\"},\"x_scale\":{\"id\":\"10003\"},\"y_range\":{\"id\":\"10001\"},\"y_scale\":{\"id\":\"10005\"}},\"id\":\"9996\",\"subtype\":\"Figure\",\"type\":\"Plot\"},{\"attributes\":{\"coordinates\":null,\"data_source\":{\"id\":\"10029\"},\"glyph\":{\"id\":\"10030\"},\"group\":null,\"hover_glyph\":null,\"muted_glyph\":{\"id\":\"10032\"},\"nonselection_glyph\":{\"id\":\"10031\"},\"view\":{\"id\":\"10034\"}},\"id\":\"10033\",\"type\":\"GlyphRenderer\"},{\"attributes\":{\"background_fill_alpha\":0.25,\"background_fill_color\":\"#20262B\",\"border_line_alpha\":0,\"coordinates\":null,\"glyph_width\":15,\"group\":null,\"items\":[{\"id\":\"10046\"}],\"label_standoff\":8,\"label_text_color\":\"#E0E0E0\",\"label_text_font\":\"Helvetica\",\"label_text_font_size\":\"1.025em\",\"spacing\":8},\"id\":\"10045\",\"type\":\"Legend\"},{\"attributes\":{\"axis\":{\"id\":\"10007\"},\"coordinates\":null,\"grid_line_alpha\":0.25,\"grid_line_color\":\"#E0E0E0\",\"group\":null,\"ticker\":null},\"id\":\"10010\",\"type\":\"Grid\"},{\"attributes\":{},\"id\":\"10008\",\"type\":\"BasicTicker\"},{\"attributes\":{\"line_alpha\":0.2,\"line_color\":\"yellow\",\"x\":{\"field\":\"x\"},\"y\":{\"field\":\"y\"}},\"id\":\"10032\",\"type\":\"Line\"},{\"attributes\":{\"label\":{\"value\":\"magenta\"},\"renderers\":[{\"id\":\"10033\"}]},\"id\":\"10046\",\"type\":\"LegendItem\"},{\"attributes\":{\"data\":{\"x\":[10,9,8,7,6,5,4,3,2,1],\"y\":[1,2,3,4,5,6,7,8,9,10]},\"selected\":{\"id\":\"10043\"},\"selection_policy\":{\"id\":\"10042\"}},\"id\":\"10029\",\"type\":\"ColumnDataSource\"},{\"attributes\":{\"line_alpha\":0.1,\"line_color\":\"yellow\",\"x\":{\"field\":\"x\"},\"y\":{\"field\":\"y\"}},\"id\":\"10031\",\"type\":\"Line\"},{\"attributes\":{},\"id\":\"10012\",\"type\":\"BasicTicker\"},{\"attributes\":{},\"id\":\"10001\",\"type\":\"DataRange1d\"},{\"attributes\":{\"axis\":{\"id\":\"10011\"},\"coordinates\":null,\"dimension\":1,\"grid_line_alpha\":0.25,\"grid_line_color\":\"#E0E0E0\",\"group\":null,\"ticker\":null},\"id\":\"10014\",\"type\":\"Grid\"},{\"attributes\":{\"line_color\":\"yellow\",\"x\":{\"field\":\"x\"},\"y\":{\"field\":\"y\"}},\"id\":\"10030\",\"type\":\"Line\"},{\"attributes\":{},\"id\":\"10020\",\"type\":\"HelpTool\"},{\"attributes\":{},\"id\":\"10005\",\"type\":\"LinearScale\"},{\"attributes\":{},\"id\":\"10037\",\"type\":\"BasicTickFormatter\"},{\"attributes\":{},\"id\":\"10003\",\"type\":\"LinearScale\"},{\"attributes\":{},\"id\":\"10018\",\"type\":\"SaveTool\"},{\"attributes\":{},\"id\":\"10038\",\"type\":\"AllLabels\"},{\"attributes\":{\"bottom_units\":\"screen\",\"coordinates\":null,\"fill_alpha\":0.5,\"fill_color\":\"lightgrey\",\"group\":null,\"left_units\":\"screen\",\"level\":\"overlay\",\"line_alpha\":1.0,\"line_color\":\"black\",\"line_dash\":[4,4],\"line_width\":2,\"right_units\":\"screen\",\"syncable\":false,\"top_units\":\"screen\"},\"id\":\"10021\",\"type\":\"BoxAnnotation\"},{\"attributes\":{},\"id\":\"10040\",\"type\":\"BasicTickFormatter\"},{\"attributes\":{\"coordinates\":null,\"group\":null,\"text\":\"distribution of data with customise.html \",\"text_color\":\"#E0E0E0\",\"text_font\":\"Helvetica\",\"text_font_size\":\"1.15em\"},\"id\":\"9997\",\"type\":\"Title\"},{\"attributes\":{},\"id\":\"10041\",\"type\":\"AllLabels\"},{\"attributes\":{},\"id\":\"9999\",\"type\":\"DataRange1d\"},{\"attributes\":{},\"id\":\"10042\",\"type\":\"UnionRenderers\"},{\"attributes\":{},\"id\":\"10016\",\"type\":\"WheelZoomTool\"},{\"attributes\":{\"tools\":[{\"id\":\"10015\"},{\"id\":\"10016\"},{\"id\":\"10017\"},{\"id\":\"10018\"},{\"id\":\"10019\"},{\"id\":\"10020\"}]},\"id\":\"10022\",\"type\":\"Toolbar\"},{\"attributes\":{},\"id\":\"10015\",\"type\":\"PanTool\"},{\"attributes\":{\"overlay\":{\"id\":\"10021\"}},\"id\":\"10017\",\"type\":\"BoxZoomTool\"},{\"attributes\":{},\"id\":\"10043\",\"type\":\"Selection\"},{\"attributes\":{},\"id\":\"10019\",\"type\":\"ResetTool\"},{\"attributes\":{\"source\":{\"id\":\"10029\"}},\"id\":\"10034\",\"type\":\"CDSView\"},{\"attributes\":{\"axis_label\":\"x\",\"axis_label_standoff\":10,\"axis_label_text_color\":\"#E0E0E0\",\"axis_label_text_font\":\"Helvetica\",\"axis_label_text_font_size\":\"1.25em\",\"axis_label_text_font_style\":\"normal\",\"axis_line_alpha\":0,\"axis_line_color\":\"#E0E0E0\",\"coordinates\":null,\"formatter\":{\"id\":\"10040\"},\"group\":null,\"major_label_policy\":{\"id\":\"10041\"},\"major_label_text_color\":\"#E0E0E0\",\"major_label_text_font\":\"Helvetica\",\"major_label_text_font_size\":\"1.025em\",\"major_tick_line_alpha\":0,\"major_tick_line_color\":\"#E0E0E0\",\"minor_tick_line_alpha\":0,\"minor_tick_line_color\":\"#E0E0E0\",\"ticker\":{\"id\":\"10008\"}},\"id\":\"10007\",\"type\":\"LinearAxis\"},{\"attributes\":{\"axis_label\":\"y\",\"axis_label_standoff\":10,\"axis_label_text_color\":\"#E0E0E0\",\"axis_label_text_font\":\"Helvetica\",\"axis_label_text_font_size\":\"1.25em\",\"axis_label_text_font_style\":\"normal\",\"axis_line_alpha\":0,\"axis_line_color\":\"#E0E0E0\",\"coordinates\":null,\"formatter\":{\"id\":\"10037\"},\"group\":null,\"major_label_policy\":{\"id\":\"10038\"},\"major_label_text_color\":\"#E0E0E0\",\"major_label_text_font\":\"Helvetica\",\"major_label_text_font_size\":\"1.025em\",\"major_tick_line_alpha\":0,\"major_tick_line_color\":\"#E0E0E0\",\"minor_tick_line_alpha\":0,\"minor_tick_line_color\":\"#E0E0E0\",\"ticker\":{\"id\":\"10012\"}},\"id\":\"10011\",\"type\":\"LinearAxis\"}],\"root_ids\":[\"9996\"]},\"title\":\"Bokeh Application\",\"version\":\"2.4.1\"}};\n",
       "  const render_items = [{\"docid\":\"eece70d7-4c29-41fa-b3f4-5284449082bf\",\"root_ids\":[\"9996\"],\"roots\":{\"9996\":\"5d98da44-4a2c-46e3-96b2-0185eb767b7b\"}}];\n",
       "  root.Bokeh.embed.embed_items_notebook(docs_json, render_items);\n",
       "\n",
       "  }\n",
       "  if (root.Bokeh !== undefined) {\n",
       "    embed_document(root);\n",
       "  } else {\n",
       "    let attempts = 0;\n",
       "    const timer = setInterval(function(root) {\n",
       "      if (root.Bokeh !== undefined) {\n",
       "        clearInterval(timer);\n",
       "        embed_document(root);\n",
       "      } else {\n",
       "        attempts++;\n",
       "        if (attempts > 100) {\n",
       "          clearInterval(timer);\n",
       "          console.log(\"Bokeh: ERROR: Unable to run BokehJS code because BokehJS library is missing\");\n",
       "        }\n",
       "      }\n",
       "    }, 10, root)\n",
       "  }\n",
       "})(window);"
      ],
      "application/vnd.bokehjs_exec.v0+json": ""
     },
     "metadata": {
      "application/vnd.bokehjs_exec.v0+json": {
       "id": "9996"
      }
     },
     "output_type": "display_data"
    }
   ],
   "source": [
    "k = figure(title = 'distribution of data with customise.html ', width = 700 , height = 700)\n",
    "k.xaxis.axis_label = 'x'\n",
    "k.yaxis.axis_label = 'y'\n",
    "\n",
    "curdoc().theme = 'dark_minimal'\n",
    "x = [10,9,8,7,6,5,4,3,2,1]\n",
    "y = [1,2,3,4,5,6,7,8,9,10]\n",
    "k.line(x , y , line_color = 'yellow'  ,legend_label = 'magenta')\n",
    "show(k)"
   ]
  },
  {
   "cell_type": "markdown",
   "id": "dd4ec189",
   "metadata": {},
   "source": [
    "#### Q4. What is a Bokeh server, and how can you use it to create interactive plots that can be updated in real time?"
   ]
  },
  {
   "cell_type": "markdown",
   "id": "66fae2c6",
   "metadata": {},
   "source": [
    "Ans:"
   ]
  },
  {
   "cell_type": "markdown",
   "id": "5a23a2c4",
   "metadata": {},
   "source": [
    "Bokeh server makes it easy to create interactive web applications that connect front-end UI events to running Python code. \n",
    "\n",
    "Bokeh creates high-level Python models, such as plots, ranges, axes, and glyphs, \n",
    "\n",
    "and then converts these objects to JSON to pass them to its client library, BokehJS."
   ]
  },
  {
   "cell_type": "markdown",
   "id": "4094b6d9",
   "metadata": {},
   "source": [
    "Q5. How can you embed a Bokeh plot into a web page or dashboard using Flask or Django?"
   ]
  },
  {
   "cell_type": "markdown",
   "id": "43ae8854",
   "metadata": {},
   "source": [
    "Ans:"
   ]
  },
  {
   "cell_type": "markdown",
   "id": "b646055c",
   "metadata": {},
   "source": [
    "Standalone documents\n",
    "\n",
    "\n",
    "These documents don’t require a Bokeh server to work. \n",
    "    \n",
    "    They may have many tools and interactions such as custom JavaScript callbacks but are otherwise nothing but \n",
    "    \n",
    "    HTML, CSS, and JavaScript. These documents can be embedded into other HTML pages as one large document or as a set \n",
    "    \n",
    "    of sub-components with individual templating.\n",
    "    \n",
    "    \n",
    "Bokeh applications\n",
    "\n",
    "    These applications require a Bokeh server to work. \n",
    "    \n",
    "    Having a Bokeh server lets you connect events and tools to real-time Python callbacks that execute on the server. \n",
    "    \n",
    "    For more information about creating and running Bokeh apps"
   ]
  },
  {
   "cell_type": "markdown",
   "id": "a2ffe1eb",
   "metadata": {},
   "source": [
    "HTML files\n",
    "\n",
    "\n",
    "Bokeh can generate complete HTML pages for Bokeh documents using the file_html() function. \n",
    "\n",
    "This function can create an HTML document from its own generic template or from a template you provide. \n",
    "\n",
    "These HTML files contain plot data and are fully portable while still providing interactive tools.\n",
    "\n",
    "You can save the returned HTML text to a file using standard Python file operations. \n",
    "\n",
    "You can also provide your own template for the HTML output and pass in custom, or additional, template variables. \n",
    "\n",
    "For more details, see the file_html() documentation.\n",
    "\n",
    "This is a low-level, explicit way to generate an HTML file, which can be useful for web applications such as Flask apps.\n",
    "\n",
    "In scripts and Jupyter notebooks employing the bokeh.plotting interface, \n",
    "\n",
    "you can call the output_file() function in conjunction with show() or save() instead. \n",
    "\n",
    "The show() function creates an HTML document and displays it in a web browser whereas save() creates an HTML document \n",
    "\n",
    "and saves it locally."
   ]
  },
  {
   "cell_type": "markdown",
   "id": "159263c7",
   "metadata": {},
   "source": [
    "JSON items\n",
    "\n",
    "Bokeh can also supply JSON data that BokehJS can use to render a standalone Bokeh document in a specified <div>. \n",
    "\n",
    "The json_item() function accepts a Bokeh model (for example, a plot) and an optional ID of the target <div>."
   ]
  },
  {
   "cell_type": "markdown",
   "id": "5894852e",
   "metadata": {},
   "source": [
    "Autoloading scripts\n",
    "\n",
    "You can also embed standalone documents with the autoload_static() function. \n",
    "\n",
    "This function provides a script tag that replaces itself with a Bokeh plot. \n",
    "\n",
    "This script also checks for BokehJS and loads it if necessary. \n",
    "\n",
    "This function lets you embed a plot with nothing but this script tag.\n",
    "\n",
    "This function takes a Bokeh model, such as a plot, that you want to display, a Resources object, \n",
    "\n",
    "and a path to load a script from. Then autoload_static() returns a self-contained <script> tag and a block of \n",
    "\n",
    "JavaScript code. The JavaScript code saves to the path you provide and the <script> loads and runs it \n",
    "\n",
    "to display your plot on a web page."
   ]
  },
  {
   "cell_type": "markdown",
   "id": "dbbbe076",
   "metadata": {},
   "source": [
    "Bokeh applications\n",
    "\n",
    "This section describes how to embed entire Bokeh server applications. \n",
    "\n",
    "You can embed Bokeh apps so that every page load either creates and \n",
    "\n",
    "displays a new session and document or outputs a specific, existing session.\n",
    "\n",
    "\n",
    "App documents\n",
    "\n",
    "If an application is running on a Bokeh server that makes it available at some URL, \n",
    "\n",
    "you will typically want to embed the entire application in a web page. \n",
    "\n",
    "This way, the page will create a new session and display it to the user every time it loads.\n",
    "\n",
    "You can achieve this with the server_document() function. \n",
    "\n",
    "This function accepts the URL to a Bokeh server application and returns a script that embeds a new session from that server\n",
    "\n",
    "every time the script executes.\n",
    "\n",
    "\n",
    "App sessions\n",
    "\n",
    "\n",
    "Sometimes, instead of loading a new session, you might wish to load a specific one.\n",
    "\n",
    "Take a Flask app that renders a page for an authenticated user. \n",
    "\n",
    "You might want it to pull a new session, make some customizations for that specific user, \n",
    "\n",
    "and serve this customized Bokeh server session.\n",
    "\n",
    "You can accomplish this with the server_session() function. \n",
    "\n",
    "This function accepts a specific model to embed (or None for an entire session document), session ID, and a URL to \n",
    "\n",
    "the Bokeh application"
   ]
  }
 ],
 "metadata": {
  "kernelspec": {
   "display_name": "Python 3 (ipykernel)",
   "language": "python",
   "name": "python3"
  },
  "language_info": {
   "codemirror_mode": {
    "name": "ipython",
    "version": 3
   },
   "file_extension": ".py",
   "mimetype": "text/x-python",
   "name": "python",
   "nbconvert_exporter": "python",
   "pygments_lexer": "ipython3",
   "version": "3.9.7"
  }
 },
 "nbformat": 4,
 "nbformat_minor": 5
}
