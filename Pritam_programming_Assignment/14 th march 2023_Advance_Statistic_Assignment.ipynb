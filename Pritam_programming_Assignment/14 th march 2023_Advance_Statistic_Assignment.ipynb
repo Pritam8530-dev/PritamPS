{
 "cells": [
  {
   "cell_type": "markdown",
   "id": "dfb20f0e",
   "metadata": {},
   "source": [
    "#### Q1. Write a Python function that takes in two arrays of data and calculates the F-value for a variance ratio test. The function should return the F-value and the corresponding p-value for the test."
   ]
  },
  {
   "cell_type": "markdown",
   "id": "d8d8a8a9",
   "metadata": {},
   "source": [
    "Ans:"
   ]
  },
  {
   "cell_type": "code",
   "execution_count": 41,
   "id": "9a828ea6",
   "metadata": {},
   "outputs": [],
   "source": [
    "import numpy as np\n",
    "import scipy.stats as stat"
   ]
  },
  {
   "cell_type": "code",
   "execution_count": 42,
   "id": "2e26e1c5",
   "metadata": {},
   "outputs": [],
   "source": [
    "def variance_ratio(a ,b):\n",
    "    \n",
    "    var_a = np.var(a)\n",
    "    var_b = np.var(b)\n",
    "    \n",
    "    f = var_a / var_b\n",
    "    \n",
    "    dfn = len(a) -1 \n",
    "    \n",
    "    dfd = len(b) - 1\n",
    "    \n",
    "    p_value = 1 - stat.f.cdf(f , dfn , dfd)\n",
    "    \n",
    "    \n",
    "    return f , p_value"
   ]
  },
  {
   "cell_type": "code",
   "execution_count": 43,
   "id": "8bd8e6d3",
   "metadata": {},
   "outputs": [
    {
     "data": {
      "text/plain": [
       "(4.387122002085506, 0.01912653593238578)"
      ]
     },
     "execution_count": 43,
     "metadata": {},
     "output_type": "execute_result"
    }
   ],
   "source": [
    "a = [18,19,22,25,27,28,41,45,51,55]\n",
    "b = [14,15,15,17,18,22,25,25,27,34]\n",
    "\n",
    "a = np.array(a)\n",
    "\n",
    "b = np.array(b)\n",
    "\n",
    "variance_ratio(a , b)"
   ]
  },
  {
   "cell_type": "markdown",
   "id": "4eb0632c",
   "metadata": {},
   "source": [
    "#### Q2. Given a significance level of 0.05 and the degrees of freedom for the numerator and denominator of an F-distribution, write a Python function that returns the critical F-value for a two-tailed test."
   ]
  },
  {
   "cell_type": "markdown",
   "id": "167be6e5",
   "metadata": {},
   "source": [
    "Ans:"
   ]
  },
  {
   "cell_type": "code",
   "execution_count": 53,
   "id": "aca6701d",
   "metadata": {},
   "outputs": [],
   "source": [
    "significance_value = 0.05\n",
    "\n",
    "dfn = 2\n",
    "\n",
    "dfd = 27"
   ]
  },
  {
   "cell_type": "code",
   "execution_count": 54,
   "id": "d819b6cc",
   "metadata": {},
   "outputs": [],
   "source": [
    "# significance / 2 for two tailed test\n",
    "\n",
    "critical_value = stat.f.ppf((1 - (0.05 / 2)) , dfn , dfd)"
   ]
  },
  {
   "cell_type": "code",
   "execution_count": 55,
   "id": "66e2e3b5",
   "metadata": {},
   "outputs": [
    {
     "data": {
      "text/plain": [
       "4.242094126533731"
      ]
     },
     "execution_count": 55,
     "metadata": {},
     "output_type": "execute_result"
    }
   ],
   "source": [
    "critical_value"
   ]
  },
  {
   "cell_type": "markdown",
   "id": "d367df82",
   "metadata": {},
   "source": [
    "#### Q3. Write a Python program that generates random samples from two normal distributions with known variances and uses an F-test to determine if the variances are equal. The program should output the F-value, degrees of freedom, and p-value for the test"
   ]
  },
  {
   "cell_type": "markdown",
   "id": "fcd0c327",
   "metadata": {},
   "source": [
    "Ans:"
   ]
  },
  {
   "cell_type": "markdown",
   "id": "6b583722",
   "metadata": {},
   "source": [
    "1.Null hypothesis (H0):\n",
    "    \n",
    "    Assumption : variances are equal\n",
    "        \n",
    "        \n",
    "2.Alternate hypothesis (H1):\n",
    "    \n",
    "    Assumption : variances are not equal"
   ]
  },
  {
   "cell_type": "code",
   "execution_count": 62,
   "id": "f7c8765a",
   "metadata": {},
   "outputs": [],
   "source": [
    "sample_1 = np.random.randint(1 ,5 , 10)"
   ]
  },
  {
   "cell_type": "code",
   "execution_count": 63,
   "id": "938f57fa",
   "metadata": {},
   "outputs": [],
   "source": [
    "sample_2 = np.random.randint(5 , 10 , 10)"
   ]
  },
  {
   "cell_type": "code",
   "execution_count": 68,
   "id": "564d063f",
   "metadata": {},
   "outputs": [],
   "source": [
    "dfn = len(sample_1) - 1"
   ]
  },
  {
   "cell_type": "code",
   "execution_count": 69,
   "id": "fd438ddb",
   "metadata": {},
   "outputs": [],
   "source": [
    "dfd = len(sample_2) - 1"
   ]
  },
  {
   "cell_type": "code",
   "execution_count": 70,
   "id": "4e1ddd42",
   "metadata": {},
   "outputs": [
    {
     "data": {
      "text/plain": [
       "array([4, 1, 2, 3, 3, 2, 2, 2, 1, 2])"
      ]
     },
     "execution_count": 70,
     "metadata": {},
     "output_type": "execute_result"
    }
   ],
   "source": [
    "sample_1"
   ]
  },
  {
   "cell_type": "code",
   "execution_count": 71,
   "id": "06ab0687",
   "metadata": {},
   "outputs": [
    {
     "data": {
      "text/plain": [
       "array([6, 8, 6, 5, 9, 9, 8, 9, 5, 8])"
      ]
     },
     "execution_count": 71,
     "metadata": {},
     "output_type": "execute_result"
    }
   ],
   "source": [
    "sample_2"
   ]
  },
  {
   "cell_type": "code",
   "execution_count": 72,
   "id": "adde95c6",
   "metadata": {},
   "outputs": [],
   "source": [
    "f_value = np.var(sample_1) / np.var(sample_2)"
   ]
  },
  {
   "cell_type": "code",
   "execution_count": 73,
   "id": "7fea7826",
   "metadata": {},
   "outputs": [
    {
     "data": {
      "text/plain": [
       "0.3153526970954357"
      ]
     },
     "execution_count": 73,
     "metadata": {},
     "output_type": "execute_result"
    }
   ],
   "source": [
    "f_value"
   ]
  },
  {
   "cell_type": "code",
   "execution_count": 75,
   "id": "074a82fe",
   "metadata": {},
   "outputs": [],
   "source": [
    "critical_value = stat.f.ppf(1-0.05 , dfn , dfd)"
   ]
  },
  {
   "cell_type": "code",
   "execution_count": 76,
   "id": "d5763a34",
   "metadata": {},
   "outputs": [
    {
     "data": {
      "text/plain": [
       "3.178893104458269"
      ]
     },
     "execution_count": 76,
     "metadata": {},
     "output_type": "execute_result"
    }
   ],
   "source": [
    "critical_value"
   ]
  },
  {
   "cell_type": "code",
   "execution_count": 77,
   "id": "ec1d416e",
   "metadata": {},
   "outputs": [
    {
     "name": "stdout",
     "output_type": "stream",
     "text": [
      "Fail to reject the null hypothesis\n"
     ]
    }
   ],
   "source": [
    "if f_value > critical_value :\n",
    "    \n",
    "    print('Reject the null hypothesis')\n",
    "    \n",
    "else:\n",
    "    \n",
    "    print('Fail to reject the null hypothesis')"
   ]
  },
  {
   "cell_type": "markdown",
   "id": "9257b1d3",
   "metadata": {},
   "source": [
    "Conclusion : variances are not equal"
   ]
  },
  {
   "cell_type": "markdown",
   "id": "0e0b2e3d",
   "metadata": {},
   "source": [
    "#### Q4.The variances of two populations are known to be 10 and 15. A sample of 12 observations is taken from each population. Conduct an F-test at the 5% significance level to determine if the variances are significantly different."
   ]
  },
  {
   "cell_type": "markdown",
   "id": "1c3afb13",
   "metadata": {},
   "source": [
    "Ans:"
   ]
  },
  {
   "cell_type": "code",
   "execution_count": 78,
   "id": "b90d5086",
   "metadata": {},
   "outputs": [],
   "source": [
    "pop_first_var = 10\n",
    "\n",
    "pop_second_var = 15\n",
    "\n",
    "n = 12\n",
    "\n",
    "dfn = 12 - 1\n",
    "\n",
    "dfd = 12 - 1\n",
    "\n",
    "significance_value = 0.05"
   ]
  },
  {
   "cell_type": "markdown",
   "id": "d7816e7b",
   "metadata": {},
   "source": [
    "1.Null hypothesis(H0):\n",
    "    \n",
    "    variances are significantly equal\n",
    "    \n",
    "\n",
    "2.Alternate hypothesis(H1):\n",
    "    \n",
    "    variances are significantly diffrent"
   ]
  },
  {
   "cell_type": "code",
   "execution_count": 79,
   "id": "d7f06482",
   "metadata": {},
   "outputs": [],
   "source": [
    "f_test = pop_first_var / pop_second_var"
   ]
  },
  {
   "cell_type": "code",
   "execution_count": 80,
   "id": "b1153f4f",
   "metadata": {},
   "outputs": [
    {
     "data": {
      "text/plain": [
       "0.6666666666666666"
      ]
     },
     "execution_count": 80,
     "metadata": {},
     "output_type": "execute_result"
    }
   ],
   "source": [
    "f_test"
   ]
  },
  {
   "cell_type": "code",
   "execution_count": 82,
   "id": "19186a7d",
   "metadata": {},
   "outputs": [],
   "source": [
    "critical_value = stat.f.ppf(1 - 0.05 , dfn , dfd)"
   ]
  },
  {
   "cell_type": "code",
   "execution_count": 83,
   "id": "fb61e394",
   "metadata": {},
   "outputs": [
    {
     "data": {
      "text/plain": [
       "2.8179304699530863"
      ]
     },
     "execution_count": 83,
     "metadata": {},
     "output_type": "execute_result"
    }
   ],
   "source": [
    "critical_value"
   ]
  },
  {
   "cell_type": "code",
   "execution_count": 84,
   "id": "1c03ddc2",
   "metadata": {},
   "outputs": [
    {
     "name": "stdout",
     "output_type": "stream",
     "text": [
      "Fail to reject the null hypothesis\n"
     ]
    }
   ],
   "source": [
    "if f_test > critical_value :\n",
    "    \n",
    "    print('Reject the null hypothesis')\n",
    "    \n",
    "else:\n",
    "    \n",
    "    print('Fail to reject the null hypothesis')"
   ]
  },
  {
   "cell_type": "markdown",
   "id": "18c04ac9",
   "metadata": {},
   "source": [
    "conclusion : variances are significantly diffrent"
   ]
  },
  {
   "cell_type": "markdown",
   "id": "9e87ee0d",
   "metadata": {},
   "source": [
    "#### Q5. A manufacturer claims that the variance of the diameter of a certain product is 0.005. A sample of 25 products is taken, and the sample variance is found to be 0.006. Conduct an F-test at the 1% significance level to determine if the claim is justified."
   ]
  },
  {
   "cell_type": "markdown",
   "id": "ae4fc15f",
   "metadata": {},
   "source": [
    "Ans:"
   ]
  },
  {
   "cell_type": "code",
   "execution_count": 97,
   "id": "e3243151",
   "metadata": {},
   "outputs": [],
   "source": [
    "var_product = 0.005\n",
    "\n",
    "n = 25\n",
    "\n",
    "sample_var = 0.006\n",
    "\n",
    "significance_value = 0.01\n",
    "\n",
    "dfn = 25 - 1\n",
    "\n",
    "dfd = 25 - 1"
   ]
  },
  {
   "cell_type": "markdown",
   "id": "e03edaa1",
   "metadata": {},
   "source": [
    "1.Null hypothesis(H0):\n",
    "    \n",
    "    Assnumption : variances are equal\n",
    "        \n",
    "        \n",
    "2.Alternate hypothesis(H1):\n",
    "    \n",
    "    Assumption : variances are not equal"
   ]
  },
  {
   "cell_type": "code",
   "execution_count": 98,
   "id": "79eab3f8",
   "metadata": {},
   "outputs": [],
   "source": [
    "f_test = var_product / sample_var"
   ]
  },
  {
   "cell_type": "code",
   "execution_count": 99,
   "id": "7b8a2812",
   "metadata": {},
   "outputs": [
    {
     "data": {
      "text/plain": [
       "0.8333333333333334"
      ]
     },
     "execution_count": 99,
     "metadata": {},
     "output_type": "execute_result"
    }
   ],
   "source": [
    "f_test"
   ]
  },
  {
   "cell_type": "code",
   "execution_count": 100,
   "id": "3dc71cc8",
   "metadata": {},
   "outputs": [],
   "source": [
    "critical_value = stat.f.ppf(1- significance_value , dfn , dfd)"
   ]
  },
  {
   "cell_type": "code",
   "execution_count": 101,
   "id": "25873d78",
   "metadata": {},
   "outputs": [
    {
     "data": {
      "text/plain": [
       "2.659072104348157"
      ]
     },
     "execution_count": 101,
     "metadata": {},
     "output_type": "execute_result"
    }
   ],
   "source": [
    "critical_value"
   ]
  },
  {
   "cell_type": "code",
   "execution_count": 102,
   "id": "e864ab95",
   "metadata": {},
   "outputs": [
    {
     "name": "stdout",
     "output_type": "stream",
     "text": [
      "Fail to reject the null hypothesis\n"
     ]
    }
   ],
   "source": [
    "if f_test > critical_value :\n",
    "    \n",
    "    print('Reject the null hypothesis')\n",
    "    \n",
    "else:\n",
    "    \n",
    "    print('Fail to reject the null hypothesis')"
   ]
  },
  {
   "cell_type": "markdown",
   "id": "6db230c1",
   "metadata": {},
   "source": [
    "conclusion : variances are not equal "
   ]
  },
  {
   "cell_type": "markdown",
   "id": "9aa7613f",
   "metadata": {},
   "source": [
    "#### Q6. Write a Python function that takes in the degrees of freedom for the numerator and denominator of an F-distribution and calculates the mean and variance of the distribution. The function should return the mean and variance as a tuple."
   ]
  },
  {
   "cell_type": "markdown",
   "id": "52e4f27f",
   "metadata": {},
   "source": [
    "Ans:"
   ]
  },
  {
   "cell_type": "code",
   "execution_count": 121,
   "id": "83c32fba",
   "metadata": {},
   "outputs": [],
   "source": [
    "def variance_ratio_test(x , y):\n",
    "    \n",
    "    dfn = len(x) - 1\n",
    "    \n",
    "    dfd = len(y) - 1\n",
    "    \n",
    "    f_stat = np.var(x) / np.var(y)\n",
    "    \n",
    "    critical_value_f = stat.f.ppf(1 - 0.05 , dfn , dfd)\n",
    "    \n",
    "    mean_x = np.mean(x)\n",
    "    \n",
    "    mean_y = np.mean(y)\n",
    "    \n",
    "    return f_stat , critical_value_f , mean_x , mean_y    "
   ]
  },
  {
   "cell_type": "code",
   "execution_count": 122,
   "id": "e8403b00",
   "metadata": {},
   "outputs": [
    {
     "data": {
      "text/plain": [
       "(1.0, 3.178893104458269, 5.5, 15.5)"
      ]
     },
     "execution_count": 122,
     "metadata": {},
     "output_type": "execute_result"
    }
   ],
   "source": [
    "x = tuple(range(1 , 11))\n",
    "    \n",
    "y = tuple(range(11 , 21))\n",
    "\n",
    "variance_ratio_test(x , y)"
   ]
  },
  {
   "cell_type": "markdown",
   "id": "ad36f885",
   "metadata": {},
   "source": [
    "#### Q7. A random sample of 10 measurements is taken from a normal population with unknown variance. The sample variance is found to be 25. Another random sample of 15 measurements is taken from another normal population with unknown variance, and the sample variance is found to be 20. Conduct an F-test at the 10% significance level to determine if the variances are significantly different."
   ]
  },
  {
   "cell_type": "markdown",
   "id": "0b72a62b",
   "metadata": {},
   "source": [
    "Ans:"
   ]
  },
  {
   "cell_type": "code",
   "execution_count": 141,
   "id": "2869bdcc",
   "metadata": {},
   "outputs": [],
   "source": [
    "n1 = 10\n",
    "\n",
    "sample_var_n1 = 25\n",
    "\n",
    "n2 = 15\n",
    "\n",
    "sample_var_n2 = 20\n",
    "\n",
    "significance_value = 0.1"
   ]
  },
  {
   "cell_type": "markdown",
   "id": "1d788a19",
   "metadata": {},
   "source": [
    "1.Null hypothesis :\n",
    "    \n",
    "    Assumption : sample variances are equal\n",
    "        \n",
    "        \n",
    "2.Alternate hypothesis :\n",
    "    \n",
    "    Assumption : sample variances are not equal"
   ]
  },
  {
   "cell_type": "code",
   "execution_count": 142,
   "id": "d71de803",
   "metadata": {},
   "outputs": [],
   "source": [
    "f_test = sample_var_n1 / sample_var_n2"
   ]
  },
  {
   "cell_type": "code",
   "execution_count": 143,
   "id": "08094624",
   "metadata": {},
   "outputs": [
    {
     "data": {
      "text/plain": [
       "1.25"
      ]
     },
     "execution_count": 143,
     "metadata": {},
     "output_type": "execute_result"
    }
   ],
   "source": [
    "f_test"
   ]
  },
  {
   "cell_type": "code",
   "execution_count": 144,
   "id": "36f1265c",
   "metadata": {},
   "outputs": [],
   "source": [
    "dfn = n1 - 1"
   ]
  },
  {
   "cell_type": "code",
   "execution_count": 145,
   "id": "554822ba",
   "metadata": {},
   "outputs": [],
   "source": [
    "dfd = n2 - 1"
   ]
  },
  {
   "cell_type": "code",
   "execution_count": 146,
   "id": "6dc0303f",
   "metadata": {},
   "outputs": [],
   "source": [
    "critical_value = stat.f.ppf(1 - significance_value  , dfn , dfd)"
   ]
  },
  {
   "cell_type": "code",
   "execution_count": 147,
   "id": "e7e407b7",
   "metadata": {},
   "outputs": [
    {
     "data": {
      "text/plain": [
       "2.121954566976902"
      ]
     },
     "execution_count": 147,
     "metadata": {},
     "output_type": "execute_result"
    }
   ],
   "source": [
    "critical_value"
   ]
  },
  {
   "cell_type": "code",
   "execution_count": 148,
   "id": "99b4d242",
   "metadata": {},
   "outputs": [
    {
     "name": "stdout",
     "output_type": "stream",
     "text": [
      "Fail to reject the null hypothesis\n"
     ]
    }
   ],
   "source": [
    "if f_test > critical_value :\n",
    "    \n",
    "    print('Reject the null hypothesis')\n",
    "    \n",
    "else:\n",
    "    \n",
    "    print('Fail to reject the null hypothesis')"
   ]
  },
  {
   "cell_type": "markdown",
   "id": "a09c4ac7",
   "metadata": {},
   "source": [
    "conclusion : sample variances are not equal"
   ]
  },
  {
   "cell_type": "markdown",
   "id": "5f6c45c3",
   "metadata": {},
   "source": [
    "#### Q8. The following data represent the waiting times in minutes at two different restaurants on a Saturday night: Restaurant A: 24, 25, 28, 23, 22, 20, 27; Restaurant B: 31, 33, 35, 30, 32, 36. Conduct an F-test at the 5% significance level to determine if the variances are significantly different."
   ]
  },
  {
   "cell_type": "code",
   "execution_count": 180,
   "id": "3984bd06",
   "metadata": {},
   "outputs": [],
   "source": [
    "Restaurant_A = [24, 25, 28, 23, 22, 20, 27]\n",
    "\n",
    "Restaurant_B = [31, 33, 35, 30, 32, 36]\n",
    "    \n",
    "significance_level = 0.05"
   ]
  },
  {
   "cell_type": "markdown",
   "id": "2ced029e",
   "metadata": {},
   "source": [
    "1.null hypothesis(H0):\n",
    "    \n",
    "    Assumption : Variances of both restaurant are equal\n",
    "        \n",
    "        \n",
    "2.Alternate hypothesis(H1):\n",
    "    \n",
    "    Assumption : variances of bothe reataurants are not equal"
   ]
  },
  {
   "cell_type": "code",
   "execution_count": 181,
   "id": "9d865330",
   "metadata": {},
   "outputs": [],
   "source": [
    "variance_ratio_test = np.var(Restaurant_A) / np.var(Restaurant_B)"
   ]
  },
  {
   "cell_type": "code",
   "execution_count": 182,
   "id": "89e6c4e0",
   "metadata": {},
   "outputs": [
    {
     "data": {
      "text/plain": [
       "1.496767651159843"
      ]
     },
     "execution_count": 182,
     "metadata": {},
     "output_type": "execute_result"
    }
   ],
   "source": [
    "variance_ratio_test"
   ]
  },
  {
   "cell_type": "code",
   "execution_count": 183,
   "id": "9f68bff8",
   "metadata": {},
   "outputs": [],
   "source": [
    "dfn = len(Restaurant_A) - 1"
   ]
  },
  {
   "cell_type": "code",
   "execution_count": 184,
   "id": "f68d61ad",
   "metadata": {},
   "outputs": [],
   "source": [
    "dfd = len(Restaurant_B) - 1"
   ]
  },
  {
   "cell_type": "code",
   "execution_count": 185,
   "id": "c2a69c87",
   "metadata": {},
   "outputs": [],
   "source": [
    "critical_value = stat.f.ppf(1 - significance_level , dfn , dfd)"
   ]
  },
  {
   "cell_type": "code",
   "execution_count": 186,
   "id": "4b83386c",
   "metadata": {},
   "outputs": [
    {
     "data": {
      "text/plain": [
       "4.950288068694318"
      ]
     },
     "execution_count": 186,
     "metadata": {},
     "output_type": "execute_result"
    }
   ],
   "source": [
    "critical_value"
   ]
  },
  {
   "cell_type": "code",
   "execution_count": 187,
   "id": "80e0e555",
   "metadata": {},
   "outputs": [
    {
     "name": "stdout",
     "output_type": "stream",
     "text": [
      "Fail to reject the null hypothesis\n"
     ]
    }
   ],
   "source": [
    "if variance_ratio_test > critical_value :\n",
    "    \n",
    "    print('Reject the null hypothesis')\n",
    "    \n",
    "else:\n",
    "    \n",
    "    print('Fail to reject the null hypothesis')"
   ]
  },
  {
   "cell_type": "markdown",
   "id": "174fbc46",
   "metadata": {},
   "source": [
    "conclusion : variances of bothe reataurants are not equal"
   ]
  },
  {
   "cell_type": "markdown",
   "id": "b9d9b504",
   "metadata": {},
   "source": [
    "#### Q9. The following data represent the test scores of two groups of students: Group A: 80, 85, 90, 92, 87, 83; Group B: 75, 78, 82, 79, 81, 84. Conduct an F-test at the 1% significance level to determine if the variances are significantly different"
   ]
  },
  {
   "cell_type": "markdown",
   "id": "4a0b166a",
   "metadata": {},
   "source": [
    "Ans:"
   ]
  },
  {
   "cell_type": "code",
   "execution_count": 210,
   "id": "e23bb484",
   "metadata": {},
   "outputs": [],
   "source": [
    "Group_A = [ 80, 85, 90, 92, 87, 83]\n",
    "\n",
    "Group_B = [75, 78, 82, 79, 81, 84]\n",
    "\n",
    "significance_level = 0.01"
   ]
  },
  {
   "cell_type": "markdown",
   "id": "0216fe3c",
   "metadata": {},
   "source": [
    "1.Null hypothesis(H0):\n",
    "    \n",
    "    Assumption : variances are both student group significantly equal\n",
    "        \n",
    "        \n",
    "2.Alternate Hypothesi(H1):\n",
    "    \n",
    "    Assumption : variances are both student group significantly diffrent"
   ]
  },
  {
   "cell_type": "code",
   "execution_count": 211,
   "id": "766e4edd",
   "metadata": {},
   "outputs": [],
   "source": [
    "f_test = np.var(Group_A)  / np.var(Group_B)"
   ]
  },
  {
   "cell_type": "code",
   "execution_count": 212,
   "id": "f5217d6d",
   "metadata": {},
   "outputs": [
    {
     "data": {
      "text/plain": [
       "1.9442622950819677"
      ]
     },
     "execution_count": 212,
     "metadata": {},
     "output_type": "execute_result"
    }
   ],
   "source": [
    "f_test"
   ]
  },
  {
   "cell_type": "code",
   "execution_count": 213,
   "id": "e7989a46",
   "metadata": {},
   "outputs": [],
   "source": [
    "dfn = len(Group_A) - 1"
   ]
  },
  {
   "cell_type": "code",
   "execution_count": 214,
   "id": "b497efa1",
   "metadata": {},
   "outputs": [],
   "source": [
    "dfd = len(Group_B) - 1"
   ]
  },
  {
   "cell_type": "code",
   "execution_count": 215,
   "id": "23b13906",
   "metadata": {},
   "outputs": [],
   "source": [
    "f_critical_value = stat.f.ppf(1 - significance_level , dfn , dfd)"
   ]
  },
  {
   "cell_type": "code",
   "execution_count": 216,
   "id": "3ffebb99",
   "metadata": {},
   "outputs": [
    {
     "data": {
      "text/plain": [
       "10.967020650907992"
      ]
     },
     "execution_count": 216,
     "metadata": {},
     "output_type": "execute_result"
    }
   ],
   "source": [
    "f_critical_value"
   ]
  },
  {
   "cell_type": "code",
   "execution_count": 217,
   "id": "b85ce0bb",
   "metadata": {},
   "outputs": [
    {
     "name": "stdout",
     "output_type": "stream",
     "text": [
      "Fail to reject the null hypothesis\n"
     ]
    }
   ],
   "source": [
    "if f_test > f_critical_value :\n",
    "    \n",
    "    print('Reject the null hypothesis')\n",
    "    \n",
    "else:\n",
    "    \n",
    "    print('Fail to reject the null hypothesis')"
   ]
  },
  {
   "cell_type": "markdown",
   "id": "8a74a018",
   "metadata": {},
   "source": [
    "conclusion: variances are both student group significantly diffrent"
   ]
  }
 ],
 "metadata": {
  "kernelspec": {
   "display_name": "Python 3 (ipykernel)",
   "language": "python",
   "name": "python3"
  },
  "language_info": {
   "codemirror_mode": {
    "name": "ipython",
    "version": 3
   },
   "file_extension": ".py",
   "mimetype": "text/x-python",
   "name": "python",
   "nbconvert_exporter": "python",
   "pygments_lexer": "ipython3",
   "version": "3.9.7"
  }
 },
 "nbformat": 4,
 "nbformat_minor": 5
}
