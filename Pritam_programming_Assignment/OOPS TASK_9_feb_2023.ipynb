{
 "cells": [
  {
   "cell_type": "markdown",
   "id": "6c128359",
   "metadata": {},
   "source": [
    "Q1, Create a vehicle class with an init method having instance variables as name_of_vehicle, max_speed\n",
    "and average_of_vehicle."
   ]
  },
  {
   "cell_type": "markdown",
   "id": "56d0e4e7",
   "metadata": {},
   "source": [
    "Ans :"
   ]
  },
  {
   "cell_type": "code",
   "execution_count": 2,
   "id": "7d6822d7",
   "metadata": {},
   "outputs": [],
   "source": [
    "class vehicle:\n",
    "    \n",
    "    \n",
    "    def __init__(self , name_of_vehicle , max_speed , average_of_vehicle):\n",
    "        \n",
    "        self.name_of_vehicle = name_of_vehicle\n",
    "        \n",
    "        self.max_speed = max_speed\n",
    "        \n",
    "        self.average_of_vehicle = average_of_vehicle\n",
    "        \n",
    "        \n",
    "    def vehicle_details(self):\n",
    "        \n",
    "        return  self.name_of_vehicle , self.max_speed , self.average_of_vehicle\n",
    "    \n",
    "    \n",
    "v = vehicle('fortuner' , 360 , 50)"
   ]
  },
  {
   "cell_type": "code",
   "execution_count": 3,
   "id": "2ffa0fb8",
   "metadata": {},
   "outputs": [
    {
     "data": {
      "text/plain": [
       "('fortuner', 360, 50)"
      ]
     },
     "execution_count": 3,
     "metadata": {},
     "output_type": "execute_result"
    }
   ],
   "source": [
    "v.vehicle_details()"
   ]
  },
  {
   "cell_type": "markdown",
   "id": "5c5ff1ca",
   "metadata": {},
   "source": [
    "Q2. Create a child class car from the vehicle class created in Que 1, which will inherit the vehicle class.\n",
    "Create a method named seating_capacity which takes capacity as an argument and returns the name of\n",
    "the vehicle and its seating capacity."
   ]
  },
  {
   "cell_type": "markdown",
   "id": "4c53951d",
   "metadata": {},
   "source": [
    "Ans :"
   ]
  },
  {
   "cell_type": "code",
   "execution_count": 33,
   "id": "84550e9d",
   "metadata": {},
   "outputs": [],
   "source": [
    "class vehicle:\n",
    "    \n",
    "    def __init__(self ,name_of_vehicle , max_speed , average_of_vehicle):\n",
    "        \n",
    "        self.name_of_vehicle = name_of_vehicle\n",
    "        \n",
    "        self.max_speed = max_speed\n",
    "        \n",
    "        self.average_of_vehicle = average_of_vehicle\n",
    "        \n",
    "        \n",
    "    def seating_capacity(self , capacity):\n",
    "        \n",
    "        self.capacity = capacity\n",
    "        \n",
    "        return self.name_of_vehicle , self.capacity"
   ]
  },
  {
   "cell_type": "code",
   "execution_count": 34,
   "id": "7fe2093f",
   "metadata": {},
   "outputs": [],
   "source": [
    "class car(vehicle):\n",
    "    \n",
    "    pass\n",
    "\n",
    "c = car('ford',360 , 80)"
   ]
  },
  {
   "cell_type": "code",
   "execution_count": 35,
   "id": "a0723e39",
   "metadata": {},
   "outputs": [
    {
     "data": {
      "text/plain": [
       "('ford', 8)"
      ]
     },
     "execution_count": 35,
     "metadata": {},
     "output_type": "execute_result"
    }
   ],
   "source": [
    "c.seating_capacity(8)"
   ]
  },
  {
   "cell_type": "markdown",
   "id": "44adfd24",
   "metadata": {},
   "source": [
    "Q3. What is multiple inheritance? Write a python code to demonstrate multiple inheritance."
   ]
  },
  {
   "cell_type": "markdown",
   "id": "e3bfd952",
   "metadata": {},
   "source": [
    "Ans :"
   ]
  },
  {
   "cell_type": "markdown",
   "id": "1b311730",
   "metadata": {},
   "source": [
    "Multiple Inheritance :\n",
    "    \n",
    "    Multiple Inheritance is defined as where child is derived by more than one parnts.i.e. Multiple Inheritance"
   ]
  },
  {
   "cell_type": "code",
   "execution_count": 38,
   "id": "2f72cdd4",
   "metadata": {},
   "outputs": [],
   "source": [
    "class Grandparent:\n",
    "    \n",
    "    def shop(self):\n",
    "        \n",
    "        return 'shop is start by grandparents'"
   ]
  },
  {
   "cell_type": "code",
   "execution_count": 39,
   "id": "f4c0a531",
   "metadata": {},
   "outputs": [],
   "source": [
    "class father:\n",
    "    \n",
    "    def house(self):\n",
    "        \n",
    "        return 'House is build by father'\n",
    "    \n",
    "    def car(self):\n",
    "        \n",
    "        return ' car is bought by father'"
   ]
  },
  {
   "cell_type": "code",
   "execution_count": 40,
   "id": "0bd2ecd4",
   "metadata": {},
   "outputs": [],
   "source": [
    "class mother:\n",
    "    \n",
    "    def farm(self):\n",
    "        \n",
    "        return 'Farm is owned by mother'"
   ]
  },
  {
   "cell_type": "code",
   "execution_count": 42,
   "id": "7327c14c",
   "metadata": {},
   "outputs": [],
   "source": [
    "class child(Grandparent ,father , mother):\n",
    "    \n",
    "    def house(self):\n",
    "        \n",
    "        return 'House is renowate by child'"
   ]
  },
  {
   "cell_type": "code",
   "execution_count": 43,
   "id": "3e374280",
   "metadata": {},
   "outputs": [],
   "source": [
    "c = child()"
   ]
  },
  {
   "cell_type": "code",
   "execution_count": 44,
   "id": "95b583e4",
   "metadata": {},
   "outputs": [
    {
     "data": {
      "text/plain": [
       "'House is renowate by child'"
      ]
     },
     "execution_count": 44,
     "metadata": {},
     "output_type": "execute_result"
    }
   ],
   "source": [
    "c.house()"
   ]
  },
  {
   "cell_type": "code",
   "execution_count": 45,
   "id": "b75e81d0",
   "metadata": {},
   "outputs": [
    {
     "data": {
      "text/plain": [
       "' car is bought by father'"
      ]
     },
     "execution_count": 45,
     "metadata": {},
     "output_type": "execute_result"
    }
   ],
   "source": [
    "c.car()"
   ]
  },
  {
   "cell_type": "code",
   "execution_count": 46,
   "id": "724a8d7d",
   "metadata": {},
   "outputs": [
    {
     "data": {
      "text/plain": [
       "'Farm is owned by mother'"
      ]
     },
     "execution_count": 46,
     "metadata": {},
     "output_type": "execute_result"
    }
   ],
   "source": [
    "c.farm()"
   ]
  },
  {
   "cell_type": "code",
   "execution_count": 47,
   "id": "1267c0d5",
   "metadata": {},
   "outputs": [
    {
     "data": {
      "text/plain": [
       "'shop is start by grandparents'"
      ]
     },
     "execution_count": 47,
     "metadata": {},
     "output_type": "execute_result"
    }
   ],
   "source": [
    "c.shop()"
   ]
  },
  {
   "cell_type": "markdown",
   "id": "f37290dc",
   "metadata": {},
   "source": [
    "Q4. What are getter and setter in python? Create a class and create a getter and a setter method in this\n",
    "class."
   ]
  },
  {
   "cell_type": "markdown",
   "id": "4b0b5c3a",
   "metadata": {},
   "source": [
    "Ans:\n",
    "    \n",
    "    Setter method :\n",
    "        \n",
    "        set a value of instance variable. That is called setter method.\n",
    "        \n",
    "        \n",
    "    Getter method :\n",
    "        \n",
    "        get a value of instance variable. That is called getter method\n",
    "    \n",
    "    "
   ]
  },
  {
   "cell_type": "code",
   "execution_count": 71,
   "id": "7aae4dca",
   "metadata": {},
   "outputs": [],
   "source": [
    "class  bank:\n",
    "    \n",
    "    def __init__(self , IFSC_code , Account_number):\n",
    "        \n",
    "        self.IFSC_code = IFSC_code\n",
    "        \n",
    "        self.Account_number = Account_number\n",
    "        \n",
    "        \n",
    "     # setter method   \n",
    "    def balance_details(self ,balance):\n",
    "        \n",
    "        self.balance = balance\n",
    "        \n",
    "     # getter method   \n",
    "    def check_balance(self):\n",
    "        \n",
    "        return self.balance"
   ]
  },
  {
   "cell_type": "code",
   "execution_count": 72,
   "id": "6f65d912",
   "metadata": {},
   "outputs": [],
   "source": [
    "b = bank(1212 , 9090)"
   ]
  },
  {
   "cell_type": "code",
   "execution_count": 73,
   "id": "8c669bf2",
   "metadata": {},
   "outputs": [],
   "source": [
    "b.balance_details(898989)"
   ]
  },
  {
   "cell_type": "code",
   "execution_count": 74,
   "id": "0046c6a4",
   "metadata": {},
   "outputs": [
    {
     "data": {
      "text/plain": [
       "898989"
      ]
     },
     "execution_count": 74,
     "metadata": {},
     "output_type": "execute_result"
    }
   ],
   "source": [
    "b.check_balance()"
   ]
  },
  {
   "cell_type": "markdown",
   "id": "a73b8dcb",
   "metadata": {},
   "source": [
    "Q5.What is method overriding in python? Write a python code to demonstrate method overriding."
   ]
  },
  {
   "cell_type": "markdown",
   "id": "c9a38140",
   "metadata": {},
   "source": [
    "Ans:"
   ]
  },
  {
   "cell_type": "markdown",
   "id": "ec0dec45",
   "metadata": {},
   "source": [
    "Method Overriding :\n",
    "    \n",
    "    Method Overriding is same method name with diffrent implementations.\n",
    "    \n",
    "    method override and constructor override is possible in python."
   ]
  },
  {
   "cell_type": "code",
   "execution_count": 79,
   "id": "252de11d",
   "metadata": {},
   "outputs": [],
   "source": [
    "class parent:\n",
    "    \n",
    "    def property(self):\n",
    "        \n",
    "        return 'she has good job as well as she is very good behaves with others'\n",
    "    \n",
    "    def marry(self):\n",
    "        \n",
    "        return 'marry with sanjana'"
   ]
  },
  {
   "cell_type": "code",
   "execution_count": 86,
   "id": "02426ab3",
   "metadata": {},
   "outputs": [],
   "source": [
    "class child(parent):\n",
    "    \n",
    "    \n",
    "    def marry(self):\n",
    "        \n",
    "        return 'I want marry with anushka . she has also very good job and she is very well respect for olders and she has very good manners.she is very cultured girl ,loving , caring ,supportive ,understanding, confident.'"
   ]
  },
  {
   "cell_type": "code",
   "execution_count": 87,
   "id": "9cd7f1e3",
   "metadata": {},
   "outputs": [],
   "source": [
    "c = child()"
   ]
  },
  {
   "cell_type": "code",
   "execution_count": 88,
   "id": "4d04717e",
   "metadata": {},
   "outputs": [
    {
     "data": {
      "text/plain": [
       "'I want marry with anushka . she has also very good job and she is very well respect for olders and she has very good manners.she is very cultured girl ,loving , caring ,supportive ,understanding, confident.'"
      ]
     },
     "execution_count": 88,
     "metadata": {},
     "output_type": "execute_result"
    }
   ],
   "source": [
    "c.marry()"
   ]
  }
 ],
 "metadata": {
  "kernelspec": {
   "display_name": "Python 3 (ipykernel)",
   "language": "python",
   "name": "python3"
  },
  "language_info": {
   "codemirror_mode": {
    "name": "ipython",
    "version": 3
   },
   "file_extension": ".py",
   "mimetype": "text/x-python",
   "name": "python",
   "nbconvert_exporter": "python",
   "pygments_lexer": "ipython3",
   "version": "3.9.7"
  }
 },
 "nbformat": 4,
 "nbformat_minor": 5
}
