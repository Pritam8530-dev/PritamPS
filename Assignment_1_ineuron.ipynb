{
 "cells": [
  {
   "cell_type": "markdown",
   "id": "374059be",
   "metadata": {},
   "source": [
    "# 1. In the below elements which of them are values or an expression? eg:- values can be integer or string and     #    expressions will be mathematical operators.\n",
    "\n",
    "\n",
    "# *\n",
    "\n",
    "\n",
    "# 'hello'\n",
    "\n",
    "# -87.8\n",
    "\n",
    "# -\n",
    "\n",
    "# /\n",
    "\n",
    "# +\n",
    "\n",
    "# 6\n",
    "\n"
   ]
  },
  {
   "cell_type": "markdown",
   "id": "ca53d7ac",
   "metadata": {},
   "source": [
    "Ans:\n",
    "\n",
    "\n",
    "     expressions: expressions are combination of operators and operands which interface another value.\n",
    "     \n",
    "                  eg: 1+2=3.\n",
    "                  \n",
    "                  This is arithmetic expression.\n",
    "  \n",
    "                  '+' is operator. it performs addition operation here and 2 ,3 are operands. which operates by \n",
    "                  \n",
    "                  operator to perform  function.\n",
    "    \n",
    "    \n",
    "     value : value is anything means it is integer , float , string, boolian.\n",
    "\n",
    "\n",
    "             1.* : it is star or astrisc. it is an operator or expression.\n",
    "             \n",
    "              \n",
    "                   eg : 10*10 = 100 .This is arithmetic expression.  when both operands are integer\n",
    "                   \n",
    "      \n",
    "                        pritam*2 = pritampritam. \n",
    "                        \n",
    "                        This is repetation operator . when any one operand is string and another one is int\n",
    "                        \n",
    "                        \n",
    "           \n",
    "             2.'hello' : it is value.but this is a string.\n",
    "\n",
    "\n",
    "             3.-87.8 : it is a value.but this is a float.\n",
    "\n",
    "\n",
    "             4.- : It is a substraction operator or expression .It is use in arithmetic expression.\n",
    "             \n",
    "                   eg : 10-5=5\n",
    "      \n",
    "      \n",
    "             5./ : It is a division operator.it is use in arithmetic expression.\n",
    "\n",
    "\n",
    "             6.+ :It is plus or addition operator .its is use in arithmetic expression.\n",
    "             \n",
    "\n",
    "             [7]  6 : It is a (6) value and it is integer.\n"
   ]
  },
  {
   "cell_type": "markdown",
   "id": "3a4a0150",
   "metadata": {},
   "source": [
    "# 2.What is the difference between string and variable?"
   ]
  },
  {
   "cell_type": "markdown",
   "id": "e931465a",
   "metadata": {},
   "source": [
    "Ans:\n",
    "\n",
    "         string : It is collection of characters . which enclosed in single quote or double quote.It is called \n",
    "         \n",
    "                  string.\n",
    "\n",
    "         variable : variable is nothing but it is hold a value or data or memory. It is used as to store data or \n",
    "        \n",
    "                   value or memory.\n",
    "          \n",
    "                   eg : a = 10.\n",
    "          \n",
    "                   'a' is variable and 10 is value or data or memory."
   ]
  },
  {
   "cell_type": "markdown",
   "id": "dbd2f780",
   "metadata": {},
   "source": [
    "# 3. Describe three different data types."
   ]
  },
  {
   "cell_type": "markdown",
   "id": "6c8f0f8b",
   "metadata": {},
   "source": [
    "Ans :\n",
    "\n",
    "        1.int : It is data type. which hold interger data.\n",
    "        \n",
    "        eg : a=10\n",
    "        \n",
    "        \n",
    "        2.float : It is float data type . which hold floating point data.\n",
    "        \n",
    "        eg : b = 10.5\n",
    "          \n",
    "          \n",
    "        3.complex : It is complex data type . which is combination of real and imaginary value.\n",
    "        \n",
    "        eg : c =10+20j\n",
    "           \n",
    "           \n",
    "        4. bool : It is boolian data type . which is store boolian value . is in form of True and False only.\n",
    "        \n",
    "                  eg : True = 1\n",
    "        \n",
    "                       False = 0\n",
    "               \n",
    "               \n",
    "        5. string : It is str data type . which is store string data. It is collection of characters which enclosed \n",
    "        \n",
    "                    by single quote or double quote.\n",
    "        \n",
    "                    eg : s=\"sudhanshu\"\n",
    "            \n",
    "            \n",
    "        6.list: It is collection of heterogenous elements. which having order preservation and allow indexing and \n",
    "        \n",
    "                allow duplicates and which enclose into square bracket .It is dynamic in nature means it is mutable\n",
    "                \n",
    "                one.\n",
    "                \n",
    "                eg : [1,1.2,1+2j,True,'Sudhanshu']\n",
    "        \n",
    "        \n",
    "        7.tuple: It is collection of heterogenous elements. which having order preservation and allow duplicates\n",
    "        \n",
    "                 and  which  enclose into curly braces .It is static in nature means it is immutable one.\n",
    "                 \n",
    "                 \n",
    "                 eg : (1,1.2,1+2j,True,'Sudhanshu')\n",
    "                 \n",
    "\n",
    "        8.set : It is collection of heterogenous elements . which does not having order preservation and does not \n",
    "        \n",
    "                indexing also and it does not allow duplicates and it is enclosed into dictionary braces {}. It is\n",
    "                \n",
    "                mutable one.\n",
    "                \n",
    "                eg : {1,1.2,1+2j,True,'Sudhanshu'}\n",
    "        \n",
    "        \n",
    "        9.Dict : It is mapping data structure . It is collection of key and value pair and seperated key and value\n",
    "        \n",
    "                 by coloun. key is not duplicate one. so,value should be duplicate. it is mutable .\n",
    "        \n",
    "                 eg: {'key1':'value1','key2':'value2'}"
   ]
  },
  {
   "cell_type": "markdown",
   "id": "a617ff6f",
   "metadata": {},
   "source": [
    "# 4. What is an expression made up of? What do all expressions do?"
   ]
  },
  {
   "cell_type": "markdown",
   "id": "bc590b14",
   "metadata": {},
   "source": [
    "Ans :\n",
    "\n",
    "\n",
    "                    Expression : Expression is nothing but it is combination of operators and operands .Interpret\n",
    "                   \n",
    "                                 it and produce a another value.\n",
    "\n",
    "\n",
    "                    1.Arithmetic Expression : Arithmetic expression is nothing but it evaluates oprands with \n",
    "                    \n",
    "                     arithmetic operators.\n",
    "                         \n",
    "                      eg : 10 + 20 = 30\n",
    "                         \n",
    "                          This is arithmetic operands.\n",
    "                         \n",
    "                         \n",
    "                    2.releational expression : It evaluates the the releation of two oprands.\n",
    "                    \n",
    "                    \n",
    "                       eg :   a=10\n",
    "                       \n",
    "                              b=20\n",
    "                                 \n",
    "                              a < b\n",
    "                                 \n",
    "                              This is releational expression.It shows releation.\n",
    "                              \n",
    "                                 \n",
    "                    3.Logical Expression : It evaluates logical expressions of oprands.\n",
    "                    \n",
    "                     \n",
    "                       and : both conditions are True then excute.\n",
    "                        \n",
    "                       or : any is True. then excute.\n",
    "\n",
    "                       eg : if p ==10 and q==10 : \n",
    "                                 \n",
    "                                print(p,q)\n",
    "                                 "
   ]
  },
  {
   "cell_type": "markdown",
   "id": "f9c66707",
   "metadata": {},
   "source": [
    "# 5. This assignment statements, like spam = 10. What is the difference between an expression and a statement?"
   ]
  },
  {
   "cell_type": "markdown",
   "id": "4f8e2847",
   "metadata": {},
   "source": [
    "Ans : \n",
    "\n",
    "      1.Expression : \n",
    "      \n",
    "                     Expression is combination of operators and operands and interface or produce new value.That is\n",
    "                     \n",
    "                     expression.\n",
    "                     \n",
    "                     eg:\n",
    "                     \n",
    "                         a=2+3=5 . \n",
    "                         \n",
    "                         This is arithmetic expression. it evaluates operands with operators and produce new value\n",
    "                         \n",
    "                         is 5.\n",
    "                         \n",
    "      2.statement : \n",
    "      \n",
    "                     statement is just execute a instruction or execute what states into it.\n",
    "                     \n",
    "                     eg : \n",
    "                         \n",
    "                         spam = 10.\n",
    "                         \n",
    "                         Here this is statement. so it states that or execute just spam = 10 (instruction)\n",
    "                         \n",
    "                         statement is nothing but just execute what states into it (instruction) or execute a  \n",
    "                         \n",
    "                         instruction only.\n",
    "                         "
   ]
  },
  {
   "cell_type": "markdown",
   "id": "472f100c",
   "metadata": {},
   "source": [
    "# 6. After running the following code, what does the variable bacon contain?\n",
    "\n",
    "bacon = 22\n",
    "\n",
    "bacon + 1"
   ]
  },
  {
   "cell_type": "markdown",
   "id": "9d0ea988",
   "metadata": {},
   "source": [
    "Ans:\n",
    "\n",
    "    bacon contain 22. we have bacon + 1 .but we did not assign variable or we did not update +1 in bacon so bacon\n",
    "    \n",
    "    contain only 22."
   ]
  },
  {
   "cell_type": "markdown",
   "id": "f83f914f",
   "metadata": {},
   "source": [
    "# 7. What should the values of the following two terms be?\n",
    "&#39;spam&#39; + &#39;spamspam&#39;\n",
    "&#39;spam&#39; * 3"
   ]
  },
  {
   "cell_type": "code",
   "execution_count": 7,
   "id": "3e447496",
   "metadata": {},
   "outputs": [
    {
     "data": {
      "text/plain": [
       "'spamspamspam'"
      ]
     },
     "execution_count": 7,
     "metadata": {},
     "output_type": "execute_result"
    }
   ],
   "source": [
    "'spam'+'spamspam'"
   ]
  },
  {
   "cell_type": "code",
   "execution_count": 8,
   "id": "0b7b80e9",
   "metadata": {},
   "outputs": [
    {
     "data": {
      "text/plain": [
       "'spam*3'"
      ]
     },
     "execution_count": 8,
     "metadata": {},
     "output_type": "execute_result"
    }
   ],
   "source": [
    "'spam*3'"
   ]
  },
  {
   "cell_type": "markdown",
   "id": "4f0be093",
   "metadata": {},
   "source": [
    "# 8. Why is eggs a valid variable name while 100 is invalid?"
   ]
  },
  {
   "cell_type": "markdown",
   "id": "e86ee33d",
   "metadata": {},
   "source": [
    "Ans:\n",
    "\n",
    "    variable name can not start with integer"
   ]
  },
  {
   "cell_type": "markdown",
   "id": "35c4d0fb",
   "metadata": {},
   "source": [
    "# 9. What three functions can be used to get the integer, floating-point number, or string version of a value?"
   ]
  },
  {
   "cell_type": "markdown",
   "id": "bb43a07b",
   "metadata": {},
   "source": [
    "Ans :\n",
    "\n",
    "    1. for integer value we used int() function.\n",
    "    \n",
    "    2. for floating-point number we are used float() function.\n",
    "    \n",
    "    3. for string . we are used used str() function."
   ]
  },
  {
   "cell_type": "markdown",
   "id": "78b017d2",
   "metadata": {},
   "source": [
    "# 10. Why does this expression cause an error? How can you fix it?\n",
    "# &#39;I have eaten &#39; + 99 + &#39; burritos.&#39;"
   ]
  },
  {
   "cell_type": "code",
   "execution_count": 4,
   "id": "d3f37564",
   "metadata": {},
   "outputs": [
    {
     "data": {
      "text/plain": [
       "'I have eaten 99 burritos.'"
      ]
     },
     "execution_count": 4,
     "metadata": {},
     "output_type": "execute_result"
    }
   ],
   "source": [
    "'I have eaten ' + '99' + ' burritos.'"
   ]
  },
  {
   "cell_type": "markdown",
   "id": "13950c16",
   "metadata": {},
   "source": [
    "Ans:\n",
    "     \n",
    "     'I have eaten 99 burritos.'\n",
    "\n",
    "\n",
    "     Here we '+' (concatenation) operator are used so it get used when  operands should be in string only. so as  \n",
    "     \n",
    "     per my knowledge I made that 99 (integer) into string."
   ]
  }
 ],
 "metadata": {
  "kernelspec": {
   "display_name": "Python 3 (ipykernel)",
   "language": "python",
   "name": "python3"
  },
  "language_info": {
   "codemirror_mode": {
    "name": "ipython",
    "version": 3
   },
   "file_extension": ".py",
   "mimetype": "text/x-python",
   "name": "python",
   "nbconvert_exporter": "python",
   "pygments_lexer": "ipython3",
   "version": "3.9.7"
  }
 },
 "nbformat": 4,
 "nbformat_minor": 5
}
